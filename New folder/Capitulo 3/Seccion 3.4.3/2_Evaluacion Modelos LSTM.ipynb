{
 "cells": [
  {
   "cell_type": "markdown",
   "metadata": {},
   "source": [
    "# 2. Evaluacion modelos de clasificacion binaria Redes LSTM\n",
    "***\n"
   ]
  },
  {
   "cell_type": "markdown",
   "metadata": {},
   "source": [
    "### Caso de estudio #3\n"
   ]
  },
  {
   "cell_type": "markdown",
   "metadata": {},
   "source": [
    "### Tecnicas de ajuste de los datos y modelos:\n",
    "\n",
    "| Ingeniería de datos       | Si / No       |\n",
    "| :-------                  | :------:    |\n",
    "| Escalado de datos         | Si          |\n",
    "| Ajuste de arquitectura | Si         |\n",
    "| Sobremuestreo             | No          |\n",
    "| Ajuste de pesos de clase  | No          |\n",
    "\n"
   ]
  },
  {
   "cell_type": "code",
   "execution_count": 1,
   "metadata": {},
   "outputs": [
    {
     "name": "stderr",
     "output_type": "stream",
     "text": [
      "Using TensorFlow backend.\n"
     ]
    },
    {
     "name": "stdout",
     "output_type": "stream",
     "text": [
      "WARNING:tensorflow:From C:\\Users\\alexh\\Anaconda3\\lib\\site-packages\\keras\\backend\\tensorflow_backend.py:95: The name tf.reset_default_graph is deprecated. Please use tf.compat.v1.reset_default_graph instead.\n",
      "\n",
      "WARNING:tensorflow:From C:\\Users\\alexh\\Anaconda3\\lib\\site-packages\\keras\\backend\\tensorflow_backend.py:98: The name tf.placeholder_with_default is deprecated. Please use tf.compat.v1.placeholder_with_default instead.\n",
      "\n",
      "WARNING:tensorflow:From C:\\Users\\alexh\\Anaconda3\\lib\\site-packages\\keras\\backend\\tensorflow_backend.py:102: The name tf.get_default_graph is deprecated. Please use tf.compat.v1.get_default_graph instead.\n",
      "\n"
     ]
    }
   ],
   "source": [
    "# librerias\n",
    "import numpy as np\n",
    "import math\n",
    "import pandas as pd\n",
    "import matplotlib as mpl\n",
    "import matplotlib.pyplot as plt\n",
    "plt.style.use('classic')\n",
    "%matplotlib inline\n",
    "import seaborn as sns\n",
    "\n",
    "from scipy.io import loadmat\n",
    "import pandas_profiling\n",
    "\n",
    "from numpy.random import seed\n",
    "seed(0)\n",
    "\n",
    " \n",
    "from sklearn.preprocessing import MinMaxScaler\n",
    "from sklearn.metrics import confusion_matrix,accuracy_score\n",
    "import keras\n",
    "from keras.models import Sequential\n",
    "from keras.layers import Dense, Dropout, LSTM, Activation\n",
    "from keras.callbacks import EarlyStopping\n",
    "from sklearn.metrics import confusion_matrix, recall_score, precision_score\n",
    "from sklearn.metrics import confusion_matrix\n",
    "from sklearn import metrics\n",
    "from sklearn.metrics import make_scorer, accuracy_score\n",
    "from plot_metric.functions import BinaryClassification\n",
    "from sklearn.metrics import classification_report\n",
    "from sklearn import preprocessing\n",
    "\n",
    "keras.backend.clear_session()\n",
    "import gc\n",
    "gc.collect()\n",
    "\n",
    "import os\n",
    "import h5py\n",
    "from sklearn import datasets \n",
    "from keras.models import model_from_json\n",
    "\n",
    "from numba import cuda\n",
    "from keras import backend as K\n",
    "from sklearn.metrics import classification_report\n",
    "\n",
    "from matplotlib import pyplot\n",
    "\n",
    "from keras.models import load_model\n",
    "from sklearn.preprocessing import MinMaxScaler\n",
    "from sklearn.model_selection import train_test_split\n",
    "from yellowbrick.classifier import ConfusionMatrix\n",
    "\n",
    "\n"
   ]
  },
  {
   "cell_type": "code",
   "execution_count": 2,
   "metadata": {},
   "outputs": [],
   "source": [
    "# BINARIA funcion para generar matriz de confusion y medidas de desempeño del modelos clasificacion binarios\n",
    "def model_evaluation(data_train, label_train, data_test, label_test, modelo, label_pred):\n",
    "    print('\\n')\n",
    "    print(\"MATRIZ DE CONFUSION\")\n",
    "    print('\\n')\n",
    "    matriz = confusion_matrix(label_test, label_pred)\n",
    "    print(matriz)\n",
    "    \n",
    "    # Medidas de desempeño del modelo\n",
    "    print('\\n')\n",
    "    print(\"MEDIDAS DE DESEMPEÑO DEL MODELO\")\n",
    "    print('\\n')\n",
    "    print('Exactitud - Accuracy: {}'.format(modelo.score(data_test, label_test)))\n",
    "    print('ROC AUC: {}'.format (metrics.roc_auc_score(label_test, label_pred)))\n",
    "    print('-'*60)\n",
    "    print('Precisión por clase: {}'.format(metrics.precision_score(label_test, label_pred, average=None)))\n",
    "    print('Sensibilidad - Recall por clase: {}'.format(metrics.recall_score(label_test, label_pred, average=None)))\n",
    "    print('F1 por clase: {}'.format(metrics.f1_score(label_test, label_pred, average=None)))\n",
    "    print('-'*60)\n",
    "    print('F1 Macro: {}'.format(metrics.f1_score(label_test, label_pred, average='macro')))\n",
    "    print('F1 Micro: {}'.format(metrics.f1_score(label_test, label_pred, average='micro')))\n",
    "    print('F1 Weighted: {}'.format(metrics.f1_score(label_test, label_pred, average='weighted')))\n",
    "    print('-'*60)\n",
    "    print('Sensibilidad - Recall Macro: {}'.format(metrics.recall_score(label_test, label_pred, average='macro')))\n",
    "    print('Sensibilidad - Recall Micro: {}'.format(metrics.recall_score(label_test, label_pred, average='micro')))\n",
    "    print('Sensibilidad - Recall Weighted: {}'.format(metrics.recall_score(label_test, label_pred, average='weighted')))\n",
    "    print('-'*60)\n",
    "    print('Precisión Macro: {}'.format(metrics.precision_score(label_test, label_pred, average='macro')))\n",
    "    print('Precisión Micro: {}'.format(metrics.precision_score(label_test, label_pred, average='micro')))\n",
    "    print('Precisión Weighted: {}'.format(metrics.precision_score(label_test, label_pred, average='weighted')))\n",
    "    \n",
    "    TP = matriz[1][1]\n",
    "    TN = matriz[0][0]\n",
    "    FP = matriz[0][1]\n",
    "    FN = matriz[1][0]\n",
    "    print('-'*60)\n",
    "    print('Verdaderos positivos - True Positives:', TP)\n",
    "    print('Verdaderos negativos - True Negatives:', TN)\n",
    "    print('Falsos positivos - False Positives:', FP)\n",
    "    print('Falsos negativos - False Negatives:', FN)\n",
    "        # calculate accuracy\n",
    "    conf_accuracy = (float (TP+TN) / float(TP + TN + FP + FN))\n",
    "        # calculate mis-classification\n",
    "    conf_misclassification = 1- conf_accuracy\n",
    "        # calculate the sensitivity\n",
    "    conf_sensitivity = (TP / float(TP + FN))\n",
    "        # calculate the specificity\n",
    "    conf_specificity = (TN / float(TN + FN))\n",
    "        # calculate precision\n",
    "    conf_precision = (TP / float(TP + FP))\n",
    "        # calculate f_1 score\n",
    "    conf_f1 = 2 * ((conf_precision * conf_sensitivity) / (conf_precision + conf_sensitivity))\n",
    "        # calculate FPR tasa de falsos positivos\n",
    "    conf_FPR = 1 - conf_specificity\n",
    "    print('-'*60)\n",
    "    print(f'Error de clasificacion: {round(conf_misclassification,3)}') \n",
    "    print(f'Especificidad - Specificity: {round(conf_specificity,3)}') \n",
    "    print(f'Tasa de falsos positivos FPR: {round(conf_FPR,3)}')\n",
    "    print('-'*60)\n",
    "   \n",
    "    print(classification_report(label_test, label_pred))\n",
    "    # curva ROC clasificacion binaria\n",
    "    bc = BinaryClassification(label_test, label_pred, labels=[\"Class 0\", \"Class 1\"])\n",
    "    plt.figure(figsize=(5,5))\n",
    "    bc.plot_roc_curve()\n",
    "    print('\\n')\n",
    "    print(\"CURVA ROC\")\n",
    "    plt.show()"
   ]
  },
  {
   "cell_type": "code",
   "execution_count": 3,
   "metadata": {},
   "outputs": [],
   "source": [
    "def history_plot(hist1, hist2, title, ylabl, xlabl):\n",
    "    fig_acc = plt.figure(figsize=(12,4))\n",
    "    plt.plot(history.history[hist1])\n",
    "    plt.plot(history.history[hist2])\n",
    "    plt.title(title)\n",
    "    plt.ylabel(ylabl)\n",
    "    plt.xlabel(xlabl)\n",
    "    plt.legend(['train', 'validation'], loc='upper left')\n",
    "    return plt"
   ]
  },
  {
   "cell_type": "markdown",
   "metadata": {},
   "source": [
    "## Datos rodamiento en estado saludable"
   ]
  },
  {
   "cell_type": "code",
   "execution_count": 4,
   "metadata": {},
   "outputs": [],
   "source": [
    "# importar datos de archivo matlab\n",
    "HA1 = loadmat (r'D:\\alexh\\Documents\\Maestria en estadistica\\proyecto de grado\\bases de datos vibraciones\\rodamientos variando velocidad\\datos de vibraciones\\H-A-1.mat')"
   ]
  },
  {
   "cell_type": "code",
   "execution_count": 5,
   "metadata": {},
   "outputs": [
    {
     "data": {
      "text/plain": [
       "{'__header__': b'MATLAB 5.0 MAT-file, Platform: PCWIN64, Created on: Tue Oct 09 15:18:50 2018',\n",
       " '__version__': '1.0',\n",
       " '__globals__': [],\n",
       " 'Channel_1': array([[-0.00219944],\n",
       "        [-0.0018706 ],\n",
       "        [-0.00154175],\n",
       "        ...,\n",
       "        [ 0.00963905],\n",
       "        [ 0.0093102 ],\n",
       "        [ 0.00898136]]),\n",
       " 'Channel_2': array([[4.18876708],\n",
       "        [4.20060302],\n",
       "        [4.20816487],\n",
       "        ...,\n",
       "        [0.03700339],\n",
       "        [0.03634584],\n",
       "        [4.14010822]])}"
      ]
     },
     "execution_count": 5,
     "metadata": {},
     "output_type": "execute_result"
    }
   ],
   "source": [
    "HA1"
   ]
  },
  {
   "cell_type": "code",
   "execution_count": 6,
   "metadata": {},
   "outputs": [
    {
     "data": {
      "text/plain": [
       "dict_keys(['__header__', '__version__', '__globals__', 'Channel_1', 'Channel_2'])"
      ]
     },
     "execution_count": 6,
     "metadata": {},
     "output_type": "execute_result"
    }
   ],
   "source": [
    "HA1.keys()"
   ]
  },
  {
   "cell_type": "code",
   "execution_count": 7,
   "metadata": {},
   "outputs": [
    {
     "data": {
      "text/html": [
       "<div>\n",
       "<style scoped>\n",
       "    .dataframe tbody tr th:only-of-type {\n",
       "        vertical-align: middle;\n",
       "    }\n",
       "\n",
       "    .dataframe tbody tr th {\n",
       "        vertical-align: top;\n",
       "    }\n",
       "\n",
       "    .dataframe thead th {\n",
       "        text-align: right;\n",
       "    }\n",
       "</style>\n",
       "<table border=\"1\" class=\"dataframe\">\n",
       "  <thead>\n",
       "    <tr style=\"text-align: right;\">\n",
       "      <th></th>\n",
       "      <th>aceleracion</th>\n",
       "    </tr>\n",
       "  </thead>\n",
       "  <tbody>\n",
       "    <tr>\n",
       "      <th>0</th>\n",
       "      <td>-0.002199</td>\n",
       "    </tr>\n",
       "    <tr>\n",
       "      <th>1</th>\n",
       "      <td>-0.001871</td>\n",
       "    </tr>\n",
       "    <tr>\n",
       "      <th>2</th>\n",
       "      <td>-0.001542</td>\n",
       "    </tr>\n",
       "    <tr>\n",
       "      <th>3</th>\n",
       "      <td>-0.001871</td>\n",
       "    </tr>\n",
       "    <tr>\n",
       "      <th>4</th>\n",
       "      <td>-0.002199</td>\n",
       "    </tr>\n",
       "  </tbody>\n",
       "</table>\n",
       "</div>"
      ],
      "text/plain": [
       "   aceleracion\n",
       "0    -0.002199\n",
       "1    -0.001871\n",
       "2    -0.001542\n",
       "3    -0.001871\n",
       "4    -0.002199"
      ]
     },
     "execution_count": 7,
     "metadata": {},
     "output_type": "execute_result"
    }
   ],
   "source": [
    "HA11=pd.DataFrame(HA1['Channel_1'], columns = ['aceleracion'])\n",
    "HA11.head()"
   ]
  },
  {
   "cell_type": "code",
   "execution_count": 8,
   "metadata": {},
   "outputs": [
    {
     "data": {
      "text/html": [
       "<div>\n",
       "<style scoped>\n",
       "    .dataframe tbody tr th:only-of-type {\n",
       "        vertical-align: middle;\n",
       "    }\n",
       "\n",
       "    .dataframe tbody tr th {\n",
       "        vertical-align: top;\n",
       "    }\n",
       "\n",
       "    .dataframe thead th {\n",
       "        text-align: right;\n",
       "    }\n",
       "</style>\n",
       "<table border=\"1\" class=\"dataframe\">\n",
       "  <thead>\n",
       "    <tr style=\"text-align: right;\">\n",
       "      <th></th>\n",
       "      <th>velocidad</th>\n",
       "    </tr>\n",
       "  </thead>\n",
       "  <tbody>\n",
       "    <tr>\n",
       "      <th>0</th>\n",
       "      <td>4.188767</td>\n",
       "    </tr>\n",
       "    <tr>\n",
       "      <th>1</th>\n",
       "      <td>4.200603</td>\n",
       "    </tr>\n",
       "    <tr>\n",
       "      <th>2</th>\n",
       "      <td>4.208165</td>\n",
       "    </tr>\n",
       "    <tr>\n",
       "      <th>3</th>\n",
       "      <td>4.226576</td>\n",
       "    </tr>\n",
       "    <tr>\n",
       "      <th>4</th>\n",
       "      <td>4.240385</td>\n",
       "    </tr>\n",
       "  </tbody>\n",
       "</table>\n",
       "</div>"
      ],
      "text/plain": [
       "   velocidad\n",
       "0   4.188767\n",
       "1   4.200603\n",
       "2   4.208165\n",
       "3   4.226576\n",
       "4   4.240385"
      ]
     },
     "execution_count": 8,
     "metadata": {},
     "output_type": "execute_result"
    }
   ],
   "source": [
    "HA12=pd.DataFrame(HA1['Channel_2'], columns = ['velocidad'])\n",
    "HA12.head()"
   ]
  },
  {
   "cell_type": "code",
   "execution_count": 9,
   "metadata": {},
   "outputs": [
    {
     "data": {
      "text/html": [
       "<div>\n",
       "<style scoped>\n",
       "    .dataframe tbody tr th:only-of-type {\n",
       "        vertical-align: middle;\n",
       "    }\n",
       "\n",
       "    .dataframe tbody tr th {\n",
       "        vertical-align: top;\n",
       "    }\n",
       "\n",
       "    .dataframe thead th {\n",
       "        text-align: right;\n",
       "    }\n",
       "</style>\n",
       "<table border=\"1\" class=\"dataframe\">\n",
       "  <thead>\n",
       "    <tr style=\"text-align: right;\">\n",
       "      <th></th>\n",
       "      <th>aceleracion</th>\n",
       "      <th>velocidad</th>\n",
       "    </tr>\n",
       "  </thead>\n",
       "  <tbody>\n",
       "    <tr>\n",
       "      <th>0</th>\n",
       "      <td>-0.002199</td>\n",
       "      <td>4.188767</td>\n",
       "    </tr>\n",
       "    <tr>\n",
       "      <th>1</th>\n",
       "      <td>-0.001871</td>\n",
       "      <td>4.200603</td>\n",
       "    </tr>\n",
       "    <tr>\n",
       "      <th>2</th>\n",
       "      <td>-0.001542</td>\n",
       "      <td>4.208165</td>\n",
       "    </tr>\n",
       "    <tr>\n",
       "      <th>3</th>\n",
       "      <td>-0.001871</td>\n",
       "      <td>4.226576</td>\n",
       "    </tr>\n",
       "    <tr>\n",
       "      <th>4</th>\n",
       "      <td>-0.002199</td>\n",
       "      <td>4.240385</td>\n",
       "    </tr>\n",
       "  </tbody>\n",
       "</table>\n",
       "</div>"
      ],
      "text/plain": [
       "   aceleracion  velocidad\n",
       "0    -0.002199   4.188767\n",
       "1    -0.001871   4.200603\n",
       "2    -0.001542   4.208165\n",
       "3    -0.001871   4.226576\n",
       "4    -0.002199   4.240385"
      ]
     },
     "execution_count": 9,
     "metadata": {},
     "output_type": "execute_result"
    }
   ],
   "source": [
    "# concatenar los dos DF\n",
    "\n",
    "H1train = pd.concat([HA11, HA12], axis=1, sort=False)\n",
    "H1train.head()"
   ]
  },
  {
   "cell_type": "code",
   "execution_count": 10,
   "metadata": {},
   "outputs": [
    {
     "name": "stdout",
     "output_type": "stream",
     "text": [
      "numero de dimensiones = 2\n",
      "tamaño de la tabla  = (2000000, 2)\n",
      "total datos = 4000000\n"
     ]
    }
   ],
   "source": [
    "print(\"numero de dimensiones =\", H1train.ndim)\n",
    "print(\"tamaño de la tabla  =\", H1train.shape)\n",
    "print(\"total datos =\", H1train.size)"
   ]
  },
  {
   "cell_type": "code",
   "execution_count": 11,
   "metadata": {},
   "outputs": [
    {
     "data": {
      "text/plain": [
       "aceleracion    False\n",
       "velocidad      False\n",
       "dtype: bool"
      ]
     },
     "execution_count": 11,
     "metadata": {},
     "output_type": "execute_result"
    }
   ],
   "source": [
    "#hallar si hay nul o NaN\n",
    "H1train.isnull().any()"
   ]
  },
  {
   "cell_type": "code",
   "execution_count": 12,
   "metadata": {},
   "outputs": [
    {
     "data": {
      "text/plain": [
       "aceleracion    False\n",
       "velocidad      False\n",
       "dtype: bool"
      ]
     },
     "execution_count": 12,
     "metadata": {},
     "output_type": "execute_result"
    }
   ],
   "source": [
    "H1train.isna().any()"
   ]
  },
  {
   "cell_type": "code",
   "execution_count": 13,
   "metadata": {},
   "outputs": [
    {
     "data": {
      "text/plain": [
       "aceleracion    0\n",
       "velocidad      0\n",
       "dtype: int64"
      ]
     },
     "execution_count": 13,
     "metadata": {},
     "output_type": "execute_result"
    }
   ],
   "source": [
    "H1train.isnull().sum()"
   ]
  },
  {
   "cell_type": "markdown",
   "metadata": {},
   "source": [
    "## Etiquetado de datos"
   ]
  },
  {
   "cell_type": "code",
   "execution_count": 14,
   "metadata": {},
   "outputs": [
    {
     "data": {
      "text/html": [
       "<div>\n",
       "<style scoped>\n",
       "    .dataframe tbody tr th:only-of-type {\n",
       "        vertical-align: middle;\n",
       "    }\n",
       "\n",
       "    .dataframe tbody tr th {\n",
       "        vertical-align: top;\n",
       "    }\n",
       "\n",
       "    .dataframe thead th {\n",
       "        text-align: right;\n",
       "    }\n",
       "</style>\n",
       "<table border=\"1\" class=\"dataframe\">\n",
       "  <thead>\n",
       "    <tr style=\"text-align: right;\">\n",
       "      <th></th>\n",
       "      <th>aceleracion</th>\n",
       "      <th>velocidad</th>\n",
       "    </tr>\n",
       "  </thead>\n",
       "  <tbody>\n",
       "    <tr>\n",
       "      <th>0</th>\n",
       "      <td>-0.002199</td>\n",
       "      <td>4.188767</td>\n",
       "    </tr>\n",
       "    <tr>\n",
       "      <th>1</th>\n",
       "      <td>-0.001871</td>\n",
       "      <td>4.200603</td>\n",
       "    </tr>\n",
       "    <tr>\n",
       "      <th>2</th>\n",
       "      <td>-0.001542</td>\n",
       "      <td>4.208165</td>\n",
       "    </tr>\n",
       "    <tr>\n",
       "      <th>3</th>\n",
       "      <td>-0.001871</td>\n",
       "      <td>4.226576</td>\n",
       "    </tr>\n",
       "    <tr>\n",
       "      <th>4</th>\n",
       "      <td>-0.002199</td>\n",
       "      <td>4.240385</td>\n",
       "    </tr>\n",
       "  </tbody>\n",
       "</table>\n",
       "</div>"
      ],
      "text/plain": [
       "   aceleracion  velocidad\n",
       "0    -0.002199   4.188767\n",
       "1    -0.001871   4.200603\n",
       "2    -0.001542   4.208165\n",
       "3    -0.001871   4.226576\n",
       "4    -0.002199   4.240385"
      ]
     },
     "execution_count": 14,
     "metadata": {},
     "output_type": "execute_result"
    }
   ],
   "source": [
    "H1train.head()"
   ]
  },
  {
   "cell_type": "code",
   "execution_count": 15,
   "metadata": {},
   "outputs": [
    {
     "data": {
      "text/html": [
       "<div>\n",
       "<style scoped>\n",
       "    .dataframe tbody tr th:only-of-type {\n",
       "        vertical-align: middle;\n",
       "    }\n",
       "\n",
       "    .dataframe tbody tr th {\n",
       "        vertical-align: top;\n",
       "    }\n",
       "\n",
       "    .dataframe thead th {\n",
       "        text-align: right;\n",
       "    }\n",
       "</style>\n",
       "<table border=\"1\" class=\"dataframe\">\n",
       "  <thead>\n",
       "    <tr style=\"text-align: right;\">\n",
       "      <th></th>\n",
       "      <th>aceleracion</th>\n",
       "      <th>velocidad</th>\n",
       "      <th>falla</th>\n",
       "    </tr>\n",
       "  </thead>\n",
       "  <tbody>\n",
       "    <tr>\n",
       "      <th>0</th>\n",
       "      <td>-0.002199</td>\n",
       "      <td>4.188767</td>\n",
       "      <td>0</td>\n",
       "    </tr>\n",
       "    <tr>\n",
       "      <th>1</th>\n",
       "      <td>-0.001871</td>\n",
       "      <td>4.200603</td>\n",
       "      <td>0</td>\n",
       "    </tr>\n",
       "    <tr>\n",
       "      <th>2</th>\n",
       "      <td>-0.001542</td>\n",
       "      <td>4.208165</td>\n",
       "      <td>0</td>\n",
       "    </tr>\n",
       "    <tr>\n",
       "      <th>3</th>\n",
       "      <td>-0.001871</td>\n",
       "      <td>4.226576</td>\n",
       "      <td>0</td>\n",
       "    </tr>\n",
       "    <tr>\n",
       "      <th>4</th>\n",
       "      <td>-0.002199</td>\n",
       "      <td>4.240385</td>\n",
       "      <td>0</td>\n",
       "    </tr>\n",
       "  </tbody>\n",
       "</table>\n",
       "</div>"
      ],
      "text/plain": [
       "   aceleracion  velocidad  falla\n",
       "0    -0.002199   4.188767      0\n",
       "1    -0.001871   4.200603      0\n",
       "2    -0.001542   4.208165      0\n",
       "3    -0.001871   4.226576      0\n",
       "4    -0.002199   4.240385      0"
      ]
     },
     "execution_count": 15,
     "metadata": {},
     "output_type": "execute_result"
    }
   ],
   "source": [
    "H1train['falla'] = 0\n",
    "H1train.head()"
   ]
  },
  {
   "cell_type": "code",
   "execution_count": 16,
   "metadata": {},
   "outputs": [
    {
     "data": {
      "text/html": [
       "<div>\n",
       "<style scoped>\n",
       "    .dataframe tbody tr th:only-of-type {\n",
       "        vertical-align: middle;\n",
       "    }\n",
       "\n",
       "    .dataframe tbody tr th {\n",
       "        vertical-align: top;\n",
       "    }\n",
       "\n",
       "    .dataframe thead th {\n",
       "        text-align: right;\n",
       "    }\n",
       "</style>\n",
       "<table border=\"1\" class=\"dataframe\">\n",
       "  <thead>\n",
       "    <tr style=\"text-align: right;\">\n",
       "      <th></th>\n",
       "      <th>id</th>\n",
       "      <th>aceleracion</th>\n",
       "      <th>velocidad</th>\n",
       "      <th>falla</th>\n",
       "    </tr>\n",
       "  </thead>\n",
       "  <tbody>\n",
       "    <tr>\n",
       "      <th>0</th>\n",
       "      <td>1</td>\n",
       "      <td>-0.002199</td>\n",
       "      <td>4.188767</td>\n",
       "      <td>0</td>\n",
       "    </tr>\n",
       "    <tr>\n",
       "      <th>1</th>\n",
       "      <td>1</td>\n",
       "      <td>-0.001871</td>\n",
       "      <td>4.200603</td>\n",
       "      <td>0</td>\n",
       "    </tr>\n",
       "    <tr>\n",
       "      <th>2</th>\n",
       "      <td>1</td>\n",
       "      <td>-0.001542</td>\n",
       "      <td>4.208165</td>\n",
       "      <td>0</td>\n",
       "    </tr>\n",
       "    <tr>\n",
       "      <th>3</th>\n",
       "      <td>1</td>\n",
       "      <td>-0.001871</td>\n",
       "      <td>4.226576</td>\n",
       "      <td>0</td>\n",
       "    </tr>\n",
       "    <tr>\n",
       "      <th>4</th>\n",
       "      <td>1</td>\n",
       "      <td>-0.002199</td>\n",
       "      <td>4.240385</td>\n",
       "      <td>0</td>\n",
       "    </tr>\n",
       "  </tbody>\n",
       "</table>\n",
       "</div>"
      ],
      "text/plain": [
       "   id  aceleracion  velocidad  falla\n",
       "0   1    -0.002199   4.188767      0\n",
       "1   1    -0.001871   4.200603      0\n",
       "2   1    -0.001542   4.208165      0\n",
       "3   1    -0.001871   4.226576      0\n",
       "4   1    -0.002199   4.240385      0"
      ]
     },
     "execution_count": 16,
     "metadata": {},
     "output_type": "execute_result"
    }
   ],
   "source": [
    "H1train.insert(0, 'id', 1)\n",
    "H1train.head()"
   ]
  },
  {
   "cell_type": "code",
   "execution_count": 17,
   "metadata": {},
   "outputs": [],
   "source": [
    "# importar datos de archivo matlab\n",
    "HA3 = loadmat (r'D:\\alexh\\Documents\\Maestria en estadistica\\proyecto de grado\\bases de datos vibraciones\\rodamientos variando velocidad\\datos de vibraciones\\H-A-3.mat')"
   ]
  },
  {
   "cell_type": "code",
   "execution_count": 18,
   "metadata": {},
   "outputs": [
    {
     "data": {
      "text/plain": [
       "{'__header__': b'MATLAB 5.0 MAT-file, Platform: PCWIN64, Created on: Tue Oct 09 15:21:21 2018',\n",
       " '__version__': '1.0',\n",
       " '__globals__': [],\n",
       " 'Channel_1': array([[ 0.00174672],\n",
       "        [ 0.00076018],\n",
       "        [-0.00450137],\n",
       "        ...,\n",
       "        [ 0.02706795],\n",
       "        [ 0.02969873],\n",
       "        [ 0.02871218]]),\n",
       " 'Channel_2': array([[0.03667461],\n",
       "        [0.02812651],\n",
       "        [0.03634584],\n",
       "        ...,\n",
       "        [4.27293377],\n",
       "        [0.03700339],\n",
       "        [0.03667461]])}"
      ]
     },
     "execution_count": 18,
     "metadata": {},
     "output_type": "execute_result"
    }
   ],
   "source": [
    "HA3"
   ]
  },
  {
   "cell_type": "code",
   "execution_count": 19,
   "metadata": {},
   "outputs": [
    {
     "data": {
      "text/plain": [
       "dict_keys(['__header__', '__version__', '__globals__', 'Channel_1', 'Channel_2'])"
      ]
     },
     "execution_count": 19,
     "metadata": {},
     "output_type": "execute_result"
    }
   ],
   "source": [
    "HA3.keys()"
   ]
  },
  {
   "cell_type": "code",
   "execution_count": 20,
   "metadata": {},
   "outputs": [
    {
     "data": {
      "text/html": [
       "<div>\n",
       "<style scoped>\n",
       "    .dataframe tbody tr th:only-of-type {\n",
       "        vertical-align: middle;\n",
       "    }\n",
       "\n",
       "    .dataframe tbody tr th {\n",
       "        vertical-align: top;\n",
       "    }\n",
       "\n",
       "    .dataframe thead th {\n",
       "        text-align: right;\n",
       "    }\n",
       "</style>\n",
       "<table border=\"1\" class=\"dataframe\">\n",
       "  <thead>\n",
       "    <tr style=\"text-align: right;\">\n",
       "      <th></th>\n",
       "      <th>aceleracion</th>\n",
       "    </tr>\n",
       "  </thead>\n",
       "  <tbody>\n",
       "    <tr>\n",
       "      <th>0</th>\n",
       "      <td>0.001747</td>\n",
       "    </tr>\n",
       "    <tr>\n",
       "      <th>1</th>\n",
       "      <td>0.000760</td>\n",
       "    </tr>\n",
       "    <tr>\n",
       "      <th>2</th>\n",
       "      <td>-0.004501</td>\n",
       "    </tr>\n",
       "    <tr>\n",
       "      <th>3</th>\n",
       "      <td>0.000102</td>\n",
       "    </tr>\n",
       "    <tr>\n",
       "      <th>4</th>\n",
       "      <td>0.002404</td>\n",
       "    </tr>\n",
       "  </tbody>\n",
       "</table>\n",
       "</div>"
      ],
      "text/plain": [
       "   aceleracion\n",
       "0     0.001747\n",
       "1     0.000760\n",
       "2    -0.004501\n",
       "3     0.000102\n",
       "4     0.002404"
      ]
     },
     "execution_count": 20,
     "metadata": {},
     "output_type": "execute_result"
    }
   ],
   "source": [
    "HA31=pd.DataFrame(HA3['Channel_1'], columns = ['aceleracion'])\n",
    "HA31.head()"
   ]
  },
  {
   "cell_type": "code",
   "execution_count": 21,
   "metadata": {},
   "outputs": [
    {
     "data": {
      "text/html": [
       "<div>\n",
       "<style scoped>\n",
       "    .dataframe tbody tr th:only-of-type {\n",
       "        vertical-align: middle;\n",
       "    }\n",
       "\n",
       "    .dataframe tbody tr th {\n",
       "        vertical-align: top;\n",
       "    }\n",
       "\n",
       "    .dataframe thead th {\n",
       "        text-align: right;\n",
       "    }\n",
       "</style>\n",
       "<table border=\"1\" class=\"dataframe\">\n",
       "  <thead>\n",
       "    <tr style=\"text-align: right;\">\n",
       "      <th></th>\n",
       "      <th>velocidad</th>\n",
       "    </tr>\n",
       "  </thead>\n",
       "  <tbody>\n",
       "    <tr>\n",
       "      <th>0</th>\n",
       "      <td>0.036675</td>\n",
       "    </tr>\n",
       "    <tr>\n",
       "      <th>1</th>\n",
       "      <td>0.028127</td>\n",
       "    </tr>\n",
       "    <tr>\n",
       "      <th>2</th>\n",
       "      <td>0.036346</td>\n",
       "    </tr>\n",
       "    <tr>\n",
       "      <th>3</th>\n",
       "      <td>0.036346</td>\n",
       "    </tr>\n",
       "    <tr>\n",
       "      <th>4</th>\n",
       "      <td>0.036017</td>\n",
       "    </tr>\n",
       "  </tbody>\n",
       "</table>\n",
       "</div>"
      ],
      "text/plain": [
       "   velocidad\n",
       "0   0.036675\n",
       "1   0.028127\n",
       "2   0.036346\n",
       "3   0.036346\n",
       "4   0.036017"
      ]
     },
     "execution_count": 21,
     "metadata": {},
     "output_type": "execute_result"
    }
   ],
   "source": [
    "HA32=pd.DataFrame(HA3['Channel_2'], columns = ['velocidad'])\n",
    "HA32.head()"
   ]
  },
  {
   "cell_type": "code",
   "execution_count": 22,
   "metadata": {},
   "outputs": [
    {
     "data": {
      "text/html": [
       "<div>\n",
       "<style scoped>\n",
       "    .dataframe tbody tr th:only-of-type {\n",
       "        vertical-align: middle;\n",
       "    }\n",
       "\n",
       "    .dataframe tbody tr th {\n",
       "        vertical-align: top;\n",
       "    }\n",
       "\n",
       "    .dataframe thead th {\n",
       "        text-align: right;\n",
       "    }\n",
       "</style>\n",
       "<table border=\"1\" class=\"dataframe\">\n",
       "  <thead>\n",
       "    <tr style=\"text-align: right;\">\n",
       "      <th></th>\n",
       "      <th>aceleracion</th>\n",
       "      <th>velocidad</th>\n",
       "    </tr>\n",
       "  </thead>\n",
       "  <tbody>\n",
       "    <tr>\n",
       "      <th>0</th>\n",
       "      <td>0.001747</td>\n",
       "      <td>0.036675</td>\n",
       "    </tr>\n",
       "    <tr>\n",
       "      <th>1</th>\n",
       "      <td>0.000760</td>\n",
       "      <td>0.028127</td>\n",
       "    </tr>\n",
       "    <tr>\n",
       "      <th>2</th>\n",
       "      <td>-0.004501</td>\n",
       "      <td>0.036346</td>\n",
       "    </tr>\n",
       "    <tr>\n",
       "      <th>3</th>\n",
       "      <td>0.000102</td>\n",
       "      <td>0.036346</td>\n",
       "    </tr>\n",
       "    <tr>\n",
       "      <th>4</th>\n",
       "      <td>0.002404</td>\n",
       "      <td>0.036017</td>\n",
       "    </tr>\n",
       "  </tbody>\n",
       "</table>\n",
       "</div>"
      ],
      "text/plain": [
       "   aceleracion  velocidad\n",
       "0     0.001747   0.036675\n",
       "1     0.000760   0.028127\n",
       "2    -0.004501   0.036346\n",
       "3     0.000102   0.036346\n",
       "4     0.002404   0.036017"
      ]
     },
     "execution_count": 22,
     "metadata": {},
     "output_type": "execute_result"
    }
   ],
   "source": [
    "# concatenar los dos DF\n",
    "\n",
    "H3train = pd.concat([HA31, HA32], axis=1, sort=False)\n",
    "H3train.head()"
   ]
  },
  {
   "cell_type": "code",
   "execution_count": 23,
   "metadata": {},
   "outputs": [
    {
     "name": "stdout",
     "output_type": "stream",
     "text": [
      "numero de dimensiones = 2\n",
      "tamaño de la tabla  = (2000000, 2)\n",
      "total datos = 4000000\n"
     ]
    }
   ],
   "source": [
    "print(\"numero de dimensiones =\", H3train.ndim)\n",
    "print(\"tamaño de la tabla  =\", H3train.shape)\n",
    "print(\"total datos =\", H3train.size)"
   ]
  },
  {
   "cell_type": "code",
   "execution_count": 24,
   "metadata": {},
   "outputs": [
    {
     "data": {
      "text/plain": [
       "aceleracion    False\n",
       "velocidad      False\n",
       "dtype: bool"
      ]
     },
     "execution_count": 24,
     "metadata": {},
     "output_type": "execute_result"
    }
   ],
   "source": [
    "#hallar si hay nul o NaN\n",
    "H3train.isnull().any()"
   ]
  },
  {
   "cell_type": "code",
   "execution_count": 25,
   "metadata": {},
   "outputs": [
    {
     "data": {
      "text/plain": [
       "aceleracion    False\n",
       "velocidad      False\n",
       "dtype: bool"
      ]
     },
     "execution_count": 25,
     "metadata": {},
     "output_type": "execute_result"
    }
   ],
   "source": [
    "H3train.isna().any()"
   ]
  },
  {
   "cell_type": "code",
   "execution_count": 26,
   "metadata": {},
   "outputs": [
    {
     "data": {
      "text/plain": [
       "aceleracion    0\n",
       "velocidad      0\n",
       "dtype: int64"
      ]
     },
     "execution_count": 26,
     "metadata": {},
     "output_type": "execute_result"
    }
   ],
   "source": [
    "H3train.isnull().sum()"
   ]
  },
  {
   "cell_type": "markdown",
   "metadata": {},
   "source": [
    "## Etiquetado de datos"
   ]
  },
  {
   "cell_type": "code",
   "execution_count": 27,
   "metadata": {},
   "outputs": [
    {
     "data": {
      "text/html": [
       "<div>\n",
       "<style scoped>\n",
       "    .dataframe tbody tr th:only-of-type {\n",
       "        vertical-align: middle;\n",
       "    }\n",
       "\n",
       "    .dataframe tbody tr th {\n",
       "        vertical-align: top;\n",
       "    }\n",
       "\n",
       "    .dataframe thead th {\n",
       "        text-align: right;\n",
       "    }\n",
       "</style>\n",
       "<table border=\"1\" class=\"dataframe\">\n",
       "  <thead>\n",
       "    <tr style=\"text-align: right;\">\n",
       "      <th></th>\n",
       "      <th>aceleracion</th>\n",
       "      <th>velocidad</th>\n",
       "    </tr>\n",
       "  </thead>\n",
       "  <tbody>\n",
       "    <tr>\n",
       "      <th>0</th>\n",
       "      <td>0.001747</td>\n",
       "      <td>0.036675</td>\n",
       "    </tr>\n",
       "    <tr>\n",
       "      <th>1</th>\n",
       "      <td>0.000760</td>\n",
       "      <td>0.028127</td>\n",
       "    </tr>\n",
       "    <tr>\n",
       "      <th>2</th>\n",
       "      <td>-0.004501</td>\n",
       "      <td>0.036346</td>\n",
       "    </tr>\n",
       "    <tr>\n",
       "      <th>3</th>\n",
       "      <td>0.000102</td>\n",
       "      <td>0.036346</td>\n",
       "    </tr>\n",
       "    <tr>\n",
       "      <th>4</th>\n",
       "      <td>0.002404</td>\n",
       "      <td>0.036017</td>\n",
       "    </tr>\n",
       "  </tbody>\n",
       "</table>\n",
       "</div>"
      ],
      "text/plain": [
       "   aceleracion  velocidad\n",
       "0     0.001747   0.036675\n",
       "1     0.000760   0.028127\n",
       "2    -0.004501   0.036346\n",
       "3     0.000102   0.036346\n",
       "4     0.002404   0.036017"
      ]
     },
     "execution_count": 27,
     "metadata": {},
     "output_type": "execute_result"
    }
   ],
   "source": [
    "H3train.head()"
   ]
  },
  {
   "cell_type": "code",
   "execution_count": 28,
   "metadata": {},
   "outputs": [
    {
     "data": {
      "text/html": [
       "<div>\n",
       "<style scoped>\n",
       "    .dataframe tbody tr th:only-of-type {\n",
       "        vertical-align: middle;\n",
       "    }\n",
       "\n",
       "    .dataframe tbody tr th {\n",
       "        vertical-align: top;\n",
       "    }\n",
       "\n",
       "    .dataframe thead th {\n",
       "        text-align: right;\n",
       "    }\n",
       "</style>\n",
       "<table border=\"1\" class=\"dataframe\">\n",
       "  <thead>\n",
       "    <tr style=\"text-align: right;\">\n",
       "      <th></th>\n",
       "      <th>aceleracion</th>\n",
       "      <th>velocidad</th>\n",
       "      <th>falla</th>\n",
       "    </tr>\n",
       "  </thead>\n",
       "  <tbody>\n",
       "    <tr>\n",
       "      <th>0</th>\n",
       "      <td>0.001747</td>\n",
       "      <td>0.036675</td>\n",
       "      <td>0</td>\n",
       "    </tr>\n",
       "    <tr>\n",
       "      <th>1</th>\n",
       "      <td>0.000760</td>\n",
       "      <td>0.028127</td>\n",
       "      <td>0</td>\n",
       "    </tr>\n",
       "    <tr>\n",
       "      <th>2</th>\n",
       "      <td>-0.004501</td>\n",
       "      <td>0.036346</td>\n",
       "      <td>0</td>\n",
       "    </tr>\n",
       "    <tr>\n",
       "      <th>3</th>\n",
       "      <td>0.000102</td>\n",
       "      <td>0.036346</td>\n",
       "      <td>0</td>\n",
       "    </tr>\n",
       "    <tr>\n",
       "      <th>4</th>\n",
       "      <td>0.002404</td>\n",
       "      <td>0.036017</td>\n",
       "      <td>0</td>\n",
       "    </tr>\n",
       "  </tbody>\n",
       "</table>\n",
       "</div>"
      ],
      "text/plain": [
       "   aceleracion  velocidad  falla\n",
       "0     0.001747   0.036675      0\n",
       "1     0.000760   0.028127      0\n",
       "2    -0.004501   0.036346      0\n",
       "3     0.000102   0.036346      0\n",
       "4     0.002404   0.036017      0"
      ]
     },
     "execution_count": 28,
     "metadata": {},
     "output_type": "execute_result"
    }
   ],
   "source": [
    "H3train['falla'] = 0\n",
    "H3train.head()"
   ]
  },
  {
   "cell_type": "code",
   "execution_count": 29,
   "metadata": {},
   "outputs": [
    {
     "data": {
      "text/html": [
       "<div>\n",
       "<style scoped>\n",
       "    .dataframe tbody tr th:only-of-type {\n",
       "        vertical-align: middle;\n",
       "    }\n",
       "\n",
       "    .dataframe tbody tr th {\n",
       "        vertical-align: top;\n",
       "    }\n",
       "\n",
       "    .dataframe thead th {\n",
       "        text-align: right;\n",
       "    }\n",
       "</style>\n",
       "<table border=\"1\" class=\"dataframe\">\n",
       "  <thead>\n",
       "    <tr style=\"text-align: right;\">\n",
       "      <th></th>\n",
       "      <th>id</th>\n",
       "      <th>aceleracion</th>\n",
       "      <th>velocidad</th>\n",
       "      <th>falla</th>\n",
       "    </tr>\n",
       "  </thead>\n",
       "  <tbody>\n",
       "    <tr>\n",
       "      <th>0</th>\n",
       "      <td>1</td>\n",
       "      <td>0.001747</td>\n",
       "      <td>0.036675</td>\n",
       "      <td>0</td>\n",
       "    </tr>\n",
       "    <tr>\n",
       "      <th>1</th>\n",
       "      <td>1</td>\n",
       "      <td>0.000760</td>\n",
       "      <td>0.028127</td>\n",
       "      <td>0</td>\n",
       "    </tr>\n",
       "    <tr>\n",
       "      <th>2</th>\n",
       "      <td>1</td>\n",
       "      <td>-0.004501</td>\n",
       "      <td>0.036346</td>\n",
       "      <td>0</td>\n",
       "    </tr>\n",
       "    <tr>\n",
       "      <th>3</th>\n",
       "      <td>1</td>\n",
       "      <td>0.000102</td>\n",
       "      <td>0.036346</td>\n",
       "      <td>0</td>\n",
       "    </tr>\n",
       "    <tr>\n",
       "      <th>4</th>\n",
       "      <td>1</td>\n",
       "      <td>0.002404</td>\n",
       "      <td>0.036017</td>\n",
       "      <td>0</td>\n",
       "    </tr>\n",
       "  </tbody>\n",
       "</table>\n",
       "</div>"
      ],
      "text/plain": [
       "   id  aceleracion  velocidad  falla\n",
       "0   1     0.001747   0.036675      0\n",
       "1   1     0.000760   0.028127      0\n",
       "2   1    -0.004501   0.036346      0\n",
       "3   1     0.000102   0.036346      0\n",
       "4   1     0.002404   0.036017      0"
      ]
     },
     "execution_count": 29,
     "metadata": {},
     "output_type": "execute_result"
    }
   ],
   "source": [
    "H3train.insert(0, 'id', 1)\n",
    "H3train.head()"
   ]
  },
  {
   "cell_type": "markdown",
   "metadata": {},
   "source": [
    "## Datos rodamiento con falla en pista interna"
   ]
  },
  {
   "cell_type": "code",
   "execution_count": 30,
   "metadata": {},
   "outputs": [],
   "source": [
    "# importar datos de archivo matlab\n",
    "IA1 = loadmat (r'D:\\alexh\\Documents\\Maestria en estadistica\\proyecto de grado\\bases de datos vibraciones\\rodamientos variando velocidad\\datos de vibraciones\\I-A-1.mat')"
   ]
  },
  {
   "cell_type": "code",
   "execution_count": 31,
   "metadata": {},
   "outputs": [
    {
     "data": {
      "text/plain": [
       "{'__header__': b'MATLAB 5.0 MAT-file, Platform: PCWIN64, Created on: Tue Oct 09 17:52:06 2018',\n",
       " '__version__': '1.0',\n",
       " '__globals__': [],\n",
       " 'Channel_1': array([[0.24871092],\n",
       "        [0.24903977],\n",
       "        [0.24838208],\n",
       "        ...,\n",
       "        [0.32927848],\n",
       "        [0.26581098],\n",
       "        [0.1648549 ]]),\n",
       " 'Channel_2': array([[0.0379897 ],\n",
       "        [0.03766093],\n",
       "        [0.0379897 ],\n",
       "        ...,\n",
       "        [4.20684976],\n",
       "        [4.22887776],\n",
       "        [4.29200278]])}"
      ]
     },
     "execution_count": 31,
     "metadata": {},
     "output_type": "execute_result"
    }
   ],
   "source": [
    "IA1"
   ]
  },
  {
   "cell_type": "code",
   "execution_count": 32,
   "metadata": {},
   "outputs": [
    {
     "data": {
      "text/plain": [
       "dict_keys(['__header__', '__version__', '__globals__', 'Channel_1', 'Channel_2'])"
      ]
     },
     "execution_count": 32,
     "metadata": {},
     "output_type": "execute_result"
    }
   ],
   "source": [
    "IA1.keys()"
   ]
  },
  {
   "cell_type": "code",
   "execution_count": 33,
   "metadata": {},
   "outputs": [
    {
     "data": {
      "text/html": [
       "<div>\n",
       "<style scoped>\n",
       "    .dataframe tbody tr th:only-of-type {\n",
       "        vertical-align: middle;\n",
       "    }\n",
       "\n",
       "    .dataframe tbody tr th {\n",
       "        vertical-align: top;\n",
       "    }\n",
       "\n",
       "    .dataframe thead th {\n",
       "        text-align: right;\n",
       "    }\n",
       "</style>\n",
       "<table border=\"1\" class=\"dataframe\">\n",
       "  <thead>\n",
       "    <tr style=\"text-align: right;\">\n",
       "      <th></th>\n",
       "      <th>aceleracion</th>\n",
       "    </tr>\n",
       "  </thead>\n",
       "  <tbody>\n",
       "    <tr>\n",
       "      <th>0</th>\n",
       "      <td>0.248711</td>\n",
       "    </tr>\n",
       "    <tr>\n",
       "      <th>1</th>\n",
       "      <td>0.249040</td>\n",
       "    </tr>\n",
       "    <tr>\n",
       "      <th>2</th>\n",
       "      <td>0.248382</td>\n",
       "    </tr>\n",
       "    <tr>\n",
       "      <th>3</th>\n",
       "      <td>0.250355</td>\n",
       "    </tr>\n",
       "    <tr>\n",
       "      <th>4</th>\n",
       "      <td>0.251013</td>\n",
       "    </tr>\n",
       "  </tbody>\n",
       "</table>\n",
       "</div>"
      ],
      "text/plain": [
       "   aceleracion\n",
       "0     0.248711\n",
       "1     0.249040\n",
       "2     0.248382\n",
       "3     0.250355\n",
       "4     0.251013"
      ]
     },
     "execution_count": 33,
     "metadata": {},
     "output_type": "execute_result"
    }
   ],
   "source": [
    "IA11=pd.DataFrame(IA1['Channel_1'], columns = ['aceleracion'])\n",
    "IA11.head()"
   ]
  },
  {
   "cell_type": "code",
   "execution_count": 34,
   "metadata": {},
   "outputs": [
    {
     "data": {
      "text/html": [
       "<div>\n",
       "<style scoped>\n",
       "    .dataframe tbody tr th:only-of-type {\n",
       "        vertical-align: middle;\n",
       "    }\n",
       "\n",
       "    .dataframe tbody tr th {\n",
       "        vertical-align: top;\n",
       "    }\n",
       "\n",
       "    .dataframe thead th {\n",
       "        text-align: right;\n",
       "    }\n",
       "</style>\n",
       "<table border=\"1\" class=\"dataframe\">\n",
       "  <thead>\n",
       "    <tr style=\"text-align: right;\">\n",
       "      <th></th>\n",
       "      <th>velocidad</th>\n",
       "    </tr>\n",
       "  </thead>\n",
       "  <tbody>\n",
       "    <tr>\n",
       "      <th>0</th>\n",
       "      <td>0.037990</td>\n",
       "    </tr>\n",
       "    <tr>\n",
       "      <th>1</th>\n",
       "      <td>0.037661</td>\n",
       "    </tr>\n",
       "    <tr>\n",
       "      <th>2</th>\n",
       "      <td>0.037990</td>\n",
       "    </tr>\n",
       "    <tr>\n",
       "      <th>3</th>\n",
       "      <td>0.037661</td>\n",
       "    </tr>\n",
       "    <tr>\n",
       "      <th>4</th>\n",
       "      <td>0.037332</td>\n",
       "    </tr>\n",
       "  </tbody>\n",
       "</table>\n",
       "</div>"
      ],
      "text/plain": [
       "   velocidad\n",
       "0   0.037990\n",
       "1   0.037661\n",
       "2   0.037990\n",
       "3   0.037661\n",
       "4   0.037332"
      ]
     },
     "execution_count": 34,
     "metadata": {},
     "output_type": "execute_result"
    }
   ],
   "source": [
    "IA12=pd.DataFrame(IA1['Channel_2'], columns = ['velocidad'])\n",
    "IA12.head()"
   ]
  },
  {
   "cell_type": "code",
   "execution_count": 35,
   "metadata": {},
   "outputs": [
    {
     "data": {
      "text/html": [
       "<div>\n",
       "<style scoped>\n",
       "    .dataframe tbody tr th:only-of-type {\n",
       "        vertical-align: middle;\n",
       "    }\n",
       "\n",
       "    .dataframe tbody tr th {\n",
       "        vertical-align: top;\n",
       "    }\n",
       "\n",
       "    .dataframe thead th {\n",
       "        text-align: right;\n",
       "    }\n",
       "</style>\n",
       "<table border=\"1\" class=\"dataframe\">\n",
       "  <thead>\n",
       "    <tr style=\"text-align: right;\">\n",
       "      <th></th>\n",
       "      <th>aceleracion</th>\n",
       "      <th>velocidad</th>\n",
       "    </tr>\n",
       "  </thead>\n",
       "  <tbody>\n",
       "    <tr>\n",
       "      <th>0</th>\n",
       "      <td>0.248711</td>\n",
       "      <td>0.037990</td>\n",
       "    </tr>\n",
       "    <tr>\n",
       "      <th>1</th>\n",
       "      <td>0.249040</td>\n",
       "      <td>0.037661</td>\n",
       "    </tr>\n",
       "    <tr>\n",
       "      <th>2</th>\n",
       "      <td>0.248382</td>\n",
       "      <td>0.037990</td>\n",
       "    </tr>\n",
       "    <tr>\n",
       "      <th>3</th>\n",
       "      <td>0.250355</td>\n",
       "      <td>0.037661</td>\n",
       "    </tr>\n",
       "    <tr>\n",
       "      <th>4</th>\n",
       "      <td>0.251013</td>\n",
       "      <td>0.037332</td>\n",
       "    </tr>\n",
       "  </tbody>\n",
       "</table>\n",
       "</div>"
      ],
      "text/plain": [
       "   aceleracion  velocidad\n",
       "0     0.248711   0.037990\n",
       "1     0.249040   0.037661\n",
       "2     0.248382   0.037990\n",
       "3     0.250355   0.037661\n",
       "4     0.251013   0.037332"
      ]
     },
     "execution_count": 35,
     "metadata": {},
     "output_type": "execute_result"
    }
   ],
   "source": [
    "# concatenar los dos DF\n",
    "\n",
    "I1train = pd.concat([IA11, IA12], axis=1, sort=False)\n",
    "I1train.head()"
   ]
  },
  {
   "cell_type": "code",
   "execution_count": 36,
   "metadata": {},
   "outputs": [
    {
     "name": "stdout",
     "output_type": "stream",
     "text": [
      "numero de dimensiones = 2\n",
      "tamaño de la tabla  = (2000000, 2)\n",
      "total datos = 4000000\n"
     ]
    }
   ],
   "source": [
    "print(\"numero de dimensiones =\", I1train.ndim)\n",
    "print(\"tamaño de la tabla  =\", I1train.shape)\n",
    "print(\"total datos =\", I1train.size)"
   ]
  },
  {
   "cell_type": "code",
   "execution_count": 37,
   "metadata": {},
   "outputs": [
    {
     "data": {
      "text/plain": [
       "aceleracion    False\n",
       "velocidad      False\n",
       "dtype: bool"
      ]
     },
     "execution_count": 37,
     "metadata": {},
     "output_type": "execute_result"
    }
   ],
   "source": [
    "#hallar si hay nul o NaN\n",
    "I1train.isnull().any()"
   ]
  },
  {
   "cell_type": "code",
   "execution_count": 38,
   "metadata": {},
   "outputs": [
    {
     "data": {
      "text/plain": [
       "aceleracion    False\n",
       "velocidad      False\n",
       "dtype: bool"
      ]
     },
     "execution_count": 38,
     "metadata": {},
     "output_type": "execute_result"
    }
   ],
   "source": [
    "I1train.isna().any()"
   ]
  },
  {
   "cell_type": "code",
   "execution_count": 39,
   "metadata": {},
   "outputs": [
    {
     "data": {
      "text/plain": [
       "aceleracion    0\n",
       "velocidad      0\n",
       "dtype: int64"
      ]
     },
     "execution_count": 39,
     "metadata": {},
     "output_type": "execute_result"
    }
   ],
   "source": [
    "I1train.isnull().sum()"
   ]
  },
  {
   "cell_type": "markdown",
   "metadata": {},
   "source": [
    "## Etiquetado de datos"
   ]
  },
  {
   "cell_type": "code",
   "execution_count": 40,
   "metadata": {},
   "outputs": [
    {
     "data": {
      "text/html": [
       "<div>\n",
       "<style scoped>\n",
       "    .dataframe tbody tr th:only-of-type {\n",
       "        vertical-align: middle;\n",
       "    }\n",
       "\n",
       "    .dataframe tbody tr th {\n",
       "        vertical-align: top;\n",
       "    }\n",
       "\n",
       "    .dataframe thead th {\n",
       "        text-align: right;\n",
       "    }\n",
       "</style>\n",
       "<table border=\"1\" class=\"dataframe\">\n",
       "  <thead>\n",
       "    <tr style=\"text-align: right;\">\n",
       "      <th></th>\n",
       "      <th>aceleracion</th>\n",
       "      <th>velocidad</th>\n",
       "    </tr>\n",
       "  </thead>\n",
       "  <tbody>\n",
       "    <tr>\n",
       "      <th>0</th>\n",
       "      <td>0.248711</td>\n",
       "      <td>0.037990</td>\n",
       "    </tr>\n",
       "    <tr>\n",
       "      <th>1</th>\n",
       "      <td>0.249040</td>\n",
       "      <td>0.037661</td>\n",
       "    </tr>\n",
       "    <tr>\n",
       "      <th>2</th>\n",
       "      <td>0.248382</td>\n",
       "      <td>0.037990</td>\n",
       "    </tr>\n",
       "    <tr>\n",
       "      <th>3</th>\n",
       "      <td>0.250355</td>\n",
       "      <td>0.037661</td>\n",
       "    </tr>\n",
       "    <tr>\n",
       "      <th>4</th>\n",
       "      <td>0.251013</td>\n",
       "      <td>0.037332</td>\n",
       "    </tr>\n",
       "  </tbody>\n",
       "</table>\n",
       "</div>"
      ],
      "text/plain": [
       "   aceleracion  velocidad\n",
       "0     0.248711   0.037990\n",
       "1     0.249040   0.037661\n",
       "2     0.248382   0.037990\n",
       "3     0.250355   0.037661\n",
       "4     0.251013   0.037332"
      ]
     },
     "execution_count": 40,
     "metadata": {},
     "output_type": "execute_result"
    }
   ],
   "source": [
    "I1train.head()"
   ]
  },
  {
   "cell_type": "code",
   "execution_count": 41,
   "metadata": {},
   "outputs": [
    {
     "data": {
      "text/html": [
       "<div>\n",
       "<style scoped>\n",
       "    .dataframe tbody tr th:only-of-type {\n",
       "        vertical-align: middle;\n",
       "    }\n",
       "\n",
       "    .dataframe tbody tr th {\n",
       "        vertical-align: top;\n",
       "    }\n",
       "\n",
       "    .dataframe thead th {\n",
       "        text-align: right;\n",
       "    }\n",
       "</style>\n",
       "<table border=\"1\" class=\"dataframe\">\n",
       "  <thead>\n",
       "    <tr style=\"text-align: right;\">\n",
       "      <th></th>\n",
       "      <th>aceleracion</th>\n",
       "      <th>velocidad</th>\n",
       "      <th>falla</th>\n",
       "    </tr>\n",
       "  </thead>\n",
       "  <tbody>\n",
       "    <tr>\n",
       "      <th>0</th>\n",
       "      <td>0.248711</td>\n",
       "      <td>0.037990</td>\n",
       "      <td>1</td>\n",
       "    </tr>\n",
       "    <tr>\n",
       "      <th>1</th>\n",
       "      <td>0.249040</td>\n",
       "      <td>0.037661</td>\n",
       "      <td>1</td>\n",
       "    </tr>\n",
       "    <tr>\n",
       "      <th>2</th>\n",
       "      <td>0.248382</td>\n",
       "      <td>0.037990</td>\n",
       "      <td>1</td>\n",
       "    </tr>\n",
       "    <tr>\n",
       "      <th>3</th>\n",
       "      <td>0.250355</td>\n",
       "      <td>0.037661</td>\n",
       "      <td>1</td>\n",
       "    </tr>\n",
       "    <tr>\n",
       "      <th>4</th>\n",
       "      <td>0.251013</td>\n",
       "      <td>0.037332</td>\n",
       "      <td>1</td>\n",
       "    </tr>\n",
       "  </tbody>\n",
       "</table>\n",
       "</div>"
      ],
      "text/plain": [
       "   aceleracion  velocidad  falla\n",
       "0     0.248711   0.037990      1\n",
       "1     0.249040   0.037661      1\n",
       "2     0.248382   0.037990      1\n",
       "3     0.250355   0.037661      1\n",
       "4     0.251013   0.037332      1"
      ]
     },
     "execution_count": 41,
     "metadata": {},
     "output_type": "execute_result"
    }
   ],
   "source": [
    "I1train['falla'] = 1\n",
    "I1train.head()"
   ]
  },
  {
   "cell_type": "code",
   "execution_count": 42,
   "metadata": {},
   "outputs": [
    {
     "data": {
      "text/html": [
       "<div>\n",
       "<style scoped>\n",
       "    .dataframe tbody tr th:only-of-type {\n",
       "        vertical-align: middle;\n",
       "    }\n",
       "\n",
       "    .dataframe tbody tr th {\n",
       "        vertical-align: top;\n",
       "    }\n",
       "\n",
       "    .dataframe thead th {\n",
       "        text-align: right;\n",
       "    }\n",
       "</style>\n",
       "<table border=\"1\" class=\"dataframe\">\n",
       "  <thead>\n",
       "    <tr style=\"text-align: right;\">\n",
       "      <th></th>\n",
       "      <th>id</th>\n",
       "      <th>aceleracion</th>\n",
       "      <th>velocidad</th>\n",
       "      <th>falla</th>\n",
       "    </tr>\n",
       "  </thead>\n",
       "  <tbody>\n",
       "    <tr>\n",
       "      <th>0</th>\n",
       "      <td>1</td>\n",
       "      <td>0.248711</td>\n",
       "      <td>0.037990</td>\n",
       "      <td>1</td>\n",
       "    </tr>\n",
       "    <tr>\n",
       "      <th>1</th>\n",
       "      <td>1</td>\n",
       "      <td>0.249040</td>\n",
       "      <td>0.037661</td>\n",
       "      <td>1</td>\n",
       "    </tr>\n",
       "    <tr>\n",
       "      <th>2</th>\n",
       "      <td>1</td>\n",
       "      <td>0.248382</td>\n",
       "      <td>0.037990</td>\n",
       "      <td>1</td>\n",
       "    </tr>\n",
       "    <tr>\n",
       "      <th>3</th>\n",
       "      <td>1</td>\n",
       "      <td>0.250355</td>\n",
       "      <td>0.037661</td>\n",
       "      <td>1</td>\n",
       "    </tr>\n",
       "    <tr>\n",
       "      <th>4</th>\n",
       "      <td>1</td>\n",
       "      <td>0.251013</td>\n",
       "      <td>0.037332</td>\n",
       "      <td>1</td>\n",
       "    </tr>\n",
       "  </tbody>\n",
       "</table>\n",
       "</div>"
      ],
      "text/plain": [
       "   id  aceleracion  velocidad  falla\n",
       "0   1     0.248711   0.037990      1\n",
       "1   1     0.249040   0.037661      1\n",
       "2   1     0.248382   0.037990      1\n",
       "3   1     0.250355   0.037661      1\n",
       "4   1     0.251013   0.037332      1"
      ]
     },
     "execution_count": 42,
     "metadata": {},
     "output_type": "execute_result"
    }
   ],
   "source": [
    "I1train.insert(0, 'id', 1)\n",
    "I1train.head()"
   ]
  },
  {
   "cell_type": "code",
   "execution_count": 43,
   "metadata": {},
   "outputs": [],
   "source": [
    "# importar datos de archivo matlab\n",
    "IA3 = loadmat (r'D:\\alexh\\Documents\\Maestria en estadistica\\proyecto de grado\\bases de datos vibraciones\\rodamientos variando velocidad\\datos de vibraciones\\I-A-3.mat')"
   ]
  },
  {
   "cell_type": "code",
   "execution_count": 44,
   "metadata": {},
   "outputs": [
    {
     "data": {
      "text/plain": [
       "{'__header__': b'MATLAB 5.0 MAT-file, Platform: PCWIN64, Created on: Tue Oct 09 17:52:19 2018',\n",
       " '__version__': '1.0',\n",
       " '__globals__': [],\n",
       " 'Channel_1': array([[-0.01403794],\n",
       "        [-0.007461  ],\n",
       "        [-0.00252829],\n",
       "        ...,\n",
       "        [ 0.01818908],\n",
       "        [-0.00088406],\n",
       "        [ 0.00043133]]),\n",
       " 'Channel_2': array([[0.03766093],\n",
       "        [3.61998493],\n",
       "        [4.17397216],\n",
       "        ...,\n",
       "        [4.25583741],\n",
       "        [0.03733216],\n",
       "        [0.03766093]])}"
      ]
     },
     "execution_count": 44,
     "metadata": {},
     "output_type": "execute_result"
    }
   ],
   "source": [
    "IA3"
   ]
  },
  {
   "cell_type": "code",
   "execution_count": 45,
   "metadata": {},
   "outputs": [
    {
     "data": {
      "text/plain": [
       "dict_keys(['__header__', '__version__', '__globals__', 'Channel_1', 'Channel_2'])"
      ]
     },
     "execution_count": 45,
     "metadata": {},
     "output_type": "execute_result"
    }
   ],
   "source": [
    "IA3.keys()"
   ]
  },
  {
   "cell_type": "code",
   "execution_count": 46,
   "metadata": {},
   "outputs": [
    {
     "data": {
      "text/html": [
       "<div>\n",
       "<style scoped>\n",
       "    .dataframe tbody tr th:only-of-type {\n",
       "        vertical-align: middle;\n",
       "    }\n",
       "\n",
       "    .dataframe tbody tr th {\n",
       "        vertical-align: top;\n",
       "    }\n",
       "\n",
       "    .dataframe thead th {\n",
       "        text-align: right;\n",
       "    }\n",
       "</style>\n",
       "<table border=\"1\" class=\"dataframe\">\n",
       "  <thead>\n",
       "    <tr style=\"text-align: right;\">\n",
       "      <th></th>\n",
       "      <th>aceleracion</th>\n",
       "    </tr>\n",
       "  </thead>\n",
       "  <tbody>\n",
       "    <tr>\n",
       "      <th>0</th>\n",
       "      <td>-0.014038</td>\n",
       "    </tr>\n",
       "    <tr>\n",
       "      <th>1</th>\n",
       "      <td>-0.007461</td>\n",
       "    </tr>\n",
       "    <tr>\n",
       "      <th>2</th>\n",
       "      <td>-0.002528</td>\n",
       "    </tr>\n",
       "    <tr>\n",
       "      <th>3</th>\n",
       "      <td>0.000431</td>\n",
       "    </tr>\n",
       "    <tr>\n",
       "      <th>4</th>\n",
       "      <td>-0.002199</td>\n",
       "    </tr>\n",
       "  </tbody>\n",
       "</table>\n",
       "</div>"
      ],
      "text/plain": [
       "   aceleracion\n",
       "0    -0.014038\n",
       "1    -0.007461\n",
       "2    -0.002528\n",
       "3     0.000431\n",
       "4    -0.002199"
      ]
     },
     "execution_count": 46,
     "metadata": {},
     "output_type": "execute_result"
    }
   ],
   "source": [
    "IA31=pd.DataFrame(IA3['Channel_1'], columns = ['aceleracion'])\n",
    "IA31.head()"
   ]
  },
  {
   "cell_type": "code",
   "execution_count": 47,
   "metadata": {},
   "outputs": [
    {
     "data": {
      "text/html": [
       "<div>\n",
       "<style scoped>\n",
       "    .dataframe tbody tr th:only-of-type {\n",
       "        vertical-align: middle;\n",
       "    }\n",
       "\n",
       "    .dataframe tbody tr th {\n",
       "        vertical-align: top;\n",
       "    }\n",
       "\n",
       "    .dataframe thead th {\n",
       "        text-align: right;\n",
       "    }\n",
       "</style>\n",
       "<table border=\"1\" class=\"dataframe\">\n",
       "  <thead>\n",
       "    <tr style=\"text-align: right;\">\n",
       "      <th></th>\n",
       "      <th>velocidad</th>\n",
       "    </tr>\n",
       "  </thead>\n",
       "  <tbody>\n",
       "    <tr>\n",
       "      <th>0</th>\n",
       "      <td>0.037661</td>\n",
       "    </tr>\n",
       "    <tr>\n",
       "      <th>1</th>\n",
       "      <td>3.619985</td>\n",
       "    </tr>\n",
       "    <tr>\n",
       "      <th>2</th>\n",
       "      <td>4.173972</td>\n",
       "    </tr>\n",
       "    <tr>\n",
       "      <th>3</th>\n",
       "      <td>4.198302</td>\n",
       "    </tr>\n",
       "    <tr>\n",
       "      <th>4</th>\n",
       "      <td>4.213425</td>\n",
       "    </tr>\n",
       "  </tbody>\n",
       "</table>\n",
       "</div>"
      ],
      "text/plain": [
       "   velocidad\n",
       "0   0.037661\n",
       "1   3.619985\n",
       "2   4.173972\n",
       "3   4.198302\n",
       "4   4.213425"
      ]
     },
     "execution_count": 47,
     "metadata": {},
     "output_type": "execute_result"
    }
   ],
   "source": [
    "IA32=pd.DataFrame(IA3['Channel_2'], columns = ['velocidad'])\n",
    "IA32.head()"
   ]
  },
  {
   "cell_type": "code",
   "execution_count": 48,
   "metadata": {},
   "outputs": [
    {
     "data": {
      "text/html": [
       "<div>\n",
       "<style scoped>\n",
       "    .dataframe tbody tr th:only-of-type {\n",
       "        vertical-align: middle;\n",
       "    }\n",
       "\n",
       "    .dataframe tbody tr th {\n",
       "        vertical-align: top;\n",
       "    }\n",
       "\n",
       "    .dataframe thead th {\n",
       "        text-align: right;\n",
       "    }\n",
       "</style>\n",
       "<table border=\"1\" class=\"dataframe\">\n",
       "  <thead>\n",
       "    <tr style=\"text-align: right;\">\n",
       "      <th></th>\n",
       "      <th>aceleracion</th>\n",
       "      <th>velocidad</th>\n",
       "    </tr>\n",
       "  </thead>\n",
       "  <tbody>\n",
       "    <tr>\n",
       "      <th>0</th>\n",
       "      <td>-0.014038</td>\n",
       "      <td>0.037661</td>\n",
       "    </tr>\n",
       "    <tr>\n",
       "      <th>1</th>\n",
       "      <td>-0.007461</td>\n",
       "      <td>3.619985</td>\n",
       "    </tr>\n",
       "    <tr>\n",
       "      <th>2</th>\n",
       "      <td>-0.002528</td>\n",
       "      <td>4.173972</td>\n",
       "    </tr>\n",
       "    <tr>\n",
       "      <th>3</th>\n",
       "      <td>0.000431</td>\n",
       "      <td>4.198302</td>\n",
       "    </tr>\n",
       "    <tr>\n",
       "      <th>4</th>\n",
       "      <td>-0.002199</td>\n",
       "      <td>4.213425</td>\n",
       "    </tr>\n",
       "  </tbody>\n",
       "</table>\n",
       "</div>"
      ],
      "text/plain": [
       "   aceleracion  velocidad\n",
       "0    -0.014038   0.037661\n",
       "1    -0.007461   3.619985\n",
       "2    -0.002528   4.173972\n",
       "3     0.000431   4.198302\n",
       "4    -0.002199   4.213425"
      ]
     },
     "execution_count": 48,
     "metadata": {},
     "output_type": "execute_result"
    }
   ],
   "source": [
    "# concatenar los dos DF\n",
    "\n",
    "I3train = pd.concat([IA31, IA32], axis=1, sort=False)\n",
    "I3train.head()"
   ]
  },
  {
   "cell_type": "code",
   "execution_count": 49,
   "metadata": {},
   "outputs": [
    {
     "name": "stdout",
     "output_type": "stream",
     "text": [
      "numero de dimensiones = 2\n",
      "tamaño de la tabla  = (2000000, 2)\n",
      "total datos = 4000000\n"
     ]
    }
   ],
   "source": [
    "print(\"numero de dimensiones =\", I3train.ndim)\n",
    "print(\"tamaño de la tabla  =\", I3train.shape)\n",
    "print(\"total datos =\", I3train.size)"
   ]
  },
  {
   "cell_type": "code",
   "execution_count": 50,
   "metadata": {},
   "outputs": [
    {
     "data": {
      "text/plain": [
       "aceleracion    False\n",
       "velocidad      False\n",
       "dtype: bool"
      ]
     },
     "execution_count": 50,
     "metadata": {},
     "output_type": "execute_result"
    }
   ],
   "source": [
    "#hallar si hay nul o NaN\n",
    "I3train.isnull().any()"
   ]
  },
  {
   "cell_type": "code",
   "execution_count": 51,
   "metadata": {},
   "outputs": [
    {
     "data": {
      "text/plain": [
       "aceleracion    False\n",
       "velocidad      False\n",
       "dtype: bool"
      ]
     },
     "execution_count": 51,
     "metadata": {},
     "output_type": "execute_result"
    }
   ],
   "source": [
    "I3train.isna().any()"
   ]
  },
  {
   "cell_type": "code",
   "execution_count": 52,
   "metadata": {},
   "outputs": [
    {
     "data": {
      "text/plain": [
       "aceleracion    0\n",
       "velocidad      0\n",
       "dtype: int64"
      ]
     },
     "execution_count": 52,
     "metadata": {},
     "output_type": "execute_result"
    }
   ],
   "source": [
    "I3train.isnull().sum()"
   ]
  },
  {
   "cell_type": "markdown",
   "metadata": {},
   "source": [
    "## Etiquetado de datos"
   ]
  },
  {
   "cell_type": "code",
   "execution_count": 53,
   "metadata": {},
   "outputs": [
    {
     "data": {
      "text/html": [
       "<div>\n",
       "<style scoped>\n",
       "    .dataframe tbody tr th:only-of-type {\n",
       "        vertical-align: middle;\n",
       "    }\n",
       "\n",
       "    .dataframe tbody tr th {\n",
       "        vertical-align: top;\n",
       "    }\n",
       "\n",
       "    .dataframe thead th {\n",
       "        text-align: right;\n",
       "    }\n",
       "</style>\n",
       "<table border=\"1\" class=\"dataframe\">\n",
       "  <thead>\n",
       "    <tr style=\"text-align: right;\">\n",
       "      <th></th>\n",
       "      <th>aceleracion</th>\n",
       "      <th>velocidad</th>\n",
       "    </tr>\n",
       "  </thead>\n",
       "  <tbody>\n",
       "    <tr>\n",
       "      <th>0</th>\n",
       "      <td>-0.014038</td>\n",
       "      <td>0.037661</td>\n",
       "    </tr>\n",
       "    <tr>\n",
       "      <th>1</th>\n",
       "      <td>-0.007461</td>\n",
       "      <td>3.619985</td>\n",
       "    </tr>\n",
       "    <tr>\n",
       "      <th>2</th>\n",
       "      <td>-0.002528</td>\n",
       "      <td>4.173972</td>\n",
       "    </tr>\n",
       "    <tr>\n",
       "      <th>3</th>\n",
       "      <td>0.000431</td>\n",
       "      <td>4.198302</td>\n",
       "    </tr>\n",
       "    <tr>\n",
       "      <th>4</th>\n",
       "      <td>-0.002199</td>\n",
       "      <td>4.213425</td>\n",
       "    </tr>\n",
       "  </tbody>\n",
       "</table>\n",
       "</div>"
      ],
      "text/plain": [
       "   aceleracion  velocidad\n",
       "0    -0.014038   0.037661\n",
       "1    -0.007461   3.619985\n",
       "2    -0.002528   4.173972\n",
       "3     0.000431   4.198302\n",
       "4    -0.002199   4.213425"
      ]
     },
     "execution_count": 53,
     "metadata": {},
     "output_type": "execute_result"
    }
   ],
   "source": [
    "I3train.head()"
   ]
  },
  {
   "cell_type": "code",
   "execution_count": 54,
   "metadata": {},
   "outputs": [
    {
     "data": {
      "text/html": [
       "<div>\n",
       "<style scoped>\n",
       "    .dataframe tbody tr th:only-of-type {\n",
       "        vertical-align: middle;\n",
       "    }\n",
       "\n",
       "    .dataframe tbody tr th {\n",
       "        vertical-align: top;\n",
       "    }\n",
       "\n",
       "    .dataframe thead th {\n",
       "        text-align: right;\n",
       "    }\n",
       "</style>\n",
       "<table border=\"1\" class=\"dataframe\">\n",
       "  <thead>\n",
       "    <tr style=\"text-align: right;\">\n",
       "      <th></th>\n",
       "      <th>aceleracion</th>\n",
       "      <th>velocidad</th>\n",
       "      <th>falla</th>\n",
       "    </tr>\n",
       "  </thead>\n",
       "  <tbody>\n",
       "    <tr>\n",
       "      <th>0</th>\n",
       "      <td>-0.014038</td>\n",
       "      <td>0.037661</td>\n",
       "      <td>1</td>\n",
       "    </tr>\n",
       "    <tr>\n",
       "      <th>1</th>\n",
       "      <td>-0.007461</td>\n",
       "      <td>3.619985</td>\n",
       "      <td>1</td>\n",
       "    </tr>\n",
       "    <tr>\n",
       "      <th>2</th>\n",
       "      <td>-0.002528</td>\n",
       "      <td>4.173972</td>\n",
       "      <td>1</td>\n",
       "    </tr>\n",
       "    <tr>\n",
       "      <th>3</th>\n",
       "      <td>0.000431</td>\n",
       "      <td>4.198302</td>\n",
       "      <td>1</td>\n",
       "    </tr>\n",
       "    <tr>\n",
       "      <th>4</th>\n",
       "      <td>-0.002199</td>\n",
       "      <td>4.213425</td>\n",
       "      <td>1</td>\n",
       "    </tr>\n",
       "  </tbody>\n",
       "</table>\n",
       "</div>"
      ],
      "text/plain": [
       "   aceleracion  velocidad  falla\n",
       "0    -0.014038   0.037661      1\n",
       "1    -0.007461   3.619985      1\n",
       "2    -0.002528   4.173972      1\n",
       "3     0.000431   4.198302      1\n",
       "4    -0.002199   4.213425      1"
      ]
     },
     "execution_count": 54,
     "metadata": {},
     "output_type": "execute_result"
    }
   ],
   "source": [
    "I3train['falla'] = 1\n",
    "I3train.head()"
   ]
  },
  {
   "cell_type": "code",
   "execution_count": 55,
   "metadata": {},
   "outputs": [
    {
     "data": {
      "text/html": [
       "<div>\n",
       "<style scoped>\n",
       "    .dataframe tbody tr th:only-of-type {\n",
       "        vertical-align: middle;\n",
       "    }\n",
       "\n",
       "    .dataframe tbody tr th {\n",
       "        vertical-align: top;\n",
       "    }\n",
       "\n",
       "    .dataframe thead th {\n",
       "        text-align: right;\n",
       "    }\n",
       "</style>\n",
       "<table border=\"1\" class=\"dataframe\">\n",
       "  <thead>\n",
       "    <tr style=\"text-align: right;\">\n",
       "      <th></th>\n",
       "      <th>id</th>\n",
       "      <th>aceleracion</th>\n",
       "      <th>velocidad</th>\n",
       "      <th>falla</th>\n",
       "    </tr>\n",
       "  </thead>\n",
       "  <tbody>\n",
       "    <tr>\n",
       "      <th>0</th>\n",
       "      <td>1</td>\n",
       "      <td>-0.014038</td>\n",
       "      <td>0.037661</td>\n",
       "      <td>1</td>\n",
       "    </tr>\n",
       "    <tr>\n",
       "      <th>1</th>\n",
       "      <td>1</td>\n",
       "      <td>-0.007461</td>\n",
       "      <td>3.619985</td>\n",
       "      <td>1</td>\n",
       "    </tr>\n",
       "    <tr>\n",
       "      <th>2</th>\n",
       "      <td>1</td>\n",
       "      <td>-0.002528</td>\n",
       "      <td>4.173972</td>\n",
       "      <td>1</td>\n",
       "    </tr>\n",
       "    <tr>\n",
       "      <th>3</th>\n",
       "      <td>1</td>\n",
       "      <td>0.000431</td>\n",
       "      <td>4.198302</td>\n",
       "      <td>1</td>\n",
       "    </tr>\n",
       "    <tr>\n",
       "      <th>4</th>\n",
       "      <td>1</td>\n",
       "      <td>-0.002199</td>\n",
       "      <td>4.213425</td>\n",
       "      <td>1</td>\n",
       "    </tr>\n",
       "  </tbody>\n",
       "</table>\n",
       "</div>"
      ],
      "text/plain": [
       "   id  aceleracion  velocidad  falla\n",
       "0   1    -0.014038   0.037661      1\n",
       "1   1    -0.007461   3.619985      1\n",
       "2   1    -0.002528   4.173972      1\n",
       "3   1     0.000431   4.198302      1\n",
       "4   1    -0.002199   4.213425      1"
      ]
     },
     "execution_count": 55,
     "metadata": {},
     "output_type": "execute_result"
    }
   ],
   "source": [
    "I3train.insert(0, 'id', 1)\n",
    "I3train.head()"
   ]
  },
  {
   "cell_type": "code",
   "execution_count": 56,
   "metadata": {},
   "outputs": [
    {
     "data": {
      "text/html": [
       "<div>\n",
       "<style scoped>\n",
       "    .dataframe tbody tr th:only-of-type {\n",
       "        vertical-align: middle;\n",
       "    }\n",
       "\n",
       "    .dataframe tbody tr th {\n",
       "        vertical-align: top;\n",
       "    }\n",
       "\n",
       "    .dataframe thead th {\n",
       "        text-align: right;\n",
       "    }\n",
       "</style>\n",
       "<table border=\"1\" class=\"dataframe\">\n",
       "  <thead>\n",
       "    <tr style=\"text-align: right;\">\n",
       "      <th></th>\n",
       "      <th>id</th>\n",
       "      <th>aceleracion</th>\n",
       "      <th>velocidad</th>\n",
       "      <th>falla</th>\n",
       "    </tr>\n",
       "  </thead>\n",
       "  <tbody>\n",
       "    <tr>\n",
       "      <th>1999995</th>\n",
       "      <td>1</td>\n",
       "      <td>0.081657</td>\n",
       "      <td>4.181863</td>\n",
       "      <td>1</td>\n",
       "    </tr>\n",
       "    <tr>\n",
       "      <th>1999996</th>\n",
       "      <td>1</td>\n",
       "      <td>0.053705</td>\n",
       "      <td>4.117094</td>\n",
       "      <td>1</td>\n",
       "    </tr>\n",
       "    <tr>\n",
       "      <th>1999997</th>\n",
       "      <td>1</td>\n",
       "      <td>0.018189</td>\n",
       "      <td>4.255837</td>\n",
       "      <td>1</td>\n",
       "    </tr>\n",
       "    <tr>\n",
       "      <th>1999998</th>\n",
       "      <td>1</td>\n",
       "      <td>-0.000884</td>\n",
       "      <td>0.037332</td>\n",
       "      <td>1</td>\n",
       "    </tr>\n",
       "    <tr>\n",
       "      <th>1999999</th>\n",
       "      <td>1</td>\n",
       "      <td>0.000431</td>\n",
       "      <td>0.037661</td>\n",
       "      <td>1</td>\n",
       "    </tr>\n",
       "  </tbody>\n",
       "</table>\n",
       "</div>"
      ],
      "text/plain": [
       "         id  aceleracion  velocidad  falla\n",
       "1999995   1     0.081657   4.181863      1\n",
       "1999996   1     0.053705   4.117094      1\n",
       "1999997   1     0.018189   4.255837      1\n",
       "1999998   1    -0.000884   0.037332      1\n",
       "1999999   1     0.000431   0.037661      1"
      ]
     },
     "execution_count": 56,
     "metadata": {},
     "output_type": "execute_result"
    }
   ],
   "source": [
    "I3train.tail()"
   ]
  },
  {
   "cell_type": "markdown",
   "metadata": {},
   "source": [
    "## Concatenar las bases entrenamiento"
   ]
  },
  {
   "cell_type": "code",
   "execution_count": 111,
   "metadata": {},
   "outputs": [
    {
     "data": {
      "text/html": [
       "<div>\n",
       "<style scoped>\n",
       "    .dataframe tbody tr th:only-of-type {\n",
       "        vertical-align: middle;\n",
       "    }\n",
       "\n",
       "    .dataframe tbody tr th {\n",
       "        vertical-align: top;\n",
       "    }\n",
       "\n",
       "    .dataframe thead th {\n",
       "        text-align: right;\n",
       "    }\n",
       "</style>\n",
       "<table border=\"1\" class=\"dataframe\">\n",
       "  <thead>\n",
       "    <tr style=\"text-align: right;\">\n",
       "      <th></th>\n",
       "      <th>id</th>\n",
       "      <th>aceleracion</th>\n",
       "      <th>velocidad</th>\n",
       "      <th>falla</th>\n",
       "    </tr>\n",
       "  </thead>\n",
       "  <tbody>\n",
       "    <tr>\n",
       "      <th>0</th>\n",
       "      <td>1</td>\n",
       "      <td>-0.002199</td>\n",
       "      <td>4.188767</td>\n",
       "      <td>0</td>\n",
       "    </tr>\n",
       "    <tr>\n",
       "      <th>1</th>\n",
       "      <td>1</td>\n",
       "      <td>-0.001871</td>\n",
       "      <td>4.200603</td>\n",
       "      <td>0</td>\n",
       "    </tr>\n",
       "    <tr>\n",
       "      <th>2</th>\n",
       "      <td>1</td>\n",
       "      <td>-0.001542</td>\n",
       "      <td>4.208165</td>\n",
       "      <td>0</td>\n",
       "    </tr>\n",
       "    <tr>\n",
       "      <th>3</th>\n",
       "      <td>1</td>\n",
       "      <td>-0.001871</td>\n",
       "      <td>4.226576</td>\n",
       "      <td>0</td>\n",
       "    </tr>\n",
       "    <tr>\n",
       "      <th>4</th>\n",
       "      <td>1</td>\n",
       "      <td>-0.002199</td>\n",
       "      <td>4.240385</td>\n",
       "      <td>0</td>\n",
       "    </tr>\n",
       "  </tbody>\n",
       "</table>\n",
       "</div>"
      ],
      "text/plain": [
       "   id  aceleracion  velocidad  falla\n",
       "0   1    -0.002199   4.188767      0\n",
       "1   1    -0.001871   4.200603      0\n",
       "2   1    -0.001542   4.208165      0\n",
       "3   1    -0.001871   4.226576      0\n",
       "4   1    -0.002199   4.240385      0"
      ]
     },
     "execution_count": 111,
     "metadata": {},
     "output_type": "execute_result"
    }
   ],
   "source": [
    "# concatenar\n",
    "train=pd.concat([H1train, I3train], ignore_index=True)\n",
    "train.head()"
   ]
  },
  {
   "cell_type": "code",
   "execution_count": 112,
   "metadata": {},
   "outputs": [
    {
     "data": {
      "text/html": [
       "<div>\n",
       "<style scoped>\n",
       "    .dataframe tbody tr th:only-of-type {\n",
       "        vertical-align: middle;\n",
       "    }\n",
       "\n",
       "    .dataframe tbody tr th {\n",
       "        vertical-align: top;\n",
       "    }\n",
       "\n",
       "    .dataframe thead th {\n",
       "        text-align: right;\n",
       "    }\n",
       "</style>\n",
       "<table border=\"1\" class=\"dataframe\">\n",
       "  <thead>\n",
       "    <tr style=\"text-align: right;\">\n",
       "      <th></th>\n",
       "      <th>id</th>\n",
       "      <th>aceleracion</th>\n",
       "      <th>velocidad</th>\n",
       "      <th>falla</th>\n",
       "    </tr>\n",
       "  </thead>\n",
       "  <tbody>\n",
       "    <tr>\n",
       "      <th>3999995</th>\n",
       "      <td>1</td>\n",
       "      <td>0.081657</td>\n",
       "      <td>4.181863</td>\n",
       "      <td>1</td>\n",
       "    </tr>\n",
       "    <tr>\n",
       "      <th>3999996</th>\n",
       "      <td>1</td>\n",
       "      <td>0.053705</td>\n",
       "      <td>4.117094</td>\n",
       "      <td>1</td>\n",
       "    </tr>\n",
       "    <tr>\n",
       "      <th>3999997</th>\n",
       "      <td>1</td>\n",
       "      <td>0.018189</td>\n",
       "      <td>4.255837</td>\n",
       "      <td>1</td>\n",
       "    </tr>\n",
       "    <tr>\n",
       "      <th>3999998</th>\n",
       "      <td>1</td>\n",
       "      <td>-0.000884</td>\n",
       "      <td>0.037332</td>\n",
       "      <td>1</td>\n",
       "    </tr>\n",
       "    <tr>\n",
       "      <th>3999999</th>\n",
       "      <td>1</td>\n",
       "      <td>0.000431</td>\n",
       "      <td>0.037661</td>\n",
       "      <td>1</td>\n",
       "    </tr>\n",
       "  </tbody>\n",
       "</table>\n",
       "</div>"
      ],
      "text/plain": [
       "         id  aceleracion  velocidad  falla\n",
       "3999995   1     0.081657   4.181863      1\n",
       "3999996   1     0.053705   4.117094      1\n",
       "3999997   1     0.018189   4.255837      1\n",
       "3999998   1    -0.000884   0.037332      1\n",
       "3999999   1     0.000431   0.037661      1"
      ]
     },
     "execution_count": 112,
     "metadata": {},
     "output_type": "execute_result"
    }
   ],
   "source": [
    "train.tail()"
   ]
  },
  {
   "cell_type": "code",
   "execution_count": 113,
   "metadata": {},
   "outputs": [
    {
     "data": {
      "text/plain": [
       "(4000000, 4)"
      ]
     },
     "execution_count": 113,
     "metadata": {},
     "output_type": "execute_result"
    }
   ],
   "source": [
    "train.shape\n"
   ]
  },
  {
   "cell_type": "markdown",
   "metadata": {},
   "source": [
    "### Normalizado de datos"
   ]
  },
  {
   "cell_type": "code",
   "execution_count": 59,
   "metadata": {},
   "outputs": [],
   "source": [
    "# normalizar datos\n",
    "variables=['aceleracion','velocidad']\n",
    "\n",
    "objetivo='falla'"
   ]
  },
  {
   "cell_type": "code",
   "execution_count": 114,
   "metadata": {},
   "outputs": [
    {
     "data": {
      "text/html": [
       "<div>\n",
       "<style scoped>\n",
       "    .dataframe tbody tr th:only-of-type {\n",
       "        vertical-align: middle;\n",
       "    }\n",
       "\n",
       "    .dataframe tbody tr th {\n",
       "        vertical-align: top;\n",
       "    }\n",
       "\n",
       "    .dataframe thead th {\n",
       "        text-align: right;\n",
       "    }\n",
       "</style>\n",
       "<table border=\"1\" class=\"dataframe\">\n",
       "  <thead>\n",
       "    <tr style=\"text-align: right;\">\n",
       "      <th></th>\n",
       "      <th>id</th>\n",
       "      <th>aceleracion</th>\n",
       "      <th>velocidad</th>\n",
       "      <th>falla</th>\n",
       "    </tr>\n",
       "  </thead>\n",
       "  <tbody>\n",
       "    <tr>\n",
       "      <th>0</th>\n",
       "      <td>1</td>\n",
       "      <td>0.484421</td>\n",
       "      <td>0.941317</td>\n",
       "      <td>0</td>\n",
       "    </tr>\n",
       "    <tr>\n",
       "      <th>1</th>\n",
       "      <td>1</td>\n",
       "      <td>0.484604</td>\n",
       "      <td>0.943925</td>\n",
       "      <td>0</td>\n",
       "    </tr>\n",
       "    <tr>\n",
       "      <th>2</th>\n",
       "      <td>1</td>\n",
       "      <td>0.484787</td>\n",
       "      <td>0.945591</td>\n",
       "      <td>0</td>\n",
       "    </tr>\n",
       "    <tr>\n",
       "      <th>3</th>\n",
       "      <td>1</td>\n",
       "      <td>0.484604</td>\n",
       "      <td>0.949648</td>\n",
       "      <td>0</td>\n",
       "    </tr>\n",
       "    <tr>\n",
       "      <th>4</th>\n",
       "      <td>1</td>\n",
       "      <td>0.484421</td>\n",
       "      <td>0.952691</td>\n",
       "      <td>0</td>\n",
       "    </tr>\n",
       "  </tbody>\n",
       "</table>\n",
       "</div>"
      ],
      "text/plain": [
       "   id  aceleracion  velocidad  falla\n",
       "0   1     0.484421   0.941317      0\n",
       "1   1     0.484604   0.943925      0\n",
       "2   1     0.484787   0.945591      0\n",
       "3   1     0.484604   0.949648      0\n",
       "4   1     0.484421   0.952691      0"
      ]
     },
     "execution_count": 114,
     "metadata": {},
     "output_type": "execute_result"
    }
   ],
   "source": [
    "# escalado de datos \n",
    "\n",
    "scaler = MinMaxScaler()\n",
    "train[variables]=scaler.fit_transform(train[variables])\n",
    "train.head()"
   ]
  },
  {
   "cell_type": "code",
   "execution_count": 115,
   "metadata": {},
   "outputs": [
    {
     "data": {
      "text/html": [
       "<div>\n",
       "<style scoped>\n",
       "    .dataframe tbody tr th:only-of-type {\n",
       "        vertical-align: middle;\n",
       "    }\n",
       "\n",
       "    .dataframe tbody tr th {\n",
       "        vertical-align: top;\n",
       "    }\n",
       "\n",
       "    .dataframe thead th {\n",
       "        text-align: right;\n",
       "    }\n",
       "</style>\n",
       "<table border=\"1\" class=\"dataframe\">\n",
       "  <thead>\n",
       "    <tr style=\"text-align: right;\">\n",
       "      <th></th>\n",
       "      <th>id</th>\n",
       "      <th>aceleracion</th>\n",
       "      <th>velocidad</th>\n",
       "      <th>falla</th>\n",
       "    </tr>\n",
       "  </thead>\n",
       "  <tbody>\n",
       "    <tr>\n",
       "      <th>3999995</th>\n",
       "      <td>1</td>\n",
       "      <td>0.531158</td>\n",
       "      <td>0.939795</td>\n",
       "      <td>1</td>\n",
       "    </tr>\n",
       "    <tr>\n",
       "      <th>3999996</th>\n",
       "      <td>1</td>\n",
       "      <td>0.515579</td>\n",
       "      <td>0.925523</td>\n",
       "      <td>1</td>\n",
       "    </tr>\n",
       "    <tr>\n",
       "      <th>3999997</th>\n",
       "      <td>1</td>\n",
       "      <td>0.495784</td>\n",
       "      <td>0.956096</td>\n",
       "      <td>1</td>\n",
       "    </tr>\n",
       "    <tr>\n",
       "      <th>3999998</th>\n",
       "      <td>1</td>\n",
       "      <td>0.485154</td>\n",
       "      <td>0.026516</td>\n",
       "      <td>1</td>\n",
       "    </tr>\n",
       "    <tr>\n",
       "      <th>3999999</th>\n",
       "      <td>1</td>\n",
       "      <td>0.485887</td>\n",
       "      <td>0.026588</td>\n",
       "      <td>1</td>\n",
       "    </tr>\n",
       "  </tbody>\n",
       "</table>\n",
       "</div>"
      ],
      "text/plain": [
       "         id  aceleracion  velocidad  falla\n",
       "3999995   1     0.531158   0.939795      1\n",
       "3999996   1     0.515579   0.925523      1\n",
       "3999997   1     0.495784   0.956096      1\n",
       "3999998   1     0.485154   0.026516      1\n",
       "3999999   1     0.485887   0.026588      1"
      ]
     },
     "execution_count": 115,
     "metadata": {},
     "output_type": "execute_result"
    }
   ],
   "source": [
    "train.tail()"
   ]
  },
  {
   "cell_type": "markdown",
   "metadata": {},
   "source": [
    "Tamaño de la base 4 millones de observaciones "
   ]
  },
  {
   "cell_type": "code",
   "execution_count": 116,
   "metadata": {},
   "outputs": [
    {
     "data": {
      "text/html": [
       "<div>\n",
       "<style scoped>\n",
       "    .dataframe tbody tr th:only-of-type {\n",
       "        vertical-align: middle;\n",
       "    }\n",
       "\n",
       "    .dataframe tbody tr th {\n",
       "        vertical-align: top;\n",
       "    }\n",
       "\n",
       "    .dataframe thead th {\n",
       "        text-align: right;\n",
       "    }\n",
       "</style>\n",
       "<table border=\"1\" class=\"dataframe\">\n",
       "  <thead>\n",
       "    <tr style=\"text-align: right;\">\n",
       "      <th></th>\n",
       "      <th>aceleracion</th>\n",
       "      <th>velocidad</th>\n",
       "      <th>falla</th>\n",
       "    </tr>\n",
       "  </thead>\n",
       "  <tbody>\n",
       "    <tr>\n",
       "      <th>0</th>\n",
       "      <td>0.484421</td>\n",
       "      <td>0.941317</td>\n",
       "      <td>0</td>\n",
       "    </tr>\n",
       "    <tr>\n",
       "      <th>1</th>\n",
       "      <td>0.484604</td>\n",
       "      <td>0.943925</td>\n",
       "      <td>0</td>\n",
       "    </tr>\n",
       "    <tr>\n",
       "      <th>2</th>\n",
       "      <td>0.484787</td>\n",
       "      <td>0.945591</td>\n",
       "      <td>0</td>\n",
       "    </tr>\n",
       "    <tr>\n",
       "      <th>3</th>\n",
       "      <td>0.484604</td>\n",
       "      <td>0.949648</td>\n",
       "      <td>0</td>\n",
       "    </tr>\n",
       "    <tr>\n",
       "      <th>4</th>\n",
       "      <td>0.484421</td>\n",
       "      <td>0.952691</td>\n",
       "      <td>0</td>\n",
       "    </tr>\n",
       "  </tbody>\n",
       "</table>\n",
       "</div>"
      ],
      "text/plain": [
       "   aceleracion  velocidad  falla\n",
       "0     0.484421   0.941317      0\n",
       "1     0.484604   0.943925      0\n",
       "2     0.484787   0.945591      0\n",
       "3     0.484604   0.949648      0\n",
       "4     0.484421   0.952691      0"
      ]
     },
     "execution_count": 116,
     "metadata": {},
     "output_type": "execute_result"
    }
   ],
   "source": [
    "# borrar la columna id\n",
    "\n",
    "train.drop('id', axis=1, inplace=True)\n",
    "train.head()"
   ]
  },
  {
   "cell_type": "code",
   "execution_count": 117,
   "metadata": {},
   "outputs": [],
   "source": [
    "# separar datos de etiquetas\n",
    "\n",
    "data_train=train.iloc[:,np.r_[0:2]]\n",
    "label_train=train.iloc[:,2]"
   ]
  },
  {
   "cell_type": "code",
   "execution_count": 118,
   "metadata": {},
   "outputs": [
    {
     "data": {
      "text/plain": [
       "0    0\n",
       "1    0\n",
       "2    0\n",
       "3    0\n",
       "4    0\n",
       "Name: falla, dtype: int64"
      ]
     },
     "execution_count": 118,
     "metadata": {},
     "output_type": "execute_result"
    }
   ],
   "source": [
    "label_train.head()"
   ]
  },
  {
   "cell_type": "code",
   "execution_count": 119,
   "metadata": {},
   "outputs": [
    {
     "data": {
      "text/plain": [
       "0    2000000\n",
       "1    2000000\n",
       "Name: falla, dtype: int64"
      ]
     },
     "execution_count": 119,
     "metadata": {},
     "output_type": "execute_result"
    }
   ],
   "source": [
    "# conteo de observaciones etiquetadas con 1 y 0 en la base train\n",
    "label_train.value_counts(sort=False)"
   ]
  },
  {
   "cell_type": "code",
   "execution_count": 120,
   "metadata": {},
   "outputs": [
    {
     "data": {
      "text/html": [
       "<div>\n",
       "<style scoped>\n",
       "    .dataframe tbody tr th:only-of-type {\n",
       "        vertical-align: middle;\n",
       "    }\n",
       "\n",
       "    .dataframe tbody tr th {\n",
       "        vertical-align: top;\n",
       "    }\n",
       "\n",
       "    .dataframe thead th {\n",
       "        text-align: right;\n",
       "    }\n",
       "</style>\n",
       "<table border=\"1\" class=\"dataframe\">\n",
       "  <thead>\n",
       "    <tr style=\"text-align: right;\">\n",
       "      <th></th>\n",
       "      <th>aceleracion</th>\n",
       "      <th>velocidad</th>\n",
       "    </tr>\n",
       "  </thead>\n",
       "  <tbody>\n",
       "    <tr>\n",
       "      <th>0</th>\n",
       "      <td>0.484421</td>\n",
       "      <td>0.941317</td>\n",
       "    </tr>\n",
       "    <tr>\n",
       "      <th>1</th>\n",
       "      <td>0.484604</td>\n",
       "      <td>0.943925</td>\n",
       "    </tr>\n",
       "    <tr>\n",
       "      <th>2</th>\n",
       "      <td>0.484787</td>\n",
       "      <td>0.945591</td>\n",
       "    </tr>\n",
       "    <tr>\n",
       "      <th>3</th>\n",
       "      <td>0.484604</td>\n",
       "      <td>0.949648</td>\n",
       "    </tr>\n",
       "    <tr>\n",
       "      <th>4</th>\n",
       "      <td>0.484421</td>\n",
       "      <td>0.952691</td>\n",
       "    </tr>\n",
       "  </tbody>\n",
       "</table>\n",
       "</div>"
      ],
      "text/plain": [
       "   aceleracion  velocidad\n",
       "0     0.484421   0.941317\n",
       "1     0.484604   0.943925\n",
       "2     0.484787   0.945591\n",
       "3     0.484604   0.949648\n",
       "4     0.484421   0.952691"
      ]
     },
     "execution_count": 120,
     "metadata": {},
     "output_type": "execute_result"
    }
   ],
   "source": [
    "data_train.head()"
   ]
  },
  {
   "cell_type": "code",
   "execution_count": 121,
   "metadata": {},
   "outputs": [
    {
     "data": {
      "text/plain": [
       "0    0\n",
       "1    0\n",
       "2    0\n",
       "3    0\n",
       "4    0\n",
       "Name: falla, dtype: int64"
      ]
     },
     "execution_count": 121,
     "metadata": {},
     "output_type": "execute_result"
    }
   ],
   "source": [
    "label_train.head()"
   ]
  },
  {
   "cell_type": "code",
   "execution_count": 122,
   "metadata": {},
   "outputs": [
    {
     "data": {
      "image/png": "[encoded data removed]",
      "text/plain": [
       "<Figure size 432x288 with 1 Axes>"
      ]
     },
     "metadata": {
      "needs_background": "light"
     },
     "output_type": "display_data"
    }
   ],
   "source": [
    "# grafica de clases base de train, estado base equilibrada\n",
    "sns.countplot(label_train, palette=[\"#3498db\", \"#e74c3c\"])\n",
    "plt.title('       Saludable (0)               Falla Pista Interna (1)')\n",
    "plt.xlabel(\"Clases Base de Entrenamiento\")\n",
    "plt.ylabel(\"Numero de observaciones\")\n",
    "plt.savefig('vibraciones entrenamientoapp.png')\n",
    "pyplot.show()"
   ]
  },
  {
   "cell_type": "markdown",
   "metadata": {},
   "source": [
    "## Concatenar las bases de prueba"
   ]
  },
  {
   "cell_type": "code",
   "execution_count": 123,
   "metadata": {},
   "outputs": [
    {
     "data": {
      "text/html": [
       "<div>\n",
       "<style scoped>\n",
       "    .dataframe tbody tr th:only-of-type {\n",
       "        vertical-align: middle;\n",
       "    }\n",
       "\n",
       "    .dataframe tbody tr th {\n",
       "        vertical-align: top;\n",
       "    }\n",
       "\n",
       "    .dataframe thead th {\n",
       "        text-align: right;\n",
       "    }\n",
       "</style>\n",
       "<table border=\"1\" class=\"dataframe\">\n",
       "  <thead>\n",
       "    <tr style=\"text-align: right;\">\n",
       "      <th></th>\n",
       "      <th>id</th>\n",
       "      <th>aceleracion</th>\n",
       "      <th>velocidad</th>\n",
       "      <th>falla</th>\n",
       "    </tr>\n",
       "  </thead>\n",
       "  <tbody>\n",
       "    <tr>\n",
       "      <th>0</th>\n",
       "      <td>1</td>\n",
       "      <td>0.001747</td>\n",
       "      <td>0.036675</td>\n",
       "      <td>0</td>\n",
       "    </tr>\n",
       "    <tr>\n",
       "      <th>1</th>\n",
       "      <td>1</td>\n",
       "      <td>0.000760</td>\n",
       "      <td>0.028127</td>\n",
       "      <td>0</td>\n",
       "    </tr>\n",
       "    <tr>\n",
       "      <th>2</th>\n",
       "      <td>1</td>\n",
       "      <td>-0.004501</td>\n",
       "      <td>0.036346</td>\n",
       "      <td>0</td>\n",
       "    </tr>\n",
       "    <tr>\n",
       "      <th>3</th>\n",
       "      <td>1</td>\n",
       "      <td>0.000102</td>\n",
       "      <td>0.036346</td>\n",
       "      <td>0</td>\n",
       "    </tr>\n",
       "    <tr>\n",
       "      <th>4</th>\n",
       "      <td>1</td>\n",
       "      <td>0.002404</td>\n",
       "      <td>0.036017</td>\n",
       "      <td>0</td>\n",
       "    </tr>\n",
       "  </tbody>\n",
       "</table>\n",
       "</div>"
      ],
      "text/plain": [
       "   id  aceleracion  velocidad  falla\n",
       "0   1     0.001747   0.036675      0\n",
       "1   1     0.000760   0.028127      0\n",
       "2   1    -0.004501   0.036346      0\n",
       "3   1     0.000102   0.036346      0\n",
       "4   1     0.002404   0.036017      0"
      ]
     },
     "execution_count": 123,
     "metadata": {},
     "output_type": "execute_result"
    }
   ],
   "source": [
    "# concatenar\n",
    "test=pd.concat([H3train, I1train], ignore_index=True)\n",
    "test.head()"
   ]
  },
  {
   "cell_type": "code",
   "execution_count": 124,
   "metadata": {},
   "outputs": [
    {
     "data": {
      "text/html": [
       "<div>\n",
       "<style scoped>\n",
       "    .dataframe tbody tr th:only-of-type {\n",
       "        vertical-align: middle;\n",
       "    }\n",
       "\n",
       "    .dataframe tbody tr th {\n",
       "        vertical-align: top;\n",
       "    }\n",
       "\n",
       "    .dataframe thead th {\n",
       "        text-align: right;\n",
       "    }\n",
       "</style>\n",
       "<table border=\"1\" class=\"dataframe\">\n",
       "  <thead>\n",
       "    <tr style=\"text-align: right;\">\n",
       "      <th></th>\n",
       "      <th>id</th>\n",
       "      <th>aceleracion</th>\n",
       "      <th>velocidad</th>\n",
       "      <th>falla</th>\n",
       "    </tr>\n",
       "  </thead>\n",
       "  <tbody>\n",
       "    <tr>\n",
       "      <th>3999995</th>\n",
       "      <td>1</td>\n",
       "      <td>0.408531</td>\n",
       "      <td>0.037332</td>\n",
       "      <td>1</td>\n",
       "    </tr>\n",
       "    <tr>\n",
       "      <th>3999996</th>\n",
       "      <td>1</td>\n",
       "      <td>0.371371</td>\n",
       "      <td>4.076983</td>\n",
       "      <td>1</td>\n",
       "    </tr>\n",
       "    <tr>\n",
       "      <th>3999997</th>\n",
       "      <td>1</td>\n",
       "      <td>0.329278</td>\n",
       "      <td>4.206850</td>\n",
       "      <td>1</td>\n",
       "    </tr>\n",
       "    <tr>\n",
       "      <th>3999998</th>\n",
       "      <td>1</td>\n",
       "      <td>0.265811</td>\n",
       "      <td>4.228878</td>\n",
       "      <td>1</td>\n",
       "    </tr>\n",
       "    <tr>\n",
       "      <th>3999999</th>\n",
       "      <td>1</td>\n",
       "      <td>0.164855</td>\n",
       "      <td>4.292003</td>\n",
       "      <td>1</td>\n",
       "    </tr>\n",
       "  </tbody>\n",
       "</table>\n",
       "</div>"
      ],
      "text/plain": [
       "         id  aceleracion  velocidad  falla\n",
       "3999995   1     0.408531   0.037332      1\n",
       "3999996   1     0.371371   4.076983      1\n",
       "3999997   1     0.329278   4.206850      1\n",
       "3999998   1     0.265811   4.228878      1\n",
       "3999999   1     0.164855   4.292003      1"
      ]
     },
     "execution_count": 124,
     "metadata": {},
     "output_type": "execute_result"
    }
   ],
   "source": [
    "test.tail()"
   ]
  },
  {
   "cell_type": "code",
   "execution_count": 125,
   "metadata": {},
   "outputs": [
    {
     "data": {
      "text/plain": [
       "(4000000, 4)"
      ]
     },
     "execution_count": 125,
     "metadata": {},
     "output_type": "execute_result"
    }
   ],
   "source": [
    "test.shape\n"
   ]
  },
  {
   "cell_type": "code",
   "execution_count": 126,
   "metadata": {},
   "outputs": [],
   "source": [
    "# normalizado de datos sin incluir id, ciclo, ttf y clase\n",
    "\n",
    "test[variables]=scaler.transform(test[variables])"
   ]
  },
  {
   "cell_type": "markdown",
   "metadata": {},
   "source": [
    "Tamaño de la base 4 millones de observaciones "
   ]
  },
  {
   "cell_type": "code",
   "execution_count": 127,
   "metadata": {},
   "outputs": [
    {
     "data": {
      "text/html": [
       "<div>\n",
       "<style scoped>\n",
       "    .dataframe tbody tr th:only-of-type {\n",
       "        vertical-align: middle;\n",
       "    }\n",
       "\n",
       "    .dataframe tbody tr th {\n",
       "        vertical-align: top;\n",
       "    }\n",
       "\n",
       "    .dataframe thead th {\n",
       "        text-align: right;\n",
       "    }\n",
       "</style>\n",
       "<table border=\"1\" class=\"dataframe\">\n",
       "  <thead>\n",
       "    <tr style=\"text-align: right;\">\n",
       "      <th></th>\n",
       "      <th>aceleracion</th>\n",
       "      <th>velocidad</th>\n",
       "      <th>falla</th>\n",
       "    </tr>\n",
       "  </thead>\n",
       "  <tbody>\n",
       "    <tr>\n",
       "      <th>0</th>\n",
       "      <td>0.486620</td>\n",
       "      <td>0.026371</td>\n",
       "      <td>0</td>\n",
       "    </tr>\n",
       "    <tr>\n",
       "      <th>1</th>\n",
       "      <td>0.486070</td>\n",
       "      <td>0.024487</td>\n",
       "      <td>0</td>\n",
       "    </tr>\n",
       "    <tr>\n",
       "      <th>2</th>\n",
       "      <td>0.483138</td>\n",
       "      <td>0.026299</td>\n",
       "      <td>0</td>\n",
       "    </tr>\n",
       "    <tr>\n",
       "      <th>3</th>\n",
       "      <td>0.485704</td>\n",
       "      <td>0.026299</td>\n",
       "      <td>0</td>\n",
       "    </tr>\n",
       "    <tr>\n",
       "      <th>4</th>\n",
       "      <td>0.486987</td>\n",
       "      <td>0.026226</td>\n",
       "      <td>0</td>\n",
       "    </tr>\n",
       "  </tbody>\n",
       "</table>\n",
       "</div>"
      ],
      "text/plain": [
       "   aceleracion  velocidad  falla\n",
       "0     0.486620   0.026371      0\n",
       "1     0.486070   0.024487      0\n",
       "2     0.483138   0.026299      0\n",
       "3     0.485704   0.026299      0\n",
       "4     0.486987   0.026226      0"
      ]
     },
     "execution_count": 127,
     "metadata": {},
     "output_type": "execute_result"
    }
   ],
   "source": [
    "# borrar la columna id\n",
    "\n",
    "test.drop('id', axis=1, inplace=True)\n",
    "test.head()"
   ]
  },
  {
   "cell_type": "code",
   "execution_count": 128,
   "metadata": {},
   "outputs": [],
   "source": [
    "# separar datos de etiquetas\n",
    "\n",
    "data_test=test.iloc[:,np.r_[0:2]]\n",
    "label_test=test.iloc[:,2]"
   ]
  },
  {
   "cell_type": "code",
   "execution_count": 129,
   "metadata": {},
   "outputs": [
    {
     "data": {
      "text/plain": [
       "0    0\n",
       "1    0\n",
       "2    0\n",
       "3    0\n",
       "4    0\n",
       "Name: falla, dtype: int64"
      ]
     },
     "execution_count": 129,
     "metadata": {},
     "output_type": "execute_result"
    }
   ],
   "source": [
    "label_test.head()"
   ]
  },
  {
   "cell_type": "code",
   "execution_count": 130,
   "metadata": {},
   "outputs": [
    {
     "data": {
      "text/plain": [
       "0    2000000\n",
       "1    2000000\n",
       "Name: falla, dtype: int64"
      ]
     },
     "execution_count": 130,
     "metadata": {},
     "output_type": "execute_result"
    }
   ],
   "source": [
    "# conteo de observaciones etiquetadas con 1 y 0 en la base train\n",
    "label_test.value_counts(sort=False)"
   ]
  },
  {
   "cell_type": "code",
   "execution_count": 131,
   "metadata": {},
   "outputs": [
    {
     "data": {
      "text/html": [
       "<div>\n",
       "<style scoped>\n",
       "    .dataframe tbody tr th:only-of-type {\n",
       "        vertical-align: middle;\n",
       "    }\n",
       "\n",
       "    .dataframe tbody tr th {\n",
       "        vertical-align: top;\n",
       "    }\n",
       "\n",
       "    .dataframe thead th {\n",
       "        text-align: right;\n",
       "    }\n",
       "</style>\n",
       "<table border=\"1\" class=\"dataframe\">\n",
       "  <thead>\n",
       "    <tr style=\"text-align: right;\">\n",
       "      <th></th>\n",
       "      <th>aceleracion</th>\n",
       "      <th>velocidad</th>\n",
       "    </tr>\n",
       "  </thead>\n",
       "  <tbody>\n",
       "    <tr>\n",
       "      <th>0</th>\n",
       "      <td>0.486620</td>\n",
       "      <td>0.026371</td>\n",
       "    </tr>\n",
       "    <tr>\n",
       "      <th>1</th>\n",
       "      <td>0.486070</td>\n",
       "      <td>0.024487</td>\n",
       "    </tr>\n",
       "    <tr>\n",
       "      <th>2</th>\n",
       "      <td>0.483138</td>\n",
       "      <td>0.026299</td>\n",
       "    </tr>\n",
       "    <tr>\n",
       "      <th>3</th>\n",
       "      <td>0.485704</td>\n",
       "      <td>0.026299</td>\n",
       "    </tr>\n",
       "    <tr>\n",
       "      <th>4</th>\n",
       "      <td>0.486987</td>\n",
       "      <td>0.026226</td>\n",
       "    </tr>\n",
       "  </tbody>\n",
       "</table>\n",
       "</div>"
      ],
      "text/plain": [
       "   aceleracion  velocidad\n",
       "0     0.486620   0.026371\n",
       "1     0.486070   0.024487\n",
       "2     0.483138   0.026299\n",
       "3     0.485704   0.026299\n",
       "4     0.486987   0.026226"
      ]
     },
     "execution_count": 131,
     "metadata": {},
     "output_type": "execute_result"
    }
   ],
   "source": [
    "data_test.head()"
   ]
  },
  {
   "cell_type": "code",
   "execution_count": 132,
   "metadata": {},
   "outputs": [
    {
     "data": {
      "text/plain": [
       "0    0\n",
       "1    0\n",
       "2    0\n",
       "3    0\n",
       "4    0\n",
       "Name: falla, dtype: int64"
      ]
     },
     "execution_count": 132,
     "metadata": {},
     "output_type": "execute_result"
    }
   ],
   "source": [
    "label_test.head()"
   ]
  },
  {
   "cell_type": "code",
   "execution_count": 133,
   "metadata": {},
   "outputs": [
    {
     "data": {
      "image/png": "[encoded data removed]",
      "text/plain": [
       "<Figure size 432x288 with 1 Axes>"
      ]
     },
     "metadata": {
      "needs_background": "light"
     },
     "output_type": "display_data"
    }
   ],
   "source": [
    "# grafica de clases base de train, estado base equilibrada\n",
    "sns.countplot(label_test, palette=[\"#3498db\", \"#e74c3c\"])\n",
    "plt.title('       Saludable (0)               Falla Pista Interna (1)')\n",
    "plt.xlabel(\"Clases Base de Entrenamiento\")\n",
    "plt.ylabel(\"Numero de observaciones\")\n",
    "plt.savefig('vibraciones entrenamientoapp.png')\n",
    "pyplot.show()"
   ]
  },
  {
   "cell_type": "markdown",
   "metadata": {},
   "source": [
    "### Convertir en formato 3D"
   ]
  },
  {
   "cell_type": "code",
   "execution_count": 134,
   "metadata": {},
   "outputs": [],
   "source": [
    "# convertir en arreglo\n",
    "data_train2=data_train.to_numpy()"
   ]
  },
  {
   "cell_type": "code",
   "execution_count": 135,
   "metadata": {},
   "outputs": [
    {
     "data": {
      "text/plain": [
       "numpy.ndarray"
      ]
     },
     "execution_count": 135,
     "metadata": {},
     "output_type": "execute_result"
    }
   ],
   "source": [
    "type(data_train2)"
   ]
  },
  {
   "cell_type": "code",
   "execution_count": 136,
   "metadata": {},
   "outputs": [
    {
     "data": {
      "text/plain": [
       "array([[0.48442065, 0.9413168 ],\n",
       "       [0.48460393, 0.94392494],\n",
       "       [0.48478721, 0.94559126],\n",
       "       ...,\n",
       "       [0.49578428, 0.95609627],\n",
       "       [0.48515378, 0.02651587],\n",
       "       [0.48588692, 0.02658831]])"
      ]
     },
     "execution_count": 136,
     "metadata": {},
     "output_type": "execute_result"
    }
   ],
   "source": [
    "data_train2"
   ]
  },
  {
   "cell_type": "code",
   "execution_count": 138,
   "metadata": {},
   "outputs": [],
   "source": [
    "# covertir datos de 2d a 3d como lo requiere LSTM\n",
    "data_train = data_train2.reshape((data_train2.shape[0], 1, data_train2.shape[1]))"
   ]
  },
  {
   "cell_type": "code",
   "execution_count": 139,
   "metadata": {},
   "outputs": [
    {
     "data": {
      "text/plain": [
       "(4000000, 1, 2)"
      ]
     },
     "execution_count": 139,
     "metadata": {},
     "output_type": "execute_result"
    }
   ],
   "source": [
    "data_train.shape"
   ]
  },
  {
   "cell_type": "code",
   "execution_count": 140,
   "metadata": {},
   "outputs": [
    {
     "data": {
      "text/plain": [
       "array([[[0.48442065, 0.9413168 ]],\n",
       "\n",
       "       [[0.48460393, 0.94392494]],\n",
       "\n",
       "       [[0.48478721, 0.94559126]],\n",
       "\n",
       "       ...,\n",
       "\n",
       "       [[0.49578428, 0.95609627]],\n",
       "\n",
       "       [[0.48515378, 0.02651587]],\n",
       "\n",
       "       [[0.48588692, 0.02658831]]])"
      ]
     },
     "execution_count": 140,
     "metadata": {},
     "output_type": "execute_result"
    }
   ],
   "source": [
    "data_train"
   ]
  },
  {
   "cell_type": "code",
   "execution_count": 141,
   "metadata": {},
   "outputs": [],
   "source": [
    "label_train=label_train.to_numpy()"
   ]
  },
  {
   "cell_type": "code",
   "execution_count": 142,
   "metadata": {},
   "outputs": [
    {
     "data": {
      "text/plain": [
       "(4000000,)"
      ]
     },
     "execution_count": 142,
     "metadata": {},
     "output_type": "execute_result"
    }
   ],
   "source": [
    "label_train.shape"
   ]
  },
  {
   "cell_type": "code",
   "execution_count": 143,
   "metadata": {},
   "outputs": [],
   "source": [
    "data_test2=data_test.to_numpy()"
   ]
  },
  {
   "cell_type": "code",
   "execution_count": 144,
   "metadata": {},
   "outputs": [],
   "source": [
    "data_test = data_test2.reshape((data_test2.shape[0], 1, data_test2.shape[1]))"
   ]
  },
  {
   "cell_type": "code",
   "execution_count": 145,
   "metadata": {},
   "outputs": [
    {
     "data": {
      "text/plain": [
       "(4000000, 1, 2)"
      ]
     },
     "execution_count": 145,
     "metadata": {},
     "output_type": "execute_result"
    }
   ],
   "source": [
    "data_test.shape"
   ]
  },
  {
   "cell_type": "code",
   "execution_count": 146,
   "metadata": {},
   "outputs": [],
   "source": [
    "label_test=label_test.to_numpy()"
   ]
  },
  {
   "cell_type": "code",
   "execution_count": 147,
   "metadata": {},
   "outputs": [
    {
     "data": {
      "text/plain": [
       "(4000000,)"
      ]
     },
     "execution_count": 147,
     "metadata": {},
     "output_type": "execute_result"
    }
   ],
   "source": [
    "label_test.shape"
   ]
  },
  {
   "cell_type": "code",
   "execution_count": 148,
   "metadata": {},
   "outputs": [
    {
     "name": "stdout",
     "output_type": "stream",
     "text": [
      "numero de dimensiones Data_train = 3\n",
      "tamaño de la tabla Data_train = (4000000, 1, 2)\n",
      "total datos Data_train = 8000000\n",
      "------------------------------------------------------------\n",
      "numero de dimensiones Label_train = 1\n",
      "tamaño de la tabla Label_train = (4000000,)\n",
      "total datos Label_train = 4000000\n",
      "------------------------------------------------------------\n",
      "numero de dimensiones Data_test = 3\n",
      "tamaño de la tabla Data_test = (4000000, 1, 2)\n",
      "total datos Data_test = 8000000\n",
      "------------------------------------------------------------\n",
      "numero de dimensiones Label_test = 1\n",
      "tamaño de la tabla Label_test = (4000000,)\n",
      "total datos Label_test = 4000000\n"
     ]
    }
   ],
   "source": [
    "print(\"numero de dimensiones Data_train =\", data_train.ndim)\n",
    "print(\"tamaño de la tabla Data_train =\", data_train.shape)\n",
    "print(\"total datos Data_train =\", data_train.size)\n",
    "print('-'*60)\n",
    "print(\"numero de dimensiones Label_train =\", label_train.ndim)\n",
    "print(\"tamaño de la tabla Label_train =\", label_train.shape)\n",
    "print(\"total datos Label_train =\", label_train.size)\n",
    "print('-'*60)\n",
    "print(\"numero de dimensiones Data_test =\", data_test.ndim)\n",
    "print(\"tamaño de la tabla Data_test =\", data_test.shape)\n",
    "print(\"total datos Data_test =\", data_test.size)\n",
    "print('-'*60)\n",
    "print(\"numero de dimensiones Label_test =\", label_test.ndim)\n",
    "print(\"tamaño de la tabla Label_test =\", label_test.shape)\n",
    "print(\"total datos Label_test =\", label_test.size)"
   ]
  },
  {
   "cell_type": "markdown",
   "metadata": {},
   "source": [
    "## Stacked LSTM (APILADO)"
   ]
  },
  {
   "cell_type": "code",
   "execution_count": 160,
   "metadata": {},
   "outputs": [
    {
     "name": "stdout",
     "output_type": "stream",
     "text": [
      "WARNING:tensorflow:From C:\\Users\\alexh\\Anaconda3\\lib\\site-packages\\keras\\backend\\tensorflow_backend.py:3445: calling dropout (from tensorflow.python.ops.nn_ops) with keep_prob is deprecated and will be removed in a future version.\n",
      "Instructions for updating:\n",
      "Please use `rate` instead of `keep_prob`. Rate should be set to `rate = 1 - keep_prob`.\n",
      "_________________________________________________________________\n",
      "Layer (type)                 Output Shape              Param #   \n",
      "=================================================================\n",
      "lstm_3 (LSTM)                (None, 1, 100)            41200     \n",
      "_________________________________________________________________\n",
      "dropout_1 (Dropout)          (None, 1, 100)            0         \n",
      "_________________________________________________________________\n",
      "lstm_4 (LSTM)                (None, 50)                30200     \n",
      "_________________________________________________________________\n",
      "dropout_2 (Dropout)          (None, 50)                0         \n",
      "_________________________________________________________________\n",
      "dense_3 (Dense)              (None, 1)                 51        \n",
      "=================================================================\n",
      "Total params: 71,451\n",
      "Trainable params: 71,451\n",
      "Non-trainable params: 0\n",
      "_________________________________________________________________\n",
      "None\n",
      "Train on 3600000 samples, validate on 400000 samples\n",
      "Epoch 1/20\n",
      " - 287s - loss: 0.6870 - acc: 0.5556 - val_loss: 0.8142 - val_acc: 0.0000e+00\n",
      "\n",
      "Epoch 00001: val_loss improved from inf to 0.81420, saving model to classification_model6.h5\n",
      "Epoch 2/20\n",
      " - 275s - loss: 0.6870 - acc: 0.5556 - val_loss: 0.8105 - val_acc: 0.0000e+00\n",
      "\n",
      "Epoch 00002: val_loss improved from 0.81420 to 0.81048, saving model to classification_model6.h5\n",
      "Epoch 3/20\n",
      " - 276s - loss: 0.6870 - acc: 0.5556 - val_loss: 0.8142 - val_acc: 2.5000e-06\n",
      "\n",
      "Epoch 00003: val_loss did not improve from 0.81048\n",
      "Epoch 4/20\n",
      " - 276s - loss: 0.6343 - acc: 0.6276 - val_loss: 0.6036 - val_acc: 0.4004\n",
      "\n",
      "Epoch 00004: val_loss improved from 0.81048 to 0.60364, saving model to classification_model6.h5\n",
      "Epoch 5/20\n",
      " - 275s - loss: 0.5603 - acc: 0.7050 - val_loss: 0.3982 - val_acc: 0.7412\n",
      "\n",
      "Epoch 00005: val_loss improved from 0.60364 to 0.39816, saving model to classification_model6.h5\n",
      "Epoch 6/20\n",
      " - 274s - loss: 0.4888 - acc: 0.7707 - val_loss: 0.3669 - val_acc: 0.7598\n",
      "\n",
      "Epoch 00006: val_loss improved from 0.39816 to 0.36693, saving model to classification_model6.h5\n",
      "Epoch 7/20\n",
      " - 274s - loss: 0.4784 - acc: 0.7768 - val_loss: 0.3506 - val_acc: 0.7724\n",
      "\n",
      "Epoch 00007: val_loss improved from 0.36693 to 0.35063, saving model to classification_model6.h5\n",
      "Epoch 8/20\n",
      " - 276s - loss: 0.4759 - acc: 0.7782 - val_loss: 0.3509 - val_acc: 0.7722\n",
      "\n",
      "Epoch 00008: val_loss did not improve from 0.35063\n",
      "Epoch 9/20\n",
      " - 275s - loss: 0.4743 - acc: 0.7789 - val_loss: 0.3643 - val_acc: 0.7676\n",
      "\n",
      "Epoch 00009: val_loss did not improve from 0.35063\n",
      "Epoch 10/20\n",
      " - 274s - loss: 0.4738 - acc: 0.7792 - val_loss: 0.3304 - val_acc: 0.7851\n",
      "\n",
      "Epoch 00010: val_loss improved from 0.35063 to 0.33040, saving model to classification_model6.h5\n",
      "Epoch 11/20\n",
      " - 277s - loss: 0.4730 - acc: 0.7796 - val_loss: 0.3548 - val_acc: 0.7739\n",
      "\n",
      "Epoch 00011: val_loss did not improve from 0.33040\n",
      "Epoch 12/20\n",
      " - 284s - loss: 0.4727 - acc: 0.7799 - val_loss: 0.3507 - val_acc: 0.7747\n",
      "\n",
      "Epoch 00012: val_loss did not improve from 0.33040\n",
      "Epoch 13/20\n",
      " - 275s - loss: 0.4724 - acc: 0.7799 - val_loss: 0.3580 - val_acc: 0.7752\n",
      "\n",
      "Epoch 00013: val_loss did not improve from 0.33040\n",
      "Epoch 14/20\n",
      " - 275s - loss: 0.4722 - acc: 0.7800 - val_loss: 0.3058 - val_acc: 0.8044\n",
      "\n",
      "Epoch 00014: val_loss improved from 0.33040 to 0.30576, saving model to classification_model6.h5\n",
      "Epoch 15/20\n",
      " - 273s - loss: 0.4719 - acc: 0.7802 - val_loss: 0.3447 - val_acc: 0.7848\n",
      "\n",
      "Epoch 00015: val_loss did not improve from 0.30576\n",
      "Epoch 16/20\n",
      " - 273s - loss: 0.4720 - acc: 0.7801 - val_loss: 0.3471 - val_acc: 0.7725\n",
      "\n",
      "Epoch 00016: val_loss did not improve from 0.30576\n",
      "Epoch 17/20\n",
      " - 273s - loss: 0.4718 - acc: 0.7803 - val_loss: 0.3295 - val_acc: 0.7895\n",
      "\n",
      "Epoch 00017: val_loss did not improve from 0.30576\n",
      "Epoch 18/20\n",
      " - 273s - loss: 0.4716 - acc: 0.7804 - val_loss: 0.3316 - val_acc: 0.7854\n",
      "\n",
      "Epoch 00018: val_loss did not improve from 0.30576\n",
      "Epoch 19/20\n",
      " - 276s - loss: 0.4716 - acc: 0.7804 - val_loss: 0.3506 - val_acc: 0.7773\n",
      "\n",
      "Epoch 00019: val_loss did not improve from 0.30576\n",
      "Epoch 00019: early stopping\n",
      "dict_keys(['val_loss', 'val_acc', 'loss', 'acc'])\n"
     ]
    }
   ],
   "source": [
    "model_path_clf = 'classification_model6.h5'  \n",
    "\n",
    "features =data_train.shape[2]\n",
    "time_steps =data_train.shape[1]\n",
    "\n",
    "model = Sequential()\n",
    "model.add(LSTM(100, input_shape=(time_steps, features), return_sequences=True,kernel_initializer='glorot_normal'))\n",
    "model.add(Dropout(0.2))\n",
    "model.add(LSTM(50, return_sequences=False))\n",
    "model.add(Dropout(0.2))\n",
    "model.add(Dense(1, activation='sigmoid'))\n",
    "model.compile(loss='binary_crossentropy', optimizer='adam', metrics=['accuracy'])\n",
    "\n",
    "print(model.summary())\n",
    "\n",
    "# entrenar modelo\n",
    "history = model.fit(data_train, label_train, epochs=20, batch_size=128, validation_split=0.1, verbose=2,\n",
    "          callbacks = [keras.callbacks.EarlyStopping(monitor='val_loss', min_delta=0, patience=5, verbose=1, mode='min'),\n",
    "                       keras.callbacks.ModelCheckpoint(model_path_clf, monitor='val_loss', save_best_only=True, mode='min', verbose=1)])\n",
    "print(history.history.keys())\n"
   ]
  },
  {
   "cell_type": "code",
   "execution_count": 161,
   "metadata": {},
   "outputs": [],
   "source": [
    "# cargar el mejor modelo guardado durante el entrenamiento\n",
    "\n",
    "# load the saved model\n",
    "saved_model = load_model('classification_model6.h5')"
   ]
  },
  {
   "cell_type": "code",
   "execution_count": 162,
   "metadata": {},
   "outputs": [],
   "source": [
    "label_pred=saved_model.predict_classes(data_test)"
   ]
  },
  {
   "cell_type": "code",
   "execution_count": 163,
   "metadata": {},
   "outputs": [
    {
     "name": "stdout",
     "output_type": "stream",
     "text": [
      "Confusion Matrix: \n",
      " [[1694634  305366]\n",
      " [   2849 1997151]]\n",
      "\n",
      "\n",
      "MEDIDAS DE DESEMPEÑO DEL MODELO\n",
      "\n",
      "\n",
      "Exactitud - Accuracy: 0.92294625\n",
      "ROC AUC: 0.92294625\n",
      "------------------------------------------------------------\n",
      "Precisión por clase: [0.99832163 0.86737731]\n",
      "Sensibilidad - Recall por clase: [0.847317  0.9985755]\n",
      "F1 por clase: [0.91664194 0.92836403]\n",
      "------------------------------------------------------------\n",
      "F1 Macro: 0.9225029838491651\n",
      "F1 Micro: 0.92294625\n",
      "F1 Weighted: 0.9225029838491651\n",
      "------------------------------------------------------------\n",
      "Sensibilidad - Recall Macro: 0.92294625\n",
      "Sensibilidad - Recall Micro: 0.92294625\n",
      "Sensibilidad - Recall Weighted: 0.92294625\n",
      "------------------------------------------------------------\n",
      "Precisión Macro: 0.9328494709712412\n",
      "Precisión Micro: 0.92294625\n",
      "Precisión Weighted: 0.9328494709712412\n"
     ]
    }
   ],
   "source": [
    "# Medidas de desempeño del modelo\n",
    "matriz = confusion_matrix(label_test, label_pred)\n",
    "print('Confusion Matrix: \\n',confusion_matrix(label_test,label_pred))\n",
    "print('\\n')\n",
    "print(\"MEDIDAS DE DESEMPEÑO DEL MODELO\")\n",
    "print('\\n')\n",
    "print('Exactitud - Accuracy: {}'.format(accuracy_score(label_test,label_pred)))\n",
    "print('ROC AUC: {}'.format (metrics.roc_auc_score(label_test, label_pred)))\n",
    "print('-'*60)\n",
    "print('Precisión por clase: {}'.format(metrics.precision_score(label_test, label_pred, average=None)))\n",
    "print('Sensibilidad - Recall por clase: {}'.format(metrics.recall_score(label_test, label_pred, average=None)))\n",
    "print('F1 por clase: {}'.format(metrics.f1_score(label_test, label_pred, average=None)))\n",
    "print('-'*60)\n",
    "print('F1 Macro: {}'.format(metrics.f1_score(label_test, label_pred, average='macro')))\n",
    "print('F1 Micro: {}'.format(metrics.f1_score(label_test, label_pred, average='micro')))\n",
    "print('F1 Weighted: {}'.format(metrics.f1_score(label_test, label_pred, average='weighted')))\n",
    "print('-'*60)\n",
    "print('Sensibilidad - Recall Macro: {}'.format(metrics.recall_score(label_test, label_pred, average='macro')))\n",
    "print('Sensibilidad - Recall Micro: {}'.format(metrics.recall_score(label_test, label_pred, average='micro')))\n",
    "print('Sensibilidad - Recall Weighted: {}'.format(metrics.recall_score(label_test, label_pred, average='weighted')))\n",
    "print('-'*60)\n",
    "print('Precisión Macro: {}'.format(metrics.precision_score(label_test, label_pred, average='macro')))\n",
    "print('Precisión Micro: {}'.format(metrics.precision_score(label_test, label_pred, average='micro')))\n",
    "print('Precisión Weighted: {}'.format(metrics.precision_score(label_test, label_pred, average='weighted')))"
   ]
  },
  {
   "cell_type": "markdown",
   "metadata": {},
   "source": [
    "## Vanilla LSTM"
   ]
  },
  {
   "cell_type": "markdown",
   "metadata": {},
   "source": [
    "## Busqueda del numero de celdas de memoria red LSTM\n",
    "\n",
    "A continuacion se relizara una busqueda del numero optimo de celdas de memoria \n"
   ]
  },
  {
   "cell_type": "code",
   "execution_count": 104,
   "metadata": {},
   "outputs": [],
   "source": [
    "# Funcion para entrenar modelo LSTM\n",
    "def fit_model(n_cells):\n",
    "   # definir el modelo\n",
    "    model = Sequential()\n",
    "    model.add(LSTM(n_cells, input_shape=(time_steps, features)))\n",
    "    model.add(Dense(1, activation='sigmoid' ))\n",
    "    # compilar el modelo\n",
    "    model.compile(loss='binary_crossentropy', optimizer='adam')\n",
    "    # entrenar el modelo\n",
    "    history = model.fit(data_train, label_train, epochs=5, batch_size=512, shuffle=False, verbose=2)\n",
    "    # evaluar el modelo\n",
    "    loss = model.evaluate(data_test, label_test, verbose=0)\n",
    "    return loss"
   ]
  },
  {
   "cell_type": "code",
   "execution_count": 105,
   "metadata": {},
   "outputs": [
    {
     "name": "stdout",
     "output_type": "stream",
     "text": [
      "Epoch 1/5\n",
      " - 50s - loss: 0.0695\n",
      "Epoch 2/5\n",
      " - 49s - loss: 0.0789\n",
      "Epoch 3/5\n",
      " - 44s - loss: 0.0671\n",
      "Epoch 4/5\n",
      " - 44s - loss: 0.0619\n",
      "Epoch 5/5\n",
      " - 44s - loss: 0.0591\n",
      ">1/2 param=30.000000, loss=3.991799\n",
      "Epoch 1/5\n",
      " - 46s - loss: 0.0700\n",
      "Epoch 2/5\n",
      " - 48s - loss: 0.0810\n",
      "Epoch 3/5\n",
      " - 45s - loss: 0.0732\n",
      "Epoch 4/5\n",
      " - 47s - loss: 0.0685\n",
      "Epoch 5/5\n",
      " - 45s - loss: 0.0667\n",
      ">2/2 param=30.000000, loss=3.821061\n",
      "Epoch 1/5\n",
      " - 45s - loss: 0.0617\n",
      "Epoch 2/5\n",
      " - 44s - loss: 0.0714\n",
      "Epoch 3/5\n",
      " - 44s - loss: 0.0573\n",
      "Epoch 4/5\n",
      " - 45s - loss: 0.0446\n",
      "Epoch 5/5\n",
      " - 48s - loss: 0.0367\n",
      ">1/2 param=50.000000, loss=4.882663\n",
      "Epoch 1/5\n",
      " - 46s - loss: 0.0593\n",
      "Epoch 2/5\n",
      " - 45s - loss: 0.0722\n",
      "Epoch 3/5\n",
      " - 45s - loss: 0.0590\n",
      "Epoch 4/5\n",
      " - 45s - loss: 0.0495\n",
      "Epoch 5/5\n",
      " - 45s - loss: 0.0402\n",
      ">2/2 param=50.000000, loss=4.767308\n",
      "Epoch 1/5\n",
      " - 47s - loss: 0.0478\n",
      "Epoch 2/5\n",
      " - 46s - loss: 0.0583\n",
      "Epoch 3/5\n",
      " - 47s - loss: 0.0419\n",
      "Epoch 4/5\n",
      " - 45s - loss: 0.0325\n",
      "Epoch 5/5\n",
      " - 45s - loss: 0.0293\n",
      ">1/2 param=100.000000, loss=5.264175\n",
      "Epoch 1/5\n",
      " - 47s - loss: 0.0473\n",
      "Epoch 2/5\n",
      " - 46s - loss: 0.0564\n",
      "Epoch 3/5\n",
      " - 46s - loss: 0.0405\n",
      "Epoch 4/5\n",
      " - 46s - loss: 0.0340\n",
      "Epoch 5/5\n",
      " - 46s - loss: 0.0287\n",
      ">2/2 param=100.000000, loss=5.197009\n",
      "Epoch 1/5\n",
      " - 50s - loss: 0.0368\n",
      "Epoch 2/5\n",
      " - 48s - loss: 0.0478\n",
      "Epoch 3/5\n",
      " - 48s - loss: 0.0356\n",
      "Epoch 4/5\n",
      " - 48s - loss: 0.0285\n",
      "Epoch 5/5\n",
      " - 48s - loss: 0.0242\n",
      ">1/2 param=200.000000, loss=5.375810\n",
      "Epoch 1/5\n",
      " - 49s - loss: 0.0373\n",
      "Epoch 2/5\n",
      " - 48s - loss: 0.0463\n",
      "Epoch 3/5\n",
      " - 50s - loss: 0.0346\n",
      "Epoch 4/5\n",
      " - 49s - loss: 0.0268\n",
      "Epoch 5/5\n",
      " - 48s - loss: 0.0243\n",
      ">2/2 param=200.000000, loss=5.493172\n",
      "Epoch 1/5\n",
      " - 56s - loss: 0.0291\n",
      "Epoch 2/5\n",
      " - 54s - loss: 0.0419\n",
      "Epoch 3/5\n",
      " - 54s - loss: 0.0310\n",
      "Epoch 4/5\n",
      " - 54s - loss: 0.0242\n",
      "Epoch 5/5\n",
      " - 54s - loss: 0.0229\n",
      ">1/2 param=400.000000, loss=5.696290\n",
      "Epoch 1/5\n",
      " - 55s - loss: 0.0294\n",
      "Epoch 2/5\n",
      " - 54s - loss: 0.0423\n",
      "Epoch 3/5\n",
      " - 54s - loss: 0.0311\n",
      "Epoch 4/5\n",
      " - 54s - loss: 0.0243\n",
      "Epoch 5/5\n",
      " - 54s - loss: 0.0229\n",
      ">2/2 param=400.000000, loss=5.667808\n",
      "             30        50       100       200       400\n",
      "count  2.000000  2.000000  2.000000  2.000000  2.000000\n",
      "mean   3.906430  4.824986  5.230592  5.434491  5.682049\n",
      "std    0.120731  0.081568  0.047494  0.082987  0.020140\n",
      "min    3.821061  4.767308  5.197009  5.375810  5.667808\n",
      "25%    3.863745  4.796147  5.213800  5.405151  5.674929\n",
      "50%    3.906430  4.824986  5.230592  5.434491  5.682049\n",
      "75%    3.949115  4.853825  5.247384  5.463832  5.689170\n",
      "max    3.991799  4.882663  5.264175  5.493172  5.696290\n"
     ]
    },
    {
     "data": {
      "text/plain": [
       "<matplotlib.axes._subplots.AxesSubplot at 0x24e44ae84e0>"
      ]
     },
     "execution_count": 105,
     "metadata": {},
     "output_type": "execute_result"
    },
    {
     "data": {
      "image/png": "[encoded data removed]",
      "text/plain": [
       "<Figure size 432x288 with 1 Axes>"
      ]
     },
     "metadata": {
      "needs_background": "light"
     },
     "output_type": "display_data"
    }
   ],
   "source": [
    "# realizar la evalaucion del desempeño de la red con cadas 7 configuraciones de celdas de memoria\n",
    "# debido a la naturaleza estocastica de las red LSTM se repete el experimento 10 veces por cada grupo de celdas de memoria\n",
    "\n",
    "features =data_train.shape[2]\n",
    "time_steps =data_train.shape[1]\n",
    "\n",
    "# definir el alcance de la búsqueda\n",
    "params = [30, 50, 100, 200, 400]\n",
    "n_repeats = 2\n",
    "\n",
    "# valores de parámetros de búsqueda de cuadrícula\n",
    "scores = DataFrame()\n",
    "\n",
    "for value in params:\n",
    "    # repite cada experimento varias veces\n",
    "    loss_values = list()\n",
    "    for i in range(n_repeats):\n",
    "        loss = fit_model(value)\n",
    "        loss_values.append(loss)\n",
    "        print( '>%d/%d param=%f, loss=%f' % (i+1, n_repeats, value, loss))\n",
    "    # almacenar resultados para este parámetro\n",
    "    scores[str(value)] = loss_values\n",
    "\n",
    "# estadísticas resumidas de resultados\n",
    "print(scores.describe())\n",
    "\n",
    "# grafica de cajas y bigotes de los resultados\n",
    "scores.boxplot()\n",
    "#pyplot.show()"
   ]
  },
  {
   "cell_type": "markdown",
   "metadata": {},
   "source": [
    "# Vanilla LSTM ajustado"
   ]
  },
  {
   "cell_type": "code",
   "execution_count": 106,
   "metadata": {},
   "outputs": [
    {
     "name": "stdout",
     "output_type": "stream",
     "text": [
      "_________________________________________________________________\n",
      "Layer (type)                 Output Shape              Param #   \n",
      "=================================================================\n",
      "lstm_13 (LSTM)               (None, 30)                3960      \n",
      "_________________________________________________________________\n",
      "dense_13 (Dense)             (None, 1)                 31        \n",
      "=================================================================\n",
      "Total params: 3,991\n",
      "Trainable params: 3,991\n",
      "Non-trainable params: 0\n",
      "_________________________________________________________________\n",
      "None\n",
      "Train on 3600000 samples, validate on 400000 samples\n",
      "Epoch 1/20\n",
      " - 338s - loss: 0.6870 - acc: 0.5555 - val_loss: 0.8086 - val_acc: 0.0000e+00\n",
      "\n",
      "Epoch 00001: val_loss improved from inf to 0.80859, saving model to classification_modelv2.h5\n",
      "Epoch 2/20\n",
      " - 341s - loss: 0.6751 - acc: 0.5807 - val_loss: 0.7201 - val_acc: 0.3405\n",
      "\n",
      "Epoch 00002: val_loss improved from 0.80859 to 0.72005, saving model to classification_modelv2.h5\n",
      "Epoch 3/20\n",
      " - 341s - loss: 0.5985 - acc: 0.7093 - val_loss: 0.5123 - val_acc: 0.6472\n",
      "\n",
      "Epoch 00003: val_loss improved from 0.72005 to 0.51230, saving model to classification_modelv2.h5\n",
      "Epoch 4/20\n",
      " - 337s - loss: 0.5324 - acc: 0.7624 - val_loss: 0.4081 - val_acc: 0.7383\n",
      "\n",
      "Epoch 00004: val_loss improved from 0.51230 to 0.40814, saving model to classification_modelv2.h5\n",
      "Epoch 5/20\n",
      " - 331s - loss: 0.5019 - acc: 0.7757 - val_loss: 0.4832 - val_acc: 0.7046\n",
      "\n",
      "Epoch 00005: val_loss did not improve from 0.40814\n",
      "Epoch 6/20\n",
      " - 330s - loss: 0.4889 - acc: 0.7790 - val_loss: 0.3209 - val_acc: 0.8030\n",
      "\n",
      "Epoch 00006: val_loss improved from 0.40814 to 0.32086, saving model to classification_modelv2.h5\n",
      "Epoch 7/20\n",
      " - 335s - loss: 0.4829 - acc: 0.7798 - val_loss: 0.3138 - val_acc: 0.8069\n",
      "\n",
      "Epoch 00007: val_loss improved from 0.32086 to 0.31377, saving model to classification_modelv2.h5\n",
      "Epoch 8/20\n",
      " - 334s - loss: 0.4798 - acc: 0.7802 - val_loss: 0.3553 - val_acc: 0.7839\n",
      "\n",
      "Epoch 00008: val_loss did not improve from 0.31377\n",
      "Epoch 9/20\n",
      " - 332s - loss: 0.4779 - acc: 0.7803 - val_loss: 0.3370 - val_acc: 0.7966\n",
      "\n",
      "Epoch 00009: val_loss did not improve from 0.31377\n",
      "Epoch 10/20\n",
      " - 334s - loss: 0.4768 - acc: 0.7801 - val_loss: 0.3307 - val_acc: 0.7944\n",
      "\n",
      "Epoch 00010: val_loss did not improve from 0.31377\n",
      "Epoch 11/20\n",
      " - 333s - loss: 0.4760 - acc: 0.7801 - val_loss: 0.3701 - val_acc: 0.7779\n",
      "\n",
      "Epoch 00011: val_loss did not improve from 0.31377\n",
      "Epoch 12/20\n",
      " - 334s - loss: 0.4754 - acc: 0.7803 - val_loss: 0.4168 - val_acc: 0.7628\n",
      "\n",
      "Epoch 00012: val_loss did not improve from 0.31377\n",
      "Epoch 00012: early stopping\n",
      "dict_keys(['val_loss', 'val_acc', 'loss', 'acc'])\n"
     ]
    }
   ],
   "source": [
    "\n",
    "model_path_clf = 'classification_modelv2.h5'  \n",
    "nb_features =data_train.shape[2]\n",
    "timestamp=data_train.shape[1]\n",
    "\n",
    "\n",
    "modelolstmv = Sequential()\n",
    "modelolstmv.add(LSTM(30,input_shape=(timestamp, nb_features)))\n",
    "modelolstmv.add(Dense(units=1, activation='sigmoid'))\n",
    "modelolstmv.compile(loss='binary_crossentropy', optimizer='adam', metrics=['accuracy'])\n",
    "\n",
    "print(modelolstmv.summary())\n",
    "\n",
    "# entrenar modelo\n",
    "history = modelolstmv.fit(data_train, label_train, epochs=20, batch_size=64, validation_split=0.1, verbose=2, \n",
    "          callbacks = [keras.callbacks.EarlyStopping(monitor='val_loss', min_delta=0, patience=5, verbose=1, mode='min'),\n",
    "                       keras.callbacks.ModelCheckpoint(model_path_clf, monitor='val_loss', save_best_only=True, mode='min', verbose=1)])\n",
    "print(history.history.keys())"
   ]
  },
  {
   "cell_type": "code",
   "execution_count": 107,
   "metadata": {},
   "outputs": [],
   "source": [
    "# cargar el mejor modelo guardado durante el entrenamiento\n",
    "\n",
    "saved_model = load_model('classification_modelv2.h5')"
   ]
  },
  {
   "cell_type": "code",
   "execution_count": 108,
   "metadata": {},
   "outputs": [],
   "source": [
    "label_pred=saved_model.predict_classes(data_test)"
   ]
  },
  {
   "cell_type": "code",
   "execution_count": 109,
   "metadata": {},
   "outputs": [
    {
     "name": "stdout",
     "output_type": "stream",
     "text": [
      "Confusion Matrix: \n",
      " [[1691614  308386]\n",
      " [   2830 1997170]]\n",
      "\n",
      "\n",
      "MEDIDAS DE DESEMPEÑO DEL MODELO\n",
      "\n",
      "\n",
      "Exactitud - Accuracy: 0.922196\n",
      "ROC AUC: 0.9221959999999999\n",
      "------------------------------------------------------------\n",
      "Precisión por clase: [0.99832984 0.86624224]\n",
      "Sensibilidad - Recall por clase: [0.845807 0.998585]\n",
      "F1 por clase: [0.91576107 0.92771758]\n",
      "------------------------------------------------------------\n",
      "F1 Macro: 0.9217393271138599\n",
      "F1 Micro: 0.922196\n",
      "F1 Weighted: 0.92173932711386\n",
      "------------------------------------------------------------\n",
      "Sensibilidad - Recall Macro: 0.922196\n",
      "Sensibilidad - Recall Micro: 0.922196\n",
      "Sensibilidad - Recall Weighted: 0.922196\n",
      "------------------------------------------------------------\n",
      "Precisión Macro: 0.9322860391397978\n",
      "Precisión Micro: 0.922196\n",
      "Precisión Weighted: 0.9322860391397979\n"
     ]
    }
   ],
   "source": [
    "# Medidas de desempeño del modelo\n",
    "matriz = confusion_matrix(label_test, label_pred)\n",
    "print('Confusion Matrix: \\n',confusion_matrix(label_test,label_pred))\n",
    "print('\\n')\n",
    "print(\"MEDIDAS DE DESEMPEÑO DEL MODELO\")\n",
    "print('\\n')\n",
    "print('Exactitud - Accuracy: {}'.format(accuracy_score(label_test,label_pred)))\n",
    "print('ROC AUC: {}'.format (metrics.roc_auc_score(label_test, label_pred)))\n",
    "print('-'*60)\n",
    "print('Precisión por clase: {}'.format(metrics.precision_score(label_test, label_pred, average=None)))\n",
    "print('Sensibilidad - Recall por clase: {}'.format(metrics.recall_score(label_test, label_pred, average=None)))\n",
    "print('F1 por clase: {}'.format(metrics.f1_score(label_test, label_pred, average=None)))\n",
    "print('-'*60)\n",
    "print('F1 Macro: {}'.format(metrics.f1_score(label_test, label_pred, average='macro')))\n",
    "print('F1 Micro: {}'.format(metrics.f1_score(label_test, label_pred, average='micro')))\n",
    "print('F1 Weighted: {}'.format(metrics.f1_score(label_test, label_pred, average='weighted')))\n",
    "print('-'*60)\n",
    "print('Sensibilidad - Recall Macro: {}'.format(metrics.recall_score(label_test, label_pred, average='macro')))\n",
    "print('Sensibilidad - Recall Micro: {}'.format(metrics.recall_score(label_test, label_pred, average='micro')))\n",
    "print('Sensibilidad - Recall Weighted: {}'.format(metrics.recall_score(label_test, label_pred, average='weighted')))\n",
    "print('-'*60)\n",
    "print('Precisión Macro: {}'.format(metrics.precision_score(label_test, label_pred, average='macro')))\n",
    "print('Precisión Micro: {}'.format(metrics.precision_score(label_test, label_pred, average='micro')))\n",
    "print('Precisión Weighted: {}'.format(metrics.precision_score(label_test, label_pred, average='weighted')))"
   ]
  },
  {
   "cell_type": "markdown",
   "metadata": {},
   "source": [
    "### Vanilla LSTM con 50 celdas de memoria"
   ]
  },
  {
   "cell_type": "code",
   "execution_count": 154,
   "metadata": {},
   "outputs": [
    {
     "name": "stdout",
     "output_type": "stream",
     "text": [
      "_________________________________________________________________\n",
      "Layer (type)                 Output Shape              Param #   \n",
      "=================================================================\n",
      "lstm_2 (LSTM)                (None, 50)                10600     \n",
      "_________________________________________________________________\n",
      "dense_2 (Dense)              (None, 1)                 51        \n",
      "=================================================================\n",
      "Total params: 10,651\n",
      "Trainable params: 10,651\n",
      "Non-trainable params: 0\n",
      "_________________________________________________________________\n",
      "None\n",
      "Train on 3600000 samples, validate on 400000 samples\n",
      "Epoch 1/20\n",
      " - 82s - loss: 0.6870 - acc: 0.5555 - val_loss: 0.8044 - val_acc: 0.0000e+00\n",
      "\n",
      "Epoch 00001: val_loss improved from inf to 0.80438, saving model to classification_model7.h5\n",
      "Epoch 2/20\n",
      " - 81s - loss: 0.6868 - acc: 0.5560 - val_loss: 0.8045 - val_acc: 0.0221\n",
      "\n",
      "Epoch 00002: val_loss did not improve from 0.80438\n",
      "Epoch 3/20\n",
      " - 81s - loss: 0.6861 - acc: 0.5639 - val_loss: 0.8223 - val_acc: 0.0773\n",
      "\n",
      "Epoch 00003: val_loss did not improve from 0.80438\n",
      "Epoch 4/20\n",
      " - 82s - loss: 0.6798 - acc: 0.5805 - val_loss: 0.7603 - val_acc: 0.2096\n",
      "\n",
      "Epoch 00004: val_loss improved from 0.80438 to 0.76034, saving model to classification_model7.h5\n",
      "Epoch 5/20\n",
      " - 81s - loss: 0.6385 - acc: 0.6573 - val_loss: 0.5675 - val_acc: 0.6123\n",
      "\n",
      "Epoch 00005: val_loss improved from 0.76034 to 0.56745, saving model to classification_model7.h5\n",
      "Epoch 6/20\n",
      " - 81s - loss: 0.5949 - acc: 0.7217 - val_loss: 0.4989 - val_acc: 0.6723\n",
      "\n",
      "Epoch 00006: val_loss improved from 0.56745 to 0.49889, saving model to classification_model7.h5\n",
      "Epoch 7/20\n",
      " - 81s - loss: 0.5606 - acc: 0.7507 - val_loss: 0.4722 - val_acc: 0.6860\n",
      "\n",
      "Epoch 00007: val_loss improved from 0.49889 to 0.47222, saving model to classification_model7.h5\n",
      "Epoch 8/20\n",
      " - 81s - loss: 0.5349 - acc: 0.7652 - val_loss: 0.4564 - val_acc: 0.7005\n",
      "\n",
      "Epoch 00008: val_loss improved from 0.47222 to 0.45636, saving model to classification_model7.h5\n",
      "Epoch 9/20\n",
      " - 81s - loss: 0.5166 - acc: 0.7727 - val_loss: 0.3638 - val_acc: 0.7739\n",
      "\n",
      "Epoch 00009: val_loss improved from 0.45636 to 0.36383, saving model to classification_model7.h5\n",
      "Epoch 10/20\n",
      " - 81s - loss: 0.5038 - acc: 0.7769 - val_loss: 0.3901 - val_acc: 0.7530\n",
      "\n",
      "Epoch 00010: val_loss did not improve from 0.36383\n",
      "Epoch 11/20\n",
      " - 81s - loss: 0.4949 - acc: 0.7792 - val_loss: 0.3794 - val_acc: 0.7629\n",
      "\n",
      "Epoch 00011: val_loss did not improve from 0.36383\n",
      "Epoch 12/20\n",
      " - 81s - loss: 0.4890 - acc: 0.7804 - val_loss: 0.3401 - val_acc: 0.7891\n",
      "\n",
      "Epoch 00012: val_loss improved from 0.36383 to 0.34011, saving model to classification_model7.h5\n",
      "Epoch 13/20\n",
      " - 81s - loss: 0.4849 - acc: 0.7810 - val_loss: 0.3657 - val_acc: 0.7753\n",
      "\n",
      "Epoch 00013: val_loss did not improve from 0.34011\n",
      "Epoch 14/20\n",
      " - 81s - loss: 0.4820 - acc: 0.7814 - val_loss: 0.3655 - val_acc: 0.7745\n",
      "\n",
      "Epoch 00014: val_loss did not improve from 0.34011\n",
      "Epoch 15/20\n",
      " - 81s - loss: 0.4799 - acc: 0.7815 - val_loss: 0.3665 - val_acc: 0.7772\n",
      "\n",
      "Epoch 00015: val_loss did not improve from 0.34011\n",
      "Epoch 16/20\n",
      " - 81s - loss: 0.4783 - acc: 0.7818 - val_loss: 0.3678 - val_acc: 0.7775\n",
      "\n",
      "Epoch 00016: val_loss did not improve from 0.34011\n",
      "Epoch 17/20\n",
      " - 81s - loss: 0.4771 - acc: 0.7817 - val_loss: 0.3780 - val_acc: 0.7750\n",
      "\n",
      "Epoch 00017: val_loss did not improve from 0.34011\n",
      "Epoch 00017: early stopping\n",
      "dict_keys(['val_loss', 'val_acc', 'loss', 'acc'])\n"
     ]
    }
   ],
   "source": [
    "\n",
    "model_path_clf = 'classification_model7.h5'  \n",
    "nb_features =data_train.shape[2]\n",
    "timestamp=data_train.shape[1]\n",
    "\n",
    "\n",
    "modelolstmv = Sequential()\n",
    "modelolstmv.add(LSTM(50,input_shape=(timestamp, nb_features)))\n",
    "modelolstmv.add(Dense(units=1, activation='sigmoid'))\n",
    "modelolstmv.compile(loss='binary_crossentropy', optimizer='adam', metrics=['accuracy'])\n",
    "\n",
    "print(modelolstmv.summary())\n",
    "\n",
    "# entrenar modelo\n",
    "history = modelolstmv.fit(data_train, label_train, epochs=20, batch_size=256, validation_split=0.1, verbose=2, \n",
    "          callbacks = [keras.callbacks.EarlyStopping(monitor='val_loss', min_delta=0, patience=5, verbose=1, mode='min'),\n",
    "                       keras.callbacks.ModelCheckpoint(model_path_clf, monitor='val_loss', save_best_only=True, mode='min', verbose=1)])\n",
    "print(history.history.keys())"
   ]
  },
  {
   "cell_type": "code",
   "execution_count": 155,
   "metadata": {},
   "outputs": [],
   "source": [
    "# cargar el mejor modelo guardado durante el entrenamiento\n",
    "\n",
    "saved_model = load_model('classification_model7.h5')"
   ]
  },
  {
   "cell_type": "code",
   "execution_count": 156,
   "metadata": {},
   "outputs": [],
   "source": [
    "label_pred=saved_model.predict_classes(data_test)"
   ]
  },
  {
   "cell_type": "code",
   "execution_count": 157,
   "metadata": {},
   "outputs": [
    {
     "name": "stdout",
     "output_type": "stream",
     "text": [
      "Confusion Matrix: \n",
      " [[1757990  242010]\n",
      " [   3121 1996879]]\n",
      "\n",
      "\n",
      "MEDIDAS DE DESEMPEÑO DEL MODELO\n",
      "\n",
      "\n",
      "Exactitud - Accuracy: 0.93871725\n",
      "ROC AUC: 0.93871725\n",
      "------------------------------------------------------------\n",
      "Precisión por clase: [0.99822782 0.89190621]\n",
      "Sensibilidad - Recall por clase: [0.878995  0.9984395]\n",
      "F1 por clase: [0.93482484 0.94217093]\n",
      "------------------------------------------------------------\n",
      "F1 Macro: 0.9384978875158819\n",
      "F1 Micro: 0.93871725\n",
      "F1 Weighted: 0.9384978875158819\n",
      "------------------------------------------------------------\n",
      "Sensibilidad - Recall Macro: 0.9387172500000001\n",
      "Sensibilidad - Recall Micro: 0.93871725\n",
      "Sensibilidad - Recall Weighted: 0.93871725\n",
      "------------------------------------------------------------\n",
      "Precisión Macro: 0.9450670160352204\n",
      "Precisión Micro: 0.93871725\n",
      "Precisión Weighted: 0.9450670160352205\n"
     ]
    }
   ],
   "source": [
    "# Medidas de desempeño del modelo\n",
    "matriz = confusion_matrix(label_test, label_pred)\n",
    "print('Confusion Matrix: \\n',confusion_matrix(label_test,label_pred))\n",
    "print('\\n')\n",
    "print(\"MEDIDAS DE DESEMPEÑO DEL MODELO\")\n",
    "print('\\n')\n",
    "print('Exactitud - Accuracy: {}'.format(accuracy_score(label_test,label_pred)))\n",
    "print('ROC AUC: {}'.format (metrics.roc_auc_score(label_test, label_pred)))\n",
    "print('-'*60)\n",
    "print('Precisión por clase: {}'.format(metrics.precision_score(label_test, label_pred, average=None)))\n",
    "print('Sensibilidad - Recall por clase: {}'.format(metrics.recall_score(label_test, label_pred, average=None)))\n",
    "print('F1 por clase: {}'.format(metrics.f1_score(label_test, label_pred, average=None)))\n",
    "print('-'*60)\n",
    "print('F1 Macro: {}'.format(metrics.f1_score(label_test, label_pred, average='macro')))\n",
    "print('F1 Micro: {}'.format(metrics.f1_score(label_test, label_pred, average='micro')))\n",
    "print('F1 Weighted: {}'.format(metrics.f1_score(label_test, label_pred, average='weighted')))\n",
    "print('-'*60)\n",
    "print('Sensibilidad - Recall Macro: {}'.format(metrics.recall_score(label_test, label_pred, average='macro')))\n",
    "print('Sensibilidad - Recall Micro: {}'.format(metrics.recall_score(label_test, label_pred, average='micro')))\n",
    "print('Sensibilidad - Recall Weighted: {}'.format(metrics.recall_score(label_test, label_pred, average='weighted')))\n",
    "print('-'*60)\n",
    "print('Precisión Macro: {}'.format(metrics.precision_score(label_test, label_pred, average='macro')))\n",
    "print('Precisión Micro: {}'.format(metrics.precision_score(label_test, label_pred, average='micro')))\n",
    "print('Precisión Weighted: {}'.format(metrics.precision_score(label_test, label_pred, average='weighted')))"
   ]
  },
  {
   "cell_type": "code",
   "execution_count": 114,
   "metadata": {},
   "outputs": [
    {
     "data": {
      "text/plain": [
       "<module 'matplotlib.pyplot' from 'C:\\\\Users\\\\alexh\\\\Anaconda3\\\\lib\\\\site-packages\\\\matplotlib\\\\pyplot.py'>"
      ]
     },
     "execution_count": 114,
     "metadata": {},
     "output_type": "execute_result"
    },
    {
     "data": {
      "image/png": "[encoded data removed]",
      "text/plain": [
       "<Figure size 864x288 with 1 Axes>"
      ]
     },
     "metadata": {},
     "output_type": "display_data"
    }
   ],
   "source": [
    "history_plot('loss', 'val_loss', 'model loss', 'loss', 'epoch')"
   ]
  },
  {
   "cell_type": "markdown",
   "metadata": {},
   "source": [
    "La curva de aprendizaje presenta buen ajuste, las redes neuronales profundas con arquitectura\n",
    "LSTM entregan el mayor F1-macro con un 93.8%. En este caso se observa que el desempeño de los modelos de conjunto de ML se acerca a los modelos de redes neuronales profundas, esto se debe a que los modelos se entrenan con una base de datos equilibrada lo que ayuda a mejorar el rendimiento predictivo de los modelos clasicos de ML. "
   ]
  }
 ],
 "metadata": {
  "kernelspec": {
   "display_name": "Python 3",
   "language": "python",
   "name": "python3"
  },
  "language_info": {
   "codemirror_mode": {
    "name": "ipython",
    "version": 3
   },
   "file_extension": ".py",
   "mimetype": "text/x-python",
   "name": "python",
   "nbconvert_exporter": "python",
   "pygments_lexer": "ipython3",
   "version": "3.7.3"
  }
 },
 "nbformat": 4,
 "nbformat_minor": 4
}
