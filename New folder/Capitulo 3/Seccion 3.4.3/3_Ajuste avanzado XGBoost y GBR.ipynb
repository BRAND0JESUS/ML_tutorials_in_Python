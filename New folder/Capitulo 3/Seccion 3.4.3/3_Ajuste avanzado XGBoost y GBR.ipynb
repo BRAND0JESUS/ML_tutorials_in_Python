{
 "cells": [
  {
   "cell_type": "markdown",
   "metadata": {},
   "source": [
    "# 3. Ajuste avanzado modelo Gradient Boostinng XGBoost clasificacion binaria algoritmos de Machine Learning\n",
    "***\n"
   ]
  },
  {
   "cell_type": "markdown",
   "metadata": {},
   "source": [
    "### Caso de estudio #3\n"
   ]
  },
  {
   "cell_type": "markdown",
   "metadata": {},
   "source": [
    "### Tecnicas de ajuste de los datos y modelos:\n",
    "\n",
    "| Ingeniería de datos       | Si / No       |\n",
    "| :-------                  | :------:    |\n",
    "| Escalado de datos         | No          |\n",
    "| Ajuste de hiperparametros | Si         |\n",
    "| Sobremuestreo             | No          |\n",
    "| Ajuste de pesos de clase  | No          |\n",
    "\n"
   ]
  },
  {
   "cell_type": "code",
   "execution_count": 1,
   "metadata": {},
   "outputs": [],
   "source": [
    "# librerias\n",
    "import numpy as np\n",
    "import math\n",
    "import pandas as pd\n",
    "import matplotlib as mpl\n",
    "import matplotlib.pyplot as plt\n",
    "plt.style.use('classic')\n",
    "%matplotlib inline\n",
    "import seaborn as sns\n",
    "from scipy.io import loadmat\n",
    "import pandas_profiling\n",
    "\n",
    "from numpy.random import seed\n",
    "seed(0)\n",
    "\n",
    "from sklearn.ensemble import RandomForestClassifier\n",
    "from sklearn.metrics import confusion_matrix\n",
    "from sklearn import metrics\n",
    "from sklearn.ensemble import RandomForestClassifier\n",
    "from sklearn.model_selection import GridSearchCV\n",
    "from sklearn.metrics import make_scorer, accuracy_score\n",
    "from plot_metric.functions import BinaryClassification\n",
    "from sklearn.naive_bayes import GaussianNB\n",
    "from sklearn.svm import SVC, LinearSVC\n",
    "from sklearn.neighbors import KNeighborsClassifier\n",
    "from sklearn import tree\n",
    "from sklearn.linear_model import LogisticRegression\n",
    "from sklearn.neural_network import MLPClassifier\n",
    "from yellowbrick.classifier import ConfusionMatrix\n",
    "from sklearn.metrics import classification_report\n",
    "\n",
    "from sklearn.svm import SVC\n",
    "from sklearn.ensemble import BaggingClassifier\n",
    "from sklearn.datasets import make_classification\n",
    "from sklearn.ensemble import ExtraTreesClassifier\n",
    "from sklearn.ensemble import GradientBoostingClassifier\n",
    "\n",
    "from matplotlib import pyplot\n",
    "import pickle\n",
    "import joblib\n",
    "\n",
    "from sklearn.metrics import log_loss\n",
    "from sklearn.model_selection import RepeatedStratifiedKFold\n",
    "from numpy import mean\n",
    "from numpy import std\n",
    "from matplotlib import pyplot\n",
    "from numpy import arange\n",
    "from pprint import pprint\n",
    "from sklearn.metrics import fbeta_score\n",
    "from sklearn.model_selection import RandomizedSearchCV\n",
    "from sklearn.model_selection import cross_val_score\n",
    "from sklearn.experimental import enable_hist_gradient_boosting\n",
    "from sklearn.ensemble import HistGradientBoostingClassifier\n",
    "from xgboost import XGBClassifier\n",
    "from lightgbm import LGBMClassifier\n",
    "from sklearn.model_selection import KFold\n",
    "from xgboost import plot_tree\n",
    "from time import time\n",
    "from sklearn.model_selection import StratifiedKFold"
   ]
  },
  {
   "cell_type": "code",
   "execution_count": 2,
   "metadata": {},
   "outputs": [],
   "source": [
    "# BINARIA funcion para generar matriz de confusion y medidas de desempeño del modelos clasificacion binarios\n",
    "def model_evaluation(data_train, label_train, data_test, label_test, modelo, label_pred):\n",
    "    print('\\n')\n",
    "    print(\"MATRIZ DE CONFUSION\")\n",
    "    print('\\n')\n",
    "    matriz = confusion_matrix(label_test, label_pred)\n",
    "    #print(matriz)\n",
    "    classes = [\"Saludable\",\"Falla Pista Interna\"]\n",
    "    cm = ConfusionMatrix(modelo, classes=classes, label_encoder={0:\"Saludable\", 1:\"Falla Pista Interna\"})\n",
    "    cm.fit(data_train, label_train)\n",
    "    cm.score(data_test, label_test)\n",
    "    cm.show()\n",
    "    # Medidas de desempeño del modelo\n",
    "    print('\\n')\n",
    "    print(\"MEDIDAS DE DESEMPEÑO DEL MODELO\")\n",
    "    print('\\n')\n",
    "    print('Exactitud - Accuracy: {}'.format(modelo.score(data_test, label_test)))\n",
    "    print('ROC AUC: {}'.format (metrics.roc_auc_score(label_test, label_pred)))\n",
    "    print('-'*60)\n",
    "    print('Precisión por clase: {}'.format(metrics.precision_score(label_test, label_pred, average=None)))\n",
    "    print('Sensibilidad - Recall por clase: {}'.format(metrics.recall_score(label_test, label_pred, average=None)))\n",
    "    print('F1 por clase: {}'.format(metrics.f1_score(label_test, label_pred, average=None)))\n",
    "    print('-'*60)\n",
    "    print('F1 Macro: {}'.format(metrics.f1_score(label_test, label_pred, average='macro')))\n",
    "    print('F1 Micro: {}'.format(metrics.f1_score(label_test, label_pred, average='micro')))\n",
    "    print('F1 Weighted: {}'.format(metrics.f1_score(label_test, label_pred, average='weighted')))\n",
    "    print('-'*60)\n",
    "    print('Sensibilidad - Recall Macro: {}'.format(metrics.recall_score(label_test, label_pred, average='macro')))\n",
    "    print('Sensibilidad - Recall Micro: {}'.format(metrics.recall_score(label_test, label_pred, average='micro')))\n",
    "    print('Sensibilidad - Recall Weighted: {}'.format(metrics.recall_score(label_test, label_pred, average='weighted')))\n",
    "    print('-'*60)\n",
    "    print('Precisión Macro: {}'.format(metrics.precision_score(label_test, label_pred, average='macro')))\n",
    "    print('Precisión Micro: {}'.format(metrics.precision_score(label_test, label_pred, average='micro')))\n",
    "    print('Precisión Weighted: {}'.format(metrics.precision_score(label_test, label_pred, average='weighted')))\n",
    "    \n",
    "    TP = matriz[1][1]\n",
    "    TN = matriz[0][0]\n",
    "    FP = matriz[0][1]\n",
    "    FN = matriz[1][0]\n",
    "    print('-'*60)\n",
    "    print('Verdaderos positivos - True Positives:', TP)\n",
    "    print('Verdaderos negativos - True Negatives:', TN)\n",
    "    print('Falsos positivos - False Positives:', FP)\n",
    "    print('Falsos negativos - False Negatives:', FN)\n",
    "        # calculate accuracy\n",
    "    conf_accuracy = (float (TP+TN) / float(TP + TN + FP + FN))\n",
    "        # calculate mis-classification\n",
    "    conf_misclassification = 1- conf_accuracy\n",
    "        # calculate the sensitivity\n",
    "    conf_sensitivity = (TP / float(TP + FN))\n",
    "        # calculate the specificity\n",
    "    conf_specificity = (TN / float(TN + FN))\n",
    "        # calculate precision\n",
    "    conf_precision = (TP / float(TP + FP))\n",
    "        # calculate f_1 score\n",
    "    conf_f1 = 2 * ((conf_precision * conf_sensitivity) / (conf_precision + conf_sensitivity))\n",
    "        # calculate FPR tasa de falsos positivos\n",
    "    conf_FPR = 1 - conf_specificity\n",
    "    print('-'*60)\n",
    "    print(f'Error de clasificacion: {round(conf_misclassification,3)}') \n",
    "    print(f'Especificidad - Specificity: {round(conf_specificity,3)}') \n",
    "    print(f'Tasa de falsos positivos FPR: {round(conf_FPR,3)}')\n",
    "    print('-'*60)\n",
    "   \n",
    "    print(classification_report(label_test, label_pred))\n",
    "    # curva ROC clasificacion binaria\n",
    "    bc = BinaryClassification(label_test, label_pred, labels=[\"Class 0\", \"Class 1\"])\n",
    "    plt.figure(figsize=(5,5))\n",
    "    bc.plot_roc_curve()\n",
    "    print('\\n')\n",
    "    print(\"CURVA ROC\")\n",
    "    plt.show()"
   ]
  },
  {
   "cell_type": "markdown",
   "metadata": {},
   "source": [
    "## Datos rodamiento en estado saludable"
   ]
  },
  {
   "cell_type": "markdown",
   "metadata": {},
   "source": [
    "Archivos:\n",
    "* H-A-1:Datos recopilados estado saludable \n",
    "* H-A-3:Datos recopilados estado saludable \n",
    "\n"
   ]
  },
  {
   "cell_type": "code",
   "execution_count": 3,
   "metadata": {},
   "outputs": [],
   "source": [
    "# importar datos de archivo matlab\n",
    "HA1 = loadmat (r'D:\\alexh\\Documents\\Maestria en estadistica\\proyecto de grado\\bases de datos vibraciones\\rodamientos variando velocidad\\datos de vibraciones\\H-A-1.mat')"
   ]
  },
  {
   "cell_type": "code",
   "execution_count": 4,
   "metadata": {},
   "outputs": [
    {
     "data": {
      "text/plain": [
       "{'__header__': b'MATLAB 5.0 MAT-file, Platform: PCWIN64, Created on: Tue Oct 09 15:18:50 2018',\n",
       " '__version__': '1.0',\n",
       " '__globals__': [],\n",
       " 'Channel_1': array([[-0.00219944],\n",
       "        [-0.0018706 ],\n",
       "        [-0.00154175],\n",
       "        ...,\n",
       "        [ 0.00963905],\n",
       "        [ 0.0093102 ],\n",
       "        [ 0.00898136]]),\n",
       " 'Channel_2': array([[4.18876708],\n",
       "        [4.20060302],\n",
       "        [4.20816487],\n",
       "        ...,\n",
       "        [0.03700339],\n",
       "        [0.03634584],\n",
       "        [4.14010822]])}"
      ]
     },
     "execution_count": 4,
     "metadata": {},
     "output_type": "execute_result"
    }
   ],
   "source": [
    "# ver diccionario\n",
    "HA1"
   ]
  },
  {
   "cell_type": "code",
   "execution_count": 5,
   "metadata": {},
   "outputs": [
    {
     "data": {
      "text/plain": [
       "dict_keys(['__header__', '__version__', '__globals__', 'Channel_1', 'Channel_2'])"
      ]
     },
     "execution_count": 5,
     "metadata": {},
     "output_type": "execute_result"
    }
   ],
   "source": [
    "# nombres de variables\n",
    "HA1.keys()"
   ]
  },
  {
   "cell_type": "code",
   "execution_count": 6,
   "metadata": {},
   "outputs": [
    {
     "data": {
      "text/html": [
       "<div>\n",
       "<style scoped>\n",
       "    .dataframe tbody tr th:only-of-type {\n",
       "        vertical-align: middle;\n",
       "    }\n",
       "\n",
       "    .dataframe tbody tr th {\n",
       "        vertical-align: top;\n",
       "    }\n",
       "\n",
       "    .dataframe thead th {\n",
       "        text-align: right;\n",
       "    }\n",
       "</style>\n",
       "<table border=\"1\" class=\"dataframe\">\n",
       "  <thead>\n",
       "    <tr style=\"text-align: right;\">\n",
       "      <th></th>\n",
       "      <th>aceleracion</th>\n",
       "    </tr>\n",
       "  </thead>\n",
       "  <tbody>\n",
       "    <tr>\n",
       "      <th>0</th>\n",
       "      <td>-0.002199</td>\n",
       "    </tr>\n",
       "    <tr>\n",
       "      <th>1</th>\n",
       "      <td>-0.001871</td>\n",
       "    </tr>\n",
       "    <tr>\n",
       "      <th>2</th>\n",
       "      <td>-0.001542</td>\n",
       "    </tr>\n",
       "    <tr>\n",
       "      <th>3</th>\n",
       "      <td>-0.001871</td>\n",
       "    </tr>\n",
       "    <tr>\n",
       "      <th>4</th>\n",
       "      <td>-0.002199</td>\n",
       "    </tr>\n",
       "  </tbody>\n",
       "</table>\n",
       "</div>"
      ],
      "text/plain": [
       "   aceleracion\n",
       "0    -0.002199\n",
       "1    -0.001871\n",
       "2    -0.001542\n",
       "3    -0.001871\n",
       "4    -0.002199"
      ]
     },
     "execution_count": 6,
     "metadata": {},
     "output_type": "execute_result"
    }
   ],
   "source": [
    "# convertir a dataframe la columna aceleracion\n",
    "HA11=pd.DataFrame(HA1['Channel_1'], columns = ['aceleracion'])\n",
    "HA11.head()"
   ]
  },
  {
   "cell_type": "code",
   "execution_count": 7,
   "metadata": {},
   "outputs": [
    {
     "data": {
      "text/html": [
       "<div>\n",
       "<style scoped>\n",
       "    .dataframe tbody tr th:only-of-type {\n",
       "        vertical-align: middle;\n",
       "    }\n",
       "\n",
       "    .dataframe tbody tr th {\n",
       "        vertical-align: top;\n",
       "    }\n",
       "\n",
       "    .dataframe thead th {\n",
       "        text-align: right;\n",
       "    }\n",
       "</style>\n",
       "<table border=\"1\" class=\"dataframe\">\n",
       "  <thead>\n",
       "    <tr style=\"text-align: right;\">\n",
       "      <th></th>\n",
       "      <th>velocidad</th>\n",
       "    </tr>\n",
       "  </thead>\n",
       "  <tbody>\n",
       "    <tr>\n",
       "      <th>0</th>\n",
       "      <td>4.188767</td>\n",
       "    </tr>\n",
       "    <tr>\n",
       "      <th>1</th>\n",
       "      <td>4.200603</td>\n",
       "    </tr>\n",
       "    <tr>\n",
       "      <th>2</th>\n",
       "      <td>4.208165</td>\n",
       "    </tr>\n",
       "    <tr>\n",
       "      <th>3</th>\n",
       "      <td>4.226576</td>\n",
       "    </tr>\n",
       "    <tr>\n",
       "      <th>4</th>\n",
       "      <td>4.240385</td>\n",
       "    </tr>\n",
       "  </tbody>\n",
       "</table>\n",
       "</div>"
      ],
      "text/plain": [
       "   velocidad\n",
       "0   4.188767\n",
       "1   4.200603\n",
       "2   4.208165\n",
       "3   4.226576\n",
       "4   4.240385"
      ]
     },
     "execution_count": 7,
     "metadata": {},
     "output_type": "execute_result"
    }
   ],
   "source": [
    "# convertir a dataframe la columna velocidad\n",
    "HA12=pd.DataFrame(HA1['Channel_2'], columns = ['velocidad'])\n",
    "HA12.head()"
   ]
  },
  {
   "cell_type": "code",
   "execution_count": 8,
   "metadata": {},
   "outputs": [
    {
     "data": {
      "text/html": [
       "<div>\n",
       "<style scoped>\n",
       "    .dataframe tbody tr th:only-of-type {\n",
       "        vertical-align: middle;\n",
       "    }\n",
       "\n",
       "    .dataframe tbody tr th {\n",
       "        vertical-align: top;\n",
       "    }\n",
       "\n",
       "    .dataframe thead th {\n",
       "        text-align: right;\n",
       "    }\n",
       "</style>\n",
       "<table border=\"1\" class=\"dataframe\">\n",
       "  <thead>\n",
       "    <tr style=\"text-align: right;\">\n",
       "      <th></th>\n",
       "      <th>aceleracion</th>\n",
       "      <th>velocidad</th>\n",
       "    </tr>\n",
       "  </thead>\n",
       "  <tbody>\n",
       "    <tr>\n",
       "      <th>0</th>\n",
       "      <td>-0.002199</td>\n",
       "      <td>4.188767</td>\n",
       "    </tr>\n",
       "    <tr>\n",
       "      <th>1</th>\n",
       "      <td>-0.001871</td>\n",
       "      <td>4.200603</td>\n",
       "    </tr>\n",
       "    <tr>\n",
       "      <th>2</th>\n",
       "      <td>-0.001542</td>\n",
       "      <td>4.208165</td>\n",
       "    </tr>\n",
       "    <tr>\n",
       "      <th>3</th>\n",
       "      <td>-0.001871</td>\n",
       "      <td>4.226576</td>\n",
       "    </tr>\n",
       "    <tr>\n",
       "      <th>4</th>\n",
       "      <td>-0.002199</td>\n",
       "      <td>4.240385</td>\n",
       "    </tr>\n",
       "  </tbody>\n",
       "</table>\n",
       "</div>"
      ],
      "text/plain": [
       "   aceleracion  velocidad\n",
       "0    -0.002199   4.188767\n",
       "1    -0.001871   4.200603\n",
       "2    -0.001542   4.208165\n",
       "3    -0.001871   4.226576\n",
       "4    -0.002199   4.240385"
      ]
     },
     "execution_count": 8,
     "metadata": {},
     "output_type": "execute_result"
    }
   ],
   "source": [
    "# concatenar los dos Dataframe\n",
    "H1train = pd.concat([HA11, HA12], axis=1, sort=False)\n",
    "H1train.head()"
   ]
  },
  {
   "cell_type": "code",
   "execution_count": 9,
   "metadata": {},
   "outputs": [
    {
     "name": "stdout",
     "output_type": "stream",
     "text": [
      "numero de dimensiones = 2\n",
      "tamaño de la tabla  = (2000000, 2)\n",
      "total datos = 4000000\n"
     ]
    }
   ],
   "source": [
    "print(\"numero de dimensiones =\", H1train.ndim)\n",
    "print(\"tamaño de la tabla  =\", H1train.shape)\n",
    "print(\"total datos =\", H1train.size)"
   ]
  },
  {
   "cell_type": "code",
   "execution_count": 10,
   "metadata": {},
   "outputs": [
    {
     "data": {
      "text/plain": [
       "aceleracion    False\n",
       "velocidad      False\n",
       "dtype: bool"
      ]
     },
     "execution_count": 10,
     "metadata": {},
     "output_type": "execute_result"
    }
   ],
   "source": [
    "#hallar si hay nul o NaN\n",
    "H1train.isnull().any()"
   ]
  },
  {
   "cell_type": "code",
   "execution_count": 11,
   "metadata": {},
   "outputs": [
    {
     "data": {
      "text/plain": [
       "aceleracion    False\n",
       "velocidad      False\n",
       "dtype: bool"
      ]
     },
     "execution_count": 11,
     "metadata": {},
     "output_type": "execute_result"
    }
   ],
   "source": [
    "H1train.isna().any()"
   ]
  },
  {
   "cell_type": "code",
   "execution_count": 12,
   "metadata": {},
   "outputs": [
    {
     "data": {
      "text/plain": [
       "aceleracion    0\n",
       "velocidad      0\n",
       "dtype: int64"
      ]
     },
     "execution_count": 12,
     "metadata": {},
     "output_type": "execute_result"
    }
   ],
   "source": [
    "H1train.isnull().sum()"
   ]
  },
  {
   "cell_type": "markdown",
   "metadata": {},
   "source": [
    "las bases no contienen observaciones con NaN o nul"
   ]
  },
  {
   "cell_type": "markdown",
   "metadata": {},
   "source": [
    "## Etiquetado de datos"
   ]
  },
  {
   "cell_type": "code",
   "execution_count": 13,
   "metadata": {},
   "outputs": [
    {
     "data": {
      "text/html": [
       "<div>\n",
       "<style scoped>\n",
       "    .dataframe tbody tr th:only-of-type {\n",
       "        vertical-align: middle;\n",
       "    }\n",
       "\n",
       "    .dataframe tbody tr th {\n",
       "        vertical-align: top;\n",
       "    }\n",
       "\n",
       "    .dataframe thead th {\n",
       "        text-align: right;\n",
       "    }\n",
       "</style>\n",
       "<table border=\"1\" class=\"dataframe\">\n",
       "  <thead>\n",
       "    <tr style=\"text-align: right;\">\n",
       "      <th></th>\n",
       "      <th>aceleracion</th>\n",
       "      <th>velocidad</th>\n",
       "    </tr>\n",
       "  </thead>\n",
       "  <tbody>\n",
       "    <tr>\n",
       "      <th>0</th>\n",
       "      <td>-0.002199</td>\n",
       "      <td>4.188767</td>\n",
       "    </tr>\n",
       "    <tr>\n",
       "      <th>1</th>\n",
       "      <td>-0.001871</td>\n",
       "      <td>4.200603</td>\n",
       "    </tr>\n",
       "    <tr>\n",
       "      <th>2</th>\n",
       "      <td>-0.001542</td>\n",
       "      <td>4.208165</td>\n",
       "    </tr>\n",
       "    <tr>\n",
       "      <th>3</th>\n",
       "      <td>-0.001871</td>\n",
       "      <td>4.226576</td>\n",
       "    </tr>\n",
       "    <tr>\n",
       "      <th>4</th>\n",
       "      <td>-0.002199</td>\n",
       "      <td>4.240385</td>\n",
       "    </tr>\n",
       "  </tbody>\n",
       "</table>\n",
       "</div>"
      ],
      "text/plain": [
       "   aceleracion  velocidad\n",
       "0    -0.002199   4.188767\n",
       "1    -0.001871   4.200603\n",
       "2    -0.001542   4.208165\n",
       "3    -0.001871   4.226576\n",
       "4    -0.002199   4.240385"
      ]
     },
     "execution_count": 13,
     "metadata": {},
     "output_type": "execute_result"
    }
   ],
   "source": [
    "H1train.head()"
   ]
  },
  {
   "cell_type": "code",
   "execution_count": 14,
   "metadata": {},
   "outputs": [
    {
     "data": {
      "text/html": [
       "<div>\n",
       "<style scoped>\n",
       "    .dataframe tbody tr th:only-of-type {\n",
       "        vertical-align: middle;\n",
       "    }\n",
       "\n",
       "    .dataframe tbody tr th {\n",
       "        vertical-align: top;\n",
       "    }\n",
       "\n",
       "    .dataframe thead th {\n",
       "        text-align: right;\n",
       "    }\n",
       "</style>\n",
       "<table border=\"1\" class=\"dataframe\">\n",
       "  <thead>\n",
       "    <tr style=\"text-align: right;\">\n",
       "      <th></th>\n",
       "      <th>aceleracion</th>\n",
       "      <th>velocidad</th>\n",
       "      <th>falla</th>\n",
       "    </tr>\n",
       "  </thead>\n",
       "  <tbody>\n",
       "    <tr>\n",
       "      <th>0</th>\n",
       "      <td>-0.002199</td>\n",
       "      <td>4.188767</td>\n",
       "      <td>0</td>\n",
       "    </tr>\n",
       "    <tr>\n",
       "      <th>1</th>\n",
       "      <td>-0.001871</td>\n",
       "      <td>4.200603</td>\n",
       "      <td>0</td>\n",
       "    </tr>\n",
       "    <tr>\n",
       "      <th>2</th>\n",
       "      <td>-0.001542</td>\n",
       "      <td>4.208165</td>\n",
       "      <td>0</td>\n",
       "    </tr>\n",
       "    <tr>\n",
       "      <th>3</th>\n",
       "      <td>-0.001871</td>\n",
       "      <td>4.226576</td>\n",
       "      <td>0</td>\n",
       "    </tr>\n",
       "    <tr>\n",
       "      <th>4</th>\n",
       "      <td>-0.002199</td>\n",
       "      <td>4.240385</td>\n",
       "      <td>0</td>\n",
       "    </tr>\n",
       "  </tbody>\n",
       "</table>\n",
       "</div>"
      ],
      "text/plain": [
       "   aceleracion  velocidad  falla\n",
       "0    -0.002199   4.188767      0\n",
       "1    -0.001871   4.200603      0\n",
       "2    -0.001542   4.208165      0\n",
       "3    -0.001871   4.226576      0\n",
       "4    -0.002199   4.240385      0"
      ]
     },
     "execution_count": 14,
     "metadata": {},
     "output_type": "execute_result"
    }
   ],
   "source": [
    "# etiquetado de la columna falla, etiqueta 0 corresponde a estado saludable o normal\n",
    "H1train['falla'] = 0\n",
    "H1train.head()"
   ]
  },
  {
   "cell_type": "code",
   "execution_count": 15,
   "metadata": {},
   "outputs": [
    {
     "data": {
      "text/html": [
       "<div>\n",
       "<style scoped>\n",
       "    .dataframe tbody tr th:only-of-type {\n",
       "        vertical-align: middle;\n",
       "    }\n",
       "\n",
       "    .dataframe tbody tr th {\n",
       "        vertical-align: top;\n",
       "    }\n",
       "\n",
       "    .dataframe thead th {\n",
       "        text-align: right;\n",
       "    }\n",
       "</style>\n",
       "<table border=\"1\" class=\"dataframe\">\n",
       "  <thead>\n",
       "    <tr style=\"text-align: right;\">\n",
       "      <th></th>\n",
       "      <th>id</th>\n",
       "      <th>aceleracion</th>\n",
       "      <th>velocidad</th>\n",
       "      <th>falla</th>\n",
       "    </tr>\n",
       "  </thead>\n",
       "  <tbody>\n",
       "    <tr>\n",
       "      <th>0</th>\n",
       "      <td>1</td>\n",
       "      <td>-0.002199</td>\n",
       "      <td>4.188767</td>\n",
       "      <td>0</td>\n",
       "    </tr>\n",
       "    <tr>\n",
       "      <th>1</th>\n",
       "      <td>1</td>\n",
       "      <td>-0.001871</td>\n",
       "      <td>4.200603</td>\n",
       "      <td>0</td>\n",
       "    </tr>\n",
       "    <tr>\n",
       "      <th>2</th>\n",
       "      <td>1</td>\n",
       "      <td>-0.001542</td>\n",
       "      <td>4.208165</td>\n",
       "      <td>0</td>\n",
       "    </tr>\n",
       "    <tr>\n",
       "      <th>3</th>\n",
       "      <td>1</td>\n",
       "      <td>-0.001871</td>\n",
       "      <td>4.226576</td>\n",
       "      <td>0</td>\n",
       "    </tr>\n",
       "    <tr>\n",
       "      <th>4</th>\n",
       "      <td>1</td>\n",
       "      <td>-0.002199</td>\n",
       "      <td>4.240385</td>\n",
       "      <td>0</td>\n",
       "    </tr>\n",
       "  </tbody>\n",
       "</table>\n",
       "</div>"
      ],
      "text/plain": [
       "   id  aceleracion  velocidad  falla\n",
       "0   1    -0.002199   4.188767      0\n",
       "1   1    -0.001871   4.200603      0\n",
       "2   1    -0.001542   4.208165      0\n",
       "3   1    -0.001871   4.226576      0\n",
       "4   1    -0.002199   4.240385      0"
      ]
     },
     "execution_count": 15,
     "metadata": {},
     "output_type": "execute_result"
    }
   ],
   "source": [
    "# asignar numero de ID al rodamiento\n",
    "H1train.insert(0, 'id', 1)\n",
    "H1train.head()"
   ]
  },
  {
   "cell_type": "code",
   "execution_count": 16,
   "metadata": {},
   "outputs": [],
   "source": [
    "# importar datos de archivo matlab del segundo rodamiento en estado saludable\n",
    "HA3 = loadmat (r'D:\\alexh\\Documents\\Maestria en estadistica\\proyecto de grado\\bases de datos vibraciones\\rodamientos variando velocidad\\datos de vibraciones\\H-A-3.mat')"
   ]
  },
  {
   "cell_type": "code",
   "execution_count": 17,
   "metadata": {},
   "outputs": [
    {
     "data": {
      "text/plain": [
       "{'__header__': b'MATLAB 5.0 MAT-file, Platform: PCWIN64, Created on: Tue Oct 09 15:21:21 2018',\n",
       " '__version__': '1.0',\n",
       " '__globals__': [],\n",
       " 'Channel_1': array([[ 0.00174672],\n",
       "        [ 0.00076018],\n",
       "        [-0.00450137],\n",
       "        ...,\n",
       "        [ 0.02706795],\n",
       "        [ 0.02969873],\n",
       "        [ 0.02871218]]),\n",
       " 'Channel_2': array([[0.03667461],\n",
       "        [0.02812651],\n",
       "        [0.03634584],\n",
       "        ...,\n",
       "        [4.27293377],\n",
       "        [0.03700339],\n",
       "        [0.03667461]])}"
      ]
     },
     "execution_count": 17,
     "metadata": {},
     "output_type": "execute_result"
    }
   ],
   "source": [
    "HA3"
   ]
  },
  {
   "cell_type": "code",
   "execution_count": 18,
   "metadata": {},
   "outputs": [
    {
     "data": {
      "text/plain": [
       "dict_keys(['__header__', '__version__', '__globals__', 'Channel_1', 'Channel_2'])"
      ]
     },
     "execution_count": 18,
     "metadata": {},
     "output_type": "execute_result"
    }
   ],
   "source": [
    "HA3.keys()"
   ]
  },
  {
   "cell_type": "code",
   "execution_count": 19,
   "metadata": {},
   "outputs": [
    {
     "data": {
      "text/html": [
       "<div>\n",
       "<style scoped>\n",
       "    .dataframe tbody tr th:only-of-type {\n",
       "        vertical-align: middle;\n",
       "    }\n",
       "\n",
       "    .dataframe tbody tr th {\n",
       "        vertical-align: top;\n",
       "    }\n",
       "\n",
       "    .dataframe thead th {\n",
       "        text-align: right;\n",
       "    }\n",
       "</style>\n",
       "<table border=\"1\" class=\"dataframe\">\n",
       "  <thead>\n",
       "    <tr style=\"text-align: right;\">\n",
       "      <th></th>\n",
       "      <th>aceleracion</th>\n",
       "    </tr>\n",
       "  </thead>\n",
       "  <tbody>\n",
       "    <tr>\n",
       "      <th>0</th>\n",
       "      <td>0.001747</td>\n",
       "    </tr>\n",
       "    <tr>\n",
       "      <th>1</th>\n",
       "      <td>0.000760</td>\n",
       "    </tr>\n",
       "    <tr>\n",
       "      <th>2</th>\n",
       "      <td>-0.004501</td>\n",
       "    </tr>\n",
       "    <tr>\n",
       "      <th>3</th>\n",
       "      <td>0.000102</td>\n",
       "    </tr>\n",
       "    <tr>\n",
       "      <th>4</th>\n",
       "      <td>0.002404</td>\n",
       "    </tr>\n",
       "  </tbody>\n",
       "</table>\n",
       "</div>"
      ],
      "text/plain": [
       "   aceleracion\n",
       "0     0.001747\n",
       "1     0.000760\n",
       "2    -0.004501\n",
       "3     0.000102\n",
       "4     0.002404"
      ]
     },
     "execution_count": 19,
     "metadata": {},
     "output_type": "execute_result"
    }
   ],
   "source": [
    "HA31=pd.DataFrame(HA3['Channel_1'], columns = ['aceleracion'])\n",
    "HA31.head()"
   ]
  },
  {
   "cell_type": "code",
   "execution_count": 20,
   "metadata": {},
   "outputs": [
    {
     "data": {
      "text/html": [
       "<div>\n",
       "<style scoped>\n",
       "    .dataframe tbody tr th:only-of-type {\n",
       "        vertical-align: middle;\n",
       "    }\n",
       "\n",
       "    .dataframe tbody tr th {\n",
       "        vertical-align: top;\n",
       "    }\n",
       "\n",
       "    .dataframe thead th {\n",
       "        text-align: right;\n",
       "    }\n",
       "</style>\n",
       "<table border=\"1\" class=\"dataframe\">\n",
       "  <thead>\n",
       "    <tr style=\"text-align: right;\">\n",
       "      <th></th>\n",
       "      <th>velocidad</th>\n",
       "    </tr>\n",
       "  </thead>\n",
       "  <tbody>\n",
       "    <tr>\n",
       "      <th>0</th>\n",
       "      <td>0.036675</td>\n",
       "    </tr>\n",
       "    <tr>\n",
       "      <th>1</th>\n",
       "      <td>0.028127</td>\n",
       "    </tr>\n",
       "    <tr>\n",
       "      <th>2</th>\n",
       "      <td>0.036346</td>\n",
       "    </tr>\n",
       "    <tr>\n",
       "      <th>3</th>\n",
       "      <td>0.036346</td>\n",
       "    </tr>\n",
       "    <tr>\n",
       "      <th>4</th>\n",
       "      <td>0.036017</td>\n",
       "    </tr>\n",
       "  </tbody>\n",
       "</table>\n",
       "</div>"
      ],
      "text/plain": [
       "   velocidad\n",
       "0   0.036675\n",
       "1   0.028127\n",
       "2   0.036346\n",
       "3   0.036346\n",
       "4   0.036017"
      ]
     },
     "execution_count": 20,
     "metadata": {},
     "output_type": "execute_result"
    }
   ],
   "source": [
    "HA32=pd.DataFrame(HA3['Channel_2'], columns = ['velocidad'])\n",
    "HA32.head()"
   ]
  },
  {
   "cell_type": "code",
   "execution_count": 21,
   "metadata": {},
   "outputs": [
    {
     "data": {
      "text/html": [
       "<div>\n",
       "<style scoped>\n",
       "    .dataframe tbody tr th:only-of-type {\n",
       "        vertical-align: middle;\n",
       "    }\n",
       "\n",
       "    .dataframe tbody tr th {\n",
       "        vertical-align: top;\n",
       "    }\n",
       "\n",
       "    .dataframe thead th {\n",
       "        text-align: right;\n",
       "    }\n",
       "</style>\n",
       "<table border=\"1\" class=\"dataframe\">\n",
       "  <thead>\n",
       "    <tr style=\"text-align: right;\">\n",
       "      <th></th>\n",
       "      <th>aceleracion</th>\n",
       "      <th>velocidad</th>\n",
       "    </tr>\n",
       "  </thead>\n",
       "  <tbody>\n",
       "    <tr>\n",
       "      <th>0</th>\n",
       "      <td>0.001747</td>\n",
       "      <td>0.036675</td>\n",
       "    </tr>\n",
       "    <tr>\n",
       "      <th>1</th>\n",
       "      <td>0.000760</td>\n",
       "      <td>0.028127</td>\n",
       "    </tr>\n",
       "    <tr>\n",
       "      <th>2</th>\n",
       "      <td>-0.004501</td>\n",
       "      <td>0.036346</td>\n",
       "    </tr>\n",
       "    <tr>\n",
       "      <th>3</th>\n",
       "      <td>0.000102</td>\n",
       "      <td>0.036346</td>\n",
       "    </tr>\n",
       "    <tr>\n",
       "      <th>4</th>\n",
       "      <td>0.002404</td>\n",
       "      <td>0.036017</td>\n",
       "    </tr>\n",
       "  </tbody>\n",
       "</table>\n",
       "</div>"
      ],
      "text/plain": [
       "   aceleracion  velocidad\n",
       "0     0.001747   0.036675\n",
       "1     0.000760   0.028127\n",
       "2    -0.004501   0.036346\n",
       "3     0.000102   0.036346\n",
       "4     0.002404   0.036017"
      ]
     },
     "execution_count": 21,
     "metadata": {},
     "output_type": "execute_result"
    }
   ],
   "source": [
    "# concatenar los dos DF\n",
    "\n",
    "H3train = pd.concat([HA31, HA32], axis=1, sort=False)\n",
    "H3train.head()"
   ]
  },
  {
   "cell_type": "code",
   "execution_count": 22,
   "metadata": {},
   "outputs": [
    {
     "name": "stdout",
     "output_type": "stream",
     "text": [
      "numero de dimensiones = 2\n",
      "tamaño de la tabla  = (2000000, 2)\n",
      "total datos = 4000000\n"
     ]
    }
   ],
   "source": [
    "print(\"numero de dimensiones =\", H3train.ndim)\n",
    "print(\"tamaño de la tabla  =\", H3train.shape)\n",
    "print(\"total datos =\", H3train.size)"
   ]
  },
  {
   "cell_type": "code",
   "execution_count": 23,
   "metadata": {},
   "outputs": [
    {
     "data": {
      "text/plain": [
       "aceleracion    False\n",
       "velocidad      False\n",
       "dtype: bool"
      ]
     },
     "execution_count": 23,
     "metadata": {},
     "output_type": "execute_result"
    }
   ],
   "source": [
    "#hallar si hay nul o NaN\n",
    "H3train.isnull().any()"
   ]
  },
  {
   "cell_type": "code",
   "execution_count": 24,
   "metadata": {},
   "outputs": [
    {
     "data": {
      "text/plain": [
       "aceleracion    False\n",
       "velocidad      False\n",
       "dtype: bool"
      ]
     },
     "execution_count": 24,
     "metadata": {},
     "output_type": "execute_result"
    }
   ],
   "source": [
    "H3train.isna().any()"
   ]
  },
  {
   "cell_type": "code",
   "execution_count": 25,
   "metadata": {},
   "outputs": [
    {
     "data": {
      "text/plain": [
       "aceleracion    0\n",
       "velocidad      0\n",
       "dtype: int64"
      ]
     },
     "execution_count": 25,
     "metadata": {},
     "output_type": "execute_result"
    }
   ],
   "source": [
    "H3train.isnull().sum()"
   ]
  },
  {
   "cell_type": "markdown",
   "metadata": {},
   "source": [
    "## Etiquetado de datos"
   ]
  },
  {
   "cell_type": "code",
   "execution_count": 26,
   "metadata": {},
   "outputs": [
    {
     "data": {
      "text/html": [
       "<div>\n",
       "<style scoped>\n",
       "    .dataframe tbody tr th:only-of-type {\n",
       "        vertical-align: middle;\n",
       "    }\n",
       "\n",
       "    .dataframe tbody tr th {\n",
       "        vertical-align: top;\n",
       "    }\n",
       "\n",
       "    .dataframe thead th {\n",
       "        text-align: right;\n",
       "    }\n",
       "</style>\n",
       "<table border=\"1\" class=\"dataframe\">\n",
       "  <thead>\n",
       "    <tr style=\"text-align: right;\">\n",
       "      <th></th>\n",
       "      <th>aceleracion</th>\n",
       "      <th>velocidad</th>\n",
       "    </tr>\n",
       "  </thead>\n",
       "  <tbody>\n",
       "    <tr>\n",
       "      <th>0</th>\n",
       "      <td>0.001747</td>\n",
       "      <td>0.036675</td>\n",
       "    </tr>\n",
       "    <tr>\n",
       "      <th>1</th>\n",
       "      <td>0.000760</td>\n",
       "      <td>0.028127</td>\n",
       "    </tr>\n",
       "    <tr>\n",
       "      <th>2</th>\n",
       "      <td>-0.004501</td>\n",
       "      <td>0.036346</td>\n",
       "    </tr>\n",
       "    <tr>\n",
       "      <th>3</th>\n",
       "      <td>0.000102</td>\n",
       "      <td>0.036346</td>\n",
       "    </tr>\n",
       "    <tr>\n",
       "      <th>4</th>\n",
       "      <td>0.002404</td>\n",
       "      <td>0.036017</td>\n",
       "    </tr>\n",
       "  </tbody>\n",
       "</table>\n",
       "</div>"
      ],
      "text/plain": [
       "   aceleracion  velocidad\n",
       "0     0.001747   0.036675\n",
       "1     0.000760   0.028127\n",
       "2    -0.004501   0.036346\n",
       "3     0.000102   0.036346\n",
       "4     0.002404   0.036017"
      ]
     },
     "execution_count": 26,
     "metadata": {},
     "output_type": "execute_result"
    }
   ],
   "source": [
    "H3train.head()"
   ]
  },
  {
   "cell_type": "code",
   "execution_count": 27,
   "metadata": {},
   "outputs": [
    {
     "data": {
      "text/html": [
       "<div>\n",
       "<style scoped>\n",
       "    .dataframe tbody tr th:only-of-type {\n",
       "        vertical-align: middle;\n",
       "    }\n",
       "\n",
       "    .dataframe tbody tr th {\n",
       "        vertical-align: top;\n",
       "    }\n",
       "\n",
       "    .dataframe thead th {\n",
       "        text-align: right;\n",
       "    }\n",
       "</style>\n",
       "<table border=\"1\" class=\"dataframe\">\n",
       "  <thead>\n",
       "    <tr style=\"text-align: right;\">\n",
       "      <th></th>\n",
       "      <th>aceleracion</th>\n",
       "      <th>velocidad</th>\n",
       "      <th>falla</th>\n",
       "    </tr>\n",
       "  </thead>\n",
       "  <tbody>\n",
       "    <tr>\n",
       "      <th>0</th>\n",
       "      <td>0.001747</td>\n",
       "      <td>0.036675</td>\n",
       "      <td>0</td>\n",
       "    </tr>\n",
       "    <tr>\n",
       "      <th>1</th>\n",
       "      <td>0.000760</td>\n",
       "      <td>0.028127</td>\n",
       "      <td>0</td>\n",
       "    </tr>\n",
       "    <tr>\n",
       "      <th>2</th>\n",
       "      <td>-0.004501</td>\n",
       "      <td>0.036346</td>\n",
       "      <td>0</td>\n",
       "    </tr>\n",
       "    <tr>\n",
       "      <th>3</th>\n",
       "      <td>0.000102</td>\n",
       "      <td>0.036346</td>\n",
       "      <td>0</td>\n",
       "    </tr>\n",
       "    <tr>\n",
       "      <th>4</th>\n",
       "      <td>0.002404</td>\n",
       "      <td>0.036017</td>\n",
       "      <td>0</td>\n",
       "    </tr>\n",
       "  </tbody>\n",
       "</table>\n",
       "</div>"
      ],
      "text/plain": [
       "   aceleracion  velocidad  falla\n",
       "0     0.001747   0.036675      0\n",
       "1     0.000760   0.028127      0\n",
       "2    -0.004501   0.036346      0\n",
       "3     0.000102   0.036346      0\n",
       "4     0.002404   0.036017      0"
      ]
     },
     "execution_count": 27,
     "metadata": {},
     "output_type": "execute_result"
    }
   ],
   "source": [
    "H3train['falla'] = 0\n",
    "H3train.head()"
   ]
  },
  {
   "cell_type": "code",
   "execution_count": 28,
   "metadata": {},
   "outputs": [
    {
     "data": {
      "text/html": [
       "<div>\n",
       "<style scoped>\n",
       "    .dataframe tbody tr th:only-of-type {\n",
       "        vertical-align: middle;\n",
       "    }\n",
       "\n",
       "    .dataframe tbody tr th {\n",
       "        vertical-align: top;\n",
       "    }\n",
       "\n",
       "    .dataframe thead th {\n",
       "        text-align: right;\n",
       "    }\n",
       "</style>\n",
       "<table border=\"1\" class=\"dataframe\">\n",
       "  <thead>\n",
       "    <tr style=\"text-align: right;\">\n",
       "      <th></th>\n",
       "      <th>id</th>\n",
       "      <th>aceleracion</th>\n",
       "      <th>velocidad</th>\n",
       "      <th>falla</th>\n",
       "    </tr>\n",
       "  </thead>\n",
       "  <tbody>\n",
       "    <tr>\n",
       "      <th>0</th>\n",
       "      <td>1</td>\n",
       "      <td>0.001747</td>\n",
       "      <td>0.036675</td>\n",
       "      <td>0</td>\n",
       "    </tr>\n",
       "    <tr>\n",
       "      <th>1</th>\n",
       "      <td>1</td>\n",
       "      <td>0.000760</td>\n",
       "      <td>0.028127</td>\n",
       "      <td>0</td>\n",
       "    </tr>\n",
       "    <tr>\n",
       "      <th>2</th>\n",
       "      <td>1</td>\n",
       "      <td>-0.004501</td>\n",
       "      <td>0.036346</td>\n",
       "      <td>0</td>\n",
       "    </tr>\n",
       "    <tr>\n",
       "      <th>3</th>\n",
       "      <td>1</td>\n",
       "      <td>0.000102</td>\n",
       "      <td>0.036346</td>\n",
       "      <td>0</td>\n",
       "    </tr>\n",
       "    <tr>\n",
       "      <th>4</th>\n",
       "      <td>1</td>\n",
       "      <td>0.002404</td>\n",
       "      <td>0.036017</td>\n",
       "      <td>0</td>\n",
       "    </tr>\n",
       "  </tbody>\n",
       "</table>\n",
       "</div>"
      ],
      "text/plain": [
       "   id  aceleracion  velocidad  falla\n",
       "0   1     0.001747   0.036675      0\n",
       "1   1     0.000760   0.028127      0\n",
       "2   1    -0.004501   0.036346      0\n",
       "3   1     0.000102   0.036346      0\n",
       "4   1     0.002404   0.036017      0"
      ]
     },
     "execution_count": 28,
     "metadata": {},
     "output_type": "execute_result"
    }
   ],
   "source": [
    "H3train.insert(0, 'id', 1)\n",
    "H3train.head()"
   ]
  },
  {
   "cell_type": "markdown",
   "metadata": {},
   "source": [
    "## Datos recopilados de un rodamiento con falla en pista interna"
   ]
  },
  {
   "cell_type": "markdown",
   "metadata": {},
   "source": [
    "Archivos:\n",
    "* I-A-1:Datos recopilados estado falla pista interna \n",
    "* I-A-3:Datos recopilados estado falla pista interna \n",
    "\n"
   ]
  },
  {
   "cell_type": "code",
   "execution_count": 29,
   "metadata": {},
   "outputs": [],
   "source": [
    "# importar datos de archivo matlab datos rodamiento falla en pista interna\n",
    "IA1 = loadmat (r'D:\\alexh\\Documents\\Maestria en estadistica\\proyecto de grado\\bases de datos vibraciones\\rodamientos variando velocidad\\datos de vibraciones\\I-A-1.mat')"
   ]
  },
  {
   "cell_type": "code",
   "execution_count": 30,
   "metadata": {},
   "outputs": [
    {
     "data": {
      "text/plain": [
       "{'__header__': b'MATLAB 5.0 MAT-file, Platform: PCWIN64, Created on: Tue Oct 09 17:52:06 2018',\n",
       " '__version__': '1.0',\n",
       " '__globals__': [],\n",
       " 'Channel_1': array([[0.24871092],\n",
       "        [0.24903977],\n",
       "        [0.24838208],\n",
       "        ...,\n",
       "        [0.32927848],\n",
       "        [0.26581098],\n",
       "        [0.1648549 ]]),\n",
       " 'Channel_2': array([[0.0379897 ],\n",
       "        [0.03766093],\n",
       "        [0.0379897 ],\n",
       "        ...,\n",
       "        [4.20684976],\n",
       "        [4.22887776],\n",
       "        [4.29200278]])}"
      ]
     },
     "execution_count": 30,
     "metadata": {},
     "output_type": "execute_result"
    }
   ],
   "source": [
    "IA1"
   ]
  },
  {
   "cell_type": "code",
   "execution_count": 31,
   "metadata": {},
   "outputs": [
    {
     "data": {
      "text/plain": [
       "dict_keys(['__header__', '__version__', '__globals__', 'Channel_1', 'Channel_2'])"
      ]
     },
     "execution_count": 31,
     "metadata": {},
     "output_type": "execute_result"
    }
   ],
   "source": [
    "IA1.keys()"
   ]
  },
  {
   "cell_type": "code",
   "execution_count": 32,
   "metadata": {},
   "outputs": [
    {
     "data": {
      "text/html": [
       "<div>\n",
       "<style scoped>\n",
       "    .dataframe tbody tr th:only-of-type {\n",
       "        vertical-align: middle;\n",
       "    }\n",
       "\n",
       "    .dataframe tbody tr th {\n",
       "        vertical-align: top;\n",
       "    }\n",
       "\n",
       "    .dataframe thead th {\n",
       "        text-align: right;\n",
       "    }\n",
       "</style>\n",
       "<table border=\"1\" class=\"dataframe\">\n",
       "  <thead>\n",
       "    <tr style=\"text-align: right;\">\n",
       "      <th></th>\n",
       "      <th>aceleracion</th>\n",
       "    </tr>\n",
       "  </thead>\n",
       "  <tbody>\n",
       "    <tr>\n",
       "      <th>0</th>\n",
       "      <td>0.248711</td>\n",
       "    </tr>\n",
       "    <tr>\n",
       "      <th>1</th>\n",
       "      <td>0.249040</td>\n",
       "    </tr>\n",
       "    <tr>\n",
       "      <th>2</th>\n",
       "      <td>0.248382</td>\n",
       "    </tr>\n",
       "    <tr>\n",
       "      <th>3</th>\n",
       "      <td>0.250355</td>\n",
       "    </tr>\n",
       "    <tr>\n",
       "      <th>4</th>\n",
       "      <td>0.251013</td>\n",
       "    </tr>\n",
       "  </tbody>\n",
       "</table>\n",
       "</div>"
      ],
      "text/plain": [
       "   aceleracion\n",
       "0     0.248711\n",
       "1     0.249040\n",
       "2     0.248382\n",
       "3     0.250355\n",
       "4     0.251013"
      ]
     },
     "execution_count": 32,
     "metadata": {},
     "output_type": "execute_result"
    }
   ],
   "source": [
    "IA11=pd.DataFrame(IA1['Channel_1'], columns = ['aceleracion'])\n",
    "IA11.head()"
   ]
  },
  {
   "cell_type": "code",
   "execution_count": 33,
   "metadata": {},
   "outputs": [
    {
     "data": {
      "text/html": [
       "<div>\n",
       "<style scoped>\n",
       "    .dataframe tbody tr th:only-of-type {\n",
       "        vertical-align: middle;\n",
       "    }\n",
       "\n",
       "    .dataframe tbody tr th {\n",
       "        vertical-align: top;\n",
       "    }\n",
       "\n",
       "    .dataframe thead th {\n",
       "        text-align: right;\n",
       "    }\n",
       "</style>\n",
       "<table border=\"1\" class=\"dataframe\">\n",
       "  <thead>\n",
       "    <tr style=\"text-align: right;\">\n",
       "      <th></th>\n",
       "      <th>velocidad</th>\n",
       "    </tr>\n",
       "  </thead>\n",
       "  <tbody>\n",
       "    <tr>\n",
       "      <th>0</th>\n",
       "      <td>0.037990</td>\n",
       "    </tr>\n",
       "    <tr>\n",
       "      <th>1</th>\n",
       "      <td>0.037661</td>\n",
       "    </tr>\n",
       "    <tr>\n",
       "      <th>2</th>\n",
       "      <td>0.037990</td>\n",
       "    </tr>\n",
       "    <tr>\n",
       "      <th>3</th>\n",
       "      <td>0.037661</td>\n",
       "    </tr>\n",
       "    <tr>\n",
       "      <th>4</th>\n",
       "      <td>0.037332</td>\n",
       "    </tr>\n",
       "  </tbody>\n",
       "</table>\n",
       "</div>"
      ],
      "text/plain": [
       "   velocidad\n",
       "0   0.037990\n",
       "1   0.037661\n",
       "2   0.037990\n",
       "3   0.037661\n",
       "4   0.037332"
      ]
     },
     "execution_count": 33,
     "metadata": {},
     "output_type": "execute_result"
    }
   ],
   "source": [
    "IA12=pd.DataFrame(IA1['Channel_2'], columns = ['velocidad'])\n",
    "IA12.head()"
   ]
  },
  {
   "cell_type": "code",
   "execution_count": 34,
   "metadata": {},
   "outputs": [
    {
     "data": {
      "text/html": [
       "<div>\n",
       "<style scoped>\n",
       "    .dataframe tbody tr th:only-of-type {\n",
       "        vertical-align: middle;\n",
       "    }\n",
       "\n",
       "    .dataframe tbody tr th {\n",
       "        vertical-align: top;\n",
       "    }\n",
       "\n",
       "    .dataframe thead th {\n",
       "        text-align: right;\n",
       "    }\n",
       "</style>\n",
       "<table border=\"1\" class=\"dataframe\">\n",
       "  <thead>\n",
       "    <tr style=\"text-align: right;\">\n",
       "      <th></th>\n",
       "      <th>aceleracion</th>\n",
       "      <th>velocidad</th>\n",
       "    </tr>\n",
       "  </thead>\n",
       "  <tbody>\n",
       "    <tr>\n",
       "      <th>0</th>\n",
       "      <td>0.248711</td>\n",
       "      <td>0.037990</td>\n",
       "    </tr>\n",
       "    <tr>\n",
       "      <th>1</th>\n",
       "      <td>0.249040</td>\n",
       "      <td>0.037661</td>\n",
       "    </tr>\n",
       "    <tr>\n",
       "      <th>2</th>\n",
       "      <td>0.248382</td>\n",
       "      <td>0.037990</td>\n",
       "    </tr>\n",
       "    <tr>\n",
       "      <th>3</th>\n",
       "      <td>0.250355</td>\n",
       "      <td>0.037661</td>\n",
       "    </tr>\n",
       "    <tr>\n",
       "      <th>4</th>\n",
       "      <td>0.251013</td>\n",
       "      <td>0.037332</td>\n",
       "    </tr>\n",
       "  </tbody>\n",
       "</table>\n",
       "</div>"
      ],
      "text/plain": [
       "   aceleracion  velocidad\n",
       "0     0.248711   0.037990\n",
       "1     0.249040   0.037661\n",
       "2     0.248382   0.037990\n",
       "3     0.250355   0.037661\n",
       "4     0.251013   0.037332"
      ]
     },
     "execution_count": 34,
     "metadata": {},
     "output_type": "execute_result"
    }
   ],
   "source": [
    "# concatenar los dos DF\n",
    "\n",
    "I1train = pd.concat([IA11, IA12], axis=1, sort=False)\n",
    "I1train.head()"
   ]
  },
  {
   "cell_type": "code",
   "execution_count": 35,
   "metadata": {},
   "outputs": [
    {
     "name": "stdout",
     "output_type": "stream",
     "text": [
      "numero de dimensiones = 2\n",
      "tamaño de la tabla  = (2000000, 2)\n",
      "total datos = 4000000\n"
     ]
    }
   ],
   "source": [
    "print(\"numero de dimensiones =\", I1train.ndim)\n",
    "print(\"tamaño de la tabla  =\", I1train.shape)\n",
    "print(\"total datos =\", I1train.size)"
   ]
  },
  {
   "cell_type": "code",
   "execution_count": 36,
   "metadata": {},
   "outputs": [
    {
     "data": {
      "text/plain": [
       "aceleracion    False\n",
       "velocidad      False\n",
       "dtype: bool"
      ]
     },
     "execution_count": 36,
     "metadata": {},
     "output_type": "execute_result"
    }
   ],
   "source": [
    "#hallar si hay nul o NaN\n",
    "I1train.isnull().any()"
   ]
  },
  {
   "cell_type": "code",
   "execution_count": 37,
   "metadata": {},
   "outputs": [
    {
     "data": {
      "text/plain": [
       "aceleracion    False\n",
       "velocidad      False\n",
       "dtype: bool"
      ]
     },
     "execution_count": 37,
     "metadata": {},
     "output_type": "execute_result"
    }
   ],
   "source": [
    "I1train.isna().any()"
   ]
  },
  {
   "cell_type": "code",
   "execution_count": 38,
   "metadata": {},
   "outputs": [
    {
     "data": {
      "text/plain": [
       "aceleracion    0\n",
       "velocidad      0\n",
       "dtype: int64"
      ]
     },
     "execution_count": 38,
     "metadata": {},
     "output_type": "execute_result"
    }
   ],
   "source": [
    "I1train.isnull().sum()"
   ]
  },
  {
   "cell_type": "markdown",
   "metadata": {},
   "source": [
    "## Etiquetado de datos"
   ]
  },
  {
   "cell_type": "code",
   "execution_count": 39,
   "metadata": {},
   "outputs": [
    {
     "data": {
      "text/html": [
       "<div>\n",
       "<style scoped>\n",
       "    .dataframe tbody tr th:only-of-type {\n",
       "        vertical-align: middle;\n",
       "    }\n",
       "\n",
       "    .dataframe tbody tr th {\n",
       "        vertical-align: top;\n",
       "    }\n",
       "\n",
       "    .dataframe thead th {\n",
       "        text-align: right;\n",
       "    }\n",
       "</style>\n",
       "<table border=\"1\" class=\"dataframe\">\n",
       "  <thead>\n",
       "    <tr style=\"text-align: right;\">\n",
       "      <th></th>\n",
       "      <th>aceleracion</th>\n",
       "      <th>velocidad</th>\n",
       "    </tr>\n",
       "  </thead>\n",
       "  <tbody>\n",
       "    <tr>\n",
       "      <th>0</th>\n",
       "      <td>0.248711</td>\n",
       "      <td>0.037990</td>\n",
       "    </tr>\n",
       "    <tr>\n",
       "      <th>1</th>\n",
       "      <td>0.249040</td>\n",
       "      <td>0.037661</td>\n",
       "    </tr>\n",
       "    <tr>\n",
       "      <th>2</th>\n",
       "      <td>0.248382</td>\n",
       "      <td>0.037990</td>\n",
       "    </tr>\n",
       "    <tr>\n",
       "      <th>3</th>\n",
       "      <td>0.250355</td>\n",
       "      <td>0.037661</td>\n",
       "    </tr>\n",
       "    <tr>\n",
       "      <th>4</th>\n",
       "      <td>0.251013</td>\n",
       "      <td>0.037332</td>\n",
       "    </tr>\n",
       "  </tbody>\n",
       "</table>\n",
       "</div>"
      ],
      "text/plain": [
       "   aceleracion  velocidad\n",
       "0     0.248711   0.037990\n",
       "1     0.249040   0.037661\n",
       "2     0.248382   0.037990\n",
       "3     0.250355   0.037661\n",
       "4     0.251013   0.037332"
      ]
     },
     "execution_count": 39,
     "metadata": {},
     "output_type": "execute_result"
    }
   ],
   "source": [
    "I1train.head()"
   ]
  },
  {
   "cell_type": "code",
   "execution_count": 40,
   "metadata": {},
   "outputs": [
    {
     "data": {
      "text/html": [
       "<div>\n",
       "<style scoped>\n",
       "    .dataframe tbody tr th:only-of-type {\n",
       "        vertical-align: middle;\n",
       "    }\n",
       "\n",
       "    .dataframe tbody tr th {\n",
       "        vertical-align: top;\n",
       "    }\n",
       "\n",
       "    .dataframe thead th {\n",
       "        text-align: right;\n",
       "    }\n",
       "</style>\n",
       "<table border=\"1\" class=\"dataframe\">\n",
       "  <thead>\n",
       "    <tr style=\"text-align: right;\">\n",
       "      <th></th>\n",
       "      <th>aceleracion</th>\n",
       "      <th>velocidad</th>\n",
       "      <th>falla</th>\n",
       "    </tr>\n",
       "  </thead>\n",
       "  <tbody>\n",
       "    <tr>\n",
       "      <th>0</th>\n",
       "      <td>0.248711</td>\n",
       "      <td>0.037990</td>\n",
       "      <td>1</td>\n",
       "    </tr>\n",
       "    <tr>\n",
       "      <th>1</th>\n",
       "      <td>0.249040</td>\n",
       "      <td>0.037661</td>\n",
       "      <td>1</td>\n",
       "    </tr>\n",
       "    <tr>\n",
       "      <th>2</th>\n",
       "      <td>0.248382</td>\n",
       "      <td>0.037990</td>\n",
       "      <td>1</td>\n",
       "    </tr>\n",
       "    <tr>\n",
       "      <th>3</th>\n",
       "      <td>0.250355</td>\n",
       "      <td>0.037661</td>\n",
       "      <td>1</td>\n",
       "    </tr>\n",
       "    <tr>\n",
       "      <th>4</th>\n",
       "      <td>0.251013</td>\n",
       "      <td>0.037332</td>\n",
       "      <td>1</td>\n",
       "    </tr>\n",
       "  </tbody>\n",
       "</table>\n",
       "</div>"
      ],
      "text/plain": [
       "   aceleracion  velocidad  falla\n",
       "0     0.248711   0.037990      1\n",
       "1     0.249040   0.037661      1\n",
       "2     0.248382   0.037990      1\n",
       "3     0.250355   0.037661      1\n",
       "4     0.251013   0.037332      1"
      ]
     },
     "execution_count": 40,
     "metadata": {},
     "output_type": "execute_result"
    }
   ],
   "source": [
    "# etiquetado de datos, asignacion etiqueta =1 que correspode a falla en pista interna\n",
    "I1train['falla'] = 1\n",
    "I1train.head()"
   ]
  },
  {
   "cell_type": "code",
   "execution_count": 41,
   "metadata": {},
   "outputs": [
    {
     "data": {
      "text/html": [
       "<div>\n",
       "<style scoped>\n",
       "    .dataframe tbody tr th:only-of-type {\n",
       "        vertical-align: middle;\n",
       "    }\n",
       "\n",
       "    .dataframe tbody tr th {\n",
       "        vertical-align: top;\n",
       "    }\n",
       "\n",
       "    .dataframe thead th {\n",
       "        text-align: right;\n",
       "    }\n",
       "</style>\n",
       "<table border=\"1\" class=\"dataframe\">\n",
       "  <thead>\n",
       "    <tr style=\"text-align: right;\">\n",
       "      <th></th>\n",
       "      <th>id</th>\n",
       "      <th>aceleracion</th>\n",
       "      <th>velocidad</th>\n",
       "      <th>falla</th>\n",
       "    </tr>\n",
       "  </thead>\n",
       "  <tbody>\n",
       "    <tr>\n",
       "      <th>0</th>\n",
       "      <td>1</td>\n",
       "      <td>0.248711</td>\n",
       "      <td>0.037990</td>\n",
       "      <td>1</td>\n",
       "    </tr>\n",
       "    <tr>\n",
       "      <th>1</th>\n",
       "      <td>1</td>\n",
       "      <td>0.249040</td>\n",
       "      <td>0.037661</td>\n",
       "      <td>1</td>\n",
       "    </tr>\n",
       "    <tr>\n",
       "      <th>2</th>\n",
       "      <td>1</td>\n",
       "      <td>0.248382</td>\n",
       "      <td>0.037990</td>\n",
       "      <td>1</td>\n",
       "    </tr>\n",
       "    <tr>\n",
       "      <th>3</th>\n",
       "      <td>1</td>\n",
       "      <td>0.250355</td>\n",
       "      <td>0.037661</td>\n",
       "      <td>1</td>\n",
       "    </tr>\n",
       "    <tr>\n",
       "      <th>4</th>\n",
       "      <td>1</td>\n",
       "      <td>0.251013</td>\n",
       "      <td>0.037332</td>\n",
       "      <td>1</td>\n",
       "    </tr>\n",
       "  </tbody>\n",
       "</table>\n",
       "</div>"
      ],
      "text/plain": [
       "   id  aceleracion  velocidad  falla\n",
       "0   1     0.248711   0.037990      1\n",
       "1   1     0.249040   0.037661      1\n",
       "2   1     0.248382   0.037990      1\n",
       "3   1     0.250355   0.037661      1\n",
       "4   1     0.251013   0.037332      1"
      ]
     },
     "execution_count": 41,
     "metadata": {},
     "output_type": "execute_result"
    }
   ],
   "source": [
    "I1train.insert(0, 'id', 1)\n",
    "I1train.head()"
   ]
  },
  {
   "cell_type": "code",
   "execution_count": 42,
   "metadata": {},
   "outputs": [],
   "source": [
    "# importar datos de archivo matlab del segundo rodamiento con falla en pista interna\n",
    "IA3 = loadmat (r'D:\\alexh\\Documents\\Maestria en estadistica\\proyecto de grado\\bases de datos vibraciones\\rodamientos variando velocidad\\datos de vibraciones\\I-A-3.mat')"
   ]
  },
  {
   "cell_type": "code",
   "execution_count": 43,
   "metadata": {},
   "outputs": [
    {
     "data": {
      "text/plain": [
       "{'__header__': b'MATLAB 5.0 MAT-file, Platform: PCWIN64, Created on: Tue Oct 09 17:52:19 2018',\n",
       " '__version__': '1.0',\n",
       " '__globals__': [],\n",
       " 'Channel_1': array([[-0.01403794],\n",
       "        [-0.007461  ],\n",
       "        [-0.00252829],\n",
       "        ...,\n",
       "        [ 0.01818908],\n",
       "        [-0.00088406],\n",
       "        [ 0.00043133]]),\n",
       " 'Channel_2': array([[0.03766093],\n",
       "        [3.61998493],\n",
       "        [4.17397216],\n",
       "        ...,\n",
       "        [4.25583741],\n",
       "        [0.03733216],\n",
       "        [0.03766093]])}"
      ]
     },
     "execution_count": 43,
     "metadata": {},
     "output_type": "execute_result"
    }
   ],
   "source": [
    "IA3"
   ]
  },
  {
   "cell_type": "code",
   "execution_count": 44,
   "metadata": {},
   "outputs": [
    {
     "data": {
      "text/plain": [
       "dict_keys(['__header__', '__version__', '__globals__', 'Channel_1', 'Channel_2'])"
      ]
     },
     "execution_count": 44,
     "metadata": {},
     "output_type": "execute_result"
    }
   ],
   "source": [
    "IA3.keys()"
   ]
  },
  {
   "cell_type": "code",
   "execution_count": 45,
   "metadata": {},
   "outputs": [
    {
     "data": {
      "text/html": [
       "<div>\n",
       "<style scoped>\n",
       "    .dataframe tbody tr th:only-of-type {\n",
       "        vertical-align: middle;\n",
       "    }\n",
       "\n",
       "    .dataframe tbody tr th {\n",
       "        vertical-align: top;\n",
       "    }\n",
       "\n",
       "    .dataframe thead th {\n",
       "        text-align: right;\n",
       "    }\n",
       "</style>\n",
       "<table border=\"1\" class=\"dataframe\">\n",
       "  <thead>\n",
       "    <tr style=\"text-align: right;\">\n",
       "      <th></th>\n",
       "      <th>aceleracion</th>\n",
       "    </tr>\n",
       "  </thead>\n",
       "  <tbody>\n",
       "    <tr>\n",
       "      <th>0</th>\n",
       "      <td>-0.014038</td>\n",
       "    </tr>\n",
       "    <tr>\n",
       "      <th>1</th>\n",
       "      <td>-0.007461</td>\n",
       "    </tr>\n",
       "    <tr>\n",
       "      <th>2</th>\n",
       "      <td>-0.002528</td>\n",
       "    </tr>\n",
       "    <tr>\n",
       "      <th>3</th>\n",
       "      <td>0.000431</td>\n",
       "    </tr>\n",
       "    <tr>\n",
       "      <th>4</th>\n",
       "      <td>-0.002199</td>\n",
       "    </tr>\n",
       "  </tbody>\n",
       "</table>\n",
       "</div>"
      ],
      "text/plain": [
       "   aceleracion\n",
       "0    -0.014038\n",
       "1    -0.007461\n",
       "2    -0.002528\n",
       "3     0.000431\n",
       "4    -0.002199"
      ]
     },
     "execution_count": 45,
     "metadata": {},
     "output_type": "execute_result"
    }
   ],
   "source": [
    "IA31=pd.DataFrame(IA3['Channel_1'], columns = ['aceleracion'])\n",
    "IA31.head()"
   ]
  },
  {
   "cell_type": "code",
   "execution_count": 46,
   "metadata": {},
   "outputs": [
    {
     "data": {
      "text/html": [
       "<div>\n",
       "<style scoped>\n",
       "    .dataframe tbody tr th:only-of-type {\n",
       "        vertical-align: middle;\n",
       "    }\n",
       "\n",
       "    .dataframe tbody tr th {\n",
       "        vertical-align: top;\n",
       "    }\n",
       "\n",
       "    .dataframe thead th {\n",
       "        text-align: right;\n",
       "    }\n",
       "</style>\n",
       "<table border=\"1\" class=\"dataframe\">\n",
       "  <thead>\n",
       "    <tr style=\"text-align: right;\">\n",
       "      <th></th>\n",
       "      <th>velocidad</th>\n",
       "    </tr>\n",
       "  </thead>\n",
       "  <tbody>\n",
       "    <tr>\n",
       "      <th>0</th>\n",
       "      <td>0.037661</td>\n",
       "    </tr>\n",
       "    <tr>\n",
       "      <th>1</th>\n",
       "      <td>3.619985</td>\n",
       "    </tr>\n",
       "    <tr>\n",
       "      <th>2</th>\n",
       "      <td>4.173972</td>\n",
       "    </tr>\n",
       "    <tr>\n",
       "      <th>3</th>\n",
       "      <td>4.198302</td>\n",
       "    </tr>\n",
       "    <tr>\n",
       "      <th>4</th>\n",
       "      <td>4.213425</td>\n",
       "    </tr>\n",
       "  </tbody>\n",
       "</table>\n",
       "</div>"
      ],
      "text/plain": [
       "   velocidad\n",
       "0   0.037661\n",
       "1   3.619985\n",
       "2   4.173972\n",
       "3   4.198302\n",
       "4   4.213425"
      ]
     },
     "execution_count": 46,
     "metadata": {},
     "output_type": "execute_result"
    }
   ],
   "source": [
    "IA32=pd.DataFrame(IA3['Channel_2'], columns = ['velocidad'])\n",
    "IA32.head()"
   ]
  },
  {
   "cell_type": "code",
   "execution_count": 47,
   "metadata": {},
   "outputs": [
    {
     "data": {
      "text/html": [
       "<div>\n",
       "<style scoped>\n",
       "    .dataframe tbody tr th:only-of-type {\n",
       "        vertical-align: middle;\n",
       "    }\n",
       "\n",
       "    .dataframe tbody tr th {\n",
       "        vertical-align: top;\n",
       "    }\n",
       "\n",
       "    .dataframe thead th {\n",
       "        text-align: right;\n",
       "    }\n",
       "</style>\n",
       "<table border=\"1\" class=\"dataframe\">\n",
       "  <thead>\n",
       "    <tr style=\"text-align: right;\">\n",
       "      <th></th>\n",
       "      <th>aceleracion</th>\n",
       "      <th>velocidad</th>\n",
       "    </tr>\n",
       "  </thead>\n",
       "  <tbody>\n",
       "    <tr>\n",
       "      <th>0</th>\n",
       "      <td>-0.014038</td>\n",
       "      <td>0.037661</td>\n",
       "    </tr>\n",
       "    <tr>\n",
       "      <th>1</th>\n",
       "      <td>-0.007461</td>\n",
       "      <td>3.619985</td>\n",
       "    </tr>\n",
       "    <tr>\n",
       "      <th>2</th>\n",
       "      <td>-0.002528</td>\n",
       "      <td>4.173972</td>\n",
       "    </tr>\n",
       "    <tr>\n",
       "      <th>3</th>\n",
       "      <td>0.000431</td>\n",
       "      <td>4.198302</td>\n",
       "    </tr>\n",
       "    <tr>\n",
       "      <th>4</th>\n",
       "      <td>-0.002199</td>\n",
       "      <td>4.213425</td>\n",
       "    </tr>\n",
       "  </tbody>\n",
       "</table>\n",
       "</div>"
      ],
      "text/plain": [
       "   aceleracion  velocidad\n",
       "0    -0.014038   0.037661\n",
       "1    -0.007461   3.619985\n",
       "2    -0.002528   4.173972\n",
       "3     0.000431   4.198302\n",
       "4    -0.002199   4.213425"
      ]
     },
     "execution_count": 47,
     "metadata": {},
     "output_type": "execute_result"
    }
   ],
   "source": [
    "# concatenar los dos DF\n",
    "\n",
    "I3train = pd.concat([IA31, IA32], axis=1, sort=False)\n",
    "I3train.head()"
   ]
  },
  {
   "cell_type": "code",
   "execution_count": 48,
   "metadata": {},
   "outputs": [
    {
     "name": "stdout",
     "output_type": "stream",
     "text": [
      "numero de dimensiones = 2\n",
      "tamaño de la tabla  = (2000000, 2)\n",
      "total datos = 4000000\n"
     ]
    }
   ],
   "source": [
    "print(\"numero de dimensiones =\", I3train.ndim)\n",
    "print(\"tamaño de la tabla  =\", I3train.shape)\n",
    "print(\"total datos =\", I3train.size)"
   ]
  },
  {
   "cell_type": "code",
   "execution_count": 49,
   "metadata": {},
   "outputs": [
    {
     "data": {
      "text/plain": [
       "aceleracion    False\n",
       "velocidad      False\n",
       "dtype: bool"
      ]
     },
     "execution_count": 49,
     "metadata": {},
     "output_type": "execute_result"
    }
   ],
   "source": [
    "#hallar si hay nul o NaN\n",
    "I3train.isnull().any()"
   ]
  },
  {
   "cell_type": "code",
   "execution_count": 50,
   "metadata": {},
   "outputs": [
    {
     "data": {
      "text/plain": [
       "aceleracion    False\n",
       "velocidad      False\n",
       "dtype: bool"
      ]
     },
     "execution_count": 50,
     "metadata": {},
     "output_type": "execute_result"
    }
   ],
   "source": [
    "I3train.isna().any()"
   ]
  },
  {
   "cell_type": "code",
   "execution_count": 51,
   "metadata": {},
   "outputs": [
    {
     "data": {
      "text/plain": [
       "aceleracion    0\n",
       "velocidad      0\n",
       "dtype: int64"
      ]
     },
     "execution_count": 51,
     "metadata": {},
     "output_type": "execute_result"
    }
   ],
   "source": [
    "I3train.isnull().sum()"
   ]
  },
  {
   "cell_type": "markdown",
   "metadata": {},
   "source": [
    "## Etiquetado de datos"
   ]
  },
  {
   "cell_type": "code",
   "execution_count": 52,
   "metadata": {},
   "outputs": [
    {
     "data": {
      "text/html": [
       "<div>\n",
       "<style scoped>\n",
       "    .dataframe tbody tr th:only-of-type {\n",
       "        vertical-align: middle;\n",
       "    }\n",
       "\n",
       "    .dataframe tbody tr th {\n",
       "        vertical-align: top;\n",
       "    }\n",
       "\n",
       "    .dataframe thead th {\n",
       "        text-align: right;\n",
       "    }\n",
       "</style>\n",
       "<table border=\"1\" class=\"dataframe\">\n",
       "  <thead>\n",
       "    <tr style=\"text-align: right;\">\n",
       "      <th></th>\n",
       "      <th>aceleracion</th>\n",
       "      <th>velocidad</th>\n",
       "    </tr>\n",
       "  </thead>\n",
       "  <tbody>\n",
       "    <tr>\n",
       "      <th>0</th>\n",
       "      <td>-0.014038</td>\n",
       "      <td>0.037661</td>\n",
       "    </tr>\n",
       "    <tr>\n",
       "      <th>1</th>\n",
       "      <td>-0.007461</td>\n",
       "      <td>3.619985</td>\n",
       "    </tr>\n",
       "    <tr>\n",
       "      <th>2</th>\n",
       "      <td>-0.002528</td>\n",
       "      <td>4.173972</td>\n",
       "    </tr>\n",
       "    <tr>\n",
       "      <th>3</th>\n",
       "      <td>0.000431</td>\n",
       "      <td>4.198302</td>\n",
       "    </tr>\n",
       "    <tr>\n",
       "      <th>4</th>\n",
       "      <td>-0.002199</td>\n",
       "      <td>4.213425</td>\n",
       "    </tr>\n",
       "  </tbody>\n",
       "</table>\n",
       "</div>"
      ],
      "text/plain": [
       "   aceleracion  velocidad\n",
       "0    -0.014038   0.037661\n",
       "1    -0.007461   3.619985\n",
       "2    -0.002528   4.173972\n",
       "3     0.000431   4.198302\n",
       "4    -0.002199   4.213425"
      ]
     },
     "execution_count": 52,
     "metadata": {},
     "output_type": "execute_result"
    }
   ],
   "source": [
    "I3train.head()"
   ]
  },
  {
   "cell_type": "code",
   "execution_count": 53,
   "metadata": {},
   "outputs": [
    {
     "data": {
      "text/html": [
       "<div>\n",
       "<style scoped>\n",
       "    .dataframe tbody tr th:only-of-type {\n",
       "        vertical-align: middle;\n",
       "    }\n",
       "\n",
       "    .dataframe tbody tr th {\n",
       "        vertical-align: top;\n",
       "    }\n",
       "\n",
       "    .dataframe thead th {\n",
       "        text-align: right;\n",
       "    }\n",
       "</style>\n",
       "<table border=\"1\" class=\"dataframe\">\n",
       "  <thead>\n",
       "    <tr style=\"text-align: right;\">\n",
       "      <th></th>\n",
       "      <th>aceleracion</th>\n",
       "      <th>velocidad</th>\n",
       "      <th>falla</th>\n",
       "    </tr>\n",
       "  </thead>\n",
       "  <tbody>\n",
       "    <tr>\n",
       "      <th>0</th>\n",
       "      <td>-0.014038</td>\n",
       "      <td>0.037661</td>\n",
       "      <td>1</td>\n",
       "    </tr>\n",
       "    <tr>\n",
       "      <th>1</th>\n",
       "      <td>-0.007461</td>\n",
       "      <td>3.619985</td>\n",
       "      <td>1</td>\n",
       "    </tr>\n",
       "    <tr>\n",
       "      <th>2</th>\n",
       "      <td>-0.002528</td>\n",
       "      <td>4.173972</td>\n",
       "      <td>1</td>\n",
       "    </tr>\n",
       "    <tr>\n",
       "      <th>3</th>\n",
       "      <td>0.000431</td>\n",
       "      <td>4.198302</td>\n",
       "      <td>1</td>\n",
       "    </tr>\n",
       "    <tr>\n",
       "      <th>4</th>\n",
       "      <td>-0.002199</td>\n",
       "      <td>4.213425</td>\n",
       "      <td>1</td>\n",
       "    </tr>\n",
       "  </tbody>\n",
       "</table>\n",
       "</div>"
      ],
      "text/plain": [
       "   aceleracion  velocidad  falla\n",
       "0    -0.014038   0.037661      1\n",
       "1    -0.007461   3.619985      1\n",
       "2    -0.002528   4.173972      1\n",
       "3     0.000431   4.198302      1\n",
       "4    -0.002199   4.213425      1"
      ]
     },
     "execution_count": 53,
     "metadata": {},
     "output_type": "execute_result"
    }
   ],
   "source": [
    "I3train['falla'] = 1\n",
    "I3train.head()"
   ]
  },
  {
   "cell_type": "code",
   "execution_count": 54,
   "metadata": {},
   "outputs": [
    {
     "data": {
      "text/html": [
       "<div>\n",
       "<style scoped>\n",
       "    .dataframe tbody tr th:only-of-type {\n",
       "        vertical-align: middle;\n",
       "    }\n",
       "\n",
       "    .dataframe tbody tr th {\n",
       "        vertical-align: top;\n",
       "    }\n",
       "\n",
       "    .dataframe thead th {\n",
       "        text-align: right;\n",
       "    }\n",
       "</style>\n",
       "<table border=\"1\" class=\"dataframe\">\n",
       "  <thead>\n",
       "    <tr style=\"text-align: right;\">\n",
       "      <th></th>\n",
       "      <th>id</th>\n",
       "      <th>aceleracion</th>\n",
       "      <th>velocidad</th>\n",
       "      <th>falla</th>\n",
       "    </tr>\n",
       "  </thead>\n",
       "  <tbody>\n",
       "    <tr>\n",
       "      <th>0</th>\n",
       "      <td>1</td>\n",
       "      <td>-0.014038</td>\n",
       "      <td>0.037661</td>\n",
       "      <td>1</td>\n",
       "    </tr>\n",
       "    <tr>\n",
       "      <th>1</th>\n",
       "      <td>1</td>\n",
       "      <td>-0.007461</td>\n",
       "      <td>3.619985</td>\n",
       "      <td>1</td>\n",
       "    </tr>\n",
       "    <tr>\n",
       "      <th>2</th>\n",
       "      <td>1</td>\n",
       "      <td>-0.002528</td>\n",
       "      <td>4.173972</td>\n",
       "      <td>1</td>\n",
       "    </tr>\n",
       "    <tr>\n",
       "      <th>3</th>\n",
       "      <td>1</td>\n",
       "      <td>0.000431</td>\n",
       "      <td>4.198302</td>\n",
       "      <td>1</td>\n",
       "    </tr>\n",
       "    <tr>\n",
       "      <th>4</th>\n",
       "      <td>1</td>\n",
       "      <td>-0.002199</td>\n",
       "      <td>4.213425</td>\n",
       "      <td>1</td>\n",
       "    </tr>\n",
       "  </tbody>\n",
       "</table>\n",
       "</div>"
      ],
      "text/plain": [
       "   id  aceleracion  velocidad  falla\n",
       "0   1    -0.014038   0.037661      1\n",
       "1   1    -0.007461   3.619985      1\n",
       "2   1    -0.002528   4.173972      1\n",
       "3   1     0.000431   4.198302      1\n",
       "4   1    -0.002199   4.213425      1"
      ]
     },
     "execution_count": 54,
     "metadata": {},
     "output_type": "execute_result"
    }
   ],
   "source": [
    "I3train.insert(0, 'id', 1)\n",
    "I3train.head()"
   ]
  },
  {
   "cell_type": "markdown",
   "metadata": {},
   "source": [
    "## Concatenar las bases"
   ]
  },
  {
   "cell_type": "code",
   "execution_count": 55,
   "metadata": {},
   "outputs": [
    {
     "data": {
      "text/html": [
       "<div>\n",
       "<style scoped>\n",
       "    .dataframe tbody tr th:only-of-type {\n",
       "        vertical-align: middle;\n",
       "    }\n",
       "\n",
       "    .dataframe tbody tr th {\n",
       "        vertical-align: top;\n",
       "    }\n",
       "\n",
       "    .dataframe thead th {\n",
       "        text-align: right;\n",
       "    }\n",
       "</style>\n",
       "<table border=\"1\" class=\"dataframe\">\n",
       "  <thead>\n",
       "    <tr style=\"text-align: right;\">\n",
       "      <th></th>\n",
       "      <th>id</th>\n",
       "      <th>aceleracion</th>\n",
       "      <th>velocidad</th>\n",
       "      <th>falla</th>\n",
       "    </tr>\n",
       "  </thead>\n",
       "  <tbody>\n",
       "    <tr>\n",
       "      <th>0</th>\n",
       "      <td>1</td>\n",
       "      <td>-0.002199</td>\n",
       "      <td>4.188767</td>\n",
       "      <td>0</td>\n",
       "    </tr>\n",
       "    <tr>\n",
       "      <th>1</th>\n",
       "      <td>1</td>\n",
       "      <td>-0.001871</td>\n",
       "      <td>4.200603</td>\n",
       "      <td>0</td>\n",
       "    </tr>\n",
       "    <tr>\n",
       "      <th>2</th>\n",
       "      <td>1</td>\n",
       "      <td>-0.001542</td>\n",
       "      <td>4.208165</td>\n",
       "      <td>0</td>\n",
       "    </tr>\n",
       "    <tr>\n",
       "      <th>3</th>\n",
       "      <td>1</td>\n",
       "      <td>-0.001871</td>\n",
       "      <td>4.226576</td>\n",
       "      <td>0</td>\n",
       "    </tr>\n",
       "    <tr>\n",
       "      <th>4</th>\n",
       "      <td>1</td>\n",
       "      <td>-0.002199</td>\n",
       "      <td>4.240385</td>\n",
       "      <td>0</td>\n",
       "    </tr>\n",
       "  </tbody>\n",
       "</table>\n",
       "</div>"
      ],
      "text/plain": [
       "   id  aceleracion  velocidad  falla\n",
       "0   1    -0.002199   4.188767      0\n",
       "1   1    -0.001871   4.200603      0\n",
       "2   1    -0.001542   4.208165      0\n",
       "3   1    -0.001871   4.226576      0\n",
       "4   1    -0.002199   4.240385      0"
      ]
     },
     "execution_count": 55,
     "metadata": {},
     "output_type": "execute_result"
    }
   ],
   "source": [
    "# concatenar\n",
    "train=pd.concat([H1train, I3train], ignore_index=True)\n",
    "train.head()"
   ]
  },
  {
   "cell_type": "code",
   "execution_count": 56,
   "metadata": {},
   "outputs": [
    {
     "data": {
      "text/html": [
       "<div>\n",
       "<style scoped>\n",
       "    .dataframe tbody tr th:only-of-type {\n",
       "        vertical-align: middle;\n",
       "    }\n",
       "\n",
       "    .dataframe tbody tr th {\n",
       "        vertical-align: top;\n",
       "    }\n",
       "\n",
       "    .dataframe thead th {\n",
       "        text-align: right;\n",
       "    }\n",
       "</style>\n",
       "<table border=\"1\" class=\"dataframe\">\n",
       "  <thead>\n",
       "    <tr style=\"text-align: right;\">\n",
       "      <th></th>\n",
       "      <th>id</th>\n",
       "      <th>aceleracion</th>\n",
       "      <th>velocidad</th>\n",
       "      <th>falla</th>\n",
       "    </tr>\n",
       "  </thead>\n",
       "  <tbody>\n",
       "    <tr>\n",
       "      <th>3999995</th>\n",
       "      <td>1</td>\n",
       "      <td>0.081657</td>\n",
       "      <td>4.181863</td>\n",
       "      <td>1</td>\n",
       "    </tr>\n",
       "    <tr>\n",
       "      <th>3999996</th>\n",
       "      <td>1</td>\n",
       "      <td>0.053705</td>\n",
       "      <td>4.117094</td>\n",
       "      <td>1</td>\n",
       "    </tr>\n",
       "    <tr>\n",
       "      <th>3999997</th>\n",
       "      <td>1</td>\n",
       "      <td>0.018189</td>\n",
       "      <td>4.255837</td>\n",
       "      <td>1</td>\n",
       "    </tr>\n",
       "    <tr>\n",
       "      <th>3999998</th>\n",
       "      <td>1</td>\n",
       "      <td>-0.000884</td>\n",
       "      <td>0.037332</td>\n",
       "      <td>1</td>\n",
       "    </tr>\n",
       "    <tr>\n",
       "      <th>3999999</th>\n",
       "      <td>1</td>\n",
       "      <td>0.000431</td>\n",
       "      <td>0.037661</td>\n",
       "      <td>1</td>\n",
       "    </tr>\n",
       "  </tbody>\n",
       "</table>\n",
       "</div>"
      ],
      "text/plain": [
       "         id  aceleracion  velocidad  falla\n",
       "3999995   1     0.081657   4.181863      1\n",
       "3999996   1     0.053705   4.117094      1\n",
       "3999997   1     0.018189   4.255837      1\n",
       "3999998   1    -0.000884   0.037332      1\n",
       "3999999   1     0.000431   0.037661      1"
      ]
     },
     "execution_count": 56,
     "metadata": {},
     "output_type": "execute_result"
    }
   ],
   "source": [
    "train.tail()"
   ]
  },
  {
   "cell_type": "code",
   "execution_count": 57,
   "metadata": {},
   "outputs": [
    {
     "data": {
      "text/plain": [
       "(4000000, 4)"
      ]
     },
     "execution_count": 57,
     "metadata": {},
     "output_type": "execute_result"
    }
   ],
   "source": [
    "train.shape\n"
   ]
  },
  {
   "cell_type": "markdown",
   "metadata": {},
   "source": [
    "Tamaño de la base 4 millones de observaciones "
   ]
  },
  {
   "cell_type": "code",
   "execution_count": 58,
   "metadata": {},
   "outputs": [
    {
     "data": {
      "text/html": [
       "<div>\n",
       "<style scoped>\n",
       "    .dataframe tbody tr th:only-of-type {\n",
       "        vertical-align: middle;\n",
       "    }\n",
       "\n",
       "    .dataframe tbody tr th {\n",
       "        vertical-align: top;\n",
       "    }\n",
       "\n",
       "    .dataframe thead th {\n",
       "        text-align: right;\n",
       "    }\n",
       "</style>\n",
       "<table border=\"1\" class=\"dataframe\">\n",
       "  <thead>\n",
       "    <tr style=\"text-align: right;\">\n",
       "      <th></th>\n",
       "      <th>aceleracion</th>\n",
       "      <th>velocidad</th>\n",
       "      <th>falla</th>\n",
       "    </tr>\n",
       "  </thead>\n",
       "  <tbody>\n",
       "    <tr>\n",
       "      <th>0</th>\n",
       "      <td>-0.002199</td>\n",
       "      <td>4.188767</td>\n",
       "      <td>0</td>\n",
       "    </tr>\n",
       "    <tr>\n",
       "      <th>1</th>\n",
       "      <td>-0.001871</td>\n",
       "      <td>4.200603</td>\n",
       "      <td>0</td>\n",
       "    </tr>\n",
       "    <tr>\n",
       "      <th>2</th>\n",
       "      <td>-0.001542</td>\n",
       "      <td>4.208165</td>\n",
       "      <td>0</td>\n",
       "    </tr>\n",
       "    <tr>\n",
       "      <th>3</th>\n",
       "      <td>-0.001871</td>\n",
       "      <td>4.226576</td>\n",
       "      <td>0</td>\n",
       "    </tr>\n",
       "    <tr>\n",
       "      <th>4</th>\n",
       "      <td>-0.002199</td>\n",
       "      <td>4.240385</td>\n",
       "      <td>0</td>\n",
       "    </tr>\n",
       "  </tbody>\n",
       "</table>\n",
       "</div>"
      ],
      "text/plain": [
       "   aceleracion  velocidad  falla\n",
       "0    -0.002199   4.188767      0\n",
       "1    -0.001871   4.200603      0\n",
       "2    -0.001542   4.208165      0\n",
       "3    -0.001871   4.226576      0\n",
       "4    -0.002199   4.240385      0"
      ]
     },
     "execution_count": 58,
     "metadata": {},
     "output_type": "execute_result"
    }
   ],
   "source": [
    "# borrar la columna id\n",
    "\n",
    "train.drop('id', axis=1, inplace=True)\n",
    "train.head()"
   ]
  },
  {
   "cell_type": "code",
   "execution_count": 59,
   "metadata": {},
   "outputs": [],
   "source": [
    "# separar datos de etiquetas\n",
    "\n",
    "data_train=train.iloc[:,np.r_[0:2]]\n",
    "label_train=train.iloc[:,2]"
   ]
  },
  {
   "cell_type": "code",
   "execution_count": 60,
   "metadata": {},
   "outputs": [
    {
     "data": {
      "text/plain": [
       "0    0\n",
       "1    0\n",
       "2    0\n",
       "3    0\n",
       "4    0\n",
       "Name: falla, dtype: int64"
      ]
     },
     "execution_count": 60,
     "metadata": {},
     "output_type": "execute_result"
    }
   ],
   "source": [
    "label_train.head()"
   ]
  },
  {
   "cell_type": "code",
   "execution_count": 61,
   "metadata": {},
   "outputs": [
    {
     "data": {
      "text/plain": [
       "0    2000000\n",
       "1    2000000\n",
       "Name: falla, dtype: int64"
      ]
     },
     "execution_count": 61,
     "metadata": {},
     "output_type": "execute_result"
    }
   ],
   "source": [
    "# conteo de observaciones etiquetadas con 1 y 0 en la base train\n",
    "label_train.value_counts(sort=False)"
   ]
  },
  {
   "cell_type": "code",
   "execution_count": 62,
   "metadata": {},
   "outputs": [
    {
     "data": {
      "text/html": [
       "<div>\n",
       "<style scoped>\n",
       "    .dataframe tbody tr th:only-of-type {\n",
       "        vertical-align: middle;\n",
       "    }\n",
       "\n",
       "    .dataframe tbody tr th {\n",
       "        vertical-align: top;\n",
       "    }\n",
       "\n",
       "    .dataframe thead th {\n",
       "        text-align: right;\n",
       "    }\n",
       "</style>\n",
       "<table border=\"1\" class=\"dataframe\">\n",
       "  <thead>\n",
       "    <tr style=\"text-align: right;\">\n",
       "      <th></th>\n",
       "      <th>aceleracion</th>\n",
       "      <th>velocidad</th>\n",
       "    </tr>\n",
       "  </thead>\n",
       "  <tbody>\n",
       "    <tr>\n",
       "      <th>0</th>\n",
       "      <td>-0.002199</td>\n",
       "      <td>4.188767</td>\n",
       "    </tr>\n",
       "    <tr>\n",
       "      <th>1</th>\n",
       "      <td>-0.001871</td>\n",
       "      <td>4.200603</td>\n",
       "    </tr>\n",
       "    <tr>\n",
       "      <th>2</th>\n",
       "      <td>-0.001542</td>\n",
       "      <td>4.208165</td>\n",
       "    </tr>\n",
       "    <tr>\n",
       "      <th>3</th>\n",
       "      <td>-0.001871</td>\n",
       "      <td>4.226576</td>\n",
       "    </tr>\n",
       "    <tr>\n",
       "      <th>4</th>\n",
       "      <td>-0.002199</td>\n",
       "      <td>4.240385</td>\n",
       "    </tr>\n",
       "  </tbody>\n",
       "</table>\n",
       "</div>"
      ],
      "text/plain": [
       "   aceleracion  velocidad\n",
       "0    -0.002199   4.188767\n",
       "1    -0.001871   4.200603\n",
       "2    -0.001542   4.208165\n",
       "3    -0.001871   4.226576\n",
       "4    -0.002199   4.240385"
      ]
     },
     "execution_count": 62,
     "metadata": {},
     "output_type": "execute_result"
    }
   ],
   "source": [
    "data_train.head()"
   ]
  },
  {
   "cell_type": "code",
   "execution_count": 63,
   "metadata": {},
   "outputs": [
    {
     "data": {
      "text/plain": [
       "0    0\n",
       "1    0\n",
       "2    0\n",
       "3    0\n",
       "4    0\n",
       "Name: falla, dtype: int64"
      ]
     },
     "execution_count": 63,
     "metadata": {},
     "output_type": "execute_result"
    }
   ],
   "source": [
    "label_train.head()"
   ]
  },
  {
   "cell_type": "code",
   "execution_count": 64,
   "metadata": {},
   "outputs": [
    {
     "data": {
      "image/png": "[encoded data removed]",
      "text/plain": [
       "<Figure size 432x288 with 1 Axes>"
      ]
     },
     "metadata": {
      "needs_background": "light"
     },
     "output_type": "display_data"
    }
   ],
   "source": [
    "# grafica de clases base de train, estado base equilibrada\n",
    "sns.countplot(label_train, palette=[\"#3498db\", \"#e74c3c\"])\n",
    "plt.title('       Saludable (0)               Falla Pista Interna (1)')\n",
    "plt.xlabel(\"Clases Base de Entrenamiento\")\n",
    "plt.ylabel(\"Numero de observaciones\")\n",
    "plt.savefig('vibraciones entrenamientoapp.png')\n",
    "pyplot.show()"
   ]
  },
  {
   "cell_type": "markdown",
   "metadata": {},
   "source": [
    "## Concatenar las bases test"
   ]
  },
  {
   "cell_type": "code",
   "execution_count": 65,
   "metadata": {},
   "outputs": [
    {
     "data": {
      "text/html": [
       "<div>\n",
       "<style scoped>\n",
       "    .dataframe tbody tr th:only-of-type {\n",
       "        vertical-align: middle;\n",
       "    }\n",
       "\n",
       "    .dataframe tbody tr th {\n",
       "        vertical-align: top;\n",
       "    }\n",
       "\n",
       "    .dataframe thead th {\n",
       "        text-align: right;\n",
       "    }\n",
       "</style>\n",
       "<table border=\"1\" class=\"dataframe\">\n",
       "  <thead>\n",
       "    <tr style=\"text-align: right;\">\n",
       "      <th></th>\n",
       "      <th>id</th>\n",
       "      <th>aceleracion</th>\n",
       "      <th>velocidad</th>\n",
       "      <th>falla</th>\n",
       "    </tr>\n",
       "  </thead>\n",
       "  <tbody>\n",
       "    <tr>\n",
       "      <th>0</th>\n",
       "      <td>1</td>\n",
       "      <td>0.001747</td>\n",
       "      <td>0.036675</td>\n",
       "      <td>0</td>\n",
       "    </tr>\n",
       "    <tr>\n",
       "      <th>1</th>\n",
       "      <td>1</td>\n",
       "      <td>0.000760</td>\n",
       "      <td>0.028127</td>\n",
       "      <td>0</td>\n",
       "    </tr>\n",
       "    <tr>\n",
       "      <th>2</th>\n",
       "      <td>1</td>\n",
       "      <td>-0.004501</td>\n",
       "      <td>0.036346</td>\n",
       "      <td>0</td>\n",
       "    </tr>\n",
       "    <tr>\n",
       "      <th>3</th>\n",
       "      <td>1</td>\n",
       "      <td>0.000102</td>\n",
       "      <td>0.036346</td>\n",
       "      <td>0</td>\n",
       "    </tr>\n",
       "    <tr>\n",
       "      <th>4</th>\n",
       "      <td>1</td>\n",
       "      <td>0.002404</td>\n",
       "      <td>0.036017</td>\n",
       "      <td>0</td>\n",
       "    </tr>\n",
       "  </tbody>\n",
       "</table>\n",
       "</div>"
      ],
      "text/plain": [
       "   id  aceleracion  velocidad  falla\n",
       "0   1     0.001747   0.036675      0\n",
       "1   1     0.000760   0.028127      0\n",
       "2   1    -0.004501   0.036346      0\n",
       "3   1     0.000102   0.036346      0\n",
       "4   1     0.002404   0.036017      0"
      ]
     },
     "execution_count": 65,
     "metadata": {},
     "output_type": "execute_result"
    }
   ],
   "source": [
    "# concatenar\n",
    "test=pd.concat([H3train, I1train], ignore_index=True)\n",
    "test.head()"
   ]
  },
  {
   "cell_type": "code",
   "execution_count": 66,
   "metadata": {},
   "outputs": [
    {
     "data": {
      "text/html": [
       "<div>\n",
       "<style scoped>\n",
       "    .dataframe tbody tr th:only-of-type {\n",
       "        vertical-align: middle;\n",
       "    }\n",
       "\n",
       "    .dataframe tbody tr th {\n",
       "        vertical-align: top;\n",
       "    }\n",
       "\n",
       "    .dataframe thead th {\n",
       "        text-align: right;\n",
       "    }\n",
       "</style>\n",
       "<table border=\"1\" class=\"dataframe\">\n",
       "  <thead>\n",
       "    <tr style=\"text-align: right;\">\n",
       "      <th></th>\n",
       "      <th>id</th>\n",
       "      <th>aceleracion</th>\n",
       "      <th>velocidad</th>\n",
       "      <th>falla</th>\n",
       "    </tr>\n",
       "  </thead>\n",
       "  <tbody>\n",
       "    <tr>\n",
       "      <th>3999995</th>\n",
       "      <td>1</td>\n",
       "      <td>0.408531</td>\n",
       "      <td>0.037332</td>\n",
       "      <td>1</td>\n",
       "    </tr>\n",
       "    <tr>\n",
       "      <th>3999996</th>\n",
       "      <td>1</td>\n",
       "      <td>0.371371</td>\n",
       "      <td>4.076983</td>\n",
       "      <td>1</td>\n",
       "    </tr>\n",
       "    <tr>\n",
       "      <th>3999997</th>\n",
       "      <td>1</td>\n",
       "      <td>0.329278</td>\n",
       "      <td>4.206850</td>\n",
       "      <td>1</td>\n",
       "    </tr>\n",
       "    <tr>\n",
       "      <th>3999998</th>\n",
       "      <td>1</td>\n",
       "      <td>0.265811</td>\n",
       "      <td>4.228878</td>\n",
       "      <td>1</td>\n",
       "    </tr>\n",
       "    <tr>\n",
       "      <th>3999999</th>\n",
       "      <td>1</td>\n",
       "      <td>0.164855</td>\n",
       "      <td>4.292003</td>\n",
       "      <td>1</td>\n",
       "    </tr>\n",
       "  </tbody>\n",
       "</table>\n",
       "</div>"
      ],
      "text/plain": [
       "         id  aceleracion  velocidad  falla\n",
       "3999995   1     0.408531   0.037332      1\n",
       "3999996   1     0.371371   4.076983      1\n",
       "3999997   1     0.329278   4.206850      1\n",
       "3999998   1     0.265811   4.228878      1\n",
       "3999999   1     0.164855   4.292003      1"
      ]
     },
     "execution_count": 66,
     "metadata": {},
     "output_type": "execute_result"
    }
   ],
   "source": [
    "test.tail()"
   ]
  },
  {
   "cell_type": "code",
   "execution_count": 67,
   "metadata": {},
   "outputs": [
    {
     "data": {
      "text/plain": [
       "(4000000, 4)"
      ]
     },
     "execution_count": 67,
     "metadata": {},
     "output_type": "execute_result"
    }
   ],
   "source": [
    "test.shape\n"
   ]
  },
  {
   "cell_type": "markdown",
   "metadata": {},
   "source": [
    "Tamaño de la base 8 millones de observaciones "
   ]
  },
  {
   "cell_type": "code",
   "execution_count": 68,
   "metadata": {},
   "outputs": [
    {
     "data": {
      "text/html": [
       "<div>\n",
       "<style scoped>\n",
       "    .dataframe tbody tr th:only-of-type {\n",
       "        vertical-align: middle;\n",
       "    }\n",
       "\n",
       "    .dataframe tbody tr th {\n",
       "        vertical-align: top;\n",
       "    }\n",
       "\n",
       "    .dataframe thead th {\n",
       "        text-align: right;\n",
       "    }\n",
       "</style>\n",
       "<table border=\"1\" class=\"dataframe\">\n",
       "  <thead>\n",
       "    <tr style=\"text-align: right;\">\n",
       "      <th></th>\n",
       "      <th>aceleracion</th>\n",
       "      <th>velocidad</th>\n",
       "      <th>falla</th>\n",
       "    </tr>\n",
       "  </thead>\n",
       "  <tbody>\n",
       "    <tr>\n",
       "      <th>0</th>\n",
       "      <td>0.001747</td>\n",
       "      <td>0.036675</td>\n",
       "      <td>0</td>\n",
       "    </tr>\n",
       "    <tr>\n",
       "      <th>1</th>\n",
       "      <td>0.000760</td>\n",
       "      <td>0.028127</td>\n",
       "      <td>0</td>\n",
       "    </tr>\n",
       "    <tr>\n",
       "      <th>2</th>\n",
       "      <td>-0.004501</td>\n",
       "      <td>0.036346</td>\n",
       "      <td>0</td>\n",
       "    </tr>\n",
       "    <tr>\n",
       "      <th>3</th>\n",
       "      <td>0.000102</td>\n",
       "      <td>0.036346</td>\n",
       "      <td>0</td>\n",
       "    </tr>\n",
       "    <tr>\n",
       "      <th>4</th>\n",
       "      <td>0.002404</td>\n",
       "      <td>0.036017</td>\n",
       "      <td>0</td>\n",
       "    </tr>\n",
       "  </tbody>\n",
       "</table>\n",
       "</div>"
      ],
      "text/plain": [
       "   aceleracion  velocidad  falla\n",
       "0     0.001747   0.036675      0\n",
       "1     0.000760   0.028127      0\n",
       "2    -0.004501   0.036346      0\n",
       "3     0.000102   0.036346      0\n",
       "4     0.002404   0.036017      0"
      ]
     },
     "execution_count": 68,
     "metadata": {},
     "output_type": "execute_result"
    }
   ],
   "source": [
    "# borrar la columna id\n",
    "\n",
    "test.drop('id', axis=1, inplace=True)\n",
    "test.head()"
   ]
  },
  {
   "cell_type": "code",
   "execution_count": 69,
   "metadata": {},
   "outputs": [],
   "source": [
    "# separar datos de etiquetas\n",
    "\n",
    "data_test=test.iloc[:,np.r_[0:2]]\n",
    "label_test=test.iloc[:,2]"
   ]
  },
  {
   "cell_type": "code",
   "execution_count": 70,
   "metadata": {},
   "outputs": [
    {
     "data": {
      "text/plain": [
       "0    0\n",
       "1    0\n",
       "2    0\n",
       "3    0\n",
       "4    0\n",
       "Name: falla, dtype: int64"
      ]
     },
     "execution_count": 70,
     "metadata": {},
     "output_type": "execute_result"
    }
   ],
   "source": [
    "label_test.head()"
   ]
  },
  {
   "cell_type": "code",
   "execution_count": 71,
   "metadata": {},
   "outputs": [
    {
     "data": {
      "text/plain": [
       "0    2000000\n",
       "1    2000000\n",
       "Name: falla, dtype: int64"
      ]
     },
     "execution_count": 71,
     "metadata": {},
     "output_type": "execute_result"
    }
   ],
   "source": [
    "# conteo de observaciones etiquetadas con 1 y 0 en la base train\n",
    "label_test.value_counts(sort=False)"
   ]
  },
  {
   "cell_type": "code",
   "execution_count": 72,
   "metadata": {},
   "outputs": [
    {
     "data": {
      "text/html": [
       "<div>\n",
       "<style scoped>\n",
       "    .dataframe tbody tr th:only-of-type {\n",
       "        vertical-align: middle;\n",
       "    }\n",
       "\n",
       "    .dataframe tbody tr th {\n",
       "        vertical-align: top;\n",
       "    }\n",
       "\n",
       "    .dataframe thead th {\n",
       "        text-align: right;\n",
       "    }\n",
       "</style>\n",
       "<table border=\"1\" class=\"dataframe\">\n",
       "  <thead>\n",
       "    <tr style=\"text-align: right;\">\n",
       "      <th></th>\n",
       "      <th>aceleracion</th>\n",
       "      <th>velocidad</th>\n",
       "    </tr>\n",
       "  </thead>\n",
       "  <tbody>\n",
       "    <tr>\n",
       "      <th>0</th>\n",
       "      <td>0.001747</td>\n",
       "      <td>0.036675</td>\n",
       "    </tr>\n",
       "    <tr>\n",
       "      <th>1</th>\n",
       "      <td>0.000760</td>\n",
       "      <td>0.028127</td>\n",
       "    </tr>\n",
       "    <tr>\n",
       "      <th>2</th>\n",
       "      <td>-0.004501</td>\n",
       "      <td>0.036346</td>\n",
       "    </tr>\n",
       "    <tr>\n",
       "      <th>3</th>\n",
       "      <td>0.000102</td>\n",
       "      <td>0.036346</td>\n",
       "    </tr>\n",
       "    <tr>\n",
       "      <th>4</th>\n",
       "      <td>0.002404</td>\n",
       "      <td>0.036017</td>\n",
       "    </tr>\n",
       "  </tbody>\n",
       "</table>\n",
       "</div>"
      ],
      "text/plain": [
       "   aceleracion  velocidad\n",
       "0     0.001747   0.036675\n",
       "1     0.000760   0.028127\n",
       "2    -0.004501   0.036346\n",
       "3     0.000102   0.036346\n",
       "4     0.002404   0.036017"
      ]
     },
     "execution_count": 72,
     "metadata": {},
     "output_type": "execute_result"
    }
   ],
   "source": [
    "data_test.head()"
   ]
  },
  {
   "cell_type": "code",
   "execution_count": 73,
   "metadata": {},
   "outputs": [
    {
     "data": {
      "text/plain": [
       "0    0\n",
       "1    0\n",
       "2    0\n",
       "3    0\n",
       "4    0\n",
       "Name: falla, dtype: int64"
      ]
     },
     "execution_count": 73,
     "metadata": {},
     "output_type": "execute_result"
    }
   ],
   "source": [
    "label_test.head()"
   ]
  },
  {
   "cell_type": "code",
   "execution_count": 74,
   "metadata": {},
   "outputs": [
    {
     "data": {
      "image/png": "[encoded data removed]",
      "text/plain": [
       "<Figure size 432x288 with 1 Axes>"
      ]
     },
     "metadata": {
      "needs_background": "light"
     },
     "output_type": "display_data"
    }
   ],
   "source": [
    "# grafica de clases base de train, estado base equilibrada\n",
    "sns.countplot(label_test, palette=[\"#3498db\", \"#e74c3c\"])\n",
    "plt.title('       Saludable (0)               Falla Pista Interna (1)')\n",
    "plt.xlabel(\"Clases Base de Entrenamiento\")\n",
    "plt.ylabel(\"Numero de observaciones\")\n",
    "plt.savefig('vibraciones entrenamientoapp.png')\n",
    "pyplot.show()"
   ]
  },
  {
   "cell_type": "markdown",
   "metadata": {},
   "source": [
    "# Ajuste avanzado modelo de clasificacion binaria XGBoost\n",
    "\n",
    "Codigos Tomados del libro XGBoost With Python, Jason Brownlee, 2020."
   ]
  },
  {
   "cell_type": "markdown",
   "metadata": {},
   "source": [
    "## XGBoost Model hiperparametros por defecto"
   ]
  },
  {
   "cell_type": "code",
   "execution_count": 65,
   "metadata": {},
   "outputs": [
    {
     "data": {
      "text/plain": [
       "XGBClassifier(base_score=0.5, booster='gbtree', colsample_bylevel=1,\n",
       "              colsample_bynode=1, colsample_bytree=1, gamma=0, gpu_id=-1,\n",
       "              importance_type='gain', interaction_constraints='',\n",
       "              learning_rate=0.300000012, max_delta_step=0, max_depth=6,\n",
       "              min_child_weight=1, missing=nan, monotone_constraints='()',\n",
       "              n_estimators=100, n_jobs=0, num_parallel_tree=1,\n",
       "              objective='binary:logistic', random_state=0, reg_alpha=0,\n",
       "              reg_lambda=1, scale_pos_weight=1, subsample=1,\n",
       "              tree_method='exact', validate_parameters=1, verbosity=None)"
      ]
     },
     "execution_count": 65,
     "metadata": {},
     "output_type": "execute_result"
    }
   ],
   "source": [
    "model = XGBClassifier()\n",
    "model.fit(data_train, label_train)"
   ]
  },
  {
   "cell_type": "code",
   "execution_count": 77,
   "metadata": {},
   "outputs": [
    {
     "name": "stdout",
     "output_type": "stream",
     "text": [
      "\n",
      "\n",
      "MATRIZ DE CONFUSION\n",
      "\n",
      "\n"
     ]
    },
    {
     "data": {
      "image/png": "[encoded data removed]",
      "text/plain": [
       "<Figure size 432x288 with 1 Axes>"
      ]
     },
     "metadata": {
      "needs_background": "light"
     },
     "output_type": "display_data"
    },
    {
     "name": "stdout",
     "output_type": "stream",
     "text": [
      "\n",
      "\n",
      "MEDIDAS DE DESEMPEÑO DEL MODELO\n",
      "\n",
      "\n",
      "Exactitud - Accuracy: 0.924533\n",
      "ROC AUC: 0.9245329999999999\n",
      "------------------------------------------------------------\n",
      "Precisión por clase: [0.99875644 0.86953927]\n",
      "Sensibilidad - Recall por clase: [0.8501245 0.9989415]\n",
      "F1 por clase: [0.91846619 0.92975949]\n",
      "------------------------------------------------------------\n",
      "F1 Macro: 0.9241128412694883\n",
      "F1 Micro: 0.924533\n",
      "F1 Weighted: 0.9241128412694883\n",
      "------------------------------------------------------------\n",
      "Sensibilidad - Recall Macro: 0.924533\n",
      "Sensibilidad - Recall Micro: 0.924533\n",
      "Sensibilidad - Recall Weighted: 0.924533\n",
      "------------------------------------------------------------\n",
      "Precisión Macro: 0.9341478552545452\n",
      "Precisión Micro: 0.924533\n",
      "Precisión Weighted: 0.9341478552545452\n",
      "------------------------------------------------------------\n",
      "Verdaderos positivos - True Positives: 1997883\n",
      "Verdaderos negativos - True Negatives: 1700249\n",
      "Falsos positivos - False Positives: 299751\n",
      "Falsos negativos - False Negatives: 2117\n",
      "------------------------------------------------------------\n",
      "Error de clasificacion: 0.075\n",
      "Especificidad - Specificity: 0.999\n",
      "Tasa de falsos positivos FPR: 0.001\n",
      "------------------------------------------------------------\n",
      "              precision    recall  f1-score   support\n",
      "\n",
      "           0       1.00      0.85      0.92   2000000\n",
      "           1       0.87      1.00      0.93   2000000\n",
      "\n",
      "    accuracy                           0.92   4000000\n",
      "   macro avg       0.93      0.92      0.92   4000000\n",
      "weighted avg       0.93      0.92      0.92   4000000\n",
      "\n",
      "\n",
      "\n",
      "CURVA ROC\n"
     ]
    },
    {
     "data": {
      "image/png": "[encoded data removed]",
      "text/plain": [
       "<Figure size 360x360 with 1 Axes>"
      ]
     },
     "metadata": {},
     "output_type": "display_data"
    }
   ],
   "source": [
    "# prediccion con el modelo\n",
    "label_preda = model.predict(data_test)\n",
    "model_evaluation(data_train, label_train, data_test, label_test, model, label_preda)"
   ]
  },
  {
   "cell_type": "markdown",
   "metadata": {},
   "source": [
    "### Evaluar modelo con k-Fold Cross-Validation"
   ]
  },
  {
   "cell_type": "code",
   "execution_count": 79,
   "metadata": {},
   "outputs": [
    {
     "name": "stdout",
     "output_type": "stream",
     "text": [
      "F1 score: 0.501 (0.156)\n"
     ]
    }
   ],
   "source": [
    "model = XGBClassifier()\n",
    "# numero de pliegues\n",
    "kfold = KFold(n_splits=3)\n",
    "n_scores = cross_val_score(model, data_train, label_train, scoring='f1_macro', cv=kfold, n_jobs=-1, error_score='raise')\n",
    "# report performance\n",
    "print('F1 score: %.3f (%.3f)' % (mean(n_scores), std(n_scores)))\n"
   ]
  },
  {
   "cell_type": "code",
   "execution_count": 80,
   "metadata": {},
   "outputs": [
    {
     "name": "stdout",
     "output_type": "stream",
     "text": [
      "Accuracy: 66.97% (5.40%)\n"
     ]
    }
   ],
   "source": [
    "# evaluar exactitud\n",
    "model = XGBClassifier()\n",
    "kfold = KFold(n_splits=3)\n",
    "results = cross_val_score(model, data_train, label_train, cv=kfold)\n",
    "print(\"Accuracy: %.2f%% (%.2f%%)\" % (results.mean()*100, results.std()*100))"
   ]
  },
  {
   "cell_type": "markdown",
   "metadata": {},
   "source": [
    "### Gradient Boosting With XGBoost Stratified k-fold cross-validation"
   ]
  },
  {
   "cell_type": "code",
   "execution_count": 81,
   "metadata": {},
   "outputs": [
    {
     "name": "stdout",
     "output_type": "stream",
     "text": [
      "F1 score: 0.815 (0.000)\n"
     ]
    }
   ],
   "source": [
    "model = XGBClassifier()\n",
    "\n",
    "cv = RepeatedStratifiedKFold(n_splits=3, n_repeats=3, random_state=1)\n",
    "n_scores = cross_val_score(model, data_train, label_train, scoring='f1_macro', cv=cv, n_jobs=-1, error_score='raise')\n",
    "# report performance\n",
    "print('F1 score: %.3f (%.3f)' % (mean(n_scores), std(n_scores)))"
   ]
  },
  {
   "cell_type": "markdown",
   "metadata": {},
   "source": [
    "### Feature Importance"
   ]
  },
  {
   "cell_type": "code",
   "execution_count": 86,
   "metadata": {},
   "outputs": [
    {
     "data": {
      "text/plain": [
       "XGBClassifier(base_score=0.5, booster='gbtree', colsample_bylevel=1,\n",
       "              colsample_bynode=1, colsample_bytree=1, gamma=0, gpu_id=-1,\n",
       "              importance_type='gain', interaction_constraints='',\n",
       "              learning_rate=0.300000012, max_delta_step=0, max_depth=6,\n",
       "              min_child_weight=1, missing=nan, monotone_constraints='()',\n",
       "              n_estimators=100, n_jobs=0, num_parallel_tree=1,\n",
       "              objective='binary:logistic', random_state=0, reg_alpha=0,\n",
       "              reg_lambda=1, scale_pos_weight=1, subsample=1,\n",
       "              tree_method='exact', validate_parameters=1, verbosity=None)"
      ]
     },
     "execution_count": 86,
     "metadata": {},
     "output_type": "execute_result"
    }
   ],
   "source": [
    "model = XGBClassifier()\n",
    "model.fit(data_train, label_train)"
   ]
  },
  {
   "cell_type": "code",
   "execution_count": 91,
   "metadata": {},
   "outputs": [
    {
     "name": "stdout",
     "output_type": "stream",
     "text": [
      "[0.8284269  0.17157316]\n"
     ]
    },
    {
     "data": {
      "image/png": "[encoded data removed]",
      "text/plain": [
       "<Figure size 432x288 with 1 Axes>"
      ]
     },
     "metadata": {
      "needs_background": "light"
     },
     "output_type": "display_data"
    }
   ],
   "source": [
    "# feature importance\n",
    "print(model.feature_importances_)\n",
    "# plot\n",
    "pyplot.bar(range(len(model.feature_importances_)), model.feature_importances_)\n",
    "pyplot.show()"
   ]
  },
  {
   "cell_type": "markdown",
   "metadata": {},
   "source": [
    "### monitor training performance"
   ]
  },
  {
   "cell_type": "code",
   "execution_count": 97,
   "metadata": {},
   "outputs": [
    {
     "name": "stdout",
     "output_type": "stream",
     "text": [
      "[0]\tvalidation_0-error:0.06991\n",
      "[1]\tvalidation_0-error:0.07443\n",
      "[2]\tvalidation_0-error:0.07453\n",
      "[3]\tvalidation_0-error:0.06885\n",
      "[4]\tvalidation_0-error:0.07144\n",
      "[5]\tvalidation_0-error:0.07183\n",
      "[6]\tvalidation_0-error:0.07281\n",
      "[7]\tvalidation_0-error:0.07133\n",
      "[8]\tvalidation_0-error:0.07475\n",
      "[9]\tvalidation_0-error:0.07451\n",
      "[10]\tvalidation_0-error:0.07442\n",
      "[11]\tvalidation_0-error:0.07459\n",
      "[12]\tvalidation_0-error:0.07495\n",
      "[13]\tvalidation_0-error:0.07471\n",
      "[14]\tvalidation_0-error:0.07502\n",
      "[15]\tvalidation_0-error:0.07450\n",
      "[16]\tvalidation_0-error:0.07491\n",
      "[17]\tvalidation_0-error:0.07490\n",
      "[18]\tvalidation_0-error:0.07492\n",
      "[19]\tvalidation_0-error:0.07498\n",
      "[20]\tvalidation_0-error:0.07571\n",
      "[21]\tvalidation_0-error:0.07572\n",
      "[22]\tvalidation_0-error:0.07559\n",
      "[23]\tvalidation_0-error:0.07557\n",
      "[24]\tvalidation_0-error:0.07561\n",
      "[25]\tvalidation_0-error:0.07574\n",
      "[26]\tvalidation_0-error:0.07565\n",
      "[27]\tvalidation_0-error:0.07540\n",
      "[28]\tvalidation_0-error:0.07544\n",
      "[29]\tvalidation_0-error:0.07549\n",
      "[30]\tvalidation_0-error:0.07545\n",
      "[31]\tvalidation_0-error:0.07544\n",
      "[32]\tvalidation_0-error:0.07552\n",
      "[33]\tvalidation_0-error:0.07579\n",
      "[34]\tvalidation_0-error:0.07563\n",
      "[35]\tvalidation_0-error:0.07563\n",
      "[36]\tvalidation_0-error:0.07565\n",
      "[37]\tvalidation_0-error:0.07566\n",
      "[38]\tvalidation_0-error:0.07568\n",
      "[39]\tvalidation_0-error:0.07560\n",
      "[40]\tvalidation_0-error:0.07560\n",
      "[41]\tvalidation_0-error:0.07555\n",
      "[42]\tvalidation_0-error:0.07546\n",
      "[43]\tvalidation_0-error:0.07546\n",
      "[44]\tvalidation_0-error:0.07546\n",
      "[45]\tvalidation_0-error:0.07542\n",
      "[46]\tvalidation_0-error:0.07542\n",
      "[47]\tvalidation_0-error:0.07551\n",
      "[48]\tvalidation_0-error:0.07558\n",
      "[49]\tvalidation_0-error:0.07557\n",
      "[50]\tvalidation_0-error:0.07555\n",
      "[51]\tvalidation_0-error:0.07555\n",
      "[52]\tvalidation_0-error:0.07555\n",
      "[53]\tvalidation_0-error:0.07556\n",
      "[54]\tvalidation_0-error:0.07551\n",
      "[55]\tvalidation_0-error:0.07551\n",
      "[56]\tvalidation_0-error:0.07552\n",
      "[57]\tvalidation_0-error:0.07555\n",
      "[58]\tvalidation_0-error:0.07554\n",
      "[59]\tvalidation_0-error:0.07538\n",
      "[60]\tvalidation_0-error:0.07538\n",
      "[61]\tvalidation_0-error:0.07535\n",
      "[62]\tvalidation_0-error:0.07535\n",
      "[63]\tvalidation_0-error:0.07537\n",
      "[64]\tvalidation_0-error:0.07535\n",
      "[65]\tvalidation_0-error:0.07538\n",
      "[66]\tvalidation_0-error:0.07538\n",
      "[67]\tvalidation_0-error:0.07538\n",
      "[68]\tvalidation_0-error:0.07539\n",
      "[69]\tvalidation_0-error:0.07547\n",
      "[70]\tvalidation_0-error:0.07547\n",
      "[71]\tvalidation_0-error:0.07553\n",
      "[72]\tvalidation_0-error:0.07554\n",
      "[73]\tvalidation_0-error:0.07554\n",
      "[74]\tvalidation_0-error:0.07554\n",
      "[75]\tvalidation_0-error:0.07554\n",
      "[76]\tvalidation_0-error:0.07552\n",
      "[77]\tvalidation_0-error:0.07553\n",
      "[78]\tvalidation_0-error:0.07553\n",
      "[79]\tvalidation_0-error:0.07552\n",
      "[80]\tvalidation_0-error:0.07552\n",
      "[81]\tvalidation_0-error:0.07552\n",
      "[82]\tvalidation_0-error:0.07550\n",
      "[83]\tvalidation_0-error:0.07550\n",
      "[84]\tvalidation_0-error:0.07552\n",
      "[85]\tvalidation_0-error:0.07551\n",
      "[86]\tvalidation_0-error:0.07554\n",
      "[87]\tvalidation_0-error:0.07553\n",
      "[88]\tvalidation_0-error:0.07550\n",
      "[89]\tvalidation_0-error:0.07548\n",
      "[90]\tvalidation_0-error:0.07548\n",
      "[91]\tvalidation_0-error:0.07548\n",
      "[92]\tvalidation_0-error:0.07555\n",
      "[93]\tvalidation_0-error:0.07548\n",
      "[94]\tvalidation_0-error:0.07548\n",
      "[95]\tvalidation_0-error:0.07548\n",
      "[96]\tvalidation_0-error:0.07548\n",
      "[97]\tvalidation_0-error:0.07548\n",
      "[98]\tvalidation_0-error:0.07545\n",
      "[99]\tvalidation_0-error:0.07547\n",
      "Accuracy: 92.45%\n",
      "F1_score macro: 92.41%\n"
     ]
    }
   ],
   "source": [
    "model = XGBClassifier()\n",
    "eval_set = [(data_test, label_test)]\n",
    "model.fit(data_train, label_train, eval_metric=\"error\", eval_set=eval_set, verbose=True)\n",
    "# make predictions for test data\n",
    "predictions = model.predict(data_test)\n",
    "# evaluate predictions\n",
    "accuracy = accuracy_score(label_test, predictions)\n",
    "print(\"Accuracy: %.2f%%\" % (accuracy * 100.0))\n",
    "f1=metrics.f1_score(label_test, predictions, average='macro')\n",
    "print(\"F1_score macro: %.2f%%\" % (f1 * 100.0))"
   ]
  },
  {
   "cell_type": "markdown",
   "metadata": {},
   "source": [
    "### plot learning curve"
   ]
  },
  {
   "cell_type": "code",
   "execution_count": 99,
   "metadata": {},
   "outputs": [
    {
     "name": "stdout",
     "output_type": "stream",
     "text": [
      "[0]\tvalidation_0-error:0.19040\tvalidation_0-logloss:0.57459\tvalidation_1-error:0.06991\tvalidation_1-logloss:0.50864\n",
      "[1]\tvalidation_0-error:0.18926\tvalidation_0-logloss:0.50905\tvalidation_1-error:0.07443\tvalidation_1-logloss:0.40496\n",
      "[2]\tvalidation_0-error:0.18880\tvalidation_0-logloss:0.47089\tvalidation_1-error:0.07453\tvalidation_1-logloss:0.34051\n",
      "[3]\tvalidation_0-error:0.18730\tvalidation_0-logloss:0.44616\tvalidation_1-error:0.06885\tvalidation_1-logloss:0.29777\n",
      "[4]\tvalidation_0-error:0.18692\tvalidation_0-logloss:0.43083\tvalidation_1-error:0.07144\tvalidation_1-logloss:0.26903\n",
      "[5]\tvalidation_0-error:0.18646\tvalidation_0-logloss:0.41957\tvalidation_1-error:0.07183\tvalidation_1-logloss:0.24821\n",
      "[6]\tvalidation_0-error:0.18642\tvalidation_0-logloss:0.41236\tvalidation_1-error:0.07281\tvalidation_1-logloss:0.23475\n",
      "[7]\tvalidation_0-error:0.18581\tvalidation_0-logloss:0.40772\tvalidation_1-error:0.07133\tvalidation_1-logloss:0.22518\n",
      "[8]\tvalidation_0-error:0.18560\tvalidation_0-logloss:0.40455\tvalidation_1-error:0.07475\tvalidation_1-logloss:0.21865\n",
      "[9]\tvalidation_0-error:0.18563\tvalidation_0-logloss:0.40204\tvalidation_1-error:0.07451\tvalidation_1-logloss:0.21373\n",
      "[10]\tvalidation_0-error:0.18552\tvalidation_0-logloss:0.40015\tvalidation_1-error:0.07442\tvalidation_1-logloss:0.21016\n",
      "[11]\tvalidation_0-error:0.18546\tvalidation_0-logloss:0.39910\tvalidation_1-error:0.07459\tvalidation_1-logloss:0.20775\n",
      "[12]\tvalidation_0-error:0.18541\tvalidation_0-logloss:0.39843\tvalidation_1-error:0.07495\tvalidation_1-logloss:0.20659\n",
      "[13]\tvalidation_0-error:0.18540\tvalidation_0-logloss:0.39774\tvalidation_1-error:0.07471\tvalidation_1-logloss:0.20485\n",
      "[14]\tvalidation_0-error:0.18536\tvalidation_0-logloss:0.39719\tvalidation_1-error:0.07502\tvalidation_1-logloss:0.20415\n",
      "[15]\tvalidation_0-error:0.18532\tvalidation_0-logloss:0.39667\tvalidation_1-error:0.07450\tvalidation_1-logloss:0.20371\n",
      "[16]\tvalidation_0-error:0.18533\tvalidation_0-logloss:0.39643\tvalidation_1-error:0.07491\tvalidation_1-logloss:0.20339\n",
      "[17]\tvalidation_0-error:0.18522\tvalidation_0-logloss:0.39624\tvalidation_1-error:0.07490\tvalidation_1-logloss:0.20302\n",
      "[18]\tvalidation_0-error:0.18522\tvalidation_0-logloss:0.39599\tvalidation_1-error:0.07492\tvalidation_1-logloss:0.20285\n",
      "[19]\tvalidation_0-error:0.18516\tvalidation_0-logloss:0.39590\tvalidation_1-error:0.07498\tvalidation_1-logloss:0.20270\n",
      "[20]\tvalidation_0-error:0.18515\tvalidation_0-logloss:0.39574\tvalidation_1-error:0.07571\tvalidation_1-logloss:0.20268\n",
      "[21]\tvalidation_0-error:0.18502\tvalidation_0-logloss:0.39552\tvalidation_1-error:0.07572\tvalidation_1-logloss:0.20245\n",
      "[22]\tvalidation_0-error:0.18494\tvalidation_0-logloss:0.39534\tvalidation_1-error:0.07559\tvalidation_1-logloss:0.20230\n",
      "[23]\tvalidation_0-error:0.18485\tvalidation_0-logloss:0.39516\tvalidation_1-error:0.07557\tvalidation_1-logloss:0.20228\n",
      "[24]\tvalidation_0-error:0.18485\tvalidation_0-logloss:0.39514\tvalidation_1-error:0.07561\tvalidation_1-logloss:0.20239\n",
      "[25]\tvalidation_0-error:0.18476\tvalidation_0-logloss:0.39509\tvalidation_1-error:0.07574\tvalidation_1-logloss:0.20242\n",
      "[26]\tvalidation_0-error:0.18475\tvalidation_0-logloss:0.39506\tvalidation_1-error:0.07565\tvalidation_1-logloss:0.20242\n",
      "[27]\tvalidation_0-error:0.18469\tvalidation_0-logloss:0.39496\tvalidation_1-error:0.07540\tvalidation_1-logloss:0.20242\n",
      "[28]\tvalidation_0-error:0.18468\tvalidation_0-logloss:0.39491\tvalidation_1-error:0.07544\tvalidation_1-logloss:0.20240\n",
      "[29]\tvalidation_0-error:0.18463\tvalidation_0-logloss:0.39484\tvalidation_1-error:0.07549\tvalidation_1-logloss:0.20241\n",
      "[30]\tvalidation_0-error:0.18457\tvalidation_0-logloss:0.39471\tvalidation_1-error:0.07545\tvalidation_1-logloss:0.20236\n",
      "[31]\tvalidation_0-error:0.18457\tvalidation_0-logloss:0.39468\tvalidation_1-error:0.07544\tvalidation_1-logloss:0.20244\n",
      "[32]\tvalidation_0-error:0.18458\tvalidation_0-logloss:0.39465\tvalidation_1-error:0.07552\tvalidation_1-logloss:0.20248\n",
      "[33]\tvalidation_0-error:0.18451\tvalidation_0-logloss:0.39461\tvalidation_1-error:0.07579\tvalidation_1-logloss:0.20252\n",
      "[34]\tvalidation_0-error:0.18449\tvalidation_0-logloss:0.39455\tvalidation_1-error:0.07563\tvalidation_1-logloss:0.20256\n",
      "[35]\tvalidation_0-error:0.18449\tvalidation_0-logloss:0.39453\tvalidation_1-error:0.07563\tvalidation_1-logloss:0.20258\n",
      "[36]\tvalidation_0-error:0.18449\tvalidation_0-logloss:0.39450\tvalidation_1-error:0.07565\tvalidation_1-logloss:0.20259\n",
      "[37]\tvalidation_0-error:0.18448\tvalidation_0-logloss:0.39447\tvalidation_1-error:0.07566\tvalidation_1-logloss:0.20256\n",
      "[38]\tvalidation_0-error:0.18448\tvalidation_0-logloss:0.39444\tvalidation_1-error:0.07568\tvalidation_1-logloss:0.20256\n",
      "[39]\tvalidation_0-error:0.18448\tvalidation_0-logloss:0.39440\tvalidation_1-error:0.07560\tvalidation_1-logloss:0.20259\n",
      "[40]\tvalidation_0-error:0.18448\tvalidation_0-logloss:0.39439\tvalidation_1-error:0.07560\tvalidation_1-logloss:0.20260\n",
      "[41]\tvalidation_0-error:0.18446\tvalidation_0-logloss:0.39437\tvalidation_1-error:0.07555\tvalidation_1-logloss:0.20257\n",
      "[42]\tvalidation_0-error:0.18446\tvalidation_0-logloss:0.39436\tvalidation_1-error:0.07546\tvalidation_1-logloss:0.20260\n",
      "[43]\tvalidation_0-error:0.18446\tvalidation_0-logloss:0.39435\tvalidation_1-error:0.07546\tvalidation_1-logloss:0.20261\n",
      "[44]\tvalidation_0-error:0.18446\tvalidation_0-logloss:0.39435\tvalidation_1-error:0.07546\tvalidation_1-logloss:0.20261\n",
      "[45]\tvalidation_0-error:0.18445\tvalidation_0-logloss:0.39434\tvalidation_1-error:0.07542\tvalidation_1-logloss:0.20260\n",
      "[46]\tvalidation_0-error:0.18445\tvalidation_0-logloss:0.39433\tvalidation_1-error:0.07542\tvalidation_1-logloss:0.20264\n",
      "[47]\tvalidation_0-error:0.18441\tvalidation_0-logloss:0.39427\tvalidation_1-error:0.07551\tvalidation_1-logloss:0.20264\n",
      "[48]\tvalidation_0-error:0.18441\tvalidation_0-logloss:0.39427\tvalidation_1-error:0.07558\tvalidation_1-logloss:0.20268\n",
      "[49]\tvalidation_0-error:0.18441\tvalidation_0-logloss:0.39425\tvalidation_1-error:0.07557\tvalidation_1-logloss:0.20269\n",
      "[50]\tvalidation_0-error:0.18440\tvalidation_0-logloss:0.39422\tvalidation_1-error:0.07555\tvalidation_1-logloss:0.20268\n",
      "[51]\tvalidation_0-error:0.18440\tvalidation_0-logloss:0.39422\tvalidation_1-error:0.07555\tvalidation_1-logloss:0.20268\n",
      "[52]\tvalidation_0-error:0.18439\tvalidation_0-logloss:0.39419\tvalidation_1-error:0.07555\tvalidation_1-logloss:0.20268\n",
      "[53]\tvalidation_0-error:0.18437\tvalidation_0-logloss:0.39415\tvalidation_1-error:0.07556\tvalidation_1-logloss:0.20269\n",
      "[54]\tvalidation_0-error:0.18437\tvalidation_0-logloss:0.39411\tvalidation_1-error:0.07551\tvalidation_1-logloss:0.20267\n",
      "[55]\tvalidation_0-error:0.18436\tvalidation_0-logloss:0.39410\tvalidation_1-error:0.07551\tvalidation_1-logloss:0.20268\n",
      "[56]\tvalidation_0-error:0.18436\tvalidation_0-logloss:0.39410\tvalidation_1-error:0.07552\tvalidation_1-logloss:0.20268\n",
      "[57]\tvalidation_0-error:0.18436\tvalidation_0-logloss:0.39410\tvalidation_1-error:0.07555\tvalidation_1-logloss:0.20269\n",
      "[58]\tvalidation_0-error:0.18436\tvalidation_0-logloss:0.39409\tvalidation_1-error:0.07554\tvalidation_1-logloss:0.20269\n",
      "[59]\tvalidation_0-error:0.18436\tvalidation_0-logloss:0.39407\tvalidation_1-error:0.07538\tvalidation_1-logloss:0.20268\n",
      "[60]\tvalidation_0-error:0.18436\tvalidation_0-logloss:0.39406\tvalidation_1-error:0.07538\tvalidation_1-logloss:0.20267\n",
      "[61]\tvalidation_0-error:0.18436\tvalidation_0-logloss:0.39405\tvalidation_1-error:0.07535\tvalidation_1-logloss:0.20266\n",
      "[62]\tvalidation_0-error:0.18436\tvalidation_0-logloss:0.39404\tvalidation_1-error:0.07535\tvalidation_1-logloss:0.20266\n",
      "[63]\tvalidation_0-error:0.18436\tvalidation_0-logloss:0.39403\tvalidation_1-error:0.07537\tvalidation_1-logloss:0.20267\n",
      "[64]\tvalidation_0-error:0.18436\tvalidation_0-logloss:0.39402\tvalidation_1-error:0.07535\tvalidation_1-logloss:0.20268\n",
      "[65]\tvalidation_0-error:0.18435\tvalidation_0-logloss:0.39402\tvalidation_1-error:0.07538\tvalidation_1-logloss:0.20268\n",
      "[66]\tvalidation_0-error:0.18435\tvalidation_0-logloss:0.39401\tvalidation_1-error:0.07538\tvalidation_1-logloss:0.20268\n",
      "[67]\tvalidation_0-error:0.18435\tvalidation_0-logloss:0.39401\tvalidation_1-error:0.07538\tvalidation_1-logloss:0.20269\n",
      "[68]\tvalidation_0-error:0.18435\tvalidation_0-logloss:0.39401\tvalidation_1-error:0.07539\tvalidation_1-logloss:0.20268\n",
      "[69]\tvalidation_0-error:0.18435\tvalidation_0-logloss:0.39400\tvalidation_1-error:0.07547\tvalidation_1-logloss:0.20271\n",
      "[70]\tvalidation_0-error:0.18435\tvalidation_0-logloss:0.39399\tvalidation_1-error:0.07547\tvalidation_1-logloss:0.20271\n",
      "[71]\tvalidation_0-error:0.18435\tvalidation_0-logloss:0.39397\tvalidation_1-error:0.07553\tvalidation_1-logloss:0.20271\n",
      "[72]\tvalidation_0-error:0.18435\tvalidation_0-logloss:0.39397\tvalidation_1-error:0.07554\tvalidation_1-logloss:0.20272\n",
      "[73]\tvalidation_0-error:0.18435\tvalidation_0-logloss:0.39397\tvalidation_1-error:0.07554\tvalidation_1-logloss:0.20273\n",
      "[74]\tvalidation_0-error:0.18435\tvalidation_0-logloss:0.39397\tvalidation_1-error:0.07554\tvalidation_1-logloss:0.20273\n",
      "[75]\tvalidation_0-error:0.18435\tvalidation_0-logloss:0.39396\tvalidation_1-error:0.07554\tvalidation_1-logloss:0.20273\n",
      "[76]\tvalidation_0-error:0.18435\tvalidation_0-logloss:0.39395\tvalidation_1-error:0.07552\tvalidation_1-logloss:0.20274\n",
      "[77]\tvalidation_0-error:0.18434\tvalidation_0-logloss:0.39395\tvalidation_1-error:0.07553\tvalidation_1-logloss:0.20274\n",
      "[78]\tvalidation_0-error:0.18434\tvalidation_0-logloss:0.39395\tvalidation_1-error:0.07553\tvalidation_1-logloss:0.20274\n",
      "[79]\tvalidation_0-error:0.18434\tvalidation_0-logloss:0.39394\tvalidation_1-error:0.07552\tvalidation_1-logloss:0.20274\n",
      "[80]\tvalidation_0-error:0.18433\tvalidation_0-logloss:0.39393\tvalidation_1-error:0.07552\tvalidation_1-logloss:0.20274\n",
      "[81]\tvalidation_0-error:0.18433\tvalidation_0-logloss:0.39393\tvalidation_1-error:0.07552\tvalidation_1-logloss:0.20274\n",
      "[82]\tvalidation_0-error:0.18433\tvalidation_0-logloss:0.39392\tvalidation_1-error:0.07550\tvalidation_1-logloss:0.20274\n",
      "[83]\tvalidation_0-error:0.18433\tvalidation_0-logloss:0.39392\tvalidation_1-error:0.07550\tvalidation_1-logloss:0.20274\n",
      "[84]\tvalidation_0-error:0.18433\tvalidation_0-logloss:0.39390\tvalidation_1-error:0.07552\tvalidation_1-logloss:0.20274\n",
      "[85]\tvalidation_0-error:0.18432\tvalidation_0-logloss:0.39389\tvalidation_1-error:0.07551\tvalidation_1-logloss:0.20275\n",
      "[86]\tvalidation_0-error:0.18431\tvalidation_0-logloss:0.39388\tvalidation_1-error:0.07554\tvalidation_1-logloss:0.20275\n",
      "[87]\tvalidation_0-error:0.18431\tvalidation_0-logloss:0.39388\tvalidation_1-error:0.07553\tvalidation_1-logloss:0.20276\n",
      "[88]\tvalidation_0-error:0.18429\tvalidation_0-logloss:0.39387\tvalidation_1-error:0.07550\tvalidation_1-logloss:0.20275\n",
      "[89]\tvalidation_0-error:0.18429\tvalidation_0-logloss:0.39386\tvalidation_1-error:0.07548\tvalidation_1-logloss:0.20276\n",
      "[90]\tvalidation_0-error:0.18427\tvalidation_0-logloss:0.39383\tvalidation_1-error:0.07548\tvalidation_1-logloss:0.20275\n",
      "[91]\tvalidation_0-error:0.18427\tvalidation_0-logloss:0.39383\tvalidation_1-error:0.07548\tvalidation_1-logloss:0.20275\n",
      "[92]\tvalidation_0-error:0.18426\tvalidation_0-logloss:0.39381\tvalidation_1-error:0.07555\tvalidation_1-logloss:0.20276\n",
      "[93]\tvalidation_0-error:0.18426\tvalidation_0-logloss:0.39379\tvalidation_1-error:0.07548\tvalidation_1-logloss:0.20275\n",
      "[94]\tvalidation_0-error:0.18426\tvalidation_0-logloss:0.39379\tvalidation_1-error:0.07548\tvalidation_1-logloss:0.20275\n",
      "[95]\tvalidation_0-error:0.18426\tvalidation_0-logloss:0.39378\tvalidation_1-error:0.07548\tvalidation_1-logloss:0.20275\n",
      "[96]\tvalidation_0-error:0.18426\tvalidation_0-logloss:0.39378\tvalidation_1-error:0.07548\tvalidation_1-logloss:0.20275\n",
      "[97]\tvalidation_0-error:0.18426\tvalidation_0-logloss:0.39377\tvalidation_1-error:0.07548\tvalidation_1-logloss:0.20275\n",
      "[98]\tvalidation_0-error:0.18424\tvalidation_0-logloss:0.39376\tvalidation_1-error:0.07545\tvalidation_1-logloss:0.20275\n",
      "[99]\tvalidation_0-error:0.18424\tvalidation_0-logloss:0.39375\tvalidation_1-error:0.07547\tvalidation_1-logloss:0.20275\n",
      "Accuracy: 92.45%\n"
     ]
    },
    {
     "data": {
      "image/png": "[encoded data removed]",
      "text/plain": [
       "<Figure size 432x288 with 1 Axes>"
      ]
     },
     "metadata": {
      "needs_background": "light"
     },
     "output_type": "display_data"
    },
    {
     "data": {
      "image/png": "[encoded data removed]",
      "text/plain": [
       "<Figure size 432x288 with 1 Axes>"
      ]
     },
     "metadata": {
      "needs_background": "light"
     },
     "output_type": "display_data"
    }
   ],
   "source": [
    "# fit model on training data\n",
    "model = XGBClassifier()\n",
    "eval_set = [(data_train, label_train), (data_test, label_test)]\n",
    "model.fit(data_train, label_train, eval_metric=[\"error\", \"logloss\"], eval_set=eval_set, verbose=True)\n",
    "# make predictions for test data\n",
    "predictions = model.predict(data_test)\n",
    "# evaluate predictions\n",
    "accuracy = accuracy_score(label_test, predictions)\n",
    "print(\"Accuracy: %.2f%%\" % (accuracy * 100.0))\n",
    "# retrieve performance metrics\n",
    "results = model.evals_result()\n",
    "epochs = len(results['validation_0']['error'])\n",
    "x_axis = range(0, epochs)\n",
    "# plot log loss\n",
    "fig, ax = pyplot.subplots()\n",
    "ax.plot(x_axis, results['validation_0']['logloss'], label='Train')\n",
    "ax.plot(x_axis, results['validation_1']['logloss'], label='Test')\n",
    "ax.legend()\n",
    "pyplot.ylabel('Log Loss')\n",
    "pyplot.title('XGBoost Log Loss')\n",
    "pyplot.show()\n",
    "# plot classification error\n",
    "fig, ax = pyplot.subplots()\n",
    "ax.plot(x_axis, results['validation_0']['error'], label='Train')\n",
    "ax.plot(x_axis, results['validation_1']['error'], label='Test')\n",
    "ax.legend()\n",
    "pyplot.ylabel('Classification Error')\n",
    "pyplot.title('XGBoost Classification Error')\n",
    "pyplot.show()"
   ]
  },
  {
   "cell_type": "markdown",
   "metadata": {},
   "source": [
    "### Early Stopping to Avoid Overfitting"
   ]
  },
  {
   "cell_type": "code",
   "execution_count": 100,
   "metadata": {},
   "outputs": [
    {
     "name": "stdout",
     "output_type": "stream",
     "text": [
      "[0]\tvalidation_0-error:0.06991\n",
      "Will train until validation_0-error hasn't improved in 15 rounds.\n",
      "[1]\tvalidation_0-error:0.07443\n",
      "[2]\tvalidation_0-error:0.07453\n",
      "[3]\tvalidation_0-error:0.06885\n",
      "[4]\tvalidation_0-error:0.07144\n",
      "[5]\tvalidation_0-error:0.07183\n",
      "[6]\tvalidation_0-error:0.07281\n",
      "[7]\tvalidation_0-error:0.07133\n",
      "[8]\tvalidation_0-error:0.07475\n",
      "[9]\tvalidation_0-error:0.07451\n",
      "[10]\tvalidation_0-error:0.07442\n",
      "[11]\tvalidation_0-error:0.07459\n",
      "[12]\tvalidation_0-error:0.07495\n",
      "[13]\tvalidation_0-error:0.07471\n",
      "[14]\tvalidation_0-error:0.07502\n",
      "[15]\tvalidation_0-error:0.07450\n",
      "[16]\tvalidation_0-error:0.07491\n",
      "[17]\tvalidation_0-error:0.07490\n",
      "[18]\tvalidation_0-error:0.07492\n",
      "Stopping. Best iteration:\n",
      "[3]\tvalidation_0-error:0.06885\n",
      "\n"
     ]
    }
   ],
   "source": [
    "model = XGBClassifier()\n",
    "eval_set = [(data_test, label_test)]\n",
    "model.fit(data_train, label_train, early_stopping_rounds=15, eval_metric=\"error\", eval_set=eval_set, verbose=True)\n",
    "# make predictions for test data\n",
    "predictions = model.predict(data_test)"
   ]
  },
  {
   "cell_type": "code",
   "execution_count": 101,
   "metadata": {},
   "outputs": [
    {
     "name": "stdout",
     "output_type": "stream",
     "text": [
      "Accuracy: 93.12%\n"
     ]
    }
   ],
   "source": [
    "# evaluate predictions\n",
    "accuracy = accuracy_score(label_test, predictions)\n",
    "print(\"Accuracy: %.2f%%\" % (accuracy * 100.0))"
   ]
  },
  {
   "cell_type": "code",
   "execution_count": 102,
   "metadata": {},
   "outputs": [
    {
     "name": "stdout",
     "output_type": "stream",
     "text": [
      "F1_score macro: 93.08%\n"
     ]
    }
   ],
   "source": [
    "f1=metrics.f1_score(label_test, predictions, average='macro')\n",
    "print(\"F1_score macro: %.2f%%\" % (f1 * 100.0))"
   ]
  },
  {
   "cell_type": "code",
   "execution_count": 103,
   "metadata": {},
   "outputs": [
    {
     "name": "stdout",
     "output_type": "stream",
     "text": [
      "[0]\tvalidation_0-error:0.19040\tvalidation_0-logloss:0.57459\tvalidation_1-error:0.06991\tvalidation_1-logloss:0.50864\n",
      "Multiple eval metrics have been passed: 'validation_1-logloss' will be used for early stopping.\n",
      "\n",
      "Will train until validation_1-logloss hasn't improved in 15 rounds.\n",
      "[1]\tvalidation_0-error:0.18926\tvalidation_0-logloss:0.50905\tvalidation_1-error:0.07443\tvalidation_1-logloss:0.40496\n",
      "[2]\tvalidation_0-error:0.18880\tvalidation_0-logloss:0.47089\tvalidation_1-error:0.07453\tvalidation_1-logloss:0.34051\n",
      "[3]\tvalidation_0-error:0.18730\tvalidation_0-logloss:0.44616\tvalidation_1-error:0.06885\tvalidation_1-logloss:0.29777\n",
      "[4]\tvalidation_0-error:0.18692\tvalidation_0-logloss:0.43083\tvalidation_1-error:0.07144\tvalidation_1-logloss:0.26903\n",
      "[5]\tvalidation_0-error:0.18646\tvalidation_0-logloss:0.41957\tvalidation_1-error:0.07183\tvalidation_1-logloss:0.24821\n",
      "[6]\tvalidation_0-error:0.18642\tvalidation_0-logloss:0.41236\tvalidation_1-error:0.07281\tvalidation_1-logloss:0.23475\n",
      "[7]\tvalidation_0-error:0.18581\tvalidation_0-logloss:0.40772\tvalidation_1-error:0.07133\tvalidation_1-logloss:0.22518\n",
      "[8]\tvalidation_0-error:0.18560\tvalidation_0-logloss:0.40455\tvalidation_1-error:0.07475\tvalidation_1-logloss:0.21865\n",
      "[9]\tvalidation_0-error:0.18563\tvalidation_0-logloss:0.40204\tvalidation_1-error:0.07451\tvalidation_1-logloss:0.21373\n",
      "[10]\tvalidation_0-error:0.18552\tvalidation_0-logloss:0.40015\tvalidation_1-error:0.07442\tvalidation_1-logloss:0.21016\n",
      "[11]\tvalidation_0-error:0.18546\tvalidation_0-logloss:0.39910\tvalidation_1-error:0.07459\tvalidation_1-logloss:0.20775\n",
      "[12]\tvalidation_0-error:0.18541\tvalidation_0-logloss:0.39843\tvalidation_1-error:0.07495\tvalidation_1-logloss:0.20659\n",
      "[13]\tvalidation_0-error:0.18540\tvalidation_0-logloss:0.39774\tvalidation_1-error:0.07471\tvalidation_1-logloss:0.20485\n",
      "[14]\tvalidation_0-error:0.18536\tvalidation_0-logloss:0.39719\tvalidation_1-error:0.07502\tvalidation_1-logloss:0.20415\n",
      "[15]\tvalidation_0-error:0.18532\tvalidation_0-logloss:0.39667\tvalidation_1-error:0.07450\tvalidation_1-logloss:0.20371\n",
      "[16]\tvalidation_0-error:0.18533\tvalidation_0-logloss:0.39643\tvalidation_1-error:0.07491\tvalidation_1-logloss:0.20339\n",
      "[17]\tvalidation_0-error:0.18522\tvalidation_0-logloss:0.39624\tvalidation_1-error:0.07490\tvalidation_1-logloss:0.20302\n",
      "[18]\tvalidation_0-error:0.18522\tvalidation_0-logloss:0.39599\tvalidation_1-error:0.07492\tvalidation_1-logloss:0.20285\n",
      "[19]\tvalidation_0-error:0.18516\tvalidation_0-logloss:0.39590\tvalidation_1-error:0.07498\tvalidation_1-logloss:0.20270\n",
      "[20]\tvalidation_0-error:0.18515\tvalidation_0-logloss:0.39574\tvalidation_1-error:0.07571\tvalidation_1-logloss:0.20268\n",
      "[21]\tvalidation_0-error:0.18502\tvalidation_0-logloss:0.39552\tvalidation_1-error:0.07572\tvalidation_1-logloss:0.20245\n",
      "[22]\tvalidation_0-error:0.18494\tvalidation_0-logloss:0.39534\tvalidation_1-error:0.07559\tvalidation_1-logloss:0.20230\n",
      "[23]\tvalidation_0-error:0.18485\tvalidation_0-logloss:0.39516\tvalidation_1-error:0.07557\tvalidation_1-logloss:0.20228\n",
      "[24]\tvalidation_0-error:0.18485\tvalidation_0-logloss:0.39514\tvalidation_1-error:0.07561\tvalidation_1-logloss:0.20239\n",
      "[25]\tvalidation_0-error:0.18476\tvalidation_0-logloss:0.39509\tvalidation_1-error:0.07574\tvalidation_1-logloss:0.20242\n",
      "[26]\tvalidation_0-error:0.18475\tvalidation_0-logloss:0.39506\tvalidation_1-error:0.07565\tvalidation_1-logloss:0.20242\n",
      "[27]\tvalidation_0-error:0.18469\tvalidation_0-logloss:0.39496\tvalidation_1-error:0.07540\tvalidation_1-logloss:0.20242\n",
      "[28]\tvalidation_0-error:0.18468\tvalidation_0-logloss:0.39491\tvalidation_1-error:0.07544\tvalidation_1-logloss:0.20240\n",
      "[29]\tvalidation_0-error:0.18463\tvalidation_0-logloss:0.39484\tvalidation_1-error:0.07549\tvalidation_1-logloss:0.20241\n",
      "[30]\tvalidation_0-error:0.18457\tvalidation_0-logloss:0.39471\tvalidation_1-error:0.07545\tvalidation_1-logloss:0.20236\n",
      "[31]\tvalidation_0-error:0.18457\tvalidation_0-logloss:0.39468\tvalidation_1-error:0.07544\tvalidation_1-logloss:0.20244\n",
      "[32]\tvalidation_0-error:0.18458\tvalidation_0-logloss:0.39465\tvalidation_1-error:0.07552\tvalidation_1-logloss:0.20248\n",
      "[33]\tvalidation_0-error:0.18451\tvalidation_0-logloss:0.39461\tvalidation_1-error:0.07579\tvalidation_1-logloss:0.20252\n",
      "[34]\tvalidation_0-error:0.18449\tvalidation_0-logloss:0.39455\tvalidation_1-error:0.07563\tvalidation_1-logloss:0.20256\n",
      "[35]\tvalidation_0-error:0.18449\tvalidation_0-logloss:0.39453\tvalidation_1-error:0.07563\tvalidation_1-logloss:0.20258\n",
      "[36]\tvalidation_0-error:0.18449\tvalidation_0-logloss:0.39450\tvalidation_1-error:0.07565\tvalidation_1-logloss:0.20259\n",
      "[37]\tvalidation_0-error:0.18448\tvalidation_0-logloss:0.39447\tvalidation_1-error:0.07566\tvalidation_1-logloss:0.20256\n",
      "[38]\tvalidation_0-error:0.18448\tvalidation_0-logloss:0.39444\tvalidation_1-error:0.07568\tvalidation_1-logloss:0.20256\n",
      "Stopping. Best iteration:\n",
      "[23]\tvalidation_0-error:0.18485\tvalidation_0-logloss:0.39516\tvalidation_1-error:0.07557\tvalidation_1-logloss:0.20228\n",
      "\n",
      "Accuracy: 92.44%\n"
     ]
    },
    {
     "data": {
      "image/png": "[encoded data removed]",
      "text/plain": [
       "<Figure size 432x288 with 1 Axes>"
      ]
     },
     "metadata": {
      "needs_background": "light"
     },
     "output_type": "display_data"
    },
    {
     "data": {
      "image/png": "[encoded data removed]",
      "text/plain": [
       "<Figure size 432x288 with 1 Axes>"
      ]
     },
     "metadata": {
      "needs_background": "light"
     },
     "output_type": "display_data"
    }
   ],
   "source": [
    "# fit model on training data\n",
    "model = XGBClassifier()\n",
    "eval_set = [(data_train, label_train), (data_test, label_test)]\n",
    "model.fit(data_train, label_train,early_stopping_rounds=15, eval_metric=[\"error\", \"logloss\"], eval_set=eval_set, verbose=True)\n",
    "# make predictions for test data\n",
    "predictions = model.predict(data_test)\n",
    "# evaluate predictions\n",
    "accuracy = accuracy_score(label_test, predictions)\n",
    "print(\"Accuracy: %.2f%%\" % (accuracy * 100.0))\n",
    "# retrieve performance metrics\n",
    "results = model.evals_result()\n",
    "epochs = len(results['validation_0']['error'])\n",
    "x_axis = range(0, epochs)\n",
    "# plot log loss\n",
    "fig, ax = pyplot.subplots()\n",
    "ax.plot(x_axis, results['validation_0']['logloss'], label='Train')\n",
    "ax.plot(x_axis, results['validation_1']['logloss'], label='Test')\n",
    "ax.legend()\n",
    "pyplot.ylabel('Log Loss')\n",
    "pyplot.title('XGBoost Log Loss')\n",
    "pyplot.show()\n",
    "# plot classification error\n",
    "fig, ax = pyplot.subplots()\n",
    "ax.plot(x_axis, results['validation_0']['error'], label='Train')\n",
    "ax.plot(x_axis, results['validation_1']['error'], label='Test')\n",
    "ax.legend()\n",
    "pyplot.ylabel('Classification Error')\n",
    "pyplot.title('XGBoost Classification Error')\n",
    "pyplot.show()"
   ]
  },
  {
   "cell_type": "markdown",
   "metadata": {},
   "source": [
    "## Eficient multi-core parallel processing.\n",
    "Ajustar el numero de nucleos de CPU para mejorar tiempo de entrenamiento"
   ]
  },
  {
   "cell_type": "code",
   "execution_count": 106,
   "metadata": {},
   "outputs": [
    {
     "name": "stdout",
     "output_type": "stream",
     "text": [
      "1 198.71891927719116\n",
      "4 90.35447335243225\n",
      "7 93.73569297790527\n",
      "10 96.17124629020691\n"
     ]
    },
    {
     "data": {
      "image/png": "[encoded data removed]",
      "text/plain": [
       "<Figure size 432x288 with 1 Axes>"
      ]
     },
     "metadata": {
      "needs_background": "light"
     },
     "output_type": "display_data"
    }
   ],
   "source": [
    "# evaluate the effect of the number of threads\n",
    "results = []\n",
    "num_threads = [1, 4, 7, 10]\n",
    "for n in num_threads:\n",
    "\tstart = time()\n",
    "\tmodel = XGBClassifier(nthread=n)\n",
    "\tmodel.fit(data_train, label_train)\n",
    "\telapsed = time() - start\n",
    "\tprint(n, elapsed)\n",
    "\tresults.append(elapsed)\n",
    "# plot results\n",
    "pyplot.plot(num_threads, results)\n",
    "pyplot.ylabel('Speed (seconds)')\n",
    "pyplot.xlabel('Number of Threads')\n",
    "pyplot.title('XGBoost Training Speed vs Number of Threads')\n",
    "pyplot.show()"
   ]
  },
  {
   "cell_type": "markdown",
   "metadata": {},
   "source": [
    "## Parallel cross validation Vs Parallel Thread XGBoost"
   ]
  },
  {
   "cell_type": "code",
   "execution_count": 110,
   "metadata": {},
   "outputs": [
    {
     "name": "stdout",
     "output_type": "stream",
     "text": [
      "Single Thread XGBoost, Parallel Thread CV: 164.940522\n",
      "Parallel Thread XGBoost, Single Thread CV: 182.038215\n",
      "Parallel Thread XGBoost and CV: 160.288472\n"
     ]
    }
   ],
   "source": [
    "import time\n",
    "# prepare cross validation\n",
    "kfold = StratifiedKFold(n_splits=3, shuffle=True, random_state=7)\n",
    "# Single Thread XGBoost, Parallel Thread CV\n",
    "start = time.time()\n",
    "model = XGBClassifier(nthread=1)\n",
    "results = cross_val_score(model, data_train, label_train, cv=kfold, scoring='neg_log_loss', n_jobs=-1)\n",
    "elapsed = time.time() - start\n",
    "print(\"Single Thread XGBoost, Parallel Thread CV: %f\" % (elapsed))\n",
    "# Parallel Thread XGBoost, Single Thread CV\n",
    "start = time.time()\n",
    "model = XGBClassifier(nthread=-1)\n",
    "results = cross_val_score(model, data_train, label_train, cv=kfold, scoring='neg_log_loss', n_jobs=1)\n",
    "elapsed = time.time() - start\n",
    "print(\"Parallel Thread XGBoost, Single Thread CV: %f\" % (elapsed))\n",
    "# Parallel Thread XGBoost and CV\n",
    "start = time.time()\n",
    "model = XGBClassifier(nthread=-1)\n",
    "results = cross_val_score(model, data_train, label_train, cv=kfold, scoring='neg_log_loss', n_jobs=-1)\n",
    "elapsed = time.time() - start\n",
    "print(\"Parallel Thread XGBoost and CV: %f\" % (elapsed))"
   ]
  },
  {
   "cell_type": "markdown",
   "metadata": {},
   "source": [
    "podemos ver que el mejor resultado (menor tiempo) se logra al habilitar tanto el subprocesamiento múltiple dentro de XGBoost como paralelizar la validación cruzada."
   ]
  },
  {
   "cell_type": "markdown",
   "metadata": {},
   "source": [
    "## Ajuste de hiperparametros XGBoost Extreme Gradient Boosting Algorithm"
   ]
  },
  {
   "cell_type": "markdown",
   "metadata": {},
   "source": [
    "### Explorar el numero de arboles "
   ]
  },
  {
   "cell_type": "code",
   "execution_count": 77,
   "metadata": {},
   "outputs": [],
   "source": [
    "# funcion para evaluar lista de modelos\n",
    "def get_models():\n",
    "    models = dict()\n",
    "    models['10'] = XGBClassifier(nthread=-1, n_estimators=10)\n",
    "    models['50'] = XGBClassifier(nthread=-1, n_estimators=50)\n",
    "    models['100'] = XGBClassifier(nthread=-1, n_estimators=100)\n",
    "    models['200'] = XGBClassifier(nthread=-1, n_estimators=200)\n",
    "    models['300'] = XGBClassifier(nthread=-1, n_estimators=300)\n",
    "    return models\n",
    "\n",
    "# funcion para evaluar modelo usando CV\n",
    "def evaluate_model(model):\n",
    "    kfold = StratifiedKFold(n_splits=3, shuffle=True, random_state=7)\n",
    "    scores = cross_val_score(model, data_train, label_train, scoring='f1_macro', cv=kfold, n_jobs=-1, error_score='raise')\n",
    "    return scores"
   ]
  },
  {
   "cell_type": "code",
   "execution_count": 78,
   "metadata": {},
   "outputs": [
    {
     "name": "stdout",
     "output_type": "stream",
     "text": [
      ">10 0.813 (0.000436)\n",
      ">50 0.815 (0.000194)\n",
      ">100 0.815 (0.000183)\n",
      ">200 0.815 (0.000176)\n",
      ">300 0.815 (0.000185)\n"
     ]
    },
    {
     "data": {
      "image/png": "[encoded data removed]",
      "text/plain": [
       "<Figure size 432x288 with 1 Axes>"
      ]
     },
     "metadata": {
      "needs_background": "light"
     },
     "output_type": "display_data"
    }
   ],
   "source": [
    "# modelos a evaluar\n",
    "models = get_models()\n",
    "# evaluar modelos y guardar resultados\n",
    "results, names = list(), list()\n",
    "for name, model in models.items():\n",
    "    scores = evaluate_model(model)\n",
    "    results.append(scores)\n",
    "    names.append(name)\n",
    "    print('>%s %.3f (%.6f)' % (name, mean(scores), std(scores)))\n",
    "# graficar el desempeño del modelo para comparacion \n",
    "pyplot.boxplot(results, labels=names, showmeans=True)\n",
    "pyplot.title(\"XGBoost n_estimators vs F1_score macro\")\n",
    "pyplot.xlabel('n_estimators')\n",
    "pyplot.ylabel('F1_score macro')\n",
    "pyplot.show()"
   ]
  },
  {
   "cell_type": "markdown",
   "metadata": {},
   "source": [
    "## Ajustar la profundidad del árbol (Tree Depth)"
   ]
  },
  {
   "cell_type": "code",
   "execution_count": 79,
   "metadata": {},
   "outputs": [],
   "source": [
    "# lista de modelos a evaluar\n",
    "def get_models():\n",
    "    models = dict()\n",
    "    for i in [4, 6, 8, 10]:\n",
    "        models[str(i)] = XGBClassifier(nthread=-1, max_depth=i)\n",
    "    return models\n",
    "\n",
    "# evaluar usando cross-validation\n",
    "def evaluate_model(model):\n",
    "    kfold = StratifiedKFold(n_splits=3, shuffle=True, random_state=7)\n",
    "    scores = cross_val_score(model, data_train, label_train, scoring='f1_macro', cv=kfold, n_jobs=-1, error_score='raise')\n",
    "    return scores\n"
   ]
  },
  {
   "cell_type": "code",
   "execution_count": 80,
   "metadata": {},
   "outputs": [
    {
     "name": "stdout",
     "output_type": "stream",
     "text": [
      ">4 0.815 (0.000200)\n",
      ">6 0.815 (0.000183)\n",
      ">8 0.815 (0.000196)\n",
      ">10 0.815 (0.000322)\n"
     ]
    },
    {
     "data": {
      "image/png": "[encoded data removed]",
      "text/plain": [
       "<Figure size 432x288 with 1 Axes>"
      ]
     },
     "metadata": {
      "needs_background": "light"
     },
     "output_type": "display_data"
    }
   ],
   "source": [
    "# modelos a evaluar\n",
    "models = get_models()\n",
    "# evaluar modelos y guardar resultados\n",
    "results, names = list(), list()\n",
    "for name, model in models.items():\n",
    "    scores = evaluate_model(model)\n",
    "    results.append(scores)\n",
    "    names.append(name)\n",
    "    print('>%s %.3f (%.6f)' % (name, mean(scores), std(scores)))\n",
    "# graficar el desempeño del modelo para comparacion \n",
    "pyplot.boxplot(results, labels=names, showmeans=True)\n",
    "pyplot.title(\"XGBoost n_estimators vs F1_score macro\")\n",
    "pyplot.xlabel('max_depth')\n",
    "pyplot.ylabel('F1_score macro')\n",
    "pyplot.show()"
   ]
  },
  {
   "cell_type": "markdown",
   "metadata": {},
   "source": [
    "## Busqueda en cuadricula del numero de arboles y profundidad"
   ]
  },
  {
   "cell_type": "code",
   "execution_count": 83,
   "metadata": {},
   "outputs": [
    {
     "name": "stdout",
     "output_type": "stream",
     "text": [
      "[2, 4, 6]\n",
      "Fitting 3 folds for each of 9 candidates, totalling 27 fits\n"
     ]
    },
    {
     "name": "stderr",
     "output_type": "stream",
     "text": [
      "[Parallel(n_jobs=-1)]: Using backend LokyBackend with 12 concurrent workers.\n",
      "[Parallel(n_jobs=-1)]: Done  27 out of  27 | elapsed:  6.6min finished\n"
     ]
    },
    {
     "name": "stdout",
     "output_type": "stream",
     "text": [
      "Best: -0.394622 using {'max_depth': 6, 'n_estimators': 100}\n",
      "-0.400170 (0.000409) with: {'max_depth': 2, 'n_estimators': 30}\n",
      "-0.397056 (0.000310) with: {'max_depth': 2, 'n_estimators': 50}\n",
      "-0.395549 (0.000270) with: {'max_depth': 2, 'n_estimators': 100}\n",
      "-0.396161 (0.000245) with: {'max_depth': 4, 'n_estimators': 30}\n",
      "-0.395190 (0.000247) with: {'max_depth': 4, 'n_estimators': 50}\n",
      "-0.394666 (0.000260) with: {'max_depth': 4, 'n_estimators': 100}\n",
      "-0.395115 (0.000210) with: {'max_depth': 6, 'n_estimators': 30}\n",
      "-0.394678 (0.000266) with: {'max_depth': 6, 'n_estimators': 50}\n",
      "-0.394622 (0.000278) with: {'max_depth': 6, 'n_estimators': 100}\n"
     ]
    },
    {
     "data": {
      "image/png": "[encoded data removed]",
      "text/plain": [
       "<Figure size 432x288 with 1 Axes>"
      ]
     },
     "metadata": {
      "needs_background": "light"
     },
     "output_type": "display_data"
    }
   ],
   "source": [
    "model = XGBClassifier(nthread=-1)\n",
    "n_estimators = [30, 50, 100, 400, 600]\n",
    "max_depth = [2, 4, 6]\n",
    "print(max_depth)\n",
    "param_grid = dict(max_depth=max_depth, n_estimators=n_estimators)\n",
    "kfold = StratifiedKFold(n_splits=3, shuffle=True, random_state=7)\n",
    "grid_search = GridSearchCV(model, param_grid, scoring=\"neg_log_loss\", n_jobs=-1, cv=kfold, verbose=1)\n",
    "grid_result = grid_search.fit(data_train, label_train)\n",
    "# summarize results\n",
    "print(\"Best: %f using %s\" % (grid_result.best_score_, grid_result.best_params_))\n",
    "means = grid_result.cv_results_['mean_test_score']\n",
    "stds = grid_result.cv_results_['std_test_score']\n",
    "params = grid_result.cv_results_['params']\n",
    "for mean, stdev, param in zip(means, stds, params):\n",
    "\tprint(\"%f (%f) with: %r\" % (mean, stdev, param))\n",
    "# plot results\n",
    "scores = np.array(means).reshape(len(max_depth), len(n_estimators))\n",
    "for i, value in enumerate(max_depth):\n",
    "    pyplot.plot(n_estimators, scores[i], label='depth: ' + str(value))\n",
    "pyplot.legend()\n",
    "pyplot.xlabel('n_estimators')\n",
    "pyplot.ylabel('Log Loss')\n",
    "pyplot.savefig('n_estimators_vs_max_depth.png')"
   ]
  },
  {
   "cell_type": "markdown",
   "metadata": {},
   "source": [
    "Se observa que la menor perdida se obtiene con la combinacion de 100 arboles con un tamaño de 6"
   ]
  },
  {
   "cell_type": "markdown",
   "metadata": {},
   "source": [
    "##  Ajustar la tasa de aprendizaje (Learning Rate)\n",
    "\n",
    "Podemos utilizar la capacidad de búsqueda de la cuadrícula en scikit-learn para evaluar el efecto sobre la pérdida logarítmica de\n",
    "entrenar un modelo de aumento de gradiente con diferentes valores de tasa de aprendizaje. Retendremos el número\n",
    "de árboles constantes en el valor predeterminado de 100."
   ]
  },
  {
   "cell_type": "code",
   "execution_count": 77,
   "metadata": {},
   "outputs": [],
   "source": [
    "# get a list of models to evaluate\n",
    "def get_models():\n",
    "    models = dict()\n",
    "    for i in [0.01, 0.05, 0.1, 0.3, 0.5, 1.0]:\n",
    "        key = '%.4f' % i\n",
    "        models[key] = XGBClassifier(nthread=-1, learning_rate=i)\n",
    "    return models\n",
    "\n",
    "# evaluar usando cross-validation\n",
    "def evaluate_model(model):\n",
    "    kfold = StratifiedKFold(n_splits=3, shuffle=True, random_state=7)\n",
    "    scores = cross_val_score(model, data_train, label_train, scoring='f1_macro', cv=kfold, n_jobs=-1, error_score='raise')\n",
    "    return scores\n"
   ]
  },
  {
   "cell_type": "code",
   "execution_count": 78,
   "metadata": {},
   "outputs": [
    {
     "name": "stdout",
     "output_type": "stream",
     "text": [
      ">0.0100 0.812 (0.000173)\n",
      ">0.0500 0.814 (0.000255)\n",
      ">0.1000 0.815 (0.000236)\n",
      ">0.3000 0.815 (0.000183)\n",
      ">0.5000 0.815 (0.000255)\n",
      ">1.0000 0.814 (0.000258)\n"
     ]
    },
    {
     "data": {
      "image/png": "[encoded data removed]",
      "text/plain": [
       "<Figure size 432x288 with 1 Axes>"
      ]
     },
     "metadata": {
      "needs_background": "light"
     },
     "output_type": "display_data"
    }
   ],
   "source": [
    "# modelos a evaluar\n",
    "models = get_models()\n",
    "# evaluar modelos y guardar resultados\n",
    "results, names = list(), list()\n",
    "for name, model in models.items():\n",
    "    scores = evaluate_model(model)\n",
    "    results.append(scores)\n",
    "    names.append(name)\n",
    "    print('>%s %.3f (%.6f)' % (name, mean(scores), std(scores)))\n",
    "# graficar el desempeño del modelo para comparacion \n",
    "pyplot.boxplot(results, labels=names, showmeans=True)\n",
    "pyplot.title(\"XGBoost learning_rate vs F1_score macro\")\n",
    "pyplot.xlabel('learning_rate')\n",
    "pyplot.ylabel('F1_score macro')\n",
    "pyplot.show()"
   ]
  },
  {
   "cell_type": "markdown",
   "metadata": {},
   "source": [
    "Se observa que el F1 aumenta hasta hasta la tasa de aprendizaje de 0.3 y empieza a disminuir. dado que hay un equilibrio entre la tasa de aprendizaje y el numero de arboles se explorara en conjunto para analizar el rendimiento del modelo."
   ]
  },
  {
   "cell_type": "markdown",
   "metadata": {},
   "source": [
    "## Busqueda en cuadricula del numero de arboles y tasa de aprendizaje"
   ]
  },
  {
   "cell_type": "code",
   "execution_count": 75,
   "metadata": {},
   "outputs": [
    {
     "name": "stderr",
     "output_type": "stream",
     "text": [
      "C:\\Users\\alexh\\Anaconda3\\lib\\site-packages\\sklearn\\model_selection\\_search.py:813: DeprecationWarning: The default of the `iid` parameter will change from True to False in version 0.22 and will be removed in 0.24. This will change numeric results when test-set sizes are unequal.\n",
      "  DeprecationWarning)\n"
     ]
    },
    {
     "name": "stdout",
     "output_type": "stream",
     "text": [
      "Best: -0.394532 using {'learning_rate': 0.05, 'n_estimators': 400}\n",
      "-0.670911 (0.000007) with: {'learning_rate': 0.001, 'n_estimators': 50}\n",
      "-0.650695 (0.000013) with: {'learning_rate': 0.001, 'n_estimators': 100}\n",
      "-0.615454 (0.000029) with: {'learning_rate': 0.001, 'n_estimators': 200}\n",
      "-0.560945 (0.000031) with: {'learning_rate': 0.001, 'n_estimators': 400}\n",
      "-0.521484 (0.000064) with: {'learning_rate': 0.001, 'n_estimators': 600}\n",
      "-0.408751 (0.000101) with: {'learning_rate': 0.05, 'n_estimators': 50}\n",
      "-0.396834 (0.000220) with: {'learning_rate': 0.05, 'n_estimators': 100}\n",
      "-0.394851 (0.000262) with: {'learning_rate': 0.05, 'n_estimators': 200}\n",
      "-0.394532 (0.000262) with: {'learning_rate': 0.05, 'n_estimators': 400}\n",
      "-0.394534 (0.000268) with: {'learning_rate': 0.05, 'n_estimators': 600}\n",
      "-0.396796 (0.000192) with: {'learning_rate': 0.1, 'n_estimators': 50}\n",
      "-0.394843 (0.000276) with: {'learning_rate': 0.1, 'n_estimators': 100}\n",
      "-0.394537 (0.000265) with: {'learning_rate': 0.1, 'n_estimators': 200}\n",
      "-0.394570 (0.000276) with: {'learning_rate': 0.1, 'n_estimators': 400}\n",
      "nan (nan) with: {'learning_rate': 0.1, 'n_estimators': 600}\n",
      "-0.394678 (0.000266) with: {'learning_rate': 0.3, 'n_estimators': 50}\n",
      "-0.394622 (0.000278) with: {'learning_rate': 0.3, 'n_estimators': 100}\n",
      "nan (nan) with: {'learning_rate': 0.3, 'n_estimators': 200}\n",
      "nan (nan) with: {'learning_rate': 0.3, 'n_estimators': 400}\n",
      "nan (nan) with: {'learning_rate': 0.3, 'n_estimators': 600}\n",
      "-0.394749 (0.000282) with: {'learning_rate': 0.5, 'n_estimators': 50}\n",
      "nan (nan) with: {'learning_rate': 0.5, 'n_estimators': 100}\n",
      "nan (nan) with: {'learning_rate': 0.5, 'n_estimators': 200}\n",
      "nan (nan) with: {'learning_rate': 0.5, 'n_estimators': 400}\n",
      "nan (nan) with: {'learning_rate': 0.5, 'n_estimators': 600}\n"
     ]
    },
    {
     "data": {
      "image/png": "[encoded data removed]",
      "text/plain": [
       "<Figure size 432x288 with 1 Axes>"
      ]
     },
     "metadata": {
      "needs_background": "light"
     },
     "output_type": "display_data"
    }
   ],
   "source": [
    "# grid search\n",
    "model = XGBClassifier(nthread=-1)\n",
    "n_estimators = [50, 100, 200, 400, 600]\n",
    "learning_rate = [0.001, 0.05, 0.1, 0.3, 0.5]\n",
    "param_grid = dict(learning_rate=learning_rate, n_estimators=n_estimators)\n",
    "kfold = StratifiedKFold(n_splits=3, shuffle=True, random_state=7)\n",
    "grid_search = GridSearchCV(model, param_grid, scoring=\"neg_log_loss\", n_jobs=-1, cv=kfold)\n",
    "grid_result = grid_search.fit(data_train, label_train)\n",
    "# summarize results\n",
    "print(\"Best: %f using %s\" % (grid_result.best_score_, grid_result.best_params_))\n",
    "means = grid_result.cv_results_['mean_test_score']\n",
    "stds = grid_result.cv_results_['std_test_score']\n",
    "params = grid_result.cv_results_['params']\n",
    "for mean, stdev, param in zip(means, stds, params):\n",
    "\tprint(\"%f (%f) with: %r\" % (mean, stdev, param))\n",
    "# plot results\n",
    "scores = np.array(means).reshape(len(learning_rate), len(n_estimators))\n",
    "for i, value in enumerate(learning_rate):\n",
    "    pyplot.plot(n_estimators, scores[i], label='learning_rate: ' + str(value))\n",
    "pyplot.legend()\n",
    "pyplot.xlabel('n_estimators')\n",
    "pyplot.ylabel('Log Loss')\n",
    "pyplot.savefig('n_estimators_vs_learning_rate.png')"
   ]
  },
  {
   "cell_type": "markdown",
   "metadata": {},
   "source": [
    "## Ajuste del muestreo de filas "
   ]
  },
  {
   "cell_type": "code",
   "execution_count": 83,
   "metadata": {},
   "outputs": [
    {
     "name": "stdout",
     "output_type": "stream",
     "text": [
      "Best: -0.394622 using {'subsample': 1.0}\n",
      "-0.395530 (0.000222) with: {'subsample': 0.1}\n",
      "-0.394774 (0.000282) with: {'subsample': 0.5}\n",
      "-0.394697 (0.000262) with: {'subsample': 0.75}\n",
      "-0.394622 (0.000278) with: {'subsample': 1.0}\n"
     ]
    },
    {
     "data": {
      "image/png": "[encoded data removed]",
      "text/plain": [
       "<Figure size 432x288 with 1 Axes>"
      ]
     },
     "metadata": {
      "needs_background": "light"
     },
     "output_type": "display_data"
    }
   ],
   "source": [
    "# grid search\n",
    "model = XGBClassifier(nthread=-1)\n",
    "subsample = [0.1, 0.5, 0.75, 1.0]\n",
    "param_grid = dict(subsample=subsample)\n",
    "kfold = StratifiedKFold(n_splits=3, shuffle=True, random_state=7)\n",
    "grid_search = GridSearchCV(model, param_grid, scoring=\"neg_log_loss\", n_jobs=-1, cv=kfold)\n",
    "grid_result = grid_search.fit(data_train, label_train)\n",
    "# summarize results\n",
    "print(\"Best: %f using %s\" % (grid_result.best_score_, grid_result.best_params_))\n",
    "means = grid_result.cv_results_['mean_test_score']\n",
    "stds = grid_result.cv_results_['std_test_score']\n",
    "params = grid_result.cv_results_['params']\n",
    "for mean, stdev, param in zip(means, stds, params):\n",
    "\tprint(\"%f (%f) with: %r\" % (mean, stdev, param))\n",
    "# plot\n",
    "pyplot.errorbar(subsample, means, yerr=stds)\n",
    "pyplot.title(\"XGBoost subsample vs Log Loss\")\n",
    "pyplot.xlabel('subsample')\n",
    "pyplot.ylabel('Log Loss')\n",
    "pyplot.savefig('subsample.png')"
   ]
  },
  {
   "cell_type": "markdown",
   "metadata": {},
   "source": [
    "## Gradient Boosting With XGBoost Stratified k-fold cross-validation hiperparametros ajustados"
   ]
  },
  {
   "cell_type": "code",
   "execution_count": 76,
   "metadata": {},
   "outputs": [
    {
     "name": "stdout",
     "output_type": "stream",
     "text": [
      "F1 score: 0.815 (0.000323)\n"
     ]
    }
   ],
   "source": [
    "model = XGBClassifier(nthread=-1, max_depth=4, n_estimators=100, learning_rate=0.3, subsample=1)\n",
    "\n",
    "cv = RepeatedStratifiedKFold(n_splits=3, n_repeats=3, random_state=1)\n",
    "n_scores = cross_val_score(model, data_train, label_train, scoring='f1_macro', cv=cv, n_jobs=-1, error_score='raise')\n",
    "# report performance\n",
    "print('F1 score: %.3f (%.6f)' % (mean(n_scores), std(n_scores)))"
   ]
  },
  {
   "cell_type": "markdown",
   "metadata": {},
   "source": [
    "## Evaluacion de desempeño del modelo ajustado y entrenado"
   ]
  },
  {
   "cell_type": "markdown",
   "metadata": {},
   "source": [
    "## XGBoost Classifier"
   ]
  },
  {
   "cell_type": "code",
   "execution_count": 91,
   "metadata": {},
   "outputs": [
    {
     "data": {
      "text/plain": [
       "XGBClassifier(base_score=0.5, booster='gbtree', colsample_bylevel=1,\n",
       "              colsample_bynode=1, colsample_bytree=1, gamma=0, gpu_id=-1,\n",
       "              importance_type='gain', interaction_constraints='',\n",
       "              learning_rate=0.001, max_delta_step=0, max_depth=4,\n",
       "              min_child_weight=1, missing=nan, monotone_constraints='()',\n",
       "              n_estimators=400, n_jobs=-1, nthread=-1, num_parallel_tree=1,\n",
       "              objective='binary:logistic', random_state=0, reg_alpha=0,\n",
       "              reg_lambda=1, scale_pos_weight=1, subsample=1,\n",
       "              tree_method='exact', validate_parameters=1, verbosity=None)"
      ]
     },
     "execution_count": 91,
     "metadata": {},
     "output_type": "execute_result"
    }
   ],
   "source": [
    "modelo12=XGBClassifier(nthread=-1, max_depth=4, n_estimators=400, learning_rate=0.001, subsample=1)\n",
    "modelo12.fit(data_train, label_train)"
   ]
  },
  {
   "cell_type": "code",
   "execution_count": 92,
   "metadata": {},
   "outputs": [
    {
     "name": "stdout",
     "output_type": "stream",
     "text": [
      "\n",
      "\n",
      "MATRIZ DE CONFUSION\n",
      "\n",
      "\n"
     ]
    },
    {
     "data": {
      "image/png": "[encoded data removed]",
      "text/plain": [
       "<Figure size 432x288 with 1 Axes>"
      ]
     },
     "metadata": {},
     "output_type": "display_data"
    },
    {
     "name": "stdout",
     "output_type": "stream",
     "text": [
      "\n",
      "\n",
      "MEDIDAS DE DESEMPEÑO DEL MODELO\n",
      "\n",
      "\n",
      "Exactitud - Accuracy: 0.936989\n",
      "ROC AUC: 0.936989\n",
      "------------------------------------------------------------\n",
      "Precisión por clase: [0.99860399 0.88892731]\n",
      "Sensibilidad - Recall por clase: [0.8752015 0.9987765]\n",
      "F1 por clase: [0.93283931 0.94065573]\n",
      "------------------------------------------------------------\n",
      "F1 Macro: 0.9367475213185168\n",
      "F1 Micro: 0.936989\n",
      "F1 Weighted: 0.9367475213185168\n",
      "------------------------------------------------------------\n",
      "Sensibilidad - Recall Macro: 0.936989\n",
      "Sensibilidad - Recall Micro: 0.936989\n",
      "Sensibilidad - Recall Weighted: 0.936989\n",
      "------------------------------------------------------------\n",
      "Precisión Macro: 0.9437656478573404\n",
      "Precisión Micro: 0.936989\n",
      "Precisión Weighted: 0.9437656478573405\n",
      "------------------------------------------------------------\n",
      "Verdaderos positivos - True Positives: 1997553\n",
      "Verdaderos negativos - True Negatives: 1750403\n",
      "Falsos positivos - False Positives: 249597\n",
      "Falsos negativos - False Negatives: 2447\n",
      "------------------------------------------------------------\n",
      "Error de clasificacion: 0.063\n",
      "Especificidad - Specificity: 0.999\n",
      "Tasa de falsos positivos FPR: 0.001\n",
      "------------------------------------------------------------\n",
      "              precision    recall  f1-score   support\n",
      "\n",
      "           0       1.00      0.88      0.93   2000000\n",
      "           1       0.89      1.00      0.94   2000000\n",
      "\n",
      "    accuracy                           0.94   4000000\n",
      "   macro avg       0.94      0.94      0.94   4000000\n",
      "weighted avg       0.94      0.94      0.94   4000000\n",
      "\n",
      "\n",
      "\n",
      "CURVA ROC\n"
     ]
    },
    {
     "data": {
      "image/png": "[encoded data removed]",
      "text/plain": [
       "<Figure size 360x360 with 1 Axes>"
      ]
     },
     "metadata": {},
     "output_type": "display_data"
    }
   ],
   "source": [
    "# prediccion con el modelo\n",
    "\n",
    "label_pred12 = modelo12.predict(data_test)\n",
    "\n",
    "model_evaluation(data_train, label_train, data_test, label_test, modelo12, label_pred12)"
   ]
  },
  {
   "cell_type": "markdown",
   "metadata": {},
   "source": [
    "## XGBoost Classifier disminuyendo la tasa de aprendizaje"
   ]
  },
  {
   "cell_type": "code",
   "execution_count": 75,
   "metadata": {},
   "outputs": [
    {
     "data": {
      "text/plain": [
       "XGBClassifier(base_score=0.5, booster='gbtree', colsample_bylevel=1,\n",
       "              colsample_bynode=1, colsample_bytree=1, gamma=0, gpu_id=-1,\n",
       "              importance_type='gain', interaction_constraints='',\n",
       "              learning_rate=0.001, max_delta_step=0, max_depth=2,\n",
       "              min_child_weight=1, missing=nan, monotone_constraints='()',\n",
       "              n_estimators=600, n_jobs=-1, nthread=-1, num_parallel_tree=1,\n",
       "              objective='binary:logistic', random_state=0, reg_alpha=0,\n",
       "              reg_lambda=1, scale_pos_weight=1, subsample=1,\n",
       "              tree_method='exact', validate_parameters=1, verbosity=None)"
      ]
     },
     "execution_count": 75,
     "metadata": {},
     "output_type": "execute_result"
    }
   ],
   "source": [
    "modelo13=XGBClassifier(nthread=-1, max_depth=2, n_estimators=600, learning_rate=0.001, subsample=1)\n",
    "modelo13.fit(data_train, label_train)"
   ]
  },
  {
   "cell_type": "code",
   "execution_count": 76,
   "metadata": {},
   "outputs": [
    {
     "name": "stdout",
     "output_type": "stream",
     "text": [
      "\n",
      "\n",
      "MATRIZ DE CONFUSION\n",
      "\n",
      "\n"
     ]
    },
    {
     "data": {
      "image/png": "[encoded data removed]",
      "text/plain": [
       "<Figure size 432x288 with 1 Axes>"
      ]
     },
     "metadata": {
      "needs_background": "light"
     },
     "output_type": "display_data"
    },
    {
     "name": "stdout",
     "output_type": "stream",
     "text": [
      "\n",
      "\n",
      "MEDIDAS DE DESEMPEÑO DEL MODELO\n",
      "\n",
      "\n",
      "Exactitud - Accuracy: 0.95473675\n",
      "ROC AUC: 0.9547367499999999\n",
      "------------------------------------------------------------\n",
      "Precisión por clase: [0.99810665 0.91831433]\n",
      "Sensibilidad - Recall por clase: [0.911202  0.9982715]\n",
      "F1 por clase: [0.95267653 0.95662507]\n",
      "------------------------------------------------------------\n",
      "F1 Macro: 0.9546508008211254\n",
      "F1 Micro: 0.95473675\n",
      "F1 Weighted: 0.9546508008211254\n",
      "------------------------------------------------------------\n",
      "Sensibilidad - Recall Macro: 0.9547367499999999\n",
      "Sensibilidad - Recall Micro: 0.95473675\n",
      "Sensibilidad - Recall Weighted: 0.95473675\n",
      "------------------------------------------------------------\n",
      "Precisión Macro: 0.958210488540472\n",
      "Precisión Micro: 0.95473675\n",
      "Precisión Weighted: 0.958210488540472\n",
      "------------------------------------------------------------\n",
      "Verdaderos positivos - True Positives: 1996543\n",
      "Verdaderos negativos - True Negatives: 1822404\n",
      "Falsos positivos - False Positives: 177596\n",
      "Falsos negativos - False Negatives: 3457\n",
      "------------------------------------------------------------\n",
      "Error de clasificacion: 0.045\n",
      "Especificidad - Specificity: 0.998\n",
      "Tasa de falsos positivos FPR: 0.002\n",
      "------------------------------------------------------------\n",
      "              precision    recall  f1-score   support\n",
      "\n",
      "           0       1.00      0.91      0.95   2000000\n",
      "           1       0.92      1.00      0.96   2000000\n",
      "\n",
      "    accuracy                           0.95   4000000\n",
      "   macro avg       0.96      0.95      0.95   4000000\n",
      "weighted avg       0.96      0.95      0.95   4000000\n",
      "\n",
      "\n",
      "\n",
      "CURVA ROC\n"
     ]
    },
    {
     "data": {
      "image/png": "[encoded data removed]",
      "text/plain": [
       "<Figure size 360x360 with 1 Axes>"
      ]
     },
     "metadata": {},
     "output_type": "display_data"
    }
   ],
   "source": [
    "# prediccion con el modelo\n",
    "\n",
    "label_pred13 = modelo13.predict(data_test)\n",
    "\n",
    "model_evaluation(data_train, label_train, data_test, label_test, modelo13, label_pred13)"
   ]
  },
  {
   "cell_type": "markdown",
   "metadata": {},
   "source": [
    "### plot learning curve"
   ]
  },
  {
   "cell_type": "code",
   "execution_count": 77,
   "metadata": {
    "collapsed": true,
    "jupyter": {
     "outputs_hidden": true
    }
   },
   "outputs": [
    {
     "name": "stdout",
     "output_type": "stream",
     "text": [
      "[0]\tvalidation_0-error:0.22421\tvalidation_0-logloss:0.69114\tvalidation_1-error:0.03849\tvalidation_1-logloss:0.69099\n",
      "[1]\tvalidation_0-error:0.22421\tvalidation_0-logloss:0.69078\tvalidation_1-error:0.03849\tvalidation_1-logloss:0.68979\n",
      "[2]\tvalidation_0-error:0.22421\tvalidation_0-logloss:0.69058\tvalidation_1-error:0.03849\tvalidation_1-logloss:0.68988\n",
      "[3]\tvalidation_0-error:0.22421\tvalidation_0-logloss:0.69045\tvalidation_1-error:0.03849\tvalidation_1-logloss:0.68962\n",
      "[4]\tvalidation_0-error:0.22421\tvalidation_0-logloss:0.68930\tvalidation_1-error:0.03849\tvalidation_1-logloss:0.68850\n",
      "[5]\tvalidation_0-error:0.22421\tvalidation_0-logloss:0.69053\tvalidation_1-error:0.03849\tvalidation_1-logloss:0.68846\n",
      "[6]\tvalidation_0-error:0.22421\tvalidation_0-logloss:0.69043\tvalidation_1-error:0.03849\tvalidation_1-logloss:0.68829\n",
      "[7]\tvalidation_0-error:0.22421\tvalidation_0-logloss:0.69038\tvalidation_1-error:0.03849\tvalidation_1-logloss:0.68802\n",
      "[8]\tvalidation_0-error:0.22421\tvalidation_0-logloss:0.69033\tvalidation_1-error:0.03849\tvalidation_1-logloss:0.68791\n",
      "[9]\tvalidation_0-error:0.22421\tvalidation_0-logloss:0.68969\tvalidation_1-error:0.03849\tvalidation_1-logloss:0.68650\n",
      "[10]\tvalidation_0-error:0.22421\tvalidation_0-logloss:0.68976\tvalidation_1-error:0.03849\tvalidation_1-logloss:0.68640\n",
      "[11]\tvalidation_0-error:0.22421\tvalidation_0-logloss:0.68928\tvalidation_1-error:0.03849\tvalidation_1-logloss:0.68601\n",
      "[12]\tvalidation_0-error:0.22421\tvalidation_0-logloss:0.68926\tvalidation_1-error:0.03849\tvalidation_1-logloss:0.68596\n",
      "[13]\tvalidation_0-error:0.22421\tvalidation_0-logloss:0.68921\tvalidation_1-error:0.03849\tvalidation_1-logloss:0.68585\n",
      "[14]\tvalidation_0-error:0.22421\tvalidation_0-logloss:0.68868\tvalidation_1-error:0.03849\tvalidation_1-logloss:0.68256\n",
      "[15]\tvalidation_0-error:0.22421\tvalidation_0-logloss:0.68861\tvalidation_1-error:0.03849\tvalidation_1-logloss:0.68244\n",
      "[16]\tvalidation_0-error:0.22421\tvalidation_0-logloss:0.68751\tvalidation_1-error:0.03849\tvalidation_1-logloss:0.68210\n",
      "[17]\tvalidation_0-error:0.22421\tvalidation_0-logloss:0.68741\tvalidation_1-error:0.03849\tvalidation_1-logloss:0.68197\n",
      "[18]\tvalidation_0-error:0.22421\tvalidation_0-logloss:0.68678\tvalidation_1-error:0.03849\tvalidation_1-logloss:0.68058\n",
      "[19]\tvalidation_0-error:0.22421\tvalidation_0-logloss:0.68687\tvalidation_1-error:0.03849\tvalidation_1-logloss:0.68048\n",
      "[20]\tvalidation_0-error:0.22421\tvalidation_0-logloss:0.68673\tvalidation_1-error:0.03849\tvalidation_1-logloss:0.68015\n",
      "[21]\tvalidation_0-error:0.22421\tvalidation_0-logloss:0.68642\tvalidation_1-error:0.03849\tvalidation_1-logloss:0.68013\n",
      "[22]\tvalidation_0-error:0.22421\tvalidation_0-logloss:0.68639\tvalidation_1-error:0.03849\tvalidation_1-logloss:0.68009\n",
      "[23]\tvalidation_0-error:0.22421\tvalidation_0-logloss:0.68520\tvalidation_1-error:0.03849\tvalidation_1-logloss:0.67895\n",
      "[24]\tvalidation_0-error:0.22421\tvalidation_0-logloss:0.68497\tvalidation_1-error:0.03849\tvalidation_1-logloss:0.67867\n",
      "[25]\tvalidation_0-error:0.22421\tvalidation_0-logloss:0.68491\tvalidation_1-error:0.03849\tvalidation_1-logloss:0.67854\n",
      "[26]\tvalidation_0-error:0.22421\tvalidation_0-logloss:0.68456\tvalidation_1-error:0.03849\tvalidation_1-logloss:0.67734\n",
      "[27]\tvalidation_0-error:0.22421\tvalidation_0-logloss:0.68452\tvalidation_1-error:0.03849\tvalidation_1-logloss:0.67721\n",
      "[28]\tvalidation_0-error:0.22421\tvalidation_0-logloss:0.68409\tvalidation_1-error:0.03849\tvalidation_1-logloss:0.67664\n",
      "[29]\tvalidation_0-error:0.22421\tvalidation_0-logloss:0.68416\tvalidation_1-error:0.03849\tvalidation_1-logloss:0.67653\n",
      "[30]\tvalidation_0-error:0.22421\tvalidation_0-logloss:0.68323\tvalidation_1-error:0.03849\tvalidation_1-logloss:0.67332\n",
      "[31]\tvalidation_0-error:0.22421\tvalidation_0-logloss:0.68274\tvalidation_1-error:0.03849\tvalidation_1-logloss:0.67314\n",
      "[32]\tvalidation_0-error:0.22421\tvalidation_0-logloss:0.68278\tvalidation_1-error:0.03849\tvalidation_1-logloss:0.67316\n",
      "[33]\tvalidation_0-error:0.22421\tvalidation_0-logloss:0.67950\tvalidation_1-error:0.03849\tvalidation_1-logloss:0.66983\n",
      "[34]\tvalidation_0-error:0.22421\tvalidation_0-logloss:0.67992\tvalidation_1-error:0.03849\tvalidation_1-logloss:0.66975\n",
      "[35]\tvalidation_0-error:0.22421\tvalidation_0-logloss:0.67961\tvalidation_1-error:0.03849\tvalidation_1-logloss:0.66860\n",
      "[36]\tvalidation_0-error:0.22421\tvalidation_0-logloss:0.67857\tvalidation_1-error:0.03849\tvalidation_1-logloss:0.66843\n",
      "[37]\tvalidation_0-error:0.22421\tvalidation_0-logloss:0.67844\tvalidation_1-error:0.03849\tvalidation_1-logloss:0.66807\n",
      "[38]\tvalidation_0-error:0.22421\tvalidation_0-logloss:0.67808\tvalidation_1-error:0.03849\tvalidation_1-logloss:0.66774\n",
      "[39]\tvalidation_0-error:0.22421\tvalidation_0-logloss:0.67819\tvalidation_1-error:0.03849\tvalidation_1-logloss:0.66774\n",
      "[40]\tvalidation_0-error:0.22421\tvalidation_0-logloss:0.67821\tvalidation_1-error:0.03849\tvalidation_1-logloss:0.66776\n",
      "[41]\tvalidation_0-error:0.22421\tvalidation_0-logloss:0.67777\tvalidation_1-error:0.03849\tvalidation_1-logloss:0.66737\n",
      "[42]\tvalidation_0-error:0.22421\tvalidation_0-logloss:0.67771\tvalidation_1-error:0.03849\tvalidation_1-logloss:0.66725\n",
      "[43]\tvalidation_0-error:0.22421\tvalidation_0-logloss:0.67624\tvalidation_1-error:0.03849\tvalidation_1-logloss:0.66500\n",
      "[44]\tvalidation_0-error:0.22421\tvalidation_0-logloss:0.67744\tvalidation_1-error:0.03849\tvalidation_1-logloss:0.66490\n",
      "[45]\tvalidation_0-error:0.22421\tvalidation_0-logloss:0.67741\tvalidation_1-error:0.03849\tvalidation_1-logloss:0.66489\n",
      "[46]\tvalidation_0-error:0.22421\tvalidation_0-logloss:0.67729\tvalidation_1-error:0.03849\tvalidation_1-logloss:0.66450\n",
      "[47]\tvalidation_0-error:0.22421\tvalidation_0-logloss:0.67717\tvalidation_1-error:0.03849\tvalidation_1-logloss:0.66438\n",
      "[48]\tvalidation_0-error:0.22421\tvalidation_0-logloss:0.67629\tvalidation_1-error:0.03849\tvalidation_1-logloss:0.66130\n",
      "[49]\tvalidation_0-error:0.22324\tvalidation_0-logloss:0.67601\tvalidation_1-error:0.03962\tvalidation_1-logloss:0.66092\n",
      "[50]\tvalidation_0-error:0.22421\tvalidation_0-logloss:0.67589\tvalidation_1-error:0.03849\tvalidation_1-logloss:0.66062\n",
      "[51]\tvalidation_0-error:0.22324\tvalidation_0-logloss:0.67549\tvalidation_1-error:0.03962\tvalidation_1-logloss:0.66045\n",
      "[52]\tvalidation_0-error:0.22324\tvalidation_0-logloss:0.67516\tvalidation_1-error:0.03962\tvalidation_1-logloss:0.65923\n",
      "[53]\tvalidation_0-error:0.22324\tvalidation_0-logloss:0.67513\tvalidation_1-error:0.03962\tvalidation_1-logloss:0.65913\n",
      "[54]\tvalidation_0-error:0.22324\tvalidation_0-logloss:0.67529\tvalidation_1-error:0.03962\tvalidation_1-logloss:0.65887\n",
      "[55]\tvalidation_0-error:0.22324\tvalidation_0-logloss:0.67526\tvalidation_1-error:0.03962\tvalidation_1-logloss:0.65882\n",
      "[56]\tvalidation_0-error:0.22324\tvalidation_0-logloss:0.67421\tvalidation_1-error:0.03962\tvalidation_1-logloss:0.65863\n",
      "[57]\tvalidation_0-error:0.22324\tvalidation_0-logloss:0.67419\tvalidation_1-error:0.03962\tvalidation_1-logloss:0.65860\n",
      "[58]\tvalidation_0-error:0.22324\tvalidation_0-logloss:0.67424\tvalidation_1-error:0.03962\tvalidation_1-logloss:0.65849\n",
      "[59]\tvalidation_0-error:0.22324\tvalidation_0-logloss:0.67389\tvalidation_1-error:0.03962\tvalidation_1-logloss:0.65804\n",
      "[60]\tvalidation_0-error:0.22324\tvalidation_0-logloss:0.67383\tvalidation_1-error:0.03962\tvalidation_1-logloss:0.65793\n",
      "[61]\tvalidation_0-error:0.22324\tvalidation_0-logloss:0.67354\tvalidation_1-error:0.03962\tvalidation_1-logloss:0.65670\n",
      "[62]\tvalidation_0-error:0.22324\tvalidation_0-logloss:0.67313\tvalidation_1-error:0.03962\tvalidation_1-logloss:0.65659\n",
      "[63]\tvalidation_0-error:0.22324\tvalidation_0-logloss:0.67300\tvalidation_1-error:0.03962\tvalidation_1-logloss:0.65624\n",
      "[64]\tvalidation_0-error:0.22324\tvalidation_0-logloss:0.67185\tvalidation_1-error:0.03962\tvalidation_1-logloss:0.65519\n",
      "[65]\tvalidation_0-error:0.22324\tvalidation_0-logloss:0.67178\tvalidation_1-error:0.03962\tvalidation_1-logloss:0.65507\n",
      "[66]\tvalidation_0-error:0.22267\tvalidation_0-logloss:0.67093\tvalidation_1-error:0.04136\tvalidation_1-logloss:0.65213\n",
      "[67]\tvalidation_0-error:0.22267\tvalidation_0-logloss:0.67082\tvalidation_1-error:0.04136\tvalidation_1-logloss:0.65195\n",
      "[68]\tvalidation_0-error:0.22267\tvalidation_0-logloss:0.67082\tvalidation_1-error:0.04136\tvalidation_1-logloss:0.65162\n",
      "[69]\tvalidation_0-error:0.22267\tvalidation_0-logloss:0.67052\tvalidation_1-error:0.04136\tvalidation_1-logloss:0.65126\n",
      "[70]\tvalidation_0-error:0.22267\tvalidation_0-logloss:0.67011\tvalidation_1-error:0.04136\tvalidation_1-logloss:0.65002\n",
      "[71]\tvalidation_0-error:0.22267\tvalidation_0-logloss:0.67010\tvalidation_1-error:0.04136\tvalidation_1-logloss:0.64991\n",
      "[72]\tvalidation_0-error:0.22267\tvalidation_0-logloss:0.66969\tvalidation_1-error:0.04136\tvalidation_1-logloss:0.64981\n",
      "[73]\tvalidation_0-error:0.22267\tvalidation_0-logloss:0.67006\tvalidation_1-error:0.04136\tvalidation_1-logloss:0.64950\n",
      "[74]\tvalidation_0-error:0.22267\tvalidation_0-logloss:0.66699\tvalidation_1-error:0.04136\tvalidation_1-logloss:0.64647\n",
      "[75]\tvalidation_0-error:0.22267\tvalidation_0-logloss:0.66689\tvalidation_1-error:0.04136\tvalidation_1-logloss:0.64645\n",
      "[76]\tvalidation_0-error:0.22267\tvalidation_0-logloss:0.66685\tvalidation_1-error:0.04136\tvalidation_1-logloss:0.64634\n",
      "[77]\tvalidation_0-error:0.22267\tvalidation_0-logloss:0.66670\tvalidation_1-error:0.04136\tvalidation_1-logloss:0.64592\n",
      "[78]\tvalidation_0-error:0.22267\tvalidation_0-logloss:0.66591\tvalidation_1-error:0.04136\tvalidation_1-logloss:0.64594\n",
      "[79]\tvalidation_0-error:0.22267\tvalidation_0-logloss:0.66584\tvalidation_1-error:0.04136\tvalidation_1-logloss:0.64591\n",
      "[80]\tvalidation_0-error:0.22267\tvalidation_0-logloss:0.66518\tvalidation_1-error:0.04136\tvalidation_1-logloss:0.64438\n",
      "[81]\tvalidation_0-error:0.22267\tvalidation_0-logloss:0.66516\tvalidation_1-error:0.04136\tvalidation_1-logloss:0.64426\n",
      "[82]\tvalidation_0-error:0.22267\tvalidation_0-logloss:0.66501\tvalidation_1-error:0.04136\tvalidation_1-logloss:0.64389\n",
      "[83]\tvalidation_0-error:0.22267\tvalidation_0-logloss:0.66585\tvalidation_1-error:0.04136\tvalidation_1-logloss:0.64381\n",
      "[84]\tvalidation_0-error:0.22267\tvalidation_0-logloss:0.66497\tvalidation_1-error:0.04136\tvalidation_1-logloss:0.64097\n",
      "[85]\tvalidation_0-error:0.22267\tvalidation_0-logloss:0.66385\tvalidation_1-error:0.04136\tvalidation_1-logloss:0.63989\n",
      "[86]\tvalidation_0-error:0.22267\tvalidation_0-logloss:0.66376\tvalidation_1-error:0.04136\tvalidation_1-logloss:0.63977\n",
      "[87]\tvalidation_0-error:0.22267\tvalidation_0-logloss:0.66351\tvalidation_1-error:0.04136\tvalidation_1-logloss:0.63943\n",
      "[88]\tvalidation_0-error:0.22267\tvalidation_0-logloss:0.66352\tvalidation_1-error:0.04136\tvalidation_1-logloss:0.63925\n",
      "[89]\tvalidation_0-error:0.22267\tvalidation_0-logloss:0.66320\tvalidation_1-error:0.04136\tvalidation_1-logloss:0.63799\n",
      "[90]\tvalidation_0-error:0.22267\tvalidation_0-logloss:0.66288\tvalidation_1-error:0.04136\tvalidation_1-logloss:0.63762\n",
      "[91]\tvalidation_0-error:0.22267\tvalidation_0-logloss:0.66272\tvalidation_1-error:0.04136\tvalidation_1-logloss:0.63727\n",
      "[92]\tvalidation_0-error:0.22267\tvalidation_0-logloss:0.66272\tvalidation_1-error:0.04136\tvalidation_1-logloss:0.63729\n",
      "[93]\tvalidation_0-error:0.22267\tvalidation_0-logloss:0.66306\tvalidation_1-error:0.04136\tvalidation_1-logloss:0.63716\n",
      "[94]\tvalidation_0-error:0.22267\tvalidation_0-logloss:0.66272\tvalidation_1-error:0.04136\tvalidation_1-logloss:0.63712\n",
      "[95]\tvalidation_0-error:0.22267\tvalidation_0-logloss:0.66269\tvalidation_1-error:0.04136\tvalidation_1-logloss:0.63701\n",
      "[96]\tvalidation_0-error:0.22267\tvalidation_0-logloss:0.66257\tvalidation_1-error:0.04136\tvalidation_1-logloss:0.63667\n",
      "[97]\tvalidation_0-error:0.22267\tvalidation_0-logloss:0.66252\tvalidation_1-error:0.04136\tvalidation_1-logloss:0.63676\n",
      "[98]\tvalidation_0-error:0.22267\tvalidation_0-logloss:0.66251\tvalidation_1-error:0.04136\tvalidation_1-logloss:0.63657\n",
      "[99]\tvalidation_0-error:0.22267\tvalidation_0-logloss:0.66221\tvalidation_1-error:0.04136\tvalidation_1-logloss:0.63530\n",
      "[100]\tvalidation_0-error:0.22267\tvalidation_0-logloss:0.66125\tvalidation_1-error:0.04136\tvalidation_1-logloss:0.63519\n",
      "[101]\tvalidation_0-error:0.22267\tvalidation_0-logloss:0.66090\tvalidation_1-error:0.04136\tvalidation_1-logloss:0.63458\n",
      "[102]\tvalidation_0-error:0.22267\tvalidation_0-logloss:0.66087\tvalidation_1-error:0.04136\tvalidation_1-logloss:0.63448\n",
      "[103]\tvalidation_0-error:0.22267\tvalidation_0-logloss:0.66077\tvalidation_1-error:0.04136\tvalidation_1-logloss:0.63445\n",
      "[104]\tvalidation_0-error:0.22267\tvalidation_0-logloss:0.65985\tvalidation_1-error:0.04136\tvalidation_1-logloss:0.63166\n",
      "[105]\tvalidation_0-error:0.22267\tvalidation_0-logloss:0.65947\tvalidation_1-error:0.04136\tvalidation_1-logloss:0.63156\n",
      "[106]\tvalidation_0-error:0.22267\tvalidation_0-logloss:0.65940\tvalidation_1-error:0.04136\tvalidation_1-logloss:0.63121\n",
      "[107]\tvalidation_0-error:0.22267\tvalidation_0-logloss:0.65824\tvalidation_1-error:0.04136\tvalidation_1-logloss:0.63002\n",
      "[108]\tvalidation_0-error:0.22267\tvalidation_0-logloss:0.65823\tvalidation_1-error:0.04136\tvalidation_1-logloss:0.62997\n",
      "[109]\tvalidation_0-error:0.22267\tvalidation_0-logloss:0.65785\tvalidation_1-error:0.04136\tvalidation_1-logloss:0.62861\n",
      "[110]\tvalidation_0-error:0.22267\tvalidation_0-logloss:0.65779\tvalidation_1-error:0.04136\tvalidation_1-logloss:0.62853\n",
      "[111]\tvalidation_0-error:0.22267\tvalidation_0-logloss:0.65771\tvalidation_1-error:0.04136\tvalidation_1-logloss:0.62816\n",
      "[112]\tvalidation_0-error:0.22267\tvalidation_0-logloss:0.65741\tvalidation_1-error:0.04136\tvalidation_1-logloss:0.62782\n",
      "[113]\tvalidation_0-error:0.22267\tvalidation_0-logloss:0.65782\tvalidation_1-error:0.04136\tvalidation_1-logloss:0.62779\n",
      "[114]\tvalidation_0-error:0.22267\tvalidation_0-logloss:0.65769\tvalidation_1-error:0.04136\tvalidation_1-logloss:0.62777\n",
      "[115]\tvalidation_0-error:0.22267\tvalidation_0-logloss:0.65758\tvalidation_1-error:0.04136\tvalidation_1-logloss:0.62761\n",
      "[116]\tvalidation_0-error:0.22267\tvalidation_0-logloss:0.65757\tvalidation_1-error:0.04136\tvalidation_1-logloss:0.62739\n",
      "[117]\tvalidation_0-error:0.22267\tvalidation_0-logloss:0.65722\tvalidation_1-error:0.04136\tvalidation_1-logloss:0.62727\n",
      "[118]\tvalidation_0-error:0.22267\tvalidation_0-logloss:0.65436\tvalidation_1-error:0.04136\tvalidation_1-logloss:0.62441\n",
      "[119]\tvalidation_0-error:0.22267\tvalidation_0-logloss:0.65405\tvalidation_1-error:0.04136\tvalidation_1-logloss:0.62307\n",
      "[120]\tvalidation_0-error:0.22267\tvalidation_0-logloss:0.65387\tvalidation_1-error:0.04136\tvalidation_1-logloss:0.62288\n",
      "[121]\tvalidation_0-error:0.22267\tvalidation_0-logloss:0.65381\tvalidation_1-error:0.04136\tvalidation_1-logloss:0.62257\n",
      "[122]\tvalidation_0-error:0.22267\tvalidation_0-logloss:0.65286\tvalidation_1-error:0.04136\tvalidation_1-logloss:0.62244\n",
      "[123]\tvalidation_0-error:0.22267\tvalidation_0-logloss:0.65361\tvalidation_1-error:0.04136\tvalidation_1-logloss:0.62214\n",
      "[124]\tvalidation_0-error:0.22267\tvalidation_0-logloss:0.65281\tvalidation_1-error:0.04136\tvalidation_1-logloss:0.61960\n",
      "[125]\tvalidation_0-error:0.22267\tvalidation_0-logloss:0.65268\tvalidation_1-error:0.04136\tvalidation_1-logloss:0.61950\n",
      "[126]\tvalidation_0-error:0.22267\tvalidation_0-logloss:0.65256\tvalidation_1-error:0.04136\tvalidation_1-logloss:0.61907\n",
      "[127]\tvalidation_0-error:0.22267\tvalidation_0-logloss:0.65246\tvalidation_1-error:0.04136\tvalidation_1-logloss:0.61895\n",
      "[128]\tvalidation_0-error:0.22267\tvalidation_0-logloss:0.65212\tvalidation_1-error:0.04136\tvalidation_1-logloss:0.61891\n",
      "[129]\tvalidation_0-error:0.22267\tvalidation_0-logloss:0.65082\tvalidation_1-error:0.04136\tvalidation_1-logloss:0.61653\n",
      "[130]\tvalidation_0-error:0.22166\tvalidation_0-logloss:0.65075\tvalidation_1-error:0.04272\tvalidation_1-logloss:0.61641\n",
      "[131]\tvalidation_0-error:0.22166\tvalidation_0-logloss:0.65064\tvalidation_1-error:0.04272\tvalidation_1-logloss:0.61612\n",
      "[132]\tvalidation_0-error:0.22166\tvalidation_0-logloss:0.65052\tvalidation_1-error:0.04272\tvalidation_1-logloss:0.61602\n",
      "[133]\tvalidation_0-error:0.22166\tvalidation_0-logloss:0.65046\tvalidation_1-error:0.04272\tvalidation_1-logloss:0.61591\n",
      "[134]\tvalidation_0-error:0.22166\tvalidation_0-logloss:0.65060\tvalidation_1-error:0.04272\tvalidation_1-logloss:0.61563\n",
      "[135]\tvalidation_0-error:0.22166\tvalidation_0-logloss:0.65058\tvalidation_1-error:0.04272\tvalidation_1-logloss:0.61552\n",
      "[136]\tvalidation_0-error:0.22166\tvalidation_0-logloss:0.65053\tvalidation_1-error:0.04272\tvalidation_1-logloss:0.61526\n",
      "[137]\tvalidation_0-error:0.22166\tvalidation_0-logloss:0.65037\tvalidation_1-error:0.04272\tvalidation_1-logloss:0.61516\n",
      "[138]\tvalidation_0-error:0.22166\tvalidation_0-logloss:0.65031\tvalidation_1-error:0.04272\tvalidation_1-logloss:0.61506\n",
      "[139]\tvalidation_0-error:0.22166\tvalidation_0-logloss:0.65009\tvalidation_1-error:0.04272\tvalidation_1-logloss:0.61369\n",
      "[140]\tvalidation_0-error:0.22166\tvalidation_0-logloss:0.64976\tvalidation_1-error:0.04272\tvalidation_1-logloss:0.61359\n",
      "[141]\tvalidation_0-error:0.22166\tvalidation_0-logloss:0.64977\tvalidation_1-error:0.04272\tvalidation_1-logloss:0.61357\n",
      "[142]\tvalidation_0-error:0.22166\tvalidation_0-logloss:0.64964\tvalidation_1-error:0.04272\tvalidation_1-logloss:0.61318\n",
      "[143]\tvalidation_0-error:0.22166\tvalidation_0-logloss:0.64946\tvalidation_1-error:0.04272\tvalidation_1-logloss:0.61304\n",
      "[144]\tvalidation_0-error:0.22166\tvalidation_0-logloss:0.64863\tvalidation_1-error:0.04272\tvalidation_1-logloss:0.61057\n",
      "[145]\tvalidation_0-error:0.22166\tvalidation_0-logloss:0.64858\tvalidation_1-error:0.04272\tvalidation_1-logloss:0.61053\n",
      "[146]\tvalidation_0-error:0.22166\tvalidation_0-logloss:0.64741\tvalidation_1-error:0.04272\tvalidation_1-logloss:0.61014\n",
      "[147]\tvalidation_0-error:0.22166\tvalidation_0-logloss:0.64730\tvalidation_1-error:0.04272\tvalidation_1-logloss:0.60979\n",
      "[148]\tvalidation_0-error:0.22166\tvalidation_0-logloss:0.64728\tvalidation_1-error:0.04272\tvalidation_1-logloss:0.60969\n",
      "[149]\tvalidation_0-error:0.22166\tvalidation_0-logloss:0.64723\tvalidation_1-error:0.04272\tvalidation_1-logloss:0.60960\n",
      "[150]\tvalidation_0-error:0.22166\tvalidation_0-logloss:0.64686\tvalidation_1-error:0.04272\tvalidation_1-logloss:0.60824\n",
      "[151]\tvalidation_0-error:0.22166\tvalidation_0-logloss:0.64681\tvalidation_1-error:0.04272\tvalidation_1-logloss:0.60814\n",
      "[152]\tvalidation_0-error:0.22166\tvalidation_0-logloss:0.64530\tvalidation_1-error:0.04272\tvalidation_1-logloss:0.60669\n",
      "[153]\tvalidation_0-error:0.22166\tvalidation_0-logloss:0.64528\tvalidation_1-error:0.04272\tvalidation_1-logloss:0.60664\n",
      "[154]\tvalidation_0-error:0.22166\tvalidation_0-logloss:0.64566\tvalidation_1-error:0.04272\tvalidation_1-logloss:0.60654\n",
      "[155]\tvalidation_0-error:0.22166\tvalidation_0-logloss:0.64560\tvalidation_1-error:0.04272\tvalidation_1-logloss:0.60662\n",
      "[156]\tvalidation_0-error:0.22166\tvalidation_0-logloss:0.64555\tvalidation_1-error:0.04272\tvalidation_1-logloss:0.60648\n",
      "[157]\tvalidation_0-error:0.22166\tvalidation_0-logloss:0.64553\tvalidation_1-error:0.04272\tvalidation_1-logloss:0.60647\n",
      "[158]\tvalidation_0-error:0.22166\tvalidation_0-logloss:0.64516\tvalidation_1-error:0.04272\tvalidation_1-logloss:0.60584\n",
      "[159]\tvalidation_0-error:0.22166\tvalidation_0-logloss:0.64511\tvalidation_1-error:0.04272\tvalidation_1-logloss:0.60570\n",
      "[160]\tvalidation_0-error:0.22166\tvalidation_0-logloss:0.64473\tvalidation_1-error:0.04272\tvalidation_1-logloss:0.60426\n",
      "[161]\tvalidation_0-error:0.22166\tvalidation_0-logloss:0.64465\tvalidation_1-error:0.04272\tvalidation_1-logloss:0.60423\n",
      "[162]\tvalidation_0-error:0.22166\tvalidation_0-logloss:0.64460\tvalidation_1-error:0.04272\tvalidation_1-logloss:0.60410\n",
      "[163]\tvalidation_0-error:0.22166\tvalidation_0-logloss:0.64173\tvalidation_1-error:0.04272\tvalidation_1-logloss:0.60103\n",
      "[164]\tvalidation_0-error:0.22166\tvalidation_0-logloss:0.64168\tvalidation_1-error:0.04272\tvalidation_1-logloss:0.60093\n",
      "[165]\tvalidation_0-error:0.22166\tvalidation_0-logloss:0.64241\tvalidation_1-error:0.04272\tvalidation_1-logloss:0.60086\n",
      "[166]\tvalidation_0-error:0.22166\tvalidation_0-logloss:0.64155\tvalidation_1-error:0.04272\tvalidation_1-logloss:0.59852\n",
      "[167]\tvalidation_0-error:0.22166\tvalidation_0-logloss:0.64156\tvalidation_1-error:0.04272\tvalidation_1-logloss:0.59843\n",
      "[168]\tvalidation_0-error:0.22166\tvalidation_0-logloss:0.64135\tvalidation_1-error:0.04272\tvalidation_1-logloss:0.59804\n",
      "[169]\tvalidation_0-error:0.22166\tvalidation_0-logloss:0.64101\tvalidation_1-error:0.04272\tvalidation_1-logloss:0.59777\n",
      "[170]\tvalidation_0-error:0.22166\tvalidation_0-logloss:0.64107\tvalidation_1-error:0.04272\tvalidation_1-logloss:0.59767\n",
      "[171]\tvalidation_0-error:0.22166\tvalidation_0-logloss:0.63991\tvalidation_1-error:0.04272\tvalidation_1-logloss:0.59624\n",
      "[172]\tvalidation_0-error:0.22166\tvalidation_0-logloss:0.63981\tvalidation_1-error:0.04272\tvalidation_1-logloss:0.59614\n",
      "[173]\tvalidation_0-error:0.22166\tvalidation_0-logloss:0.63978\tvalidation_1-error:0.04272\tvalidation_1-logloss:0.59604\n",
      "[174]\tvalidation_0-error:0.22166\tvalidation_0-logloss:0.63964\tvalidation_1-error:0.04272\tvalidation_1-logloss:0.59577\n",
      "[175]\tvalidation_0-error:0.22166\tvalidation_0-logloss:0.63893\tvalidation_1-error:0.04272\tvalidation_1-logloss:0.59458\n",
      "[176]\tvalidation_0-error:0.22166\tvalidation_0-logloss:0.63890\tvalidation_1-error:0.04272\tvalidation_1-logloss:0.59455\n",
      "[177]\tvalidation_0-error:0.22166\tvalidation_0-logloss:0.63855\tvalidation_1-error:0.04272\tvalidation_1-logloss:0.59452\n",
      "[178]\tvalidation_0-error:0.22166\tvalidation_0-logloss:0.63846\tvalidation_1-error:0.04272\tvalidation_1-logloss:0.59434\n",
      "[179]\tvalidation_0-error:0.22166\tvalidation_0-logloss:0.63846\tvalidation_1-error:0.04272\tvalidation_1-logloss:0.59434\n",
      "[180]\tvalidation_0-error:0.22166\tvalidation_0-logloss:0.63839\tvalidation_1-error:0.04272\tvalidation_1-logloss:0.59398\n",
      "[181]\tvalidation_0-error:0.22166\tvalidation_0-logloss:0.63808\tvalidation_1-error:0.04272\tvalidation_1-logloss:0.59360\n",
      "[182]\tvalidation_0-error:0.22166\tvalidation_0-logloss:0.63775\tvalidation_1-error:0.04272\tvalidation_1-logloss:0.59218\n",
      "[183]\tvalidation_0-error:0.22166\tvalidation_0-logloss:0.63774\tvalidation_1-error:0.04272\tvalidation_1-logloss:0.59212\n",
      "[184]\tvalidation_0-error:0.22166\tvalidation_0-logloss:0.63764\tvalidation_1-error:0.04272\tvalidation_1-logloss:0.59197\n",
      "[185]\tvalidation_0-error:0.22166\tvalidation_0-logloss:0.63753\tvalidation_1-error:0.04272\tvalidation_1-logloss:0.59157\n",
      "[186]\tvalidation_0-error:0.22166\tvalidation_0-logloss:0.63749\tvalidation_1-error:0.04272\tvalidation_1-logloss:0.59153\n",
      "[187]\tvalidation_0-error:0.22166\tvalidation_0-logloss:0.63739\tvalidation_1-error:0.04272\tvalidation_1-logloss:0.59141\n",
      "[188]\tvalidation_0-error:0.22166\tvalidation_0-logloss:0.63663\tvalidation_1-error:0.04272\tvalidation_1-logloss:0.58934\n",
      "[189]\tvalidation_0-error:0.22166\tvalidation_0-logloss:0.63660\tvalidation_1-error:0.04272\tvalidation_1-logloss:0.58932\n",
      "[190]\tvalidation_0-error:0.22166\tvalidation_0-logloss:0.63615\tvalidation_1-error:0.04272\tvalidation_1-logloss:0.58913\n",
      "[191]\tvalidation_0-error:0.22166\tvalidation_0-logloss:0.63617\tvalidation_1-error:0.04272\tvalidation_1-logloss:0.58878\n",
      "[192]\tvalidation_0-error:0.22166\tvalidation_0-logloss:0.63610\tvalidation_1-error:0.04272\tvalidation_1-logloss:0.58865\n",
      "[193]\tvalidation_0-error:0.22166\tvalidation_0-logloss:0.63575\tvalidation_1-error:0.04272\tvalidation_1-logloss:0.58833\n",
      "[194]\tvalidation_0-error:0.22166\tvalidation_0-logloss:0.63548\tvalidation_1-error:0.04272\tvalidation_1-logloss:0.58703\n",
      "[195]\tvalidation_0-error:0.22166\tvalidation_0-logloss:0.63542\tvalidation_1-error:0.04272\tvalidation_1-logloss:0.58689\n",
      "[196]\tvalidation_0-error:0.22166\tvalidation_0-logloss:0.63578\tvalidation_1-error:0.04272\tvalidation_1-logloss:0.58681\n",
      "[197]\tvalidation_0-error:0.22166\tvalidation_0-logloss:0.63487\tvalidation_1-error:0.04272\tvalidation_1-logloss:0.58642\n",
      "[198]\tvalidation_0-error:0.22166\tvalidation_0-logloss:0.63480\tvalidation_1-error:0.04272\tvalidation_1-logloss:0.58632\n",
      "[199]\tvalidation_0-error:0.22166\tvalidation_0-logloss:0.63357\tvalidation_1-error:0.04272\tvalidation_1-logloss:0.58522\n",
      "[200]\tvalidation_0-error:0.22166\tvalidation_0-logloss:0.63347\tvalidation_1-error:0.04272\tvalidation_1-logloss:0.58518\n",
      "[201]\tvalidation_0-error:0.22166\tvalidation_0-logloss:0.63352\tvalidation_1-error:0.04272\tvalidation_1-logloss:0.58507\n",
      "[202]\tvalidation_0-error:0.22166\tvalidation_0-logloss:0.63350\tvalidation_1-error:0.04272\tvalidation_1-logloss:0.58504\n",
      "[203]\tvalidation_0-error:0.22166\tvalidation_0-logloss:0.63301\tvalidation_1-error:0.04272\tvalidation_1-logloss:0.58457\n",
      "[204]\tvalidation_0-error:0.22166\tvalidation_0-logloss:0.63298\tvalidation_1-error:0.04272\tvalidation_1-logloss:0.58444\n",
      "[205]\tvalidation_0-error:0.22166\tvalidation_0-logloss:0.63265\tvalidation_1-error:0.04272\tvalidation_1-logloss:0.58295\n",
      "[206]\tvalidation_0-error:0.22166\tvalidation_0-logloss:0.63225\tvalidation_1-error:0.04272\tvalidation_1-logloss:0.58264\n",
      "[207]\tvalidation_0-error:0.22166\tvalidation_0-logloss:0.63328\tvalidation_1-error:0.04272\tvalidation_1-logloss:0.58254\n",
      "[208]\tvalidation_0-error:0.22166\tvalidation_0-logloss:0.63319\tvalidation_1-error:0.04272\tvalidation_1-logloss:0.58218\n",
      "[209]\tvalidation_0-error:0.22166\tvalidation_0-logloss:0.63309\tvalidation_1-error:0.04272\tvalidation_1-logloss:0.58207\n",
      "[210]\tvalidation_0-error:0.22166\tvalidation_0-logloss:0.63304\tvalidation_1-error:0.04272\tvalidation_1-logloss:0.58195\n",
      "[211]\tvalidation_0-error:0.22166\tvalidation_0-logloss:0.63226\tvalidation_1-error:0.04272\tvalidation_1-logloss:0.57998\n",
      "[212]\tvalidation_0-error:0.22166\tvalidation_0-logloss:0.62965\tvalidation_1-error:0.04272\tvalidation_1-logloss:0.57734\n",
      "[213]\tvalidation_0-error:0.22166\tvalidation_0-logloss:0.62960\tvalidation_1-error:0.04272\tvalidation_1-logloss:0.57731\n",
      "[214]\tvalidation_0-error:0.22166\tvalidation_0-logloss:0.62950\tvalidation_1-error:0.04272\tvalidation_1-logloss:0.57696\n",
      "[215]\tvalidation_0-error:0.22166\tvalidation_0-logloss:0.62942\tvalidation_1-error:0.04272\tvalidation_1-logloss:0.57684\n",
      "[216]\tvalidation_0-error:0.22166\tvalidation_0-logloss:0.62906\tvalidation_1-error:0.04272\tvalidation_1-logloss:0.57671\n",
      "[217]\tvalidation_0-error:0.22166\tvalidation_0-logloss:0.62917\tvalidation_1-error:0.04272\tvalidation_1-logloss:0.57522\n",
      "[218]\tvalidation_0-error:0.22166\tvalidation_0-logloss:0.62887\tvalidation_1-error:0.04272\tvalidation_1-logloss:0.57496\n",
      "[219]\tvalidation_0-error:0.22166\tvalidation_0-logloss:0.62883\tvalidation_1-error:0.04272\tvalidation_1-logloss:0.57485\n",
      "[220]\tvalidation_0-error:0.22166\tvalidation_0-logloss:0.62868\tvalidation_1-error:0.04272\tvalidation_1-logloss:0.57445\n",
      "[221]\tvalidation_0-error:0.22166\tvalidation_0-logloss:0.62860\tvalidation_1-error:0.04272\tvalidation_1-logloss:0.57435\n",
      "[222]\tvalidation_0-error:0.22166\tvalidation_0-logloss:0.62857\tvalidation_1-error:0.04272\tvalidation_1-logloss:0.57429\n",
      "[223]\tvalidation_0-error:0.22166\tvalidation_0-logloss:0.62783\tvalidation_1-error:0.04272\tvalidation_1-logloss:0.57426\n",
      "[224]\tvalidation_0-error:0.22166\tvalidation_0-logloss:0.62669\tvalidation_1-error:0.04272\tvalidation_1-logloss:0.57314\n",
      "[225]\tvalidation_0-error:0.22166\tvalidation_0-logloss:0.62663\tvalidation_1-error:0.04272\tvalidation_1-logloss:0.57302\n",
      "[226]\tvalidation_0-error:0.22166\tvalidation_0-logloss:0.62653\tvalidation_1-error:0.04272\tvalidation_1-logloss:0.57263\n",
      "[227]\tvalidation_0-error:0.22166\tvalidation_0-logloss:0.62636\tvalidation_1-error:0.04272\tvalidation_1-logloss:0.57252\n",
      "[228]\tvalidation_0-error:0.22166\tvalidation_0-logloss:0.62634\tvalidation_1-error:0.04272\tvalidation_1-logloss:0.57244\n",
      "[229]\tvalidation_0-error:0.22166\tvalidation_0-logloss:0.62600\tvalidation_1-error:0.04272\tvalidation_1-logloss:0.57092\n",
      "[230]\tvalidation_0-error:0.22166\tvalidation_0-logloss:0.62560\tvalidation_1-error:0.04272\tvalidation_1-logloss:0.57088\n",
      "[231]\tvalidation_0-error:0.22166\tvalidation_0-logloss:0.62533\tvalidation_1-error:0.04272\tvalidation_1-logloss:0.57050\n",
      "[232]\tvalidation_0-error:0.22166\tvalidation_0-logloss:0.62520\tvalidation_1-error:0.04272\tvalidation_1-logloss:0.57009\n",
      "[233]\tvalidation_0-error:0.22166\tvalidation_0-logloss:0.62534\tvalidation_1-error:0.04272\tvalidation_1-logloss:0.57015\n",
      "[234]\tvalidation_0-error:0.22166\tvalidation_0-logloss:0.62515\tvalidation_1-error:0.04272\tvalidation_1-logloss:0.56998\n",
      "[235]\tvalidation_0-error:0.22166\tvalidation_0-logloss:0.62435\tvalidation_1-error:0.04272\tvalidation_1-logloss:0.56817\n",
      "[236]\tvalidation_0-error:0.22166\tvalidation_0-logloss:0.62436\tvalidation_1-error:0.04272\tvalidation_1-logloss:0.56815\n",
      "[237]\tvalidation_0-error:0.22166\tvalidation_0-logloss:0.62436\tvalidation_1-error:0.04272\tvalidation_1-logloss:0.56807\n",
      "[238]\tvalidation_0-error:0.22166\tvalidation_0-logloss:0.62425\tvalidation_1-error:0.04272\tvalidation_1-logloss:0.56768\n",
      "[239]\tvalidation_0-error:0.22166\tvalidation_0-logloss:0.62465\tvalidation_1-error:0.04272\tvalidation_1-logloss:0.56761\n",
      "[240]\tvalidation_0-error:0.22166\tvalidation_0-logloss:0.62455\tvalidation_1-error:0.04272\tvalidation_1-logloss:0.56745\n",
      "[241]\tvalidation_0-error:0.22166\tvalidation_0-logloss:0.62438\tvalidation_1-error:0.04272\tvalidation_1-logloss:0.56742\n",
      "[242]\tvalidation_0-error:0.22166\tvalidation_0-logloss:0.62403\tvalidation_1-error:0.04272\tvalidation_1-logloss:0.56586\n",
      "[243]\tvalidation_0-error:0.22166\tvalidation_0-logloss:0.62400\tvalidation_1-error:0.04272\tvalidation_1-logloss:0.56575\n",
      "[244]\tvalidation_0-error:0.22166\tvalidation_0-logloss:0.62347\tvalidation_1-error:0.04272\tvalidation_1-logloss:0.56543\n",
      "[245]\tvalidation_0-error:0.22166\tvalidation_0-logloss:0.62336\tvalidation_1-error:0.04272\tvalidation_1-logloss:0.56505\n",
      "[246]\tvalidation_0-error:0.22166\tvalidation_0-logloss:0.62328\tvalidation_1-error:0.04272\tvalidation_1-logloss:0.56493\n",
      "[247]\tvalidation_0-error:0.22166\tvalidation_0-logloss:0.62320\tvalidation_1-error:0.04272\tvalidation_1-logloss:0.56485\n",
      "[248]\tvalidation_0-error:0.22166\tvalidation_0-logloss:0.62314\tvalidation_1-error:0.04272\tvalidation_1-logloss:0.56485\n",
      "[249]\tvalidation_0-error:0.22080\tvalidation_0-logloss:0.62412\tvalidation_1-error:0.04403\tvalidation_1-logloss:0.56474\n",
      "[250]\tvalidation_0-error:0.22166\tvalidation_0-logloss:0.62296\tvalidation_1-error:0.04272\tvalidation_1-logloss:0.56361\n",
      "[251]\tvalidation_0-error:0.22080\tvalidation_0-logloss:0.62208\tvalidation_1-error:0.04403\tvalidation_1-logloss:0.56321\n",
      "[252]\tvalidation_0-error:0.22080\tvalidation_0-logloss:0.62206\tvalidation_1-error:0.04403\tvalidation_1-logloss:0.56325\n",
      "[253]\tvalidation_0-error:0.22080\tvalidation_0-logloss:0.62194\tvalidation_1-error:0.04403\tvalidation_1-logloss:0.56305\n",
      "[254]\tvalidation_0-error:0.22080\tvalidation_0-logloss:0.62160\tvalidation_1-error:0.04403\tvalidation_1-logloss:0.56147\n",
      "[255]\tvalidation_0-error:0.22080\tvalidation_0-logloss:0.62161\tvalidation_1-error:0.04403\tvalidation_1-logloss:0.56143\n",
      "[256]\tvalidation_0-error:0.22080\tvalidation_0-logloss:0.62132\tvalidation_1-error:0.04403\tvalidation_1-logloss:0.56108\n",
      "[257]\tvalidation_0-error:0.22080\tvalidation_0-logloss:0.62123\tvalidation_1-error:0.04403\tvalidation_1-logloss:0.56072\n",
      "[258]\tvalidation_0-error:0.22080\tvalidation_0-logloss:0.62088\tvalidation_1-error:0.04403\tvalidation_1-logloss:0.56064\n",
      "[259]\tvalidation_0-error:0.22080\tvalidation_0-logloss:0.62086\tvalidation_1-error:0.04403\tvalidation_1-logloss:0.56056\n",
      "[260]\tvalidation_0-error:0.22080\tvalidation_0-logloss:0.62046\tvalidation_1-error:0.04403\tvalidation_1-logloss:0.55890\n",
      "[261]\tvalidation_0-error:0.22080\tvalidation_0-logloss:0.62043\tvalidation_1-error:0.04403\tvalidation_1-logloss:0.55885\n",
      "[262]\tvalidation_0-error:0.22080\tvalidation_0-logloss:0.62033\tvalidation_1-error:0.04403\tvalidation_1-logloss:0.55875\n",
      "[263]\tvalidation_0-error:0.22034\tvalidation_0-logloss:0.61773\tvalidation_1-error:0.04580\tvalidation_1-logloss:0.55620\n",
      "[264]\tvalidation_0-error:0.22080\tvalidation_0-logloss:0.61766\tvalidation_1-error:0.04403\tvalidation_1-logloss:0.55578\n",
      "[265]\tvalidation_0-error:0.22034\tvalidation_0-logloss:0.61760\tvalidation_1-error:0.04580\tvalidation_1-logloss:0.55568\n",
      "[266]\tvalidation_0-error:0.22034\tvalidation_0-logloss:0.61763\tvalidation_1-error:0.04580\tvalidation_1-logloss:0.55557\n",
      "[267]\tvalidation_0-error:0.22080\tvalidation_0-logloss:0.61733\tvalidation_1-error:0.04403\tvalidation_1-logloss:0.55404\n",
      "[268]\tvalidation_0-error:0.22034\tvalidation_0-logloss:0.61728\tvalidation_1-error:0.04580\tvalidation_1-logloss:0.55390\n",
      "[269]\tvalidation_0-error:0.22034\tvalidation_0-logloss:0.61717\tvalidation_1-error:0.04580\tvalidation_1-logloss:0.55387\n",
      "[270]\tvalidation_0-error:0.22080\tvalidation_0-logloss:0.61684\tvalidation_1-error:0.04403\tvalidation_1-logloss:0.55318\n",
      "[271]\tvalidation_0-error:0.22034\tvalidation_0-logloss:0.61674\tvalidation_1-error:0.04580\tvalidation_1-logloss:0.55313\n",
      "[272]\tvalidation_0-error:0.22034\tvalidation_0-logloss:0.61676\tvalidation_1-error:0.04580\tvalidation_1-logloss:0.55311\n",
      "[273]\tvalidation_0-error:0.22034\tvalidation_0-logloss:0.61633\tvalidation_1-error:0.04580\tvalidation_1-logloss:0.55302\n",
      "[274]\tvalidation_0-error:0.22034\tvalidation_0-logloss:0.61631\tvalidation_1-error:0.04580\tvalidation_1-logloss:0.55298\n",
      "[275]\tvalidation_0-error:0.22034\tvalidation_0-logloss:0.61625\tvalidation_1-error:0.04580\tvalidation_1-logloss:0.55285\n",
      "[276]\tvalidation_0-error:0.22034\tvalidation_0-logloss:0.61499\tvalidation_1-error:0.04580\tvalidation_1-logloss:0.55172\n",
      "[277]\tvalidation_0-error:0.22034\tvalidation_0-logloss:0.61505\tvalidation_1-error:0.04580\tvalidation_1-logloss:0.55132\n",
      "[278]\tvalidation_0-error:0.22034\tvalidation_0-logloss:0.61499\tvalidation_1-error:0.04580\tvalidation_1-logloss:0.55121\n",
      "[279]\tvalidation_0-error:0.22034\tvalidation_0-logloss:0.61498\tvalidation_1-error:0.04580\tvalidation_1-logloss:0.55117\n",
      "[280]\tvalidation_0-error:0.22034\tvalidation_0-logloss:0.61384\tvalidation_1-error:0.04580\tvalidation_1-logloss:0.54948\n",
      "[281]\tvalidation_0-error:0.22034\tvalidation_0-logloss:0.61377\tvalidation_1-error:0.04580\tvalidation_1-logloss:0.54936\n",
      "[282]\tvalidation_0-error:0.22034\tvalidation_0-logloss:0.61415\tvalidation_1-error:0.04580\tvalidation_1-logloss:0.54931\n",
      "[283]\tvalidation_0-error:0.22034\tvalidation_0-logloss:0.61379\tvalidation_1-error:0.04580\tvalidation_1-logloss:0.54861\n",
      "[284]\tvalidation_0-error:0.22034\tvalidation_0-logloss:0.61359\tvalidation_1-error:0.04580\tvalidation_1-logloss:0.54858\n",
      "[285]\tvalidation_0-error:0.22034\tvalidation_0-logloss:0.61357\tvalidation_1-error:0.04580\tvalidation_1-logloss:0.54846\n",
      "[286]\tvalidation_0-error:0.22034\tvalidation_0-logloss:0.61287\tvalidation_1-error:0.04580\tvalidation_1-logloss:0.54709\n",
      "[287]\tvalidation_0-error:0.22034\tvalidation_0-logloss:0.61245\tvalidation_1-error:0.04580\tvalidation_1-logloss:0.54698\n",
      "[288]\tvalidation_0-error:0.22034\tvalidation_0-logloss:0.61247\tvalidation_1-error:0.04580\tvalidation_1-logloss:0.54686\n",
      "[289]\tvalidation_0-error:0.22034\tvalidation_0-logloss:0.61245\tvalidation_1-error:0.04580\tvalidation_1-logloss:0.54683\n",
      "[290]\tvalidation_0-error:0.22034\tvalidation_0-logloss:0.61238\tvalidation_1-error:0.04580\tvalidation_1-logloss:0.54645\n",
      "[291]\tvalidation_0-error:0.22034\tvalidation_0-logloss:0.61234\tvalidation_1-error:0.04580\tvalidation_1-logloss:0.54642\n",
      "[292]\tvalidation_0-error:0.22034\tvalidation_0-logloss:0.61229\tvalidation_1-error:0.04580\tvalidation_1-logloss:0.54639\n",
      "[293]\tvalidation_0-error:0.22034\tvalidation_0-logloss:0.61288\tvalidation_1-error:0.04580\tvalidation_1-logloss:0.54473\n",
      "[294]\tvalidation_0-error:0.22034\tvalidation_0-logloss:0.61287\tvalidation_1-error:0.04580\tvalidation_1-logloss:0.54468\n",
      "[295]\tvalidation_0-error:0.22034\tvalidation_0-logloss:0.61282\tvalidation_1-error:0.04580\tvalidation_1-logloss:0.54457\n",
      "[296]\tvalidation_0-error:0.22034\tvalidation_0-logloss:0.61281\tvalidation_1-error:0.04580\tvalidation_1-logloss:0.54458\n",
      "[297]\tvalidation_0-error:0.22034\tvalidation_0-logloss:0.61241\tvalidation_1-error:0.04580\tvalidation_1-logloss:0.54388\n",
      "[298]\tvalidation_0-error:0.22034\tvalidation_0-logloss:0.61238\tvalidation_1-error:0.04580\tvalidation_1-logloss:0.54377\n",
      "[299]\tvalidation_0-error:0.22034\tvalidation_0-logloss:0.61239\tvalidation_1-error:0.04580\tvalidation_1-logloss:0.54372\n",
      "[300]\tvalidation_0-error:0.22034\tvalidation_0-logloss:0.61230\tvalidation_1-error:0.04580\tvalidation_1-logloss:0.54365\n",
      "[301]\tvalidation_0-error:0.22034\tvalidation_0-logloss:0.61227\tvalidation_1-error:0.04580\tvalidation_1-logloss:0.54361\n",
      "[302]\tvalidation_0-error:0.22034\tvalidation_0-logloss:0.61224\tvalidation_1-error:0.04580\tvalidation_1-logloss:0.54346\n",
      "[303]\tvalidation_0-error:0.22034\tvalidation_0-logloss:0.61181\tvalidation_1-error:0.04580\tvalidation_1-logloss:0.54302\n",
      "[304]\tvalidation_0-error:0.22034\tvalidation_0-logloss:0.61107\tvalidation_1-error:0.04580\tvalidation_1-logloss:0.54188\n",
      "[305]\tvalidation_0-error:0.22034\tvalidation_0-logloss:0.61102\tvalidation_1-error:0.04580\tvalidation_1-logloss:0.54174\n",
      "[306]\tvalidation_0-error:0.22034\tvalidation_0-logloss:0.61100\tvalidation_1-error:0.04580\tvalidation_1-logloss:0.54174\n",
      "[307]\tvalidation_0-error:0.22034\tvalidation_0-logloss:0.61056\tvalidation_1-error:0.04580\tvalidation_1-logloss:0.54002\n",
      "[308]\tvalidation_0-error:0.22034\tvalidation_0-logloss:0.61053\tvalidation_1-error:0.04580\tvalidation_1-logloss:0.53998\n",
      "[309]\tvalidation_0-error:0.22034\tvalidation_0-logloss:0.61047\tvalidation_1-error:0.04580\tvalidation_1-logloss:0.53984\n",
      "[310]\tvalidation_0-error:0.22034\tvalidation_0-logloss:0.60973\tvalidation_1-error:0.04580\tvalidation_1-logloss:0.53942\n",
      "[311]\tvalidation_0-error:0.22034\tvalidation_0-logloss:0.60945\tvalidation_1-error:0.04580\tvalidation_1-logloss:0.53917\n",
      "[312]\tvalidation_0-error:0.22034\tvalidation_0-logloss:0.60937\tvalidation_1-error:0.04580\tvalidation_1-logloss:0.53905\n",
      "[313]\tvalidation_0-error:0.22034\tvalidation_0-logloss:0.60940\tvalidation_1-error:0.04580\tvalidation_1-logloss:0.53902\n",
      "[314]\tvalidation_0-error:0.22034\tvalidation_0-logloss:0.60853\tvalidation_1-error:0.04580\tvalidation_1-logloss:0.53778\n",
      "[315]\tvalidation_0-error:0.22034\tvalidation_0-logloss:0.60850\tvalidation_1-error:0.04580\tvalidation_1-logloss:0.53765\n",
      "[316]\tvalidation_0-error:0.22034\tvalidation_0-logloss:0.60846\tvalidation_1-error:0.04580\tvalidation_1-logloss:0.53765\n",
      "[317]\tvalidation_0-error:0.22034\tvalidation_0-logloss:0.60839\tvalidation_1-error:0.04580\tvalidation_1-logloss:0.53725\n",
      "[318]\tvalidation_0-error:0.22034\tvalidation_0-logloss:0.60558\tvalidation_1-error:0.04580\tvalidation_1-logloss:0.53478\n",
      "[319]\tvalidation_0-error:0.22034\tvalidation_0-logloss:0.60549\tvalidation_1-error:0.04580\tvalidation_1-logloss:0.53465\n",
      "[320]\tvalidation_0-error:0.22034\tvalidation_0-logloss:0.60542\tvalidation_1-error:0.04580\tvalidation_1-logloss:0.53460\n",
      "[321]\tvalidation_0-error:0.22034\tvalidation_0-logloss:0.60515\tvalidation_1-error:0.04580\tvalidation_1-logloss:0.53286\n",
      "[322]\tvalidation_0-error:0.22034\tvalidation_0-logloss:0.60502\tvalidation_1-error:0.04580\tvalidation_1-logloss:0.53273\n",
      "[323]\tvalidation_0-error:0.22034\tvalidation_0-logloss:0.60500\tvalidation_1-error:0.04580\tvalidation_1-logloss:0.53269\n",
      "[324]\tvalidation_0-error:0.22034\tvalidation_0-logloss:0.60492\tvalidation_1-error:0.04580\tvalidation_1-logloss:0.53224\n",
      "[325]\tvalidation_0-error:0.22034\tvalidation_0-logloss:0.60461\tvalidation_1-error:0.04580\tvalidation_1-logloss:0.53195\n",
      "[326]\tvalidation_0-error:0.22034\tvalidation_0-logloss:0.60463\tvalidation_1-error:0.04580\tvalidation_1-logloss:0.53190\n",
      "[327]\tvalidation_0-error:0.22034\tvalidation_0-logloss:0.60503\tvalidation_1-error:0.04580\tvalidation_1-logloss:0.53184\n",
      "[328]\tvalidation_0-error:0.22034\tvalidation_0-logloss:0.60494\tvalidation_1-error:0.04580\tvalidation_1-logloss:0.53178\n",
      "[329]\tvalidation_0-error:0.22034\tvalidation_0-logloss:0.60493\tvalidation_1-error:0.04580\tvalidation_1-logloss:0.53175\n",
      "[330]\tvalidation_0-error:0.22034\tvalidation_0-logloss:0.60486\tvalidation_1-error:0.04580\tvalidation_1-logloss:0.53168\n",
      "[331]\tvalidation_0-error:0.22034\tvalidation_0-logloss:0.60470\tvalidation_1-error:0.04580\tvalidation_1-logloss:0.53124\n",
      "[332]\tvalidation_0-error:0.22034\tvalidation_0-logloss:0.60349\tvalidation_1-error:0.04580\tvalidation_1-logloss:0.53008\n",
      "[333]\tvalidation_0-error:0.22034\tvalidation_0-logloss:0.60357\tvalidation_1-error:0.04580\tvalidation_1-logloss:0.52997\n",
      "[334]\tvalidation_0-error:0.22034\tvalidation_0-logloss:0.60321\tvalidation_1-error:0.04580\tvalidation_1-logloss:0.52991\n",
      "[335]\tvalidation_0-error:0.22034\tvalidation_0-logloss:0.60294\tvalidation_1-error:0.04580\tvalidation_1-logloss:0.52823\n",
      "[336]\tvalidation_0-error:0.22034\tvalidation_0-logloss:0.60284\tvalidation_1-error:0.04580\tvalidation_1-logloss:0.52813\n",
      "[337]\tvalidation_0-error:0.22034\tvalidation_0-logloss:0.60279\tvalidation_1-error:0.04580\tvalidation_1-logloss:0.52800\n",
      "[338]\tvalidation_0-error:0.22034\tvalidation_0-logloss:0.60361\tvalidation_1-error:0.04580\tvalidation_1-logloss:0.52757\n",
      "[339]\tvalidation_0-error:0.22034\tvalidation_0-logloss:0.60328\tvalidation_1-error:0.04580\tvalidation_1-logloss:0.52724\n",
      "[340]\tvalidation_0-error:0.22034\tvalidation_0-logloss:0.60324\tvalidation_1-error:0.04580\tvalidation_1-logloss:0.52710\n",
      "[341]\tvalidation_0-error:0.22034\tvalidation_0-logloss:0.60323\tvalidation_1-error:0.04580\tvalidation_1-logloss:0.52707\n",
      "[342]\tvalidation_0-error:0.22034\tvalidation_0-logloss:0.60178\tvalidation_1-error:0.04580\tvalidation_1-logloss:0.52613\n",
      "[343]\tvalidation_0-error:0.22034\tvalidation_0-logloss:0.60165\tvalidation_1-error:0.04580\tvalidation_1-logloss:0.52601\n",
      "[344]\tvalidation_0-error:0.22034\tvalidation_0-logloss:0.60172\tvalidation_1-error:0.04580\tvalidation_1-logloss:0.52592\n",
      "[345]\tvalidation_0-error:0.22034\tvalidation_0-logloss:0.60171\tvalidation_1-error:0.04580\tvalidation_1-logloss:0.52590\n",
      "[346]\tvalidation_0-error:0.22034\tvalidation_0-logloss:0.60154\tvalidation_1-error:0.04580\tvalidation_1-logloss:0.52543\n",
      "[347]\tvalidation_0-error:0.22034\tvalidation_0-logloss:0.60156\tvalidation_1-error:0.04580\tvalidation_1-logloss:0.52533\n",
      "[348]\tvalidation_0-error:0.22034\tvalidation_0-logloss:0.60152\tvalidation_1-error:0.04580\tvalidation_1-logloss:0.52530\n",
      "[349]\tvalidation_0-error:0.22034\tvalidation_0-logloss:0.60119\tvalidation_1-error:0.04580\tvalidation_1-logloss:0.52357\n",
      "[350]\tvalidation_0-error:0.22034\tvalidation_0-logloss:0.60123\tvalidation_1-error:0.04580\tvalidation_1-logloss:0.52356\n",
      "[351]\tvalidation_0-error:0.22034\tvalidation_0-logloss:0.60119\tvalidation_1-error:0.04580\tvalidation_1-logloss:0.52343\n",
      "[352]\tvalidation_0-error:0.22034\tvalidation_0-logloss:0.60116\tvalidation_1-error:0.04580\tvalidation_1-logloss:0.52340\n",
      "[353]\tvalidation_0-error:0.22034\tvalidation_0-logloss:0.60105\tvalidation_1-error:0.04580\tvalidation_1-logloss:0.52297\n",
      "[354]\tvalidation_0-error:0.22034\tvalidation_0-logloss:0.60068\tvalidation_1-error:0.04580\tvalidation_1-logloss:0.52265\n",
      "[355]\tvalidation_0-error:0.22034\tvalidation_0-logloss:0.60077\tvalidation_1-error:0.04580\tvalidation_1-logloss:0.52258\n",
      "[356]\tvalidation_0-error:0.22034\tvalidation_0-logloss:0.60071\tvalidation_1-error:0.04580\tvalidation_1-logloss:0.52253\n",
      "[357]\tvalidation_0-error:0.22034\tvalidation_0-logloss:0.60064\tvalidation_1-error:0.04580\tvalidation_1-logloss:0.52246\n",
      "[358]\tvalidation_0-error:0.22034\tvalidation_0-logloss:0.60066\tvalidation_1-error:0.04580\tvalidation_1-logloss:0.52243\n",
      "[359]\tvalidation_0-error:0.22034\tvalidation_0-logloss:0.60059\tvalidation_1-error:0.04580\tvalidation_1-logloss:0.52230\n",
      "[360]\tvalidation_0-error:0.22034\tvalidation_0-logloss:0.60047\tvalidation_1-error:0.04580\tvalidation_1-logloss:0.52182\n",
      "[361]\tvalidation_0-error:0.22034\tvalidation_0-logloss:0.59928\tvalidation_1-error:0.04580\tvalidation_1-logloss:0.52069\n",
      "[362]\tvalidation_0-error:0.22034\tvalidation_0-logloss:0.59916\tvalidation_1-error:0.04580\tvalidation_1-logloss:0.52056\n",
      "[363]\tvalidation_0-error:0.22034\tvalidation_0-logloss:0.59913\tvalidation_1-error:0.04580\tvalidation_1-logloss:0.52052\n",
      "[364]\tvalidation_0-error:0.22034\tvalidation_0-logloss:0.59883\tvalidation_1-error:0.04580\tvalidation_1-logloss:0.51875\n",
      "[365]\tvalidation_0-error:0.22034\tvalidation_0-logloss:0.59874\tvalidation_1-error:0.04580\tvalidation_1-logloss:0.51867\n",
      "[366]\tvalidation_0-error:0.22034\tvalidation_0-logloss:0.59872\tvalidation_1-error:0.04580\tvalidation_1-logloss:0.51854\n",
      "[367]\tvalidation_0-error:0.22034\tvalidation_0-logloss:0.59843\tvalidation_1-error:0.04580\tvalidation_1-logloss:0.51849\n",
      "[368]\tvalidation_0-error:0.22034\tvalidation_0-logloss:0.59831\tvalidation_1-error:0.04580\tvalidation_1-logloss:0.51802\n",
      "[369]\tvalidation_0-error:0.22034\tvalidation_0-logloss:0.59798\tvalidation_1-error:0.04580\tvalidation_1-logloss:0.51769\n",
      "[370]\tvalidation_0-error:0.22034\tvalidation_0-logloss:0.59799\tvalidation_1-error:0.04580\tvalidation_1-logloss:0.51765\n",
      "[371]\tvalidation_0-error:0.22034\tvalidation_0-logloss:0.59791\tvalidation_1-error:0.04580\tvalidation_1-logloss:0.51762\n",
      "[372]\tvalidation_0-error:0.22034\tvalidation_0-logloss:0.59718\tvalidation_1-error:0.04580\tvalidation_1-logloss:0.51687\n",
      "[373]\tvalidation_0-error:0.22034\tvalidation_0-logloss:0.59757\tvalidation_1-error:0.04580\tvalidation_1-logloss:0.51684\n",
      "[374]\tvalidation_0-error:0.22034\tvalidation_0-logloss:0.59752\tvalidation_1-error:0.04580\tvalidation_1-logloss:0.51671\n",
      "[375]\tvalidation_0-error:0.22034\tvalidation_0-logloss:0.59680\tvalidation_1-error:0.04580\tvalidation_1-logloss:0.51672\n",
      "[376]\tvalidation_0-error:0.22034\tvalidation_0-logloss:0.59438\tvalidation_1-error:0.04580\tvalidation_1-logloss:0.51395\n",
      "[377]\tvalidation_0-error:0.22034\tvalidation_0-logloss:0.59431\tvalidation_1-error:0.04580\tvalidation_1-logloss:0.51381\n",
      "[378]\tvalidation_0-error:0.22034\tvalidation_0-logloss:0.59438\tvalidation_1-error:0.04580\tvalidation_1-logloss:0.51376\n",
      "[379]\tvalidation_0-error:0.22034\tvalidation_0-logloss:0.59400\tvalidation_1-error:0.04580\tvalidation_1-logloss:0.51198\n",
      "[380]\tvalidation_0-error:0.22034\tvalidation_0-logloss:0.59383\tvalidation_1-error:0.04580\tvalidation_1-logloss:0.51188\n",
      "[381]\tvalidation_0-error:0.22034\tvalidation_0-logloss:0.59383\tvalidation_1-error:0.04580\tvalidation_1-logloss:0.51177\n",
      "[382]\tvalidation_0-error:0.22034\tvalidation_0-logloss:0.59377\tvalidation_1-error:0.04580\tvalidation_1-logloss:0.51171\n",
      "[383]\tvalidation_0-error:0.22034\tvalidation_0-logloss:0.59334\tvalidation_1-error:0.04580\tvalidation_1-logloss:0.51124\n",
      "[384]\tvalidation_0-error:0.22034\tvalidation_0-logloss:0.59397\tvalidation_1-error:0.04580\tvalidation_1-logloss:0.51092\n",
      "[385]\tvalidation_0-error:0.22034\tvalidation_0-logloss:0.59394\tvalidation_1-error:0.04580\tvalidation_1-logloss:0.51083\n",
      "[386]\tvalidation_0-error:0.22034\tvalidation_0-logloss:0.59389\tvalidation_1-error:0.04580\tvalidation_1-logloss:0.51078\n",
      "[387]\tvalidation_0-error:0.22034\tvalidation_0-logloss:0.59383\tvalidation_1-error:0.04580\tvalidation_1-logloss:0.51071\n",
      "[388]\tvalidation_0-error:0.22034\tvalidation_0-logloss:0.59373\tvalidation_1-error:0.04580\tvalidation_1-logloss:0.51067\n",
      "[389]\tvalidation_0-error:0.22034\tvalidation_0-logloss:0.59369\tvalidation_1-error:0.04580\tvalidation_1-logloss:0.51053\n",
      "[390]\tvalidation_0-error:0.22034\tvalidation_0-logloss:0.59381\tvalidation_1-error:0.04580\tvalidation_1-logloss:0.51056\n",
      "[391]\tvalidation_0-error:0.22034\tvalidation_0-logloss:0.59254\tvalidation_1-error:0.04580\tvalidation_1-logloss:0.50900\n",
      "[392]\tvalidation_0-error:0.22034\tvalidation_0-logloss:0.59252\tvalidation_1-error:0.04580\tvalidation_1-logloss:0.50897\n",
      "[393]\tvalidation_0-error:0.22034\tvalidation_0-logloss:0.59247\tvalidation_1-error:0.04580\tvalidation_1-logloss:0.50882\n",
      "[394]\tvalidation_0-error:0.22034\tvalidation_0-logloss:0.59245\tvalidation_1-error:0.04580\tvalidation_1-logloss:0.50879\n",
      "[395]\tvalidation_0-error:0.22034\tvalidation_0-logloss:0.59206\tvalidation_1-error:0.04580\tvalidation_1-logloss:0.50690\n",
      "[396]\tvalidation_0-error:0.22034\tvalidation_0-logloss:0.59241\tvalidation_1-error:0.04580\tvalidation_1-logloss:0.50685\n",
      "[397]\tvalidation_0-error:0.22034\tvalidation_0-logloss:0.59239\tvalidation_1-error:0.04580\tvalidation_1-logloss:0.50676\n",
      "[398]\tvalidation_0-error:0.22034\tvalidation_0-logloss:0.59237\tvalidation_1-error:0.04580\tvalidation_1-logloss:0.50671\n",
      "[399]\tvalidation_0-error:0.22034\tvalidation_0-logloss:0.59198\tvalidation_1-error:0.04580\tvalidation_1-logloss:0.50594\n",
      "[400]\tvalidation_0-error:0.22034\tvalidation_0-logloss:0.59195\tvalidation_1-error:0.04580\tvalidation_1-logloss:0.50591\n",
      "[401]\tvalidation_0-error:0.22034\tvalidation_0-logloss:0.59156\tvalidation_1-error:0.04580\tvalidation_1-logloss:0.50577\n",
      "[402]\tvalidation_0-error:0.22034\tvalidation_0-logloss:0.59166\tvalidation_1-error:0.04580\tvalidation_1-logloss:0.50573\n",
      "[403]\tvalidation_0-error:0.22034\tvalidation_0-logloss:0.59093\tvalidation_1-error:0.04580\tvalidation_1-logloss:0.50523\n",
      "[404]\tvalidation_0-error:0.22034\tvalidation_0-logloss:0.59089\tvalidation_1-error:0.04580\tvalidation_1-logloss:0.50521\n",
      "[405]\tvalidation_0-error:0.22034\tvalidation_0-logloss:0.59080\tvalidation_1-error:0.04580\tvalidation_1-logloss:0.50510\n",
      "[406]\tvalidation_0-error:0.22034\tvalidation_0-logloss:0.59079\tvalidation_1-error:0.04580\tvalidation_1-logloss:0.50505\n",
      "[407]\tvalidation_0-error:0.22034\tvalidation_0-logloss:0.59069\tvalidation_1-error:0.04580\tvalidation_1-logloss:0.50463\n",
      "[408]\tvalidation_0-error:0.22034\tvalidation_0-logloss:0.59066\tvalidation_1-error:0.04580\tvalidation_1-logloss:0.50458\n",
      "[409]\tvalidation_0-error:0.22034\tvalidation_0-logloss:0.58996\tvalidation_1-error:0.04580\tvalidation_1-logloss:0.50450\n",
      "[410]\tvalidation_0-error:0.22034\tvalidation_0-logloss:0.58993\tvalidation_1-error:0.04580\tvalidation_1-logloss:0.50447\n",
      "[411]\tvalidation_0-error:0.22034\tvalidation_0-logloss:0.58955\tvalidation_1-error:0.04580\tvalidation_1-logloss:0.50255\n",
      "[412]\tvalidation_0-error:0.22034\tvalidation_0-logloss:0.58953\tvalidation_1-error:0.04580\tvalidation_1-logloss:0.50251\n",
      "[413]\tvalidation_0-error:0.22034\tvalidation_0-logloss:0.58948\tvalidation_1-error:0.04580\tvalidation_1-logloss:0.50238\n",
      "[414]\tvalidation_0-error:0.22034\tvalidation_0-logloss:0.58950\tvalidation_1-error:0.04580\tvalidation_1-logloss:0.50236\n",
      "[415]\tvalidation_0-error:0.22034\tvalidation_0-logloss:0.58913\tvalidation_1-error:0.04580\tvalidation_1-logloss:0.50159\n",
      "[416]\tvalidation_0-error:0.22034\tvalidation_0-logloss:0.58908\tvalidation_1-error:0.04580\tvalidation_1-logloss:0.50156\n",
      "[417]\tvalidation_0-error:0.22034\tvalidation_0-logloss:0.58903\tvalidation_1-error:0.04580\tvalidation_1-logloss:0.50143\n",
      "[418]\tvalidation_0-error:0.22034\tvalidation_0-logloss:0.58867\tvalidation_1-error:0.04580\tvalidation_1-logloss:0.50137\n",
      "[419]\tvalidation_0-error:0.22034\tvalidation_0-logloss:0.58857\tvalidation_1-error:0.04580\tvalidation_1-logloss:0.50130\n",
      "[420]\tvalidation_0-error:0.22034\tvalidation_0-logloss:0.58896\tvalidation_1-error:0.04580\tvalidation_1-logloss:0.50126\n",
      "[421]\tvalidation_0-error:0.22034\tvalidation_0-logloss:0.58892\tvalidation_1-error:0.04580\tvalidation_1-logloss:0.50111\n",
      "[422]\tvalidation_0-error:0.22034\tvalidation_0-logloss:0.58891\tvalidation_1-error:0.04580\tvalidation_1-logloss:0.50110\n",
      "[423]\tvalidation_0-error:0.22034\tvalidation_0-logloss:0.58756\tvalidation_1-error:0.04580\tvalidation_1-logloss:0.49948\n",
      "[424]\tvalidation_0-error:0.22034\tvalidation_0-logloss:0.58756\tvalidation_1-error:0.04580\tvalidation_1-logloss:0.49945\n",
      "[425]\tvalidation_0-error:0.22034\tvalidation_0-logloss:0.58751\tvalidation_1-error:0.04580\tvalidation_1-logloss:0.49934\n",
      "[426]\tvalidation_0-error:0.22034\tvalidation_0-logloss:0.58759\tvalidation_1-error:0.04580\tvalidation_1-logloss:0.49928\n",
      "[427]\tvalidation_0-error:0.22034\tvalidation_0-logloss:0.58721\tvalidation_1-error:0.04580\tvalidation_1-logloss:0.49729\n",
      "[428]\tvalidation_0-error:0.22034\tvalidation_0-logloss:0.58721\tvalidation_1-error:0.04580\tvalidation_1-logloss:0.49729\n",
      "[429]\tvalidation_0-error:0.22034\tvalidation_0-logloss:0.58718\tvalidation_1-error:0.04580\tvalidation_1-logloss:0.49717\n",
      "[430]\tvalidation_0-error:0.22034\tvalidation_0-logloss:0.58712\tvalidation_1-error:0.04580\tvalidation_1-logloss:0.49717\n",
      "[431]\tvalidation_0-error:0.22034\tvalidation_0-logloss:0.58675\tvalidation_1-error:0.04580\tvalidation_1-logloss:0.49641\n",
      "[432]\tvalidation_0-error:0.22034\tvalidation_0-logloss:0.58755\tvalidation_1-error:0.04580\tvalidation_1-logloss:0.49634\n",
      "[433]\tvalidation_0-error:0.22034\tvalidation_0-logloss:0.58752\tvalidation_1-error:0.04580\tvalidation_1-logloss:0.49623\n",
      "[434]\tvalidation_0-error:0.22034\tvalidation_0-logloss:0.58751\tvalidation_1-error:0.04580\tvalidation_1-logloss:0.49620\n",
      "[435]\tvalidation_0-error:0.22034\tvalidation_0-logloss:0.58682\tvalidation_1-error:0.04580\tvalidation_1-logloss:0.49598\n",
      "[436]\tvalidation_0-error:0.22034\tvalidation_0-logloss:0.58647\tvalidation_1-error:0.04580\tvalidation_1-logloss:0.49596\n",
      "[437]\tvalidation_0-error:0.22034\tvalidation_0-logloss:0.58643\tvalidation_1-error:0.04580\tvalidation_1-logloss:0.49582\n",
      "[438]\tvalidation_0-error:0.22034\tvalidation_0-logloss:0.58651\tvalidation_1-error:0.04580\tvalidation_1-logloss:0.49579\n",
      "[439]\tvalidation_0-error:0.22034\tvalidation_0-logloss:0.58417\tvalidation_1-error:0.04580\tvalidation_1-logloss:0.49309\n",
      "[440]\tvalidation_0-error:0.22034\tvalidation_0-logloss:0.58416\tvalidation_1-error:0.04580\tvalidation_1-logloss:0.49305\n",
      "[441]\tvalidation_0-error:0.22034\tvalidation_0-logloss:0.58406\tvalidation_1-error:0.04580\tvalidation_1-logloss:0.49291\n",
      "[442]\tvalidation_0-error:0.22034\tvalidation_0-logloss:0.58404\tvalidation_1-error:0.04580\tvalidation_1-logloss:0.49287\n",
      "[443]\tvalidation_0-error:0.22034\tvalidation_0-logloss:0.58361\tvalidation_1-error:0.04580\tvalidation_1-logloss:0.49088\n",
      "[444]\tvalidation_0-error:0.22034\tvalidation_0-logloss:0.58403\tvalidation_1-error:0.04580\tvalidation_1-logloss:0.49087\n",
      "[445]\tvalidation_0-error:0.22034\tvalidation_0-logloss:0.58396\tvalidation_1-error:0.04580\tvalidation_1-logloss:0.49076\n",
      "[446]\tvalidation_0-error:0.22034\tvalidation_0-logloss:0.58327\tvalidation_1-error:0.04580\tvalidation_1-logloss:0.49069\n",
      "[447]\tvalidation_0-error:0.22034\tvalidation_0-logloss:0.58288\tvalidation_1-error:0.04580\tvalidation_1-logloss:0.48994\n",
      "[448]\tvalidation_0-error:0.22034\tvalidation_0-logloss:0.58284\tvalidation_1-error:0.04580\tvalidation_1-logloss:0.48993\n",
      "[449]\tvalidation_0-error:0.22034\tvalidation_0-logloss:0.58285\tvalidation_1-error:0.04580\tvalidation_1-logloss:0.48994\n",
      "[450]\tvalidation_0-error:0.22034\tvalidation_0-logloss:0.58282\tvalidation_1-error:0.04580\tvalidation_1-logloss:0.48981\n",
      "[451]\tvalidation_0-error:0.22034\tvalidation_0-logloss:0.58275\tvalidation_1-error:0.04580\tvalidation_1-logloss:0.48971\n",
      "[452]\tvalidation_0-error:0.22034\tvalidation_0-logloss:0.58271\tvalidation_1-error:0.04580\tvalidation_1-logloss:0.48972\n",
      "[453]\tvalidation_0-error:0.22034\tvalidation_0-logloss:0.58268\tvalidation_1-error:0.04580\tvalidation_1-logloss:0.48967\n",
      "[454]\tvalidation_0-error:0.22034\tvalidation_0-logloss:0.58268\tvalidation_1-error:0.04580\tvalidation_1-logloss:0.48955\n",
      "[455]\tvalidation_0-error:0.22034\tvalidation_0-logloss:0.58110\tvalidation_1-error:0.04580\tvalidation_1-logloss:0.48839\n",
      "[456]\tvalidation_0-error:0.22034\tvalidation_0-logloss:0.58099\tvalidation_1-error:0.04580\tvalidation_1-logloss:0.48788\n",
      "[457]\tvalidation_0-error:0.22034\tvalidation_0-logloss:0.58096\tvalidation_1-error:0.04580\tvalidation_1-logloss:0.48782\n",
      "[458]\tvalidation_0-error:0.22034\tvalidation_0-logloss:0.58094\tvalidation_1-error:0.04580\tvalidation_1-logloss:0.48771\n",
      "[459]\tvalidation_0-error:0.22034\tvalidation_0-logloss:0.58088\tvalidation_1-error:0.04580\tvalidation_1-logloss:0.48760\n",
      "[460]\tvalidation_0-error:0.22034\tvalidation_0-logloss:0.58047\tvalidation_1-error:0.04580\tvalidation_1-logloss:0.48566\n",
      "[461]\tvalidation_0-error:0.22034\tvalidation_0-logloss:0.58046\tvalidation_1-error:0.04580\tvalidation_1-logloss:0.48564\n",
      "[462]\tvalidation_0-error:0.22034\tvalidation_0-logloss:0.58051\tvalidation_1-error:0.04580\tvalidation_1-logloss:0.48550\n",
      "[463]\tvalidation_0-error:0.22034\tvalidation_0-logloss:0.58051\tvalidation_1-error:0.04580\tvalidation_1-logloss:0.48547\n",
      "[464]\tvalidation_0-error:0.22034\tvalidation_0-logloss:0.58021\tvalidation_1-error:0.04580\tvalidation_1-logloss:0.48521\n",
      "[465]\tvalidation_0-error:0.22034\tvalidation_0-logloss:0.58012\tvalidation_1-error:0.04580\tvalidation_1-logloss:0.48470\n",
      "[466]\tvalidation_0-error:0.22034\tvalidation_0-logloss:0.58010\tvalidation_1-error:0.04580\tvalidation_1-logloss:0.48465\n",
      "[467]\tvalidation_0-error:0.22034\tvalidation_0-logloss:0.58005\tvalidation_1-error:0.04580\tvalidation_1-logloss:0.48452\n",
      "[468]\tvalidation_0-error:0.22034\tvalidation_0-logloss:0.58042\tvalidation_1-error:0.04580\tvalidation_1-logloss:0.48445\n",
      "[469]\tvalidation_0-error:0.22034\tvalidation_0-logloss:0.57975\tvalidation_1-error:0.04580\tvalidation_1-logloss:0.48450\n",
      "[470]\tvalidation_0-error:0.22034\tvalidation_0-logloss:0.57970\tvalidation_1-error:0.04580\tvalidation_1-logloss:0.48445\n",
      "[471]\tvalidation_0-error:0.22034\tvalidation_0-logloss:0.57969\tvalidation_1-error:0.04580\tvalidation_1-logloss:0.48431\n",
      "[472]\tvalidation_0-error:0.22034\tvalidation_0-logloss:0.57967\tvalidation_1-error:0.04580\tvalidation_1-logloss:0.48429\n",
      "[473]\tvalidation_0-error:0.22034\tvalidation_0-logloss:0.57957\tvalidation_1-error:0.04580\tvalidation_1-logloss:0.48377\n",
      "[474]\tvalidation_0-error:0.22034\tvalidation_0-logloss:0.57933\tvalidation_1-error:0.04580\tvalidation_1-logloss:0.48374\n",
      "[475]\tvalidation_0-error:0.22034\tvalidation_0-logloss:0.57933\tvalidation_1-error:0.04580\tvalidation_1-logloss:0.48371\n",
      "[476]\tvalidation_0-error:0.22034\tvalidation_0-logloss:0.57916\tvalidation_1-error:0.04580\tvalidation_1-logloss:0.48351\n",
      "[477]\tvalidation_0-error:0.22034\tvalidation_0-logloss:0.57918\tvalidation_1-error:0.04580\tvalidation_1-logloss:0.48349\n",
      "[478]\tvalidation_0-error:0.22034\tvalidation_0-logloss:0.57885\tvalidation_1-error:0.04580\tvalidation_1-logloss:0.48157\n",
      "[479]\tvalidation_0-error:0.22034\tvalidation_0-logloss:0.57874\tvalidation_1-error:0.04580\tvalidation_1-logloss:0.48154\n",
      "[480]\tvalidation_0-error:0.22034\tvalidation_0-logloss:0.57930\tvalidation_1-error:0.04580\tvalidation_1-logloss:0.48111\n",
      "[481]\tvalidation_0-error:0.22034\tvalidation_0-logloss:0.57925\tvalidation_1-error:0.04580\tvalidation_1-logloss:0.48106\n",
      "[482]\tvalidation_0-error:0.22034\tvalidation_0-logloss:0.57910\tvalidation_1-error:0.04580\tvalidation_1-logloss:0.48055\n",
      "[483]\tvalidation_0-error:0.22034\tvalidation_0-logloss:0.57905\tvalidation_1-error:0.04580\tvalidation_1-logloss:0.48048\n",
      "[484]\tvalidation_0-error:0.22034\tvalidation_0-logloss:0.57903\tvalidation_1-error:0.04580\tvalidation_1-logloss:0.48046\n",
      "[485]\tvalidation_0-error:0.22034\tvalidation_0-logloss:0.57860\tvalidation_1-error:0.04580\tvalidation_1-logloss:0.47993\n",
      "[486]\tvalidation_0-error:0.22034\tvalidation_0-logloss:0.57858\tvalidation_1-error:0.04580\tvalidation_1-logloss:0.47989\n",
      "[487]\tvalidation_0-error:0.22034\tvalidation_0-logloss:0.57857\tvalidation_1-error:0.04580\tvalidation_1-logloss:0.47987\n",
      "[488]\tvalidation_0-error:0.22034\tvalidation_0-logloss:0.57852\tvalidation_1-error:0.04580\tvalidation_1-logloss:0.47980\n",
      "[489]\tvalidation_0-error:0.22034\tvalidation_0-logloss:0.57789\tvalidation_1-error:0.04580\tvalidation_1-logloss:0.47975\n",
      "[490]\tvalidation_0-error:0.22034\tvalidation_0-logloss:0.57776\tvalidation_1-error:0.04580\tvalidation_1-logloss:0.47953\n",
      "[491]\tvalidation_0-error:0.22034\tvalidation_0-logloss:0.57771\tvalidation_1-error:0.04580\tvalidation_1-logloss:0.47947\n",
      "[492]\tvalidation_0-error:0.22034\tvalidation_0-logloss:0.57761\tvalidation_1-error:0.04580\tvalidation_1-logloss:0.47894\n",
      "[493]\tvalidation_0-error:0.22034\tvalidation_0-logloss:0.57761\tvalidation_1-error:0.04580\tvalidation_1-logloss:0.47888\n",
      "[494]\tvalidation_0-error:0.22034\tvalidation_0-logloss:0.57759\tvalidation_1-error:0.04580\tvalidation_1-logloss:0.47885\n",
      "[495]\tvalidation_0-error:0.22034\tvalidation_0-logloss:0.57688\tvalidation_1-error:0.04580\tvalidation_1-logloss:0.47803\n",
      "[496]\tvalidation_0-error:0.22034\tvalidation_0-logloss:0.57686\tvalidation_1-error:0.04580\tvalidation_1-logloss:0.47796\n",
      "[497]\tvalidation_0-error:0.22034\tvalidation_0-logloss:0.57647\tvalidation_1-error:0.04580\tvalidation_1-logloss:0.47610\n",
      "[498]\tvalidation_0-error:0.22034\tvalidation_0-logloss:0.57645\tvalidation_1-error:0.04580\tvalidation_1-logloss:0.47604\n",
      "[499]\tvalidation_0-error:0.22034\tvalidation_0-logloss:0.57635\tvalidation_1-error:0.04580\tvalidation_1-logloss:0.47592\n",
      "[500]\tvalidation_0-error:0.22034\tvalidation_0-logloss:0.57630\tvalidation_1-error:0.04580\tvalidation_1-logloss:0.47577\n",
      "[501]\tvalidation_0-error:0.22034\tvalidation_0-logloss:0.57629\tvalidation_1-error:0.04580\tvalidation_1-logloss:0.47567\n",
      "[502]\tvalidation_0-error:0.22034\tvalidation_0-logloss:0.57617\tvalidation_1-error:0.04580\tvalidation_1-logloss:0.47514\n",
      "[503]\tvalidation_0-error:0.22034\tvalidation_0-logloss:0.57614\tvalidation_1-error:0.04580\tvalidation_1-logloss:0.47509\n",
      "[504]\tvalidation_0-error:0.22034\tvalidation_0-logloss:0.57605\tvalidation_1-error:0.04580\tvalidation_1-logloss:0.47506\n",
      "[505]\tvalidation_0-error:0.22034\tvalidation_0-logloss:0.57564\tvalidation_1-error:0.04580\tvalidation_1-logloss:0.47453\n",
      "[506]\tvalidation_0-error:0.22034\tvalidation_0-logloss:0.57558\tvalidation_1-error:0.04580\tvalidation_1-logloss:0.47449\n",
      "[507]\tvalidation_0-error:0.22034\tvalidation_0-logloss:0.57504\tvalidation_1-error:0.04580\tvalidation_1-logloss:0.47442\n",
      "[508]\tvalidation_0-error:0.22034\tvalidation_0-logloss:0.57513\tvalidation_1-error:0.04580\tvalidation_1-logloss:0.47442\n",
      "[509]\tvalidation_0-error:0.22034\tvalidation_0-logloss:0.57496\tvalidation_1-error:0.04580\tvalidation_1-logloss:0.47427\n",
      "[510]\tvalidation_0-error:0.22034\tvalidation_0-logloss:0.57493\tvalidation_1-error:0.04580\tvalidation_1-logloss:0.47413\n",
      "[511]\tvalidation_0-error:0.22034\tvalidation_0-logloss:0.57489\tvalidation_1-error:0.04580\tvalidation_1-logloss:0.47405\n",
      "[512]\tvalidation_0-error:0.22034\tvalidation_0-logloss:0.57482\tvalidation_1-error:0.04580\tvalidation_1-logloss:0.47354\n",
      "[513]\tvalidation_0-error:0.22034\tvalidation_0-logloss:0.57476\tvalidation_1-error:0.04580\tvalidation_1-logloss:0.47352\n",
      "[514]\tvalidation_0-error:0.22008\tvalidation_0-logloss:0.57478\tvalidation_1-error:0.04522\tvalidation_1-logloss:0.47346\n",
      "[515]\tvalidation_0-error:0.22008\tvalidation_0-logloss:0.57478\tvalidation_1-error:0.04522\tvalidation_1-logloss:0.47333\n",
      "[516]\tvalidation_0-error:0.22008\tvalidation_0-logloss:0.57471\tvalidation_1-error:0.04522\tvalidation_1-logloss:0.47316\n",
      "[517]\tvalidation_0-error:0.22008\tvalidation_0-logloss:0.57464\tvalidation_1-error:0.04522\tvalidation_1-logloss:0.47312\n",
      "[518]\tvalidation_0-error:0.21902\tvalidation_0-logloss:0.57430\tvalidation_1-error:0.04629\tvalidation_1-logloss:0.47144\n",
      "[519]\tvalidation_0-error:0.22008\tvalidation_0-logloss:0.57336\tvalidation_1-error:0.04522\tvalidation_1-logloss:0.47052\n",
      "[520]\tvalidation_0-error:0.21902\tvalidation_0-logloss:0.57331\tvalidation_1-error:0.04629\tvalidation_1-logloss:0.47039\n",
      "[521]\tvalidation_0-error:0.21902\tvalidation_0-logloss:0.57326\tvalidation_1-error:0.04629\tvalidation_1-logloss:0.47028\n",
      "[522]\tvalidation_0-error:0.21902\tvalidation_0-logloss:0.57323\tvalidation_1-error:0.04629\tvalidation_1-logloss:0.47025\n",
      "[523]\tvalidation_0-error:0.21902\tvalidation_0-logloss:0.57287\tvalidation_1-error:0.04629\tvalidation_1-logloss:0.46974\n",
      "[524]\tvalidation_0-error:0.21902\tvalidation_0-logloss:0.57246\tvalidation_1-error:0.04629\tvalidation_1-logloss:0.46933\n",
      "[525]\tvalidation_0-error:0.21902\tvalidation_0-logloss:0.57243\tvalidation_1-error:0.04629\tvalidation_1-logloss:0.46921\n",
      "[526]\tvalidation_0-error:0.21902\tvalidation_0-logloss:0.57242\tvalidation_1-error:0.04629\tvalidation_1-logloss:0.46918\n",
      "[527]\tvalidation_0-error:0.21902\tvalidation_0-logloss:0.57234\tvalidation_1-error:0.04629\tvalidation_1-logloss:0.46911\n",
      "[528]\tvalidation_0-error:0.21902\tvalidation_0-logloss:0.57234\tvalidation_1-error:0.04629\tvalidation_1-logloss:0.46909\n",
      "[529]\tvalidation_0-error:0.21902\tvalidation_0-logloss:0.57221\tvalidation_1-error:0.04629\tvalidation_1-logloss:0.46894\n",
      "[530]\tvalidation_0-error:0.21902\tvalidation_0-logloss:0.57216\tvalidation_1-error:0.04629\tvalidation_1-logloss:0.46889\n",
      "[531]\tvalidation_0-error:0.21902\tvalidation_0-logloss:0.57209\tvalidation_1-error:0.04629\tvalidation_1-logloss:0.46869\n",
      "[532]\tvalidation_0-error:0.21902\tvalidation_0-logloss:0.57207\tvalidation_1-error:0.04629\tvalidation_1-logloss:0.46864\n",
      "[533]\tvalidation_0-error:0.21902\tvalidation_0-logloss:0.57198\tvalidation_1-error:0.04629\tvalidation_1-logloss:0.46812\n",
      "[534]\tvalidation_0-error:0.21902\tvalidation_0-logloss:0.57131\tvalidation_1-error:0.04629\tvalidation_1-logloss:0.46737\n",
      "[535]\tvalidation_0-error:0.21902\tvalidation_0-logloss:0.57134\tvalidation_1-error:0.04629\tvalidation_1-logloss:0.46734\n",
      "[536]\tvalidation_0-error:0.21902\tvalidation_0-logloss:0.57128\tvalidation_1-error:0.04629\tvalidation_1-logloss:0.46709\n",
      "[537]\tvalidation_0-error:0.21902\tvalidation_0-logloss:0.57154\tvalidation_1-error:0.04629\tvalidation_1-logloss:0.46699\n",
      "[538]\tvalidation_0-error:0.21902\tvalidation_0-logloss:0.57121\tvalidation_1-error:0.04629\tvalidation_1-logloss:0.46533\n",
      "[539]\tvalidation_0-error:0.21902\tvalidation_0-logloss:0.57115\tvalidation_1-error:0.04629\tvalidation_1-logloss:0.46526\n",
      "[540]\tvalidation_0-error:0.21902\tvalidation_0-logloss:0.57110\tvalidation_1-error:0.04629\tvalidation_1-logloss:0.46520\n",
      "[541]\tvalidation_0-error:0.21902\tvalidation_0-logloss:0.57102\tvalidation_1-error:0.04629\tvalidation_1-logloss:0.46498\n",
      "[542]\tvalidation_0-error:0.21902\tvalidation_0-logloss:0.57100\tvalidation_1-error:0.04629\tvalidation_1-logloss:0.46492\n",
      "[543]\tvalidation_0-error:0.21902\tvalidation_0-logloss:0.57101\tvalidation_1-error:0.04629\tvalidation_1-logloss:0.46490\n",
      "[544]\tvalidation_0-error:0.21902\tvalidation_0-logloss:0.57048\tvalidation_1-error:0.04629\tvalidation_1-logloss:0.46398\n",
      "[545]\tvalidation_0-error:0.21902\tvalidation_0-logloss:0.57046\tvalidation_1-error:0.04629\tvalidation_1-logloss:0.46393\n",
      "[546]\tvalidation_0-error:0.21902\tvalidation_0-logloss:0.57040\tvalidation_1-error:0.04629\tvalidation_1-logloss:0.46390\n",
      "[547]\tvalidation_0-error:0.21902\tvalidation_0-logloss:0.57034\tvalidation_1-error:0.04629\tvalidation_1-logloss:0.46373\n",
      "[548]\tvalidation_0-error:0.21902\tvalidation_0-logloss:0.57031\tvalidation_1-error:0.04629\tvalidation_1-logloss:0.46367\n",
      "[549]\tvalidation_0-error:0.21902\tvalidation_0-logloss:0.56969\tvalidation_1-error:0.04629\tvalidation_1-logloss:0.46356\n",
      "[550]\tvalidation_0-error:0.21902\tvalidation_0-logloss:0.56966\tvalidation_1-error:0.04629\tvalidation_1-logloss:0.46354\n",
      "[551]\tvalidation_0-error:0.21881\tvalidation_0-logloss:0.56960\tvalidation_1-error:0.04583\tvalidation_1-logloss:0.46345\n",
      "[552]\tvalidation_0-error:0.21881\tvalidation_0-logloss:0.56961\tvalidation_1-error:0.04583\tvalidation_1-logloss:0.46328\n",
      "[553]\tvalidation_0-error:0.21881\tvalidation_0-logloss:0.56958\tvalidation_1-error:0.04583\tvalidation_1-logloss:0.46323\n",
      "[554]\tvalidation_0-error:0.21881\tvalidation_0-logloss:0.56956\tvalidation_1-error:0.04583\tvalidation_1-logloss:0.46320\n",
      "[555]\tvalidation_0-error:0.21881\tvalidation_0-logloss:0.56946\tvalidation_1-error:0.04583\tvalidation_1-logloss:0.46269\n",
      "[556]\tvalidation_0-error:0.21881\tvalidation_0-logloss:0.56944\tvalidation_1-error:0.04583\tvalidation_1-logloss:0.46264\n",
      "[557]\tvalidation_0-error:0.21881\tvalidation_0-logloss:0.56935\tvalidation_1-error:0.04583\tvalidation_1-logloss:0.46237\n",
      "[558]\tvalidation_0-error:0.21881\tvalidation_0-logloss:0.56932\tvalidation_1-error:0.04583\tvalidation_1-logloss:0.46232\n",
      "[559]\tvalidation_0-error:0.21881\tvalidation_0-logloss:0.56911\tvalidation_1-error:0.04583\tvalidation_1-logloss:0.46209\n",
      "[560]\tvalidation_0-error:0.21881\tvalidation_0-logloss:0.56871\tvalidation_1-error:0.04583\tvalidation_1-logloss:0.46038\n",
      "[561]\tvalidation_0-error:0.21881\tvalidation_0-logloss:0.56868\tvalidation_1-error:0.04583\tvalidation_1-logloss:0.46034\n",
      "[562]\tvalidation_0-error:0.21881\tvalidation_0-logloss:0.56862\tvalidation_1-error:0.04583\tvalidation_1-logloss:0.46025\n",
      "[563]\tvalidation_0-error:0.21881\tvalidation_0-logloss:0.56867\tvalidation_1-error:0.04583\tvalidation_1-logloss:0.46012\n",
      "[564]\tvalidation_0-error:0.21881\tvalidation_0-logloss:0.56864\tvalidation_1-error:0.04583\tvalidation_1-logloss:0.46008\n",
      "[565]\tvalidation_0-error:0.21881\tvalidation_0-logloss:0.56824\tvalidation_1-error:0.04583\tvalidation_1-logloss:0.45916\n",
      "[566]\tvalidation_0-error:0.21881\tvalidation_0-logloss:0.56821\tvalidation_1-error:0.04583\tvalidation_1-logloss:0.45915\n",
      "[567]\tvalidation_0-error:0.21881\tvalidation_0-logloss:0.56817\tvalidation_1-error:0.04583\tvalidation_1-logloss:0.45909\n",
      "[568]\tvalidation_0-error:0.21881\tvalidation_0-logloss:0.56805\tvalidation_1-error:0.04583\tvalidation_1-logloss:0.45896\n",
      "[569]\tvalidation_0-error:0.21881\tvalidation_0-logloss:0.56803\tvalidation_1-error:0.04583\tvalidation_1-logloss:0.45894\n",
      "[570]\tvalidation_0-error:0.21881\tvalidation_0-logloss:0.56795\tvalidation_1-error:0.04583\tvalidation_1-logloss:0.45879\n",
      "[571]\tvalidation_0-error:0.21881\tvalidation_0-logloss:0.56792\tvalidation_1-error:0.04583\tvalidation_1-logloss:0.45878\n",
      "[572]\tvalidation_0-error:0.21881\tvalidation_0-logloss:0.56790\tvalidation_1-error:0.04583\tvalidation_1-logloss:0.45873\n",
      "[573]\tvalidation_0-error:0.21881\tvalidation_0-logloss:0.56786\tvalidation_1-error:0.04583\tvalidation_1-logloss:0.45868\n",
      "[574]\tvalidation_0-error:0.21881\tvalidation_0-logloss:0.56782\tvalidation_1-error:0.04583\tvalidation_1-logloss:0.45853\n",
      "[575]\tvalidation_0-error:0.21881\tvalidation_0-logloss:0.56778\tvalidation_1-error:0.04583\tvalidation_1-logloss:0.45848\n",
      "[576]\tvalidation_0-error:0.21856\tvalidation_0-logloss:0.56708\tvalidation_1-error:0.04526\tvalidation_1-logloss:0.45729\n",
      "[577]\tvalidation_0-error:0.21856\tvalidation_0-logloss:0.56705\tvalidation_1-error:0.04526\tvalidation_1-logloss:0.45727\n",
      "[578]\tvalidation_0-error:0.21856\tvalidation_0-logloss:0.56702\tvalidation_1-error:0.04526\tvalidation_1-logloss:0.45717\n",
      "[579]\tvalidation_0-error:0.21856\tvalidation_0-logloss:0.56695\tvalidation_1-error:0.04526\tvalidation_1-logloss:0.45700\n",
      "[580]\tvalidation_0-error:0.21856\tvalidation_0-logloss:0.56691\tvalidation_1-error:0.04526\tvalidation_1-logloss:0.45698\n",
      "[581]\tvalidation_0-error:0.21856\tvalidation_0-logloss:0.56646\tvalidation_1-error:0.04526\tvalidation_1-logloss:0.45682\n",
      "[582]\tvalidation_0-error:0.21856\tvalidation_0-logloss:0.56618\tvalidation_1-error:0.04526\tvalidation_1-logloss:0.45526\n",
      "[583]\tvalidation_0-error:0.21856\tvalidation_0-logloss:0.56612\tvalidation_1-error:0.04526\tvalidation_1-logloss:0.45522\n",
      "[584]\tvalidation_0-error:0.21856\tvalidation_0-logloss:0.56610\tvalidation_1-error:0.04526\tvalidation_1-logloss:0.45519\n",
      "[585]\tvalidation_0-error:0.21856\tvalidation_0-logloss:0.56608\tvalidation_1-error:0.04526\tvalidation_1-logloss:0.45503\n",
      "[586]\tvalidation_0-error:0.21856\tvalidation_0-logloss:0.56565\tvalidation_1-error:0.04526\tvalidation_1-logloss:0.45460\n",
      "[587]\tvalidation_0-error:0.21856\tvalidation_0-logloss:0.56563\tvalidation_1-error:0.04526\tvalidation_1-logloss:0.45455\n",
      "[588]\tvalidation_0-error:0.21856\tvalidation_0-logloss:0.56553\tvalidation_1-error:0.04526\tvalidation_1-logloss:0.45403\n",
      "[589]\tvalidation_0-error:0.21856\tvalidation_0-logloss:0.56549\tvalidation_1-error:0.04526\tvalidation_1-logloss:0.45394\n",
      "[590]\tvalidation_0-error:0.21856\tvalidation_0-logloss:0.56547\tvalidation_1-error:0.04526\tvalidation_1-logloss:0.45379\n",
      "[591]\tvalidation_0-error:0.21856\tvalidation_0-logloss:0.56545\tvalidation_1-error:0.04526\tvalidation_1-logloss:0.45376\n",
      "[592]\tvalidation_0-error:0.21856\tvalidation_0-logloss:0.56538\tvalidation_1-error:0.04526\tvalidation_1-logloss:0.45361\n",
      "[593]\tvalidation_0-error:0.21856\tvalidation_0-logloss:0.56351\tvalidation_1-error:0.04526\tvalidation_1-logloss:0.45226\n",
      "[594]\tvalidation_0-error:0.21856\tvalidation_0-logloss:0.56349\tvalidation_1-error:0.04526\tvalidation_1-logloss:0.45224\n",
      "[595]\tvalidation_0-error:0.21856\tvalidation_0-logloss:0.56341\tvalidation_1-error:0.04526\tvalidation_1-logloss:0.45218\n",
      "[596]\tvalidation_0-error:0.21856\tvalidation_0-logloss:0.56334\tvalidation_1-error:0.04526\tvalidation_1-logloss:0.45204\n",
      "[597]\tvalidation_0-error:0.21856\tvalidation_0-logloss:0.56332\tvalidation_1-error:0.04526\tvalidation_1-logloss:0.45202\n",
      "[598]\tvalidation_0-error:0.21856\tvalidation_0-logloss:0.56328\tvalidation_1-error:0.04526\tvalidation_1-logloss:0.45198\n",
      "[599]\tvalidation_0-error:0.21856\tvalidation_0-logloss:0.56320\tvalidation_1-error:0.04526\tvalidation_1-logloss:0.45185\n",
      "Accuracy: 95.47%\n"
     ]
    },
    {
     "data": {
      "image/png": "[encoded data removed]",
      "text/plain": [
       "<Figure size 432x288 with 1 Axes>"
      ]
     },
     "metadata": {},
     "output_type": "display_data"
    },
    {
     "data": {
      "image/png": "[encoded data removed]",
      "text/plain": [
       "<Figure size 432x288 with 1 Axes>"
      ]
     },
     "metadata": {},
     "output_type": "display_data"
    }
   ],
   "source": [
    "# fit model on training data\n",
    "model = XGBClassifier(nthread=-1, max_depth=2, n_estimators=600, learning_rate=0.001, subsample=1)\n",
    "eval_set = [(data_train, label_train), (data_test, label_test)]\n",
    "model.fit(data_train, label_train, eval_metric=[\"error\", \"logloss\"], eval_set=eval_set, verbose=True)\n",
    "# make predictions for test data\n",
    "predictions = model.predict(data_test)\n",
    "# evaluate predictions\n",
    "accuracy = accuracy_score(label_test, predictions)\n",
    "print(\"Accuracy: %.2f%%\" % (accuracy * 100.0))\n",
    "# retrieve performance metrics\n",
    "results = model.evals_result()\n",
    "epochs = len(results['validation_0']['error'])\n",
    "x_axis = range(0, epochs)\n",
    "# plot log loss\n",
    "fig, ax = pyplot.subplots()\n",
    "ax.plot(x_axis, results['validation_0']['logloss'], label='Train')\n",
    "ax.plot(x_axis, results['validation_1']['logloss'], label='Test')\n",
    "ax.legend()\n",
    "pyplot.ylabel('Log Loss')\n",
    "pyplot.title('XGBoost Log Loss')\n",
    "pyplot.show()\n",
    "# plot classification error\n",
    "fig, ax = pyplot.subplots()\n",
    "ax.plot(x_axis, results['validation_0']['error'], label='Train')\n",
    "ax.plot(x_axis, results['validation_1']['error'], label='Test')\n",
    "ax.legend()\n",
    "pyplot.ylabel('Classification Error')\n",
    "pyplot.title('XGBoost Classification Error')\n",
    "pyplot.show()"
   ]
  },
  {
   "cell_type": "markdown",
   "metadata": {},
   "source": [
    "Despues de evaluar estos modelos se concluye que con el modelo XGBoost Classifier se obtiene el mayor F1 macro con 95.5% y Recall macro con 95.5%."
   ]
  },
  {
   "cell_type": "markdown",
   "metadata": {},
   "source": [
    "# Ajuste avanzado modelo de clasificacion binaria Gradient Boosting\n",
    "Codigos Tomados del libro XGBoost With Python, Jason Brownlee, 2020."
   ]
  },
  {
   "cell_type": "markdown",
   "metadata": {},
   "source": [
    "## Gradient Boosting Model hiperparametros por defecto"
   ]
  },
  {
   "cell_type": "code",
   "execution_count": 75,
   "metadata": {},
   "outputs": [
    {
     "data": {
      "text/plain": [
       "GradientBoostingClassifier(criterion='friedman_mse', init=None,\n",
       "                           learning_rate=0.1, loss='deviance', max_depth=3,\n",
       "                           max_features=None, max_leaf_nodes=None,\n",
       "                           min_impurity_decrease=0.0, min_impurity_split=None,\n",
       "                           min_samples_leaf=1, min_samples_split=2,\n",
       "                           min_weight_fraction_leaf=0.0, n_estimators=100,\n",
       "                           n_iter_no_change=None, presort='auto',\n",
       "                           random_state=None, subsample=1.0, tol=0.0001,\n",
       "                           validation_fraction=0.1, verbose=0,\n",
       "                           warm_start=False)"
      ]
     },
     "execution_count": 75,
     "metadata": {},
     "output_type": "execute_result"
    }
   ],
   "source": [
    "model = GradientBoostingClassifier()\n",
    "model.fit(data_train, label_train)"
   ]
  },
  {
   "cell_type": "code",
   "execution_count": 76,
   "metadata": {},
   "outputs": [
    {
     "name": "stdout",
     "output_type": "stream",
     "text": [
      "\n",
      "\n",
      "MATRIZ DE CONFUSION\n",
      "\n",
      "\n"
     ]
    },
    {
     "data": {
      "image/png": "[encoded data removed]",
      "text/plain": [
       "<Figure size 432x288 with 1 Axes>"
      ]
     },
     "metadata": {
      "needs_background": "light"
     },
     "output_type": "display_data"
    },
    {
     "name": "stdout",
     "output_type": "stream",
     "text": [
      "\n",
      "\n",
      "MEDIDAS DE DESEMPEÑO DEL MODELO\n",
      "\n",
      "\n",
      "Exactitud - Accuracy: 0.92379375\n",
      "ROC AUC: 0.92379375\n",
      "------------------------------------------------------------\n",
      "Precisión por clase: [0.99877306 0.86841139]\n",
      "Sensibilidad - Recall por clase: [0.84863   0.9989575]\n",
      "F1 por clase: [0.91760028 0.92912126]\n",
      "------------------------------------------------------------\n",
      "F1 Macro: 0.9233607698241606\n",
      "F1 Micro: 0.92379375\n",
      "F1 Weighted: 0.9233607698241605\n",
      "------------------------------------------------------------\n",
      "Sensibilidad - Recall Macro: 0.92379375\n",
      "Sensibilidad - Recall Micro: 0.92379375\n",
      "Sensibilidad - Recall Weighted: 0.92379375\n",
      "------------------------------------------------------------\n",
      "Precisión Macro: 0.9335922219348142\n",
      "Precisión Micro: 0.92379375\n",
      "Precisión Weighted: 0.9335922219348142\n",
      "------------------------------------------------------------\n",
      "Verdaderos positivos - True Positives: 1997915\n",
      "Verdaderos negativos - True Negatives: 1697260\n",
      "Falsos positivos - False Positives: 302740\n",
      "Falsos negativos - False Negatives: 2085\n",
      "------------------------------------------------------------\n",
      "Error de clasificacion: 0.076\n",
      "Especificidad - Specificity: 0.999\n",
      "Tasa de falsos positivos FPR: 0.001\n",
      "------------------------------------------------------------\n",
      "              precision    recall  f1-score   support\n",
      "\n",
      "           0       1.00      0.85      0.92   2000000\n",
      "           1       0.87      1.00      0.93   2000000\n",
      "\n",
      "    accuracy                           0.92   4000000\n",
      "   macro avg       0.93      0.92      0.92   4000000\n",
      "weighted avg       0.93      0.92      0.92   4000000\n",
      "\n",
      "\n",
      "\n",
      "CURVA ROC\n"
     ]
    },
    {
     "data": {
      "image/png": "[encoded data removed]",
      "text/plain": [
       "<Figure size 360x360 with 1 Axes>"
      ]
     },
     "metadata": {},
     "output_type": "display_data"
    }
   ],
   "source": [
    "# prediccion con el modelo\n",
    "label_preda = model.predict(data_test)\n",
    "model_evaluation(data_train, label_train, data_test, label_test, model, label_preda)"
   ]
  },
  {
   "cell_type": "markdown",
   "metadata": {},
   "source": [
    "### Gradient Boosting Stratified k-fold cross-validation"
   ]
  },
  {
   "cell_type": "code",
   "execution_count": 79,
   "metadata": {},
   "outputs": [
    {
     "name": "stdout",
     "output_type": "stream",
     "text": [
      "F1 score: 0.814 (0.000)\n"
     ]
    }
   ],
   "source": [
    "model = GradientBoostingClassifier()\n",
    "\n",
    "cv = RepeatedStratifiedKFold(n_splits=3, n_repeats=3, random_state=1)\n",
    "n_scores = cross_val_score(model, data_train, label_train, scoring='f1_macro', cv=cv, n_jobs=-1, error_score='raise')\n",
    "# report performance\n",
    "print('F1 score: %.3f (%.3f)' % (mean(n_scores), std(n_scores)))"
   ]
  },
  {
   "cell_type": "markdown",
   "metadata": {},
   "source": [
    "### Explorar el numero de arboles "
   ]
  },
  {
   "cell_type": "code",
   "execution_count": 75,
   "metadata": {},
   "outputs": [],
   "source": [
    "# funcion para evaluar lista de modelos\n",
    "def get_models():\n",
    "    models = dict()\n",
    "    models['100'] = GradientBoostingClassifier(n_estimators=100)\n",
    "    models['200'] = GradientBoostingClassifier(n_estimators=400)\n",
    "    models['300'] = GradientBoostingClassifier(n_estimators=600)\n",
    "    return models\n",
    "\n",
    "# funcion para evaluar modelo usando CV\n",
    "def evaluate_model(model):\n",
    "    kfold = StratifiedKFold(n_splits=3, shuffle=True, random_state=7)\n",
    "    scores = cross_val_score(model, data_train, label_train, scoring='f1_macro', cv=kfold, n_jobs=-1, error_score='raise')\n",
    "    return scores"
   ]
  },
  {
   "cell_type": "code",
   "execution_count": 76,
   "metadata": {},
   "outputs": [
    {
     "name": "stdout",
     "output_type": "stream",
     "text": [
      ">100 0.814 (0.000223)\n",
      ">200 0.815 (0.000174)\n",
      ">300 0.815 (0.000194)\n"
     ]
    },
    {
     "data": {
      "image/png": "[encoded data removed]",
      "text/plain": [
       "<Figure size 432x288 with 1 Axes>"
      ]
     },
     "metadata": {
      "needs_background": "light"
     },
     "output_type": "display_data"
    }
   ],
   "source": [
    "# modelos a evaluar\n",
    "models = get_models()\n",
    "# evaluar modelos y guardar resultados\n",
    "results, names = list(), list()\n",
    "for name, model in models.items():\n",
    "    scores = evaluate_model(model)\n",
    "    results.append(scores)\n",
    "    names.append(name)\n",
    "    print('>%s %.3f (%.6f)' % (name, mean(scores), std(scores)))\n",
    "# graficar el desempeño del modelo para comparacion \n",
    "pyplot.boxplot(results, labels=names, showmeans=True)\n",
    "pyplot.title(\"XGBoost n_estimators vs F1_score macro\")\n",
    "pyplot.xlabel('n_estimators')\n",
    "pyplot.ylabel('F1_score macro')\n",
    "pyplot.show()"
   ]
  },
  {
   "cell_type": "markdown",
   "metadata": {},
   "source": [
    "## Ajustar la profundidad del árbol (Tree Depth)"
   ]
  },
  {
   "cell_type": "code",
   "execution_count": 77,
   "metadata": {},
   "outputs": [],
   "source": [
    "# lista de modelos a evaluar\n",
    "def get_models():\n",
    "    models = dict()\n",
    "    for i in [2, 4, 6]:\n",
    "        models[str(i)] = GradientBoostingClassifier(max_depth=i)\n",
    "    return models\n",
    "\n",
    "# evaluar usando cross-validation\n",
    "def evaluate_model(model):\n",
    "    kfold = StratifiedKFold(n_splits=3, shuffle=True, random_state=7)\n",
    "    scores = cross_val_score(model, data_train, label_train, scoring='f1_macro', cv=kfold, n_jobs=-1, error_score='raise')\n",
    "    return scores\n"
   ]
  },
  {
   "cell_type": "code",
   "execution_count": 78,
   "metadata": {},
   "outputs": [
    {
     "name": "stdout",
     "output_type": "stream",
     "text": [
      ">2 0.814 (0.000332)\n",
      ">4 0.815 (0.000235)\n",
      ">6 0.815 (0.000226)\n"
     ]
    },
    {
     "data": {
      "image/png": "[encoded data removed]",
      "text/plain": [
       "<Figure size 432x288 with 1 Axes>"
      ]
     },
     "metadata": {
      "needs_background": "light"
     },
     "output_type": "display_data"
    }
   ],
   "source": [
    "# modelos a evaluar\n",
    "models = get_models()\n",
    "# evaluar modelos y guardar resultados\n",
    "results, names = list(), list()\n",
    "for name, model in models.items():\n",
    "    scores = evaluate_model(model)\n",
    "    results.append(scores)\n",
    "    names.append(name)\n",
    "    print('>%s %.3f (%.6f)' % (name, mean(scores), std(scores)))\n",
    "# graficar el desempeño del modelo para comparacion \n",
    "pyplot.boxplot(results, labels=names, showmeans=True)\n",
    "pyplot.title(\"XGBoost n_estimators vs F1_score macro\")\n",
    "pyplot.xlabel('max_depth')\n",
    "pyplot.ylabel('F1_score macro')\n",
    "pyplot.show()"
   ]
  },
  {
   "cell_type": "markdown",
   "metadata": {},
   "source": [
    "##  Ajustar la tasa de aprendizaje (Learning Rate)\n",
    "\n",
    "Podemos utilizar la capacidad de búsqueda de la cuadrícula en scikit-learn para evaluar el efecto sobre la pérdida logarítmica de\n",
    "entrenar un modelo de aumento de gradiente con diferentes valores de tasa de aprendizaje. Retendremos el número\n",
    "de árboles constantes en el valor predeterminado de 100."
   ]
  },
  {
   "cell_type": "code",
   "execution_count": 79,
   "metadata": {},
   "outputs": [],
   "source": [
    "# get a list of models to evaluate\n",
    "def get_models():\n",
    "    models = dict()\n",
    "    for i in [0.01, 0.05, 0.1, 0.3, 0.5, 1.0]:\n",
    "        key = '%.4f' % i\n",
    "        models[key] = GradientBoostingClassifier(learning_rate=i)\n",
    "    return models\n",
    "\n",
    "# evaluar usando cross-validation\n",
    "def evaluate_model(model):\n",
    "    kfold = StratifiedKFold(n_splits=3, shuffle=True, random_state=7)\n",
    "    scores = cross_val_score(model, data_train, label_train, scoring='f1_macro', cv=kfold, n_jobs=-1, error_score='raise')\n",
    "    return scores\n"
   ]
  },
  {
   "cell_type": "code",
   "execution_count": 80,
   "metadata": {},
   "outputs": [
    {
     "name": "stdout",
     "output_type": "stream",
     "text": [
      ">0.0100 0.784 (0.000150)\n",
      ">0.0500 0.814 (0.000325)\n",
      ">0.1000 0.814 (0.000223)\n",
      ">0.3000 0.815 (0.000178)\n",
      ">0.5000 0.815 (0.000199)\n",
      ">1.0000 0.815 (0.000093)\n"
     ]
    },
    {
     "data": {
      "image/png": "[encoded data removed]",
      "text/plain": [
       "<Figure size 432x288 with 1 Axes>"
      ]
     },
     "metadata": {
      "needs_background": "light"
     },
     "output_type": "display_data"
    }
   ],
   "source": [
    "# modelos a evaluar\n",
    "models = get_models()\n",
    "# evaluar modelos y guardar resultados\n",
    "results, names = list(), list()\n",
    "for name, model in models.items():\n",
    "    scores = evaluate_model(model)\n",
    "    results.append(scores)\n",
    "    names.append(name)\n",
    "    print('>%s %.3f (%.6f)' % (name, mean(scores), std(scores)))\n",
    "# graficar el desempeño del modelo para comparacion \n",
    "pyplot.boxplot(results, labels=names, showmeans=True)\n",
    "pyplot.title(\"XGBoost learning_rate vs F1_score macro\")\n",
    "pyplot.xlabel('learning_rate')\n",
    "pyplot.ylabel('F1_score macro')\n",
    "pyplot.show()"
   ]
  },
  {
   "cell_type": "markdown",
   "metadata": {},
   "source": [
    "## Busqueda en cuadricula del numero de arboles y tasa de aprendizaje"
   ]
  },
  {
   "cell_type": "code",
   "execution_count": 80,
   "metadata": {},
   "outputs": [
    {
     "name": "stdout",
     "output_type": "stream",
     "text": [
      "Best: -0.394600 using {'learning_rate': 0.1, 'n_estimators': 600}\n",
      "-0.656787 (0.000025) with: {'learning_rate': 0.001, 'n_estimators': 100}\n",
      "-0.578583 (0.000074) with: {'learning_rate': 0.001, 'n_estimators': 400}\n",
      "-0.543407 (0.000106) with: {'learning_rate': 0.001, 'n_estimators': 600}\n",
      "-0.396665 (0.000234) with: {'learning_rate': 0.1, 'n_estimators': 100}\n",
      "-0.394714 (0.000264) with: {'learning_rate': 0.1, 'n_estimators': 400}\n",
      "-0.394600 (0.000272) with: {'learning_rate': 0.1, 'n_estimators': 600}\n",
      "-0.394878 (0.000230) with: {'learning_rate': 0.5, 'n_estimators': 100}\n",
      "-0.394710 (0.000238) with: {'learning_rate': 0.5, 'n_estimators': 400}\n",
      "-0.394861 (0.000217) with: {'learning_rate': 0.5, 'n_estimators': 600}\n"
     ]
    },
    {
     "data": {
      "image/png": "[encoded data removed]",
      "text/plain": [
       "<Figure size 432x288 with 1 Axes>"
      ]
     },
     "metadata": {},
     "output_type": "display_data"
    }
   ],
   "source": [
    "# grid search\n",
    "model = GradientBoostingClassifier()\n",
    "n_estimators = [100, 400, 600]\n",
    "learning_rate = [0.001, 0.1, 0.5]\n",
    "param_grid = dict(learning_rate=learning_rate, n_estimators=n_estimators)\n",
    "kfold = StratifiedKFold(n_splits=3, shuffle=True, random_state=7)\n",
    "grid_search = GridSearchCV(model, param_grid, scoring=\"neg_log_loss\", n_jobs=-1, cv=kfold)\n",
    "grid_result = grid_search.fit(data_train, label_train)\n",
    "# summarize results\n",
    "print(\"Best: %f using %s\" % (grid_result.best_score_, grid_result.best_params_))\n",
    "means = grid_result.cv_results_['mean_test_score']\n",
    "stds = grid_result.cv_results_['std_test_score']\n",
    "params = grid_result.cv_results_['params']\n",
    "for mean, stdev, param in zip(means, stds, params):\n",
    "\tprint(\"%f (%f) with: %r\" % (mean, stdev, param))\n",
    "# plot results\n",
    "scores = np.array(means).reshape(len(learning_rate), len(n_estimators))\n",
    "for i, value in enumerate(learning_rate):\n",
    "    pyplot.plot(n_estimators, scores[i], label='learning_rate: ' + str(value))\n",
    "pyplot.legend()\n",
    "pyplot.xlabel('n_estimators')\n",
    "pyplot.ylabel('Log Loss')\n",
    "pyplot.savefig('n_estimators_vs_learning_rate1.png')"
   ]
  },
  {
   "cell_type": "code",
   "execution_count": 81,
   "metadata": {},
   "outputs": [
    {
     "name": "stdout",
     "output_type": "stream",
     "text": [
      "[2, 4]\n",
      "Fitting 3 folds for each of 4 candidates, totalling 12 fits\n"
     ]
    },
    {
     "name": "stderr",
     "output_type": "stream",
     "text": [
      "[Parallel(n_jobs=-1)]: Using backend LokyBackend with 12 concurrent workers.\n",
      "[Parallel(n_jobs=-1)]: Done   2 out of  12 | elapsed: 34.4min remaining: 171.9min\n",
      "[Parallel(n_jobs=-1)]: Done  12 out of  12 | elapsed: 65.1min finished\n"
     ]
    },
    {
     "name": "stdout",
     "output_type": "stream",
     "text": [
      "Best: -0.394618 using {'max_depth': 4, 'n_estimators': 600}\n",
      "-0.394999 (0.000249) with: {'max_depth': 2, 'n_estimators': 400}\n",
      "-0.394710 (0.000257) with: {'max_depth': 2, 'n_estimators': 600}\n",
      "-0.394619 (0.000285) with: {'max_depth': 4, 'n_estimators': 400}\n",
      "-0.394618 (0.000247) with: {'max_depth': 4, 'n_estimators': 600}\n"
     ]
    },
    {
     "data": {
      "image/png": "[encoded data removed]",
      "text/plain": [
       "<Figure size 432x288 with 1 Axes>"
      ]
     },
     "metadata": {},
     "output_type": "display_data"
    }
   ],
   "source": [
    "model =  GradientBoostingClassifier()\n",
    "n_estimators = [400, 600]\n",
    "max_depth = [2, 4]\n",
    "print(max_depth)\n",
    "param_grid = dict(max_depth=max_depth, n_estimators=n_estimators)\n",
    "kfold = StratifiedKFold(n_splits=3, shuffle=True, random_state=7)\n",
    "grid_search = GridSearchCV(model, param_grid, scoring=\"neg_log_loss\", n_jobs=-1, cv=kfold, verbose=1)\n",
    "grid_result = grid_search.fit(data_train, label_train)\n",
    "# summarize results\n",
    "print(\"Best: %f using %s\" % (grid_result.best_score_, grid_result.best_params_))\n",
    "means = grid_result.cv_results_['mean_test_score']\n",
    "stds = grid_result.cv_results_['std_test_score']\n",
    "params = grid_result.cv_results_['params']\n",
    "for mean, stdev, param in zip(means, stds, params):\n",
    "\tprint(\"%f (%f) with: %r\" % (mean, stdev, param))\n",
    "# plot results\n",
    "scores = np.array(means).reshape(len(max_depth), len(n_estimators))\n",
    "for i, value in enumerate(max_depth):\n",
    "    pyplot.plot(n_estimators, scores[i], label='depth: ' + str(value))\n",
    "pyplot.legend()\n",
    "pyplot.xlabel('n_estimators')\n",
    "pyplot.ylabel('Log Loss')\n",
    "pyplot.savefig('n_estimators_vs_max_depth2.png')"
   ]
  },
  {
   "cell_type": "markdown",
   "metadata": {},
   "source": [
    "## Ajuste del muestreo de filas "
   ]
  },
  {
   "cell_type": "code",
   "execution_count": 82,
   "metadata": {},
   "outputs": [
    {
     "name": "stdout",
     "output_type": "stream",
     "text": [
      "Best: -0.396636 using {'subsample': 0.75}\n",
      "-0.396766 (0.000226) with: {'subsample': 0.1}\n",
      "-0.396707 (0.000263) with: {'subsample': 0.5}\n",
      "-0.396636 (0.000249) with: {'subsample': 0.75}\n",
      "-0.396665 (0.000234) with: {'subsample': 1.0}\n"
     ]
    },
    {
     "data": {
      "image/png": "[encoded data removed]",
      "text/plain": [
       "<Figure size 432x288 with 1 Axes>"
      ]
     },
     "metadata": {},
     "output_type": "display_data"
    }
   ],
   "source": [
    "# grid search\n",
    "model = GradientBoostingClassifier()\n",
    "subsample = [0.1, 0.5, 0.75, 1.0]\n",
    "param_grid = dict(subsample=subsample)\n",
    "kfold = StratifiedKFold(n_splits=3, shuffle=True, random_state=7)\n",
    "grid_search = GridSearchCV(model, param_grid, scoring=\"neg_log_loss\", n_jobs=-1, cv=kfold)\n",
    "grid_result = grid_search.fit(data_train, label_train)\n",
    "# summarize results\n",
    "print(\"Best: %f using %s\" % (grid_result.best_score_, grid_result.best_params_))\n",
    "means = grid_result.cv_results_['mean_test_score']\n",
    "stds = grid_result.cv_results_['std_test_score']\n",
    "params = grid_result.cv_results_['params']\n",
    "for mean, stdev, param in zip(means, stds, params):\n",
    "\tprint(\"%f (%f) with: %r\" % (mean, stdev, param))\n",
    "# plot\n",
    "pyplot.errorbar(subsample, means, yerr=stds)\n",
    "pyplot.title(\"XGBoost subsample vs Log Loss\")\n",
    "pyplot.xlabel('subsample')\n",
    "pyplot.ylabel('Log Loss')\n",
    "pyplot.savefig('subsample2.png')"
   ]
  },
  {
   "cell_type": "markdown",
   "metadata": {},
   "source": [
    "## Modelo Gradient Boosting hiperparametros ajustados "
   ]
  },
  {
   "cell_type": "code",
   "execution_count": 75,
   "metadata": {},
   "outputs": [
    {
     "data": {
      "text/plain": [
       "GradientBoostingClassifier(criterion='friedman_mse', init=None,\n",
       "                           learning_rate=0.001, loss='deviance', max_depth=2,\n",
       "                           max_features=None, max_leaf_nodes=None,\n",
       "                           min_impurity_decrease=0.0, min_impurity_split=None,\n",
       "                           min_samples_leaf=1, min_samples_split=2,\n",
       "                           min_weight_fraction_leaf=0.0, n_estimators=600,\n",
       "                           n_iter_no_change=None, presort='auto',\n",
       "                           random_state=0, subsample=1, tol=0.0001,\n",
       "                           validation_fraction=0.1, verbose=0,\n",
       "                           warm_start=False)"
      ]
     },
     "execution_count": 75,
     "metadata": {},
     "output_type": "execute_result"
    }
   ],
   "source": [
    "modelo16=GradientBoostingClassifier(max_depth=2, n_estimators=600, learning_rate=0.001, subsample=1, random_state=0)\n",
    "modelo16.fit(data_train, label_train)"
   ]
  },
  {
   "cell_type": "code",
   "execution_count": 76,
   "metadata": {},
   "outputs": [
    {
     "name": "stdout",
     "output_type": "stream",
     "text": [
      "\n",
      "\n",
      "MATRIZ DE CONFUSION\n",
      "\n",
      "\n"
     ]
    },
    {
     "data": {
      "image/png": "[encoded data removed]",
      "text/plain": [
       "<Figure size 432x288 with 1 Axes>"
      ]
     },
     "metadata": {
      "needs_background": "light"
     },
     "output_type": "display_data"
    },
    {
     "name": "stdout",
     "output_type": "stream",
     "text": [
      "\n",
      "\n",
      "MEDIDAS DE DESEMPEÑO DEL MODELO\n",
      "\n",
      "\n",
      "Exactitud - Accuracy: 0.95327625\n",
      "ROC AUC: 0.95327625\n",
      "------------------------------------------------------------\n",
      "Precisión por clase: [0.99812849 0.91583394]\n",
      "Sensibilidad - Recall por clase: [0.9082555 0.998297 ]\n",
      "F1 por clase: [0.95107354 0.95528917]\n",
      "------------------------------------------------------------\n",
      "F1 Macro: 0.9531813547894704\n",
      "F1 Micro: 0.95327625\n",
      "F1 Weighted: 0.9531813547894704\n",
      "------------------------------------------------------------\n",
      "Sensibilidad - Recall Macro: 0.95327625\n",
      "Sensibilidad - Recall Micro: 0.95327625\n",
      "Sensibilidad - Recall Weighted: 0.95327625\n",
      "------------------------------------------------------------\n",
      "Precisión Macro: 0.9569812122559648\n",
      "Precisión Micro: 0.95327625\n",
      "Precisión Weighted: 0.9569812122559648\n",
      "------------------------------------------------------------\n",
      "Verdaderos positivos - True Positives: 1996594\n",
      "Verdaderos negativos - True Negatives: 1816511\n",
      "Falsos positivos - False Positives: 183489\n",
      "Falsos negativos - False Negatives: 3406\n",
      "------------------------------------------------------------\n",
      "Error de clasificacion: 0.047\n",
      "Especificidad - Specificity: 0.998\n",
      "Tasa de falsos positivos FPR: 0.002\n",
      "------------------------------------------------------------\n",
      "              precision    recall  f1-score   support\n",
      "\n",
      "           0       1.00      0.91      0.95   2000000\n",
      "           1       0.92      1.00      0.96   2000000\n",
      "\n",
      "    accuracy                           0.95   4000000\n",
      "   macro avg       0.96      0.95      0.95   4000000\n",
      "weighted avg       0.96      0.95      0.95   4000000\n",
      "\n",
      "\n",
      "\n",
      "CURVA ROC\n"
     ]
    },
    {
     "data": {
      "image/png": "[encoded data removed]",
      "text/plain": [
       "<Figure size 360x360 with 1 Axes>"
      ]
     },
     "metadata": {},
     "output_type": "display_data"
    }
   ],
   "source": [
    "# prediccion con el modelo\n",
    "\n",
    "label_pred16 = modelo16.predict(data_test)\n",
    "\n",
    "model_evaluation(data_train, label_train, data_test, label_test, modelo16, label_pred16)"
   ]
  },
  {
   "cell_type": "markdown",
   "metadata": {},
   "source": [
    "Con el ajuste avanzado de hiperparametros se obtiene una mejora de 3 puntos porcentuale en el F1 maacro , Recall macro y precision macro."
   ]
  }
 ],
 "metadata": {
  "kernelspec": {
   "display_name": "Python 3",
   "language": "python",
   "name": "python3"
  },
  "language_info": {
   "codemirror_mode": {
    "name": "ipython",
    "version": 3
   },
   "file_extension": ".py",
   "mimetype": "text/x-python",
   "name": "python",
   "nbconvert_exporter": "python",
   "pygments_lexer": "ipython3",
   "version": "3.7.3"
  }
 },
 "nbformat": 4,
 "nbformat_minor": 4
}
