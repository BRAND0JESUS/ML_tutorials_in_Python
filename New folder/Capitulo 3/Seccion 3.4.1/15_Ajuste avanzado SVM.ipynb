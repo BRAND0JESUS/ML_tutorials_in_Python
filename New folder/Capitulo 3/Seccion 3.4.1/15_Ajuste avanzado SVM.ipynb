{
 "cells": [
  {
   "cell_type": "markdown",
   "metadata": {},
   "source": [
    "# 15. Ajuste avanzado modelo Support Vector Machine, clasificacion binaria con datos desequilibrados, incluyendo variable ciclo\n",
    "***"
   ]
  },
  {
   "cell_type": "markdown",
   "metadata": {},
   "source": [
    "### Caso de estudio #1\n"
   ]
  },
  {
   "cell_type": "markdown",
   "metadata": {},
   "source": [
    "### Tecnicas de ajuste de los datos y modelos:\n",
    "\n",
    "| Ingeniería de datos       | Si / No     |\n",
    "| :-------                  | :------:    |\n",
    "| Escalado de datos         | No          |\n",
    "| Ajuste de hiperparametros | Si          |\n",
    "| Sobremuestreo             | No          |\n",
    "| Ajuste de pesos de clase  | Si          |\n",
    "| Incluye variable ciclo    | Si          |\n"
   ]
  },
  {
   "cell_type": "markdown",
   "metadata": {},
   "source": [
    "### Cargar librerias"
   ]
  },
  {
   "cell_type": "code",
   "execution_count": 1,
   "metadata": {},
   "outputs": [
    {
     "name": "stderr",
     "output_type": "stream",
     "text": [
      "Using TensorFlow backend.\n"
     ]
    }
   ],
   "source": [
    "# librerias\n",
    "import numpy as np\n",
    "import math\n",
    "import pandas as pd\n",
    "import matplotlib as mpl\n",
    "import matplotlib.pyplot as plt\n",
    "plt.style.use('classic')\n",
    "%matplotlib inline\n",
    "import seaborn as sns\n",
    "import pandas_profiling\n",
    "np.random.seed(9999) \n",
    "\n",
    "from sklearn.ensemble import RandomForestClassifier\n",
    "from sklearn.metrics import confusion_matrix\n",
    "from sklearn import metrics\n",
    "from sklearn.ensemble import RandomForestClassifier\n",
    "from sklearn.model_selection import GridSearchCV\n",
    "from sklearn.metrics import make_scorer, accuracy_score\n",
    "from plot_metric.functions import BinaryClassification\n",
    "from sklearn.naive_bayes import GaussianNB\n",
    "from sklearn.svm import SVC, LinearSVC\n",
    "from sklearn.neighbors import KNeighborsClassifier\n",
    "from sklearn import tree\n",
    "from sklearn.linear_model import LogisticRegression\n",
    "from sklearn.neural_network import MLPClassifier\n",
    "from yellowbrick.classifier import ConfusionMatrix\n",
    "from sklearn.metrics import classification_report\n",
    "\n",
    "# sobremuestreo\n",
    "from imblearn.over_sampling import RandomOverSampler\n",
    "from collections import Counter\n",
    "\n",
    "from sklearn.svm import SVC\n",
    "from sklearn.ensemble import BaggingClassifier\n",
    "from sklearn.datasets import make_classification\n",
    "from sklearn.ensemble import ExtraTreesClassifier\n",
    "from sklearn.ensemble import GradientBoostingClassifier\n",
    "from imblearn.over_sampling import SMOTE\n",
    "from numpy import mean\n",
    "from numpy import std\n",
    "from sklearn.model_selection import cross_val_score\n",
    "from sklearn.model_selection import RepeatedStratifiedKFold\n",
    "from sklearn.ensemble import ExtraTreesClassifier\n",
    "from matplotlib import pyplot\n",
    "from numpy import arange\n",
    "from pprint import pprint\n",
    "from sklearn.metrics import fbeta_score"
   ]
  },
  {
   "cell_type": "markdown",
   "metadata": {},
   "source": [
    "### Funciones"
   ]
  },
  {
   "cell_type": "code",
   "execution_count": 2,
   "metadata": {},
   "outputs": [],
   "source": [
    "# BINARIA funcion para generar matriz de confusion y medidas de desempeño del modelos clasificacion binarios\n",
    "def model_evaluation(data_train, label_train, data_test, label_test, modelo, label_pred):\n",
    "    print('\\n')\n",
    "    print(\"MATRIZ DE CONFUSION\")\n",
    "    print('\\n')\n",
    "    matriz = confusion_matrix(label_test, label_pred)\n",
    "    #print(matriz)\n",
    "    classes = [\"Funcional\",\"Falla potencial\"]\n",
    "    cm = ConfusionMatrix(modelo, classes=classes, label_encoder={0:\"Funcional\", 1:\"Falla Potencial\"})\n",
    "    cm.fit(data_train, label_train)\n",
    "    cm.score(data_test, label_test)\n",
    "    cm.show()\n",
    "    # Medidas de desempeño del modelo\n",
    "    print('\\n')\n",
    "    print(\"MEDIDAS DE DESEMPEÑO DEL MODELO\")\n",
    "    print('\\n')\n",
    "    print('Exactitud - Accuracy: {}'.format(modelo.score(data_test, label_test)))\n",
    "    print('ROC AUC: {}'.format (metrics.roc_auc_score(label_test, label_pred)))\n",
    "    print('-'*60)\n",
    "    print('Precisión por clase: {}'.format(metrics.precision_score(label_test, label_pred, average=None)))\n",
    "    print('Sensibilidad - Recall por clase: {}'.format(metrics.recall_score(label_test, label_pred, average=None)))\n",
    "    print('F1 por clase: {}'.format(metrics.f1_score(label_test, label_pred, average=None)))\n",
    "    print('-'*60)\n",
    "    print('F1 Macro: {}'.format(metrics.f1_score(label_test, label_pred, average='macro')))\n",
    "    print('F1 Micro: {}'.format(metrics.f1_score(label_test, label_pred, average='micro')))\n",
    "    print('F1 Weighted: {}'.format(metrics.f1_score(label_test, label_pred, average='weighted')))\n",
    "    print('-'*60)\n",
    "    print('Sensibilidad - Recall Macro: {}'.format(metrics.recall_score(label_test, label_pred, average='macro')))\n",
    "    print('Sensibilidad - Recall Micro: {}'.format(metrics.recall_score(label_test, label_pred, average='micro')))\n",
    "    print('Sensibilidad - Recall Weighted: {}'.format(metrics.recall_score(label_test, label_pred, average='weighted')))\n",
    "    print('-'*60)\n",
    "    print('Precisión Macro: {}'.format(metrics.precision_score(label_test, label_pred, average='macro')))\n",
    "    print('Precisión Micro: {}'.format(metrics.precision_score(label_test, label_pred, average='micro')))\n",
    "    print('Precisión Weighted: {}'.format(metrics.precision_score(label_test, label_pred, average='weighted')))\n",
    "    \n",
    "    TP = matriz[1][1]\n",
    "    TN = matriz[0][0]\n",
    "    FP = matriz[0][1]\n",
    "    FN = matriz[1][0]\n",
    "    print('-'*60)\n",
    "    print('Verdaderos positivos - True Positives:', TP)\n",
    "    print('Verdaderos negativos - True Negatives:', TN)\n",
    "    print('Falsos positivos - False Positives:', FP)\n",
    "    print('Falsos negativos - False Negatives:', FN)\n",
    "        # calculate accuracy\n",
    "    conf_accuracy = (float (TP+TN) / float(TP + TN + FP + FN))\n",
    "        # calculate mis-classification\n",
    "    conf_misclassification = 1- conf_accuracy\n",
    "        # calculate the sensitivity\n",
    "    conf_sensitivity = (TP / float(TP + FN))\n",
    "        # calculate the specificity\n",
    "    conf_specificity = (TN / float(TN + FN))\n",
    "        # calculate precision\n",
    "    conf_precision = (TP / float(TP + FP))\n",
    "        # calculate f_1 score\n",
    "    conf_f1 = 2 * ((conf_precision * conf_sensitivity) / (conf_precision + conf_sensitivity))\n",
    "        # calculate FPR tasa de falsos positivos\n",
    "    conf_FPR = 1 - conf_specificity\n",
    "    print('-'*60)\n",
    "    print(f'Error de clasificacion: {round(conf_misclassification,3)}') \n",
    "    print(f'Especificidad - Specificity: {round(conf_specificity,3)}') \n",
    "    print(f'Tasa de falsos positivos FPR: {round(conf_FPR,3)}')\n",
    "    print('-'*60)\n",
    "   \n",
    "    print(classification_report(label_test, label_pred))\n",
    "    # curva ROC clasificacion binaria\n",
    "    bc = BinaryClassification(label_test, label_pred, labels=[\"Class 0\", \"Class 1\"])\n",
    "    plt.figure(figsize=(5,5))\n",
    "    bc.plot_roc_curve()\n",
    "    print('\\n')\n",
    "    print(\"CURVA ROC\")\n",
    "    plt.show()"
   ]
  },
  {
   "cell_type": "code",
   "execution_count": 3,
   "metadata": {},
   "outputs": [],
   "source": [
    "# ruta para grabar medidas de desempeño\n",
    "ruta4a = \"D:/alexh/Documents/Maestria en estadistica/proyecto de grado/cuadernos proyecto/Nasa Turbo Fan/Modelos 4a.xlsx\"\n",
    "writer = pd.ExcelWriter(ruta4a, engine='openpyxl')"
   ]
  },
  {
   "cell_type": "markdown",
   "metadata": {},
   "source": [
    "### Preparar datos agil"
   ]
  },
  {
   "cell_type": "code",
   "execution_count": 4,
   "metadata": {},
   "outputs": [],
   "source": [
    "columns=[\"id\",\"ciclo\",\"set1\",\"set2\",\"set3\",\"sensor1\",\"sensor2\",\"sensor3\",\"sensor4\",\"sensor5\",\"sensor6\",\"sensor7\",\"sensor8\",\n",
    "         \"sensor9\",\"sensor10\",\"sensor11\",\"sensor12\",\"sensor13\",\"sensor14\",\"sensor15\",\"sensor16\",\"sensor17\",\"sensor18\",\"sensor19\"\n",
    "         ,\"sensor20\",\"sensor21\",\"sensor22\",\"sensor23\"]\n",
    "train=pd.read_csv(\"train_FD001.txt\",sep=\" \",names=columns)\n",
    "test=pd.read_csv(\"test_FD001.txt\",sep=\" \",names=columns)\n",
    "rul=pd.read_csv(\"RUL_FD001.txt\",sep=\" \",header=None)\n",
    "train.drop(['sensor22','sensor23'], axis=1, inplace=True)\n",
    "test.drop(['sensor22','sensor23'], axis=1, inplace=True)\n",
    "rul.drop([1], axis=1, inplace=True)\n",
    "rul.columns = ['ttf']\n",
    "rul2=pd.DataFrame(train.groupby('id')['ciclo'].max()).reset_index()\n",
    "rul2.columns = ['id', 'falla']\n",
    "train= train.merge(rul2, on=['id'], how='left')\n",
    "train['ttf'] = train['falla'] - train['ciclo']\n",
    "train.drop('falla', axis=1, inplace=True)\n",
    "train['clase1']=np.where(train['ttf'] <= 30, 1, 0)\n",
    "train['clase2']=train['clase1']\n",
    "train.loc[train['ttf']<=15, 'clase2'] =2\n",
    "rul3=pd.DataFrame(test.groupby('id')['ciclo'].max()).reset_index()\n",
    "rul3.columns = ['id', 'falla']\n",
    "rul['id'] = rul.index + 1\n",
    "rul['falla'] = rul3['falla'] + rul['ttf']\n",
    "rul.drop('ttf', axis=1, inplace=True)\n",
    "test=test.merge(rul, on=['id'], how='left')\n",
    "test['ttf'] = test['falla'] - test['ciclo']\n",
    "test.drop('falla', axis=1, inplace=True)\n",
    "test['clase1']=np.where(test['ttf'] <= 30, 1, 0)\n",
    "test['clase2']=test['clase1']\n",
    "test.loc[test['ttf']<=15, 'clase2'] =2\n",
    "\n",
    "# incluyendo la variable ciclo ID\n",
    "data_train=train.iloc[:,np.r_[1:26]]\n",
    "label_train=train.iloc[:,27]\n",
    "data_test=test.iloc[:,np.r_[1:26]]\n",
    "label_test=test.iloc[:,27]\n",
    "label_train2=train.iloc[:,28]\n",
    "label_test2=test.iloc[:,28]\n",
    "\n"
   ]
  },
  {
   "cell_type": "code",
   "execution_count": 5,
   "metadata": {},
   "outputs": [
    {
     "data": {
      "text/plain": [
       "Text(0.5, 1.0, 'Funcional (0) Vs. Falla potencial (1)')"
      ]
     },
     "execution_count": 5,
     "metadata": {},
     "output_type": "execute_result"
    },
    {
     "data": {
      "image/png": "[encoded data removed]",
      "text/plain": [
       "<Figure size 432x288 with 1 Axes>"
      ]
     },
     "metadata": {
      "needs_background": "light"
     },
     "output_type": "display_data"
    }
   ],
   "source": [
    "# conteo de observaciones por clase de la base entrenamiento\n",
    "sns.countplot(label_train)\n",
    "plt.title('Funcional (0) Vs. Falla potencial (1)')"
   ]
  },
  {
   "cell_type": "code",
   "execution_count": 6,
   "metadata": {},
   "outputs": [
    {
     "name": "stdout",
     "output_type": "stream",
     "text": [
      "numero de dimensiones = 2\n",
      "tamaño de la tabla = (20631, 25)\n",
      "total datos = 515775\n"
     ]
    }
   ],
   "source": [
    "print(\"numero de dimensiones =\", data_train.ndim)\n",
    "print(\"tamaño de la tabla =\", data_train.shape)\n",
    "print(\"total datos =\", data_train.size)"
   ]
  },
  {
   "cell_type": "code",
   "execution_count": 7,
   "metadata": {},
   "outputs": [
    {
     "name": "stdout",
     "output_type": "stream",
     "text": [
      "numero de dimensiones = 1\n",
      "tamaño de la tabla = (20631,)\n",
      "total datos = 20631\n"
     ]
    }
   ],
   "source": [
    "print(\"numero de dimensiones =\", label_train.ndim)\n",
    "print(\"tamaño de la tabla =\", label_train.shape)\n",
    "print(\"total datos =\", label_train.size)"
   ]
  },
  {
   "cell_type": "code",
   "execution_count": 8,
   "metadata": {},
   "outputs": [
    {
     "data": {
      "text/html": [
       "<div>\n",
       "<style scoped>\n",
       "    .dataframe tbody tr th:only-of-type {\n",
       "        vertical-align: middle;\n",
       "    }\n",
       "\n",
       "    .dataframe tbody tr th {\n",
       "        vertical-align: top;\n",
       "    }\n",
       "\n",
       "    .dataframe thead th {\n",
       "        text-align: right;\n",
       "    }\n",
       "</style>\n",
       "<table border=\"1\" class=\"dataframe\">\n",
       "  <thead>\n",
       "    <tr style=\"text-align: right;\">\n",
       "      <th></th>\n",
       "      <th>ciclo</th>\n",
       "      <th>set1</th>\n",
       "      <th>set2</th>\n",
       "      <th>set3</th>\n",
       "      <th>sensor1</th>\n",
       "      <th>sensor2</th>\n",
       "      <th>sensor3</th>\n",
       "      <th>sensor4</th>\n",
       "      <th>sensor5</th>\n",
       "      <th>sensor6</th>\n",
       "      <th>...</th>\n",
       "      <th>sensor12</th>\n",
       "      <th>sensor13</th>\n",
       "      <th>sensor14</th>\n",
       "      <th>sensor15</th>\n",
       "      <th>sensor16</th>\n",
       "      <th>sensor17</th>\n",
       "      <th>sensor18</th>\n",
       "      <th>sensor19</th>\n",
       "      <th>sensor20</th>\n",
       "      <th>sensor21</th>\n",
       "    </tr>\n",
       "  </thead>\n",
       "  <tbody>\n",
       "    <tr>\n",
       "      <th>0</th>\n",
       "      <td>1</td>\n",
       "      <td>-0.0007</td>\n",
       "      <td>-0.0004</td>\n",
       "      <td>100.0</td>\n",
       "      <td>518.67</td>\n",
       "      <td>641.82</td>\n",
       "      <td>1589.70</td>\n",
       "      <td>1400.60</td>\n",
       "      <td>14.62</td>\n",
       "      <td>21.61</td>\n",
       "      <td>...</td>\n",
       "      <td>521.66</td>\n",
       "      <td>2388.02</td>\n",
       "      <td>8138.62</td>\n",
       "      <td>8.4195</td>\n",
       "      <td>0.03</td>\n",
       "      <td>392</td>\n",
       "      <td>2388</td>\n",
       "      <td>100.0</td>\n",
       "      <td>39.06</td>\n",
       "      <td>23.4190</td>\n",
       "    </tr>\n",
       "    <tr>\n",
       "      <th>1</th>\n",
       "      <td>2</td>\n",
       "      <td>0.0019</td>\n",
       "      <td>-0.0003</td>\n",
       "      <td>100.0</td>\n",
       "      <td>518.67</td>\n",
       "      <td>642.15</td>\n",
       "      <td>1591.82</td>\n",
       "      <td>1403.14</td>\n",
       "      <td>14.62</td>\n",
       "      <td>21.61</td>\n",
       "      <td>...</td>\n",
       "      <td>522.28</td>\n",
       "      <td>2388.07</td>\n",
       "      <td>8131.49</td>\n",
       "      <td>8.4318</td>\n",
       "      <td>0.03</td>\n",
       "      <td>392</td>\n",
       "      <td>2388</td>\n",
       "      <td>100.0</td>\n",
       "      <td>39.00</td>\n",
       "      <td>23.4236</td>\n",
       "    </tr>\n",
       "    <tr>\n",
       "      <th>2</th>\n",
       "      <td>3</td>\n",
       "      <td>-0.0043</td>\n",
       "      <td>0.0003</td>\n",
       "      <td>100.0</td>\n",
       "      <td>518.67</td>\n",
       "      <td>642.35</td>\n",
       "      <td>1587.99</td>\n",
       "      <td>1404.20</td>\n",
       "      <td>14.62</td>\n",
       "      <td>21.61</td>\n",
       "      <td>...</td>\n",
       "      <td>522.42</td>\n",
       "      <td>2388.03</td>\n",
       "      <td>8133.23</td>\n",
       "      <td>8.4178</td>\n",
       "      <td>0.03</td>\n",
       "      <td>390</td>\n",
       "      <td>2388</td>\n",
       "      <td>100.0</td>\n",
       "      <td>38.95</td>\n",
       "      <td>23.3442</td>\n",
       "    </tr>\n",
       "    <tr>\n",
       "      <th>3</th>\n",
       "      <td>4</td>\n",
       "      <td>0.0007</td>\n",
       "      <td>0.0000</td>\n",
       "      <td>100.0</td>\n",
       "      <td>518.67</td>\n",
       "      <td>642.35</td>\n",
       "      <td>1582.79</td>\n",
       "      <td>1401.87</td>\n",
       "      <td>14.62</td>\n",
       "      <td>21.61</td>\n",
       "      <td>...</td>\n",
       "      <td>522.86</td>\n",
       "      <td>2388.08</td>\n",
       "      <td>8133.83</td>\n",
       "      <td>8.3682</td>\n",
       "      <td>0.03</td>\n",
       "      <td>392</td>\n",
       "      <td>2388</td>\n",
       "      <td>100.0</td>\n",
       "      <td>38.88</td>\n",
       "      <td>23.3739</td>\n",
       "    </tr>\n",
       "    <tr>\n",
       "      <th>4</th>\n",
       "      <td>5</td>\n",
       "      <td>-0.0019</td>\n",
       "      <td>-0.0002</td>\n",
       "      <td>100.0</td>\n",
       "      <td>518.67</td>\n",
       "      <td>642.37</td>\n",
       "      <td>1582.85</td>\n",
       "      <td>1406.22</td>\n",
       "      <td>14.62</td>\n",
       "      <td>21.61</td>\n",
       "      <td>...</td>\n",
       "      <td>522.19</td>\n",
       "      <td>2388.04</td>\n",
       "      <td>8133.80</td>\n",
       "      <td>8.4294</td>\n",
       "      <td>0.03</td>\n",
       "      <td>393</td>\n",
       "      <td>2388</td>\n",
       "      <td>100.0</td>\n",
       "      <td>38.90</td>\n",
       "      <td>23.4044</td>\n",
       "    </tr>\n",
       "  </tbody>\n",
       "</table>\n",
       "<p>5 rows × 25 columns</p>\n",
       "</div>"
      ],
      "text/plain": [
       "   ciclo    set1    set2   set3  sensor1  sensor2  sensor3  sensor4  sensor5  \\\n",
       "0      1 -0.0007 -0.0004  100.0   518.67   641.82  1589.70  1400.60    14.62   \n",
       "1      2  0.0019 -0.0003  100.0   518.67   642.15  1591.82  1403.14    14.62   \n",
       "2      3 -0.0043  0.0003  100.0   518.67   642.35  1587.99  1404.20    14.62   \n",
       "3      4  0.0007  0.0000  100.0   518.67   642.35  1582.79  1401.87    14.62   \n",
       "4      5 -0.0019 -0.0002  100.0   518.67   642.37  1582.85  1406.22    14.62   \n",
       "\n",
       "   sensor6  ...  sensor12  sensor13  sensor14  sensor15  sensor16  sensor17  \\\n",
       "0    21.61  ...    521.66   2388.02   8138.62    8.4195      0.03       392   \n",
       "1    21.61  ...    522.28   2388.07   8131.49    8.4318      0.03       392   \n",
       "2    21.61  ...    522.42   2388.03   8133.23    8.4178      0.03       390   \n",
       "3    21.61  ...    522.86   2388.08   8133.83    8.3682      0.03       392   \n",
       "4    21.61  ...    522.19   2388.04   8133.80    8.4294      0.03       393   \n",
       "\n",
       "   sensor18  sensor19  sensor20  sensor21  \n",
       "0      2388     100.0     39.06   23.4190  \n",
       "1      2388     100.0     39.00   23.4236  \n",
       "2      2388     100.0     38.95   23.3442  \n",
       "3      2388     100.0     38.88   23.3739  \n",
       "4      2388     100.0     38.90   23.4044  \n",
       "\n",
       "[5 rows x 25 columns]"
      ]
     },
     "execution_count": 8,
     "metadata": {},
     "output_type": "execute_result"
    }
   ],
   "source": [
    "data_train.head()"
   ]
  },
  {
   "cell_type": "markdown",
   "metadata": {},
   "source": [
    "## Modelos de clasificacion binaria "
   ]
  },
  {
   "cell_type": "markdown",
   "metadata": {},
   "source": [
    "## Support Vector Machine Classifier hiperparametros por defecto"
   ]
  },
  {
   "cell_type": "code",
   "execution_count": 15,
   "metadata": {},
   "outputs": [
    {
     "name": "stderr",
     "output_type": "stream",
     "text": [
      "C:\\Users\\alexh\\Anaconda3\\lib\\site-packages\\sklearn\\svm\\base.py:193: FutureWarning: The default value of gamma will change from 'auto' to 'scale' in version 0.22 to account better for unscaled features. Set gamma explicitly to 'auto' or 'scale' to avoid this warning.\n",
      "  \"avoid this warning.\", FutureWarning)\n"
     ]
    },
    {
     "data": {
      "text/plain": [
       "SVC(C=1.0, cache_size=200, class_weight=None, coef0=0.0,\n",
       "    decision_function_shape='ovr', degree=3, gamma='auto_deprecated',\n",
       "    kernel='rbf', max_iter=-1, probability=False, random_state=None,\n",
       "    shrinking=True, tol=0.001, verbose=False)"
      ]
     },
     "execution_count": 15,
     "metadata": {},
     "output_type": "execute_result"
    }
   ],
   "source": [
    "modelo1=SVC()\n",
    "modelo1.fit(data_train, label_train)"
   ]
  },
  {
   "cell_type": "code",
   "execution_count": 16,
   "metadata": {},
   "outputs": [
    {
     "name": "stdout",
     "output_type": "stream",
     "text": [
      "\n",
      "\n",
      "MATRIZ DE CONFUSION\n",
      "\n",
      "\n"
     ]
    },
    {
     "data": {
      "image/png": "[encoded data removed]",
      "text/plain": [
       "<Figure size 432x288 with 1 Axes>"
      ]
     },
     "metadata": {
      "needs_background": "light"
     },
     "output_type": "display_data"
    },
    {
     "name": "stdout",
     "output_type": "stream",
     "text": [
      "\n",
      "\n",
      "MEDIDAS DE DESEMPEÑO DEL MODELO\n",
      "\n",
      "\n",
      "Exactitud - Accuracy: 0.9801466096518021\n",
      "ROC AUC: 0.6861768603716023\n",
      "------------------------------------------------------------\n",
      "Precisión por clase: [0.98397585 0.70224719]\n",
      "Sensibilidad - Recall por clase: [0.9958477  0.37650602]\n",
      "F1 por clase: [0.98987618 0.49019608]\n",
      "------------------------------------------------------------\n",
      "F1 Macro: 0.74003612814957\n",
      "F1 Micro: 0.9801466096518021\n",
      "F1 Weighted: 0.9772086616022753\n",
      "------------------------------------------------------------\n",
      "Sensibilidad - Recall Macro: 0.6861768603716023\n",
      "Sensibilidad - Recall Micro: 0.9801466096518021\n",
      "Sensibilidad - Recall Weighted: 0.9801466096518021\n",
      "------------------------------------------------------------\n",
      "Precisión Macro: 0.8431115193328358\n",
      "Precisión Micro: 0.9801466096518021\n",
      "Precisión Weighted: 0.9768336734023326\n",
      "------------------------------------------------------------\n",
      "Verdaderos positivos - True Positives: 125\n",
      "Verdaderos negativos - True Negatives: 12711\n",
      "Falsos positivos - False Positives: 53\n",
      "Falsos negativos - False Negatives: 207\n",
      "------------------------------------------------------------\n",
      "Error de clasificacion: 0.02\n",
      "Especificidad - Specificity: 0.984\n",
      "Tasa de falsos positivos FPR: 0.016\n",
      "------------------------------------------------------------\n",
      "              precision    recall  f1-score   support\n",
      "\n",
      "           0       0.98      1.00      0.99     12764\n",
      "           1       0.70      0.38      0.49       332\n",
      "\n",
      "    accuracy                           0.98     13096\n",
      "   macro avg       0.84      0.69      0.74     13096\n",
      "weighted avg       0.98      0.98      0.98     13096\n",
      "\n",
      "\n",
      "\n",
      "CURVA ROC\n"
     ]
    },
    {
     "data": {
      "image/png": "[encoded data removed]",
      "text/plain": [
       "<Figure size 360x360 with 1 Axes>"
      ]
     },
     "metadata": {},
     "output_type": "display_data"
    }
   ],
   "source": [
    "label_pred1 = modelo1.predict(data_test)\n",
    "# métricas de desempeño - evaluación del modelo\n",
    "model_evaluation(data_train, label_train, data_test, label_test, modelo1, label_pred1)"
   ]
  },
  {
   "cell_type": "markdown",
   "metadata": {},
   "source": [
    "## Grid Search with Cross Validation"
   ]
  },
  {
   "cell_type": "code",
   "execution_count": 21,
   "metadata": {},
   "outputs": [
    {
     "name": "stdout",
     "output_type": "stream",
     "text": [
      "Fitting 3 folds for each of 6 candidates, totalling 18 fits\n"
     ]
    },
    {
     "name": "stderr",
     "output_type": "stream",
     "text": [
      "[Parallel(n_jobs=-1)]: Using backend LokyBackend with 12 concurrent workers.\n",
      "[Parallel(n_jobs=-1)]: Done   5 out of  18 | elapsed:    9.7s remaining:   25.4s\n",
      "[Parallel(n_jobs=-1)]: Done  15 out of  18 | elapsed:   13.0s remaining:    2.5s\n",
      "[Parallel(n_jobs=-1)]: Done  18 out of  18 | elapsed:   13.1s finished\n"
     ]
    },
    {
     "name": "stdout",
     "output_type": "stream",
     "text": [
      "Wall time: 17.3 s\n"
     ]
    },
    {
     "data": {
      "text/plain": [
       "GridSearchCV(cv=3, error_score='raise-deprecating',\n",
       "             estimator=SVC(C=1.0, cache_size=200, class_weight=None, coef0=0.0,\n",
       "                           decision_function_shape='ovr', degree=3,\n",
       "                           gamma='scale', kernel='rbf', max_iter=-1,\n",
       "                           probability=False, random_state=None, shrinking=True,\n",
       "                           tol=0.001, verbose=False),\n",
       "             iid='warn', n_jobs=-1,\n",
       "             param_grid={'C': [0.1, 1, 10, 100, 500, 1000]},\n",
       "             pre_dispatch='2*n_jobs', refit=True, return_train_score=False,\n",
       "             scoring=make_scorer(fbeta_score, beta=1), verbose=2)"
      ]
     },
     "execution_count": 21,
     "metadata": {},
     "output_type": "execute_result"
    }
   ],
   "source": [
    "\n",
    "model = SVC(gamma='scale')\n",
    "parameters= {'C': [0.1, 1, 10, 100, 500, 1000]}  \n",
    "acc_scorer=make_scorer(fbeta_score, beta=1)\n",
    "\n",
    "grid = GridSearchCV(estimator = model, param_grid=parameters, cv=3, verbose=2, scoring=acc_scorer, n_jobs = -1)\n",
    "\n",
    "%time grid.fit(data_train, label_train)\n"
   ]
  },
  {
   "cell_type": "code",
   "execution_count": 22,
   "metadata": {},
   "outputs": [
    {
     "name": "stdout",
     "output_type": "stream",
     "text": [
      "{'C': 1000}\n",
      "0.7654746347213043\n",
      "5\n"
     ]
    }
   ],
   "source": [
    "print(grid.best_params_)\n",
    "print(grid.best_score_)\n",
    "print(grid.best_index_)"
   ]
  },
  {
   "cell_type": "code",
   "execution_count": 23,
   "metadata": {},
   "outputs": [
    {
     "data": {
      "text/plain": [
       "SVC(C=1000, cache_size=200, class_weight=None, coef0=0.0,\n",
       "    decision_function_shape='ovr', degree=3, gamma='scale', kernel='rbf',\n",
       "    max_iter=-1, probability=False, random_state=None, shrinking=True,\n",
       "    tol=0.001, verbose=False)"
      ]
     },
     "execution_count": 23,
     "metadata": {},
     "output_type": "execute_result"
    }
   ],
   "source": [
    "modelo2a= grid.best_estimator_\n",
    "modelo2a.fit(data_train, label_train)"
   ]
  },
  {
   "cell_type": "code",
   "execution_count": 24,
   "metadata": {},
   "outputs": [],
   "source": [
    "label_pred2a = modelo2a.predict(data_test)"
   ]
  },
  {
   "cell_type": "code",
   "execution_count": 25,
   "metadata": {},
   "outputs": [
    {
     "name": "stdout",
     "output_type": "stream",
     "text": [
      "\n",
      "\n",
      "MATRIZ DE CONFUSION\n",
      "\n",
      "\n"
     ]
    },
    {
     "data": {
      "image/png": "[encoded data removed]",
      "text/plain": [
       "<Figure size 432x288 with 1 Axes>"
      ]
     },
     "metadata": {},
     "output_type": "display_data"
    },
    {
     "name": "stdout",
     "output_type": "stream",
     "text": [
      "\n",
      "\n",
      "MEDIDAS DE DESEMPEÑO DEL MODELO\n",
      "\n",
      "\n",
      "Exactitud - Accuracy: 0.9834300549786195\n",
      "ROC AUC: 0.7245325708978189\n",
      "------------------------------------------------------------\n",
      "Precisión por clase: [0.98590349 0.81081081]\n",
      "Sensibilidad - Recall por clase: [0.99725791 0.45180723]\n",
      "F1 por clase: [0.9915482  0.58027079]\n",
      "------------------------------------------------------------\n",
      "F1 Macro: 0.7859094958367785\n",
      "F1 Micro: 0.9834300549786195\n",
      "F1 Weighted: 0.9811218013659436\n",
      "------------------------------------------------------------\n",
      "Sensibilidad - Recall Macro: 0.7245325708978188\n",
      "Sensibilidad - Recall Micro: 0.9834300549786195\n",
      "Sensibilidad - Recall Weighted: 0.9834300549786195\n",
      "------------------------------------------------------------\n",
      "Precisión Macro: 0.8983571519780954\n",
      "Precisión Micro: 0.9834300549786195\n",
      "Precisión Weighted: 0.9814646743812477\n",
      "------------------------------------------------------------\n",
      "Verdaderos positivos - True Positives: 150\n",
      "Verdaderos negativos - True Negatives: 12729\n",
      "Falsos positivos - False Positives: 35\n",
      "Falsos negativos - False Negatives: 182\n",
      "------------------------------------------------------------\n",
      "Error de clasificacion: 0.017\n",
      "Especificidad - Specificity: 0.986\n",
      "Tasa de falsos positivos FPR: 0.014\n",
      "------------------------------------------------------------\n",
      "              precision    recall  f1-score   support\n",
      "\n",
      "           0       0.99      1.00      0.99     12764\n",
      "           1       0.81      0.45      0.58       332\n",
      "\n",
      "    accuracy                           0.98     13096\n",
      "   macro avg       0.90      0.72      0.79     13096\n",
      "weighted avg       0.98      0.98      0.98     13096\n",
      "\n",
      "\n",
      "\n",
      "CURVA ROC\n"
     ]
    },
    {
     "data": {
      "image/png": "[encoded data removed]",
      "text/plain": [
       "<Figure size 360x360 with 1 Axes>"
      ]
     },
     "metadata": {},
     "output_type": "display_data"
    }
   ],
   "source": [
    "# métricas de desempeño - evaluación del modelo\n",
    "model_evaluation(data_train, label_train, data_test, label_test, modelo2a, label_pred2a)"
   ]
  },
  {
   "cell_type": "markdown",
   "metadata": {},
   "source": [
    "## Support Vector Machine ponderada \n",
    "\n",
    "Clasificacion binaria con base desequilibrada y ponderacion de pesos\n"
   ]
  },
  {
   "cell_type": "markdown",
   "metadata": {},
   "source": [
    "## Grid Search Weighted Support Vector Machine, con validacion cruzada estratificada"
   ]
  },
  {
   "cell_type": "code",
   "execution_count": 32,
   "metadata": {},
   "outputs": [
    {
     "name": "stdout",
     "output_type": "stream",
     "text": [
      "Fitting 3 folds for each of 4 candidates, totalling 12 fits\n"
     ]
    },
    {
     "name": "stderr",
     "output_type": "stream",
     "text": [
      "[Parallel(n_jobs=-1)]: Using backend LokyBackend with 12 concurrent workers.\n",
      "[Parallel(n_jobs=-1)]: Done   3 out of  12 | elapsed:    9.7s remaining:   29.2s\n",
      "[Parallel(n_jobs=-1)]: Done  10 out of  12 | elapsed:   24.5s remaining:    4.8s\n",
      "[Parallel(n_jobs=-1)]: Done  12 out of  12 | elapsed:   24.7s finished\n"
     ]
    }
   ],
   "source": [
    "# definir el modelo\n",
    "model = SVC(gamma='scale')\n",
    "# defini cuadricula\n",
    "balance = [{0:1,1:1}, {0:1,1:5}, {0:1,1:10}, {0:1,1:100}]\n",
    "param_grid = dict(class_weight=balance)\n",
    "\n",
    "# definir procedimiento de evaluacion \n",
    "cv = RepeatedStratifiedKFold(n_splits=10, n_repeats=3, random_state=1)\n",
    "\n",
    "acc_scorer=make_scorer(fbeta_score, beta=1)\n",
    "\n",
    "# grid search\n",
    "grid = GridSearchCV(estimator=model, param_grid=param_grid, n_jobs=-1, cv=3, scoring=acc_scorer, verbose=2)\n",
    "\n",
    "# ejecutar grid search\n",
    "grid_result = grid.fit(data_train, label_train)\n"
   ]
  },
  {
   "cell_type": "code",
   "execution_count": 33,
   "metadata": {},
   "outputs": [
    {
     "name": "stdout",
     "output_type": "stream",
     "text": [
      "mejor: 0.586383 usando {'class_weight': {0: 1, 1: 5}}\n",
      "0.000000 (0.000000) with: {'class_weight': {0: 1, 1: 1}}\n",
      "0.586383 (0.045436) with: {'class_weight': {0: 1, 1: 5}}\n",
      "0.461149 (0.021223) with: {'class_weight': {0: 1, 1: 10}}\n",
      "0.261262 (0.000081) with: {'class_weight': {0: 1, 1: 100}}\n"
     ]
    }
   ],
   "source": [
    "# reportar la mejor configuracion\n",
    "print('mejor: %f usando %s' % (grid_result.best_score_, grid_result.best_params_))\n",
    "# reportar las mejores configuraciones\n",
    "means = grid_result.cv_results_['mean_test_score']\n",
    "stds = grid_result.cv_results_['std_test_score']\n",
    "params = grid_result.cv_results_['params']\n",
    "for mean, stdev, param in zip(means, stds, params):\n",
    "    print('%f (%f) with: %r' % (mean, stdev, param))"
   ]
  },
  {
   "cell_type": "markdown",
   "metadata": {},
   "source": [
    "La mejor configuracion es 0:1, 1:5"
   ]
  },
  {
   "cell_type": "code",
   "execution_count": 36,
   "metadata": {},
   "outputs": [
    {
     "name": "stderr",
     "output_type": "stream",
     "text": [
      "C:\\Users\\alexh\\Anaconda3\\lib\\site-packages\\sklearn\\svm\\base.py:193: FutureWarning: The default value of gamma will change from 'auto' to 'scale' in version 0.22 to account better for unscaled features. Set gamma explicitly to 'auto' or 'scale' to avoid this warning.\n",
      "  \"avoid this warning.\", FutureWarning)\n"
     ]
    },
    {
     "data": {
      "text/plain": [
       "SVC(C=1.0, cache_size=200, class_weight={0: 1, 1: 5}, coef0=0.0,\n",
       "    decision_function_shape='ovr', degree=3, gamma='auto_deprecated',\n",
       "    kernel='rbf', max_iter=-1, probability=False, random_state=None,\n",
       "    shrinking=True, tol=0.001, verbose=False)"
      ]
     },
     "execution_count": 36,
     "metadata": {},
     "output_type": "execute_result"
    }
   ],
   "source": [
    "modelo4=SVC(class_weight={0:1,1:5})\n",
    "modelo4.fit(data_train, label_train)"
   ]
  },
  {
   "cell_type": "code",
   "execution_count": 37,
   "metadata": {},
   "outputs": [
    {
     "name": "stdout",
     "output_type": "stream",
     "text": [
      "\n",
      "\n",
      "MATRIZ DE CONFUSION\n",
      "\n",
      "\n"
     ]
    },
    {
     "data": {
      "image/png": "[encoded data removed]",
      "text/plain": [
       "<Figure size 432x288 with 1 Axes>"
      ]
     },
     "metadata": {},
     "output_type": "display_data"
    },
    {
     "name": "stdout",
     "output_type": "stream",
     "text": [
      "\n",
      "\n",
      "MEDIDAS DE DESEMPEÑO DEL MODELO\n",
      "\n",
      "\n",
      "Exactitud - Accuracy: 0.9757941356139279\n",
      "ROC AUC: 0.7338169663926781\n",
      "------------------------------------------------------------\n",
      "Precisión por clase: [0.98647698 0.52475248]\n",
      "Sensibilidad - Recall por clase: [0.98871827 0.47891566]\n",
      "F1 por clase: [0.98759635 0.5007874 ]\n",
      "------------------------------------------------------------\n",
      "F1 Macro: 0.744191877412201\n",
      "F1 Micro: 0.9757941356139279\n",
      "F1 Weighted: 0.975255136698283\n",
      "------------------------------------------------------------\n",
      "Sensibilidad - Recall Macro: 0.7338169663926782\n",
      "Sensibilidad - Recall Micro: 0.9757941356139279\n",
      "Sensibilidad - Recall Weighted: 0.9757941356139279\n",
      "------------------------------------------------------------\n",
      "Precisión Macro: 0.7556147274228713\n",
      "Precisión Micro: 0.9757941356139279\n",
      "Precisión Weighted: 0.97477168519959\n",
      "------------------------------------------------------------\n",
      "Verdaderos positivos - True Positives: 159\n",
      "Verdaderos negativos - True Negatives: 12620\n",
      "Falsos positivos - False Positives: 144\n",
      "Falsos negativos - False Negatives: 173\n",
      "------------------------------------------------------------\n",
      "Error de clasificacion: 0.024\n",
      "Especificidad - Specificity: 0.986\n",
      "Tasa de falsos positivos FPR: 0.014\n",
      "------------------------------------------------------------\n",
      "              precision    recall  f1-score   support\n",
      "\n",
      "           0       0.99      0.99      0.99     12764\n",
      "           1       0.52      0.48      0.50       332\n",
      "\n",
      "    accuracy                           0.98     13096\n",
      "   macro avg       0.76      0.73      0.74     13096\n",
      "weighted avg       0.97      0.98      0.98     13096\n",
      "\n",
      "\n",
      "\n",
      "CURVA ROC\n"
     ]
    },
    {
     "data": {
      "image/png": "[encoded data removed]",
      "text/plain": [
       "<Figure size 360x360 with 1 Axes>"
      ]
     },
     "metadata": {},
     "output_type": "display_data"
    }
   ],
   "source": [
    "label_pred4 = modelo4.predict(data_test)\n",
    "# métricas de desempeño - evaluación del modelo\n",
    "model_evaluation(data_train, label_train, data_test, label_test, modelo4, label_pred4)"
   ]
  }
 ],
 "metadata": {
  "kernelspec": {
   "display_name": "Python 3",
   "language": "python",
   "name": "python3"
  },
  "language_info": {
   "codemirror_mode": {
    "name": "ipython",
    "version": 3
   },
   "file_extension": ".py",
   "mimetype": "text/x-python",
   "name": "python",
   "nbconvert_exporter": "python",
   "pygments_lexer": "ipython3",
   "version": "3.7.3"
  }
 },
 "nbformat": 4,
 "nbformat_minor": 4
}
