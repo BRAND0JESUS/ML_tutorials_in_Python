{
 "cells": [
  {
   "cell_type": "markdown",
   "metadata": {},
   "source": [
    "# 14. Ajuste avanzado modelo Logistic Regression clasificacion binaria balanceo con sobremuestreo de minorías sintéticas (SMOTE), incluyendo variable ciclo\n",
    "***"
   ]
  },
  {
   "cell_type": "markdown",
   "metadata": {},
   "source": [
    "### Caso de estudio #1\n"
   ]
  },
  {
   "cell_type": "markdown",
   "metadata": {},
   "source": [
    "### Tecnicas de ajuste de los datos y modelos:\n",
    "\n",
    "| Ingeniería de datos       | Si / No     |\n",
    "| :-------                  | :------:    |\n",
    "| Escalado de datos         | No          |\n",
    "| Ajuste de hiperparametros | Si          |\n",
    "| Sobremuestreo             | Si          |\n",
    "| Ajuste de pesos de clase  | Si          |\n",
    "| Incluye variable ciclo    | Si          |\n"
   ]
  },
  {
   "cell_type": "markdown",
   "metadata": {},
   "source": [
    "### Cargar librerias"
   ]
  },
  {
   "cell_type": "code",
   "execution_count": 38,
   "metadata": {},
   "outputs": [],
   "source": [
    "# librerias\n",
    "import numpy as np\n",
    "import math\n",
    "import pandas as pd\n",
    "import matplotlib as mpl\n",
    "import matplotlib.pyplot as plt\n",
    "plt.style.use('classic')\n",
    "%matplotlib inline\n",
    "import seaborn as sns\n",
    "import pandas_profiling\n",
    "np.random.seed(9999) \n",
    "\n",
    "from sklearn.ensemble import RandomForestClassifier\n",
    "from sklearn.metrics import confusion_matrix\n",
    "from sklearn import metrics\n",
    "from sklearn.ensemble import RandomForestClassifier\n",
    "from sklearn.model_selection import GridSearchCV\n",
    "from sklearn.metrics import make_scorer, accuracy_score\n",
    "from plot_metric.functions import BinaryClassification\n",
    "from sklearn.naive_bayes import GaussianNB\n",
    "from sklearn.svm import SVC, LinearSVC\n",
    "from sklearn.neighbors import KNeighborsClassifier\n",
    "from sklearn import tree\n",
    "from sklearn.linear_model import LogisticRegression\n",
    "from sklearn.neural_network import MLPClassifier\n",
    "from yellowbrick.classifier import ConfusionMatrix\n",
    "from sklearn.metrics import classification_report\n",
    "\n",
    "# sobremuestreo\n",
    "from imblearn.over_sampling import RandomOverSampler\n",
    "from collections import Counter\n",
    "\n",
    "from sklearn.svm import SVC\n",
    "from sklearn.ensemble import BaggingClassifier\n",
    "from sklearn.datasets import make_classification\n",
    "from sklearn.ensemble import ExtraTreesClassifier\n",
    "from sklearn.ensemble import GradientBoostingClassifier\n",
    "from imblearn.over_sampling import SMOTE\n",
    "from numpy import mean\n",
    "from numpy import std\n",
    "from sklearn.model_selection import cross_val_score\n",
    "from sklearn.model_selection import RepeatedStratifiedKFold\n",
    "from sklearn.ensemble import ExtraTreesClassifier\n",
    "from matplotlib import pyplot\n",
    "from numpy import arange\n",
    "from pprint import pprint\n",
    "from sklearn.metrics import fbeta_score"
   ]
  },
  {
   "cell_type": "markdown",
   "metadata": {},
   "source": [
    "### Funciones"
   ]
  },
  {
   "cell_type": "code",
   "execution_count": 39,
   "metadata": {},
   "outputs": [],
   "source": [
    "# BINARIA funcion para generar matriz de confusion y medidas de desempeño del modelos clasificacion binarios\n",
    "def model_evaluation(data_train, label_train, data_test, label_test, modelo, label_pred):\n",
    "    print('\\n')\n",
    "    print(\"MATRIZ DE CONFUSION\")\n",
    "    print('\\n')\n",
    "    matriz = confusion_matrix(label_test, label_pred)\n",
    "    #print(matriz)\n",
    "    classes = [\"Funcional\",\"Falla potencial\"]\n",
    "    cm = ConfusionMatrix(modelo, classes=classes, label_encoder={0:\"Funcional\", 1:\"Falla Potencial\"})\n",
    "    cm.fit(data_train, label_train)\n",
    "    cm.score(data_test, label_test)\n",
    "    cm.show()\n",
    "    # Medidas de desempeño del modelo\n",
    "    print('\\n')\n",
    "    print(\"MEDIDAS DE DESEMPEÑO DEL MODELO\")\n",
    "    print('\\n')\n",
    "    print('Exactitud - Accuracy: {}'.format(modelo.score(data_test, label_test)))\n",
    "    print('ROC AUC: {}'.format (metrics.roc_auc_score(label_test, label_pred)))\n",
    "    print('-'*60)\n",
    "    print('Precisión por clase: {}'.format(metrics.precision_score(label_test, label_pred, average=None)))\n",
    "    print('Sensibilidad - Recall por clase: {}'.format(metrics.recall_score(label_test, label_pred, average=None)))\n",
    "    print('F1 por clase: {}'.format(metrics.f1_score(label_test, label_pred, average=None)))\n",
    "    print('-'*60)\n",
    "    print('F1 Macro: {}'.format(metrics.f1_score(label_test, label_pred, average='macro')))\n",
    "    print('F1 Micro: {}'.format(metrics.f1_score(label_test, label_pred, average='micro')))\n",
    "    print('F1 Weighted: {}'.format(metrics.f1_score(label_test, label_pred, average='weighted')))\n",
    "    print('-'*60)\n",
    "    print('Sensibilidad - Recall Macro: {}'.format(metrics.recall_score(label_test, label_pred, average='macro')))\n",
    "    print('Sensibilidad - Recall Micro: {}'.format(metrics.recall_score(label_test, label_pred, average='micro')))\n",
    "    print('Sensibilidad - Recall Weighted: {}'.format(metrics.recall_score(label_test, label_pred, average='weighted')))\n",
    "    print('-'*60)\n",
    "    print('Precisión Macro: {}'.format(metrics.precision_score(label_test, label_pred, average='macro')))\n",
    "    print('Precisión Micro: {}'.format(metrics.precision_score(label_test, label_pred, average='micro')))\n",
    "    print('Precisión Weighted: {}'.format(metrics.precision_score(label_test, label_pred, average='weighted')))\n",
    "    \n",
    "    TP = matriz[1][1]\n",
    "    TN = matriz[0][0]\n",
    "    FP = matriz[0][1]\n",
    "    FN = matriz[1][0]\n",
    "    print('-'*60)\n",
    "    print('Verdaderos positivos - True Positives:', TP)\n",
    "    print('Verdaderos negativos - True Negatives:', TN)\n",
    "    print('Falsos positivos - False Positives:', FP)\n",
    "    print('Falsos negativos - False Negatives:', FN)\n",
    "        # calculate accuracy\n",
    "    conf_accuracy = (float (TP+TN) / float(TP + TN + FP + FN))\n",
    "        # calculate mis-classification\n",
    "    conf_misclassification = 1- conf_accuracy\n",
    "        # calculate the sensitivity\n",
    "    conf_sensitivity = (TP / float(TP + FN))\n",
    "        # calculate the specificity\n",
    "    conf_specificity = (TN / float(TN + FN))\n",
    "        # calculate precision\n",
    "    conf_precision = (TP / float(TP + FP))\n",
    "        # calculate f_1 score\n",
    "    conf_f1 = 2 * ((conf_precision * conf_sensitivity) / (conf_precision + conf_sensitivity))\n",
    "        # calculate FPR tasa de falsos positivos\n",
    "    conf_FPR = 1 - conf_specificity\n",
    "    print('-'*60)\n",
    "    print(f'Error de clasificacion: {round(conf_misclassification,3)}') \n",
    "    print(f'Especificidad - Specificity: {round(conf_specificity,3)}') \n",
    "    print(f'Tasa de falsos positivos FPR: {round(conf_FPR,3)}')\n",
    "    print('-'*60)\n",
    "   \n",
    "    print(classification_report(label_test, label_pred))\n",
    "    # curva ROC clasificacion binaria\n",
    "    bc = BinaryClassification(label_test, label_pred, labels=[\"Class 0\", \"Class 1\"])\n",
    "    plt.figure(figsize=(5,5))\n",
    "    bc.plot_roc_curve()\n",
    "    print('\\n')\n",
    "    print(\"CURVA ROC\")\n",
    "    plt.show()"
   ]
  },
  {
   "cell_type": "code",
   "execution_count": 40,
   "metadata": {},
   "outputs": [],
   "source": [
    "# ruta para grabar medidas de desempeño\n",
    "ruta4a = \"D:/alexh/Documents/Maestria en estadistica/proyecto de grado/cuadernos proyecto/Nasa Turbo Fan/Modelos 4a.xlsx\"\n",
    "writer = pd.ExcelWriter(ruta4a, engine='openpyxl')"
   ]
  },
  {
   "cell_type": "markdown",
   "metadata": {},
   "source": [
    "### Preparar datos agil"
   ]
  },
  {
   "cell_type": "code",
   "execution_count": 41,
   "metadata": {},
   "outputs": [],
   "source": [
    "columns=[\"id\",\"ciclo\",\"set1\",\"set2\",\"set3\",\"sensor1\",\"sensor2\",\"sensor3\",\"sensor4\",\"sensor5\",\"sensor6\",\"sensor7\",\"sensor8\",\n",
    "         \"sensor9\",\"sensor10\",\"sensor11\",\"sensor12\",\"sensor13\",\"sensor14\",\"sensor15\",\"sensor16\",\"sensor17\",\"sensor18\",\"sensor19\"\n",
    "         ,\"sensor20\",\"sensor21\",\"sensor22\",\"sensor23\"]\n",
    "train=pd.read_csv(\"train_FD001.txt\",sep=\" \",names=columns)\n",
    "test=pd.read_csv(\"test_FD001.txt\",sep=\" \",names=columns)\n",
    "rul=pd.read_csv(\"RUL_FD001.txt\",sep=\" \",header=None)\n",
    "train.drop(['sensor22','sensor23'], axis=1, inplace=True)\n",
    "test.drop(['sensor22','sensor23'], axis=1, inplace=True)\n",
    "rul.drop([1], axis=1, inplace=True)\n",
    "rul.columns = ['ttf']\n",
    "rul2=pd.DataFrame(train.groupby('id')['ciclo'].max()).reset_index()\n",
    "rul2.columns = ['id', 'falla']\n",
    "train= train.merge(rul2, on=['id'], how='left')\n",
    "train['ttf'] = train['falla'] - train['ciclo']\n",
    "train.drop('falla', axis=1, inplace=True)\n",
    "train['clase1']=np.where(train['ttf'] <= 30, 1, 0)\n",
    "train['clase2']=train['clase1']\n",
    "train.loc[train['ttf']<=15, 'clase2'] =2\n",
    "rul3=pd.DataFrame(test.groupby('id')['ciclo'].max()).reset_index()\n",
    "rul3.columns = ['id', 'falla']\n",
    "rul['id'] = rul.index + 1\n",
    "rul['falla'] = rul3['falla'] + rul['ttf']\n",
    "rul.drop('ttf', axis=1, inplace=True)\n",
    "test=test.merge(rul, on=['id'], how='left')\n",
    "test['ttf'] = test['falla'] - test['ciclo']\n",
    "test.drop('falla', axis=1, inplace=True)\n",
    "test['clase1']=np.where(test['ttf'] <= 30, 1, 0)\n",
    "test['clase2']=test['clase1']\n",
    "test.loc[test['ttf']<=15, 'clase2'] =2\n",
    "\n",
    "# incluyendo la variable ciclo ID\n",
    "data_train=train.iloc[:,np.r_[1:26]]\n",
    "label_train=train.iloc[:,27]\n",
    "data_test=test.iloc[:,np.r_[1:26]]\n",
    "label_test=test.iloc[:,27]\n",
    "label_train2=train.iloc[:,28]\n",
    "label_test2=test.iloc[:,28]\n",
    "\n"
   ]
  },
  {
   "cell_type": "code",
   "execution_count": 42,
   "metadata": {},
   "outputs": [
    {
     "data": {
      "text/plain": [
       "Text(0.5, 1.0, 'Funcional (0) Vs. Falla potencial (1)')"
      ]
     },
     "execution_count": 42,
     "metadata": {},
     "output_type": "execute_result"
    },
    {
     "data": {
      "image/png": "[encoded data removed]",
      "text/plain": [
       "<Figure size 432x288 with 1 Axes>"
      ]
     },
     "metadata": {
      "needs_background": "light"
     },
     "output_type": "display_data"
    }
   ],
   "source": [
    "# conteo de observaciones por clase de la base entrenamiento\n",
    "sns.countplot(label_train)\n",
    "plt.title('Funcional (0) Vs. Falla potencial (1)')"
   ]
  },
  {
   "cell_type": "code",
   "execution_count": 43,
   "metadata": {},
   "outputs": [
    {
     "name": "stdout",
     "output_type": "stream",
     "text": [
      "[(0, 17531), (1, 17531)]\n"
     ]
    }
   ],
   "source": [
    "# sobremuestreo de minorías sintéticas (SMOTE)\n",
    "\n",
    "data_traino, label_traino = SMOTE().fit_resample(data_train, label_train)\n",
    "print(sorted(Counter(label_traino).items()))"
   ]
  },
  {
   "cell_type": "code",
   "execution_count": 44,
   "metadata": {},
   "outputs": [],
   "source": [
    "label_train=pd.Series(label_traino)"
   ]
  },
  {
   "cell_type": "code",
   "execution_count": 45,
   "metadata": {},
   "outputs": [
    {
     "data": {
      "text/plain": [
       "Text(0.5, 1.0, 'Funcional (0) Vs. Falla potencial (1)')"
      ]
     },
     "execution_count": 45,
     "metadata": {},
     "output_type": "execute_result"
    },
    {
     "data": {
      "image/png": "[encoded data removed]",
      "text/plain": [
       "<Figure size 432x288 with 1 Axes>"
      ]
     },
     "metadata": {
      "needs_background": "light"
     },
     "output_type": "display_data"
    }
   ],
   "source": [
    "# grafica de base de entrenamiento equilibrada\n",
    "sns.countplot(label_train)\n",
    "plt.title('Funcional (0) Vs. Falla potencial (1)')"
   ]
  },
  {
   "cell_type": "code",
   "execution_count": 46,
   "metadata": {},
   "outputs": [],
   "source": [
    "data_train= pd.DataFrame(data_traino, columns=data_train.columns)"
   ]
  },
  {
   "cell_type": "code",
   "execution_count": 47,
   "metadata": {},
   "outputs": [
    {
     "name": "stdout",
     "output_type": "stream",
     "text": [
      "numero de dimensiones = 2\n",
      "tamaño de la tabla = (35062, 25)\n",
      "total datos = 876550\n"
     ]
    }
   ],
   "source": [
    "print(\"numero de dimensiones =\", data_train.ndim)\n",
    "print(\"tamaño de la tabla =\", data_train.shape)\n",
    "print(\"total datos =\", data_train.size)"
   ]
  },
  {
   "cell_type": "code",
   "execution_count": 48,
   "metadata": {},
   "outputs": [
    {
     "name": "stdout",
     "output_type": "stream",
     "text": [
      "numero de dimensiones = 1\n",
      "tamaño de la tabla = (35062,)\n",
      "total datos = 35062\n"
     ]
    }
   ],
   "source": [
    "print(\"numero de dimensiones =\", label_train.ndim)\n",
    "print(\"tamaño de la tabla =\", label_train.shape)\n",
    "print(\"total datos =\", label_train.size)"
   ]
  },
  {
   "cell_type": "code",
   "execution_count": 49,
   "metadata": {},
   "outputs": [
    {
     "data": {
      "text/html": [
       "<div>\n",
       "<style scoped>\n",
       "    .dataframe tbody tr th:only-of-type {\n",
       "        vertical-align: middle;\n",
       "    }\n",
       "\n",
       "    .dataframe tbody tr th {\n",
       "        vertical-align: top;\n",
       "    }\n",
       "\n",
       "    .dataframe thead th {\n",
       "        text-align: right;\n",
       "    }\n",
       "</style>\n",
       "<table border=\"1\" class=\"dataframe\">\n",
       "  <thead>\n",
       "    <tr style=\"text-align: right;\">\n",
       "      <th></th>\n",
       "      <th>ciclo</th>\n",
       "      <th>set1</th>\n",
       "      <th>set2</th>\n",
       "      <th>set3</th>\n",
       "      <th>sensor1</th>\n",
       "      <th>sensor2</th>\n",
       "      <th>sensor3</th>\n",
       "      <th>sensor4</th>\n",
       "      <th>sensor5</th>\n",
       "      <th>sensor6</th>\n",
       "      <th>...</th>\n",
       "      <th>sensor12</th>\n",
       "      <th>sensor13</th>\n",
       "      <th>sensor14</th>\n",
       "      <th>sensor15</th>\n",
       "      <th>sensor16</th>\n",
       "      <th>sensor17</th>\n",
       "      <th>sensor18</th>\n",
       "      <th>sensor19</th>\n",
       "      <th>sensor20</th>\n",
       "      <th>sensor21</th>\n",
       "    </tr>\n",
       "  </thead>\n",
       "  <tbody>\n",
       "    <tr>\n",
       "      <th>0</th>\n",
       "      <td>1.0</td>\n",
       "      <td>-0.0007</td>\n",
       "      <td>-0.0004</td>\n",
       "      <td>100.0</td>\n",
       "      <td>518.67</td>\n",
       "      <td>641.82</td>\n",
       "      <td>1589.70</td>\n",
       "      <td>1400.60</td>\n",
       "      <td>14.62</td>\n",
       "      <td>21.61</td>\n",
       "      <td>...</td>\n",
       "      <td>521.66</td>\n",
       "      <td>2388.02</td>\n",
       "      <td>8138.62</td>\n",
       "      <td>8.4195</td>\n",
       "      <td>0.03</td>\n",
       "      <td>392.0</td>\n",
       "      <td>2388.0</td>\n",
       "      <td>100.0</td>\n",
       "      <td>39.06</td>\n",
       "      <td>23.4190</td>\n",
       "    </tr>\n",
       "    <tr>\n",
       "      <th>1</th>\n",
       "      <td>2.0</td>\n",
       "      <td>0.0019</td>\n",
       "      <td>-0.0003</td>\n",
       "      <td>100.0</td>\n",
       "      <td>518.67</td>\n",
       "      <td>642.15</td>\n",
       "      <td>1591.82</td>\n",
       "      <td>1403.14</td>\n",
       "      <td>14.62</td>\n",
       "      <td>21.61</td>\n",
       "      <td>...</td>\n",
       "      <td>522.28</td>\n",
       "      <td>2388.07</td>\n",
       "      <td>8131.49</td>\n",
       "      <td>8.4318</td>\n",
       "      <td>0.03</td>\n",
       "      <td>392.0</td>\n",
       "      <td>2388.0</td>\n",
       "      <td>100.0</td>\n",
       "      <td>39.00</td>\n",
       "      <td>23.4236</td>\n",
       "    </tr>\n",
       "    <tr>\n",
       "      <th>2</th>\n",
       "      <td>3.0</td>\n",
       "      <td>-0.0043</td>\n",
       "      <td>0.0003</td>\n",
       "      <td>100.0</td>\n",
       "      <td>518.67</td>\n",
       "      <td>642.35</td>\n",
       "      <td>1587.99</td>\n",
       "      <td>1404.20</td>\n",
       "      <td>14.62</td>\n",
       "      <td>21.61</td>\n",
       "      <td>...</td>\n",
       "      <td>522.42</td>\n",
       "      <td>2388.03</td>\n",
       "      <td>8133.23</td>\n",
       "      <td>8.4178</td>\n",
       "      <td>0.03</td>\n",
       "      <td>390.0</td>\n",
       "      <td>2388.0</td>\n",
       "      <td>100.0</td>\n",
       "      <td>38.95</td>\n",
       "      <td>23.3442</td>\n",
       "    </tr>\n",
       "    <tr>\n",
       "      <th>3</th>\n",
       "      <td>4.0</td>\n",
       "      <td>0.0007</td>\n",
       "      <td>0.0000</td>\n",
       "      <td>100.0</td>\n",
       "      <td>518.67</td>\n",
       "      <td>642.35</td>\n",
       "      <td>1582.79</td>\n",
       "      <td>1401.87</td>\n",
       "      <td>14.62</td>\n",
       "      <td>21.61</td>\n",
       "      <td>...</td>\n",
       "      <td>522.86</td>\n",
       "      <td>2388.08</td>\n",
       "      <td>8133.83</td>\n",
       "      <td>8.3682</td>\n",
       "      <td>0.03</td>\n",
       "      <td>392.0</td>\n",
       "      <td>2388.0</td>\n",
       "      <td>100.0</td>\n",
       "      <td>38.88</td>\n",
       "      <td>23.3739</td>\n",
       "    </tr>\n",
       "    <tr>\n",
       "      <th>4</th>\n",
       "      <td>5.0</td>\n",
       "      <td>-0.0019</td>\n",
       "      <td>-0.0002</td>\n",
       "      <td>100.0</td>\n",
       "      <td>518.67</td>\n",
       "      <td>642.37</td>\n",
       "      <td>1582.85</td>\n",
       "      <td>1406.22</td>\n",
       "      <td>14.62</td>\n",
       "      <td>21.61</td>\n",
       "      <td>...</td>\n",
       "      <td>522.19</td>\n",
       "      <td>2388.04</td>\n",
       "      <td>8133.80</td>\n",
       "      <td>8.4294</td>\n",
       "      <td>0.03</td>\n",
       "      <td>393.0</td>\n",
       "      <td>2388.0</td>\n",
       "      <td>100.0</td>\n",
       "      <td>38.90</td>\n",
       "      <td>23.4044</td>\n",
       "    </tr>\n",
       "  </tbody>\n",
       "</table>\n",
       "<p>5 rows × 25 columns</p>\n",
       "</div>"
      ],
      "text/plain": [
       "   ciclo    set1    set2   set3  sensor1  sensor2  sensor3  sensor4  sensor5  \\\n",
       "0    1.0 -0.0007 -0.0004  100.0   518.67   641.82  1589.70  1400.60    14.62   \n",
       "1    2.0  0.0019 -0.0003  100.0   518.67   642.15  1591.82  1403.14    14.62   \n",
       "2    3.0 -0.0043  0.0003  100.0   518.67   642.35  1587.99  1404.20    14.62   \n",
       "3    4.0  0.0007  0.0000  100.0   518.67   642.35  1582.79  1401.87    14.62   \n",
       "4    5.0 -0.0019 -0.0002  100.0   518.67   642.37  1582.85  1406.22    14.62   \n",
       "\n",
       "   sensor6  ...  sensor12  sensor13  sensor14  sensor15  sensor16  sensor17  \\\n",
       "0    21.61  ...    521.66   2388.02   8138.62    8.4195      0.03     392.0   \n",
       "1    21.61  ...    522.28   2388.07   8131.49    8.4318      0.03     392.0   \n",
       "2    21.61  ...    522.42   2388.03   8133.23    8.4178      0.03     390.0   \n",
       "3    21.61  ...    522.86   2388.08   8133.83    8.3682      0.03     392.0   \n",
       "4    21.61  ...    522.19   2388.04   8133.80    8.4294      0.03     393.0   \n",
       "\n",
       "   sensor18  sensor19  sensor20  sensor21  \n",
       "0    2388.0     100.0     39.06   23.4190  \n",
       "1    2388.0     100.0     39.00   23.4236  \n",
       "2    2388.0     100.0     38.95   23.3442  \n",
       "3    2388.0     100.0     38.88   23.3739  \n",
       "4    2388.0     100.0     38.90   23.4044  \n",
       "\n",
       "[5 rows x 25 columns]"
      ]
     },
     "execution_count": 49,
     "metadata": {},
     "output_type": "execute_result"
    }
   ],
   "source": [
    "data_train.head()"
   ]
  },
  {
   "cell_type": "markdown",
   "metadata": {},
   "source": [
    "## Modelos de clasificacion binaria balanceo con sobremuestreo de minorías sintéticas (SMOTE), incluyendo variable ciclo"
   ]
  },
  {
   "cell_type": "markdown",
   "metadata": {},
   "source": [
    "## Logistic regression Classifier hiperparametros por defecto"
   ]
  },
  {
   "cell_type": "code",
   "execution_count": 13,
   "metadata": {},
   "outputs": [
    {
     "name": "stderr",
     "output_type": "stream",
     "text": [
      "C:\\Users\\alexh\\Anaconda3\\lib\\site-packages\\sklearn\\linear_model\\logistic.py:432: FutureWarning: Default solver will be changed to 'lbfgs' in 0.22. Specify a solver to silence this warning.\n",
      "  FutureWarning)\n"
     ]
    },
    {
     "data": {
      "text/plain": [
       "LogisticRegression(C=1.0, class_weight=None, dual=False, fit_intercept=True,\n",
       "                   intercept_scaling=1, l1_ratio=None, max_iter=100,\n",
       "                   multi_class='warn', n_jobs=None, penalty='l2',\n",
       "                   random_state=None, solver='warn', tol=0.0001, verbose=0,\n",
       "                   warm_start=False)"
      ]
     },
     "execution_count": 13,
     "metadata": {},
     "output_type": "execute_result"
    }
   ],
   "source": [
    "modelo1=LogisticRegression()\n",
    "modelo1.fit(data_train, label_train)"
   ]
  },
  {
   "cell_type": "code",
   "execution_count": 14,
   "metadata": {},
   "outputs": [
    {
     "name": "stdout",
     "output_type": "stream",
     "text": [
      "\n",
      "\n",
      "MATRIZ DE CONFUSION\n",
      "\n",
      "\n"
     ]
    },
    {
     "data": {
      "image/png": "[encoded data removed]",
      "text/plain": [
       "<Figure size 432x288 with 1 Axes>"
      ]
     },
     "metadata": {
      "needs_background": "light"
     },
     "output_type": "display_data"
    },
    {
     "name": "stdout",
     "output_type": "stream",
     "text": [
      "\n",
      "\n",
      "MEDIDAS DE DESEMPEÑO DEL MODELO\n",
      "\n",
      "\n",
      "Exactitud - Accuracy: 0.9792302993280391\n",
      "ROC AUC: 0.8910659875478096\n",
      "------------------------------------------------------------\n",
      "Precisión por clase: [0.99469349 0.56382979]\n",
      "Sensibilidad - Recall por clase: [0.9839392  0.79819277]\n",
      "F1 por clase: [0.98928712 0.66084788]\n",
      "------------------------------------------------------------\n",
      "F1 Macro: 0.8250675006064987\n",
      "F1 Micro: 0.9792302993280391\n",
      "F1 Weighted: 0.9809607748627368\n",
      "------------------------------------------------------------\n",
      "Sensibilidad - Recall Macro: 0.8910659875478095\n",
      "Sensibilidad - Recall Micro: 0.9792302993280391\n",
      "Sensibilidad - Recall Weighted: 0.9792302993280391\n",
      "------------------------------------------------------------\n",
      "Precisión Macro: 0.7792616384293134\n",
      "Precisión Micro: 0.9792302993280391\n",
      "Precisión Weighted: 0.9837705552023438\n",
      "------------------------------------------------------------\n",
      "Verdaderos positivos - True Positives: 265\n",
      "Verdaderos negativos - True Negatives: 12559\n",
      "Falsos positivos - False Positives: 205\n",
      "Falsos negativos - False Negatives: 67\n",
      "------------------------------------------------------------\n",
      "Error de clasificacion: 0.021\n",
      "Especificidad - Specificity: 0.995\n",
      "Tasa de falsos positivos FPR: 0.005\n",
      "------------------------------------------------------------\n",
      "              precision    recall  f1-score   support\n",
      "\n",
      "           0       0.99      0.98      0.99     12764\n",
      "           1       0.56      0.80      0.66       332\n",
      "\n",
      "    accuracy                           0.98     13096\n",
      "   macro avg       0.78      0.89      0.83     13096\n",
      "weighted avg       0.98      0.98      0.98     13096\n",
      "\n",
      "\n",
      "\n",
      "CURVA ROC\n"
     ]
    },
    {
     "data": {
      "image/png": "[encoded data removed]",
      "text/plain": [
       "<Figure size 360x360 with 1 Axes>"
      ]
     },
     "metadata": {},
     "output_type": "display_data"
    }
   ],
   "source": [
    "label_pred1 = modelo1.predict(data_test)\n",
    "# métricas de desempeño - evaluación del modelo\n",
    "model_evaluation(data_train, label_train, data_test, label_test, modelo1, label_pred1)"
   ]
  },
  {
   "cell_type": "markdown",
   "metadata": {},
   "source": [
    "## Stratified k-fold cross-validation\n",
    "\n",
    "Evaluaremos el modelo utilizando validación cruzada estratificada repetida de k veces, con 3 repeticiones y 10 pliegues. Informaremos la desviación media y estándar de la precisión del modelo en todas las repeticiones y pliegues"
   ]
  },
  {
   "cell_type": "code",
   "execution_count": 15,
   "metadata": {},
   "outputs": [
    {
     "name": "stdout",
     "output_type": "stream",
     "text": [
      "Accuracy: 0.948 (0.004)\n"
     ]
    }
   ],
   "source": [
    "# evaluar \n",
    "model = LogisticRegression()\n",
    "\n",
    "cv = RepeatedStratifiedKFold(n_splits=10, n_repeats=3, random_state=1)\n",
    "n_scores = cross_val_score(model, data_train, label_train, scoring='accuracy', cv=cv, n_jobs=-1, error_score='raise')\n",
    "# report performance\n",
    "print('Accuracy: %.3f (%.3f)' % (mean(n_scores), std(n_scores)))"
   ]
  },
  {
   "cell_type": "markdown",
   "metadata": {},
   "source": [
    "El resultado es una exactitud media de 0.948 con una desviacion estandar de 0.004"
   ]
  },
  {
   "cell_type": "markdown",
   "metadata": {},
   "source": [
    "## Ajuste de hiperparametros\n"
   ]
  },
  {
   "cell_type": "markdown",
   "metadata": {},
   "source": [
    "### Ajustar C"
   ]
  },
  {
   "cell_type": "code",
   "execution_count": 19,
   "metadata": {},
   "outputs": [],
   "source": [
    "def get_models():\n",
    "    models = dict()\n",
    "    for i in [0.001, 0.01, 0.1, 1, 7, 10, 25, 50, 100, 1000]:\n",
    "        models[str(i)] = LogisticRegression(C=i)\n",
    "    return models\n",
    "\n",
    "# evaluar usando cross-validation\n",
    "def evaluate_model(model):\n",
    "    cv = RepeatedStratifiedKFold(n_splits=10, n_repeats=3, random_state=0)\n",
    "    scores = cross_val_score(model, data_train, label_train, scoring='accuracy', cv=cv, n_jobs=-1, error_score='raise')\n",
    "    return scores\n"
   ]
  },
  {
   "cell_type": "code",
   "execution_count": 20,
   "metadata": {},
   "outputs": [
    {
     "name": "stdout",
     "output_type": "stream",
     "text": [
      ">0.001 0.937 (0.004)\n",
      ">0.01 0.944 (0.004)\n",
      ">0.1 0.947 (0.004)\n",
      ">1 0.948 (0.003)\n",
      ">7 0.949 (0.004)\n",
      ">10 0.948 (0.003)\n",
      ">25 0.948 (0.003)\n",
      ">50 0.948 (0.003)\n",
      ">100 0.948 (0.003)\n",
      ">1000 0.948 (0.003)\n"
     ]
    },
    {
     "data": {
      "image/png": "[encoded data removed]",
      "text/plain": [
       "<Figure size 432x288 with 1 Axes>"
      ]
     },
     "metadata": {},
     "output_type": "display_data"
    }
   ],
   "source": [
    "# modelos a evaluar\n",
    "models = get_models()\n",
    "# evaluar modelos y guardar resultados\n",
    "results, names = list(), list()\n",
    "for name, model in models.items():\n",
    "    scores = evaluate_model(model)\n",
    "    results.append(scores)\n",
    "    names.append(name)\n",
    "    print('>%s %.3f (%.3f)' % (name, mean(scores), std(scores)))\n",
    "# graficar el desempeño del modelo para comparacion \n",
    "pyplot.boxplot(results, labels=names, showmeans=True)\n",
    "pyplot.show()"
   ]
  },
  {
   "cell_type": "markdown",
   "metadata": {},
   "source": [
    "## Grid Search with Cross Validation"
   ]
  },
  {
   "cell_type": "code",
   "execution_count": 21,
   "metadata": {},
   "outputs": [
    {
     "name": "stdout",
     "output_type": "stream",
     "text": [
      "Fitting 3 folds for each of 16 candidates, totalling 48 fits\n"
     ]
    },
    {
     "name": "stderr",
     "output_type": "stream",
     "text": [
      "[Parallel(n_jobs=-1)]: Using backend LokyBackend with 12 concurrent workers.\n",
      "[Parallel(n_jobs=-1)]: Done  17 tasks      | elapsed:  3.3min\n",
      "[Parallel(n_jobs=-1)]: Done  48 out of  48 | elapsed:  8.9min finished\n",
      "C:\\Users\\alexh\\Anaconda3\\lib\\site-packages\\sklearn\\linear_model\\logistic.py:432: FutureWarning: Default solver will be changed to 'lbfgs' in 0.22. Specify a solver to silence this warning.\n",
      "  FutureWarning)\n"
     ]
    },
    {
     "name": "stdout",
     "output_type": "stream",
     "text": [
      "Wall time: 8min 56s\n"
     ]
    },
    {
     "data": {
      "text/plain": [
       "GridSearchCV(cv=3, error_score='raise-deprecating',\n",
       "             estimator=LogisticRegression(C=1.0, class_weight=None, dual=False,\n",
       "                                          fit_intercept=True,\n",
       "                                          intercept_scaling=1, l1_ratio=None,\n",
       "                                          max_iter=100, multi_class='warn',\n",
       "                                          n_jobs=None, penalty='l2',\n",
       "                                          random_state=None, solver='warn',\n",
       "                                          tol=0.0001, verbose=0,\n",
       "                                          warm_start=False),\n",
       "             iid='warn', n_jobs=-1,\n",
       "             param_grid={'C': [6, 7, 10, 25, 50, 100, 500, 1000],\n",
       "                         'penalty': ['l1', 'l2']},\n",
       "             pre_dispatch='2*n_jobs', refit=True, return_train_score=False,\n",
       "             scoring=make_scorer(fbeta_score, beta=1), verbose=2)"
      ]
     },
     "execution_count": 21,
     "metadata": {},
     "output_type": "execute_result"
    }
   ],
   "source": [
    "\n",
    "model = LogisticRegression()\n",
    "parameters= {'C': [6, 7, 10, 25, 50, 100, 500, 1000],\n",
    "            'penalty': ['l1', 'l2']                      \n",
    "            }  \n",
    "acc_scorer=make_scorer(fbeta_score, beta=1)\n",
    "\n",
    "grid = GridSearchCV(estimator = model, param_grid=parameters, cv=3, verbose=2, scoring=acc_scorer, n_jobs = -1)\n",
    "\n",
    "%time grid.fit(data_train, label_train)\n"
   ]
  },
  {
   "cell_type": "code",
   "execution_count": 22,
   "metadata": {},
   "outputs": [
    {
     "name": "stdout",
     "output_type": "stream",
     "text": [
      "{'C': 50, 'penalty': 'l2'}\n",
      "0.9474111817797765\n",
      "9\n"
     ]
    }
   ],
   "source": [
    "print(grid.best_params_)\n",
    "print(grid.best_score_)\n",
    "print(grid.best_index_)"
   ]
  },
  {
   "cell_type": "code",
   "execution_count": 23,
   "metadata": {},
   "outputs": [
    {
     "name": "stderr",
     "output_type": "stream",
     "text": [
      "C:\\Users\\alexh\\Anaconda3\\lib\\site-packages\\sklearn\\linear_model\\logistic.py:432: FutureWarning: Default solver will be changed to 'lbfgs' in 0.22. Specify a solver to silence this warning.\n",
      "  FutureWarning)\n"
     ]
    },
    {
     "data": {
      "text/plain": [
       "LogisticRegression(C=50, class_weight=None, dual=False, fit_intercept=True,\n",
       "                   intercept_scaling=1, l1_ratio=None, max_iter=100,\n",
       "                   multi_class='warn', n_jobs=None, penalty='l2',\n",
       "                   random_state=None, solver='warn', tol=0.0001, verbose=0,\n",
       "                   warm_start=False)"
      ]
     },
     "execution_count": 23,
     "metadata": {},
     "output_type": "execute_result"
    }
   ],
   "source": [
    "modelo2a= grid.best_estimator_\n",
    "modelo2a.fit(data_train, label_train)"
   ]
  },
  {
   "cell_type": "code",
   "execution_count": 25,
   "metadata": {},
   "outputs": [],
   "source": [
    "label_pred2a = modelo2a.predict(data_test)"
   ]
  },
  {
   "cell_type": "code",
   "execution_count": 26,
   "metadata": {},
   "outputs": [
    {
     "name": "stdout",
     "output_type": "stream",
     "text": [
      "\n",
      "\n",
      "MATRIZ DE CONFUSION\n",
      "\n",
      "\n"
     ]
    },
    {
     "data": {
      "image/png": "[encoded data removed]",
      "text/plain": [
       "<Figure size 432x288 with 1 Axes>"
      ]
     },
     "metadata": {},
     "output_type": "display_data"
    },
    {
     "name": "stdout",
     "output_type": "stream",
     "text": [
      "\n",
      "\n",
      "MEDIDAS DE DESEMPEÑO DEL MODELO\n",
      "\n",
      "\n",
      "Exactitud - Accuracy: 0.9780849114233354\n",
      "ROC AUC: 0.884610991757692\n",
      "------------------------------------------------------------\n",
      "Precisión por clase: [0.99437356 0.54716981]\n",
      "Sensibilidad - Recall por clase: [0.98307741 0.78614458]\n",
      "F1 por clase: [0.98869322 0.64524104]\n",
      "------------------------------------------------------------\n",
      "F1 Macro: 0.8169671290952398\n",
      "F1 Micro: 0.9780849114233354\n",
      "F1 Weighted: 0.9799862769672091\n",
      "------------------------------------------------------------\n",
      "Sensibilidad - Recall Macro: 0.884610991757692\n",
      "Sensibilidad - Recall Micro: 0.9780849114233354\n",
      "Sensibilidad - Recall Weighted: 0.9780849114233354\n",
      "------------------------------------------------------------\n",
      "Precisión Macro: 0.77077168749729\n",
      "Precisión Micro: 0.9780849114233354\n",
      "Precisión Weighted: 0.9830363885225408\n",
      "------------------------------------------------------------\n",
      "Verdaderos positivos - True Positives: 261\n",
      "Verdaderos negativos - True Negatives: 12548\n",
      "Falsos positivos - False Positives: 216\n",
      "Falsos negativos - False Negatives: 71\n",
      "------------------------------------------------------------\n",
      "Error de clasificacion: 0.022\n",
      "Especificidad - Specificity: 0.994\n",
      "Tasa de falsos positivos FPR: 0.006\n",
      "------------------------------------------------------------\n",
      "              precision    recall  f1-score   support\n",
      "\n",
      "           0       0.99      0.98      0.99     12764\n",
      "           1       0.55      0.79      0.65       332\n",
      "\n",
      "    accuracy                           0.98     13096\n",
      "   macro avg       0.77      0.88      0.82     13096\n",
      "weighted avg       0.98      0.98      0.98     13096\n",
      "\n",
      "\n",
      "\n",
      "CURVA ROC\n"
     ]
    },
    {
     "data": {
      "image/png": "[encoded data removed]",
      "text/plain": [
       "<Figure size 360x360 with 1 Axes>"
      ]
     },
     "metadata": {},
     "output_type": "display_data"
    }
   ],
   "source": [
    "# métricas de desempeño - evaluación del modelo\n",
    "model_evaluation(data_train, label_train, data_test, label_test, modelo2a, label_pred2a)"
   ]
  },
  {
   "cell_type": "markdown",
   "metadata": {},
   "source": [
    "## Regresión logística ponderada \n",
    "\n",
    "Clasificacion binaria con base desequilibrada y ponderacion de pesos\n"
   ]
  },
  {
   "cell_type": "code",
   "execution_count": 50,
   "metadata": {},
   "outputs": [],
   "source": [
    "# base desequilibrada sin sobremuestreo, incluyendo la variable ciclo ID\n",
    "data_train=train.iloc[:,np.r_[1:26]]\n",
    "label_train=train.iloc[:,27]\n",
    "data_test=test.iloc[:,np.r_[1:26]]\n",
    "label_test=test.iloc[:,27]\n"
   ]
  },
  {
   "cell_type": "code",
   "execution_count": 51,
   "metadata": {},
   "outputs": [
    {
     "data": {
      "text/plain": [
       "Text(0.5, 1.0, 'Funcional (0) Vs. Falla potencial (1)')"
      ]
     },
     "execution_count": 51,
     "metadata": {},
     "output_type": "execute_result"
    },
    {
     "data": {
      "image/png": "[encoded data removed]",
      "text/plain": [
       "<Figure size 432x288 with 1 Axes>"
      ]
     },
     "metadata": {
      "needs_background": "light"
     },
     "output_type": "display_data"
    }
   ],
   "source": [
    "# conteo de observaciones por clase de la base entrenamiento\n",
    "sns.countplot(label_train)\n",
    "plt.title('Funcional (0) Vs. Falla potencial (1)')"
   ]
  },
  {
   "cell_type": "markdown",
   "metadata": {},
   "source": [
    "## Logistic regression Classifier hiperparametros por defecto con base desequilibrada"
   ]
  },
  {
   "cell_type": "code",
   "execution_count": 52,
   "metadata": {},
   "outputs": [
    {
     "name": "stderr",
     "output_type": "stream",
     "text": [
      "C:\\Users\\alexh\\Anaconda3\\lib\\site-packages\\sklearn\\linear_model\\logistic.py:432: FutureWarning: Default solver will be changed to 'lbfgs' in 0.22. Specify a solver to silence this warning.\n",
      "  FutureWarning)\n"
     ]
    },
    {
     "data": {
      "text/plain": [
       "LogisticRegression(C=1.0, class_weight=None, dual=False, fit_intercept=True,\n",
       "                   intercept_scaling=1, l1_ratio=None, max_iter=100,\n",
       "                   multi_class='warn', n_jobs=None, penalty='l2',\n",
       "                   random_state=None, solver='warn', tol=0.0001, verbose=0,\n",
       "                   warm_start=False)"
      ]
     },
     "execution_count": 52,
     "metadata": {},
     "output_type": "execute_result"
    }
   ],
   "source": [
    "modelo3=LogisticRegression()\n",
    "modelo3.fit(data_train, label_train)"
   ]
  },
  {
   "cell_type": "code",
   "execution_count": 53,
   "metadata": {},
   "outputs": [
    {
     "name": "stdout",
     "output_type": "stream",
     "text": [
      "\n",
      "\n",
      "MATRIZ DE CONFUSION\n",
      "\n",
      "\n"
     ]
    },
    {
     "data": {
      "image/png": "[encoded data removed]",
      "text/plain": [
       "<Figure size 432x288 with 1 Axes>"
      ]
     },
     "metadata": {
      "needs_background": "light"
     },
     "output_type": "display_data"
    },
    {
     "name": "stdout",
     "output_type": "stream",
     "text": [
      "\n",
      "\n",
      "MEDIDAS DE DESEMPEÑO DEL MODELO\n",
      "\n",
      "\n",
      "Exactitud - Accuracy: 0.9830482590103848\n",
      "ROC AUC: 0.7536737359969493\n",
      "------------------------------------------------------------\n",
      "Precisión por clase: [0.98740867 0.73913043]\n",
      "Sensibilidad - Recall por clase: [0.99529928 0.51204819]\n",
      "F1 por clase: [0.99133828 0.60498221]\n",
      "------------------------------------------------------------\n",
      "F1 Macro: 0.7981602409320705\n",
      "F1 Micro: 0.9830482590103848\n",
      "F1 Weighted: 0.9815436652778183\n",
      "------------------------------------------------------------\n",
      "Sensibilidad - Recall Macro: 0.7536737359969492\n",
      "Sensibilidad - Recall Micro: 0.9830482590103848\n",
      "Sensibilidad - Recall Weighted: 0.9830482590103848\n",
      "------------------------------------------------------------\n",
      "Precisión Macro: 0.8632695544035848\n",
      "Precisión Micro: 0.9830482590103848\n",
      "Precisión Weighted: 0.9811145097432286\n",
      "------------------------------------------------------------\n",
      "Verdaderos positivos - True Positives: 170\n",
      "Verdaderos negativos - True Negatives: 12704\n",
      "Falsos positivos - False Positives: 60\n",
      "Falsos negativos - False Negatives: 162\n",
      "------------------------------------------------------------\n",
      "Error de clasificacion: 0.017\n",
      "Especificidad - Specificity: 0.987\n",
      "Tasa de falsos positivos FPR: 0.013\n",
      "------------------------------------------------------------\n",
      "              precision    recall  f1-score   support\n",
      "\n",
      "           0       0.99      1.00      0.99     12764\n",
      "           1       0.74      0.51      0.60       332\n",
      "\n",
      "    accuracy                           0.98     13096\n",
      "   macro avg       0.86      0.75      0.80     13096\n",
      "weighted avg       0.98      0.98      0.98     13096\n",
      "\n",
      "\n",
      "\n",
      "CURVA ROC\n"
     ]
    },
    {
     "data": {
      "image/png": "[encoded data removed]",
      "text/plain": [
       "<Figure size 360x360 with 1 Axes>"
      ]
     },
     "metadata": {},
     "output_type": "display_data"
    }
   ],
   "source": [
    "label_pred3 = modelo3.predict(data_test)\n",
    "# métricas de desempeño - evaluación del modelo\n",
    "model_evaluation(data_train, label_train, data_test, label_test, modelo3, label_pred3)"
   ]
  },
  {
   "cell_type": "markdown",
   "metadata": {},
   "source": [
    "## Grid Search Weighted Logistic Regression, con validacion cruzada estratificada"
   ]
  },
  {
   "cell_type": "code",
   "execution_count": 58,
   "metadata": {},
   "outputs": [
    {
     "name": "stdout",
     "output_type": "stream",
     "text": [
      "Fitting 3 folds for each of 3 candidates, totalling 9 fits\n"
     ]
    },
    {
     "name": "stderr",
     "output_type": "stream",
     "text": [
      "[Parallel(n_jobs=-1)]: Using backend LokyBackend with 12 concurrent workers.\n",
      "[Parallel(n_jobs=-1)]: Done   6 out of   9 | elapsed:    0.3s remaining:    0.1s\n",
      "[Parallel(n_jobs=-1)]: Done   9 out of   9 | elapsed:    0.4s finished\n",
      "C:\\Users\\alexh\\Anaconda3\\lib\\site-packages\\sklearn\\linear_model\\logistic.py:432: FutureWarning: Default solver will be changed to 'lbfgs' in 0.22. Specify a solver to silence this warning.\n",
      "  FutureWarning)\n"
     ]
    }
   ],
   "source": [
    "# definir el modelo\n",
    "model = LogisticRegression()\n",
    "# defini cuadricula\n",
    "balance = [{0:1,1:1}, {0:1,1:10}, {0:1,1:100}]\n",
    "param_grid = dict(class_weight=balance)\n",
    "\n",
    "# definir procedimiento de evaluacion \n",
    "cv = RepeatedStratifiedKFold(n_splits=10, n_repeats=3, random_state=1)\n",
    "\n",
    "acc_scorer=make_scorer(fbeta_score, beta=2)\n",
    "\n",
    "# grid search\n",
    "grid = GridSearchCV(estimator=model, param_grid=param_grid, n_jobs=-1, cv=3, scoring=acc_scorer, verbose=2)\n",
    "\n",
    "# ejecutar grid search\n",
    "grid_result = grid.fit(data_train, label_train)\n"
   ]
  },
  {
   "cell_type": "code",
   "execution_count": 59,
   "metadata": {},
   "outputs": [
    {
     "name": "stdout",
     "output_type": "stream",
     "text": [
      "mejor: 0.877784 usando {'class_weight': {0: 1, 1: 10}}\n",
      "0.795257 (0.006213) with: {'class_weight': {0: 1, 1: 1}}\n",
      "0.877784 (0.003124) with: {'class_weight': {0: 1, 1: 10}}\n",
      "0.749925 (0.026070) with: {'class_weight': {0: 1, 1: 100}}\n"
     ]
    }
   ],
   "source": [
    "# reportar la mejor configuracion\n",
    "print('mejor: %f usando %s' % (grid_result.best_score_, grid_result.best_params_))\n",
    "# reportar las mejores configuraciones\n",
    "means = grid_result.cv_results_['mean_test_score']\n",
    "stds = grid_result.cv_results_['std_test_score']\n",
    "params = grid_result.cv_results_['params']\n",
    "for mean, stdev, param in zip(means, stds, params):\n",
    "    print('%f (%f) with: %r' % (mean, stdev, param))"
   ]
  },
  {
   "cell_type": "markdown",
   "metadata": {},
   "source": [
    "La mejor configuracion es 0:1, 1:10"
   ]
  },
  {
   "cell_type": "code",
   "execution_count": 61,
   "metadata": {},
   "outputs": [
    {
     "name": "stderr",
     "output_type": "stream",
     "text": [
      "C:\\Users\\alexh\\Anaconda3\\lib\\site-packages\\sklearn\\linear_model\\logistic.py:432: FutureWarning: Default solver will be changed to 'lbfgs' in 0.22. Specify a solver to silence this warning.\n",
      "  FutureWarning)\n"
     ]
    },
    {
     "data": {
      "text/plain": [
       "LogisticRegression(C=1.0, class_weight={0: 1, 1: 10}, dual=False,\n",
       "                   fit_intercept=True, intercept_scaling=1, l1_ratio=None,\n",
       "                   max_iter=100, multi_class='warn', n_jobs=None, penalty='l2',\n",
       "                   random_state=None, solver='warn', tol=0.0001, verbose=0,\n",
       "                   warm_start=False)"
      ]
     },
     "execution_count": 61,
     "metadata": {},
     "output_type": "execute_result"
    }
   ],
   "source": [
    "modelo4=LogisticRegression(class_weight={0:1,1:10})\n",
    "modelo4.fit(data_train, label_train)"
   ]
  },
  {
   "cell_type": "code",
   "execution_count": 62,
   "metadata": {},
   "outputs": [
    {
     "name": "stdout",
     "output_type": "stream",
     "text": [
      "\n",
      "\n",
      "MATRIZ DE CONFUSION\n",
      "\n",
      "\n"
     ]
    },
    {
     "data": {
      "image/png": "[encoded data removed]",
      "text/plain": [
       "<Figure size 432x288 with 1 Axes>"
      ]
     },
     "metadata": {},
     "output_type": "display_data"
    },
    {
     "name": "stdout",
     "output_type": "stream",
     "text": [
      "\n",
      "\n",
      "MEDIDAS DE DESEMPEÑO DEL MODELO\n",
      "\n",
      "\n",
      "Exactitud - Accuracy: 0.9673946243127672\n",
      "ROC AUC: 0.9055301431360038\n",
      "------------------------------------------------------------\n",
      "Precisión por clase: [0.99574058 0.42725881]\n",
      "Sensibilidad - Recall por clase: [0.97069884 0.84036145]\n",
      "F1 por clase: [0.98306026 0.56649746]\n",
      "------------------------------------------------------------\n",
      "F1 Macro: 0.7747788614837672\n",
      "F1 Micro: 0.9673946243127672\n",
      "F1 Weighted: 0.9724998724234195\n",
      "------------------------------------------------------------\n",
      "Sensibilidad - Recall Macro: 0.9055301431360038\n",
      "Sensibilidad - Recall Micro: 0.9673946243127672\n",
      "Sensibilidad - Recall Weighted: 0.9673946243127672\n",
      "------------------------------------------------------------\n",
      "Precisión Macro: 0.7114996912721396\n",
      "Precisión Micro: 0.9673946243127672\n",
      "Precisión Weighted: 0.9813288522187963\n",
      "------------------------------------------------------------\n",
      "Verdaderos positivos - True Positives: 279\n",
      "Verdaderos negativos - True Negatives: 12390\n",
      "Falsos positivos - False Positives: 374\n",
      "Falsos negativos - False Negatives: 53\n",
      "------------------------------------------------------------\n",
      "Error de clasificacion: 0.033\n",
      "Especificidad - Specificity: 0.996\n",
      "Tasa de falsos positivos FPR: 0.004\n",
      "------------------------------------------------------------\n",
      "              precision    recall  f1-score   support\n",
      "\n",
      "           0       1.00      0.97      0.98     12764\n",
      "           1       0.43      0.84      0.57       332\n",
      "\n",
      "    accuracy                           0.97     13096\n",
      "   macro avg       0.71      0.91      0.77     13096\n",
      "weighted avg       0.98      0.97      0.97     13096\n",
      "\n",
      "\n",
      "\n",
      "CURVA ROC\n"
     ]
    },
    {
     "data": {
      "image/png": "[encoded data removed]",
      "text/plain": [
       "<Figure size 360x360 with 1 Axes>"
      ]
     },
     "metadata": {},
     "output_type": "display_data"
    }
   ],
   "source": [
    "label_pred4 = modelo4.predict(data_test)\n",
    "# métricas de desempeño - evaluación del modelo\n",
    "model_evaluation(data_train, label_train, data_test, label_test, modelo4, label_pred4)"
   ]
  },
  {
   "cell_type": "markdown",
   "metadata": {},
   "source": [
    "Con la ponderacion de pesos de clase se obtiene una mejora signifiactiva del recall de la clase 1 "
   ]
  }
 ],
 "metadata": {
  "kernelspec": {
   "display_name": "Python 3",
   "language": "python",
   "name": "python3"
  },
  "language_info": {
   "codemirror_mode": {
    "name": "ipython",
    "version": 3
   },
   "file_extension": ".py",
   "mimetype": "text/x-python",
   "name": "python",
   "nbconvert_exporter": "python",
   "pygments_lexer": "ipython3",
   "version": "3.7.3"
  }
 },
 "nbformat": 4,
 "nbformat_minor": 4
}
