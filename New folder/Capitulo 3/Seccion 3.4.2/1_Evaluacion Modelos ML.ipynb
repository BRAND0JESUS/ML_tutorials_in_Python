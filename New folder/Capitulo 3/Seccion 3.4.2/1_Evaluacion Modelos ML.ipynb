{
 "cells": [
  {
   "cell_type": "markdown",
   "metadata": {},
   "source": [
    "# 1. Evaluacion modelos de clasificacion multiclase algoritmos de Machine Learning\n",
    "***\n"
   ]
  },
  {
   "cell_type": "markdown",
   "metadata": {},
   "source": [
    "### Caso de estudio #2\n"
   ]
  },
  {
   "cell_type": "markdown",
   "metadata": {},
   "source": [
    "### Tecnicas de ajuste de los datos y modelos:\n",
    "\n",
    "| Ingeniería de datos       | Si / No       |\n",
    "| :-------                  | :------:    |\n",
    "| Escalado de datos         | Si          |\n",
    "| Ajuste de hiperparametros | No         |\n",
    "| Sobremuestreo             | No          |\n",
    "| Ajuste de pesos de clase  | No          |\n",
    "\n"
   ]
  },
  {
   "cell_type": "code",
   "execution_count": 1,
   "metadata": {},
   "outputs": [],
   "source": [
    "# librerias\n",
    "import numpy as np\n",
    "import math\n",
    "import pandas as pd\n",
    "import matplotlib as mpl\n",
    "import matplotlib.pyplot as plt\n",
    "plt.style.use('classic')\n",
    "%matplotlib inline\n",
    "import seaborn as sns\n",
    "\n",
    "from numpy.random import seed\n",
    "seed(0)\n",
    "\n",
    "from sklearn.ensemble import RandomForestClassifier\n",
    "from sklearn.metrics import confusion_matrix\n",
    "from sklearn import metrics\n",
    "from sklearn.ensemble import RandomForestClassifier\n",
    "from sklearn.model_selection import GridSearchCV\n",
    "from sklearn.metrics import make_scorer, accuracy_score\n",
    "from plot_metric.functions import BinaryClassification\n",
    "from sklearn.naive_bayes import GaussianNB\n",
    "from sklearn.svm import SVC, LinearSVC\n",
    "from sklearn.neighbors import KNeighborsClassifier\n",
    "from sklearn import tree\n",
    "from sklearn.linear_model import LogisticRegression\n",
    "from sklearn.neural_network import MLPClassifier\n",
    "from yellowbrick.classifier import ConfusionMatrix\n",
    "from sklearn.metrics import classification_report\n",
    "\n",
    "from sklearn.svm import SVC\n",
    "from sklearn.ensemble import BaggingClassifier\n",
    "from sklearn.datasets import make_classification\n",
    "from sklearn.ensemble import ExtraTreesClassifier\n",
    "from sklearn.ensemble import GradientBoostingClassifier\n",
    "\n",
    "from sklearn.preprocessing import StandardScaler\n",
    "from sklearn.model_selection import cross_val_score\n",
    "from sklearn.model_selection import RepeatedStratifiedKFold\n",
    "from numpy import mean\n",
    "from numpy import std"
   ]
  },
  {
   "cell_type": "code",
   "execution_count": 2,
   "metadata": {},
   "outputs": [],
   "source": [
    "# MULTICLASE funcion para generar matriz de confusion y medidas de desempeño del modelos clasificacion multiclase\n",
    "def model_evaluation_multi(data_train, label_train2, data_test, label_test2, modelo, label_pred):\n",
    "    print('\\n')\n",
    "    print(\"MATRIZ DE CONFUSION\")\n",
    "    print('\\n')\n",
    "    matriz = confusion_matrix(label_test2, label_pred)\n",
    "    #print(matriz)\n",
    "    classes = [\"Funcional\",\"Falla comp1\",\"Falla comp2\",\"Falla comp3\",\"Falla comp4\"]\n",
    "    cm = ConfusionMatrix(modelo, classes=classes, label_encoder={0:\"Funcional\", 1:\"Falla comp1\", 2:\"Falla comp2\", 3:\"Falla comp3\", 4:\"Falla comp4\"})\n",
    "    cm.fit(data_train, label_train2)\n",
    "    cm.score(data_test, label_test2)\n",
    "    cm.show()\n",
    "    # Medidas de desempeño del modelo\n",
    "    print('\\n')\n",
    "    print(\"MEDIDAS DE DESEMPEÑO DEL MODELO\")\n",
    "    print('\\n')\n",
    "    print('Exactitud - Accuracy: {}'.format(modelo.score(data_test, label_test2)))\n",
    "    print('-'*60)\n",
    "    print('Precisión por clase: {}'.format(metrics.precision_score(label_test2, label_pred, average=None)))\n",
    "    print('Sensibilidad - Recall por clase: {}'.format(metrics.recall_score(label_test2, label_pred, average=None)))\n",
    "    print('F1 por clase: {}'.format(metrics.f1_score(label_test2, label_pred, average=None)))\n",
    "    print('-'*60)\n",
    "    print('F1 Macro: {}'.format(metrics.f1_score(label_test2, label_pred, average='macro')))\n",
    "    print('F1 Micro: {}'.format(metrics.f1_score(label_test2, label_pred, average='micro')))\n",
    "    print('F1 Weighted: {}'.format(metrics.f1_score(label_test2, label_pred, average='weighted')))\n",
    "    print('-'*60)\n",
    "    print('Sensibilidad - Recall Macro: {}'.format(metrics.recall_score(label_test2, label_pred, average='macro')))\n",
    "    print('Sensibilidad - Recall Micro: {}'.format(metrics.recall_score(label_test2, label_pred, average='micro')))\n",
    "    print('Sensibilidad - Recall Weighted: {}'.format(metrics.recall_score(label_test2, label_pred, average='weighted')))\n",
    "    print('-'*60)\n",
    "    print('Precisión Macro: {}'.format(metrics.precision_score(label_test2, label_pred, average='macro')))\n",
    "    print('Precisión Micro: {}'.format(metrics.precision_score(label_test2, label_pred, average='micro')))\n",
    "    print('Precisión Weighted: {}'.format(metrics.precision_score(label_test2, label_pred, average='weighted')))\n",
    "        \n",
    "    print('-'*60)\n",
    "   \n",
    "    print(classification_report(label_test2, label_pred))\n",
    "    "
   ]
  },
  {
   "cell_type": "code",
   "execution_count": 3,
   "metadata": {},
   "outputs": [],
   "source": [
    "# cargar archivos\n",
    "test = pd.read_excel (r'D:\\alexh\\Documents\\Maestria en estadistica\\proyecto de grado\\datos simulacion\\test11.xlsx')\n",
    "train = pd.read_excel (r'D:\\alexh\\Documents\\Maestria en estadistica\\proyecto de grado\\datos simulacion\\train11.xlsx')"
   ]
  },
  {
   "cell_type": "code",
   "execution_count": 4,
   "metadata": {},
   "outputs": [
    {
     "data": {
      "text/html": [
       "<div>\n",
       "<style scoped>\n",
       "    .dataframe tbody tr th:only-of-type {\n",
       "        vertical-align: middle;\n",
       "    }\n",
       "\n",
       "    .dataframe tbody tr th {\n",
       "        vertical-align: top;\n",
       "    }\n",
       "\n",
       "    .dataframe thead th {\n",
       "        text-align: right;\n",
       "    }\n",
       "</style>\n",
       "<table border=\"1\" class=\"dataframe\">\n",
       "  <thead>\n",
       "    <tr style=\"text-align: right;\">\n",
       "      <th></th>\n",
       "      <th>datetime</th>\n",
       "      <th>id</th>\n",
       "      <th>volt</th>\n",
       "      <th>rotate</th>\n",
       "      <th>pressure</th>\n",
       "      <th>vibration</th>\n",
       "      <th>error1</th>\n",
       "      <th>error2</th>\n",
       "      <th>error3</th>\n",
       "      <th>error4</th>\n",
       "      <th>error5</th>\n",
       "      <th>mto_comp1</th>\n",
       "      <th>mto_comp2</th>\n",
       "      <th>mto_comp3</th>\n",
       "      <th>mto_comp4</th>\n",
       "      <th>model</th>\n",
       "      <th>age</th>\n",
       "      <th>failure</th>\n",
       "    </tr>\n",
       "  </thead>\n",
       "  <tbody>\n",
       "    <tr>\n",
       "      <th>0</th>\n",
       "      <td>2015-01-01 06:00:00</td>\n",
       "      <td>1</td>\n",
       "      <td>176.217853</td>\n",
       "      <td>418.504078</td>\n",
       "      <td>113.077935</td>\n",
       "      <td>45.087686</td>\n",
       "      <td>0</td>\n",
       "      <td>0</td>\n",
       "      <td>0</td>\n",
       "      <td>0</td>\n",
       "      <td>0</td>\n",
       "      <td>0</td>\n",
       "      <td>0</td>\n",
       "      <td>0</td>\n",
       "      <td>0</td>\n",
       "      <td>3</td>\n",
       "      <td>18</td>\n",
       "      <td>0</td>\n",
       "    </tr>\n",
       "    <tr>\n",
       "      <th>1</th>\n",
       "      <td>2015-01-01 07:00:00</td>\n",
       "      <td>1</td>\n",
       "      <td>162.879223</td>\n",
       "      <td>402.747490</td>\n",
       "      <td>95.460525</td>\n",
       "      <td>43.413973</td>\n",
       "      <td>0</td>\n",
       "      <td>0</td>\n",
       "      <td>0</td>\n",
       "      <td>0</td>\n",
       "      <td>0</td>\n",
       "      <td>0</td>\n",
       "      <td>0</td>\n",
       "      <td>0</td>\n",
       "      <td>0</td>\n",
       "      <td>3</td>\n",
       "      <td>18</td>\n",
       "      <td>0</td>\n",
       "    </tr>\n",
       "    <tr>\n",
       "      <th>2</th>\n",
       "      <td>2015-01-01 08:00:00</td>\n",
       "      <td>1</td>\n",
       "      <td>170.989902</td>\n",
       "      <td>527.349825</td>\n",
       "      <td>75.237905</td>\n",
       "      <td>34.178847</td>\n",
       "      <td>0</td>\n",
       "      <td>0</td>\n",
       "      <td>0</td>\n",
       "      <td>0</td>\n",
       "      <td>0</td>\n",
       "      <td>0</td>\n",
       "      <td>0</td>\n",
       "      <td>0</td>\n",
       "      <td>0</td>\n",
       "      <td>3</td>\n",
       "      <td>18</td>\n",
       "      <td>0</td>\n",
       "    </tr>\n",
       "    <tr>\n",
       "      <th>3</th>\n",
       "      <td>2015-01-01 09:00:00</td>\n",
       "      <td>1</td>\n",
       "      <td>162.462833</td>\n",
       "      <td>346.149335</td>\n",
       "      <td>109.248561</td>\n",
       "      <td>41.122144</td>\n",
       "      <td>0</td>\n",
       "      <td>0</td>\n",
       "      <td>0</td>\n",
       "      <td>0</td>\n",
       "      <td>0</td>\n",
       "      <td>0</td>\n",
       "      <td>0</td>\n",
       "      <td>0</td>\n",
       "      <td>0</td>\n",
       "      <td>3</td>\n",
       "      <td>18</td>\n",
       "      <td>0</td>\n",
       "    </tr>\n",
       "    <tr>\n",
       "      <th>4</th>\n",
       "      <td>2015-01-01 10:00:00</td>\n",
       "      <td>1</td>\n",
       "      <td>157.610021</td>\n",
       "      <td>435.376873</td>\n",
       "      <td>111.886648</td>\n",
       "      <td>25.990511</td>\n",
       "      <td>0</td>\n",
       "      <td>0</td>\n",
       "      <td>0</td>\n",
       "      <td>0</td>\n",
       "      <td>0</td>\n",
       "      <td>0</td>\n",
       "      <td>0</td>\n",
       "      <td>0</td>\n",
       "      <td>0</td>\n",
       "      <td>3</td>\n",
       "      <td>18</td>\n",
       "      <td>0</td>\n",
       "    </tr>\n",
       "  </tbody>\n",
       "</table>\n",
       "</div>"
      ],
      "text/plain": [
       "             datetime  id        volt      rotate    pressure  vibration  \\\n",
       "0 2015-01-01 06:00:00   1  176.217853  418.504078  113.077935  45.087686   \n",
       "1 2015-01-01 07:00:00   1  162.879223  402.747490   95.460525  43.413973   \n",
       "2 2015-01-01 08:00:00   1  170.989902  527.349825   75.237905  34.178847   \n",
       "3 2015-01-01 09:00:00   1  162.462833  346.149335  109.248561  41.122144   \n",
       "4 2015-01-01 10:00:00   1  157.610021  435.376873  111.886648  25.990511   \n",
       "\n",
       "   error1  error2  error3  error4  error5  mto_comp1  mto_comp2  mto_comp3  \\\n",
       "0       0       0       0       0       0          0          0          0   \n",
       "1       0       0       0       0       0          0          0          0   \n",
       "2       0       0       0       0       0          0          0          0   \n",
       "3       0       0       0       0       0          0          0          0   \n",
       "4       0       0       0       0       0          0          0          0   \n",
       "\n",
       "   mto_comp4  model  age  failure  \n",
       "0          0      3   18        0  \n",
       "1          0      3   18        0  \n",
       "2          0      3   18        0  \n",
       "3          0      3   18        0  \n",
       "4          0      3   18        0  "
      ]
     },
     "execution_count": 4,
     "metadata": {},
     "output_type": "execute_result"
    }
   ],
   "source": [
    "train.head()"
   ]
  },
  {
   "cell_type": "code",
   "execution_count": 5,
   "metadata": {},
   "outputs": [
    {
     "data": {
      "text/html": [
       "<div>\n",
       "<style scoped>\n",
       "    .dataframe tbody tr th:only-of-type {\n",
       "        vertical-align: middle;\n",
       "    }\n",
       "\n",
       "    .dataframe tbody tr th {\n",
       "        vertical-align: top;\n",
       "    }\n",
       "\n",
       "    .dataframe thead th {\n",
       "        text-align: right;\n",
       "    }\n",
       "</style>\n",
       "<table border=\"1\" class=\"dataframe\">\n",
       "  <thead>\n",
       "    <tr style=\"text-align: right;\">\n",
       "      <th></th>\n",
       "      <th>datetime</th>\n",
       "      <th>id</th>\n",
       "      <th>volt</th>\n",
       "      <th>rotate</th>\n",
       "      <th>pressure</th>\n",
       "      <th>vibration</th>\n",
       "      <th>error1</th>\n",
       "      <th>error2</th>\n",
       "      <th>error3</th>\n",
       "      <th>error4</th>\n",
       "      <th>error5</th>\n",
       "      <th>mto_comp1</th>\n",
       "      <th>mto_comp2</th>\n",
       "      <th>mto_comp3</th>\n",
       "      <th>mto_comp4</th>\n",
       "      <th>model</th>\n",
       "      <th>age</th>\n",
       "      <th>failure</th>\n",
       "    </tr>\n",
       "  </thead>\n",
       "  <tbody>\n",
       "    <tr>\n",
       "      <th>0</th>\n",
       "      <td>2015-01-01 06:00:00</td>\n",
       "      <td>3</td>\n",
       "      <td>185.482043</td>\n",
       "      <td>461.211137</td>\n",
       "      <td>87.453199</td>\n",
       "      <td>28.216864</td>\n",
       "      <td>0</td>\n",
       "      <td>0</td>\n",
       "      <td>0</td>\n",
       "      <td>0</td>\n",
       "      <td>0</td>\n",
       "      <td>0</td>\n",
       "      <td>0</td>\n",
       "      <td>0</td>\n",
       "      <td>0</td>\n",
       "      <td>3</td>\n",
       "      <td>8</td>\n",
       "      <td>0</td>\n",
       "    </tr>\n",
       "    <tr>\n",
       "      <th>1</th>\n",
       "      <td>2015-01-01 07:00:00</td>\n",
       "      <td>3</td>\n",
       "      <td>179.818516</td>\n",
       "      <td>519.166185</td>\n",
       "      <td>109.318603</td>\n",
       "      <td>37.290722</td>\n",
       "      <td>0</td>\n",
       "      <td>0</td>\n",
       "      <td>0</td>\n",
       "      <td>0</td>\n",
       "      <td>0</td>\n",
       "      <td>0</td>\n",
       "      <td>0</td>\n",
       "      <td>0</td>\n",
       "      <td>0</td>\n",
       "      <td>3</td>\n",
       "      <td>8</td>\n",
       "      <td>0</td>\n",
       "    </tr>\n",
       "    <tr>\n",
       "      <th>2</th>\n",
       "      <td>2015-01-01 08:00:00</td>\n",
       "      <td>3</td>\n",
       "      <td>165.616803</td>\n",
       "      <td>467.107482</td>\n",
       "      <td>101.285580</td>\n",
       "      <td>34.530035</td>\n",
       "      <td>0</td>\n",
       "      <td>0</td>\n",
       "      <td>0</td>\n",
       "      <td>0</td>\n",
       "      <td>0</td>\n",
       "      <td>0</td>\n",
       "      <td>0</td>\n",
       "      <td>0</td>\n",
       "      <td>0</td>\n",
       "      <td>3</td>\n",
       "      <td>8</td>\n",
       "      <td>0</td>\n",
       "    </tr>\n",
       "    <tr>\n",
       "      <th>3</th>\n",
       "      <td>2015-01-01 09:00:00</td>\n",
       "      <td>3</td>\n",
       "      <td>165.007013</td>\n",
       "      <td>391.994872</td>\n",
       "      <td>98.825669</td>\n",
       "      <td>27.495507</td>\n",
       "      <td>0</td>\n",
       "      <td>0</td>\n",
       "      <td>0</td>\n",
       "      <td>0</td>\n",
       "      <td>0</td>\n",
       "      <td>0</td>\n",
       "      <td>0</td>\n",
       "      <td>0</td>\n",
       "      <td>0</td>\n",
       "      <td>3</td>\n",
       "      <td>8</td>\n",
       "      <td>0</td>\n",
       "    </tr>\n",
       "    <tr>\n",
       "      <th>4</th>\n",
       "      <td>2015-01-01 10:00:00</td>\n",
       "      <td>3</td>\n",
       "      <td>138.898164</td>\n",
       "      <td>488.764118</td>\n",
       "      <td>102.800017</td>\n",
       "      <td>44.698218</td>\n",
       "      <td>0</td>\n",
       "      <td>0</td>\n",
       "      <td>0</td>\n",
       "      <td>0</td>\n",
       "      <td>0</td>\n",
       "      <td>0</td>\n",
       "      <td>0</td>\n",
       "      <td>0</td>\n",
       "      <td>0</td>\n",
       "      <td>3</td>\n",
       "      <td>8</td>\n",
       "      <td>0</td>\n",
       "    </tr>\n",
       "  </tbody>\n",
       "</table>\n",
       "</div>"
      ],
      "text/plain": [
       "             datetime  id        volt      rotate    pressure  vibration  \\\n",
       "0 2015-01-01 06:00:00   3  185.482043  461.211137   87.453199  28.216864   \n",
       "1 2015-01-01 07:00:00   3  179.818516  519.166185  109.318603  37.290722   \n",
       "2 2015-01-01 08:00:00   3  165.616803  467.107482  101.285580  34.530035   \n",
       "3 2015-01-01 09:00:00   3  165.007013  391.994872   98.825669  27.495507   \n",
       "4 2015-01-01 10:00:00   3  138.898164  488.764118  102.800017  44.698218   \n",
       "\n",
       "   error1  error2  error3  error4  error5  mto_comp1  mto_comp2  mto_comp3  \\\n",
       "0       0       0       0       0       0          0          0          0   \n",
       "1       0       0       0       0       0          0          0          0   \n",
       "2       0       0       0       0       0          0          0          0   \n",
       "3       0       0       0       0       0          0          0          0   \n",
       "4       0       0       0       0       0          0          0          0   \n",
       "\n",
       "   mto_comp4  model  age  failure  \n",
       "0          0      3    8        0  \n",
       "1          0      3    8        0  \n",
       "2          0      3    8        0  \n",
       "3          0      3    8        0  \n",
       "4          0      3    8        0  "
      ]
     },
     "execution_count": 5,
     "metadata": {},
     "output_type": "execute_result"
    }
   ],
   "source": [
    "test.head()"
   ]
  },
  {
   "cell_type": "code",
   "execution_count": 6,
   "metadata": {},
   "outputs": [
    {
     "name": "stdout",
     "output_type": "stream",
     "text": [
      "numero de dimensiones train = 2\n",
      "tamaño de la tabla train= (683388, 18)\n",
      "total datos train = 12300984\n",
      "numero de dimensiones test = 2\n",
      "tamaño de la tabla test= (192752, 18)\n",
      "total datos test= 3469536\n"
     ]
    }
   ],
   "source": [
    "# tamaño base de entrenamiento y pruebas\n",
    "print(\"numero de dimensiones train =\", train.ndim)\n",
    "print(\"tamaño de la tabla train=\", train.shape)\n",
    "print(\"total datos train =\", train.size)\n",
    "print(\"numero de dimensiones test =\", test.ndim)\n",
    "print(\"tamaño de la tabla test=\", test.shape)\n",
    "print(\"total datos test=\", test.size)"
   ]
  },
  {
   "cell_type": "code",
   "execution_count": 7,
   "metadata": {},
   "outputs": [],
   "source": [
    "variables=['volt','rotate','pressure','vibration','error1','error2','error3','error4','error5','mto_comp1','mto_comp2','mto_comp3','mto_comp4','model','age']\n",
    "\n",
    "objetivo='failure'"
   ]
  },
  {
   "cell_type": "code",
   "execution_count": 8,
   "metadata": {},
   "outputs": [
    {
     "data": {
      "text/html": [
       "<div>\n",
       "<style scoped>\n",
       "    .dataframe tbody tr th:only-of-type {\n",
       "        vertical-align: middle;\n",
       "    }\n",
       "\n",
       "    .dataframe tbody tr th {\n",
       "        vertical-align: top;\n",
       "    }\n",
       "\n",
       "    .dataframe thead th {\n",
       "        text-align: right;\n",
       "    }\n",
       "</style>\n",
       "<table border=\"1\" class=\"dataframe\">\n",
       "  <thead>\n",
       "    <tr style=\"text-align: right;\">\n",
       "      <th></th>\n",
       "      <th>datetime</th>\n",
       "      <th>id</th>\n",
       "      <th>volt</th>\n",
       "      <th>rotate</th>\n",
       "      <th>pressure</th>\n",
       "      <th>vibration</th>\n",
       "      <th>error1</th>\n",
       "      <th>error2</th>\n",
       "      <th>error3</th>\n",
       "      <th>error4</th>\n",
       "      <th>error5</th>\n",
       "      <th>mto_comp1</th>\n",
       "      <th>mto_comp2</th>\n",
       "      <th>mto_comp3</th>\n",
       "      <th>mto_comp4</th>\n",
       "      <th>model</th>\n",
       "      <th>age</th>\n",
       "      <th>failure</th>\n",
       "    </tr>\n",
       "  </thead>\n",
       "  <tbody>\n",
       "    <tr>\n",
       "      <th>0</th>\n",
       "      <td>2015-01-01 06:00:00</td>\n",
       "      <td>1</td>\n",
       "      <td>0.350986</td>\n",
       "      <td>-0.534618</td>\n",
       "      <td>1.105902</td>\n",
       "      <td>0.879350</td>\n",
       "      <td>-0.033998</td>\n",
       "      <td>-0.033477</td>\n",
       "      <td>-0.030712</td>\n",
       "      <td>-0.028355</td>\n",
       "      <td>-0.01913</td>\n",
       "      <td>-0.028612</td>\n",
       "      <td>-0.029767</td>\n",
       "      <td>-0.028943</td>\n",
       "      <td>-0.029019</td>\n",
       "      <td>0.159826</td>\n",
       "      <td>1.195669</td>\n",
       "      <td>0</td>\n",
       "    </tr>\n",
       "    <tr>\n",
       "      <th>1</th>\n",
       "      <td>2015-01-01 07:00:00</td>\n",
       "      <td>1</td>\n",
       "      <td>-0.508982</td>\n",
       "      <td>-0.834013</td>\n",
       "      <td>-0.488294</td>\n",
       "      <td>0.567226</td>\n",
       "      <td>-0.033998</td>\n",
       "      <td>-0.033477</td>\n",
       "      <td>-0.030712</td>\n",
       "      <td>-0.028355</td>\n",
       "      <td>-0.01913</td>\n",
       "      <td>-0.028612</td>\n",
       "      <td>-0.029767</td>\n",
       "      <td>-0.028943</td>\n",
       "      <td>-0.029019</td>\n",
       "      <td>0.159826</td>\n",
       "      <td>1.195669</td>\n",
       "      <td>0</td>\n",
       "    </tr>\n",
       "    <tr>\n",
       "      <th>2</th>\n",
       "      <td>2015-01-01 08:00:00</td>\n",
       "      <td>1</td>\n",
       "      <td>0.013930</td>\n",
       "      <td>1.533590</td>\n",
       "      <td>-2.318235</td>\n",
       "      <td>-1.154994</td>\n",
       "      <td>-0.033998</td>\n",
       "      <td>-0.033477</td>\n",
       "      <td>-0.030712</td>\n",
       "      <td>-0.028355</td>\n",
       "      <td>-0.01913</td>\n",
       "      <td>-0.028612</td>\n",
       "      <td>-0.029767</td>\n",
       "      <td>-0.028943</td>\n",
       "      <td>-0.029019</td>\n",
       "      <td>0.159826</td>\n",
       "      <td>1.195669</td>\n",
       "      <td>0</td>\n",
       "    </tr>\n",
       "    <tr>\n",
       "      <th>3</th>\n",
       "      <td>2015-01-01 09:00:00</td>\n",
       "      <td>1</td>\n",
       "      <td>-0.535828</td>\n",
       "      <td>-1.909450</td>\n",
       "      <td>0.759382</td>\n",
       "      <td>0.139832</td>\n",
       "      <td>-0.033998</td>\n",
       "      <td>-0.033477</td>\n",
       "      <td>-0.030712</td>\n",
       "      <td>-0.028355</td>\n",
       "      <td>-0.01913</td>\n",
       "      <td>-0.028612</td>\n",
       "      <td>-0.029767</td>\n",
       "      <td>-0.028943</td>\n",
       "      <td>-0.029019</td>\n",
       "      <td>0.159826</td>\n",
       "      <td>1.195669</td>\n",
       "      <td>0</td>\n",
       "    </tr>\n",
       "    <tr>\n",
       "      <th>4</th>\n",
       "      <td>2015-01-01 10:00:00</td>\n",
       "      <td>1</td>\n",
       "      <td>-0.848698</td>\n",
       "      <td>-0.214013</td>\n",
       "      <td>0.998102</td>\n",
       "      <td>-2.682002</td>\n",
       "      <td>-0.033998</td>\n",
       "      <td>-0.033477</td>\n",
       "      <td>-0.030712</td>\n",
       "      <td>-0.028355</td>\n",
       "      <td>-0.01913</td>\n",
       "      <td>-0.028612</td>\n",
       "      <td>-0.029767</td>\n",
       "      <td>-0.028943</td>\n",
       "      <td>-0.029019</td>\n",
       "      <td>0.159826</td>\n",
       "      <td>1.195669</td>\n",
       "      <td>0</td>\n",
       "    </tr>\n",
       "  </tbody>\n",
       "</table>\n",
       "</div>"
      ],
      "text/plain": [
       "             datetime  id      volt    rotate  pressure  vibration    error1  \\\n",
       "0 2015-01-01 06:00:00   1  0.350986 -0.534618  1.105902   0.879350 -0.033998   \n",
       "1 2015-01-01 07:00:00   1 -0.508982 -0.834013 -0.488294   0.567226 -0.033998   \n",
       "2 2015-01-01 08:00:00   1  0.013930  1.533590 -2.318235  -1.154994 -0.033998   \n",
       "3 2015-01-01 09:00:00   1 -0.535828 -1.909450  0.759382   0.139832 -0.033998   \n",
       "4 2015-01-01 10:00:00   1 -0.848698 -0.214013  0.998102  -2.682002 -0.033998   \n",
       "\n",
       "     error2    error3    error4   error5  mto_comp1  mto_comp2  mto_comp3  \\\n",
       "0 -0.033477 -0.030712 -0.028355 -0.01913  -0.028612  -0.029767  -0.028943   \n",
       "1 -0.033477 -0.030712 -0.028355 -0.01913  -0.028612  -0.029767  -0.028943   \n",
       "2 -0.033477 -0.030712 -0.028355 -0.01913  -0.028612  -0.029767  -0.028943   \n",
       "3 -0.033477 -0.030712 -0.028355 -0.01913  -0.028612  -0.029767  -0.028943   \n",
       "4 -0.033477 -0.030712 -0.028355 -0.01913  -0.028612  -0.029767  -0.028943   \n",
       "\n",
       "   mto_comp4     model       age  failure  \n",
       "0  -0.029019  0.159826  1.195669        0  \n",
       "1  -0.029019  0.159826  1.195669        0  \n",
       "2  -0.029019  0.159826  1.195669        0  \n",
       "3  -0.029019  0.159826  1.195669        0  \n",
       "4  -0.029019  0.159826  1.195669        0  "
      ]
     },
     "execution_count": 8,
     "metadata": {},
     "output_type": "execute_result"
    }
   ],
   "source": [
    "# estandarizado de datos sin incluir id\n",
    "scaler = StandardScaler()\n",
    "train[variables]=scaler.fit_transform(train[variables])\n",
    "test[variables]=scaler.transform(test[variables])\n",
    "train.head()\n"
   ]
  },
  {
   "cell_type": "code",
   "execution_count": 9,
   "metadata": {},
   "outputs": [
    {
     "data": {
      "text/html": [
       "<div>\n",
       "<style scoped>\n",
       "    .dataframe tbody tr th:only-of-type {\n",
       "        vertical-align: middle;\n",
       "    }\n",
       "\n",
       "    .dataframe tbody tr th {\n",
       "        vertical-align: top;\n",
       "    }\n",
       "\n",
       "    .dataframe thead th {\n",
       "        text-align: right;\n",
       "    }\n",
       "</style>\n",
       "<table border=\"1\" class=\"dataframe\">\n",
       "  <thead>\n",
       "    <tr style=\"text-align: right;\">\n",
       "      <th></th>\n",
       "      <th>volt</th>\n",
       "      <th>rotate</th>\n",
       "      <th>pressure</th>\n",
       "      <th>vibration</th>\n",
       "      <th>error1</th>\n",
       "      <th>error2</th>\n",
       "      <th>error3</th>\n",
       "      <th>error4</th>\n",
       "      <th>error5</th>\n",
       "      <th>mto_comp1</th>\n",
       "      <th>mto_comp2</th>\n",
       "      <th>mto_comp3</th>\n",
       "      <th>mto_comp4</th>\n",
       "      <th>model</th>\n",
       "      <th>age</th>\n",
       "    </tr>\n",
       "  </thead>\n",
       "  <tbody>\n",
       "    <tr>\n",
       "      <th>0</th>\n",
       "      <td>0.350986</td>\n",
       "      <td>-0.534618</td>\n",
       "      <td>1.105902</td>\n",
       "      <td>0.879350</td>\n",
       "      <td>-0.033998</td>\n",
       "      <td>-0.033477</td>\n",
       "      <td>-0.030712</td>\n",
       "      <td>-0.028355</td>\n",
       "      <td>-0.01913</td>\n",
       "      <td>-0.028612</td>\n",
       "      <td>-0.029767</td>\n",
       "      <td>-0.028943</td>\n",
       "      <td>-0.029019</td>\n",
       "      <td>0.159826</td>\n",
       "      <td>1.195669</td>\n",
       "    </tr>\n",
       "    <tr>\n",
       "      <th>1</th>\n",
       "      <td>-0.508982</td>\n",
       "      <td>-0.834013</td>\n",
       "      <td>-0.488294</td>\n",
       "      <td>0.567226</td>\n",
       "      <td>-0.033998</td>\n",
       "      <td>-0.033477</td>\n",
       "      <td>-0.030712</td>\n",
       "      <td>-0.028355</td>\n",
       "      <td>-0.01913</td>\n",
       "      <td>-0.028612</td>\n",
       "      <td>-0.029767</td>\n",
       "      <td>-0.028943</td>\n",
       "      <td>-0.029019</td>\n",
       "      <td>0.159826</td>\n",
       "      <td>1.195669</td>\n",
       "    </tr>\n",
       "    <tr>\n",
       "      <th>2</th>\n",
       "      <td>0.013930</td>\n",
       "      <td>1.533590</td>\n",
       "      <td>-2.318235</td>\n",
       "      <td>-1.154994</td>\n",
       "      <td>-0.033998</td>\n",
       "      <td>-0.033477</td>\n",
       "      <td>-0.030712</td>\n",
       "      <td>-0.028355</td>\n",
       "      <td>-0.01913</td>\n",
       "      <td>-0.028612</td>\n",
       "      <td>-0.029767</td>\n",
       "      <td>-0.028943</td>\n",
       "      <td>-0.029019</td>\n",
       "      <td>0.159826</td>\n",
       "      <td>1.195669</td>\n",
       "    </tr>\n",
       "    <tr>\n",
       "      <th>3</th>\n",
       "      <td>-0.535828</td>\n",
       "      <td>-1.909450</td>\n",
       "      <td>0.759382</td>\n",
       "      <td>0.139832</td>\n",
       "      <td>-0.033998</td>\n",
       "      <td>-0.033477</td>\n",
       "      <td>-0.030712</td>\n",
       "      <td>-0.028355</td>\n",
       "      <td>-0.01913</td>\n",
       "      <td>-0.028612</td>\n",
       "      <td>-0.029767</td>\n",
       "      <td>-0.028943</td>\n",
       "      <td>-0.029019</td>\n",
       "      <td>0.159826</td>\n",
       "      <td>1.195669</td>\n",
       "    </tr>\n",
       "    <tr>\n",
       "      <th>4</th>\n",
       "      <td>-0.848698</td>\n",
       "      <td>-0.214013</td>\n",
       "      <td>0.998102</td>\n",
       "      <td>-2.682002</td>\n",
       "      <td>-0.033998</td>\n",
       "      <td>-0.033477</td>\n",
       "      <td>-0.030712</td>\n",
       "      <td>-0.028355</td>\n",
       "      <td>-0.01913</td>\n",
       "      <td>-0.028612</td>\n",
       "      <td>-0.029767</td>\n",
       "      <td>-0.028943</td>\n",
       "      <td>-0.029019</td>\n",
       "      <td>0.159826</td>\n",
       "      <td>1.195669</td>\n",
       "    </tr>\n",
       "  </tbody>\n",
       "</table>\n",
       "</div>"
      ],
      "text/plain": [
       "       volt    rotate  pressure  vibration    error1    error2    error3  \\\n",
       "0  0.350986 -0.534618  1.105902   0.879350 -0.033998 -0.033477 -0.030712   \n",
       "1 -0.508982 -0.834013 -0.488294   0.567226 -0.033998 -0.033477 -0.030712   \n",
       "2  0.013930  1.533590 -2.318235  -1.154994 -0.033998 -0.033477 -0.030712   \n",
       "3 -0.535828 -1.909450  0.759382   0.139832 -0.033998 -0.033477 -0.030712   \n",
       "4 -0.848698 -0.214013  0.998102  -2.682002 -0.033998 -0.033477 -0.030712   \n",
       "\n",
       "     error4   error5  mto_comp1  mto_comp2  mto_comp3  mto_comp4     model  \\\n",
       "0 -0.028355 -0.01913  -0.028612  -0.029767  -0.028943  -0.029019  0.159826   \n",
       "1 -0.028355 -0.01913  -0.028612  -0.029767  -0.028943  -0.029019  0.159826   \n",
       "2 -0.028355 -0.01913  -0.028612  -0.029767  -0.028943  -0.029019  0.159826   \n",
       "3 -0.028355 -0.01913  -0.028612  -0.029767  -0.028943  -0.029019  0.159826   \n",
       "4 -0.028355 -0.01913  -0.028612  -0.029767  -0.028943  -0.029019  0.159826   \n",
       "\n",
       "        age  \n",
       "0  1.195669  \n",
       "1  1.195669  \n",
       "2  1.195669  \n",
       "3  1.195669  \n",
       "4  1.195669  "
      ]
     },
     "execution_count": 9,
     "metadata": {},
     "output_type": "execute_result"
    }
   ],
   "source": [
    "# separar base de entrenamiento en data_train y label_train\n",
    "data_train=train.iloc[:,np.r_[2:17]]\n",
    "data_train.head()\n"
   ]
  },
  {
   "cell_type": "code",
   "execution_count": 10,
   "metadata": {},
   "outputs": [
    {
     "data": {
      "text/plain": [
       "0    0\n",
       "1    0\n",
       "2    0\n",
       "3    0\n",
       "4    0\n",
       "Name: failure, dtype: int64"
      ]
     },
     "execution_count": 10,
     "metadata": {},
     "output_type": "execute_result"
    }
   ],
   "source": [
    "# etiquetas\n",
    "label_train2=train.iloc[:,17]\n",
    "label_train2.head()"
   ]
  },
  {
   "cell_type": "code",
   "execution_count": 11,
   "metadata": {},
   "outputs": [
    {
     "data": {
      "text/html": [
       "<div>\n",
       "<style scoped>\n",
       "    .dataframe tbody tr th:only-of-type {\n",
       "        vertical-align: middle;\n",
       "    }\n",
       "\n",
       "    .dataframe tbody tr th {\n",
       "        vertical-align: top;\n",
       "    }\n",
       "\n",
       "    .dataframe thead th {\n",
       "        text-align: right;\n",
       "    }\n",
       "</style>\n",
       "<table border=\"1\" class=\"dataframe\">\n",
       "  <thead>\n",
       "    <tr style=\"text-align: right;\">\n",
       "      <th></th>\n",
       "      <th>volt</th>\n",
       "      <th>rotate</th>\n",
       "      <th>pressure</th>\n",
       "      <th>vibration</th>\n",
       "      <th>error1</th>\n",
       "      <th>error2</th>\n",
       "      <th>error3</th>\n",
       "      <th>error4</th>\n",
       "      <th>error5</th>\n",
       "      <th>mto_comp1</th>\n",
       "      <th>mto_comp2</th>\n",
       "      <th>mto_comp3</th>\n",
       "      <th>mto_comp4</th>\n",
       "      <th>model</th>\n",
       "      <th>age</th>\n",
       "    </tr>\n",
       "  </thead>\n",
       "  <tbody>\n",
       "    <tr>\n",
       "      <th>0</th>\n",
       "      <td>0.948268</td>\n",
       "      <td>0.276871</td>\n",
       "      <td>-1.212875</td>\n",
       "      <td>-2.266819</td>\n",
       "      <td>-0.033998</td>\n",
       "      <td>-0.033477</td>\n",
       "      <td>-0.030712</td>\n",
       "      <td>-0.028355</td>\n",
       "      <td>-0.01913</td>\n",
       "      <td>-0.028612</td>\n",
       "      <td>-0.029767</td>\n",
       "      <td>-0.028943</td>\n",
       "      <td>-0.029019</td>\n",
       "      <td>0.159826</td>\n",
       "      <td>-0.541085</td>\n",
       "    </tr>\n",
       "    <tr>\n",
       "      <th>1</th>\n",
       "      <td>0.583128</td>\n",
       "      <td>1.378091</td>\n",
       "      <td>0.765720</td>\n",
       "      <td>-0.574673</td>\n",
       "      <td>-0.033998</td>\n",
       "      <td>-0.033477</td>\n",
       "      <td>-0.030712</td>\n",
       "      <td>-0.028355</td>\n",
       "      <td>-0.01913</td>\n",
       "      <td>-0.028612</td>\n",
       "      <td>-0.029767</td>\n",
       "      <td>-0.028943</td>\n",
       "      <td>-0.029019</td>\n",
       "      <td>0.159826</td>\n",
       "      <td>-0.541085</td>\n",
       "    </tr>\n",
       "    <tr>\n",
       "      <th>2</th>\n",
       "      <td>-0.332485</td>\n",
       "      <td>0.388909</td>\n",
       "      <td>0.038814</td>\n",
       "      <td>-1.089502</td>\n",
       "      <td>-0.033998</td>\n",
       "      <td>-0.033477</td>\n",
       "      <td>-0.030712</td>\n",
       "      <td>-0.028355</td>\n",
       "      <td>-0.01913</td>\n",
       "      <td>-0.028612</td>\n",
       "      <td>-0.029767</td>\n",
       "      <td>-0.028943</td>\n",
       "      <td>-0.029019</td>\n",
       "      <td>0.159826</td>\n",
       "      <td>-0.541085</td>\n",
       "    </tr>\n",
       "    <tr>\n",
       "      <th>3</th>\n",
       "      <td>-0.371799</td>\n",
       "      <td>-1.038326</td>\n",
       "      <td>-0.183783</td>\n",
       "      <td>-2.401342</td>\n",
       "      <td>-0.033998</td>\n",
       "      <td>-0.033477</td>\n",
       "      <td>-0.030712</td>\n",
       "      <td>-0.028355</td>\n",
       "      <td>-0.01913</td>\n",
       "      <td>-0.028612</td>\n",
       "      <td>-0.029767</td>\n",
       "      <td>-0.028943</td>\n",
       "      <td>-0.029019</td>\n",
       "      <td>0.159826</td>\n",
       "      <td>-0.541085</td>\n",
       "    </tr>\n",
       "    <tr>\n",
       "      <th>4</th>\n",
       "      <td>-2.055090</td>\n",
       "      <td>0.800413</td>\n",
       "      <td>0.175855</td>\n",
       "      <td>0.806719</td>\n",
       "      <td>-0.033998</td>\n",
       "      <td>-0.033477</td>\n",
       "      <td>-0.030712</td>\n",
       "      <td>-0.028355</td>\n",
       "      <td>-0.01913</td>\n",
       "      <td>-0.028612</td>\n",
       "      <td>-0.029767</td>\n",
       "      <td>-0.028943</td>\n",
       "      <td>-0.029019</td>\n",
       "      <td>0.159826</td>\n",
       "      <td>-0.541085</td>\n",
       "    </tr>\n",
       "  </tbody>\n",
       "</table>\n",
       "</div>"
      ],
      "text/plain": [
       "       volt    rotate  pressure  vibration    error1    error2    error3  \\\n",
       "0  0.948268  0.276871 -1.212875  -2.266819 -0.033998 -0.033477 -0.030712   \n",
       "1  0.583128  1.378091  0.765720  -0.574673 -0.033998 -0.033477 -0.030712   \n",
       "2 -0.332485  0.388909  0.038814  -1.089502 -0.033998 -0.033477 -0.030712   \n",
       "3 -0.371799 -1.038326 -0.183783  -2.401342 -0.033998 -0.033477 -0.030712   \n",
       "4 -2.055090  0.800413  0.175855   0.806719 -0.033998 -0.033477 -0.030712   \n",
       "\n",
       "     error4   error5  mto_comp1  mto_comp2  mto_comp3  mto_comp4     model  \\\n",
       "0 -0.028355 -0.01913  -0.028612  -0.029767  -0.028943  -0.029019  0.159826   \n",
       "1 -0.028355 -0.01913  -0.028612  -0.029767  -0.028943  -0.029019  0.159826   \n",
       "2 -0.028355 -0.01913  -0.028612  -0.029767  -0.028943  -0.029019  0.159826   \n",
       "3 -0.028355 -0.01913  -0.028612  -0.029767  -0.028943  -0.029019  0.159826   \n",
       "4 -0.028355 -0.01913  -0.028612  -0.029767  -0.028943  -0.029019  0.159826   \n",
       "\n",
       "        age  \n",
       "0 -0.541085  \n",
       "1 -0.541085  \n",
       "2 -0.541085  \n",
       "3 -0.541085  \n",
       "4 -0.541085  "
      ]
     },
     "execution_count": 11,
     "metadata": {},
     "output_type": "execute_result"
    }
   ],
   "source": [
    "# separar base de prueba en data_test y label_test\n",
    "data_test=test.iloc[:,np.r_[2:17]]\n",
    "label_test2=test.iloc[:,17]\n",
    "data_test.head()"
   ]
  },
  {
   "cell_type": "markdown",
   "metadata": {},
   "source": [
    "## Modelos de clasificacion multiclase"
   ]
  },
  {
   "cell_type": "markdown",
   "metadata": {},
   "source": [
    "## Modelo Random Forest "
   ]
  },
  {
   "cell_type": "code",
   "execution_count": 12,
   "metadata": {},
   "outputs": [
    {
     "data": {
      "text/plain": [
       "RandomForestClassifier(bootstrap=True, class_weight=None, criterion='gini',\n",
       "                       max_depth=None, max_features='auto', max_leaf_nodes=None,\n",
       "                       min_impurity_decrease=0.0, min_impurity_split=None,\n",
       "                       min_samples_leaf=1, min_samples_split=2,\n",
       "                       min_weight_fraction_leaf=0.0, n_estimators=10,\n",
       "                       n_jobs=None, oob_score=False, random_state=0, verbose=0,\n",
       "                       warm_start=False)"
      ]
     },
     "execution_count": 12,
     "metadata": {},
     "output_type": "execute_result"
    }
   ],
   "source": [
    "modelom1=RandomForestClassifier(random_state=0, n_estimators=10)\n",
    "modelom1.fit(data_train, label_train2)"
   ]
  },
  {
   "cell_type": "code",
   "execution_count": 13,
   "metadata": {},
   "outputs": [],
   "source": [
    "label_predm1 = modelom1.predict(data_test)"
   ]
  },
  {
   "cell_type": "code",
   "execution_count": 14,
   "metadata": {},
   "outputs": [
    {
     "data": {
      "text/plain": [
       "array([1.08264662e-01, 1.31783924e-01, 1.25966143e-01, 1.28359537e-01,\n",
       "       7.69999831e-05, 2.94445860e-05, 1.38388036e-04, 9.82490942e-06,\n",
       "       1.35952910e-04, 9.11761097e-02, 1.39004270e-01, 6.11121909e-02,\n",
       "       7.88386508e-02, 4.23719323e-02, 9.27319694e-02])"
      ]
     },
     "execution_count": 14,
     "metadata": {},
     "output_type": "execute_result"
    }
   ],
   "source": [
    "# para evaluar cuales caracteristicas tiene mayor peso en el modelo\n",
    "fi=modelom1.feature_importances_\n",
    "fi"
   ]
  },
  {
   "cell_type": "code",
   "execution_count": 15,
   "metadata": {},
   "outputs": [
    {
     "name": "stdout",
     "output_type": "stream",
     "text": [
      "\n",
      "\n",
      "MATRIZ DE CONFUSION\n",
      "\n",
      "\n"
     ]
    },
    {
     "data": {
      "image/png": "[encoded data removed]",
      "text/plain": [
       "<Figure size 432x288 with 1 Axes>"
      ]
     },
     "metadata": {
      "needs_background": "light"
     },
     "output_type": "display_data"
    },
    {
     "name": "stdout",
     "output_type": "stream",
     "text": [
      "\n",
      "\n",
      "MEDIDAS DE DESEMPEÑO DEL MODELO\n",
      "\n",
      "\n",
      "Exactitud - Accuracy: 0.9993722503527849\n",
      "------------------------------------------------------------\n",
      "Precisión por clase: [0.9995328  0.47826087 0.73333333 0.82608696 0.81081081]\n",
      "Sensibilidad - Recall por clase: [0.99988056 0.28947368 0.35483871 0.67857143 0.57692308]\n",
      "F1 por clase: [0.99970665 0.36065574 0.47826087 0.74509804 0.6741573 ]\n",
      "------------------------------------------------------------\n",
      "F1 Macro: 0.6515757208263595\n",
      "F1 Micro: 0.9993722503527849\n",
      "F1 Weighted: 0.999288131090214\n",
      "------------------------------------------------------------\n",
      "Sensibilidad - Recall Macro: 0.579937492707016\n",
      "Sensibilidad - Recall Micro: 0.9993722503527849\n",
      "Sensibilidad - Recall Weighted: 0.9993722503527849\n",
      "------------------------------------------------------------\n",
      "Precisión Macro: 0.7696049550229694\n",
      "Precisión Micro: 0.9993722503527849\n",
      "Precisión Weighted: 0.9992683057956738\n",
      "------------------------------------------------------------\n",
      "              precision    recall  f1-score   support\n",
      "\n",
      "           0       1.00      1.00      1.00    192572\n",
      "           1       0.48      0.29      0.36        38\n",
      "           2       0.73      0.35      0.48        62\n",
      "           3       0.83      0.68      0.75        28\n",
      "           4       0.81      0.58      0.67        52\n",
      "\n",
      "    accuracy                           1.00    192752\n",
      "   macro avg       0.77      0.58      0.65    192752\n",
      "weighted avg       1.00      1.00      1.00    192752\n",
      "\n"
     ]
    }
   ],
   "source": [
    "# metricas de desempeño\n",
    "model_evaluation_multi(data_train, label_train2, data_test, label_test2, modelom1, label_predm1)"
   ]
  },
  {
   "cell_type": "markdown",
   "metadata": {},
   "source": [
    "Se observa un numero significativo de falsos negativos lo que genera un bajo Recall macro"
   ]
  },
  {
   "cell_type": "markdown",
   "metadata": {},
   "source": [
    "## Clasificador Gausiano Naive Bayes"
   ]
  },
  {
   "cell_type": "code",
   "execution_count": 16,
   "metadata": {},
   "outputs": [],
   "source": [
    "modelom2 = GaussianNB()\n",
    "modelom2.fit(data_train, label_train2);\n",
    "label_predm2 = modelom2.predict(data_test)"
   ]
  },
  {
   "cell_type": "code",
   "execution_count": 17,
   "metadata": {},
   "outputs": [
    {
     "name": "stdout",
     "output_type": "stream",
     "text": [
      "\n",
      "\n",
      "MATRIZ DE CONFUSION\n",
      "\n",
      "\n"
     ]
    },
    {
     "data": {
      "image/png": "[encoded data removed]",
      "text/plain": [
       "<Figure size 432x288 with 1 Axes>"
      ]
     },
     "metadata": {
      "needs_background": "light"
     },
     "output_type": "display_data"
    },
    {
     "name": "stdout",
     "output_type": "stream",
     "text": [
      "\n",
      "\n",
      "MEDIDAS DE DESEMPEÑO DEL MODELO\n",
      "\n",
      "\n",
      "Exactitud - Accuracy: 0.003979206441437702\n",
      "------------------------------------------------------------\n",
      "Precisión por clase: [9.96774194e-01 1.77924984e-04 1.78571429e-01 6.46143905e-04\n",
      " 2.06868018e-02]\n",
      "Sensibilidad - Recall por clase: [0.00320919 0.68421053 0.72580645 1.         0.96153846]\n",
      "F1 por clase: [0.00639778 0.00035576 0.2866242  0.00129145 0.04050223]\n",
      "------------------------------------------------------------\n",
      "F1 Macro: 0.06703428453846634\n",
      "F1 Micro: 0.003979206441437702\n",
      "F1 Weighted: 0.006495184859682664\n",
      "------------------------------------------------------------\n",
      "Sensibilidad - Recall Macro: 0.6749529257514788\n",
      "Sensibilidad - Recall Micro: 0.003979206441437702\n",
      "Sensibilidad - Recall Weighted: 0.003979206441437702\n",
      "------------------------------------------------------------\n",
      "Precisión Macro: 0.2393712985659644\n",
      "Precisión Micro: 0.003979206441437702\n",
      "Precisión Weighted: 0.9959065119710552\n",
      "------------------------------------------------------------\n",
      "              precision    recall  f1-score   support\n",
      "\n",
      "           0       1.00      0.00      0.01    192572\n",
      "           1       0.00      0.68      0.00        38\n",
      "           2       0.18      0.73      0.29        62\n",
      "           3       0.00      1.00      0.00        28\n",
      "           4       0.02      0.96      0.04        52\n",
      "\n",
      "    accuracy                           0.00    192752\n",
      "   macro avg       0.24      0.67      0.07    192752\n",
      "weighted avg       1.00      0.00      0.01    192752\n",
      "\n"
     ]
    }
   ],
   "source": [
    "# metricas de desempeño\n",
    "model_evaluation_multi(data_train, label_train2, data_test, label_test2, modelom2, label_predm2)"
   ]
  },
  {
   "cell_type": "markdown",
   "metadata": {},
   "source": [
    "## Clasificacion con Support Vector Machine"
   ]
  },
  {
   "cell_type": "code",
   "execution_count": 18,
   "metadata": {},
   "outputs": [
    {
     "data": {
      "text/plain": [
       "SVC(C=1.0, cache_size=200, class_weight=None, coef0=0.0,\n",
       "    decision_function_shape='ovr', degree=3, gamma='auto_deprecated',\n",
       "    kernel='rbf', max_iter=-1, probability=False, random_state=0,\n",
       "    shrinking=True, tol=0.001, verbose=False)"
      ]
     },
     "execution_count": 18,
     "metadata": {},
     "output_type": "execute_result"
    }
   ],
   "source": [
    "modelom3 = SVC(kernel='rbf', random_state=0)\n",
    "modelom3.fit(data_train, label_train2)"
   ]
  },
  {
   "cell_type": "code",
   "execution_count": 19,
   "metadata": {},
   "outputs": [],
   "source": [
    "label_predm3 = modelom3.predict(data_test)"
   ]
  },
  {
   "cell_type": "code",
   "execution_count": 20,
   "metadata": {},
   "outputs": [
    {
     "name": "stdout",
     "output_type": "stream",
     "text": [
      "\n",
      "\n",
      "MATRIZ DE CONFUSION\n",
      "\n",
      "\n"
     ]
    },
    {
     "data": {
      "image/png": "[encoded data removed]",
      "text/plain": [
       "<Figure size 432x288 with 1 Axes>"
      ]
     },
     "metadata": {
      "needs_background": "light"
     },
     "output_type": "display_data"
    },
    {
     "name": "stdout",
     "output_type": "stream",
     "text": [
      "\n",
      "\n",
      "MEDIDAS DE DESEMPEÑO DEL MODELO\n",
      "\n",
      "\n",
      "Exactitud - Accuracy: 0.9994863866522786\n",
      "------------------------------------------------------------\n",
      "Precisión por clase: [0.9996314  0.52631579 0.76744186 0.81481481 0.9       ]\n",
      "Sensibilidad - Recall por clase: [0.99989614 0.26315789 0.53225806 0.78571429 0.69230769]\n",
      "F1 por clase: [0.99976376 0.35087719 0.62857143 0.8        0.7826087 ]\n",
      "------------------------------------------------------------\n",
      "F1 Macro: 0.7123642146451473\n",
      "F1 Micro: 0.9994863866522786\n",
      "F1 Weighted: 0.9994288331031594\n",
      "------------------------------------------------------------\n",
      "Sensibilidad - Recall Macro: 0.654666816003273\n",
      "Sensibilidad - Recall Micro: 0.9994863866522786\n",
      "Sensibilidad - Recall Weighted: 0.9994863866522786\n",
      "------------------------------------------------------------\n",
      "Precisión Macro: 0.8016407738206089\n",
      "Precisión Micro: 0.9994863866522786\n",
      "Precisión Weighted: 0.9994096819153202\n",
      "------------------------------------------------------------\n",
      "              precision    recall  f1-score   support\n",
      "\n",
      "           0       1.00      1.00      1.00    192572\n",
      "           1       0.53      0.26      0.35        38\n",
      "           2       0.77      0.53      0.63        62\n",
      "           3       0.81      0.79      0.80        28\n",
      "           4       0.90      0.69      0.78        52\n",
      "\n",
      "    accuracy                           1.00    192752\n",
      "   macro avg       0.80      0.65      0.71    192752\n",
      "weighted avg       1.00      1.00      1.00    192752\n",
      "\n"
     ]
    }
   ],
   "source": [
    "# metricas de desempeño\n",
    "model_evaluation_multi(data_train, label_train2, data_test, label_test2, modelom3, label_predm3)"
   ]
  },
  {
   "cell_type": "markdown",
   "metadata": {},
   "source": [
    "## Decision tree "
   ]
  },
  {
   "cell_type": "code",
   "execution_count": 12,
   "metadata": {},
   "outputs": [
    {
     "data": {
      "text/plain": [
       "DecisionTreeClassifier(class_weight=None, criterion='gini', max_depth=None,\n",
       "                       max_features=None, max_leaf_nodes=None,\n",
       "                       min_impurity_decrease=0.0, min_impurity_split=None,\n",
       "                       min_samples_leaf=1, min_samples_split=2,\n",
       "                       min_weight_fraction_leaf=0.0, presort=False,\n",
       "                       random_state=None, splitter='best')"
      ]
     },
     "execution_count": 12,
     "metadata": {},
     "output_type": "execute_result"
    }
   ],
   "source": [
    "modelom5 = tree.DecisionTreeClassifier()\n",
    "modelom5.fit(data_train, label_train2)"
   ]
  },
  {
   "cell_type": "code",
   "execution_count": 13,
   "metadata": {},
   "outputs": [],
   "source": [
    "label_predm5 = modelom5.predict(data_test)"
   ]
  },
  {
   "cell_type": "code",
   "execution_count": 14,
   "metadata": {},
   "outputs": [
    {
     "name": "stdout",
     "output_type": "stream",
     "text": [
      "\n",
      "\n",
      "MATRIZ DE CONFUSION\n",
      "\n",
      "\n"
     ]
    },
    {
     "data": {
      "image/png": "[encoded data removed]",
      "text/plain": [
       "<Figure size 432x288 with 1 Axes>"
      ]
     },
     "metadata": {
      "needs_background": "light"
     },
     "output_type": "display_data"
    },
    {
     "name": "stdout",
     "output_type": "stream",
     "text": [
      "\n",
      "\n",
      "MEDIDAS DE DESEMPEÑO DEL MODELO\n",
      "\n",
      "\n",
      "Exactitud - Accuracy: 0.9992788661077446\n",
      "------------------------------------------------------------\n",
      "Precisión por clase: [0.999704   0.35714286 0.55172414 0.64285714 0.75      ]\n",
      "Sensibilidad - Recall por clase: [0.99969362 0.52631579 0.51612903 0.64285714 0.57692308]\n",
      "F1 por clase: [0.99969881 0.42553191 0.53333333 0.64285714 0.65217391]\n",
      "------------------------------------------------------------\n",
      "F1 Macro: 0.6507190233027306\n",
      "F1 Micro: 0.9992788661077446\n",
      "F1 Weighted: 0.9992900183745086\n",
      "------------------------------------------------------------\n",
      "Sensibilidad - Recall Macro: 0.6523837325198292\n",
      "Sensibilidad - Recall Micro: 0.9992788661077446\n",
      "Sensibilidad - Recall Weighted: 0.9992788661077446\n",
      "------------------------------------------------------------\n",
      "Precisión Macro: 0.6602856283339869\n",
      "Precisión Micro: 0.9992788661077446\n",
      "Precisión Weighted: 0.999314029079494\n",
      "------------------------------------------------------------\n",
      "              precision    recall  f1-score   support\n",
      "\n",
      "           0       1.00      1.00      1.00    192572\n",
      "           1       0.36      0.53      0.43        38\n",
      "           2       0.55      0.52      0.53        62\n",
      "           3       0.64      0.64      0.64        28\n",
      "           4       0.75      0.58      0.65        52\n",
      "\n",
      "    accuracy                           1.00    192752\n",
      "   macro avg       0.66      0.65      0.65    192752\n",
      "weighted avg       1.00      1.00      1.00    192752\n",
      "\n"
     ]
    }
   ],
   "source": [
    "# metricas de desempeño\n",
    "model_evaluation_multi(data_train, label_train2, data_test, label_test2, modelom5, label_predm5)"
   ]
  },
  {
   "cell_type": "markdown",
   "metadata": {},
   "source": [
    "## Logistic Regression"
   ]
  },
  {
   "cell_type": "code",
   "execution_count": 15,
   "metadata": {},
   "outputs": [
    {
     "data": {
      "text/plain": [
       "LogisticRegression(C=1.0, class_weight=None, dual=False, fit_intercept=True,\n",
       "                   intercept_scaling=1, l1_ratio=None, max_iter=200,\n",
       "                   multi_class='multinomial', n_jobs=None, penalty='l2',\n",
       "                   random_state=None, solver='newton-cg', tol=0.0001, verbose=0,\n",
       "                   warm_start=False)"
      ]
     },
     "execution_count": 15,
     "metadata": {},
     "output_type": "execute_result"
    }
   ],
   "source": [
    "modelom6 = LogisticRegression(multi_class='multinomial', solver='newton-cg', max_iter=200)\n",
    "modelom6.fit(data_train, label_train2)"
   ]
  },
  {
   "cell_type": "code",
   "execution_count": 16,
   "metadata": {},
   "outputs": [],
   "source": [
    "label_predm6 = modelom6.predict(data_test)"
   ]
  },
  {
   "cell_type": "code",
   "execution_count": 17,
   "metadata": {},
   "outputs": [
    {
     "name": "stdout",
     "output_type": "stream",
     "text": [
      "\n",
      "\n",
      "MATRIZ DE CONFUSION\n",
      "\n",
      "\n"
     ]
    },
    {
     "data": {
      "image/png": "[encoded data removed]",
      "text/plain": [
       "<Figure size 432x288 with 1 Axes>"
      ]
     },
     "metadata": {
      "needs_background": "light"
     },
     "output_type": "display_data"
    },
    {
     "name": "stdout",
     "output_type": "stream",
     "text": [
      "\n",
      "\n",
      "MEDIDAS DE DESEMPEÑO DEL MODELO\n",
      "\n",
      "\n",
      "Exactitud - Accuracy: 0.9995071387067319\n",
      "------------------------------------------------------------\n",
      "Precisión por clase: [0.99969367 0.53125    0.79545455 0.77777778 0.86666667]\n",
      "Sensibilidad - Recall por clase: [0.99985979 0.44736842 0.56451613 0.75       0.75      ]\n",
      "F1 por clase: [0.99977673 0.48571429 0.66037736 0.76363636 0.80412371]\n",
      "------------------------------------------------------------\n",
      "F1 Macro: 0.7427256889252826\n",
      "F1 Micro: 0.9995071387067319\n",
      "F1 Weighted: 0.9994791253146424\n",
      "------------------------------------------------------------\n",
      "Sensibilidad - Recall Macro: 0.7023488685571604\n",
      "Sensibilidad - Recall Micro: 0.9995071387067319\n",
      "Sensibilidad - Recall Weighted: 0.9995071387067319\n",
      "------------------------------------------------------------\n",
      "Precisión Macro: 0.7941685323778375\n",
      "Precisión Micro: 0.9995071387067319\n",
      "Precisión Weighted: 0.9994675019131265\n",
      "------------------------------------------------------------\n",
      "              precision    recall  f1-score   support\n",
      "\n",
      "           0       1.00      1.00      1.00    192572\n",
      "           1       0.53      0.45      0.49        38\n",
      "           2       0.80      0.56      0.66        62\n",
      "           3       0.78      0.75      0.76        28\n",
      "           4       0.87      0.75      0.80        52\n",
      "\n",
      "    accuracy                           1.00    192752\n",
      "   macro avg       0.79      0.70      0.74    192752\n",
      "weighted avg       1.00      1.00      1.00    192752\n",
      "\n"
     ]
    }
   ],
   "source": [
    "# metricas de desempeño\n",
    "model_evaluation_multi(data_train, label_train2, data_test, label_test2, modelom6, label_predm6)"
   ]
  },
  {
   "cell_type": "markdown",
   "metadata": {},
   "source": [
    "## Bagging Classifier"
   ]
  },
  {
   "cell_type": "code",
   "execution_count": 18,
   "metadata": {},
   "outputs": [
    {
     "data": {
      "text/plain": [
       "BaggingClassifier(base_estimator=None, bootstrap=True, bootstrap_features=False,\n",
       "                  max_features=1.0, max_samples=1.0, n_estimators=10,\n",
       "                  n_jobs=None, oob_score=False, random_state=None, verbose=0,\n",
       "                  warm_start=False)"
      ]
     },
     "execution_count": 18,
     "metadata": {},
     "output_type": "execute_result"
    }
   ],
   "source": [
    "modelom7= BaggingClassifier()\n",
    "modelom7.fit(data_train, label_train2)"
   ]
  },
  {
   "cell_type": "code",
   "execution_count": 20,
   "metadata": {},
   "outputs": [
    {
     "name": "stdout",
     "output_type": "stream",
     "text": [
      "\n",
      "\n",
      "MATRIZ DE CONFUSION\n",
      "\n",
      "\n"
     ]
    },
    {
     "data": {
      "image/png": "[encoded data removed]",
      "text/plain": [
       "<Figure size 432x288 with 1 Axes>"
      ]
     },
     "metadata": {
      "needs_background": "light"
     },
     "output_type": "display_data"
    },
    {
     "name": "stdout",
     "output_type": "stream",
     "text": [
      "\n",
      "\n",
      "MEDIDAS DE DESEMPEÑO DEL MODELO\n",
      "\n",
      "\n",
      "Exactitud - Accuracy: 0.9993826263800116\n",
      "------------------------------------------------------------\n",
      "Precisión por clase: [0.99962619 0.43333333 0.65384615 0.75       0.83333333]\n",
      "Sensibilidad - Recall por clase: [0.99982344 0.34210526 0.5483871  0.64285714 0.57692308]\n",
      "F1 por clase: [0.99972481 0.38235294 0.59649123 0.69230769 0.68181818]\n",
      "------------------------------------------------------------\n",
      "F1 Macro: 0.6705389697578361\n",
      "F1 Micro: 0.9993826263800116\n",
      "F1 Weighted: 0.9993429705395603\n",
      "------------------------------------------------------------\n",
      "Sensibilidad - Recall Macro: 0.6220192044745432\n",
      "Sensibilidad - Recall Micro: 0.9993826263800116\n",
      "Sensibilidad - Recall Weighted: 0.9993826263800116\n",
      "------------------------------------------------------------\n",
      "Precisión Macro: 0.7340278016291724\n",
      "Precisión Micro: 0.9993826263800116\n",
      "Precisión Weighted: 0.9993221998547793\n",
      "------------------------------------------------------------\n",
      "              precision    recall  f1-score   support\n",
      "\n",
      "           0       1.00      1.00      1.00    192572\n",
      "           1       0.43      0.34      0.38        38\n",
      "           2       0.65      0.55      0.60        62\n",
      "           3       0.75      0.64      0.69        28\n",
      "           4       0.83      0.58      0.68        52\n",
      "\n",
      "    accuracy                           1.00    192752\n",
      "   macro avg       0.73      0.62      0.67    192752\n",
      "weighted avg       1.00      1.00      1.00    192752\n",
      "\n"
     ]
    }
   ],
   "source": [
    "label_predm7 = modelom7.predict(data_test)\n",
    "# metricas de desempeño\n",
    "model_evaluation_multi(data_train, label_train2, data_test, label_test2, modelom7, label_predm7)"
   ]
  },
  {
   "cell_type": "markdown",
   "metadata": {},
   "source": [
    "## Extra Trees Classifier"
   ]
  },
  {
   "cell_type": "code",
   "execution_count": 21,
   "metadata": {},
   "outputs": [
    {
     "data": {
      "text/plain": [
       "ExtraTreesClassifier(bootstrap=False, class_weight=None, criterion='gini',\n",
       "                     max_depth=None, max_features='auto', max_leaf_nodes=None,\n",
       "                     min_impurity_decrease=0.0, min_impurity_split=None,\n",
       "                     min_samples_leaf=1, min_samples_split=2,\n",
       "                     min_weight_fraction_leaf=0.0, n_estimators=100,\n",
       "                     n_jobs=None, oob_score=False, random_state=None, verbose=0,\n",
       "                     warm_start=False)"
      ]
     },
     "execution_count": 21,
     "metadata": {},
     "output_type": "execute_result"
    }
   ],
   "source": [
    "modelom9=ExtraTreesClassifier(n_estimators=100)\n",
    "modelom9.fit(data_train, label_train2)"
   ]
  },
  {
   "cell_type": "code",
   "execution_count": 22,
   "metadata": {},
   "outputs": [
    {
     "name": "stdout",
     "output_type": "stream",
     "text": [
      "\n",
      "\n",
      "MATRIZ DE CONFUSION\n",
      "\n",
      "\n"
     ]
    },
    {
     "data": {
      "image/png": "[encoded data removed]",
      "text/plain": [
       "<Figure size 432x288 with 1 Axes>"
      ]
     },
     "metadata": {
      "needs_background": "light"
     },
     "output_type": "display_data"
    },
    {
     "name": "stdout",
     "output_type": "stream",
     "text": [
      "\n",
      "\n",
      "MEDIDAS DE DESEMPEÑO DEL MODELO\n",
      "\n",
      "\n",
      "Exactitud - Accuracy: 0.9993930024072383\n",
      "------------------------------------------------------------\n",
      "Precisión por clase: [0.99955356 0.45       0.70588235 0.79310345 0.88235294]\n",
      "Sensibilidad - Recall por clase: [0.99988056 0.23684211 0.38709677 0.82142857 0.57692308]\n",
      "F1 por clase: [0.99971704 0.31034483 0.5        0.80701754 0.69767442]\n",
      "------------------------------------------------------------\n",
      "F1 Macro: 0.6629507650613752\n",
      "F1 Micro: 0.9993930024072383\n",
      "F1 Weighted: 0.9993109154656409\n",
      "------------------------------------------------------------\n",
      "Sensibilidad - Recall Macro: 0.6044342183921966\n",
      "Sensibilidad - Recall Micro: 0.9993930024072383\n",
      "Sensibilidad - Recall Weighted: 0.9993930024072383\n",
      "------------------------------------------------------------\n",
      "Precisión Macro: 0.7661784604469319\n",
      "Precisión Micro: 0.9993930024072383\n",
      "Precisión Weighted: 0.9992891491715014\n",
      "------------------------------------------------------------\n",
      "              precision    recall  f1-score   support\n",
      "\n",
      "           0       1.00      1.00      1.00    192572\n",
      "           1       0.45      0.24      0.31        38\n",
      "           2       0.71      0.39      0.50        62\n",
      "           3       0.79      0.82      0.81        28\n",
      "           4       0.88      0.58      0.70        52\n",
      "\n",
      "    accuracy                           1.00    192752\n",
      "   macro avg       0.77      0.60      0.66    192752\n",
      "weighted avg       1.00      1.00      1.00    192752\n",
      "\n"
     ]
    }
   ],
   "source": [
    "label_predm9 = modelom9.predict(data_test)\n",
    "# metricas de desempeño:\n",
    "model_evaluation_multi(data_train, label_train2, data_test, label_test2, modelom9, label_predm9)"
   ]
  },
  {
   "cell_type": "markdown",
   "metadata": {},
   "source": [
    "## Gradient Boosting Classifier"
   ]
  },
  {
   "cell_type": "code",
   "execution_count": 23,
   "metadata": {},
   "outputs": [
    {
     "data": {
      "text/plain": [
       "GradientBoostingClassifier(criterion='friedman_mse', init=None,\n",
       "                           learning_rate=0.1, loss='deviance', max_depth=3,\n",
       "                           max_features=None, max_leaf_nodes=None,\n",
       "                           min_impurity_decrease=0.0, min_impurity_split=None,\n",
       "                           min_samples_leaf=1, min_samples_split=2,\n",
       "                           min_weight_fraction_leaf=0.0, n_estimators=100,\n",
       "                           n_iter_no_change=None, presort='auto',\n",
       "                           random_state=None, subsample=1.0, tol=0.0001,\n",
       "                           validation_fraction=0.1, verbose=0,\n",
       "                           warm_start=False)"
      ]
     },
     "execution_count": 23,
     "metadata": {},
     "output_type": "execute_result"
    }
   ],
   "source": [
    "modelom10=GradientBoostingClassifier(n_estimators=100)\n",
    "modelom10.fit(data_train, label_train2)"
   ]
  },
  {
   "cell_type": "code",
   "execution_count": 25,
   "metadata": {},
   "outputs": [
    {
     "name": "stdout",
     "output_type": "stream",
     "text": [
      "\n",
      "\n",
      "MATRIZ DE CONFUSION\n",
      "\n",
      "\n"
     ]
    },
    {
     "data": {
      "image/png": "[encoded data removed]",
      "text/plain": [
       "<Figure size 432x288 with 1 Axes>"
      ]
     },
     "metadata": {
      "needs_background": "light"
     },
     "output_type": "display_data"
    },
    {
     "name": "stdout",
     "output_type": "stream",
     "text": [
      "\n",
      "\n",
      "MEDIDAS DE DESEMPEÑO DEL MODELO\n",
      "\n",
      "\n",
      "Exactitud - Accuracy: 0.0008871503278824604\n",
      "------------------------------------------------------------\n",
      "Precisión por clase: [6.91666667e-01 1.79877683e-05 3.15059861e-04 0.00000000e+00\n",
      " 4.44859647e-05]\n",
      "Sensibilidad - Recall por clase: [0.00086202 0.07894737 0.01612903 0.         0.01923077]\n",
      "F1 por clase: [1.72188453e-03 3.59673417e-05 6.18046972e-04 0.00000000e+00\n",
      " 8.87665883e-05]\n",
      "------------------------------------------------------------\n",
      "F1 Macro: 0.0004929330862976607\n",
      "F1 Micro: 0.0008871503278824604\n",
      "F1 Weighted: 0.0017205063981001881\n",
      "------------------------------------------------------------\n",
      "Sensibilidad - Recall Macro: 0.023033837031226388\n",
      "Sensibilidad - Recall Micro: 0.0008871503278824604\n",
      "Sensibilidad - Recall Weighted: 0.0008871503278824604\n",
      "------------------------------------------------------------\n",
      "Precisión Macro: 0.1384088400522072\n",
      "Precisión Micro: 0.0008871503278824604\n",
      "Precisión Weighted: 0.6910208758604327\n",
      "------------------------------------------------------------\n",
      "              precision    recall  f1-score   support\n",
      "\n",
      "           0       0.69      0.00      0.00    192572\n",
      "           1       0.00      0.08      0.00        38\n",
      "           2       0.00      0.02      0.00        62\n",
      "           3       0.00      0.00      0.00        28\n",
      "           4       0.00      0.02      0.00        52\n",
      "\n",
      "    accuracy                           0.00    192752\n",
      "   macro avg       0.14      0.02      0.00    192752\n",
      "weighted avg       0.69      0.00      0.00    192752\n",
      "\n"
     ]
    }
   ],
   "source": [
    "label_predm10 = modelom10.predict(data_test)\n",
    "# model_evaluation(data_train, label_train, data_test, label_test, modelo, label_pred):\n",
    "model_evaluation_multi(data_train, label_train2, data_test, label_test2, modelom10, label_predm10)"
   ]
  }
 ],
 "metadata": {
  "kernelspec": {
   "display_name": "Python 3",
   "language": "python",
   "name": "python3"
  },
  "language_info": {
   "codemirror_mode": {
    "name": "ipython",
    "version": 3
   },
   "file_extension": ".py",
   "mimetype": "text/x-python",
   "name": "python",
   "nbconvert_exporter": "python",
   "pygments_lexer": "ipython3",
   "version": "3.7.3"
  }
 },
 "nbformat": 4,
 "nbformat_minor": 4
}
