{
 "cells": [
  {
   "cell_type": "markdown",
   "metadata": {},
   "source": [
    "# 3. Ajuste avanzado modelos de clasificacion multiclase algoritmos de Machine Learning\n",
    "***\n"
   ]
  },
  {
   "cell_type": "markdown",
   "metadata": {},
   "source": [
    "### Caso de estudio #2\n"
   ]
  },
  {
   "cell_type": "markdown",
   "metadata": {},
   "source": [
    "### Tecnicas de ajuste de los datos y modelos:\n",
    "\n",
    "| Ingeniería de datos       | Si / No       |\n",
    "| :-------                  | :------:    |\n",
    "| Escalado de datos         | Si          |\n",
    "| Ajuste de hiperparametros | Si         |\n",
    "| Sobremuestreo             | No          |\n",
    "| Ajuste de pesos de clase  | Si          |\n",
    "\n"
   ]
  },
  {
   "cell_type": "code",
   "execution_count": 1,
   "metadata": {},
   "outputs": [],
   "source": [
    "# librerias\n",
    "import numpy as np\n",
    "import math\n",
    "import pandas as pd\n",
    "import matplotlib as mpl\n",
    "import matplotlib.pyplot as plt\n",
    "plt.style.use('classic')\n",
    "%matplotlib inline\n",
    "import seaborn as sns\n",
    "\n",
    "from numpy.random import seed\n",
    "seed(0)\n",
    "\n",
    "from sklearn.ensemble import RandomForestClassifier\n",
    "from sklearn.metrics import confusion_matrix\n",
    "from sklearn import metrics\n",
    "from sklearn.ensemble import RandomForestClassifier\n",
    "from sklearn.model_selection import GridSearchCV\n",
    "from sklearn.metrics import make_scorer, accuracy_score\n",
    "from plot_metric.functions import BinaryClassification\n",
    "from sklearn.naive_bayes import GaussianNB\n",
    "from sklearn.svm import SVC, LinearSVC\n",
    "from sklearn.neighbors import KNeighborsClassifier\n",
    "from sklearn import tree\n",
    "from sklearn.linear_model import LogisticRegression\n",
    "from sklearn.neural_network import MLPClassifier\n",
    "from yellowbrick.classifier import ConfusionMatrix\n",
    "from sklearn.metrics import classification_report\n",
    "\n",
    "from sklearn.svm import SVC\n",
    "from sklearn.ensemble import BaggingClassifier\n",
    "from sklearn.datasets import make_classification\n",
    "from sklearn.ensemble import ExtraTreesClassifier\n",
    "from sklearn.ensemble import GradientBoostingClassifier\n",
    "\n",
    "from sklearn.preprocessing import StandardScaler\n",
    "from sklearn.model_selection import cross_val_score\n",
    "from sklearn.model_selection import RepeatedStratifiedKFold\n",
    "from numpy import mean\n",
    "from numpy import std\n",
    "from matplotlib import pyplot\n",
    "from numpy import arange\n",
    "from pprint import pprint\n",
    "from sklearn.metrics import fbeta_score\n",
    "from sklearn.model_selection import RandomizedSearchCV\n",
    "from xgboost import XGBClassifier\n",
    "from lightgbm import LGBMClassifier\n",
    "from sklearn.model_selection import KFold\n",
    "from xgboost import plot_tree\n",
    "from time import time\n",
    "from sklearn.model_selection import StratifiedKFold"
   ]
  },
  {
   "cell_type": "code",
   "execution_count": 2,
   "metadata": {},
   "outputs": [],
   "source": [
    "# MULTICLASE funcion para generar matriz de confusion y medidas de desempeño del modelos clasificacion multiclase\n",
    "def model_evaluation_multi(data_train, label_train2, data_test, label_test2, modelo, label_pred):\n",
    "    print('\\n')\n",
    "    print(\"MATRIZ DE CONFUSION\")\n",
    "    print('\\n')\n",
    "    matriz = confusion_matrix(label_test2, label_pred)\n",
    "    #print(matriz)\n",
    "    classes = [\"Funcional\",\"Falla comp1\",\"Falla comp2\",\"Falla comp3\",\"Falla comp4\"]\n",
    "    cm = ConfusionMatrix(modelo, classes=classes, label_encoder={0:\"Funcional\", 1:\"Falla comp1\", 2:\"Falla comp2\", 3:\"Falla comp3\", 4:\"Falla comp4\"})\n",
    "    cm.fit(data_train, label_train2)\n",
    "    cm.score(data_test, label_test2)\n",
    "    cm.show()\n",
    "    # Medidas de desempeño del modelo\n",
    "    print('\\n')\n",
    "    print(\"MEDIDAS DE DESEMPEÑO DEL MODELO\")\n",
    "    print('\\n')\n",
    "    print('Exactitud - Accuracy: {}'.format(modelo.score(data_test, label_test2)))\n",
    "    print('-'*60)\n",
    "    print('Precisión por clase: {}'.format(metrics.precision_score(label_test2, label_pred, average=None)))\n",
    "    print('Sensibilidad - Recall por clase: {}'.format(metrics.recall_score(label_test2, label_pred, average=None)))\n",
    "    print('F1 por clase: {}'.format(metrics.f1_score(label_test2, label_pred, average=None)))\n",
    "    print('-'*60)\n",
    "    print('F1 Macro: {}'.format(metrics.f1_score(label_test2, label_pred, average='macro')))\n",
    "    print('F1 Micro: {}'.format(metrics.f1_score(label_test2, label_pred, average='micro')))\n",
    "    print('F1 Weighted: {}'.format(metrics.f1_score(label_test2, label_pred, average='weighted')))\n",
    "    print('-'*60)\n",
    "    print('Sensibilidad - Recall Macro: {}'.format(metrics.recall_score(label_test2, label_pred, average='macro')))\n",
    "    print('Sensibilidad - Recall Micro: {}'.format(metrics.recall_score(label_test2, label_pred, average='micro')))\n",
    "    print('Sensibilidad - Recall Weighted: {}'.format(metrics.recall_score(label_test2, label_pred, average='weighted')))\n",
    "    print('-'*60)\n",
    "    print('Precisión Macro: {}'.format(metrics.precision_score(label_test2, label_pred, average='macro')))\n",
    "    print('Precisión Micro: {}'.format(metrics.precision_score(label_test2, label_pred, average='micro')))\n",
    "    print('Precisión Weighted: {}'.format(metrics.precision_score(label_test2, label_pred, average='weighted')))\n",
    "        \n",
    "    print('-'*60)\n",
    "   \n",
    "    print(classification_report(label_test2, label_pred))\n",
    "    "
   ]
  },
  {
   "cell_type": "code",
   "execution_count": 3,
   "metadata": {},
   "outputs": [],
   "source": [
    "# cargar archivos\n",
    "test = pd.read_excel (r'D:\\alexh\\Documents\\Maestria en estadistica\\proyecto de grado\\datos simulacion\\test11.xlsx')\n",
    "train = pd.read_excel (r'D:\\alexh\\Documents\\Maestria en estadistica\\proyecto de grado\\datos simulacion\\train11.xlsx')"
   ]
  },
  {
   "cell_type": "code",
   "execution_count": 4,
   "metadata": {},
   "outputs": [
    {
     "data": {
      "text/html": [
       "<div>\n",
       "<style scoped>\n",
       "    .dataframe tbody tr th:only-of-type {\n",
       "        vertical-align: middle;\n",
       "    }\n",
       "\n",
       "    .dataframe tbody tr th {\n",
       "        vertical-align: top;\n",
       "    }\n",
       "\n",
       "    .dataframe thead th {\n",
       "        text-align: right;\n",
       "    }\n",
       "</style>\n",
       "<table border=\"1\" class=\"dataframe\">\n",
       "  <thead>\n",
       "    <tr style=\"text-align: right;\">\n",
       "      <th></th>\n",
       "      <th>datetime</th>\n",
       "      <th>id</th>\n",
       "      <th>volt</th>\n",
       "      <th>rotate</th>\n",
       "      <th>pressure</th>\n",
       "      <th>vibration</th>\n",
       "      <th>error1</th>\n",
       "      <th>error2</th>\n",
       "      <th>error3</th>\n",
       "      <th>error4</th>\n",
       "      <th>error5</th>\n",
       "      <th>mto_comp1</th>\n",
       "      <th>mto_comp2</th>\n",
       "      <th>mto_comp3</th>\n",
       "      <th>mto_comp4</th>\n",
       "      <th>model</th>\n",
       "      <th>age</th>\n",
       "      <th>failure</th>\n",
       "    </tr>\n",
       "  </thead>\n",
       "  <tbody>\n",
       "    <tr>\n",
       "      <th>0</th>\n",
       "      <td>2015-01-01 06:00:00</td>\n",
       "      <td>1</td>\n",
       "      <td>176.217853</td>\n",
       "      <td>418.504078</td>\n",
       "      <td>113.077935</td>\n",
       "      <td>45.087686</td>\n",
       "      <td>0</td>\n",
       "      <td>0</td>\n",
       "      <td>0</td>\n",
       "      <td>0</td>\n",
       "      <td>0</td>\n",
       "      <td>0</td>\n",
       "      <td>0</td>\n",
       "      <td>0</td>\n",
       "      <td>0</td>\n",
       "      <td>3</td>\n",
       "      <td>18</td>\n",
       "      <td>0</td>\n",
       "    </tr>\n",
       "    <tr>\n",
       "      <th>1</th>\n",
       "      <td>2015-01-01 07:00:00</td>\n",
       "      <td>1</td>\n",
       "      <td>162.879223</td>\n",
       "      <td>402.747490</td>\n",
       "      <td>95.460525</td>\n",
       "      <td>43.413973</td>\n",
       "      <td>0</td>\n",
       "      <td>0</td>\n",
       "      <td>0</td>\n",
       "      <td>0</td>\n",
       "      <td>0</td>\n",
       "      <td>0</td>\n",
       "      <td>0</td>\n",
       "      <td>0</td>\n",
       "      <td>0</td>\n",
       "      <td>3</td>\n",
       "      <td>18</td>\n",
       "      <td>0</td>\n",
       "    </tr>\n",
       "    <tr>\n",
       "      <th>2</th>\n",
       "      <td>2015-01-01 08:00:00</td>\n",
       "      <td>1</td>\n",
       "      <td>170.989902</td>\n",
       "      <td>527.349825</td>\n",
       "      <td>75.237905</td>\n",
       "      <td>34.178847</td>\n",
       "      <td>0</td>\n",
       "      <td>0</td>\n",
       "      <td>0</td>\n",
       "      <td>0</td>\n",
       "      <td>0</td>\n",
       "      <td>0</td>\n",
       "      <td>0</td>\n",
       "      <td>0</td>\n",
       "      <td>0</td>\n",
       "      <td>3</td>\n",
       "      <td>18</td>\n",
       "      <td>0</td>\n",
       "    </tr>\n",
       "    <tr>\n",
       "      <th>3</th>\n",
       "      <td>2015-01-01 09:00:00</td>\n",
       "      <td>1</td>\n",
       "      <td>162.462833</td>\n",
       "      <td>346.149335</td>\n",
       "      <td>109.248561</td>\n",
       "      <td>41.122144</td>\n",
       "      <td>0</td>\n",
       "      <td>0</td>\n",
       "      <td>0</td>\n",
       "      <td>0</td>\n",
       "      <td>0</td>\n",
       "      <td>0</td>\n",
       "      <td>0</td>\n",
       "      <td>0</td>\n",
       "      <td>0</td>\n",
       "      <td>3</td>\n",
       "      <td>18</td>\n",
       "      <td>0</td>\n",
       "    </tr>\n",
       "    <tr>\n",
       "      <th>4</th>\n",
       "      <td>2015-01-01 10:00:00</td>\n",
       "      <td>1</td>\n",
       "      <td>157.610021</td>\n",
       "      <td>435.376873</td>\n",
       "      <td>111.886648</td>\n",
       "      <td>25.990511</td>\n",
       "      <td>0</td>\n",
       "      <td>0</td>\n",
       "      <td>0</td>\n",
       "      <td>0</td>\n",
       "      <td>0</td>\n",
       "      <td>0</td>\n",
       "      <td>0</td>\n",
       "      <td>0</td>\n",
       "      <td>0</td>\n",
       "      <td>3</td>\n",
       "      <td>18</td>\n",
       "      <td>0</td>\n",
       "    </tr>\n",
       "  </tbody>\n",
       "</table>\n",
       "</div>"
      ],
      "text/plain": [
       "             datetime  id        volt      rotate    pressure  vibration  \\\n",
       "0 2015-01-01 06:00:00   1  176.217853  418.504078  113.077935  45.087686   \n",
       "1 2015-01-01 07:00:00   1  162.879223  402.747490   95.460525  43.413973   \n",
       "2 2015-01-01 08:00:00   1  170.989902  527.349825   75.237905  34.178847   \n",
       "3 2015-01-01 09:00:00   1  162.462833  346.149335  109.248561  41.122144   \n",
       "4 2015-01-01 10:00:00   1  157.610021  435.376873  111.886648  25.990511   \n",
       "\n",
       "   error1  error2  error3  error4  error5  mto_comp1  mto_comp2  mto_comp3  \\\n",
       "0       0       0       0       0       0          0          0          0   \n",
       "1       0       0       0       0       0          0          0          0   \n",
       "2       0       0       0       0       0          0          0          0   \n",
       "3       0       0       0       0       0          0          0          0   \n",
       "4       0       0       0       0       0          0          0          0   \n",
       "\n",
       "   mto_comp4  model  age  failure  \n",
       "0          0      3   18        0  \n",
       "1          0      3   18        0  \n",
       "2          0      3   18        0  \n",
       "3          0      3   18        0  \n",
       "4          0      3   18        0  "
      ]
     },
     "execution_count": 4,
     "metadata": {},
     "output_type": "execute_result"
    }
   ],
   "source": [
    "train.head()"
   ]
  },
  {
   "cell_type": "code",
   "execution_count": 5,
   "metadata": {},
   "outputs": [
    {
     "data": {
      "text/html": [
       "<div>\n",
       "<style scoped>\n",
       "    .dataframe tbody tr th:only-of-type {\n",
       "        vertical-align: middle;\n",
       "    }\n",
       "\n",
       "    .dataframe tbody tr th {\n",
       "        vertical-align: top;\n",
       "    }\n",
       "\n",
       "    .dataframe thead th {\n",
       "        text-align: right;\n",
       "    }\n",
       "</style>\n",
       "<table border=\"1\" class=\"dataframe\">\n",
       "  <thead>\n",
       "    <tr style=\"text-align: right;\">\n",
       "      <th></th>\n",
       "      <th>datetime</th>\n",
       "      <th>id</th>\n",
       "      <th>volt</th>\n",
       "      <th>rotate</th>\n",
       "      <th>pressure</th>\n",
       "      <th>vibration</th>\n",
       "      <th>error1</th>\n",
       "      <th>error2</th>\n",
       "      <th>error3</th>\n",
       "      <th>error4</th>\n",
       "      <th>error5</th>\n",
       "      <th>mto_comp1</th>\n",
       "      <th>mto_comp2</th>\n",
       "      <th>mto_comp3</th>\n",
       "      <th>mto_comp4</th>\n",
       "      <th>model</th>\n",
       "      <th>age</th>\n",
       "      <th>failure</th>\n",
       "    </tr>\n",
       "  </thead>\n",
       "  <tbody>\n",
       "    <tr>\n",
       "      <th>0</th>\n",
       "      <td>2015-01-01 06:00:00</td>\n",
       "      <td>3</td>\n",
       "      <td>185.482043</td>\n",
       "      <td>461.211137</td>\n",
       "      <td>87.453199</td>\n",
       "      <td>28.216864</td>\n",
       "      <td>0</td>\n",
       "      <td>0</td>\n",
       "      <td>0</td>\n",
       "      <td>0</td>\n",
       "      <td>0</td>\n",
       "      <td>0</td>\n",
       "      <td>0</td>\n",
       "      <td>0</td>\n",
       "      <td>0</td>\n",
       "      <td>3</td>\n",
       "      <td>8</td>\n",
       "      <td>0</td>\n",
       "    </tr>\n",
       "    <tr>\n",
       "      <th>1</th>\n",
       "      <td>2015-01-01 07:00:00</td>\n",
       "      <td>3</td>\n",
       "      <td>179.818516</td>\n",
       "      <td>519.166185</td>\n",
       "      <td>109.318603</td>\n",
       "      <td>37.290722</td>\n",
       "      <td>0</td>\n",
       "      <td>0</td>\n",
       "      <td>0</td>\n",
       "      <td>0</td>\n",
       "      <td>0</td>\n",
       "      <td>0</td>\n",
       "      <td>0</td>\n",
       "      <td>0</td>\n",
       "      <td>0</td>\n",
       "      <td>3</td>\n",
       "      <td>8</td>\n",
       "      <td>0</td>\n",
       "    </tr>\n",
       "    <tr>\n",
       "      <th>2</th>\n",
       "      <td>2015-01-01 08:00:00</td>\n",
       "      <td>3</td>\n",
       "      <td>165.616803</td>\n",
       "      <td>467.107482</td>\n",
       "      <td>101.285580</td>\n",
       "      <td>34.530035</td>\n",
       "      <td>0</td>\n",
       "      <td>0</td>\n",
       "      <td>0</td>\n",
       "      <td>0</td>\n",
       "      <td>0</td>\n",
       "      <td>0</td>\n",
       "      <td>0</td>\n",
       "      <td>0</td>\n",
       "      <td>0</td>\n",
       "      <td>3</td>\n",
       "      <td>8</td>\n",
       "      <td>0</td>\n",
       "    </tr>\n",
       "    <tr>\n",
       "      <th>3</th>\n",
       "      <td>2015-01-01 09:00:00</td>\n",
       "      <td>3</td>\n",
       "      <td>165.007013</td>\n",
       "      <td>391.994872</td>\n",
       "      <td>98.825669</td>\n",
       "      <td>27.495507</td>\n",
       "      <td>0</td>\n",
       "      <td>0</td>\n",
       "      <td>0</td>\n",
       "      <td>0</td>\n",
       "      <td>0</td>\n",
       "      <td>0</td>\n",
       "      <td>0</td>\n",
       "      <td>0</td>\n",
       "      <td>0</td>\n",
       "      <td>3</td>\n",
       "      <td>8</td>\n",
       "      <td>0</td>\n",
       "    </tr>\n",
       "    <tr>\n",
       "      <th>4</th>\n",
       "      <td>2015-01-01 10:00:00</td>\n",
       "      <td>3</td>\n",
       "      <td>138.898164</td>\n",
       "      <td>488.764118</td>\n",
       "      <td>102.800017</td>\n",
       "      <td>44.698218</td>\n",
       "      <td>0</td>\n",
       "      <td>0</td>\n",
       "      <td>0</td>\n",
       "      <td>0</td>\n",
       "      <td>0</td>\n",
       "      <td>0</td>\n",
       "      <td>0</td>\n",
       "      <td>0</td>\n",
       "      <td>0</td>\n",
       "      <td>3</td>\n",
       "      <td>8</td>\n",
       "      <td>0</td>\n",
       "    </tr>\n",
       "  </tbody>\n",
       "</table>\n",
       "</div>"
      ],
      "text/plain": [
       "             datetime  id        volt      rotate    pressure  vibration  \\\n",
       "0 2015-01-01 06:00:00   3  185.482043  461.211137   87.453199  28.216864   \n",
       "1 2015-01-01 07:00:00   3  179.818516  519.166185  109.318603  37.290722   \n",
       "2 2015-01-01 08:00:00   3  165.616803  467.107482  101.285580  34.530035   \n",
       "3 2015-01-01 09:00:00   3  165.007013  391.994872   98.825669  27.495507   \n",
       "4 2015-01-01 10:00:00   3  138.898164  488.764118  102.800017  44.698218   \n",
       "\n",
       "   error1  error2  error3  error4  error5  mto_comp1  mto_comp2  mto_comp3  \\\n",
       "0       0       0       0       0       0          0          0          0   \n",
       "1       0       0       0       0       0          0          0          0   \n",
       "2       0       0       0       0       0          0          0          0   \n",
       "3       0       0       0       0       0          0          0          0   \n",
       "4       0       0       0       0       0          0          0          0   \n",
       "\n",
       "   mto_comp4  model  age  failure  \n",
       "0          0      3    8        0  \n",
       "1          0      3    8        0  \n",
       "2          0      3    8        0  \n",
       "3          0      3    8        0  \n",
       "4          0      3    8        0  "
      ]
     },
     "execution_count": 5,
     "metadata": {},
     "output_type": "execute_result"
    }
   ],
   "source": [
    "test.head()"
   ]
  },
  {
   "cell_type": "code",
   "execution_count": 6,
   "metadata": {},
   "outputs": [
    {
     "name": "stdout",
     "output_type": "stream",
     "text": [
      "numero de dimensiones train = 2\n",
      "tamaño de la tabla train= (683388, 18)\n",
      "total datos train = 12300984\n",
      "numero de dimensiones test = 2\n",
      "tamaño de la tabla test= (192752, 18)\n",
      "total datos test= 3469536\n"
     ]
    }
   ],
   "source": [
    "# tamaño base de entrenamiento y pruebas\n",
    "print(\"numero de dimensiones train =\", train.ndim)\n",
    "print(\"tamaño de la tabla train=\", train.shape)\n",
    "print(\"total datos train =\", train.size)\n",
    "print(\"numero de dimensiones test =\", test.ndim)\n",
    "print(\"tamaño de la tabla test=\", test.shape)\n",
    "print(\"total datos test=\", test.size)"
   ]
  },
  {
   "cell_type": "code",
   "execution_count": 7,
   "metadata": {},
   "outputs": [],
   "source": [
    "variables=['volt','rotate','pressure','vibration','error1','error2','error3','error4','error5','mto_comp1','mto_comp2','mto_comp3','mto_comp4','model','age']\n",
    "\n",
    "objetivo='failure'"
   ]
  },
  {
   "cell_type": "code",
   "execution_count": 8,
   "metadata": {},
   "outputs": [
    {
     "data": {
      "text/html": [
       "<div>\n",
       "<style scoped>\n",
       "    .dataframe tbody tr th:only-of-type {\n",
       "        vertical-align: middle;\n",
       "    }\n",
       "\n",
       "    .dataframe tbody tr th {\n",
       "        vertical-align: top;\n",
       "    }\n",
       "\n",
       "    .dataframe thead th {\n",
       "        text-align: right;\n",
       "    }\n",
       "</style>\n",
       "<table border=\"1\" class=\"dataframe\">\n",
       "  <thead>\n",
       "    <tr style=\"text-align: right;\">\n",
       "      <th></th>\n",
       "      <th>datetime</th>\n",
       "      <th>id</th>\n",
       "      <th>volt</th>\n",
       "      <th>rotate</th>\n",
       "      <th>pressure</th>\n",
       "      <th>vibration</th>\n",
       "      <th>error1</th>\n",
       "      <th>error2</th>\n",
       "      <th>error3</th>\n",
       "      <th>error4</th>\n",
       "      <th>error5</th>\n",
       "      <th>mto_comp1</th>\n",
       "      <th>mto_comp2</th>\n",
       "      <th>mto_comp3</th>\n",
       "      <th>mto_comp4</th>\n",
       "      <th>model</th>\n",
       "      <th>age</th>\n",
       "      <th>failure</th>\n",
       "    </tr>\n",
       "  </thead>\n",
       "  <tbody>\n",
       "    <tr>\n",
       "      <th>0</th>\n",
       "      <td>2015-01-01 06:00:00</td>\n",
       "      <td>1</td>\n",
       "      <td>0.350986</td>\n",
       "      <td>-0.534618</td>\n",
       "      <td>1.105902</td>\n",
       "      <td>0.879350</td>\n",
       "      <td>-0.033998</td>\n",
       "      <td>-0.033477</td>\n",
       "      <td>-0.030712</td>\n",
       "      <td>-0.028355</td>\n",
       "      <td>-0.01913</td>\n",
       "      <td>-0.028612</td>\n",
       "      <td>-0.029767</td>\n",
       "      <td>-0.028943</td>\n",
       "      <td>-0.029019</td>\n",
       "      <td>0.159826</td>\n",
       "      <td>1.195669</td>\n",
       "      <td>0</td>\n",
       "    </tr>\n",
       "    <tr>\n",
       "      <th>1</th>\n",
       "      <td>2015-01-01 07:00:00</td>\n",
       "      <td>1</td>\n",
       "      <td>-0.508982</td>\n",
       "      <td>-0.834013</td>\n",
       "      <td>-0.488294</td>\n",
       "      <td>0.567226</td>\n",
       "      <td>-0.033998</td>\n",
       "      <td>-0.033477</td>\n",
       "      <td>-0.030712</td>\n",
       "      <td>-0.028355</td>\n",
       "      <td>-0.01913</td>\n",
       "      <td>-0.028612</td>\n",
       "      <td>-0.029767</td>\n",
       "      <td>-0.028943</td>\n",
       "      <td>-0.029019</td>\n",
       "      <td>0.159826</td>\n",
       "      <td>1.195669</td>\n",
       "      <td>0</td>\n",
       "    </tr>\n",
       "    <tr>\n",
       "      <th>2</th>\n",
       "      <td>2015-01-01 08:00:00</td>\n",
       "      <td>1</td>\n",
       "      <td>0.013930</td>\n",
       "      <td>1.533590</td>\n",
       "      <td>-2.318235</td>\n",
       "      <td>-1.154994</td>\n",
       "      <td>-0.033998</td>\n",
       "      <td>-0.033477</td>\n",
       "      <td>-0.030712</td>\n",
       "      <td>-0.028355</td>\n",
       "      <td>-0.01913</td>\n",
       "      <td>-0.028612</td>\n",
       "      <td>-0.029767</td>\n",
       "      <td>-0.028943</td>\n",
       "      <td>-0.029019</td>\n",
       "      <td>0.159826</td>\n",
       "      <td>1.195669</td>\n",
       "      <td>0</td>\n",
       "    </tr>\n",
       "    <tr>\n",
       "      <th>3</th>\n",
       "      <td>2015-01-01 09:00:00</td>\n",
       "      <td>1</td>\n",
       "      <td>-0.535828</td>\n",
       "      <td>-1.909450</td>\n",
       "      <td>0.759382</td>\n",
       "      <td>0.139832</td>\n",
       "      <td>-0.033998</td>\n",
       "      <td>-0.033477</td>\n",
       "      <td>-0.030712</td>\n",
       "      <td>-0.028355</td>\n",
       "      <td>-0.01913</td>\n",
       "      <td>-0.028612</td>\n",
       "      <td>-0.029767</td>\n",
       "      <td>-0.028943</td>\n",
       "      <td>-0.029019</td>\n",
       "      <td>0.159826</td>\n",
       "      <td>1.195669</td>\n",
       "      <td>0</td>\n",
       "    </tr>\n",
       "    <tr>\n",
       "      <th>4</th>\n",
       "      <td>2015-01-01 10:00:00</td>\n",
       "      <td>1</td>\n",
       "      <td>-0.848698</td>\n",
       "      <td>-0.214013</td>\n",
       "      <td>0.998102</td>\n",
       "      <td>-2.682002</td>\n",
       "      <td>-0.033998</td>\n",
       "      <td>-0.033477</td>\n",
       "      <td>-0.030712</td>\n",
       "      <td>-0.028355</td>\n",
       "      <td>-0.01913</td>\n",
       "      <td>-0.028612</td>\n",
       "      <td>-0.029767</td>\n",
       "      <td>-0.028943</td>\n",
       "      <td>-0.029019</td>\n",
       "      <td>0.159826</td>\n",
       "      <td>1.195669</td>\n",
       "      <td>0</td>\n",
       "    </tr>\n",
       "  </tbody>\n",
       "</table>\n",
       "</div>"
      ],
      "text/plain": [
       "             datetime  id      volt    rotate  pressure  vibration    error1  \\\n",
       "0 2015-01-01 06:00:00   1  0.350986 -0.534618  1.105902   0.879350 -0.033998   \n",
       "1 2015-01-01 07:00:00   1 -0.508982 -0.834013 -0.488294   0.567226 -0.033998   \n",
       "2 2015-01-01 08:00:00   1  0.013930  1.533590 -2.318235  -1.154994 -0.033998   \n",
       "3 2015-01-01 09:00:00   1 -0.535828 -1.909450  0.759382   0.139832 -0.033998   \n",
       "4 2015-01-01 10:00:00   1 -0.848698 -0.214013  0.998102  -2.682002 -0.033998   \n",
       "\n",
       "     error2    error3    error4   error5  mto_comp1  mto_comp2  mto_comp3  \\\n",
       "0 -0.033477 -0.030712 -0.028355 -0.01913  -0.028612  -0.029767  -0.028943   \n",
       "1 -0.033477 -0.030712 -0.028355 -0.01913  -0.028612  -0.029767  -0.028943   \n",
       "2 -0.033477 -0.030712 -0.028355 -0.01913  -0.028612  -0.029767  -0.028943   \n",
       "3 -0.033477 -0.030712 -0.028355 -0.01913  -0.028612  -0.029767  -0.028943   \n",
       "4 -0.033477 -0.030712 -0.028355 -0.01913  -0.028612  -0.029767  -0.028943   \n",
       "\n",
       "   mto_comp4     model       age  failure  \n",
       "0  -0.029019  0.159826  1.195669        0  \n",
       "1  -0.029019  0.159826  1.195669        0  \n",
       "2  -0.029019  0.159826  1.195669        0  \n",
       "3  -0.029019  0.159826  1.195669        0  \n",
       "4  -0.029019  0.159826  1.195669        0  "
      ]
     },
     "execution_count": 8,
     "metadata": {},
     "output_type": "execute_result"
    }
   ],
   "source": [
    "# estandarizado de datos sin incluir id\n",
    "scaler = StandardScaler()\n",
    "train[variables]=scaler.fit_transform(train[variables])\n",
    "test[variables]=scaler.transform(test[variables])\n",
    "train.head()\n"
   ]
  },
  {
   "cell_type": "code",
   "execution_count": 9,
   "metadata": {},
   "outputs": [
    {
     "data": {
      "text/html": [
       "<div>\n",
       "<style scoped>\n",
       "    .dataframe tbody tr th:only-of-type {\n",
       "        vertical-align: middle;\n",
       "    }\n",
       "\n",
       "    .dataframe tbody tr th {\n",
       "        vertical-align: top;\n",
       "    }\n",
       "\n",
       "    .dataframe thead th {\n",
       "        text-align: right;\n",
       "    }\n",
       "</style>\n",
       "<table border=\"1\" class=\"dataframe\">\n",
       "  <thead>\n",
       "    <tr style=\"text-align: right;\">\n",
       "      <th></th>\n",
       "      <th>volt</th>\n",
       "      <th>rotate</th>\n",
       "      <th>pressure</th>\n",
       "      <th>vibration</th>\n",
       "      <th>error1</th>\n",
       "      <th>error2</th>\n",
       "      <th>error3</th>\n",
       "      <th>error4</th>\n",
       "      <th>error5</th>\n",
       "      <th>mto_comp1</th>\n",
       "      <th>mto_comp2</th>\n",
       "      <th>mto_comp3</th>\n",
       "      <th>mto_comp4</th>\n",
       "      <th>model</th>\n",
       "      <th>age</th>\n",
       "    </tr>\n",
       "  </thead>\n",
       "  <tbody>\n",
       "    <tr>\n",
       "      <th>0</th>\n",
       "      <td>0.350986</td>\n",
       "      <td>-0.534618</td>\n",
       "      <td>1.105902</td>\n",
       "      <td>0.879350</td>\n",
       "      <td>-0.033998</td>\n",
       "      <td>-0.033477</td>\n",
       "      <td>-0.030712</td>\n",
       "      <td>-0.028355</td>\n",
       "      <td>-0.01913</td>\n",
       "      <td>-0.028612</td>\n",
       "      <td>-0.029767</td>\n",
       "      <td>-0.028943</td>\n",
       "      <td>-0.029019</td>\n",
       "      <td>0.159826</td>\n",
       "      <td>1.195669</td>\n",
       "    </tr>\n",
       "    <tr>\n",
       "      <th>1</th>\n",
       "      <td>-0.508982</td>\n",
       "      <td>-0.834013</td>\n",
       "      <td>-0.488294</td>\n",
       "      <td>0.567226</td>\n",
       "      <td>-0.033998</td>\n",
       "      <td>-0.033477</td>\n",
       "      <td>-0.030712</td>\n",
       "      <td>-0.028355</td>\n",
       "      <td>-0.01913</td>\n",
       "      <td>-0.028612</td>\n",
       "      <td>-0.029767</td>\n",
       "      <td>-0.028943</td>\n",
       "      <td>-0.029019</td>\n",
       "      <td>0.159826</td>\n",
       "      <td>1.195669</td>\n",
       "    </tr>\n",
       "    <tr>\n",
       "      <th>2</th>\n",
       "      <td>0.013930</td>\n",
       "      <td>1.533590</td>\n",
       "      <td>-2.318235</td>\n",
       "      <td>-1.154994</td>\n",
       "      <td>-0.033998</td>\n",
       "      <td>-0.033477</td>\n",
       "      <td>-0.030712</td>\n",
       "      <td>-0.028355</td>\n",
       "      <td>-0.01913</td>\n",
       "      <td>-0.028612</td>\n",
       "      <td>-0.029767</td>\n",
       "      <td>-0.028943</td>\n",
       "      <td>-0.029019</td>\n",
       "      <td>0.159826</td>\n",
       "      <td>1.195669</td>\n",
       "    </tr>\n",
       "    <tr>\n",
       "      <th>3</th>\n",
       "      <td>-0.535828</td>\n",
       "      <td>-1.909450</td>\n",
       "      <td>0.759382</td>\n",
       "      <td>0.139832</td>\n",
       "      <td>-0.033998</td>\n",
       "      <td>-0.033477</td>\n",
       "      <td>-0.030712</td>\n",
       "      <td>-0.028355</td>\n",
       "      <td>-0.01913</td>\n",
       "      <td>-0.028612</td>\n",
       "      <td>-0.029767</td>\n",
       "      <td>-0.028943</td>\n",
       "      <td>-0.029019</td>\n",
       "      <td>0.159826</td>\n",
       "      <td>1.195669</td>\n",
       "    </tr>\n",
       "    <tr>\n",
       "      <th>4</th>\n",
       "      <td>-0.848698</td>\n",
       "      <td>-0.214013</td>\n",
       "      <td>0.998102</td>\n",
       "      <td>-2.682002</td>\n",
       "      <td>-0.033998</td>\n",
       "      <td>-0.033477</td>\n",
       "      <td>-0.030712</td>\n",
       "      <td>-0.028355</td>\n",
       "      <td>-0.01913</td>\n",
       "      <td>-0.028612</td>\n",
       "      <td>-0.029767</td>\n",
       "      <td>-0.028943</td>\n",
       "      <td>-0.029019</td>\n",
       "      <td>0.159826</td>\n",
       "      <td>1.195669</td>\n",
       "    </tr>\n",
       "  </tbody>\n",
       "</table>\n",
       "</div>"
      ],
      "text/plain": [
       "       volt    rotate  pressure  vibration    error1    error2    error3  \\\n",
       "0  0.350986 -0.534618  1.105902   0.879350 -0.033998 -0.033477 -0.030712   \n",
       "1 -0.508982 -0.834013 -0.488294   0.567226 -0.033998 -0.033477 -0.030712   \n",
       "2  0.013930  1.533590 -2.318235  -1.154994 -0.033998 -0.033477 -0.030712   \n",
       "3 -0.535828 -1.909450  0.759382   0.139832 -0.033998 -0.033477 -0.030712   \n",
       "4 -0.848698 -0.214013  0.998102  -2.682002 -0.033998 -0.033477 -0.030712   \n",
       "\n",
       "     error4   error5  mto_comp1  mto_comp2  mto_comp3  mto_comp4     model  \\\n",
       "0 -0.028355 -0.01913  -0.028612  -0.029767  -0.028943  -0.029019  0.159826   \n",
       "1 -0.028355 -0.01913  -0.028612  -0.029767  -0.028943  -0.029019  0.159826   \n",
       "2 -0.028355 -0.01913  -0.028612  -0.029767  -0.028943  -0.029019  0.159826   \n",
       "3 -0.028355 -0.01913  -0.028612  -0.029767  -0.028943  -0.029019  0.159826   \n",
       "4 -0.028355 -0.01913  -0.028612  -0.029767  -0.028943  -0.029019  0.159826   \n",
       "\n",
       "        age  \n",
       "0  1.195669  \n",
       "1  1.195669  \n",
       "2  1.195669  \n",
       "3  1.195669  \n",
       "4  1.195669  "
      ]
     },
     "execution_count": 9,
     "metadata": {},
     "output_type": "execute_result"
    }
   ],
   "source": [
    "# separar base de entrenamiento en data_train y label_train\n",
    "data_train=train.iloc[:,np.r_[2:17]]\n",
    "data_train.head()\n"
   ]
  },
  {
   "cell_type": "code",
   "execution_count": 10,
   "metadata": {},
   "outputs": [
    {
     "data": {
      "text/plain": [
       "0    0\n",
       "1    0\n",
       "2    0\n",
       "3    0\n",
       "4    0\n",
       "Name: failure, dtype: int64"
      ]
     },
     "execution_count": 10,
     "metadata": {},
     "output_type": "execute_result"
    }
   ],
   "source": [
    "# etiquetas\n",
    "label_train2=train.iloc[:,17]\n",
    "label_train2.head()"
   ]
  },
  {
   "cell_type": "code",
   "execution_count": 11,
   "metadata": {},
   "outputs": [
    {
     "data": {
      "text/html": [
       "<div>\n",
       "<style scoped>\n",
       "    .dataframe tbody tr th:only-of-type {\n",
       "        vertical-align: middle;\n",
       "    }\n",
       "\n",
       "    .dataframe tbody tr th {\n",
       "        vertical-align: top;\n",
       "    }\n",
       "\n",
       "    .dataframe thead th {\n",
       "        text-align: right;\n",
       "    }\n",
       "</style>\n",
       "<table border=\"1\" class=\"dataframe\">\n",
       "  <thead>\n",
       "    <tr style=\"text-align: right;\">\n",
       "      <th></th>\n",
       "      <th>volt</th>\n",
       "      <th>rotate</th>\n",
       "      <th>pressure</th>\n",
       "      <th>vibration</th>\n",
       "      <th>error1</th>\n",
       "      <th>error2</th>\n",
       "      <th>error3</th>\n",
       "      <th>error4</th>\n",
       "      <th>error5</th>\n",
       "      <th>mto_comp1</th>\n",
       "      <th>mto_comp2</th>\n",
       "      <th>mto_comp3</th>\n",
       "      <th>mto_comp4</th>\n",
       "      <th>model</th>\n",
       "      <th>age</th>\n",
       "    </tr>\n",
       "  </thead>\n",
       "  <tbody>\n",
       "    <tr>\n",
       "      <th>0</th>\n",
       "      <td>0.948268</td>\n",
       "      <td>0.276871</td>\n",
       "      <td>-1.212875</td>\n",
       "      <td>-2.266819</td>\n",
       "      <td>-0.033998</td>\n",
       "      <td>-0.033477</td>\n",
       "      <td>-0.030712</td>\n",
       "      <td>-0.028355</td>\n",
       "      <td>-0.01913</td>\n",
       "      <td>-0.028612</td>\n",
       "      <td>-0.029767</td>\n",
       "      <td>-0.028943</td>\n",
       "      <td>-0.029019</td>\n",
       "      <td>0.159826</td>\n",
       "      <td>-0.541085</td>\n",
       "    </tr>\n",
       "    <tr>\n",
       "      <th>1</th>\n",
       "      <td>0.583128</td>\n",
       "      <td>1.378091</td>\n",
       "      <td>0.765720</td>\n",
       "      <td>-0.574673</td>\n",
       "      <td>-0.033998</td>\n",
       "      <td>-0.033477</td>\n",
       "      <td>-0.030712</td>\n",
       "      <td>-0.028355</td>\n",
       "      <td>-0.01913</td>\n",
       "      <td>-0.028612</td>\n",
       "      <td>-0.029767</td>\n",
       "      <td>-0.028943</td>\n",
       "      <td>-0.029019</td>\n",
       "      <td>0.159826</td>\n",
       "      <td>-0.541085</td>\n",
       "    </tr>\n",
       "    <tr>\n",
       "      <th>2</th>\n",
       "      <td>-0.332485</td>\n",
       "      <td>0.388909</td>\n",
       "      <td>0.038814</td>\n",
       "      <td>-1.089502</td>\n",
       "      <td>-0.033998</td>\n",
       "      <td>-0.033477</td>\n",
       "      <td>-0.030712</td>\n",
       "      <td>-0.028355</td>\n",
       "      <td>-0.01913</td>\n",
       "      <td>-0.028612</td>\n",
       "      <td>-0.029767</td>\n",
       "      <td>-0.028943</td>\n",
       "      <td>-0.029019</td>\n",
       "      <td>0.159826</td>\n",
       "      <td>-0.541085</td>\n",
       "    </tr>\n",
       "    <tr>\n",
       "      <th>3</th>\n",
       "      <td>-0.371799</td>\n",
       "      <td>-1.038326</td>\n",
       "      <td>-0.183783</td>\n",
       "      <td>-2.401342</td>\n",
       "      <td>-0.033998</td>\n",
       "      <td>-0.033477</td>\n",
       "      <td>-0.030712</td>\n",
       "      <td>-0.028355</td>\n",
       "      <td>-0.01913</td>\n",
       "      <td>-0.028612</td>\n",
       "      <td>-0.029767</td>\n",
       "      <td>-0.028943</td>\n",
       "      <td>-0.029019</td>\n",
       "      <td>0.159826</td>\n",
       "      <td>-0.541085</td>\n",
       "    </tr>\n",
       "    <tr>\n",
       "      <th>4</th>\n",
       "      <td>-2.055090</td>\n",
       "      <td>0.800413</td>\n",
       "      <td>0.175855</td>\n",
       "      <td>0.806719</td>\n",
       "      <td>-0.033998</td>\n",
       "      <td>-0.033477</td>\n",
       "      <td>-0.030712</td>\n",
       "      <td>-0.028355</td>\n",
       "      <td>-0.01913</td>\n",
       "      <td>-0.028612</td>\n",
       "      <td>-0.029767</td>\n",
       "      <td>-0.028943</td>\n",
       "      <td>-0.029019</td>\n",
       "      <td>0.159826</td>\n",
       "      <td>-0.541085</td>\n",
       "    </tr>\n",
       "  </tbody>\n",
       "</table>\n",
       "</div>"
      ],
      "text/plain": [
       "       volt    rotate  pressure  vibration    error1    error2    error3  \\\n",
       "0  0.948268  0.276871 -1.212875  -2.266819 -0.033998 -0.033477 -0.030712   \n",
       "1  0.583128  1.378091  0.765720  -0.574673 -0.033998 -0.033477 -0.030712   \n",
       "2 -0.332485  0.388909  0.038814  -1.089502 -0.033998 -0.033477 -0.030712   \n",
       "3 -0.371799 -1.038326 -0.183783  -2.401342 -0.033998 -0.033477 -0.030712   \n",
       "4 -2.055090  0.800413  0.175855   0.806719 -0.033998 -0.033477 -0.030712   \n",
       "\n",
       "     error4   error5  mto_comp1  mto_comp2  mto_comp3  mto_comp4     model  \\\n",
       "0 -0.028355 -0.01913  -0.028612  -0.029767  -0.028943  -0.029019  0.159826   \n",
       "1 -0.028355 -0.01913  -0.028612  -0.029767  -0.028943  -0.029019  0.159826   \n",
       "2 -0.028355 -0.01913  -0.028612  -0.029767  -0.028943  -0.029019  0.159826   \n",
       "3 -0.028355 -0.01913  -0.028612  -0.029767  -0.028943  -0.029019  0.159826   \n",
       "4 -0.028355 -0.01913  -0.028612  -0.029767  -0.028943  -0.029019  0.159826   \n",
       "\n",
       "        age  \n",
       "0 -0.541085  \n",
       "1 -0.541085  \n",
       "2 -0.541085  \n",
       "3 -0.541085  \n",
       "4 -0.541085  "
      ]
     },
     "execution_count": 11,
     "metadata": {},
     "output_type": "execute_result"
    }
   ],
   "source": [
    "# separar base de prueba en data_test y label_test\n",
    "data_test=test.iloc[:,np.r_[2:17]]\n",
    "label_test2=test.iloc[:,17]\n",
    "data_test.head()"
   ]
  },
  {
   "cell_type": "markdown",
   "metadata": {},
   "source": [
    "## Ajuste avanzado modelos de clasificacion multiclase"
   ]
  },
  {
   "cell_type": "markdown",
   "metadata": {},
   "source": [
    "## Ajuste avanzado Logistic Regression"
   ]
  },
  {
   "cell_type": "markdown",
   "metadata": {},
   "source": [
    "#### Stratified k-fold cross-validation\n",
    "\n",
    "Evaluaremos el modelo utilizando validación cruzada estratificada repetida de k veces, con 10 pliegues y 3 repeticiones. Informaremos la desviación media y estándar de la precisión del modelo en todas las repeticiones y pliegues"
   ]
  },
  {
   "cell_type": "code",
   "execution_count": 14,
   "metadata": {},
   "outputs": [
    {
     "name": "stdout",
     "output_type": "stream",
     "text": [
      "f1_score: 0.548 (0.061)\n"
     ]
    }
   ],
   "source": [
    "# evaluar con parametros por defecto\n",
    "\n",
    "model = LogisticRegression()\n",
    "\n",
    "cv = RepeatedStratifiedKFold(n_splits=10, n_repeats=3, random_state=1)\n",
    "n_scores = cross_val_score(model, data_train, label_train2, scoring='f1_macro', cv=cv, n_jobs=-1, error_score='raise')\n",
    "# report performance\n",
    "print('f1_score: %.3f (%.3f)' % (mean(n_scores), std(n_scores)))"
   ]
  },
  {
   "cell_type": "markdown",
   "metadata": {},
   "source": [
    "### Ajuste de hiperparametros\n"
   ]
  },
  {
   "cell_type": "markdown",
   "metadata": {},
   "source": [
    "### Ajustar C"
   ]
  },
  {
   "cell_type": "code",
   "execution_count": 26,
   "metadata": {},
   "outputs": [],
   "source": [
    "def get_models():\n",
    "    models = dict()\n",
    "    for i in [ 0.01, 0.1, 1, 10, 100, 1000]:\n",
    "        models[str(i)] = LogisticRegression(C=i)\n",
    "    return models\n",
    "\n",
    "# evaluar usando cross-validation\n",
    "def evaluate_model(model):\n",
    "    cv = RepeatedStratifiedKFold(n_splits=10, n_repeats=3, random_state=0)\n",
    "    scores = cross_val_score(model, data_train, label_train2, scoring='f1_macro', cv=cv, n_jobs=-1, error_score='raise')\n",
    "    return scores\n"
   ]
  },
  {
   "cell_type": "code",
   "execution_count": 27,
   "metadata": {},
   "outputs": [
    {
     "name": "stdout",
     "output_type": "stream",
     "text": [
      ">0.01 0.360 (0.044)\n",
      ">0.1 0.490 (0.054)\n",
      ">1 0.541 (0.051)\n",
      ">10 0.572 (0.052)\n",
      ">100 0.581 (0.054)\n",
      ">1000 0.581 (0.053)\n"
     ]
    },
    {
     "data": {
      "image/png": "[encoded data removed]",
      "text/plain": [
       "<Figure size 432x288 with 1 Axes>"
      ]
     },
     "metadata": {
      "needs_background": "light"
     },
     "output_type": "display_data"
    }
   ],
   "source": [
    "# modelos a evaluar\n",
    "models = get_models()\n",
    "# evaluar modelos y guardar resultados\n",
    "results, names = list(), list()\n",
    "for name, model in models.items():\n",
    "    scores = evaluate_model(model)\n",
    "    results.append(scores)\n",
    "    names.append(name)\n",
    "    print('>%s %.3f (%.3f)' % (name, mean(scores), std(scores)))\n",
    "# graficar el desempeño del modelo para comparacion \n",
    "pyplot.boxplot(results, labels=names, showmeans=True)\n",
    "pyplot.show()"
   ]
  },
  {
   "cell_type": "markdown",
   "metadata": {},
   "source": [
    "El mayor valor de F1 para un valor de C entre 100 y 1000"
   ]
  },
  {
   "cell_type": "markdown",
   "metadata": {},
   "source": [
    "## Grid Search with Cross Validation"
   ]
  },
  {
   "cell_type": "code",
   "execution_count": 36,
   "metadata": {},
   "outputs": [
    {
     "name": "stdout",
     "output_type": "stream",
     "text": [
      "Fitting 2 folds for each of 6 candidates, totalling 12 fits\n"
     ]
    },
    {
     "name": "stderr",
     "output_type": "stream",
     "text": [
      "[Parallel(n_jobs=-1)]: Using backend LokyBackend with 12 concurrent workers.\n",
      "[Parallel(n_jobs=-1)]: Done   3 out of  12 | elapsed:  1.3min remaining:  3.9min\n",
      "[Parallel(n_jobs=-1)]: Done  10 out of  12 | elapsed:  3.0min remaining:   36.4s\n",
      "[Parallel(n_jobs=-1)]: Done  12 out of  12 | elapsed:  3.6min finished\n",
      "C:\\Users\\alexh\\Anaconda3\\lib\\site-packages\\sklearn\\linear_model\\logistic.py:432: FutureWarning: Default solver will be changed to 'lbfgs' in 0.22. Specify a solver to silence this warning.\n",
      "  FutureWarning)\n",
      "C:\\Users\\alexh\\Anaconda3\\lib\\site-packages\\sklearn\\linear_model\\logistic.py:469: FutureWarning: Default multi_class will be changed to 'auto' in 0.22. Specify the multi_class option to silence this warning.\n",
      "  \"this warning.\", FutureWarning)\n"
     ]
    },
    {
     "name": "stdout",
     "output_type": "stream",
     "text": [
      "Wall time: 4min 36s\n"
     ]
    },
    {
     "data": {
      "text/plain": [
       "GridSearchCV(cv=2, error_score='raise-deprecating',\n",
       "             estimator=LogisticRegression(C=1.0, class_weight=None, dual=False,\n",
       "                                          fit_intercept=True,\n",
       "                                          intercept_scaling=1, l1_ratio=None,\n",
       "                                          max_iter=100, multi_class='warn',\n",
       "                                          n_jobs=None, penalty='l2',\n",
       "                                          random_state=None, solver='warn',\n",
       "                                          tol=0.0001, verbose=0,\n",
       "                                          warm_start=False),\n",
       "             iid='warn', n_jobs=-1,\n",
       "             param_grid={'C': [50, 100, 200], 'penalty': ['l1', 'l2']},\n",
       "             pre_dispatch='2*n_jobs', refit=True, return_train_score=False,\n",
       "             scoring='f1_macro', verbose=2)"
      ]
     },
     "execution_count": 36,
     "metadata": {},
     "output_type": "execute_result"
    }
   ],
   "source": [
    "\n",
    "model = LogisticRegression()\n",
    "parameters= {'C': [ 50, 100, 200],\n",
    "            'penalty': ['l1', 'l2']                      \n",
    "            } \n",
    "\n",
    "grid = GridSearchCV(estimator = model, param_grid=parameters, cv=2, verbose=2, scoring='f1_macro', n_jobs = -1)\n",
    "\n",
    "%time grid.fit(data_train, label_train2)\n"
   ]
  },
  {
   "cell_type": "code",
   "execution_count": 37,
   "metadata": {},
   "outputs": [
    {
     "name": "stdout",
     "output_type": "stream",
     "text": [
      "{'C': 200, 'penalty': 'l1'}\n",
      "0.6088577642132935\n",
      "4\n"
     ]
    }
   ],
   "source": [
    "print(grid.best_params_)\n",
    "print(grid.best_score_)\n",
    "print(grid.best_index_)"
   ]
  },
  {
   "cell_type": "code",
   "execution_count": 38,
   "metadata": {},
   "outputs": [
    {
     "name": "stderr",
     "output_type": "stream",
     "text": [
      "C:\\Users\\alexh\\Anaconda3\\lib\\site-packages\\sklearn\\linear_model\\logistic.py:432: FutureWarning: Default solver will be changed to 'lbfgs' in 0.22. Specify a solver to silence this warning.\n",
      "  FutureWarning)\n",
      "C:\\Users\\alexh\\Anaconda3\\lib\\site-packages\\sklearn\\linear_model\\logistic.py:469: FutureWarning: Default multi_class will be changed to 'auto' in 0.22. Specify the multi_class option to silence this warning.\n",
      "  \"this warning.\", FutureWarning)\n"
     ]
    },
    {
     "data": {
      "text/plain": [
       "LogisticRegression(C=200, class_weight=None, dual=False, fit_intercept=True,\n",
       "                   intercept_scaling=1, l1_ratio=None, max_iter=100,\n",
       "                   multi_class='warn', n_jobs=None, penalty='l1',\n",
       "                   random_state=None, solver='warn', tol=0.0001, verbose=0,\n",
       "                   warm_start=False)"
      ]
     },
     "execution_count": 38,
     "metadata": {},
     "output_type": "execute_result"
    }
   ],
   "source": [
    "modelo1= grid.best_estimator_\n",
    "modelo1.fit(data_train, label_train2)"
   ]
  },
  {
   "cell_type": "code",
   "execution_count": 39,
   "metadata": {},
   "outputs": [],
   "source": [
    "label_pred1 = modelo1.predict(data_test)"
   ]
  },
  {
   "cell_type": "code",
   "execution_count": 40,
   "metadata": {},
   "outputs": [
    {
     "name": "stdout",
     "output_type": "stream",
     "text": [
      "\n",
      "\n",
      "MATRIZ DE CONFUSION\n",
      "\n",
      "\n"
     ]
    },
    {
     "data": {
      "image/png": "[encoded data removed]",
      "text/plain": [
       "<Figure size 432x288 with 1 Axes>"
      ]
     },
     "metadata": {
      "needs_background": "light"
     },
     "output_type": "display_data"
    },
    {
     "name": "stdout",
     "output_type": "stream",
     "text": [
      "\n",
      "\n",
      "MEDIDAS DE DESEMPEÑO DEL MODELO\n",
      "\n",
      "\n",
      "Exactitud - Accuracy: 0.999299618162198\n",
      "------------------------------------------------------------\n",
      "Precisión por clase: [0.99947055 0.45833333 0.64705882 0.76470588 0.84615385]\n",
      "Sensibilidad - Recall por clase: [0.99988056 0.28947368 0.35483871 0.46428571 0.42307692]\n",
      "F1 por clase: [0.99967551 0.35483871 0.45833333 0.57777778 0.56410256]\n",
      "------------------------------------------------------------\n",
      "F1 Macro: 0.5909455795032498\n",
      "F1 Micro: 0.999299618162198\n",
      "F1 Weighted: 0.9991954660184942\n",
      "------------------------------------------------------------\n",
      "Sensibilidad - Recall Macro: 0.5063111190806423\n",
      "Sensibilidad - Recall Micro: 0.999299618162198\n",
      "Sensibilidad - Recall Weighted: 0.999299618162198\n",
      "------------------------------------------------------------\n",
      "Precisión Macro: 0.7431444861104545\n",
      "Precisión Micro: 0.999299618162198\n",
      "Precisión Weighted: 0.9991750430883307\n",
      "------------------------------------------------------------\n",
      "              precision    recall  f1-score   support\n",
      "\n",
      "           0       1.00      1.00      1.00    192572\n",
      "           1       0.46      0.29      0.35        38\n",
      "           2       0.65      0.35      0.46        62\n",
      "           3       0.76      0.46      0.58        28\n",
      "           4       0.85      0.42      0.56        52\n",
      "\n",
      "    accuracy                           1.00    192752\n",
      "   macro avg       0.74      0.51      0.59    192752\n",
      "weighted avg       1.00      1.00      1.00    192752\n",
      "\n"
     ]
    }
   ],
   "source": [
    "# metricas de desempeño\n",
    "model_evaluation_multi(data_train, label_train2, data_test, label_test2, modelo1, label_pred1)"
   ]
  },
  {
   "cell_type": "markdown",
   "metadata": {},
   "source": [
    "Se obtiene un F1 macro de 59%"
   ]
  },
  {
   "cell_type": "markdown",
   "metadata": {},
   "source": [
    "## Regresión logística ponderada \n",
    "\n",
    "Clasificacion binaria con base desequilibrada y ponderacion de pesos\n"
   ]
  },
  {
   "cell_type": "markdown",
   "metadata": {},
   "source": [
    "## Grid Search Weighted Logistic Regression, con validacion cruzada estratificada"
   ]
  },
  {
   "cell_type": "code",
   "execution_count": 42,
   "metadata": {},
   "outputs": [
    {
     "name": "stdout",
     "output_type": "stream",
     "text": [
      "Fitting 3 folds for each of 3 candidates, totalling 9 fits\n"
     ]
    },
    {
     "name": "stderr",
     "output_type": "stream",
     "text": [
      "[Parallel(n_jobs=-1)]: Using backend LokyBackend with 12 concurrent workers.\n",
      "[Parallel(n_jobs=-1)]: Done   6 out of   9 | elapsed:  2.7min remaining:  1.3min\n",
      "[Parallel(n_jobs=-1)]: Done   9 out of   9 | elapsed:  3.1min finished\n"
     ]
    }
   ],
   "source": [
    "# definir el modelo\n",
    "model = LogisticRegression(multi_class='multinomial', solver='newton-cg', max_iter=200)\n",
    "# definir cuadricula\n",
    "balance = [{0:1, 1:10, 2:10, 3:10, 4:10}, {0:1, 1:100, 2:100, 3:100, 4:100}, {0:1, 1:1, 2:1, 3:1, 4:1}]\n",
    "param_grid = dict(class_weight=balance)\n",
    "\n",
    "# definir procedimiento de evaluacion \n",
    "cv = RepeatedStratifiedKFold(n_splits=10, n_repeats=3, random_state=1)\n",
    "\n",
    "# grid search\n",
    "grid = GridSearchCV(estimator=model, param_grid=param_grid, n_jobs=-1, cv=3, scoring='f1_macro', verbose=2)\n",
    "\n",
    "# ejecutar grid search\n",
    "grid_result = grid.fit(data_train, label_train2)\n"
   ]
  },
  {
   "cell_type": "code",
   "execution_count": 43,
   "metadata": {},
   "outputs": [
    {
     "name": "stdout",
     "output_type": "stream",
     "text": [
      "mejor: 0.735629 usando {'class_weight': {0: 1, 1: 1, 2: 1, 3: 1, 4: 1}}\n",
      "0.695326 (0.021005) with: {'class_weight': {0: 1, 1: 10, 2: 10, 3: 10, 4: 10}}\n",
      "0.601065 (0.029355) with: {'class_weight': {0: 1, 1: 100, 2: 100, 3: 100, 4: 100}}\n",
      "0.735629 (0.007279) with: {'class_weight': {0: 1, 1: 1, 2: 1, 3: 1, 4: 1}}\n"
     ]
    }
   ],
   "source": [
    "# reportar la mejor configuracion\n",
    "print('mejor: %f usando %s' % (grid_result.best_score_, grid_result.best_params_))\n",
    "# reportar las mejores configuraciones\n",
    "means = grid_result.cv_results_['mean_test_score']\n",
    "stds = grid_result.cv_results_['std_test_score']\n",
    "params = grid_result.cv_results_['params']\n",
    "for mean, stdev, param in zip(means, stds, params):\n",
    "    print('%f (%f) with: %r' % (mean, stdev, param))"
   ]
  },
  {
   "cell_type": "code",
   "execution_count": 16,
   "metadata": {},
   "outputs": [],
   "source": [
    "# se asigna un peso de 10 a las clases minoritarias\n",
    "weights = {0:1, 1:10, 2:10, 3:10, 4:10}"
   ]
  },
  {
   "cell_type": "code",
   "execution_count": 17,
   "metadata": {},
   "outputs": [
    {
     "data": {
      "text/plain": [
       "LogisticRegression(C=1.0, class_weight={0: 1, 1: 10, 2: 10, 3: 10, 4: 10},\n",
       "                   dual=False, fit_intercept=True, intercept_scaling=1,\n",
       "                   l1_ratio=None, max_iter=200, multi_class='multinomial',\n",
       "                   n_jobs=None, penalty='l2', random_state=None,\n",
       "                   solver='newton-cg', tol=0.0001, verbose=0, warm_start=False)"
      ]
     },
     "execution_count": 17,
     "metadata": {},
     "output_type": "execute_result"
    }
   ],
   "source": [
    "modelom6 = LogisticRegression(multi_class='multinomial', solver='newton-cg', max_iter=200, class_weight=weights)\n",
    "modelom6.fit(data_train, label_train2)"
   ]
  },
  {
   "cell_type": "code",
   "execution_count": 18,
   "metadata": {},
   "outputs": [],
   "source": [
    "label_predm6 = modelom6.predict(data_test)"
   ]
  },
  {
   "cell_type": "code",
   "execution_count": 19,
   "metadata": {},
   "outputs": [
    {
     "name": "stdout",
     "output_type": "stream",
     "text": [
      "\n",
      "\n",
      "MATRIZ DE CONFUSION\n",
      "\n",
      "\n"
     ]
    },
    {
     "data": {
      "image/png": "[encoded data removed]",
      "text/plain": [
       "<Figure size 432x288 with 1 Axes>"
      ]
     },
     "metadata": {
      "needs_background": "light"
     },
     "output_type": "display_data"
    },
    {
     "name": "stdout",
     "output_type": "stream",
     "text": [
      "\n",
      "\n",
      "MEDIDAS DE DESEMPEÑO DEL MODELO\n",
      "\n",
      "\n",
      "Exactitud - Accuracy: 0.9990142774134639\n",
      "------------------------------------------------------------\n",
      "Precisión por clase: [0.99994283 0.28703704 0.44537815 0.72222222 0.64383562]\n",
      "Sensibilidad - Recall por clase: [0.99913279 0.81578947 0.85483871 0.92857143 0.90384615]\n",
      "F1 por clase: [0.99953765 0.42465753 0.58563536 0.8125     0.752     ]\n",
      "------------------------------------------------------------\n",
      "F1 Macro: 0.7148661082578572\n",
      "F1 Micro: 0.9990142774134639\n",
      "F1 Weighted: 0.9991972291602932\n",
      "------------------------------------------------------------\n",
      "Sensibilidad - Recall Macro: 0.9004357115340076\n",
      "Sensibilidad - Recall Micro: 0.9990142774134639\n",
      "Sensibilidad - Recall Weighted: 0.9990142774134639\n",
      "------------------------------------------------------------\n",
      "Precisión Macro: 0.6196831718310053\n",
      "Precisión Micro: 0.9990142774134639\n",
      "Precisión Weighted: 0.9994874948580834\n",
      "------------------------------------------------------------\n",
      "              precision    recall  f1-score   support\n",
      "\n",
      "           0       1.00      1.00      1.00    192572\n",
      "           1       0.29      0.82      0.42        38\n",
      "           2       0.45      0.85      0.59        62\n",
      "           3       0.72      0.93      0.81        28\n",
      "           4       0.64      0.90      0.75        52\n",
      "\n",
      "    accuracy                           1.00    192752\n",
      "   macro avg       0.62      0.90      0.71    192752\n",
      "weighted avg       1.00      1.00      1.00    192752\n",
      "\n"
     ]
    }
   ],
   "source": [
    "# metricas de desempeño\n",
    "model_evaluation_multi(data_train, label_train2, data_test, label_test2, modelom6, label_predm6)"
   ]
  },
  {
   "cell_type": "markdown",
   "metadata": {},
   "source": [
    "Con la asignacion de peso se evidencia una disminucion del numero de falsos negativos mejorando el recall macro en 20 puntos porcentuales"
   ]
  },
  {
   "cell_type": "code",
   "execution_count": 62,
   "metadata": {},
   "outputs": [],
   "source": [
    "# se asigna un peso de 2 a las clases minoritarias\n",
    "weights = {0:1, 1:2, 2:2, 3:2, 4:2}"
   ]
  },
  {
   "cell_type": "code",
   "execution_count": 63,
   "metadata": {},
   "outputs": [
    {
     "data": {
      "text/plain": [
       "LogisticRegression(C=100, class_weight={0: 1, 1: 2, 2: 2, 3: 2, 4: 2},\n",
       "                   dual=False, fit_intercept=True, intercept_scaling=1,\n",
       "                   l1_ratio=None, max_iter=200, multi_class='multinomial',\n",
       "                   n_jobs=None, penalty='l2', random_state=None,\n",
       "                   solver='newton-cg', tol=0.0001, verbose=0, warm_start=False)"
      ]
     },
     "execution_count": 63,
     "metadata": {},
     "output_type": "execute_result"
    }
   ],
   "source": [
    "modelom6 = LogisticRegression(multi_class='multinomial', solver='newton-cg', max_iter=200, class_weight=weights, C=100)\n",
    "modelom6.fit(data_train, label_train2)"
   ]
  },
  {
   "cell_type": "code",
   "execution_count": 64,
   "metadata": {},
   "outputs": [],
   "source": [
    "label_predm6 = modelom6.predict(data_test)"
   ]
  },
  {
   "cell_type": "code",
   "execution_count": 65,
   "metadata": {},
   "outputs": [
    {
     "name": "stdout",
     "output_type": "stream",
     "text": [
      "\n",
      "\n",
      "MATRIZ DE CONFUSION\n",
      "\n",
      "\n"
     ]
    },
    {
     "data": {
      "image/png": "[encoded data removed]",
      "text/plain": [
       "<Figure size 432x288 with 1 Axes>"
      ]
     },
     "metadata": {
      "needs_background": "light"
     },
     "output_type": "display_data"
    },
    {
     "name": "stdout",
     "output_type": "stream",
     "text": [
      "\n",
      "\n",
      "MEDIDAS DE DESEMPEÑO DEL MODELO\n",
      "\n",
      "\n",
      "Exactitud - Accuracy: 0.9994760106250519\n",
      "------------------------------------------------------------\n",
      "Precisión por clase: [0.99977151 0.48837209 0.68965517 0.80645161 0.78431373]\n",
      "Sensibilidad - Recall por clase: [0.99975594 0.55263158 0.64516129 0.89285714 0.76923077]\n",
      "F1 por clase: [0.99976372 0.51851852 0.66666667 0.84745763 0.77669903]\n",
      "------------------------------------------------------------\n",
      "F1 Macro: 0.7618211128652665\n",
      "F1 Micro: 0.9994760106250519\n",
      "F1 Weighted: 0.99947940278542\n",
      "------------------------------------------------------------\n",
      "Sensibilidad - Recall Macro: 0.7719273433600378\n",
      "Sensibilidad - Recall Micro: 0.9994760106250519\n",
      "Sensibilidad - Recall Weighted: 0.9994760106250519\n",
      "------------------------------------------------------------\n",
      "Precisión Macro: 0.7537128228604084\n",
      "Precisión Micro: 0.9994760106250519\n",
      "Precisión Weighted: 0.9994847318504748\n",
      "------------------------------------------------------------\n",
      "              precision    recall  f1-score   support\n",
      "\n",
      "           0       1.00      1.00      1.00    192572\n",
      "           1       0.49      0.55      0.52        38\n",
      "           2       0.69      0.65      0.67        62\n",
      "           3       0.81      0.89      0.85        28\n",
      "           4       0.78      0.77      0.78        52\n",
      "\n",
      "    accuracy                           1.00    192752\n",
      "   macro avg       0.75      0.77      0.76    192752\n",
      "weighted avg       1.00      1.00      1.00    192752\n",
      "\n"
     ]
    }
   ],
   "source": [
    "# metricas de desempeño\n",
    "model_evaluation_multi(data_train, label_train2, data_test, label_test2, modelom6, label_predm6)"
   ]
  },
  {
   "cell_type": "markdown",
   "metadata": {},
   "source": [
    "Con la asignacion de peso y ajuste de hiperprametros se evidencia una mejora del F1 score y recall macro"
   ]
  },
  {
   "cell_type": "markdown",
   "metadata": {},
   "source": [
    "## Ajuste avanzado Bagging Classifier"
   ]
  },
  {
   "cell_type": "markdown",
   "metadata": {},
   "source": [
    "### Ajuste de hiperparametros\n",
    "tomado de https://machinelearningmastery.com/bagging-ensemble-with-python/"
   ]
  },
  {
   "cell_type": "markdown",
   "metadata": {},
   "source": [
    "### Explorar el numero de arboles "
   ]
  },
  {
   "cell_type": "code",
   "execution_count": 14,
   "metadata": {},
   "outputs": [],
   "source": [
    "# funcion para evaluar lista de modelos\n",
    "def get_models():\n",
    "    models = dict()\n",
    "    models['10'] = BaggingClassifier(n_estimators=10)\n",
    "    models['50'] = BaggingClassifier(n_estimators=50)\n",
    "    models['100'] = BaggingClassifier(n_estimators=100)\n",
    "    models['500'] = BaggingClassifier(n_estimators=500)\n",
    "    return models\n",
    "\n",
    "# funcion para evaluar modelo usando CV\n",
    "def evaluate_model(model):\n",
    "    cv = RepeatedStratifiedKFold(n_splits=3, n_repeats=3, random_state=0)\n",
    "    scores = cross_val_score(model, data_train, label_train2, scoring='f1_macro', cv=cv, n_jobs=-1, error_score='raise')\n",
    "    return scores"
   ]
  },
  {
   "cell_type": "code",
   "execution_count": 15,
   "metadata": {},
   "outputs": [
    {
     "name": "stdout",
     "output_type": "stream",
     "text": [
      ">10 0.671 (0.033)\n",
      ">50 0.688 (0.016)\n",
      ">100 0.691 (0.023)\n",
      ">500 0.694 (0.022)\n"
     ]
    },
    {
     "data": {
      "image/png": "[encoded data removed]",
      "text/plain": [
       "<Figure size 432x288 with 1 Axes>"
      ]
     },
     "metadata": {
      "needs_background": "light"
     },
     "output_type": "display_data"
    }
   ],
   "source": [
    "# modelos a evaluar\n",
    "models = get_models()\n",
    "# evaluar modelos y guardar resultados\n",
    "results, names = list(), list()\n",
    "for name, model in models.items():\n",
    "    scores = evaluate_model(model)\n",
    "    results.append(scores)\n",
    "    names.append(name)\n",
    "    print('>%s %.3f (%.3f)' % (name, mean(scores), std(scores)))\n",
    "# graficar el desempeño del modelo para comparacion \n",
    "pyplot.boxplot(results, labels=names, showmeans=True)\n",
    "pyplot.show()"
   ]
  },
  {
   "cell_type": "markdown",
   "metadata": {},
   "source": [
    "se observa que el F1 aumenta y se mantiene estable después de unos 100 árboles\n"
   ]
  },
  {
   "cell_type": "markdown",
   "metadata": {},
   "source": [
    "### Ajustar el numero de muestras (max_samples)"
   ]
  },
  {
   "cell_type": "code",
   "execution_count": 20,
   "metadata": {},
   "outputs": [],
   "source": [
    "def get_models():\n",
    "    models = dict()\n",
    "    for i in arange(0.1, 1.1, 0.2):\n",
    "        key = '%.1f' % i\n",
    "        models[key] = BaggingClassifier(max_samples=i)\n",
    "    return models\n",
    " \n",
    "# evaluar usando cross-validation\n",
    "def evaluate_model(model):\n",
    "    cv = RepeatedStratifiedKFold(n_splits=3, n_repeats=3, random_state=0)\n",
    "    scores = cross_val_score(model, data_train, label_train2, scoring='f1_macro', cv=cv, n_jobs=-1, error_score='raise')\n",
    "    return scores\n",
    " \n"
   ]
  },
  {
   "cell_type": "code",
   "execution_count": 21,
   "metadata": {},
   "outputs": [
    {
     "name": "stdout",
     "output_type": "stream",
     "text": [
      ">0.1 0.653 (0.015)\n",
      ">0.3 0.668 (0.025)\n",
      ">0.5 0.684 (0.038)\n",
      ">0.7 0.671 (0.028)\n",
      ">0.9 0.665 (0.028)\n"
     ]
    },
    {
     "data": {
      "image/png": "[encoded data removed]",
      "text/plain": [
       "<Figure size 432x288 with 1 Axes>"
      ]
     },
     "metadata": {
      "needs_background": "light"
     },
     "output_type": "display_data"
    }
   ],
   "source": [
    "# modelos a evaluar\n",
    "models = get_models()\n",
    "# evaluar modelos y guardar resultados\n",
    "results, names = list(), list()\n",
    "for name, model in models.items():\n",
    "    scores = evaluate_model(model)\n",
    "    results.append(scores)\n",
    "    names.append(name)\n",
    "    print('>%s %.3f (%.3f)' % (name, mean(scores), std(scores)))\n",
    "# grafico de cajas y bigotes \n",
    "pyplot.boxplot(results, labels=names, showmeans=True)\n",
    "pyplot.show()"
   ]
  },
  {
   "cell_type": "markdown",
   "metadata": {},
   "source": [
    "Los resultados sugieren que se selecciones el numero de muestras en 0.5"
   ]
  },
  {
   "cell_type": "markdown",
   "metadata": {},
   "source": [
    "## Entrenar modelo con hiperparametros ajustados "
   ]
  },
  {
   "cell_type": "code",
   "execution_count": 22,
   "metadata": {},
   "outputs": [
    {
     "data": {
      "text/plain": [
       "BaggingClassifier(base_estimator=None, bootstrap=True, bootstrap_features=False,\n",
       "                  max_features=1.0, max_samples=0.5, n_estimators=100,\n",
       "                  n_jobs=None, oob_score=False, random_state=0, verbose=0,\n",
       "                  warm_start=False)"
      ]
     },
     "execution_count": 22,
     "metadata": {},
     "output_type": "execute_result"
    }
   ],
   "source": [
    "modelo2b=BaggingClassifier(n_estimators=100, max_samples=0.5, random_state=0)\n",
    "modelo2b.fit(data_train, label_train2)"
   ]
  },
  {
   "cell_type": "code",
   "execution_count": 23,
   "metadata": {},
   "outputs": [
    {
     "name": "stdout",
     "output_type": "stream",
     "text": [
      "\n",
      "\n",
      "MATRIZ DE CONFUSION\n",
      "\n",
      "\n"
     ]
    },
    {
     "data": {
      "image/png": "[encoded data removed]",
      "text/plain": [
       "<Figure size 432x288 with 1 Axes>"
      ]
     },
     "metadata": {
      "needs_background": "light"
     },
     "output_type": "display_data"
    },
    {
     "name": "stdout",
     "output_type": "stream",
     "text": [
      "\n",
      "\n",
      "MEDIDAS DE DESEMPEÑO DEL MODELO\n",
      "\n",
      "\n",
      "Exactitud - Accuracy: 0.9994396945297584\n",
      "------------------------------------------------------------\n",
      "Precisión por clase: [0.99962101 0.46666667 0.72916667 0.7826087  0.97058824]\n",
      "Sensibilidad - Recall por clase: [0.9998546  0.36842105 0.56451613 0.64285714 0.63461538]\n",
      "F1 por clase: [0.99973779 0.41176471 0.63636364 0.70588235 0.76744186]\n",
      "------------------------------------------------------------\n",
      "F1 Macro: 0.7042380693421395\n",
      "F1 Micro: 0.9994396945297584\n",
      "F1 Weighted: 0.9993996388447633\n",
      "------------------------------------------------------------\n",
      "Sensibilidad - Recall Macro: 0.6420528617948694\n",
      "Sensibilidad - Recall Micro: 0.9994396945297584\n",
      "Sensibilidad - Recall Weighted: 0.9994396945297584\n",
      "------------------------------------------------------------\n",
      "Precisión Macro: 0.789730254769567\n",
      "Precisión Micro: 0.9994396945297584\n",
      "Precisión Weighted: 0.9993895905253886\n",
      "------------------------------------------------------------\n",
      "              precision    recall  f1-score   support\n",
      "\n",
      "           0       1.00      1.00      1.00    192572\n",
      "           1       0.47      0.37      0.41        38\n",
      "           2       0.73      0.56      0.64        62\n",
      "           3       0.78      0.64      0.71        28\n",
      "           4       0.97      0.63      0.77        52\n",
      "\n",
      "    accuracy                           1.00    192752\n",
      "   macro avg       0.79      0.64      0.70    192752\n",
      "weighted avg       1.00      1.00      1.00    192752\n",
      "\n"
     ]
    }
   ],
   "source": [
    "label_pred2b = modelo2b.predict(data_test)\n",
    "# métricas de desempeño - evaluación del modelo\n",
    "model_evaluation_multi(data_train, label_train2, data_test, label_test2, modelo2b, label_pred2b)"
   ]
  },
  {
   "cell_type": "markdown",
   "metadata": {},
   "source": [
    "Obtenemos una mejora en el F1 macro de 3 puntos porcentuales en relacion con el modelo ajustado con hiperparametros por defecto"
   ]
  },
  {
   "cell_type": "markdown",
   "metadata": {},
   "source": [
    "## Extra Trees Classifier hiperparametros por defecto"
   ]
  },
  {
   "cell_type": "code",
   "execution_count": 26,
   "metadata": {},
   "outputs": [
    {
     "name": "stderr",
     "output_type": "stream",
     "text": [
      "C:\\Users\\alexh\\Anaconda3\\lib\\site-packages\\sklearn\\ensemble\\forest.py:245: FutureWarning: The default value of n_estimators will change from 10 in version 0.20 to 100 in 0.22.\n",
      "  \"10 in version 0.20 to 100 in 0.22.\", FutureWarning)\n"
     ]
    },
    {
     "data": {
      "text/plain": [
       "ExtraTreesClassifier(bootstrap=False, class_weight=None, criterion='gini',\n",
       "                     max_depth=None, max_features='auto', max_leaf_nodes=None,\n",
       "                     min_impurity_decrease=0.0, min_impurity_split=None,\n",
       "                     min_samples_leaf=1, min_samples_split=2,\n",
       "                     min_weight_fraction_leaf=0.0, n_estimators=10, n_jobs=None,\n",
       "                     oob_score=False, random_state=None, verbose=0,\n",
       "                     warm_start=False)"
      ]
     },
     "execution_count": 26,
     "metadata": {},
     "output_type": "execute_result"
    }
   ],
   "source": [
    "modelo1e=ExtraTreesClassifier()\n",
    "modelo1e.fit(data_train, label_train2)"
   ]
  },
  {
   "cell_type": "code",
   "execution_count": 27,
   "metadata": {},
   "outputs": [
    {
     "name": "stdout",
     "output_type": "stream",
     "text": [
      "\n",
      "\n",
      "MATRIZ DE CONFUSION\n",
      "\n",
      "\n"
     ]
    },
    {
     "data": {
      "image/png": "[encoded data removed]",
      "text/plain": [
       "<Figure size 432x288 with 1 Axes>"
      ]
     },
     "metadata": {
      "needs_background": "light"
     },
     "output_type": "display_data"
    },
    {
     "name": "stdout",
     "output_type": "stream",
     "text": [
      "\n",
      "\n",
      "MEDIDAS DE DESEMPEÑO DEL MODELO\n",
      "\n",
      "\n",
      "Exactitud - Accuracy: 0.9993774383663983\n",
      "------------------------------------------------------------\n",
      "Precisión por clase: [0.999538   0.35       0.68571429 0.83333333 0.90625   ]\n",
      "Sensibilidad - Recall por clase: [0.99989614 0.18421053 0.38709677 0.71428571 0.55769231]\n",
      "F1 por clase: [0.99971704 0.24137931 0.49484536 0.76923077 0.69047619]\n",
      "------------------------------------------------------------\n",
      "F1 Macro: 0.63912973410806\n",
      "F1 Micro: 0.9993774383663983\n",
      "F1 Weighted: 0.9992882346836303\n",
      "------------------------------------------------------------\n",
      "Sensibilidad - Recall Macro: 0.5686362930457551\n",
      "Sensibilidad - Recall Micro: 0.9993774383663983\n",
      "Sensibilidad - Recall Weighted: 0.9993774383663983\n",
      "------------------------------------------------------------\n",
      "Precisión Macro: 0.7549671239569483\n",
      "Precisión Micro: 0.9993774383663983\n",
      "Precisión Weighted: 0.9992596937878556\n",
      "------------------------------------------------------------\n",
      "              precision    recall  f1-score   support\n",
      "\n",
      "           0       1.00      1.00      1.00    192572\n",
      "           1       0.35      0.18      0.24        38\n",
      "           2       0.69      0.39      0.49        62\n",
      "           3       0.83      0.71      0.77        28\n",
      "           4       0.91      0.56      0.69        52\n",
      "\n",
      "    accuracy                           1.00    192752\n",
      "   macro avg       0.75      0.57      0.64    192752\n",
      "weighted avg       1.00      1.00      1.00    192752\n",
      "\n"
     ]
    }
   ],
   "source": [
    "label_pred1e = modelo1e.predict(data_test)\n",
    "# metricas de desempeño:\n",
    "model_evaluation_multi(data_train, label_train2, data_test, label_test2, modelo1e, label_pred1e)"
   ]
  },
  {
   "cell_type": "markdown",
   "metadata": {},
   "source": [
    "## Stratified k-fold cross-validation\n",
    "\n",
    "Evaluaremos el modelo utilizando validación cruzada estratificada repetida de k veces, con 10 repeticiones y 20 pliegues. Informaremos la desviación media y estándar de la precisión del modelo en todas las repeticiones y pliegues"
   ]
  },
  {
   "cell_type": "code",
   "execution_count": 21,
   "metadata": {},
   "outputs": [
    {
     "name": "stdout",
     "output_type": "stream",
     "text": [
      "Accuracy: 0.976 (0.004)\n"
     ]
    }
   ],
   "source": [
    "# evaluar extra trees algorithm para la clasifiacion binaria\n",
    "\n",
    "model = ExtraTreesClassifier()\n",
    "\n",
    "cv = RepeatedStratifiedKFold(n_splits=3, n_repeats=3, random_state=1)\n",
    "n_scores = cross_val_score(model, data_train, label_train, scoring='accuracy', cv=cv, n_jobs=-1, error_score='raise')\n",
    "# report performance\n",
    "print('Accuracy: %.3f (%.3f)' % (mean(n_scores), std(n_scores)))"
   ]
  },
  {
   "cell_type": "markdown",
   "metadata": {},
   "source": [
    "El resultado es una exactitud media de 0.976 con una desviacion estandar de 0.004"
   ]
  },
  {
   "cell_type": "markdown",
   "metadata": {},
   "source": [
    "## Ajuste de hiperparametros\n",
    "tomado de:\n",
    "https://machinelearningmastery.com/extra-trees-ensemble-with-python/"
   ]
  },
  {
   "cell_type": "markdown",
   "metadata": {},
   "source": [
    "### Explorar el numero de arboles"
   ]
  },
  {
   "cell_type": "code",
   "execution_count": 31,
   "metadata": {},
   "outputs": [],
   "source": [
    "# funcion para evaluar lista de modelos\n",
    "def get_models():\n",
    "    models = dict()\n",
    "    models['10'] = ExtraTreesClassifier(n_estimators=10)\n",
    "    models['50'] = ExtraTreesClassifier(n_estimators=50)\n",
    "    models['100'] = ExtraTreesClassifier(n_estimators=100)\n",
    "    models['500'] = ExtraTreesClassifier(n_estimators=500)\n",
    "    return models\n",
    "\n",
    "# funcion para evaluar modelo usando CV\n",
    "def evaluate_model(model):\n",
    "    cv = RepeatedStratifiedKFold(n_splits=3, n_repeats=3, random_state=1)\n",
    "    scores = cross_val_score(model, data_train, label_train2, scoring='f1_macro', cv=cv, n_jobs=-1, error_score='raise')\n",
    "    return scores"
   ]
  },
  {
   "cell_type": "code",
   "execution_count": 32,
   "metadata": {},
   "outputs": [
    {
     "name": "stdout",
     "output_type": "stream",
     "text": [
      ">10 0.612 (0.032)\n",
      ">50 0.644 (0.026)\n",
      ">100 0.646 (0.029)\n",
      ">500 0.648 (0.027)\n"
     ]
    },
    {
     "data": {
      "image/png": "[encoded data removed]",
      "text/plain": [
       "<Figure size 432x288 with 1 Axes>"
      ]
     },
     "metadata": {
      "needs_background": "light"
     },
     "output_type": "display_data"
    }
   ],
   "source": [
    "# modelos a evaluar\n",
    "models = get_models()\n",
    "# evaluar modelos y guardar resultados\n",
    "results, names = list(), list()\n",
    "for name, model in models.items():\n",
    "    scores = evaluate_model(model)\n",
    "    results.append(scores)\n",
    "    names.append(name)\n",
    "    print('>%s %.3f (%.3f)' % (name, mean(scores), std(scores)))\n",
    "# graficar el desempeño del modelo para comparacion \n",
    "pyplot.boxplot(results, labels=names, showmeans=True)\n",
    "pyplot.show()"
   ]
  },
  {
   "cell_type": "markdown",
   "metadata": {},
   "source": [
    "se observa que el f1 mejora con 500 arboles\n"
   ]
  },
  {
   "cell_type": "markdown",
   "metadata": {},
   "source": [
    "### Ajustar el Number of Features (max_features)"
   ]
  },
  {
   "cell_type": "code",
   "execution_count": 39,
   "metadata": {},
   "outputs": [
    {
     "name": "stdout",
     "output_type": "stream",
     "text": [
      ">1 0.540 (0.026)\n",
      ">2 0.588 (0.037)\n",
      ">3 0.609 (0.026)\n",
      ">4 0.612 (0.018)\n",
      ">5 0.643 (0.028)\n",
      ">6 0.660 (0.028)\n",
      ">7 0.661 (0.028)\n",
      ">8 0.675 (0.022)\n",
      ">9 0.666 (0.017)\n",
      ">10 0.677 (0.023)\n",
      ">11 0.676 (0.017)\n"
     ]
    },
    {
     "data": {
      "image/png": "[encoded data removed]",
      "text/plain": [
       "<Figure size 432x288 with 1 Axes>"
      ]
     },
     "metadata": {
      "needs_background": "light"
     },
     "output_type": "display_data"
    }
   ],
   "source": [
    "# lista de modelos a evaluar \n",
    "def get_models():\n",
    "    models = dict()\n",
    "    for i in range(1, 12):\n",
    "        models[str(i)] = ExtraTreesClassifier(max_features=i)\n",
    "    return models\n",
    "\n",
    "# funcion para evaluar modelo usando CV\n",
    "def evaluate_model(model):\n",
    "    cv = RepeatedStratifiedKFold(n_splits=3, n_repeats=3, random_state=1)\n",
    "    scores = cross_val_score(model, data_train, label_train2, scoring='f1_macro', cv=cv, n_jobs=-1, error_score='raise')\n",
    "    return scores\n",
    "\n",
    "# modelos a evaluar\n",
    "models = get_models()\n",
    "# evaluar modelos y guardar resultados\n",
    "results, names = list(), list()\n",
    "for name, model in models.items():\n",
    "    scores = evaluate_model(model)\n",
    "    results.append(scores)\n",
    "    names.append(name)\n",
    "    print('>%s %.3f (%.3f)' % (name, mean(scores), std(scores)))\n",
    "# graficar el desempeño del modelo para comparacion \n",
    "pyplot.boxplot(results, labels=names, showmeans=True)\n",
    "pyplot.show()"
   ]
  },
  {
   "cell_type": "markdown",
   "metadata": {},
   "source": [
    "los resultados sugieren que un valor entre 8 y 11 sería apropiado"
   ]
  },
  {
   "cell_type": "markdown",
   "metadata": {},
   "source": [
    "### Ajuste de Minimum Samples per Split"
   ]
  },
  {
   "cell_type": "code",
   "execution_count": 40,
   "metadata": {},
   "outputs": [
    {
     "name": "stdout",
     "output_type": "stream",
     "text": [
      ">2 0.601 (0.032)\n",
      ">3 0.605 (0.030)\n",
      ">4 0.617 (0.015)\n",
      ">5 0.632 (0.032)\n",
      ">6 0.622 (0.030)\n",
      ">7 0.623 (0.027)\n",
      ">8 0.631 (0.027)\n",
      ">9 0.619 (0.026)\n",
      ">10 0.616 (0.034)\n",
      ">11 0.611 (0.035)\n",
      ">12 0.614 (0.030)\n",
      ">13 0.587 (0.024)\n",
      ">14 0.599 (0.031)\n"
     ]
    },
    {
     "data": {
      "image/png": "[encoded data removed]",
      "text/plain": [
       "<Figure size 432x288 with 1 Axes>"
      ]
     },
     "metadata": {
      "needs_background": "light"
     },
     "output_type": "display_data"
    }
   ],
   "source": [
    "# evaluar entre 2 (default) y 14 muestras\n",
    "def get_models():\n",
    "    models = dict()\n",
    "    for i in range(2, 15):\n",
    "        models[str(i)] = ExtraTreesClassifier(min_samples_split=i)\n",
    "    return models\n",
    "\n",
    "# funcion para evaluar modelo usando CV\n",
    "def evaluate_model(model):\n",
    "    cv = RepeatedStratifiedKFold(n_splits=3, n_repeats=3, random_state=1)\n",
    "    scores = cross_val_score(model, data_train, label_train2, scoring='f1_macro', cv=cv, n_jobs=-1, error_score='raise')\n",
    "    return scores\n",
    "\n",
    "models = get_models()\n",
    "# evaluar modelos y guardar resultados\n",
    "results, names = list(), list()\n",
    "for name, model in models.items():\n",
    "    scores = evaluate_model(model)\n",
    "    results.append(scores)\n",
    "    names.append(name)\n",
    "    print('>%s %.3f (%.3f)' % (name, mean(scores), std(scores)))\n",
    "# graficar el desempeño del modelo para comparacion \n",
    "pyplot.boxplot(results, labels=names, showmeans=True)\n",
    "pyplot.show()\n"
   ]
  },
  {
   "cell_type": "markdown",
   "metadata": {},
   "source": [
    "el valor con mejor F1 y menor varianza es 8"
   ]
  },
  {
   "cell_type": "markdown",
   "metadata": {},
   "source": [
    "## Entrenar modelo con hiperparametros ajustados "
   ]
  },
  {
   "cell_type": "code",
   "execution_count": 41,
   "metadata": {},
   "outputs": [
    {
     "data": {
      "text/plain": [
       "ExtraTreesClassifier(bootstrap=False, class_weight=None, criterion='gini',\n",
       "                     max_depth=None, max_features='auto', max_leaf_nodes=None,\n",
       "                     min_impurity_decrease=0.0, min_impurity_split=None,\n",
       "                     min_samples_leaf=1, min_samples_split=8,\n",
       "                     min_weight_fraction_leaf=0.0, n_estimators=500,\n",
       "                     n_jobs=None, oob_score=False, random_state=0, verbose=0,\n",
       "                     warm_start=False)"
      ]
     },
     "execution_count": 41,
     "metadata": {},
     "output_type": "execute_result"
    }
   ],
   "source": [
    "modelo2e=ExtraTreesClassifier(min_samples_split=8, n_estimators=500, random_state=0)\n",
    "modelo2e.fit(data_train, label_train2)"
   ]
  },
  {
   "cell_type": "code",
   "execution_count": 42,
   "metadata": {},
   "outputs": [
    {
     "name": "stdout",
     "output_type": "stream",
     "text": [
      "\n",
      "\n",
      "MATRIZ DE CONFUSION\n",
      "\n",
      "\n"
     ]
    },
    {
     "data": {
      "image/png": "[encoded data removed]",
      "text/plain": [
       "<Figure size 432x288 with 1 Axes>"
      ]
     },
     "metadata": {
      "needs_background": "light"
     },
     "output_type": "display_data"
    },
    {
     "name": "stdout",
     "output_type": "stream",
     "text": [
      "\n",
      "\n",
      "MEDIDAS DE DESEMPEÑO DEL MODELO\n",
      "\n",
      "\n",
      "Exactitud - Accuracy: 0.9994241304889184\n",
      "------------------------------------------------------------\n",
      "Precisión por clase: [0.9995432  0.57142857 0.73333333 0.82142857 0.88888889]\n",
      "Sensibilidad - Recall por clase: [0.99991691 0.21052632 0.35483871 0.82142857 0.61538462]\n",
      "F1 por clase: [0.99973002 0.30769231 0.47826087 0.82142857 0.72727273]\n",
      "------------------------------------------------------------\n",
      "F1 Macro: 0.6668768995114192\n",
      "F1 Micro: 0.9994241304889184\n",
      "F1 Weighted: 0.9993264525537789\n",
      "------------------------------------------------------------\n",
      "Sensibilidad - Recall Macro: 0.6004190252946425\n",
      "Sensibilidad - Recall Micro: 0.9994241304889184\n",
      "Sensibilidad - Recall Weighted: 0.9994241304889184\n",
      "------------------------------------------------------------\n",
      "Precisión Macro: 0.8029245127866418\n",
      "Precisión Micro: 0.9994241304889184\n",
      "Precisión Weighted: 0.9993174445104885\n",
      "------------------------------------------------------------\n",
      "              precision    recall  f1-score   support\n",
      "\n",
      "           0       1.00      1.00      1.00    192572\n",
      "           1       0.57      0.21      0.31        38\n",
      "           2       0.73      0.35      0.48        62\n",
      "           3       0.82      0.82      0.82        28\n",
      "           4       0.89      0.62      0.73        52\n",
      "\n",
      "    accuracy                           1.00    192752\n",
      "   macro avg       0.80      0.60      0.67    192752\n",
      "weighted avg       1.00      1.00      1.00    192752\n",
      "\n"
     ]
    }
   ],
   "source": [
    "label_pred2e = modelo2e.predict(data_test)\n",
    "# métricas de desempeño - evaluación del modelo\n",
    "model_evaluation_multi(data_train, label_train2, data_test, label_test2, modelo2e, label_pred2e)"
   ]
  },
  {
   "cell_type": "markdown",
   "metadata": {},
   "source": [
    "Se obtiene una mejora de 3 puntos porcentuales en el F1 macro y Recall macro y 5 puntos porcentuales en la precision macro, comparado con el modelo entrenado con hiperparametros por defecto. "
   ]
  },
  {
   "cell_type": "markdown",
   "metadata": {},
   "source": [
    "## Ajuste de pesos de clase"
   ]
  },
  {
   "cell_type": "code",
   "execution_count": 43,
   "metadata": {},
   "outputs": [
    {
     "data": {
      "text/plain": [
       "ExtraTreesClassifier(bootstrap=False,\n",
       "                     class_weight={0: 1, 1: 5, 2: 5, 3: 1, 4: 2},\n",
       "                     criterion='gini', max_depth=None, max_features='auto',\n",
       "                     max_leaf_nodes=None, min_impurity_decrease=0.0,\n",
       "                     min_impurity_split=None, min_samples_leaf=1,\n",
       "                     min_samples_split=8, min_weight_fraction_leaf=0.0,\n",
       "                     n_estimators=500, n_jobs=None, oob_score=False,\n",
       "                     random_state=0, verbose=0, warm_start=False)"
      ]
     },
     "execution_count": 43,
     "metadata": {},
     "output_type": "execute_result"
    }
   ],
   "source": [
    "modelo2e=ExtraTreesClassifier(min_samples_split=8, n_estimators=500, random_state=0, class_weight={0:1, 1:5, 2:5, 3:1, 4:2})\n",
    "modelo2e.fit(data_train, label_train2)"
   ]
  },
  {
   "cell_type": "code",
   "execution_count": 44,
   "metadata": {},
   "outputs": [
    {
     "name": "stdout",
     "output_type": "stream",
     "text": [
      "\n",
      "\n",
      "MATRIZ DE CONFUSION\n",
      "\n",
      "\n"
     ]
    },
    {
     "data": {
      "image/png": "[encoded data removed]",
      "text/plain": [
       "<Figure size 432x288 with 1 Axes>"
      ]
     },
     "metadata": {
      "needs_background": "light"
     },
     "output_type": "display_data"
    },
    {
     "name": "stdout",
     "output_type": "stream",
     "text": [
      "\n",
      "\n",
      "MEDIDAS DE DESEMPEÑO DEL MODELO\n",
      "\n",
      "\n",
      "Exactitud - Accuracy: 0.9993514982983316\n",
      "------------------------------------------------------------\n",
      "Precisión por clase: [0.99979226 0.35820896 0.57831325 0.85714286 0.89189189]\n",
      "Sensibilidad - Recall por clase: [0.99964689 0.63157895 0.77419355 0.64285714 0.63461538]\n",
      "F1 por clase: [0.99971957 0.45714286 0.66206897 0.73469388 0.74157303]\n",
      "------------------------------------------------------------\n",
      "F1 Macro: 0.7190396597866322\n",
      "F1 Micro: 0.9993514982983316\n",
      "F1 Weighted: 0.9993958506509292\n",
      "------------------------------------------------------------\n",
      "Sensibilidad - Recall Macro: 0.736578381709772\n",
      "Sensibilidad - Recall Micro: 0.9993514982983316\n",
      "Sensibilidad - Recall Weighted: 0.9993514982983316\n",
      "------------------------------------------------------------\n",
      "Precisión Macro: 0.7370698425094787\n",
      "Precisión Micro: 0.9993514982983316\n",
      "Precisión Weighted: 0.9994803681596632\n",
      "------------------------------------------------------------\n",
      "              precision    recall  f1-score   support\n",
      "\n",
      "           0       1.00      1.00      1.00    192572\n",
      "           1       0.36      0.63      0.46        38\n",
      "           2       0.58      0.77      0.66        62\n",
      "           3       0.86      0.64      0.73        28\n",
      "           4       0.89      0.63      0.74        52\n",
      "\n",
      "    accuracy                           1.00    192752\n",
      "   macro avg       0.74      0.74      0.72    192752\n",
      "weighted avg       1.00      1.00      1.00    192752\n",
      "\n"
     ]
    }
   ],
   "source": [
    "label_pred2e = modelo2e.predict(data_test)\n",
    "# métricas de desempeño - evaluación del modelo\n",
    "model_evaluation_multi(data_train, label_train2, data_test, label_test2, modelo2e, label_pred2e)"
   ]
  },
  {
   "cell_type": "markdown",
   "metadata": {},
   "source": [
    "La ponderacion de peso de clase mejora el F1 macro en 5 puntos porcentuales"
   ]
  },
  {
   "cell_type": "markdown",
   "metadata": {},
   "source": [
    "## Ajuste avanzado Modelo Random Forest "
   ]
  },
  {
   "cell_type": "markdown",
   "metadata": {},
   "source": [
    "## Ajuste de hiperparametros\n",
    "tomado de:\n",
    "https://machinelearningmastery.com/extra-trees-ensemble-with-python/"
   ]
  },
  {
   "cell_type": "markdown",
   "metadata": {},
   "source": [
    "### Explorar el numero de arboles"
   ]
  },
  {
   "cell_type": "code",
   "execution_count": 50,
   "metadata": {},
   "outputs": [],
   "source": [
    "# funcion para evaluar lista de modelos\n",
    "def get_models():\n",
    "    models = dict()\n",
    "    models['10'] = RandomForestClassifier(n_estimators=10)\n",
    "    models['50'] = RandomForestClassifier(n_estimators=50)\n",
    "    models['100'] = RandomForestClassifier(n_estimators=100)\n",
    "    models['500'] = RandomForestClassifier(n_estimators=500)\n",
    "    return models\n",
    "\n",
    "# funcion para evaluar modelo usando CV\n",
    "def evaluate_model(model):\n",
    "    cv = RepeatedStratifiedKFold(n_splits=3, n_repeats=3, random_state=1)\n",
    "    scores = cross_val_score(model, data_train, label_train2, scoring='f1_macro', cv=cv, n_jobs=-1, error_score='raise')\n",
    "    return scores"
   ]
  },
  {
   "cell_type": "code",
   "execution_count": 51,
   "metadata": {},
   "outputs": [
    {
     "name": "stdout",
     "output_type": "stream",
     "text": [
      ">10 0.627 (0.023)\n",
      ">50 0.672 (0.026)\n",
      ">100 0.672 (0.026)\n",
      ">500 0.679 (0.028)\n"
     ]
    },
    {
     "data": {
      "image/png": "[encoded data removed]",
      "text/plain": [
       "<Figure size 432x288 with 1 Axes>"
      ]
     },
     "metadata": {
      "needs_background": "light"
     },
     "output_type": "display_data"
    }
   ],
   "source": [
    "# modelos a evaluar\n",
    "models = get_models()\n",
    "# evaluar modelos y guardar resultados\n",
    "results, names = list(), list()\n",
    "for name, model in models.items():\n",
    "    scores = evaluate_model(model)\n",
    "    results.append(scores)\n",
    "    names.append(name)\n",
    "    print('>%s %.3f (%.3f)' % (name, mean(scores), std(scores)))\n",
    "# graficar el desempeño del modelo para comparacion \n",
    "pyplot.boxplot(results, labels=names, showmeans=True)\n",
    "pyplot.show()"
   ]
  },
  {
   "cell_type": "markdown",
   "metadata": {},
   "source": [
    "se observa que el f1 mejora con 500 arboles\n"
   ]
  },
  {
   "cell_type": "markdown",
   "metadata": {},
   "source": [
    "### Ajustar profundidad (max_depth)"
   ]
  },
  {
   "cell_type": "code",
   "execution_count": 54,
   "metadata": {},
   "outputs": [
    {
     "name": "stdout",
     "output_type": "stream",
     "text": [
      ">2 0.200 (0.000)\n",
      ">6 0.423 (0.086)\n",
      ">8 0.552 (0.049)\n",
      ">10 0.623 (0.018)\n",
      ">15 0.631 (0.033)\n",
      ">20 0.634 (0.018)\n",
      ">25 0.622 (0.022)\n"
     ]
    },
    {
     "data": {
      "image/png": "[encoded data removed]",
      "text/plain": [
       "<Figure size 432x288 with 1 Axes>"
      ]
     },
     "metadata": {
      "needs_background": "light"
     },
     "output_type": "display_data"
    }
   ],
   "source": [
    "# lista de modelos a evaluar \n",
    "def get_models():\n",
    "    models = dict()\n",
    "    for i in [2, 6, 8, 10, 15, 20, 25]:\n",
    "        models[str(i)] = RandomForestClassifier(max_depth =i)\n",
    "    return models\n",
    "\n",
    "# funcion para evaluar modelo usando CV\n",
    "def evaluate_model(model):\n",
    "    cv = RepeatedStratifiedKFold(n_splits=3, n_repeats=3, random_state=1)\n",
    "    scores = cross_val_score(model, data_train, label_train2, scoring='f1_macro', cv=cv, n_jobs=-1, error_score='raise')\n",
    "    return scores\n",
    "\n",
    "# modelos a evaluar\n",
    "models = get_models()\n",
    "# evaluar modelos y guardar resultados\n",
    "results, names = list(), list()\n",
    "for name, model in models.items():\n",
    "    scores = evaluate_model(model)\n",
    "    results.append(scores)\n",
    "    names.append(name)\n",
    "    print('>%s %.3f (%.3f)' % (name, mean(scores), std(scores)))\n",
    "# graficar el desempeño del modelo para comparacion \n",
    "pyplot.boxplot(results, labels=names, showmeans=True)\n",
    "pyplot.show()\n"
   ]
  },
  {
   "cell_type": "markdown",
   "metadata": {},
   "source": [
    "los resultados sugieren que un valor entre 10 y 15 sería apropiado"
   ]
  },
  {
   "cell_type": "markdown",
   "metadata": {},
   "source": [
    "## Entrenar modelo con hiperparametros ajustados "
   ]
  },
  {
   "cell_type": "code",
   "execution_count": 16,
   "metadata": {},
   "outputs": [
    {
     "data": {
      "text/plain": [
       "RandomForestClassifier(bootstrap=True, class_weight=None, criterion='gini',\n",
       "                       max_depth=20, max_features='auto', max_leaf_nodes=None,\n",
       "                       min_impurity_decrease=0.0, min_impurity_split=None,\n",
       "                       min_samples_leaf=1, min_samples_split=2,\n",
       "                       min_weight_fraction_leaf=0.0, n_estimators=500,\n",
       "                       n_jobs=None, oob_score=False, random_state=0, verbose=0,\n",
       "                       warm_start=False)"
      ]
     },
     "execution_count": 16,
     "metadata": {},
     "output_type": "execute_result"
    }
   ],
   "source": [
    "modelo2r=RandomForestClassifier(max_depth =20, n_estimators=500, random_state=0)\n",
    "modelo2r.fit(data_train, label_train2)"
   ]
  },
  {
   "cell_type": "code",
   "execution_count": 17,
   "metadata": {},
   "outputs": [
    {
     "name": "stdout",
     "output_type": "stream",
     "text": [
      "\n",
      "\n",
      "MATRIZ DE CONFUSION\n",
      "\n",
      "\n"
     ]
    },
    {
     "data": {
      "image/png": "[encoded data removed]",
      "text/plain": [
       "<Figure size 432x288 with 1 Axes>"
      ]
     },
     "metadata": {
      "needs_background": "light"
     },
     "output_type": "display_data"
    },
    {
     "name": "stdout",
     "output_type": "stream",
     "text": [
      "\n",
      "\n",
      "MEDIDAS DE DESEMPEÑO DEL MODELO\n",
      "\n",
      "\n",
      "Exactitud - Accuracy: 0.9994604465842118\n",
      "------------------------------------------------------------\n",
      "Precisión por clase: [0.99960546 0.53846154 0.73684211 0.86206897 0.9375    ]\n",
      "Sensibilidad - Recall por clase: [0.99989095 0.36842105 0.4516129  0.89285714 0.57692308]\n",
      "F1 por clase: [0.99974818 0.4375     0.56       0.87719298 0.71428571]\n",
      "------------------------------------------------------------\n",
      "F1 Macro: 0.7177453757700647\n",
      "F1 Micro: 0.9994604465842118\n",
      "F1 Weighted: 0.9994010759195423\n",
      "------------------------------------------------------------\n",
      "Sensibilidad - Recall Macro: 0.6579410251032185\n",
      "Sensibilidad - Recall Micro: 0.9994604465842118\n",
      "Sensibilidad - Recall Weighted: 0.9994604465842118\n",
      "------------------------------------------------------------\n",
      "Precisión Macro: 0.8148956128688571\n",
      "Precisión Micro: 0.9994604465842118\n",
      "Precisión Weighted: 0.9993932897193892\n",
      "------------------------------------------------------------\n",
      "              precision    recall  f1-score   support\n",
      "\n",
      "           0       1.00      1.00      1.00    192572\n",
      "           1       0.54      0.37      0.44        38\n",
      "           2       0.74      0.45      0.56        62\n",
      "           3       0.86      0.89      0.88        28\n",
      "           4       0.94      0.58      0.71        52\n",
      "\n",
      "    accuracy                           1.00    192752\n",
      "   macro avg       0.81      0.66      0.72    192752\n",
      "weighted avg       1.00      1.00      1.00    192752\n",
      "\n"
     ]
    }
   ],
   "source": [
    "label_pred2r = modelo2r.predict(data_test)\n",
    "# métricas de desempeño - evaluación del modelo\n",
    "model_evaluation_multi(data_train, label_train2, data_test, label_test2, modelo2r, label_pred2r)"
   ]
  },
  {
   "cell_type": "markdown",
   "metadata": {},
   "source": [
    "Con el ajuste de hiperparametros se obtiene una mejora de 7 puntos porcentuales en el F1 macro"
   ]
  },
  {
   "cell_type": "markdown",
   "metadata": {},
   "source": [
    "## Ajuste avanzado Decision tree classifier"
   ]
  },
  {
   "cell_type": "markdown",
   "metadata": {},
   "source": [
    "### Hiperparametros por defecto"
   ]
  },
  {
   "cell_type": "code",
   "execution_count": 12,
   "metadata": {},
   "outputs": [
    {
     "data": {
      "text/plain": [
       "DecisionTreeClassifier(class_weight=None, criterion='gini', max_depth=None,\n",
       "                       max_features=None, max_leaf_nodes=None,\n",
       "                       min_impurity_decrease=0.0, min_impurity_split=None,\n",
       "                       min_samples_leaf=1, min_samples_split=2,\n",
       "                       min_weight_fraction_leaf=0.0, presort=False,\n",
       "                       random_state=None, splitter='best')"
      ]
     },
     "execution_count": 12,
     "metadata": {},
     "output_type": "execute_result"
    }
   ],
   "source": [
    "modelom5 = tree.DecisionTreeClassifier()\n",
    "modelom5.fit(data_train, label_train2)"
   ]
  },
  {
   "cell_type": "code",
   "execution_count": 13,
   "metadata": {},
   "outputs": [],
   "source": [
    "label_predm5 = modelom5.predict(data_test)"
   ]
  },
  {
   "cell_type": "code",
   "execution_count": 14,
   "metadata": {},
   "outputs": [
    {
     "name": "stdout",
     "output_type": "stream",
     "text": [
      "\n",
      "\n",
      "MATRIZ DE CONFUSION\n",
      "\n",
      "\n"
     ]
    },
    {
     "data": {
      "image/png": "[encoded data removed]",
      "text/plain": [
       "<Figure size 432x288 with 1 Axes>"
      ]
     },
     "metadata": {
      "needs_background": "light"
     },
     "output_type": "display_data"
    },
    {
     "name": "stdout",
     "output_type": "stream",
     "text": [
      "\n",
      "\n",
      "MEDIDAS DE DESEMPEÑO DEL MODELO\n",
      "\n",
      "\n",
      "Exactitud - Accuracy: 0.9992788661077446\n",
      "------------------------------------------------------------\n",
      "Precisión por clase: [0.999704   0.35714286 0.55172414 0.64285714 0.75      ]\n",
      "Sensibilidad - Recall por clase: [0.99969362 0.52631579 0.51612903 0.64285714 0.57692308]\n",
      "F1 por clase: [0.99969881 0.42553191 0.53333333 0.64285714 0.65217391]\n",
      "------------------------------------------------------------\n",
      "F1 Macro: 0.6507190233027306\n",
      "F1 Micro: 0.9992788661077446\n",
      "F1 Weighted: 0.9992900183745086\n",
      "------------------------------------------------------------\n",
      "Sensibilidad - Recall Macro: 0.6523837325198292\n",
      "Sensibilidad - Recall Micro: 0.9992788661077446\n",
      "Sensibilidad - Recall Weighted: 0.9992788661077446\n",
      "------------------------------------------------------------\n",
      "Precisión Macro: 0.6602856283339869\n",
      "Precisión Micro: 0.9992788661077446\n",
      "Precisión Weighted: 0.999314029079494\n",
      "------------------------------------------------------------\n",
      "              precision    recall  f1-score   support\n",
      "\n",
      "           0       1.00      1.00      1.00    192572\n",
      "           1       0.36      0.53      0.43        38\n",
      "           2       0.55      0.52      0.53        62\n",
      "           3       0.64      0.64      0.64        28\n",
      "           4       0.75      0.58      0.65        52\n",
      "\n",
      "    accuracy                           1.00    192752\n",
      "   macro avg       0.66      0.65      0.65    192752\n",
      "weighted avg       1.00      1.00      1.00    192752\n",
      "\n"
     ]
    }
   ],
   "source": [
    "# metricas de desempeño\n",
    "model_evaluation_multi(data_train, label_train2, data_test, label_test2, modelom5, label_predm5)"
   ]
  },
  {
   "cell_type": "markdown",
   "metadata": {},
   "source": [
    "## Ajuste de hiperparametros"
   ]
  },
  {
   "cell_type": "markdown",
   "metadata": {},
   "source": [
    "### Ajustar profundidad (max_depth)"
   ]
  },
  {
   "cell_type": "code",
   "execution_count": 24,
   "metadata": {},
   "outputs": [
    {
     "name": "stdout",
     "output_type": "stream",
     "text": [
      ">2 0.340 (0.006)\n",
      ">6 0.655 (0.022)\n",
      ">8 0.646 (0.027)\n",
      ">10 0.639 (0.023)\n",
      ">15 0.629 (0.028)\n",
      ">20 0.629 (0.023)\n",
      ">25 0.627 (0.025)\n"
     ]
    },
    {
     "data": {
      "image/png": "[encoded data removed]",
      "text/plain": [
       "<Figure size 432x288 with 1 Axes>"
      ]
     },
     "metadata": {
      "needs_background": "light"
     },
     "output_type": "display_data"
    }
   ],
   "source": [
    "# lista de modelos a evaluar \n",
    "def get_models():\n",
    "    models = dict()\n",
    "    for i in [2, 6, 8, 10, 15, 20, 25]:\n",
    "        models[str(i)] = tree.DecisionTreeClassifier(max_depth =i)\n",
    "    return models\n",
    "\n",
    "# funcion para evaluar modelo usando CV\n",
    "def evaluate_model(model):\n",
    "    cv = RepeatedStratifiedKFold(n_splits=3, n_repeats=3, random_state=1)\n",
    "    scores = cross_val_score(model, data_train, label_train2, scoring='f1_macro', cv=cv, n_jobs=-1, error_score='raise')\n",
    "    return scores\n",
    "\n",
    "# modelos a evaluar\n",
    "models = get_models()\n",
    "# evaluar modelos y guardar resultados\n",
    "results, names = list(), list()\n",
    "for name, model in models.items():\n",
    "    scores = evaluate_model(model)\n",
    "    results.append(scores)\n",
    "    names.append(name)\n",
    "    print('>%s %.3f (%.3f)' % (name, mean(scores), std(scores)))\n",
    "# graficar el desempeño del modelo para comparacion \n",
    "pyplot.boxplot(results, labels=names, showmeans=True)\n",
    "pyplot.show()\n"
   ]
  },
  {
   "cell_type": "code",
   "execution_count": 25,
   "metadata": {},
   "outputs": [
    {
     "name": "stdout",
     "output_type": "stream",
     "text": [
      ">1 0.623 (0.022)\n",
      ">5 0.665 (0.019)\n",
      ">10 0.665 (0.022)\n",
      ">20 0.643 (0.023)\n"
     ]
    },
    {
     "data": {
      "image/png": "[encoded data removed]",
      "text/plain": [
       "<Figure size 432x288 with 1 Axes>"
      ]
     },
     "metadata": {
      "needs_background": "light"
     },
     "output_type": "display_data"
    }
   ],
   "source": [
    "    \n",
    "# lista de modelos a evaluar \n",
    "def get_models():\n",
    "    models = dict()\n",
    "    for i in [1, 5, 10, 20]:\n",
    "        models[str(i)] = tree.DecisionTreeClassifier(min_samples_leaf =i)\n",
    "    return models\n",
    "\n",
    "# funcion para evaluar modelo usando CV\n",
    "def evaluate_model(model):\n",
    "    cv = RepeatedStratifiedKFold(n_splits=3, n_repeats=3, random_state=1)\n",
    "    scores = cross_val_score(model, data_train, label_train2, scoring='f1_macro', cv=cv, n_jobs=-1, error_score='raise')\n",
    "    return scores\n",
    "\n",
    "# modelos a evaluar\n",
    "models = get_models()\n",
    "# evaluar modelos y guardar resultados\n",
    "results, names = list(), list()\n",
    "for name, model in models.items():\n",
    "    scores = evaluate_model(model)\n",
    "    results.append(scores)\n",
    "    names.append(name)\n",
    "    print('>%s %.3f (%.3f)' % (name, mean(scores), std(scores)))\n",
    "# graficar el desempeño del modelo para comparacion \n",
    "pyplot.boxplot(results, labels=names, showmeans=True)\n",
    "pyplot.show()\n"
   ]
  },
  {
   "cell_type": "markdown",
   "metadata": {},
   "source": [
    "## Grid Search cross-validation"
   ]
  },
  {
   "cell_type": "code",
   "execution_count": 27,
   "metadata": {},
   "outputs": [
    {
     "name": "stdout",
     "output_type": "stream",
     "text": [
      "Fitting 3 folds for each of 8 candidates, totalling 24 fits\n"
     ]
    },
    {
     "name": "stderr",
     "output_type": "stream",
     "text": [
      "[Parallel(n_jobs=-1)]: Using backend LokyBackend with 12 concurrent workers.\n",
      "[Parallel(n_jobs=-1)]: Done  14 out of  24 | elapsed:    9.1s remaining:    6.5s\n",
      "[Parallel(n_jobs=-1)]: Done  24 out of  24 | elapsed:   11.4s finished\n"
     ]
    },
    {
     "name": "stdout",
     "output_type": "stream",
     "text": [
      "Wall time: 16.5 s\n"
     ]
    },
    {
     "data": {
      "text/plain": [
       "GridSearchCV(cv=3, error_score='raise-deprecating',\n",
       "             estimator=DecisionTreeClassifier(class_weight=None,\n",
       "                                              criterion='gini', max_depth=None,\n",
       "                                              max_features=None,\n",
       "                                              max_leaf_nodes=None,\n",
       "                                              min_impurity_decrease=0.0,\n",
       "                                              min_impurity_split=None,\n",
       "                                              min_samples_leaf=1,\n",
       "                                              min_samples_split=2,\n",
       "                                              min_weight_fraction_leaf=0.0,\n",
       "                                              presort=False, random_state=None,\n",
       "                                              splitter='best'),\n",
       "             iid='warn', n_jobs=-1,\n",
       "             param_grid={'criterion': ['entropy', 'gini'], 'max_depth': [6, 8],\n",
       "                         'min_samples_leaf': [4, 5]},\n",
       "             pre_dispatch='2*n_jobs', refit=True, return_train_score=False,\n",
       "             scoring='f1_macro', verbose=2)"
      ]
     },
     "execution_count": 27,
     "metadata": {},
     "output_type": "execute_result"
    }
   ],
   "source": [
    "model = tree.DecisionTreeClassifier()\n",
    "\n",
    "parameters= {'max_depth' : [6, 8],\n",
    "             'min_samples_leaf' : [4, 5],\n",
    "             'criterion': ['entropy', 'gini'],\n",
    "}\n",
    "\n",
    "grid = GridSearchCV(model, param_grid=parameters, cv=3, verbose=2, scoring='f1_macro', n_jobs=-1)\n",
    "%time grid.fit(data_train, label_train2)"
   ]
  },
  {
   "cell_type": "code",
   "execution_count": 28,
   "metadata": {},
   "outputs": [
    {
     "name": "stdout",
     "output_type": "stream",
     "text": [
      "{'criterion': 'entropy', 'max_depth': 6, 'min_samples_leaf': 4}\n",
      "0.7217604270993341\n",
      "0\n"
     ]
    }
   ],
   "source": [
    "print(grid.best_params_)\n",
    "print(grid.best_score_)\n",
    "print(grid.best_index_)"
   ]
  },
  {
   "cell_type": "markdown",
   "metadata": {},
   "source": [
    "los resultados sugieren que un valor entre 10 y 15 sería apropiado"
   ]
  },
  {
   "cell_type": "markdown",
   "metadata": {},
   "source": [
    "## Entrenar modelo con hiperparametros ajustados "
   ]
  },
  {
   "cell_type": "code",
   "execution_count": 29,
   "metadata": {},
   "outputs": [
    {
     "data": {
      "text/plain": [
       "DecisionTreeClassifier(class_weight=None, criterion='entropy', max_depth=6,\n",
       "                       max_features=None, max_leaf_nodes=None,\n",
       "                       min_impurity_decrease=0.0, min_impurity_split=None,\n",
       "                       min_samples_leaf=4, min_samples_split=2,\n",
       "                       min_weight_fraction_leaf=0.0, presort=False,\n",
       "                       random_state=0, splitter='best')"
      ]
     },
     "execution_count": 29,
     "metadata": {},
     "output_type": "execute_result"
    }
   ],
   "source": [
    "modelo1d=tree.DecisionTreeClassifier(criterion='entropy', max_depth =6, min_samples_leaf=4 , random_state=0)\n",
    "modelo1d.fit(data_train, label_train2)"
   ]
  },
  {
   "cell_type": "code",
   "execution_count": 30,
   "metadata": {},
   "outputs": [
    {
     "name": "stdout",
     "output_type": "stream",
     "text": [
      "\n",
      "\n",
      "MATRIZ DE CONFUSION\n",
      "\n",
      "\n"
     ]
    },
    {
     "data": {
      "image/png": "[encoded data removed]",
      "text/plain": [
       "<Figure size 432x288 with 1 Axes>"
      ]
     },
     "metadata": {
      "needs_background": "light"
     },
     "output_type": "display_data"
    },
    {
     "name": "stdout",
     "output_type": "stream",
     "text": [
      "\n",
      "\n",
      "MEDIDAS DE DESEMPEÑO DEL MODELO\n",
      "\n",
      "\n",
      "Exactitud - Accuracy: 0.9994448825433718\n",
      "------------------------------------------------------------\n",
      "Precisión por clase: [0.99964696 0.53333333 0.67924528 0.6875     0.87804878]\n",
      "Sensibilidad - Recall por clase: [0.99984941 0.21052632 0.58064516 0.78571429 0.69230769]\n",
      "F1 por clase: [0.99974817 0.30188679 0.62608696 0.73333333 0.77419355]\n",
      "------------------------------------------------------------\n",
      "F1 Macro: 0.6870497604686562\n",
      "F1 Micro: 0.9994448825433718\n",
      "F1 Weighted: 0.9993908514460024\n",
      "------------------------------------------------------------\n",
      "Sensibilidad - Recall Macro: 0.6538085724153655\n",
      "Sensibilidad - Recall Micro: 0.9994448825433718\n",
      "Sensibilidad - Recall Weighted: 0.9994448825433718\n",
      "------------------------------------------------------------\n",
      "Precisión Macro: 0.7555548707319419\n",
      "Precisión Micro: 0.9994448825433718\n",
      "Precisión Weighted: 0.9993738180640576\n",
      "------------------------------------------------------------\n",
      "              precision    recall  f1-score   support\n",
      "\n",
      "           0       1.00      1.00      1.00    192572\n",
      "           1       0.53      0.21      0.30        38\n",
      "           2       0.68      0.58      0.63        62\n",
      "           3       0.69      0.79      0.73        28\n",
      "           4       0.88      0.69      0.77        52\n",
      "\n",
      "    accuracy                           1.00    192752\n",
      "   macro avg       0.76      0.65      0.69    192752\n",
      "weighted avg       1.00      1.00      1.00    192752\n",
      "\n"
     ]
    }
   ],
   "source": [
    "label_pred1d = modelo1d.predict(data_test)\n",
    "# métricas de desempeño - evaluación del modelo\n",
    "model_evaluation_multi(data_train, label_train2, data_test, label_test2, modelo1d, label_pred1d)"
   ]
  },
  {
   "cell_type": "markdown",
   "metadata": {},
   "source": [
    "## Ajuste de pesos de clase"
   ]
  },
  {
   "cell_type": "code",
   "execution_count": 33,
   "metadata": {},
   "outputs": [
    {
     "data": {
      "text/plain": [
       "DecisionTreeClassifier(class_weight={0: 1, 1: 5, 2: 5, 3: 1, 4: 2},\n",
       "                       criterion='entropy', max_depth=6, max_features=None,\n",
       "                       max_leaf_nodes=None, min_impurity_decrease=0.0,\n",
       "                       min_impurity_split=None, min_samples_leaf=4,\n",
       "                       min_samples_split=2, min_weight_fraction_leaf=0.0,\n",
       "                       presort=False, random_state=0, splitter='best')"
      ]
     },
     "execution_count": 33,
     "metadata": {},
     "output_type": "execute_result"
    }
   ],
   "source": [
    "modelo2d=tree.DecisionTreeClassifier(criterion='entropy', max_depth =6, min_samples_leaf=4 , random_state=0, class_weight={0:1, 1:5, 2:5, 3:1, 4:2})\n",
    "modelo2d.fit(data_train, label_train2)"
   ]
  },
  {
   "cell_type": "code",
   "execution_count": 34,
   "metadata": {},
   "outputs": [
    {
     "name": "stdout",
     "output_type": "stream",
     "text": [
      "\n",
      "\n",
      "MATRIZ DE CONFUSION\n",
      "\n",
      "\n"
     ]
    },
    {
     "data": {
      "image/png": "[encoded data removed]",
      "text/plain": [
       "<Figure size 432x288 with 1 Axes>"
      ]
     },
     "metadata": {
      "needs_background": "light"
     },
     "output_type": "display_data"
    },
    {
     "name": "stdout",
     "output_type": "stream",
     "text": [
      "\n",
      "\n",
      "MEDIDAS DE DESEMPEÑO DEL MODELO\n",
      "\n",
      "\n",
      "Exactitud - Accuracy: 0.9992425500124512\n",
      "------------------------------------------------------------\n",
      "Precisión por clase: [0.99980262 0.28735632 0.54878049 0.7826087  0.89189189]\n",
      "Sensibilidad - Recall por clase: [0.99954822 0.65789474 0.72580645 0.64285714 0.63461538]\n",
      "F1 por clase: [0.9996754  0.4        0.625      0.70588235 0.74157303]\n",
      "------------------------------------------------------------\n",
      "F1 Macro: 0.6944261582838587\n",
      "F1 Micro: 0.9992425500124512\n",
      "F1 Weighted: 0.999324357469972\n",
      "------------------------------------------------------------\n",
      "Sensibilidad - Recall Macro: 0.7321443873705393\n",
      "Sensibilidad - Recall Micro: 0.9992425500124512\n",
      "Sensibilidad - Recall Weighted: 0.9992425500124512\n",
      "------------------------------------------------------------\n",
      "Precisión Macro: 0.7020880036347139\n",
      "Precisión Micro: 0.9992425500124512\n",
      "Precisión Weighted: 0.9994564294054471\n",
      "------------------------------------------------------------\n",
      "              precision    recall  f1-score   support\n",
      "\n",
      "           0       1.00      1.00      1.00    192572\n",
      "           1       0.29      0.66      0.40        38\n",
      "           2       0.55      0.73      0.63        62\n",
      "           3       0.78      0.64      0.71        28\n",
      "           4       0.89      0.63      0.74        52\n",
      "\n",
      "    accuracy                           1.00    192752\n",
      "   macro avg       0.70      0.73      0.69    192752\n",
      "weighted avg       1.00      1.00      1.00    192752\n",
      "\n"
     ]
    }
   ],
   "source": [
    "label_pred2d = modelo2d.predict(data_test)\n",
    "# métricas de desempeño - evaluación del modelo\n",
    "model_evaluation_multi(data_train, label_train2, data_test, label_test2, modelo2d, label_pred2d)"
   ]
  },
  {
   "cell_type": "markdown",
   "metadata": {},
   "source": [
    "Con el ajuste de Hiperparametros y ponderacion de pesos de clase se obtiene una mejora de 4 puntos porcentuales en el F1 macro."
   ]
  },
  {
   "cell_type": "markdown",
   "metadata": {},
   "source": [
    "# Ajuste avanzado modelo de clasificacion multiclase XGBoost\n",
    "\n",
    "Codigos Tomados del libro XGBoost With Python, Jason Brownlee, 2020."
   ]
  },
  {
   "cell_type": "markdown",
   "metadata": {},
   "source": [
    "## XGBoost Model hiperparametros por defecto"
   ]
  },
  {
   "cell_type": "code",
   "execution_count": 12,
   "metadata": {},
   "outputs": [
    {
     "data": {
      "text/plain": [
       "XGBClassifier(base_score=0.5, booster='gbtree', colsample_bylevel=1,\n",
       "              colsample_bynode=1, colsample_bytree=1, gamma=0, gpu_id=-1,\n",
       "              importance_type='gain', interaction_constraints='',\n",
       "              learning_rate=0.300000012, max_delta_step=0, max_depth=6,\n",
       "              min_child_weight=1, missing=nan, monotone_constraints='()',\n",
       "              n_estimators=100, n_jobs=0, num_parallel_tree=1,\n",
       "              objective='multi:softprob', random_state=0, reg_alpha=0,\n",
       "              reg_lambda=1, scale_pos_weight=None, subsample=1,\n",
       "              tree_method='exact', validate_parameters=1, verbosity=None)"
      ]
     },
     "execution_count": 12,
     "metadata": {},
     "output_type": "execute_result"
    }
   ],
   "source": [
    "model = XGBClassifier()\n",
    "model.fit(data_train, label_train2)"
   ]
  },
  {
   "cell_type": "code",
   "execution_count": 13,
   "metadata": {},
   "outputs": [
    {
     "name": "stdout",
     "output_type": "stream",
     "text": [
      "\n",
      "\n",
      "MATRIZ DE CONFUSION\n",
      "\n",
      "\n"
     ]
    },
    {
     "data": {
      "image/png": "[encoded data removed]",
      "text/plain": [
       "<Figure size 432x288 with 1 Axes>"
      ]
     },
     "metadata": {
      "needs_background": "light"
     },
     "output_type": "display_data"
    },
    {
     "name": "stdout",
     "output_type": "stream",
     "text": [
      "\n",
      "\n",
      "MEDIDAS DE DESEMPEÑO DEL MODELO\n",
      "\n",
      "\n",
      "Exactitud - Accuracy: 0.9994915746658919\n",
      "------------------------------------------------------------\n",
      "Precisión por clase: [0.99970405 0.41176471 0.73913043 0.85714286 0.88636364]\n",
      "Sensibilidad - Recall por clase: [0.99984941 0.36842105 0.5483871  0.85714286 0.75      ]\n",
      "F1 por clase: [0.99977672 0.38888889 0.62962963 0.85714286 0.8125    ]\n",
      "------------------------------------------------------------\n",
      "F1 Macro: 0.7375876197575335\n",
      "F1 Micro: 0.9994915746658919\n",
      "F1 Weighted: 0.9994659870750553\n",
      "------------------------------------------------------------\n",
      "Sensibilidad - Recall Macro: 0.7047600827047366\n",
      "Sensibilidad - Recall Micro: 0.9994915746658919\n",
      "Sensibilidad - Recall Weighted: 0.9994915746658919\n",
      "------------------------------------------------------------\n",
      "Precisión Macro: 0.7788211368031384\n",
      "Precisión Micro: 0.9994915746658919\n",
      "Precisión Weighted: 0.9994530398723506\n",
      "------------------------------------------------------------\n",
      "              precision    recall  f1-score   support\n",
      "\n",
      "           0       1.00      1.00      1.00    192572\n",
      "           1       0.41      0.37      0.39        38\n",
      "           2       0.74      0.55      0.63        62\n",
      "           3       0.86      0.86      0.86        28\n",
      "           4       0.89      0.75      0.81        52\n",
      "\n",
      "    accuracy                           1.00    192752\n",
      "   macro avg       0.78      0.70      0.74    192752\n",
      "weighted avg       1.00      1.00      1.00    192752\n",
      "\n"
     ]
    }
   ],
   "source": [
    "label_predXGB = model.predict(data_test)\n",
    "# métricas de desempeño - evaluación del modelo\n",
    "model_evaluation_multi(data_train, label_train2, data_test, label_test2, model, label_predXGB)"
   ]
  },
  {
   "cell_type": "markdown",
   "metadata": {},
   "source": [
    "### Feature Importance"
   ]
  },
  {
   "cell_type": "code",
   "execution_count": 16,
   "metadata": {},
   "outputs": [
    {
     "data": {
      "text/plain": [
       "XGBClassifier(base_score=0.5, booster='gbtree', colsample_bylevel=1,\n",
       "              colsample_bynode=1, colsample_bytree=1, gamma=0, gpu_id=-1,\n",
       "              importance_type='gain', interaction_constraints='',\n",
       "              learning_rate=0.300000012, max_delta_step=0, max_depth=6,\n",
       "              min_child_weight=1, missing=nan, monotone_constraints='()',\n",
       "              n_estimators=100, n_jobs=0, num_parallel_tree=1,\n",
       "              objective='multi:softprob', random_state=0, reg_alpha=0,\n",
       "              reg_lambda=1, scale_pos_weight=None, subsample=1,\n",
       "              tree_method='exact', validate_parameters=1, verbosity=None)"
      ]
     },
     "execution_count": 16,
     "metadata": {},
     "output_type": "execute_result"
    }
   ],
   "source": [
    "model = XGBClassifier()\n",
    "model.fit(data_train, label_train2)"
   ]
  },
  {
   "cell_type": "code",
   "execution_count": 17,
   "metadata": {},
   "outputs": [
    {
     "name": "stdout",
     "output_type": "stream",
     "text": [
      "[0.01420537 0.01702056 0.01550051 0.01542198 0.         0.\n",
      " 0.         0.         0.         0.33055297 0.3018753  0.0779065\n",
      " 0.1617613  0.04161585 0.02413971]\n"
     ]
    },
    {
     "data": {
      "image/png": "[encoded data removed]",
      "text/plain": [
       "<Figure size 432x288 with 1 Axes>"
      ]
     },
     "metadata": {
      "needs_background": "light"
     },
     "output_type": "display_data"
    }
   ],
   "source": [
    "# feature importance\n",
    "print(model.feature_importances_)\n",
    "# plot\n",
    "pyplot.bar(range(len(model.feature_importances_)), model.feature_importances_)\n",
    "pyplot.show()"
   ]
  },
  {
   "cell_type": "markdown",
   "metadata": {},
   "source": [
    "## Ajuste de hiperparametros XGBoost Extreme Gradient Boosting Algorithm"
   ]
  },
  {
   "cell_type": "markdown",
   "metadata": {},
   "source": [
    "### Explorar el numero de arboles "
   ]
  },
  {
   "cell_type": "code",
   "execution_count": 18,
   "metadata": {},
   "outputs": [],
   "source": [
    "# funcion para evaluar lista de modelos\n",
    "def get_models():\n",
    "    models = dict()\n",
    "    models['100'] = XGBClassifier(nthread=-1, n_estimators=100)\n",
    "    models['400'] = XGBClassifier(nthread=-1, n_estimators=400)\n",
    "    models['600'] = XGBClassifier(nthread=-1, n_estimators=600)\n",
    "    return models\n",
    "\n",
    "# funcion para evaluar modelo usando CV\n",
    "def evaluate_model(model):\n",
    "    kfold = StratifiedKFold(n_splits=3, shuffle=True, random_state=7)\n",
    "    scores = cross_val_score(model, data_train, label_train2, scoring='f1_macro', cv=kfold, n_jobs=-1, error_score='raise')\n",
    "    return scores"
   ]
  },
  {
   "cell_type": "code",
   "execution_count": 19,
   "metadata": {},
   "outputs": [
    {
     "name": "stdout",
     "output_type": "stream",
     "text": [
      ">100 0.694 (0.001437)\n",
      ">400 0.697 (0.004384)\n",
      ">600 0.696 (0.004645)\n"
     ]
    },
    {
     "data": {
      "image/png": "[encoded data removed]",
      "text/plain": [
       "<Figure size 432x288 with 1 Axes>"
      ]
     },
     "metadata": {
      "needs_background": "light"
     },
     "output_type": "display_data"
    }
   ],
   "source": [
    "# modelos a evaluar\n",
    "models = get_models()\n",
    "# evaluar modelos y guardar resultados\n",
    "results, names = list(), list()\n",
    "for name, model in models.items():\n",
    "    scores = evaluate_model(model)\n",
    "    results.append(scores)\n",
    "    names.append(name)\n",
    "    print('>%s %.3f (%.6f)' % (name, mean(scores), std(scores)))\n",
    "# graficar el desempeño del modelo para comparacion \n",
    "pyplot.boxplot(results, labels=names, showmeans=True)\n",
    "pyplot.title(\"XGBoost n_estimators vs F1_score macro\")\n",
    "pyplot.xlabel('n_estimators')\n",
    "pyplot.ylabel('F1_score macro')\n",
    "pyplot.show()"
   ]
  },
  {
   "cell_type": "markdown",
   "metadata": {},
   "source": [
    "## Ajustar la profundidad del árbol (Tree Depth)"
   ]
  },
  {
   "cell_type": "code",
   "execution_count": 20,
   "metadata": {},
   "outputs": [],
   "source": [
    "# lista de modelos a evaluar\n",
    "def get_models():\n",
    "    models = dict()\n",
    "    for i in [4, 6, 8, 10]:\n",
    "        models[str(i)] = XGBClassifier(nthread=-1, max_depth=i)\n",
    "    return models\n",
    "\n",
    "# evaluar usando cross-validation\n",
    "def evaluate_model(model):\n",
    "    kfold = StratifiedKFold(n_splits=3, shuffle=True, random_state=7)\n",
    "    scores = cross_val_score(model, data_train, label_train2, scoring='f1_macro', cv=kfold, n_jobs=-1, error_score='raise')\n",
    "    return scores\n"
   ]
  },
  {
   "cell_type": "code",
   "execution_count": 21,
   "metadata": {},
   "outputs": [
    {
     "name": "stdout",
     "output_type": "stream",
     "text": [
      ">4 0.696 (0.008665)\n",
      ">6 0.694 (0.001437)\n",
      ">8 0.706 (0.004411)\n",
      ">10 0.708 (0.010997)\n"
     ]
    },
    {
     "data": {
      "image/png": "[encoded data removed]",
      "text/plain": [
       "<Figure size 432x288 with 1 Axes>"
      ]
     },
     "metadata": {
      "needs_background": "light"
     },
     "output_type": "display_data"
    }
   ],
   "source": [
    "# modelos a evaluar\n",
    "models = get_models()\n",
    "# evaluar modelos y guardar resultados\n",
    "results, names = list(), list()\n",
    "for name, model in models.items():\n",
    "    scores = evaluate_model(model)\n",
    "    results.append(scores)\n",
    "    names.append(name)\n",
    "    print('>%s %.3f (%.6f)' % (name, mean(scores), std(scores)))\n",
    "# graficar el desempeño del modelo para comparacion \n",
    "pyplot.boxplot(results, labels=names, showmeans=True)\n",
    "pyplot.title(\"XGBoost n_estimators vs F1_score macro\")\n",
    "pyplot.xlabel('max_depth')\n",
    "pyplot.ylabel('F1_score macro')\n",
    "pyplot.show()"
   ]
  },
  {
   "cell_type": "markdown",
   "metadata": {},
   "source": [
    "##  Ajustar la tasa de aprendizaje (Learning Rate)\n",
    "\n",
    "Podemos utilizar la capacidad de búsqueda de la cuadrícula en scikit-learn para evaluar el efecto sobre la pérdida logarítmica de\n",
    "entrenar un modelo de aumento de gradiente con diferentes valores de tasa de aprendizaje. Retendremos el número\n",
    "de árboles constantes en el valor predeterminado de 100."
   ]
  },
  {
   "cell_type": "code",
   "execution_count": 12,
   "metadata": {},
   "outputs": [],
   "source": [
    "# get a list of models to evaluate\n",
    "def get_models():\n",
    "    models = dict()\n",
    "    for i in [0.01, 0.1, 0.5, 1.0]:\n",
    "        key = '%.4f' % i\n",
    "        models[key] = XGBClassifier(nthread=-1, learning_rate=i)\n",
    "    return models\n",
    "\n",
    "# evaluar usando cross-validation\n",
    "def evaluate_model(model):\n",
    "    kfold = StratifiedKFold(n_splits=3, shuffle=True, random_state=7)\n",
    "    scores = cross_val_score(model, data_train, label_train2, scoring='f1_macro', cv=kfold, n_jobs=-1, error_score='raise')\n",
    "    return scores\n"
   ]
  },
  {
   "cell_type": "code",
   "execution_count": 13,
   "metadata": {},
   "outputs": [
    {
     "name": "stdout",
     "output_type": "stream",
     "text": [
      ">0.0100 0.719 (0.008214)\n",
      ">0.1000 0.709 (0.004011)\n",
      ">0.5000 0.688 (0.007570)\n",
      ">1.0000 0.688 (0.003677)\n"
     ]
    },
    {
     "data": {
      "image/png": "[encoded data removed]",
      "text/plain": [
       "<Figure size 432x288 with 1 Axes>"
      ]
     },
     "metadata": {
      "needs_background": "light"
     },
     "output_type": "display_data"
    }
   ],
   "source": [
    "# modelos a evaluar\n",
    "models = get_models()\n",
    "# evaluar modelos y guardar resultados\n",
    "results, names = list(), list()\n",
    "for name, model in models.items():\n",
    "    scores = evaluate_model(model)\n",
    "    results.append(scores)\n",
    "    names.append(name)\n",
    "    print('>%s %.3f (%.6f)' % (name, mean(scores), std(scores)))\n",
    "# graficar el desempeño del modelo para comparacion \n",
    "pyplot.boxplot(results, labels=names, showmeans=True)\n",
    "pyplot.title(\"XGBoost learning_rate vs F1_score macro\")\n",
    "pyplot.xlabel('learning_rate')\n",
    "pyplot.ylabel('F1_score macro')\n",
    "pyplot.show()"
   ]
  },
  {
   "cell_type": "markdown",
   "metadata": {},
   "source": [
    "## Ajuste del muestreo de filas "
   ]
  },
  {
   "cell_type": "markdown",
   "metadata": {},
   "source": [
    "### Ajustar el numero de muestras (subsample)"
   ]
  },
  {
   "cell_type": "code",
   "execution_count": 12,
   "metadata": {},
   "outputs": [],
   "source": [
    "def get_models():\n",
    "    models = dict()\n",
    "    for i in [0.3, 0.5, 0.8, 1.0]:\n",
    "        key = '%.1f' % i\n",
    "        models[key] = XGBClassifier(nthread=-1, subsample=i)\n",
    "    return models\n",
    " \n",
    "# evaluar usando cross-validation\n",
    "def evaluate_model(model):\n",
    "    cv = RepeatedStratifiedKFold(n_splits=3, n_repeats=3, random_state=0)\n",
    "    scores = cross_val_score(model, data_train, label_train2, scoring='f1_macro', cv=cv, n_jobs=-1, error_score='raise')\n",
    "    return scores\n",
    " "
   ]
  },
  {
   "cell_type": "code",
   "execution_count": 13,
   "metadata": {},
   "outputs": [
    {
     "name": "stdout",
     "output_type": "stream",
     "text": [
      ">0.3 0.699 (0.021)\n",
      ">0.5 0.700 (0.016)\n",
      ">0.8 0.700 (0.026)\n",
      ">1.0 0.702 (0.026)\n"
     ]
    },
    {
     "data": {
      "image/png": "[encoded data removed]",
      "text/plain": [
       "<Figure size 432x288 with 1 Axes>"
      ]
     },
     "metadata": {
      "needs_background": "light"
     },
     "output_type": "display_data"
    }
   ],
   "source": [
    "# modelos a evaluar\n",
    "results, names = list(), list()\n",
    "models = get_models()\n",
    "# evaluar modelos y guardar resultados\n",
    "results, names = list(), list()\n",
    "for name, model in models.items():\n",
    "    scores = evaluate_model(model)\n",
    "    results.append(scores)\n",
    "    names.append(name)\n",
    "    print('>%s %.3f (%.3f)' % (name, mean(scores), std(scores)))\n",
    "# grafico de cajas y bigotes \n",
    "pyplot.boxplot(results, labels=names, showmeans=True)\n",
    "pyplot.xticks(rotation=45)\n",
    "pyplot.show()\n"
   ]
  },
  {
   "cell_type": "markdown",
   "metadata": {},
   "source": [
    "## Evaluacion de desempeño del modelo ajustado y entrenado"
   ]
  },
  {
   "cell_type": "markdown",
   "metadata": {},
   "source": [
    "## XGBoost Classifier"
   ]
  },
  {
   "cell_type": "code",
   "execution_count": 15,
   "metadata": {},
   "outputs": [
    {
     "data": {
      "text/plain": [
       "XGBClassifier(base_score=0.5, booster='gbtree', colsample_bylevel=1,\n",
       "              colsample_bynode=1, colsample_bytree=1, gamma=0, gpu_id=-1,\n",
       "              importance_type='gain', interaction_constraints='',\n",
       "              learning_rate=0.001, max_delta_step=0, max_depth=8,\n",
       "              min_child_weight=1, missing=nan, monotone_constraints='()',\n",
       "              n_estimators=600, n_jobs=-1, nthread=-1, num_parallel_tree=1,\n",
       "              objective='multi:softprob', random_state=0, reg_alpha=0,\n",
       "              reg_lambda=1, scale_pos_weight=None, subsample=0.3,\n",
       "              tree_method='exact', validate_parameters=1, verbosity=None)"
      ]
     },
     "execution_count": 15,
     "metadata": {},
     "output_type": "execute_result"
    }
   ],
   "source": [
    "model2 = XGBClassifier(nthread=-1, max_depth=8, n_estimators=600, learning_rate=0.001, subsample=0.3)\n",
    "model2.fit(data_train, label_train2)"
   ]
  },
  {
   "cell_type": "code",
   "execution_count": 16,
   "metadata": {},
   "outputs": [
    {
     "name": "stdout",
     "output_type": "stream",
     "text": [
      "\n",
      "\n",
      "MATRIZ DE CONFUSION\n",
      "\n",
      "\n"
     ]
    },
    {
     "data": {
      "image/png": "[encoded data removed]",
      "text/plain": [
       "<Figure size 432x288 with 1 Axes>"
      ]
     },
     "metadata": {
      "needs_background": "light"
     },
     "output_type": "display_data"
    },
    {
     "name": "stdout",
     "output_type": "stream",
     "text": [
      "\n",
      "\n",
      "MEDIDAS DE DESEMPEÑO DEL MODELO\n",
      "\n",
      "\n",
      "Exactitud - Accuracy: 0.9995330787747987\n",
      "------------------------------------------------------------\n",
      "Precisión por clase: [0.99970925 0.52173913 0.73584906 0.85714286 0.88888889]\n",
      "Sensibilidad - Recall por clase: [0.99987018 0.31578947 0.62903226 0.85714286 0.76923077]\n",
      "F1 por clase: [0.99978971 0.39344262 0.67826087 0.85714286 0.82474227]\n",
      "------------------------------------------------------------\n",
      "F1 Macro: 0.7506756647355868\n",
      "F1 Micro: 0.9995330787747987\n",
      "F1 Weighted: 0.9994988007962597\n",
      "------------------------------------------------------------\n",
      "Sensibilidad - Recall Macro: 0.7142131073098247\n",
      "Sensibilidad - Recall Micro: 0.9995330787747987\n",
      "Sensibilidad - Recall Weighted: 0.9995330787747987\n",
      "------------------------------------------------------------\n",
      "Precisión Macro: 0.8006658359102812\n",
      "Precisión Micro: 0.9995330787747987\n",
      "Precisión Weighted: 0.9994795382877856\n",
      "------------------------------------------------------------\n",
      "              precision    recall  f1-score   support\n",
      "\n",
      "           0       1.00      1.00      1.00    192572\n",
      "           1       0.52      0.32      0.39        38\n",
      "           2       0.74      0.63      0.68        62\n",
      "           3       0.86      0.86      0.86        28\n",
      "           4       0.89      0.77      0.82        52\n",
      "\n",
      "    accuracy                           1.00    192752\n",
      "   macro avg       0.80      0.71      0.75    192752\n",
      "weighted avg       1.00      1.00      1.00    192752\n",
      "\n"
     ]
    }
   ],
   "source": [
    "label_predXGB2 = model2.predict(data_test)\n",
    "# métricas de desempeño - evaluación del modelo\n",
    "model_evaluation_multi(data_train, label_train2, data_test, label_test2, model2, label_predXGB2)"
   ]
  },
  {
   "cell_type": "markdown",
   "metadata": {},
   "source": [
    "Se obtiene una mejora en el Recall y precision macro con el ajuste de hiperparametros"
   ]
  }
 ],
 "metadata": {
  "kernelspec": {
   "display_name": "Python 3",
   "language": "python",
   "name": "python3"
  },
  "language_info": {
   "codemirror_mode": {
    "name": "ipython",
    "version": 3
   },
   "file_extension": ".py",
   "mimetype": "text/x-python",
   "name": "python",
   "nbconvert_exporter": "python",
   "pygments_lexer": "ipython3",
   "version": "3.7.3"
  }
 },
 "nbformat": 4,
 "nbformat_minor": 4
}
