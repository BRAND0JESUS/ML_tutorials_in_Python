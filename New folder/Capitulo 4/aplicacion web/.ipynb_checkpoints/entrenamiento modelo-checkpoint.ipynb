{
 "cells": [
  {
   "cell_type": "markdown",
   "metadata": {},
   "source": [
    "# Entrenamiento, evaluacion y archivado de modelo para aplicacion Web Caso de estudio #3"
   ]
  },
  {
   "cell_type": "code",
   "execution_count": 1,
   "metadata": {},
   "outputs": [],
   "source": [
    "# librerias\n",
    "import numpy as np\n",
    "import math\n",
    "import pandas as pd\n",
    "import matplotlib as mpl\n",
    "import matplotlib.pyplot as plt\n",
    "plt.style.use('classic')\n",
    "%matplotlib inline\n",
    "import seaborn as sns\n",
    "from scipy.io import loadmat\n",
    "import pandas_profiling\n",
    "\n",
    "from numpy.random import seed\n",
    "seed(0)\n",
    "\n",
    "from sklearn.ensemble import RandomForestClassifier\n",
    "from sklearn.metrics import confusion_matrix\n",
    "from sklearn import metrics\n",
    "from sklearn.ensemble import RandomForestClassifier\n",
    "from sklearn.model_selection import GridSearchCV\n",
    "from sklearn.metrics import make_scorer, accuracy_score\n",
    "from plot_metric.functions import BinaryClassification\n",
    "from sklearn.naive_bayes import GaussianNB\n",
    "from sklearn.svm import SVC, LinearSVC\n",
    "from sklearn.neighbors import KNeighborsClassifier\n",
    "from sklearn import tree\n",
    "from sklearn.linear_model import LogisticRegression\n",
    "from sklearn.neural_network import MLPClassifier\n",
    "from yellowbrick.classifier import ConfusionMatrix\n",
    "from sklearn.metrics import classification_report\n",
    "\n",
    "from sklearn.svm import SVC\n",
    "from sklearn.ensemble import BaggingClassifier\n",
    "from sklearn.datasets import make_classification\n",
    "from sklearn.ensemble import ExtraTreesClassifier\n",
    "from sklearn.ensemble import GradientBoostingClassifier\n",
    "\n",
    "from matplotlib import pyplot\n",
    "import pickle\n",
    "import joblib\n",
    "\n",
    "from sklearn.metrics import log_loss"
   ]
  },
  {
   "cell_type": "code",
   "execution_count": 2,
   "metadata": {},
   "outputs": [],
   "source": [
    "# BINARIA funcion para generar matriz de confusion y medidas de desempeño del modelos clasificacion binarios\n",
    "def model_evaluation(data_train, label_train, data_test, label_test, modelo, label_pred):\n",
    "    print('\\n')\n",
    "    print(\"MATRIZ DE CONFUSION\")\n",
    "    print('\\n')\n",
    "    matriz = confusion_matrix(label_test, label_pred)\n",
    "    #print(matriz)\n",
    "    classes = [\"Saludable\",\"Falla Pista Interna\"]\n",
    "    cm = ConfusionMatrix(modelo, classes=classes, label_encoder={0:\"Saludable\", 1:\"Falla Pista Interna\"})\n",
    "    cm.fit(data_train, label_train)\n",
    "    cm.score(data_test, label_test)\n",
    "    cm.show()\n",
    "    # Medidas de desempeño del modelo\n",
    "    print('\\n')\n",
    "    print(\"MEDIDAS DE DESEMPEÑO DEL MODELO\")\n",
    "    print('\\n')\n",
    "    print('Exactitud - Accuracy: {}'.format(modelo.score(data_test, label_test)))\n",
    "    print('ROC AUC: {}'.format (metrics.roc_auc_score(label_test, label_pred)))\n",
    "    print('-'*60)\n",
    "    print('Precisión por clase: {}'.format(metrics.precision_score(label_test, label_pred, average=None)))\n",
    "    print('Sensibilidad - Recall por clase: {}'.format(metrics.recall_score(label_test, label_pred, average=None)))\n",
    "    print('F1 por clase: {}'.format(metrics.f1_score(label_test, label_pred, average=None)))\n",
    "    print('-'*60)\n",
    "    print('F1 Macro: {}'.format(metrics.f1_score(label_test, label_pred, average='macro')))\n",
    "    print('F1 Micro: {}'.format(metrics.f1_score(label_test, label_pred, average='micro')))\n",
    "    print('F1 Weighted: {}'.format(metrics.f1_score(label_test, label_pred, average='weighted')))\n",
    "    print('-'*60)\n",
    "    print('Sensibilidad - Recall Macro: {}'.format(metrics.recall_score(label_test, label_pred, average='macro')))\n",
    "    print('Sensibilidad - Recall Micro: {}'.format(metrics.recall_score(label_test, label_pred, average='micro')))\n",
    "    print('Sensibilidad - Recall Weighted: {}'.format(metrics.recall_score(label_test, label_pred, average='weighted')))\n",
    "    print('-'*60)\n",
    "    print('Precisión Macro: {}'.format(metrics.precision_score(label_test, label_pred, average='macro')))\n",
    "    print('Precisión Micro: {}'.format(metrics.precision_score(label_test, label_pred, average='micro')))\n",
    "    print('Precisión Weighted: {}'.format(metrics.precision_score(label_test, label_pred, average='weighted')))\n",
    "    \n",
    "    TP = matriz[1][1]\n",
    "    TN = matriz[0][0]\n",
    "    FP = matriz[0][1]\n",
    "    FN = matriz[1][0]\n",
    "    print('-'*60)\n",
    "    print('Verdaderos positivos - True Positives:', TP)\n",
    "    print('Verdaderos negativos - True Negatives:', TN)\n",
    "    print('Falsos positivos - False Positives:', FP)\n",
    "    print('Falsos negativos - False Negatives:', FN)\n",
    "        # calculate accuracy\n",
    "    conf_accuracy = (float (TP+TN) / float(TP + TN + FP + FN))\n",
    "        # calculate mis-classification\n",
    "    conf_misclassification = 1- conf_accuracy\n",
    "        # calculate the sensitivity\n",
    "    conf_sensitivity = (TP / float(TP + FN))\n",
    "        # calculate the specificity\n",
    "    conf_specificity = (TN / float(TN + FN))\n",
    "        # calculate precision\n",
    "    conf_precision = (TP / float(TP + FP))\n",
    "        # calculate f_1 score\n",
    "    conf_f1 = 2 * ((conf_precision * conf_sensitivity) / (conf_precision + conf_sensitivity))\n",
    "        # calculate FPR tasa de falsos positivos\n",
    "    conf_FPR = 1 - conf_specificity\n",
    "    print('-'*60)\n",
    "    print(f'Error de clasificacion: {round(conf_misclassification,3)}') \n",
    "    print(f'Especificidad - Specificity: {round(conf_specificity,3)}') \n",
    "    print(f'Tasa de falsos positivos FPR: {round(conf_FPR,3)}')\n",
    "    print('-'*60)\n",
    "   \n",
    "    print(classification_report(label_test, label_pred))\n",
    "    # curva ROC clasificacion binaria\n",
    "    bc = BinaryClassification(label_test, label_pred, labels=[\"Class 0\", \"Class 1\"])\n",
    "    plt.figure(figsize=(5,5))\n",
    "    bc.plot_roc_curve()\n",
    "    print('\\n')\n",
    "    print(\"CURVA ROC\")\n",
    "    plt.show()"
   ]
  },
  {
   "cell_type": "markdown",
   "metadata": {},
   "source": [
    "## Datos rodamiento en estado saludable"
   ]
  },
  {
   "cell_type": "markdown",
   "metadata": {},
   "source": [
    "Archivos:\n",
    "* H-A-1:Datos recopilados estado saludable \n",
    "* H-A-3:Datos recopilados estado saludable \n",
    "\n"
   ]
  },
  {
   "cell_type": "code",
   "execution_count": 3,
   "metadata": {},
   "outputs": [],
   "source": [
    "# importar datos de archivo matlab\n",
    "HA1 = loadmat (r'D:\\alexh\\Documents\\Maestria en estadistica\\proyecto de grado\\bases de datos vibraciones\\rodamientos variando velocidad\\datos de vibraciones\\H-A-1.mat')"
   ]
  },
  {
   "cell_type": "code",
   "execution_count": 4,
   "metadata": {},
   "outputs": [
    {
     "data": {
      "text/plain": [
       "{'__header__': b'MATLAB 5.0 MAT-file, Platform: PCWIN64, Created on: Tue Oct 09 15:18:50 2018',\n",
       " '__version__': '1.0',\n",
       " '__globals__': [],\n",
       " 'Channel_1': array([[-0.00219944],\n",
       "        [-0.0018706 ],\n",
       "        [-0.00154175],\n",
       "        ...,\n",
       "        [ 0.00963905],\n",
       "        [ 0.0093102 ],\n",
       "        [ 0.00898136]]),\n",
       " 'Channel_2': array([[4.18876708],\n",
       "        [4.20060302],\n",
       "        [4.20816487],\n",
       "        ...,\n",
       "        [0.03700339],\n",
       "        [0.03634584],\n",
       "        [4.14010822]])}"
      ]
     },
     "execution_count": 4,
     "metadata": {},
     "output_type": "execute_result"
    }
   ],
   "source": [
    "# ver diccionario\n",
    "HA1"
   ]
  },
  {
   "cell_type": "code",
   "execution_count": 5,
   "metadata": {},
   "outputs": [
    {
     "data": {
      "text/plain": [
       "dict_keys(['__header__', '__version__', '__globals__', 'Channel_1', 'Channel_2'])"
      ]
     },
     "execution_count": 5,
     "metadata": {},
     "output_type": "execute_result"
    }
   ],
   "source": [
    "# nombres de variables\n",
    "HA1.keys()"
   ]
  },
  {
   "cell_type": "code",
   "execution_count": 6,
   "metadata": {},
   "outputs": [
    {
     "data": {
      "text/html": [
       "<div>\n",
       "<style scoped>\n",
       "    .dataframe tbody tr th:only-of-type {\n",
       "        vertical-align: middle;\n",
       "    }\n",
       "\n",
       "    .dataframe tbody tr th {\n",
       "        vertical-align: top;\n",
       "    }\n",
       "\n",
       "    .dataframe thead th {\n",
       "        text-align: right;\n",
       "    }\n",
       "</style>\n",
       "<table border=\"1\" class=\"dataframe\">\n",
       "  <thead>\n",
       "    <tr style=\"text-align: right;\">\n",
       "      <th></th>\n",
       "      <th>aceleracion</th>\n",
       "    </tr>\n",
       "  </thead>\n",
       "  <tbody>\n",
       "    <tr>\n",
       "      <th>0</th>\n",
       "      <td>-0.002199</td>\n",
       "    </tr>\n",
       "    <tr>\n",
       "      <th>1</th>\n",
       "      <td>-0.001871</td>\n",
       "    </tr>\n",
       "    <tr>\n",
       "      <th>2</th>\n",
       "      <td>-0.001542</td>\n",
       "    </tr>\n",
       "    <tr>\n",
       "      <th>3</th>\n",
       "      <td>-0.001871</td>\n",
       "    </tr>\n",
       "    <tr>\n",
       "      <th>4</th>\n",
       "      <td>-0.002199</td>\n",
       "    </tr>\n",
       "  </tbody>\n",
       "</table>\n",
       "</div>"
      ],
      "text/plain": [
       "   aceleracion\n",
       "0    -0.002199\n",
       "1    -0.001871\n",
       "2    -0.001542\n",
       "3    -0.001871\n",
       "4    -0.002199"
      ]
     },
     "execution_count": 6,
     "metadata": {},
     "output_type": "execute_result"
    }
   ],
   "source": [
    "# convertir a dataframe la columna aceleracion\n",
    "HA11=pd.DataFrame(HA1['Channel_1'], columns = ['aceleracion'])\n",
    "HA11.head()"
   ]
  },
  {
   "cell_type": "code",
   "execution_count": 7,
   "metadata": {},
   "outputs": [
    {
     "data": {
      "text/html": [
       "<div>\n",
       "<style scoped>\n",
       "    .dataframe tbody tr th:only-of-type {\n",
       "        vertical-align: middle;\n",
       "    }\n",
       "\n",
       "    .dataframe tbody tr th {\n",
       "        vertical-align: top;\n",
       "    }\n",
       "\n",
       "    .dataframe thead th {\n",
       "        text-align: right;\n",
       "    }\n",
       "</style>\n",
       "<table border=\"1\" class=\"dataframe\">\n",
       "  <thead>\n",
       "    <tr style=\"text-align: right;\">\n",
       "      <th></th>\n",
       "      <th>velocidad</th>\n",
       "    </tr>\n",
       "  </thead>\n",
       "  <tbody>\n",
       "    <tr>\n",
       "      <th>0</th>\n",
       "      <td>4.188767</td>\n",
       "    </tr>\n",
       "    <tr>\n",
       "      <th>1</th>\n",
       "      <td>4.200603</td>\n",
       "    </tr>\n",
       "    <tr>\n",
       "      <th>2</th>\n",
       "      <td>4.208165</td>\n",
       "    </tr>\n",
       "    <tr>\n",
       "      <th>3</th>\n",
       "      <td>4.226576</td>\n",
       "    </tr>\n",
       "    <tr>\n",
       "      <th>4</th>\n",
       "      <td>4.240385</td>\n",
       "    </tr>\n",
       "  </tbody>\n",
       "</table>\n",
       "</div>"
      ],
      "text/plain": [
       "   velocidad\n",
       "0   4.188767\n",
       "1   4.200603\n",
       "2   4.208165\n",
       "3   4.226576\n",
       "4   4.240385"
      ]
     },
     "execution_count": 7,
     "metadata": {},
     "output_type": "execute_result"
    }
   ],
   "source": [
    "# convertir a dataframe la columna velocidad\n",
    "HA12=pd.DataFrame(HA1['Channel_2'], columns = ['velocidad'])\n",
    "HA12.head()"
   ]
  },
  {
   "cell_type": "code",
   "execution_count": 8,
   "metadata": {},
   "outputs": [
    {
     "data": {
      "text/html": [
       "<div>\n",
       "<style scoped>\n",
       "    .dataframe tbody tr th:only-of-type {\n",
       "        vertical-align: middle;\n",
       "    }\n",
       "\n",
       "    .dataframe tbody tr th {\n",
       "        vertical-align: top;\n",
       "    }\n",
       "\n",
       "    .dataframe thead th {\n",
       "        text-align: right;\n",
       "    }\n",
       "</style>\n",
       "<table border=\"1\" class=\"dataframe\">\n",
       "  <thead>\n",
       "    <tr style=\"text-align: right;\">\n",
       "      <th></th>\n",
       "      <th>aceleracion</th>\n",
       "      <th>velocidad</th>\n",
       "    </tr>\n",
       "  </thead>\n",
       "  <tbody>\n",
       "    <tr>\n",
       "      <th>0</th>\n",
       "      <td>-0.002199</td>\n",
       "      <td>4.188767</td>\n",
       "    </tr>\n",
       "    <tr>\n",
       "      <th>1</th>\n",
       "      <td>-0.001871</td>\n",
       "      <td>4.200603</td>\n",
       "    </tr>\n",
       "    <tr>\n",
       "      <th>2</th>\n",
       "      <td>-0.001542</td>\n",
       "      <td>4.208165</td>\n",
       "    </tr>\n",
       "    <tr>\n",
       "      <th>3</th>\n",
       "      <td>-0.001871</td>\n",
       "      <td>4.226576</td>\n",
       "    </tr>\n",
       "    <tr>\n",
       "      <th>4</th>\n",
       "      <td>-0.002199</td>\n",
       "      <td>4.240385</td>\n",
       "    </tr>\n",
       "  </tbody>\n",
       "</table>\n",
       "</div>"
      ],
      "text/plain": [
       "   aceleracion  velocidad\n",
       "0    -0.002199   4.188767\n",
       "1    -0.001871   4.200603\n",
       "2    -0.001542   4.208165\n",
       "3    -0.001871   4.226576\n",
       "4    -0.002199   4.240385"
      ]
     },
     "execution_count": 8,
     "metadata": {},
     "output_type": "execute_result"
    }
   ],
   "source": [
    "# concatenar los dos Dataframe\n",
    "H1train = pd.concat([HA11, HA12], axis=1, sort=False)\n",
    "H1train.head()"
   ]
  },
  {
   "cell_type": "code",
   "execution_count": 9,
   "metadata": {},
   "outputs": [
    {
     "name": "stdout",
     "output_type": "stream",
     "text": [
      "numero de dimensiones = 2\n",
      "tamaño de la tabla  = (2000000, 2)\n",
      "total datos = 4000000\n"
     ]
    }
   ],
   "source": [
    "print(\"numero de dimensiones =\", H1train.ndim)\n",
    "print(\"tamaño de la tabla  =\", H1train.shape)\n",
    "print(\"total datos =\", H1train.size)"
   ]
  },
  {
   "cell_type": "code",
   "execution_count": 10,
   "metadata": {},
   "outputs": [
    {
     "data": {
      "text/plain": [
       "aceleracion    False\n",
       "velocidad      False\n",
       "dtype: bool"
      ]
     },
     "execution_count": 10,
     "metadata": {},
     "output_type": "execute_result"
    }
   ],
   "source": [
    "#hallar si hay nul o NaN\n",
    "H1train.isnull().any()"
   ]
  },
  {
   "cell_type": "code",
   "execution_count": 11,
   "metadata": {},
   "outputs": [
    {
     "data": {
      "text/plain": [
       "aceleracion    False\n",
       "velocidad      False\n",
       "dtype: bool"
      ]
     },
     "execution_count": 11,
     "metadata": {},
     "output_type": "execute_result"
    }
   ],
   "source": [
    "H1train.isna().any()"
   ]
  },
  {
   "cell_type": "code",
   "execution_count": 12,
   "metadata": {},
   "outputs": [
    {
     "data": {
      "text/plain": [
       "aceleracion    0\n",
       "velocidad      0\n",
       "dtype: int64"
      ]
     },
     "execution_count": 12,
     "metadata": {},
     "output_type": "execute_result"
    }
   ],
   "source": [
    "H1train.isnull().sum()"
   ]
  },
  {
   "cell_type": "code",
   "execution_count": 7,
   "metadata": {},
   "outputs": [],
   "source": [
    "# las bases no contienen observaciones con NaN o nul"
   ]
  },
  {
   "cell_type": "markdown",
   "metadata": {},
   "source": [
    "## Etiquetado de datos"
   ]
  },
  {
   "cell_type": "code",
   "execution_count": 13,
   "metadata": {},
   "outputs": [
    {
     "data": {
      "text/html": [
       "<div>\n",
       "<style scoped>\n",
       "    .dataframe tbody tr th:only-of-type {\n",
       "        vertical-align: middle;\n",
       "    }\n",
       "\n",
       "    .dataframe tbody tr th {\n",
       "        vertical-align: top;\n",
       "    }\n",
       "\n",
       "    .dataframe thead th {\n",
       "        text-align: right;\n",
       "    }\n",
       "</style>\n",
       "<table border=\"1\" class=\"dataframe\">\n",
       "  <thead>\n",
       "    <tr style=\"text-align: right;\">\n",
       "      <th></th>\n",
       "      <th>aceleracion</th>\n",
       "      <th>velocidad</th>\n",
       "    </tr>\n",
       "  </thead>\n",
       "  <tbody>\n",
       "    <tr>\n",
       "      <th>0</th>\n",
       "      <td>-0.002199</td>\n",
       "      <td>4.188767</td>\n",
       "    </tr>\n",
       "    <tr>\n",
       "      <th>1</th>\n",
       "      <td>-0.001871</td>\n",
       "      <td>4.200603</td>\n",
       "    </tr>\n",
       "    <tr>\n",
       "      <th>2</th>\n",
       "      <td>-0.001542</td>\n",
       "      <td>4.208165</td>\n",
       "    </tr>\n",
       "    <tr>\n",
       "      <th>3</th>\n",
       "      <td>-0.001871</td>\n",
       "      <td>4.226576</td>\n",
       "    </tr>\n",
       "    <tr>\n",
       "      <th>4</th>\n",
       "      <td>-0.002199</td>\n",
       "      <td>4.240385</td>\n",
       "    </tr>\n",
       "  </tbody>\n",
       "</table>\n",
       "</div>"
      ],
      "text/plain": [
       "   aceleracion  velocidad\n",
       "0    -0.002199   4.188767\n",
       "1    -0.001871   4.200603\n",
       "2    -0.001542   4.208165\n",
       "3    -0.001871   4.226576\n",
       "4    -0.002199   4.240385"
      ]
     },
     "execution_count": 13,
     "metadata": {},
     "output_type": "execute_result"
    }
   ],
   "source": [
    "H1train.head()"
   ]
  },
  {
   "cell_type": "code",
   "execution_count": 14,
   "metadata": {},
   "outputs": [
    {
     "data": {
      "text/html": [
       "<div>\n",
       "<style scoped>\n",
       "    .dataframe tbody tr th:only-of-type {\n",
       "        vertical-align: middle;\n",
       "    }\n",
       "\n",
       "    .dataframe tbody tr th {\n",
       "        vertical-align: top;\n",
       "    }\n",
       "\n",
       "    .dataframe thead th {\n",
       "        text-align: right;\n",
       "    }\n",
       "</style>\n",
       "<table border=\"1\" class=\"dataframe\">\n",
       "  <thead>\n",
       "    <tr style=\"text-align: right;\">\n",
       "      <th></th>\n",
       "      <th>aceleracion</th>\n",
       "      <th>velocidad</th>\n",
       "      <th>falla</th>\n",
       "    </tr>\n",
       "  </thead>\n",
       "  <tbody>\n",
       "    <tr>\n",
       "      <th>0</th>\n",
       "      <td>-0.002199</td>\n",
       "      <td>4.188767</td>\n",
       "      <td>0</td>\n",
       "    </tr>\n",
       "    <tr>\n",
       "      <th>1</th>\n",
       "      <td>-0.001871</td>\n",
       "      <td>4.200603</td>\n",
       "      <td>0</td>\n",
       "    </tr>\n",
       "    <tr>\n",
       "      <th>2</th>\n",
       "      <td>-0.001542</td>\n",
       "      <td>4.208165</td>\n",
       "      <td>0</td>\n",
       "    </tr>\n",
       "    <tr>\n",
       "      <th>3</th>\n",
       "      <td>-0.001871</td>\n",
       "      <td>4.226576</td>\n",
       "      <td>0</td>\n",
       "    </tr>\n",
       "    <tr>\n",
       "      <th>4</th>\n",
       "      <td>-0.002199</td>\n",
       "      <td>4.240385</td>\n",
       "      <td>0</td>\n",
       "    </tr>\n",
       "  </tbody>\n",
       "</table>\n",
       "</div>"
      ],
      "text/plain": [
       "   aceleracion  velocidad  falla\n",
       "0    -0.002199   4.188767      0\n",
       "1    -0.001871   4.200603      0\n",
       "2    -0.001542   4.208165      0\n",
       "3    -0.001871   4.226576      0\n",
       "4    -0.002199   4.240385      0"
      ]
     },
     "execution_count": 14,
     "metadata": {},
     "output_type": "execute_result"
    }
   ],
   "source": [
    "# etiquetado de la columna falla, etiqueta 0 corresponde a estado saludable o normal\n",
    "H1train['falla'] = 0\n",
    "H1train.head()"
   ]
  },
  {
   "cell_type": "code",
   "execution_count": 15,
   "metadata": {},
   "outputs": [
    {
     "data": {
      "text/html": [
       "<div>\n",
       "<style scoped>\n",
       "    .dataframe tbody tr th:only-of-type {\n",
       "        vertical-align: middle;\n",
       "    }\n",
       "\n",
       "    .dataframe tbody tr th {\n",
       "        vertical-align: top;\n",
       "    }\n",
       "\n",
       "    .dataframe thead th {\n",
       "        text-align: right;\n",
       "    }\n",
       "</style>\n",
       "<table border=\"1\" class=\"dataframe\">\n",
       "  <thead>\n",
       "    <tr style=\"text-align: right;\">\n",
       "      <th></th>\n",
       "      <th>id</th>\n",
       "      <th>aceleracion</th>\n",
       "      <th>velocidad</th>\n",
       "      <th>falla</th>\n",
       "    </tr>\n",
       "  </thead>\n",
       "  <tbody>\n",
       "    <tr>\n",
       "      <th>0</th>\n",
       "      <td>1</td>\n",
       "      <td>-0.002199</td>\n",
       "      <td>4.188767</td>\n",
       "      <td>0</td>\n",
       "    </tr>\n",
       "    <tr>\n",
       "      <th>1</th>\n",
       "      <td>1</td>\n",
       "      <td>-0.001871</td>\n",
       "      <td>4.200603</td>\n",
       "      <td>0</td>\n",
       "    </tr>\n",
       "    <tr>\n",
       "      <th>2</th>\n",
       "      <td>1</td>\n",
       "      <td>-0.001542</td>\n",
       "      <td>4.208165</td>\n",
       "      <td>0</td>\n",
       "    </tr>\n",
       "    <tr>\n",
       "      <th>3</th>\n",
       "      <td>1</td>\n",
       "      <td>-0.001871</td>\n",
       "      <td>4.226576</td>\n",
       "      <td>0</td>\n",
       "    </tr>\n",
       "    <tr>\n",
       "      <th>4</th>\n",
       "      <td>1</td>\n",
       "      <td>-0.002199</td>\n",
       "      <td>4.240385</td>\n",
       "      <td>0</td>\n",
       "    </tr>\n",
       "  </tbody>\n",
       "</table>\n",
       "</div>"
      ],
      "text/plain": [
       "   id  aceleracion  velocidad  falla\n",
       "0   1    -0.002199   4.188767      0\n",
       "1   1    -0.001871   4.200603      0\n",
       "2   1    -0.001542   4.208165      0\n",
       "3   1    -0.001871   4.226576      0\n",
       "4   1    -0.002199   4.240385      0"
      ]
     },
     "execution_count": 15,
     "metadata": {},
     "output_type": "execute_result"
    }
   ],
   "source": [
    "# asignar numero de ID al rodamiento\n",
    "H1train.insert(0, 'id', 1)\n",
    "H1train.head()"
   ]
  },
  {
   "cell_type": "code",
   "execution_count": 29,
   "metadata": {},
   "outputs": [],
   "source": [
    "# importar datos de archivo matlab del segundo rodamiento en estado saludable\n",
    "HA3 = loadmat (r'D:\\alexh\\Documents\\Maestria en estadistica\\proyecto de grado\\bases de datos vibraciones\\rodamientos variando velocidad\\datos de vibraciones\\H-A-3.mat')"
   ]
  },
  {
   "cell_type": "code",
   "execution_count": 30,
   "metadata": {},
   "outputs": [
    {
     "data": {
      "text/plain": [
       "{'__header__': b'MATLAB 5.0 MAT-file, Platform: PCWIN64, Created on: Tue Oct 09 15:21:21 2018',\n",
       " '__version__': '1.0',\n",
       " '__globals__': [],\n",
       " 'Channel_1': array([[ 0.00174672],\n",
       "        [ 0.00076018],\n",
       "        [-0.00450137],\n",
       "        ...,\n",
       "        [ 0.02706795],\n",
       "        [ 0.02969873],\n",
       "        [ 0.02871218]]),\n",
       " 'Channel_2': array([[0.03667461],\n",
       "        [0.02812651],\n",
       "        [0.03634584],\n",
       "        ...,\n",
       "        [4.27293377],\n",
       "        [0.03700339],\n",
       "        [0.03667461]])}"
      ]
     },
     "execution_count": 30,
     "metadata": {},
     "output_type": "execute_result"
    }
   ],
   "source": [
    "HA3"
   ]
  },
  {
   "cell_type": "code",
   "execution_count": 31,
   "metadata": {},
   "outputs": [
    {
     "data": {
      "text/plain": [
       "dict_keys(['__header__', '__version__', '__globals__', 'Channel_1', 'Channel_2'])"
      ]
     },
     "execution_count": 31,
     "metadata": {},
     "output_type": "execute_result"
    }
   ],
   "source": [
    "HA3.keys()"
   ]
  },
  {
   "cell_type": "code",
   "execution_count": 32,
   "metadata": {},
   "outputs": [
    {
     "data": {
      "text/html": [
       "<div>\n",
       "<style scoped>\n",
       "    .dataframe tbody tr th:only-of-type {\n",
       "        vertical-align: middle;\n",
       "    }\n",
       "\n",
       "    .dataframe tbody tr th {\n",
       "        vertical-align: top;\n",
       "    }\n",
       "\n",
       "    .dataframe thead th {\n",
       "        text-align: right;\n",
       "    }\n",
       "</style>\n",
       "<table border=\"1\" class=\"dataframe\">\n",
       "  <thead>\n",
       "    <tr style=\"text-align: right;\">\n",
       "      <th></th>\n",
       "      <th>aceleracion</th>\n",
       "    </tr>\n",
       "  </thead>\n",
       "  <tbody>\n",
       "    <tr>\n",
       "      <th>0</th>\n",
       "      <td>0.001747</td>\n",
       "    </tr>\n",
       "    <tr>\n",
       "      <th>1</th>\n",
       "      <td>0.000760</td>\n",
       "    </tr>\n",
       "    <tr>\n",
       "      <th>2</th>\n",
       "      <td>-0.004501</td>\n",
       "    </tr>\n",
       "    <tr>\n",
       "      <th>3</th>\n",
       "      <td>0.000102</td>\n",
       "    </tr>\n",
       "    <tr>\n",
       "      <th>4</th>\n",
       "      <td>0.002404</td>\n",
       "    </tr>\n",
       "  </tbody>\n",
       "</table>\n",
       "</div>"
      ],
      "text/plain": [
       "   aceleracion\n",
       "0     0.001747\n",
       "1     0.000760\n",
       "2    -0.004501\n",
       "3     0.000102\n",
       "4     0.002404"
      ]
     },
     "execution_count": 32,
     "metadata": {},
     "output_type": "execute_result"
    }
   ],
   "source": [
    "HA31=pd.DataFrame(HA3['Channel_1'], columns = ['aceleracion'])\n",
    "HA31.head()"
   ]
  },
  {
   "cell_type": "code",
   "execution_count": 33,
   "metadata": {},
   "outputs": [
    {
     "data": {
      "text/html": [
       "<div>\n",
       "<style scoped>\n",
       "    .dataframe tbody tr th:only-of-type {\n",
       "        vertical-align: middle;\n",
       "    }\n",
       "\n",
       "    .dataframe tbody tr th {\n",
       "        vertical-align: top;\n",
       "    }\n",
       "\n",
       "    .dataframe thead th {\n",
       "        text-align: right;\n",
       "    }\n",
       "</style>\n",
       "<table border=\"1\" class=\"dataframe\">\n",
       "  <thead>\n",
       "    <tr style=\"text-align: right;\">\n",
       "      <th></th>\n",
       "      <th>velocidad</th>\n",
       "    </tr>\n",
       "  </thead>\n",
       "  <tbody>\n",
       "    <tr>\n",
       "      <th>0</th>\n",
       "      <td>0.036675</td>\n",
       "    </tr>\n",
       "    <tr>\n",
       "      <th>1</th>\n",
       "      <td>0.028127</td>\n",
       "    </tr>\n",
       "    <tr>\n",
       "      <th>2</th>\n",
       "      <td>0.036346</td>\n",
       "    </tr>\n",
       "    <tr>\n",
       "      <th>3</th>\n",
       "      <td>0.036346</td>\n",
       "    </tr>\n",
       "    <tr>\n",
       "      <th>4</th>\n",
       "      <td>0.036017</td>\n",
       "    </tr>\n",
       "  </tbody>\n",
       "</table>\n",
       "</div>"
      ],
      "text/plain": [
       "   velocidad\n",
       "0   0.036675\n",
       "1   0.028127\n",
       "2   0.036346\n",
       "3   0.036346\n",
       "4   0.036017"
      ]
     },
     "execution_count": 33,
     "metadata": {},
     "output_type": "execute_result"
    }
   ],
   "source": [
    "HA32=pd.DataFrame(HA3['Channel_2'], columns = ['velocidad'])\n",
    "HA32.head()"
   ]
  },
  {
   "cell_type": "code",
   "execution_count": 34,
   "metadata": {},
   "outputs": [
    {
     "data": {
      "text/html": [
       "<div>\n",
       "<style scoped>\n",
       "    .dataframe tbody tr th:only-of-type {\n",
       "        vertical-align: middle;\n",
       "    }\n",
       "\n",
       "    .dataframe tbody tr th {\n",
       "        vertical-align: top;\n",
       "    }\n",
       "\n",
       "    .dataframe thead th {\n",
       "        text-align: right;\n",
       "    }\n",
       "</style>\n",
       "<table border=\"1\" class=\"dataframe\">\n",
       "  <thead>\n",
       "    <tr style=\"text-align: right;\">\n",
       "      <th></th>\n",
       "      <th>aceleracion</th>\n",
       "      <th>velocidad</th>\n",
       "    </tr>\n",
       "  </thead>\n",
       "  <tbody>\n",
       "    <tr>\n",
       "      <th>0</th>\n",
       "      <td>0.001747</td>\n",
       "      <td>0.036675</td>\n",
       "    </tr>\n",
       "    <tr>\n",
       "      <th>1</th>\n",
       "      <td>0.000760</td>\n",
       "      <td>0.028127</td>\n",
       "    </tr>\n",
       "    <tr>\n",
       "      <th>2</th>\n",
       "      <td>-0.004501</td>\n",
       "      <td>0.036346</td>\n",
       "    </tr>\n",
       "    <tr>\n",
       "      <th>3</th>\n",
       "      <td>0.000102</td>\n",
       "      <td>0.036346</td>\n",
       "    </tr>\n",
       "    <tr>\n",
       "      <th>4</th>\n",
       "      <td>0.002404</td>\n",
       "      <td>0.036017</td>\n",
       "    </tr>\n",
       "  </tbody>\n",
       "</table>\n",
       "</div>"
      ],
      "text/plain": [
       "   aceleracion  velocidad\n",
       "0     0.001747   0.036675\n",
       "1     0.000760   0.028127\n",
       "2    -0.004501   0.036346\n",
       "3     0.000102   0.036346\n",
       "4     0.002404   0.036017"
      ]
     },
     "execution_count": 34,
     "metadata": {},
     "output_type": "execute_result"
    }
   ],
   "source": [
    "# concatenar los dos DF\n",
    "\n",
    "H3train = pd.concat([HA31, HA32], axis=1, sort=False)\n",
    "H3train.head()"
   ]
  },
  {
   "cell_type": "code",
   "execution_count": 35,
   "metadata": {},
   "outputs": [
    {
     "name": "stdout",
     "output_type": "stream",
     "text": [
      "numero de dimensiones = 2\n",
      "tamaño de la tabla  = (2000000, 2)\n",
      "total datos = 4000000\n"
     ]
    }
   ],
   "source": [
    "print(\"numero de dimensiones =\", H3train.ndim)\n",
    "print(\"tamaño de la tabla  =\", H3train.shape)\n",
    "print(\"total datos =\", H3train.size)"
   ]
  },
  {
   "cell_type": "code",
   "execution_count": 36,
   "metadata": {},
   "outputs": [
    {
     "data": {
      "text/plain": [
       "aceleracion    False\n",
       "velocidad      False\n",
       "dtype: bool"
      ]
     },
     "execution_count": 36,
     "metadata": {},
     "output_type": "execute_result"
    }
   ],
   "source": [
    "#hallar si hay nul o NaN\n",
    "H3train.isnull().any()"
   ]
  },
  {
   "cell_type": "code",
   "execution_count": 37,
   "metadata": {},
   "outputs": [
    {
     "data": {
      "text/plain": [
       "aceleracion    False\n",
       "velocidad      False\n",
       "dtype: bool"
      ]
     },
     "execution_count": 37,
     "metadata": {},
     "output_type": "execute_result"
    }
   ],
   "source": [
    "H3train.isna().any()"
   ]
  },
  {
   "cell_type": "code",
   "execution_count": 38,
   "metadata": {},
   "outputs": [
    {
     "data": {
      "text/plain": [
       "aceleracion    0\n",
       "velocidad      0\n",
       "dtype: int64"
      ]
     },
     "execution_count": 38,
     "metadata": {},
     "output_type": "execute_result"
    }
   ],
   "source": [
    "H3train.isnull().sum()"
   ]
  },
  {
   "cell_type": "markdown",
   "metadata": {},
   "source": [
    "## Etiquetado de datos"
   ]
  },
  {
   "cell_type": "code",
   "execution_count": 39,
   "metadata": {},
   "outputs": [
    {
     "data": {
      "text/html": [
       "<div>\n",
       "<style scoped>\n",
       "    .dataframe tbody tr th:only-of-type {\n",
       "        vertical-align: middle;\n",
       "    }\n",
       "\n",
       "    .dataframe tbody tr th {\n",
       "        vertical-align: top;\n",
       "    }\n",
       "\n",
       "    .dataframe thead th {\n",
       "        text-align: right;\n",
       "    }\n",
       "</style>\n",
       "<table border=\"1\" class=\"dataframe\">\n",
       "  <thead>\n",
       "    <tr style=\"text-align: right;\">\n",
       "      <th></th>\n",
       "      <th>aceleracion</th>\n",
       "      <th>velocidad</th>\n",
       "    </tr>\n",
       "  </thead>\n",
       "  <tbody>\n",
       "    <tr>\n",
       "      <th>0</th>\n",
       "      <td>0.001747</td>\n",
       "      <td>0.036675</td>\n",
       "    </tr>\n",
       "    <tr>\n",
       "      <th>1</th>\n",
       "      <td>0.000760</td>\n",
       "      <td>0.028127</td>\n",
       "    </tr>\n",
       "    <tr>\n",
       "      <th>2</th>\n",
       "      <td>-0.004501</td>\n",
       "      <td>0.036346</td>\n",
       "    </tr>\n",
       "    <tr>\n",
       "      <th>3</th>\n",
       "      <td>0.000102</td>\n",
       "      <td>0.036346</td>\n",
       "    </tr>\n",
       "    <tr>\n",
       "      <th>4</th>\n",
       "      <td>0.002404</td>\n",
       "      <td>0.036017</td>\n",
       "    </tr>\n",
       "  </tbody>\n",
       "</table>\n",
       "</div>"
      ],
      "text/plain": [
       "   aceleracion  velocidad\n",
       "0     0.001747   0.036675\n",
       "1     0.000760   0.028127\n",
       "2    -0.004501   0.036346\n",
       "3     0.000102   0.036346\n",
       "4     0.002404   0.036017"
      ]
     },
     "execution_count": 39,
     "metadata": {},
     "output_type": "execute_result"
    }
   ],
   "source": [
    "H3train.head()"
   ]
  },
  {
   "cell_type": "code",
   "execution_count": 40,
   "metadata": {},
   "outputs": [
    {
     "data": {
      "text/html": [
       "<div>\n",
       "<style scoped>\n",
       "    .dataframe tbody tr th:only-of-type {\n",
       "        vertical-align: middle;\n",
       "    }\n",
       "\n",
       "    .dataframe tbody tr th {\n",
       "        vertical-align: top;\n",
       "    }\n",
       "\n",
       "    .dataframe thead th {\n",
       "        text-align: right;\n",
       "    }\n",
       "</style>\n",
       "<table border=\"1\" class=\"dataframe\">\n",
       "  <thead>\n",
       "    <tr style=\"text-align: right;\">\n",
       "      <th></th>\n",
       "      <th>aceleracion</th>\n",
       "      <th>velocidad</th>\n",
       "      <th>falla</th>\n",
       "    </tr>\n",
       "  </thead>\n",
       "  <tbody>\n",
       "    <tr>\n",
       "      <th>0</th>\n",
       "      <td>0.001747</td>\n",
       "      <td>0.036675</td>\n",
       "      <td>0</td>\n",
       "    </tr>\n",
       "    <tr>\n",
       "      <th>1</th>\n",
       "      <td>0.000760</td>\n",
       "      <td>0.028127</td>\n",
       "      <td>0</td>\n",
       "    </tr>\n",
       "    <tr>\n",
       "      <th>2</th>\n",
       "      <td>-0.004501</td>\n",
       "      <td>0.036346</td>\n",
       "      <td>0</td>\n",
       "    </tr>\n",
       "    <tr>\n",
       "      <th>3</th>\n",
       "      <td>0.000102</td>\n",
       "      <td>0.036346</td>\n",
       "      <td>0</td>\n",
       "    </tr>\n",
       "    <tr>\n",
       "      <th>4</th>\n",
       "      <td>0.002404</td>\n",
       "      <td>0.036017</td>\n",
       "      <td>0</td>\n",
       "    </tr>\n",
       "  </tbody>\n",
       "</table>\n",
       "</div>"
      ],
      "text/plain": [
       "   aceleracion  velocidad  falla\n",
       "0     0.001747   0.036675      0\n",
       "1     0.000760   0.028127      0\n",
       "2    -0.004501   0.036346      0\n",
       "3     0.000102   0.036346      0\n",
       "4     0.002404   0.036017      0"
      ]
     },
     "execution_count": 40,
     "metadata": {},
     "output_type": "execute_result"
    }
   ],
   "source": [
    "H3train['falla'] = 0\n",
    "H3train.head()"
   ]
  },
  {
   "cell_type": "code",
   "execution_count": 41,
   "metadata": {},
   "outputs": [
    {
     "data": {
      "text/html": [
       "<div>\n",
       "<style scoped>\n",
       "    .dataframe tbody tr th:only-of-type {\n",
       "        vertical-align: middle;\n",
       "    }\n",
       "\n",
       "    .dataframe tbody tr th {\n",
       "        vertical-align: top;\n",
       "    }\n",
       "\n",
       "    .dataframe thead th {\n",
       "        text-align: right;\n",
       "    }\n",
       "</style>\n",
       "<table border=\"1\" class=\"dataframe\">\n",
       "  <thead>\n",
       "    <tr style=\"text-align: right;\">\n",
       "      <th></th>\n",
       "      <th>id</th>\n",
       "      <th>aceleracion</th>\n",
       "      <th>velocidad</th>\n",
       "      <th>falla</th>\n",
       "    </tr>\n",
       "  </thead>\n",
       "  <tbody>\n",
       "    <tr>\n",
       "      <th>0</th>\n",
       "      <td>1</td>\n",
       "      <td>0.001747</td>\n",
       "      <td>0.036675</td>\n",
       "      <td>0</td>\n",
       "    </tr>\n",
       "    <tr>\n",
       "      <th>1</th>\n",
       "      <td>1</td>\n",
       "      <td>0.000760</td>\n",
       "      <td>0.028127</td>\n",
       "      <td>0</td>\n",
       "    </tr>\n",
       "    <tr>\n",
       "      <th>2</th>\n",
       "      <td>1</td>\n",
       "      <td>-0.004501</td>\n",
       "      <td>0.036346</td>\n",
       "      <td>0</td>\n",
       "    </tr>\n",
       "    <tr>\n",
       "      <th>3</th>\n",
       "      <td>1</td>\n",
       "      <td>0.000102</td>\n",
       "      <td>0.036346</td>\n",
       "      <td>0</td>\n",
       "    </tr>\n",
       "    <tr>\n",
       "      <th>4</th>\n",
       "      <td>1</td>\n",
       "      <td>0.002404</td>\n",
       "      <td>0.036017</td>\n",
       "      <td>0</td>\n",
       "    </tr>\n",
       "  </tbody>\n",
       "</table>\n",
       "</div>"
      ],
      "text/plain": [
       "   id  aceleracion  velocidad  falla\n",
       "0   1     0.001747   0.036675      0\n",
       "1   1     0.000760   0.028127      0\n",
       "2   1    -0.004501   0.036346      0\n",
       "3   1     0.000102   0.036346      0\n",
       "4   1     0.002404   0.036017      0"
      ]
     },
     "execution_count": 41,
     "metadata": {},
     "output_type": "execute_result"
    }
   ],
   "source": [
    "H3train.insert(0, 'id', 1)\n",
    "H3train.head()"
   ]
  },
  {
   "cell_type": "markdown",
   "metadata": {},
   "source": [
    "## Datos recopilados de un rodamiento con falla en pista interna"
   ]
  },
  {
   "cell_type": "markdown",
   "metadata": {},
   "source": [
    "Archivos:\n",
    "* I-A-1:Datos recopilados estado falla pista interna \n",
    "* I-A-3:Datos recopilados estado falla pista interna \n",
    "\n"
   ]
  },
  {
   "cell_type": "code",
   "execution_count": 42,
   "metadata": {},
   "outputs": [],
   "source": [
    "# importar datos de archivo matlab datos rodamiento falla en pista interna\n",
    "IA1 = loadmat (r'D:\\alexh\\Documents\\Maestria en estadistica\\proyecto de grado\\bases de datos vibraciones\\rodamientos variando velocidad\\datos de vibraciones\\I-A-1.mat')"
   ]
  },
  {
   "cell_type": "code",
   "execution_count": 43,
   "metadata": {},
   "outputs": [
    {
     "data": {
      "text/plain": [
       "{'__header__': b'MATLAB 5.0 MAT-file, Platform: PCWIN64, Created on: Tue Oct 09 17:52:06 2018',\n",
       " '__version__': '1.0',\n",
       " '__globals__': [],\n",
       " 'Channel_1': array([[0.24871092],\n",
       "        [0.24903977],\n",
       "        [0.24838208],\n",
       "        ...,\n",
       "        [0.32927848],\n",
       "        [0.26581098],\n",
       "        [0.1648549 ]]),\n",
       " 'Channel_2': array([[0.0379897 ],\n",
       "        [0.03766093],\n",
       "        [0.0379897 ],\n",
       "        ...,\n",
       "        [4.20684976],\n",
       "        [4.22887776],\n",
       "        [4.29200278]])}"
      ]
     },
     "execution_count": 43,
     "metadata": {},
     "output_type": "execute_result"
    }
   ],
   "source": [
    "IA1"
   ]
  },
  {
   "cell_type": "code",
   "execution_count": 44,
   "metadata": {},
   "outputs": [
    {
     "data": {
      "text/plain": [
       "dict_keys(['__header__', '__version__', '__globals__', 'Channel_1', 'Channel_2'])"
      ]
     },
     "execution_count": 44,
     "metadata": {},
     "output_type": "execute_result"
    }
   ],
   "source": [
    "IA1.keys()"
   ]
  },
  {
   "cell_type": "code",
   "execution_count": 45,
   "metadata": {},
   "outputs": [
    {
     "data": {
      "text/html": [
       "<div>\n",
       "<style scoped>\n",
       "    .dataframe tbody tr th:only-of-type {\n",
       "        vertical-align: middle;\n",
       "    }\n",
       "\n",
       "    .dataframe tbody tr th {\n",
       "        vertical-align: top;\n",
       "    }\n",
       "\n",
       "    .dataframe thead th {\n",
       "        text-align: right;\n",
       "    }\n",
       "</style>\n",
       "<table border=\"1\" class=\"dataframe\">\n",
       "  <thead>\n",
       "    <tr style=\"text-align: right;\">\n",
       "      <th></th>\n",
       "      <th>aceleracion</th>\n",
       "    </tr>\n",
       "  </thead>\n",
       "  <tbody>\n",
       "    <tr>\n",
       "      <th>0</th>\n",
       "      <td>0.248711</td>\n",
       "    </tr>\n",
       "    <tr>\n",
       "      <th>1</th>\n",
       "      <td>0.249040</td>\n",
       "    </tr>\n",
       "    <tr>\n",
       "      <th>2</th>\n",
       "      <td>0.248382</td>\n",
       "    </tr>\n",
       "    <tr>\n",
       "      <th>3</th>\n",
       "      <td>0.250355</td>\n",
       "    </tr>\n",
       "    <tr>\n",
       "      <th>4</th>\n",
       "      <td>0.251013</td>\n",
       "    </tr>\n",
       "  </tbody>\n",
       "</table>\n",
       "</div>"
      ],
      "text/plain": [
       "   aceleracion\n",
       "0     0.248711\n",
       "1     0.249040\n",
       "2     0.248382\n",
       "3     0.250355\n",
       "4     0.251013"
      ]
     },
     "execution_count": 45,
     "metadata": {},
     "output_type": "execute_result"
    }
   ],
   "source": [
    "IA11=pd.DataFrame(IA1['Channel_1'], columns = ['aceleracion'])\n",
    "IA11.head()"
   ]
  },
  {
   "cell_type": "code",
   "execution_count": 46,
   "metadata": {},
   "outputs": [
    {
     "data": {
      "text/html": [
       "<div>\n",
       "<style scoped>\n",
       "    .dataframe tbody tr th:only-of-type {\n",
       "        vertical-align: middle;\n",
       "    }\n",
       "\n",
       "    .dataframe tbody tr th {\n",
       "        vertical-align: top;\n",
       "    }\n",
       "\n",
       "    .dataframe thead th {\n",
       "        text-align: right;\n",
       "    }\n",
       "</style>\n",
       "<table border=\"1\" class=\"dataframe\">\n",
       "  <thead>\n",
       "    <tr style=\"text-align: right;\">\n",
       "      <th></th>\n",
       "      <th>velocidad</th>\n",
       "    </tr>\n",
       "  </thead>\n",
       "  <tbody>\n",
       "    <tr>\n",
       "      <th>0</th>\n",
       "      <td>0.037990</td>\n",
       "    </tr>\n",
       "    <tr>\n",
       "      <th>1</th>\n",
       "      <td>0.037661</td>\n",
       "    </tr>\n",
       "    <tr>\n",
       "      <th>2</th>\n",
       "      <td>0.037990</td>\n",
       "    </tr>\n",
       "    <tr>\n",
       "      <th>3</th>\n",
       "      <td>0.037661</td>\n",
       "    </tr>\n",
       "    <tr>\n",
       "      <th>4</th>\n",
       "      <td>0.037332</td>\n",
       "    </tr>\n",
       "  </tbody>\n",
       "</table>\n",
       "</div>"
      ],
      "text/plain": [
       "   velocidad\n",
       "0   0.037990\n",
       "1   0.037661\n",
       "2   0.037990\n",
       "3   0.037661\n",
       "4   0.037332"
      ]
     },
     "execution_count": 46,
     "metadata": {},
     "output_type": "execute_result"
    }
   ],
   "source": [
    "IA12=pd.DataFrame(IA1['Channel_2'], columns = ['velocidad'])\n",
    "IA12.head()"
   ]
  },
  {
   "cell_type": "code",
   "execution_count": 47,
   "metadata": {},
   "outputs": [
    {
     "data": {
      "text/html": [
       "<div>\n",
       "<style scoped>\n",
       "    .dataframe tbody tr th:only-of-type {\n",
       "        vertical-align: middle;\n",
       "    }\n",
       "\n",
       "    .dataframe tbody tr th {\n",
       "        vertical-align: top;\n",
       "    }\n",
       "\n",
       "    .dataframe thead th {\n",
       "        text-align: right;\n",
       "    }\n",
       "</style>\n",
       "<table border=\"1\" class=\"dataframe\">\n",
       "  <thead>\n",
       "    <tr style=\"text-align: right;\">\n",
       "      <th></th>\n",
       "      <th>aceleracion</th>\n",
       "      <th>velocidad</th>\n",
       "    </tr>\n",
       "  </thead>\n",
       "  <tbody>\n",
       "    <tr>\n",
       "      <th>0</th>\n",
       "      <td>0.248711</td>\n",
       "      <td>0.037990</td>\n",
       "    </tr>\n",
       "    <tr>\n",
       "      <th>1</th>\n",
       "      <td>0.249040</td>\n",
       "      <td>0.037661</td>\n",
       "    </tr>\n",
       "    <tr>\n",
       "      <th>2</th>\n",
       "      <td>0.248382</td>\n",
       "      <td>0.037990</td>\n",
       "    </tr>\n",
       "    <tr>\n",
       "      <th>3</th>\n",
       "      <td>0.250355</td>\n",
       "      <td>0.037661</td>\n",
       "    </tr>\n",
       "    <tr>\n",
       "      <th>4</th>\n",
       "      <td>0.251013</td>\n",
       "      <td>0.037332</td>\n",
       "    </tr>\n",
       "  </tbody>\n",
       "</table>\n",
       "</div>"
      ],
      "text/plain": [
       "   aceleracion  velocidad\n",
       "0     0.248711   0.037990\n",
       "1     0.249040   0.037661\n",
       "2     0.248382   0.037990\n",
       "3     0.250355   0.037661\n",
       "4     0.251013   0.037332"
      ]
     },
     "execution_count": 47,
     "metadata": {},
     "output_type": "execute_result"
    }
   ],
   "source": [
    "# concatenar los dos DF\n",
    "\n",
    "I1train = pd.concat([IA11, IA12], axis=1, sort=False)\n",
    "I1train.head()"
   ]
  },
  {
   "cell_type": "code",
   "execution_count": 48,
   "metadata": {},
   "outputs": [
    {
     "name": "stdout",
     "output_type": "stream",
     "text": [
      "numero de dimensiones = 2\n",
      "tamaño de la tabla  = (2000000, 2)\n",
      "total datos = 4000000\n"
     ]
    }
   ],
   "source": [
    "print(\"numero de dimensiones =\", I1train.ndim)\n",
    "print(\"tamaño de la tabla  =\", I1train.shape)\n",
    "print(\"total datos =\", I1train.size)"
   ]
  },
  {
   "cell_type": "code",
   "execution_count": 49,
   "metadata": {},
   "outputs": [
    {
     "data": {
      "text/plain": [
       "aceleracion    False\n",
       "velocidad      False\n",
       "dtype: bool"
      ]
     },
     "execution_count": 49,
     "metadata": {},
     "output_type": "execute_result"
    }
   ],
   "source": [
    "#hallar si hay nul o NaN\n",
    "I1train.isnull().any()"
   ]
  },
  {
   "cell_type": "code",
   "execution_count": 50,
   "metadata": {},
   "outputs": [
    {
     "data": {
      "text/plain": [
       "aceleracion    False\n",
       "velocidad      False\n",
       "dtype: bool"
      ]
     },
     "execution_count": 50,
     "metadata": {},
     "output_type": "execute_result"
    }
   ],
   "source": [
    "I1train.isna().any()"
   ]
  },
  {
   "cell_type": "code",
   "execution_count": 51,
   "metadata": {},
   "outputs": [
    {
     "data": {
      "text/plain": [
       "aceleracion    0\n",
       "velocidad      0\n",
       "dtype: int64"
      ]
     },
     "execution_count": 51,
     "metadata": {},
     "output_type": "execute_result"
    }
   ],
   "source": [
    "I1train.isnull().sum()"
   ]
  },
  {
   "cell_type": "markdown",
   "metadata": {},
   "source": [
    "## Etiquetado de datos"
   ]
  },
  {
   "cell_type": "code",
   "execution_count": 52,
   "metadata": {},
   "outputs": [
    {
     "data": {
      "text/html": [
       "<div>\n",
       "<style scoped>\n",
       "    .dataframe tbody tr th:only-of-type {\n",
       "        vertical-align: middle;\n",
       "    }\n",
       "\n",
       "    .dataframe tbody tr th {\n",
       "        vertical-align: top;\n",
       "    }\n",
       "\n",
       "    .dataframe thead th {\n",
       "        text-align: right;\n",
       "    }\n",
       "</style>\n",
       "<table border=\"1\" class=\"dataframe\">\n",
       "  <thead>\n",
       "    <tr style=\"text-align: right;\">\n",
       "      <th></th>\n",
       "      <th>aceleracion</th>\n",
       "      <th>velocidad</th>\n",
       "    </tr>\n",
       "  </thead>\n",
       "  <tbody>\n",
       "    <tr>\n",
       "      <th>0</th>\n",
       "      <td>0.248711</td>\n",
       "      <td>0.037990</td>\n",
       "    </tr>\n",
       "    <tr>\n",
       "      <th>1</th>\n",
       "      <td>0.249040</td>\n",
       "      <td>0.037661</td>\n",
       "    </tr>\n",
       "    <tr>\n",
       "      <th>2</th>\n",
       "      <td>0.248382</td>\n",
       "      <td>0.037990</td>\n",
       "    </tr>\n",
       "    <tr>\n",
       "      <th>3</th>\n",
       "      <td>0.250355</td>\n",
       "      <td>0.037661</td>\n",
       "    </tr>\n",
       "    <tr>\n",
       "      <th>4</th>\n",
       "      <td>0.251013</td>\n",
       "      <td>0.037332</td>\n",
       "    </tr>\n",
       "  </tbody>\n",
       "</table>\n",
       "</div>"
      ],
      "text/plain": [
       "   aceleracion  velocidad\n",
       "0     0.248711   0.037990\n",
       "1     0.249040   0.037661\n",
       "2     0.248382   0.037990\n",
       "3     0.250355   0.037661\n",
       "4     0.251013   0.037332"
      ]
     },
     "execution_count": 52,
     "metadata": {},
     "output_type": "execute_result"
    }
   ],
   "source": [
    "I1train.head()"
   ]
  },
  {
   "cell_type": "code",
   "execution_count": 53,
   "metadata": {},
   "outputs": [
    {
     "data": {
      "text/html": [
       "<div>\n",
       "<style scoped>\n",
       "    .dataframe tbody tr th:only-of-type {\n",
       "        vertical-align: middle;\n",
       "    }\n",
       "\n",
       "    .dataframe tbody tr th {\n",
       "        vertical-align: top;\n",
       "    }\n",
       "\n",
       "    .dataframe thead th {\n",
       "        text-align: right;\n",
       "    }\n",
       "</style>\n",
       "<table border=\"1\" class=\"dataframe\">\n",
       "  <thead>\n",
       "    <tr style=\"text-align: right;\">\n",
       "      <th></th>\n",
       "      <th>aceleracion</th>\n",
       "      <th>velocidad</th>\n",
       "      <th>falla</th>\n",
       "    </tr>\n",
       "  </thead>\n",
       "  <tbody>\n",
       "    <tr>\n",
       "      <th>0</th>\n",
       "      <td>0.248711</td>\n",
       "      <td>0.037990</td>\n",
       "      <td>1</td>\n",
       "    </tr>\n",
       "    <tr>\n",
       "      <th>1</th>\n",
       "      <td>0.249040</td>\n",
       "      <td>0.037661</td>\n",
       "      <td>1</td>\n",
       "    </tr>\n",
       "    <tr>\n",
       "      <th>2</th>\n",
       "      <td>0.248382</td>\n",
       "      <td>0.037990</td>\n",
       "      <td>1</td>\n",
       "    </tr>\n",
       "    <tr>\n",
       "      <th>3</th>\n",
       "      <td>0.250355</td>\n",
       "      <td>0.037661</td>\n",
       "      <td>1</td>\n",
       "    </tr>\n",
       "    <tr>\n",
       "      <th>4</th>\n",
       "      <td>0.251013</td>\n",
       "      <td>0.037332</td>\n",
       "      <td>1</td>\n",
       "    </tr>\n",
       "  </tbody>\n",
       "</table>\n",
       "</div>"
      ],
      "text/plain": [
       "   aceleracion  velocidad  falla\n",
       "0     0.248711   0.037990      1\n",
       "1     0.249040   0.037661      1\n",
       "2     0.248382   0.037990      1\n",
       "3     0.250355   0.037661      1\n",
       "4     0.251013   0.037332      1"
      ]
     },
     "execution_count": 53,
     "metadata": {},
     "output_type": "execute_result"
    }
   ],
   "source": [
    "# etiquetado de datos, asignacion etiqueta =1 que correspode a falla en pista interna\n",
    "I1train['falla'] = 1\n",
    "I1train.head()"
   ]
  },
  {
   "cell_type": "code",
   "execution_count": 54,
   "metadata": {},
   "outputs": [
    {
     "data": {
      "text/html": [
       "<div>\n",
       "<style scoped>\n",
       "    .dataframe tbody tr th:only-of-type {\n",
       "        vertical-align: middle;\n",
       "    }\n",
       "\n",
       "    .dataframe tbody tr th {\n",
       "        vertical-align: top;\n",
       "    }\n",
       "\n",
       "    .dataframe thead th {\n",
       "        text-align: right;\n",
       "    }\n",
       "</style>\n",
       "<table border=\"1\" class=\"dataframe\">\n",
       "  <thead>\n",
       "    <tr style=\"text-align: right;\">\n",
       "      <th></th>\n",
       "      <th>id</th>\n",
       "      <th>aceleracion</th>\n",
       "      <th>velocidad</th>\n",
       "      <th>falla</th>\n",
       "    </tr>\n",
       "  </thead>\n",
       "  <tbody>\n",
       "    <tr>\n",
       "      <th>0</th>\n",
       "      <td>1</td>\n",
       "      <td>0.248711</td>\n",
       "      <td>0.037990</td>\n",
       "      <td>1</td>\n",
       "    </tr>\n",
       "    <tr>\n",
       "      <th>1</th>\n",
       "      <td>1</td>\n",
       "      <td>0.249040</td>\n",
       "      <td>0.037661</td>\n",
       "      <td>1</td>\n",
       "    </tr>\n",
       "    <tr>\n",
       "      <th>2</th>\n",
       "      <td>1</td>\n",
       "      <td>0.248382</td>\n",
       "      <td>0.037990</td>\n",
       "      <td>1</td>\n",
       "    </tr>\n",
       "    <tr>\n",
       "      <th>3</th>\n",
       "      <td>1</td>\n",
       "      <td>0.250355</td>\n",
       "      <td>0.037661</td>\n",
       "      <td>1</td>\n",
       "    </tr>\n",
       "    <tr>\n",
       "      <th>4</th>\n",
       "      <td>1</td>\n",
       "      <td>0.251013</td>\n",
       "      <td>0.037332</td>\n",
       "      <td>1</td>\n",
       "    </tr>\n",
       "  </tbody>\n",
       "</table>\n",
       "</div>"
      ],
      "text/plain": [
       "   id  aceleracion  velocidad  falla\n",
       "0   1     0.248711   0.037990      1\n",
       "1   1     0.249040   0.037661      1\n",
       "2   1     0.248382   0.037990      1\n",
       "3   1     0.250355   0.037661      1\n",
       "4   1     0.251013   0.037332      1"
      ]
     },
     "execution_count": 54,
     "metadata": {},
     "output_type": "execute_result"
    }
   ],
   "source": [
    "I1train.insert(0, 'id', 1)\n",
    "I1train.head()"
   ]
  },
  {
   "cell_type": "code",
   "execution_count": 68,
   "metadata": {},
   "outputs": [],
   "source": [
    "# importar datos de archivo matlab del segundo rodamiento con falla en pista interna\n",
    "IA3 = loadmat (r'D:\\alexh\\Documents\\Maestria en estadistica\\proyecto de grado\\bases de datos vibraciones\\rodamientos variando velocidad\\datos de vibraciones\\I-A-3.mat')"
   ]
  },
  {
   "cell_type": "code",
   "execution_count": 69,
   "metadata": {},
   "outputs": [
    {
     "data": {
      "text/plain": [
       "{'__header__': b'MATLAB 5.0 MAT-file, Platform: PCWIN64, Created on: Tue Oct 09 17:52:19 2018',\n",
       " '__version__': '1.0',\n",
       " '__globals__': [],\n",
       " 'Channel_1': array([[-0.01403794],\n",
       "        [-0.007461  ],\n",
       "        [-0.00252829],\n",
       "        ...,\n",
       "        [ 0.01818908],\n",
       "        [-0.00088406],\n",
       "        [ 0.00043133]]),\n",
       " 'Channel_2': array([[0.03766093],\n",
       "        [3.61998493],\n",
       "        [4.17397216],\n",
       "        ...,\n",
       "        [4.25583741],\n",
       "        [0.03733216],\n",
       "        [0.03766093]])}"
      ]
     },
     "execution_count": 69,
     "metadata": {},
     "output_type": "execute_result"
    }
   ],
   "source": [
    "IA3"
   ]
  },
  {
   "cell_type": "code",
   "execution_count": 70,
   "metadata": {},
   "outputs": [
    {
     "data": {
      "text/plain": [
       "dict_keys(['__header__', '__version__', '__globals__', 'Channel_1', 'Channel_2'])"
      ]
     },
     "execution_count": 70,
     "metadata": {},
     "output_type": "execute_result"
    }
   ],
   "source": [
    "IA3.keys()"
   ]
  },
  {
   "cell_type": "code",
   "execution_count": 71,
   "metadata": {},
   "outputs": [
    {
     "data": {
      "text/html": [
       "<div>\n",
       "<style scoped>\n",
       "    .dataframe tbody tr th:only-of-type {\n",
       "        vertical-align: middle;\n",
       "    }\n",
       "\n",
       "    .dataframe tbody tr th {\n",
       "        vertical-align: top;\n",
       "    }\n",
       "\n",
       "    .dataframe thead th {\n",
       "        text-align: right;\n",
       "    }\n",
       "</style>\n",
       "<table border=\"1\" class=\"dataframe\">\n",
       "  <thead>\n",
       "    <tr style=\"text-align: right;\">\n",
       "      <th></th>\n",
       "      <th>aceleracion</th>\n",
       "    </tr>\n",
       "  </thead>\n",
       "  <tbody>\n",
       "    <tr>\n",
       "      <th>0</th>\n",
       "      <td>-0.014038</td>\n",
       "    </tr>\n",
       "    <tr>\n",
       "      <th>1</th>\n",
       "      <td>-0.007461</td>\n",
       "    </tr>\n",
       "    <tr>\n",
       "      <th>2</th>\n",
       "      <td>-0.002528</td>\n",
       "    </tr>\n",
       "    <tr>\n",
       "      <th>3</th>\n",
       "      <td>0.000431</td>\n",
       "    </tr>\n",
       "    <tr>\n",
       "      <th>4</th>\n",
       "      <td>-0.002199</td>\n",
       "    </tr>\n",
       "  </tbody>\n",
       "</table>\n",
       "</div>"
      ],
      "text/plain": [
       "   aceleracion\n",
       "0    -0.014038\n",
       "1    -0.007461\n",
       "2    -0.002528\n",
       "3     0.000431\n",
       "4    -0.002199"
      ]
     },
     "execution_count": 71,
     "metadata": {},
     "output_type": "execute_result"
    }
   ],
   "source": [
    "IA31=pd.DataFrame(IA3['Channel_1'], columns = ['aceleracion'])\n",
    "IA31.head()"
   ]
  },
  {
   "cell_type": "code",
   "execution_count": 72,
   "metadata": {},
   "outputs": [
    {
     "data": {
      "text/html": [
       "<div>\n",
       "<style scoped>\n",
       "    .dataframe tbody tr th:only-of-type {\n",
       "        vertical-align: middle;\n",
       "    }\n",
       "\n",
       "    .dataframe tbody tr th {\n",
       "        vertical-align: top;\n",
       "    }\n",
       "\n",
       "    .dataframe thead th {\n",
       "        text-align: right;\n",
       "    }\n",
       "</style>\n",
       "<table border=\"1\" class=\"dataframe\">\n",
       "  <thead>\n",
       "    <tr style=\"text-align: right;\">\n",
       "      <th></th>\n",
       "      <th>velocidad</th>\n",
       "    </tr>\n",
       "  </thead>\n",
       "  <tbody>\n",
       "    <tr>\n",
       "      <th>0</th>\n",
       "      <td>0.037661</td>\n",
       "    </tr>\n",
       "    <tr>\n",
       "      <th>1</th>\n",
       "      <td>3.619985</td>\n",
       "    </tr>\n",
       "    <tr>\n",
       "      <th>2</th>\n",
       "      <td>4.173972</td>\n",
       "    </tr>\n",
       "    <tr>\n",
       "      <th>3</th>\n",
       "      <td>4.198302</td>\n",
       "    </tr>\n",
       "    <tr>\n",
       "      <th>4</th>\n",
       "      <td>4.213425</td>\n",
       "    </tr>\n",
       "  </tbody>\n",
       "</table>\n",
       "</div>"
      ],
      "text/plain": [
       "   velocidad\n",
       "0   0.037661\n",
       "1   3.619985\n",
       "2   4.173972\n",
       "3   4.198302\n",
       "4   4.213425"
      ]
     },
     "execution_count": 72,
     "metadata": {},
     "output_type": "execute_result"
    }
   ],
   "source": [
    "IA32=pd.DataFrame(IA3['Channel_2'], columns = ['velocidad'])\n",
    "IA32.head()"
   ]
  },
  {
   "cell_type": "code",
   "execution_count": 73,
   "metadata": {},
   "outputs": [
    {
     "data": {
      "text/html": [
       "<div>\n",
       "<style scoped>\n",
       "    .dataframe tbody tr th:only-of-type {\n",
       "        vertical-align: middle;\n",
       "    }\n",
       "\n",
       "    .dataframe tbody tr th {\n",
       "        vertical-align: top;\n",
       "    }\n",
       "\n",
       "    .dataframe thead th {\n",
       "        text-align: right;\n",
       "    }\n",
       "</style>\n",
       "<table border=\"1\" class=\"dataframe\">\n",
       "  <thead>\n",
       "    <tr style=\"text-align: right;\">\n",
       "      <th></th>\n",
       "      <th>aceleracion</th>\n",
       "      <th>velocidad</th>\n",
       "    </tr>\n",
       "  </thead>\n",
       "  <tbody>\n",
       "    <tr>\n",
       "      <th>0</th>\n",
       "      <td>-0.014038</td>\n",
       "      <td>0.037661</td>\n",
       "    </tr>\n",
       "    <tr>\n",
       "      <th>1</th>\n",
       "      <td>-0.007461</td>\n",
       "      <td>3.619985</td>\n",
       "    </tr>\n",
       "    <tr>\n",
       "      <th>2</th>\n",
       "      <td>-0.002528</td>\n",
       "      <td>4.173972</td>\n",
       "    </tr>\n",
       "    <tr>\n",
       "      <th>3</th>\n",
       "      <td>0.000431</td>\n",
       "      <td>4.198302</td>\n",
       "    </tr>\n",
       "    <tr>\n",
       "      <th>4</th>\n",
       "      <td>-0.002199</td>\n",
       "      <td>4.213425</td>\n",
       "    </tr>\n",
       "  </tbody>\n",
       "</table>\n",
       "</div>"
      ],
      "text/plain": [
       "   aceleracion  velocidad\n",
       "0    -0.014038   0.037661\n",
       "1    -0.007461   3.619985\n",
       "2    -0.002528   4.173972\n",
       "3     0.000431   4.198302\n",
       "4    -0.002199   4.213425"
      ]
     },
     "execution_count": 73,
     "metadata": {},
     "output_type": "execute_result"
    }
   ],
   "source": [
    "# concatenar los dos DF\n",
    "\n",
    "I3train = pd.concat([IA31, IA32], axis=1, sort=False)\n",
    "I3train.head()"
   ]
  },
  {
   "cell_type": "code",
   "execution_count": 74,
   "metadata": {},
   "outputs": [
    {
     "name": "stdout",
     "output_type": "stream",
     "text": [
      "numero de dimensiones = 2\n",
      "tamaño de la tabla  = (2000000, 2)\n",
      "total datos = 4000000\n"
     ]
    }
   ],
   "source": [
    "print(\"numero de dimensiones =\", I3train.ndim)\n",
    "print(\"tamaño de la tabla  =\", I3train.shape)\n",
    "print(\"total datos =\", I3train.size)"
   ]
  },
  {
   "cell_type": "code",
   "execution_count": 75,
   "metadata": {},
   "outputs": [
    {
     "data": {
      "text/plain": [
       "aceleracion    False\n",
       "velocidad      False\n",
       "dtype: bool"
      ]
     },
     "execution_count": 75,
     "metadata": {},
     "output_type": "execute_result"
    }
   ],
   "source": [
    "#hallar si hay nul o NaN\n",
    "I3train.isnull().any()"
   ]
  },
  {
   "cell_type": "code",
   "execution_count": 76,
   "metadata": {},
   "outputs": [
    {
     "data": {
      "text/plain": [
       "aceleracion    False\n",
       "velocidad      False\n",
       "dtype: bool"
      ]
     },
     "execution_count": 76,
     "metadata": {},
     "output_type": "execute_result"
    }
   ],
   "source": [
    "I3train.isna().any()"
   ]
  },
  {
   "cell_type": "code",
   "execution_count": 77,
   "metadata": {},
   "outputs": [
    {
     "data": {
      "text/plain": [
       "aceleracion    0\n",
       "velocidad      0\n",
       "dtype: int64"
      ]
     },
     "execution_count": 77,
     "metadata": {},
     "output_type": "execute_result"
    }
   ],
   "source": [
    "I3train.isnull().sum()"
   ]
  },
  {
   "cell_type": "markdown",
   "metadata": {},
   "source": [
    "## Etiquetado de datos"
   ]
  },
  {
   "cell_type": "code",
   "execution_count": 78,
   "metadata": {},
   "outputs": [
    {
     "data": {
      "text/html": [
       "<div>\n",
       "<style scoped>\n",
       "    .dataframe tbody tr th:only-of-type {\n",
       "        vertical-align: middle;\n",
       "    }\n",
       "\n",
       "    .dataframe tbody tr th {\n",
       "        vertical-align: top;\n",
       "    }\n",
       "\n",
       "    .dataframe thead th {\n",
       "        text-align: right;\n",
       "    }\n",
       "</style>\n",
       "<table border=\"1\" class=\"dataframe\">\n",
       "  <thead>\n",
       "    <tr style=\"text-align: right;\">\n",
       "      <th></th>\n",
       "      <th>aceleracion</th>\n",
       "      <th>velocidad</th>\n",
       "    </tr>\n",
       "  </thead>\n",
       "  <tbody>\n",
       "    <tr>\n",
       "      <th>0</th>\n",
       "      <td>-0.014038</td>\n",
       "      <td>0.037661</td>\n",
       "    </tr>\n",
       "    <tr>\n",
       "      <th>1</th>\n",
       "      <td>-0.007461</td>\n",
       "      <td>3.619985</td>\n",
       "    </tr>\n",
       "    <tr>\n",
       "      <th>2</th>\n",
       "      <td>-0.002528</td>\n",
       "      <td>4.173972</td>\n",
       "    </tr>\n",
       "    <tr>\n",
       "      <th>3</th>\n",
       "      <td>0.000431</td>\n",
       "      <td>4.198302</td>\n",
       "    </tr>\n",
       "    <tr>\n",
       "      <th>4</th>\n",
       "      <td>-0.002199</td>\n",
       "      <td>4.213425</td>\n",
       "    </tr>\n",
       "  </tbody>\n",
       "</table>\n",
       "</div>"
      ],
      "text/plain": [
       "   aceleracion  velocidad\n",
       "0    -0.014038   0.037661\n",
       "1    -0.007461   3.619985\n",
       "2    -0.002528   4.173972\n",
       "3     0.000431   4.198302\n",
       "4    -0.002199   4.213425"
      ]
     },
     "execution_count": 78,
     "metadata": {},
     "output_type": "execute_result"
    }
   ],
   "source": [
    "I3train.head()"
   ]
  },
  {
   "cell_type": "code",
   "execution_count": 79,
   "metadata": {},
   "outputs": [
    {
     "data": {
      "text/html": [
       "<div>\n",
       "<style scoped>\n",
       "    .dataframe tbody tr th:only-of-type {\n",
       "        vertical-align: middle;\n",
       "    }\n",
       "\n",
       "    .dataframe tbody tr th {\n",
       "        vertical-align: top;\n",
       "    }\n",
       "\n",
       "    .dataframe thead th {\n",
       "        text-align: right;\n",
       "    }\n",
       "</style>\n",
       "<table border=\"1\" class=\"dataframe\">\n",
       "  <thead>\n",
       "    <tr style=\"text-align: right;\">\n",
       "      <th></th>\n",
       "      <th>aceleracion</th>\n",
       "      <th>velocidad</th>\n",
       "      <th>falla</th>\n",
       "    </tr>\n",
       "  </thead>\n",
       "  <tbody>\n",
       "    <tr>\n",
       "      <th>0</th>\n",
       "      <td>-0.014038</td>\n",
       "      <td>0.037661</td>\n",
       "      <td>1</td>\n",
       "    </tr>\n",
       "    <tr>\n",
       "      <th>1</th>\n",
       "      <td>-0.007461</td>\n",
       "      <td>3.619985</td>\n",
       "      <td>1</td>\n",
       "    </tr>\n",
       "    <tr>\n",
       "      <th>2</th>\n",
       "      <td>-0.002528</td>\n",
       "      <td>4.173972</td>\n",
       "      <td>1</td>\n",
       "    </tr>\n",
       "    <tr>\n",
       "      <th>3</th>\n",
       "      <td>0.000431</td>\n",
       "      <td>4.198302</td>\n",
       "      <td>1</td>\n",
       "    </tr>\n",
       "    <tr>\n",
       "      <th>4</th>\n",
       "      <td>-0.002199</td>\n",
       "      <td>4.213425</td>\n",
       "      <td>1</td>\n",
       "    </tr>\n",
       "  </tbody>\n",
       "</table>\n",
       "</div>"
      ],
      "text/plain": [
       "   aceleracion  velocidad  falla\n",
       "0    -0.014038   0.037661      1\n",
       "1    -0.007461   3.619985      1\n",
       "2    -0.002528   4.173972      1\n",
       "3     0.000431   4.198302      1\n",
       "4    -0.002199   4.213425      1"
      ]
     },
     "execution_count": 79,
     "metadata": {},
     "output_type": "execute_result"
    }
   ],
   "source": [
    "I3train['falla'] = 1\n",
    "I3train.head()"
   ]
  },
  {
   "cell_type": "code",
   "execution_count": 80,
   "metadata": {},
   "outputs": [
    {
     "data": {
      "text/html": [
       "<div>\n",
       "<style scoped>\n",
       "    .dataframe tbody tr th:only-of-type {\n",
       "        vertical-align: middle;\n",
       "    }\n",
       "\n",
       "    .dataframe tbody tr th {\n",
       "        vertical-align: top;\n",
       "    }\n",
       "\n",
       "    .dataframe thead th {\n",
       "        text-align: right;\n",
       "    }\n",
       "</style>\n",
       "<table border=\"1\" class=\"dataframe\">\n",
       "  <thead>\n",
       "    <tr style=\"text-align: right;\">\n",
       "      <th></th>\n",
       "      <th>id</th>\n",
       "      <th>aceleracion</th>\n",
       "      <th>velocidad</th>\n",
       "      <th>falla</th>\n",
       "    </tr>\n",
       "  </thead>\n",
       "  <tbody>\n",
       "    <tr>\n",
       "      <th>0</th>\n",
       "      <td>1</td>\n",
       "      <td>-0.014038</td>\n",
       "      <td>0.037661</td>\n",
       "      <td>1</td>\n",
       "    </tr>\n",
       "    <tr>\n",
       "      <th>1</th>\n",
       "      <td>1</td>\n",
       "      <td>-0.007461</td>\n",
       "      <td>3.619985</td>\n",
       "      <td>1</td>\n",
       "    </tr>\n",
       "    <tr>\n",
       "      <th>2</th>\n",
       "      <td>1</td>\n",
       "      <td>-0.002528</td>\n",
       "      <td>4.173972</td>\n",
       "      <td>1</td>\n",
       "    </tr>\n",
       "    <tr>\n",
       "      <th>3</th>\n",
       "      <td>1</td>\n",
       "      <td>0.000431</td>\n",
       "      <td>4.198302</td>\n",
       "      <td>1</td>\n",
       "    </tr>\n",
       "    <tr>\n",
       "      <th>4</th>\n",
       "      <td>1</td>\n",
       "      <td>-0.002199</td>\n",
       "      <td>4.213425</td>\n",
       "      <td>1</td>\n",
       "    </tr>\n",
       "  </tbody>\n",
       "</table>\n",
       "</div>"
      ],
      "text/plain": [
       "   id  aceleracion  velocidad  falla\n",
       "0   1    -0.014038   0.037661      1\n",
       "1   1    -0.007461   3.619985      1\n",
       "2   1    -0.002528   4.173972      1\n",
       "3   1     0.000431   4.198302      1\n",
       "4   1    -0.002199   4.213425      1"
      ]
     },
     "execution_count": 80,
     "metadata": {},
     "output_type": "execute_result"
    }
   ],
   "source": [
    "I3train.insert(0, 'id', 1)\n",
    "I3train.head()"
   ]
  },
  {
   "cell_type": "markdown",
   "metadata": {},
   "source": [
    "## Concatenar las 4 bases"
   ]
  },
  {
   "cell_type": "code",
   "execution_count": 81,
   "metadata": {},
   "outputs": [
    {
     "data": {
      "text/html": [
       "<div>\n",
       "<style scoped>\n",
       "    .dataframe tbody tr th:only-of-type {\n",
       "        vertical-align: middle;\n",
       "    }\n",
       "\n",
       "    .dataframe tbody tr th {\n",
       "        vertical-align: top;\n",
       "    }\n",
       "\n",
       "    .dataframe thead th {\n",
       "        text-align: right;\n",
       "    }\n",
       "</style>\n",
       "<table border=\"1\" class=\"dataframe\">\n",
       "  <thead>\n",
       "    <tr style=\"text-align: right;\">\n",
       "      <th></th>\n",
       "      <th>id</th>\n",
       "      <th>aceleracion</th>\n",
       "      <th>velocidad</th>\n",
       "      <th>falla</th>\n",
       "    </tr>\n",
       "  </thead>\n",
       "  <tbody>\n",
       "    <tr>\n",
       "      <th>0</th>\n",
       "      <td>1</td>\n",
       "      <td>-0.002199</td>\n",
       "      <td>4.188767</td>\n",
       "      <td>0</td>\n",
       "    </tr>\n",
       "    <tr>\n",
       "      <th>1</th>\n",
       "      <td>1</td>\n",
       "      <td>-0.001871</td>\n",
       "      <td>4.200603</td>\n",
       "      <td>0</td>\n",
       "    </tr>\n",
       "    <tr>\n",
       "      <th>2</th>\n",
       "      <td>1</td>\n",
       "      <td>-0.001542</td>\n",
       "      <td>4.208165</td>\n",
       "      <td>0</td>\n",
       "    </tr>\n",
       "    <tr>\n",
       "      <th>3</th>\n",
       "      <td>1</td>\n",
       "      <td>-0.001871</td>\n",
       "      <td>4.226576</td>\n",
       "      <td>0</td>\n",
       "    </tr>\n",
       "    <tr>\n",
       "      <th>4</th>\n",
       "      <td>1</td>\n",
       "      <td>-0.002199</td>\n",
       "      <td>4.240385</td>\n",
       "      <td>0</td>\n",
       "    </tr>\n",
       "  </tbody>\n",
       "</table>\n",
       "</div>"
      ],
      "text/plain": [
       "   id  aceleracion  velocidad  falla\n",
       "0   1    -0.002199   4.188767      0\n",
       "1   1    -0.001871   4.200603      0\n",
       "2   1    -0.001542   4.208165      0\n",
       "3   1    -0.001871   4.226576      0\n",
       "4   1    -0.002199   4.240385      0"
      ]
     },
     "execution_count": 81,
     "metadata": {},
     "output_type": "execute_result"
    }
   ],
   "source": [
    "# concatenamos las 4 bases de datos, 2 bases de rodamiento con falla en pista interna y 2 bases\n",
    "# con rodamiento en estado saludable\n",
    "train=pd.concat([H1train, H3train, I1train, I3train ], ignore_index=True)\n",
    "train.head()"
   ]
  },
  {
   "cell_type": "code",
   "execution_count": 82,
   "metadata": {},
   "outputs": [
    {
     "data": {
      "text/html": [
       "<div>\n",
       "<style scoped>\n",
       "    .dataframe tbody tr th:only-of-type {\n",
       "        vertical-align: middle;\n",
       "    }\n",
       "\n",
       "    .dataframe tbody tr th {\n",
       "        vertical-align: top;\n",
       "    }\n",
       "\n",
       "    .dataframe thead th {\n",
       "        text-align: right;\n",
       "    }\n",
       "</style>\n",
       "<table border=\"1\" class=\"dataframe\">\n",
       "  <thead>\n",
       "    <tr style=\"text-align: right;\">\n",
       "      <th></th>\n",
       "      <th>id</th>\n",
       "      <th>aceleracion</th>\n",
       "      <th>velocidad</th>\n",
       "      <th>falla</th>\n",
       "    </tr>\n",
       "  </thead>\n",
       "  <tbody>\n",
       "    <tr>\n",
       "      <th>7999995</th>\n",
       "      <td>1</td>\n",
       "      <td>0.081657</td>\n",
       "      <td>4.181863</td>\n",
       "      <td>1</td>\n",
       "    </tr>\n",
       "    <tr>\n",
       "      <th>7999996</th>\n",
       "      <td>1</td>\n",
       "      <td>0.053705</td>\n",
       "      <td>4.117094</td>\n",
       "      <td>1</td>\n",
       "    </tr>\n",
       "    <tr>\n",
       "      <th>7999997</th>\n",
       "      <td>1</td>\n",
       "      <td>0.018189</td>\n",
       "      <td>4.255837</td>\n",
       "      <td>1</td>\n",
       "    </tr>\n",
       "    <tr>\n",
       "      <th>7999998</th>\n",
       "      <td>1</td>\n",
       "      <td>-0.000884</td>\n",
       "      <td>0.037332</td>\n",
       "      <td>1</td>\n",
       "    </tr>\n",
       "    <tr>\n",
       "      <th>7999999</th>\n",
       "      <td>1</td>\n",
       "      <td>0.000431</td>\n",
       "      <td>0.037661</td>\n",
       "      <td>1</td>\n",
       "    </tr>\n",
       "  </tbody>\n",
       "</table>\n",
       "</div>"
      ],
      "text/plain": [
       "         id  aceleracion  velocidad  falla\n",
       "7999995   1     0.081657   4.181863      1\n",
       "7999996   1     0.053705   4.117094      1\n",
       "7999997   1     0.018189   4.255837      1\n",
       "7999998   1    -0.000884   0.037332      1\n",
       "7999999   1     0.000431   0.037661      1"
      ]
     },
     "execution_count": 82,
     "metadata": {},
     "output_type": "execute_result"
    }
   ],
   "source": [
    "train.tail()"
   ]
  },
  {
   "cell_type": "code",
   "execution_count": 83,
   "metadata": {},
   "outputs": [
    {
     "data": {
      "text/plain": [
       "(8000000, 4)"
      ]
     },
     "execution_count": 83,
     "metadata": {},
     "output_type": "execute_result"
    }
   ],
   "source": [
    "train.shape\n",
    "# tamaño de la base 8 millones de observaciones "
   ]
  },
  {
   "cell_type": "code",
   "execution_count": 84,
   "metadata": {},
   "outputs": [
    {
     "data": {
      "text/html": [
       "<div>\n",
       "<style scoped>\n",
       "    .dataframe tbody tr th:only-of-type {\n",
       "        vertical-align: middle;\n",
       "    }\n",
       "\n",
       "    .dataframe tbody tr th {\n",
       "        vertical-align: top;\n",
       "    }\n",
       "\n",
       "    .dataframe thead th {\n",
       "        text-align: right;\n",
       "    }\n",
       "</style>\n",
       "<table border=\"1\" class=\"dataframe\">\n",
       "  <thead>\n",
       "    <tr style=\"text-align: right;\">\n",
       "      <th></th>\n",
       "      <th>aceleracion</th>\n",
       "      <th>velocidad</th>\n",
       "      <th>falla</th>\n",
       "    </tr>\n",
       "  </thead>\n",
       "  <tbody>\n",
       "    <tr>\n",
       "      <th>0</th>\n",
       "      <td>-0.002199</td>\n",
       "      <td>4.188767</td>\n",
       "      <td>0</td>\n",
       "    </tr>\n",
       "    <tr>\n",
       "      <th>1</th>\n",
       "      <td>-0.001871</td>\n",
       "      <td>4.200603</td>\n",
       "      <td>0</td>\n",
       "    </tr>\n",
       "    <tr>\n",
       "      <th>2</th>\n",
       "      <td>-0.001542</td>\n",
       "      <td>4.208165</td>\n",
       "      <td>0</td>\n",
       "    </tr>\n",
       "    <tr>\n",
       "      <th>3</th>\n",
       "      <td>-0.001871</td>\n",
       "      <td>4.226576</td>\n",
       "      <td>0</td>\n",
       "    </tr>\n",
       "    <tr>\n",
       "      <th>4</th>\n",
       "      <td>-0.002199</td>\n",
       "      <td>4.240385</td>\n",
       "      <td>0</td>\n",
       "    </tr>\n",
       "  </tbody>\n",
       "</table>\n",
       "</div>"
      ],
      "text/plain": [
       "   aceleracion  velocidad  falla\n",
       "0    -0.002199   4.188767      0\n",
       "1    -0.001871   4.200603      0\n",
       "2    -0.001542   4.208165      0\n",
       "3    -0.001871   4.226576      0\n",
       "4    -0.002199   4.240385      0"
      ]
     },
     "execution_count": 84,
     "metadata": {},
     "output_type": "execute_result"
    }
   ],
   "source": [
    "# borrar la columna id\n",
    "\n",
    "train.drop('id', axis=1, inplace=True)\n",
    "train.head()"
   ]
  },
  {
   "cell_type": "markdown",
   "metadata": {},
   "source": [
    "# Algoritmos ML"
   ]
  },
  {
   "cell_type": "code",
   "execution_count": 86,
   "metadata": {},
   "outputs": [],
   "source": [
    "# mustreo aleatorio para generar base de entrenamiento y prueba \n",
    "\n",
    "from sklearn.model_selection import train_test_split\n",
    "\n",
    "# 70% entrenamiento y 30% prueba\n",
    "data_train, data_test, label_train, label_test = train_test_split(train.iloc[:,np.r_[0:2]], train.iloc[:,2], test_size=0.3, random_state = 1)"
   ]
  },
  {
   "cell_type": "code",
   "execution_count": 87,
   "metadata": {},
   "outputs": [
    {
     "data": {
      "text/plain": [
       "5161383    1\n",
       "1297997    0\n",
       "7012930    1\n",
       "2094601    0\n",
       "2759159    0\n",
       "Name: falla, dtype: int64"
      ]
     },
     "execution_count": 87,
     "metadata": {},
     "output_type": "execute_result"
    }
   ],
   "source": [
    "label_train.head()"
   ]
  },
  {
   "cell_type": "code",
   "execution_count": 88,
   "metadata": {},
   "outputs": [
    {
     "data": {
      "text/plain": [
       "0    1200220\n",
       "1    1199780\n",
       "Name: falla, dtype: int64"
      ]
     },
     "execution_count": 88,
     "metadata": {},
     "output_type": "execute_result"
    }
   ],
   "source": [
    "# conteo de observaciones etiquetadas con 1 y 0 en la base test\n",
    "label_test.value_counts(sort=False)"
   ]
  },
  {
   "cell_type": "code",
   "execution_count": 89,
   "metadata": {},
   "outputs": [
    {
     "data": {
      "text/plain": [
       "0    2799780\n",
       "1    2800220\n",
       "Name: falla, dtype: int64"
      ]
     },
     "execution_count": 89,
     "metadata": {},
     "output_type": "execute_result"
    }
   ],
   "source": [
    "# conteo de observaciones etiquetadas con 1 y 0 en la base train\n",
    "label_train.value_counts(sort=False)"
   ]
  },
  {
   "cell_type": "code",
   "execution_count": 90,
   "metadata": {},
   "outputs": [
    {
     "data": {
      "text/html": [
       "<div>\n",
       "<style scoped>\n",
       "    .dataframe tbody tr th:only-of-type {\n",
       "        vertical-align: middle;\n",
       "    }\n",
       "\n",
       "    .dataframe tbody tr th {\n",
       "        vertical-align: top;\n",
       "    }\n",
       "\n",
       "    .dataframe thead th {\n",
       "        text-align: right;\n",
       "    }\n",
       "</style>\n",
       "<table border=\"1\" class=\"dataframe\">\n",
       "  <thead>\n",
       "    <tr style=\"text-align: right;\">\n",
       "      <th></th>\n",
       "      <th>aceleracion</th>\n",
       "      <th>velocidad</th>\n",
       "    </tr>\n",
       "  </thead>\n",
       "  <tbody>\n",
       "    <tr>\n",
       "      <th>5161383</th>\n",
       "      <td>0.199713</td>\n",
       "      <td>4.323565</td>\n",
       "    </tr>\n",
       "    <tr>\n",
       "      <th>1297997</th>\n",
       "      <td>0.012270</td>\n",
       "      <td>4.232166</td>\n",
       "    </tr>\n",
       "    <tr>\n",
       "      <th>7012930</th>\n",
       "      <td>-0.124859</td>\n",
       "      <td>0.037332</td>\n",
       "    </tr>\n",
       "    <tr>\n",
       "      <th>2094601</th>\n",
       "      <td>0.002733</td>\n",
       "      <td>0.037003</td>\n",
       "    </tr>\n",
       "    <tr>\n",
       "      <th>2759159</th>\n",
       "      <td>0.003391</td>\n",
       "      <td>0.036346</td>\n",
       "    </tr>\n",
       "  </tbody>\n",
       "</table>\n",
       "</div>"
      ],
      "text/plain": [
       "         aceleracion  velocidad\n",
       "5161383     0.199713   4.323565\n",
       "1297997     0.012270   4.232166\n",
       "7012930    -0.124859   0.037332\n",
       "2094601     0.002733   0.037003\n",
       "2759159     0.003391   0.036346"
      ]
     },
     "execution_count": 90,
     "metadata": {},
     "output_type": "execute_result"
    }
   ],
   "source": [
    "data_train.head()"
   ]
  },
  {
   "cell_type": "code",
   "execution_count": 91,
   "metadata": {},
   "outputs": [
    {
     "data": {
      "text/plain": [
       "5161383    1\n",
       "1297997    0\n",
       "7012930    1\n",
       "2094601    0\n",
       "2759159    0\n",
       "Name: falla, dtype: int64"
      ]
     },
     "execution_count": 91,
     "metadata": {},
     "output_type": "execute_result"
    }
   ],
   "source": [
    "label_train.head()"
   ]
  },
  {
   "cell_type": "code",
   "execution_count": 92,
   "metadata": {},
   "outputs": [
    {
     "data": {
      "text/html": [
       "<div>\n",
       "<style scoped>\n",
       "    .dataframe tbody tr th:only-of-type {\n",
       "        vertical-align: middle;\n",
       "    }\n",
       "\n",
       "    .dataframe tbody tr th {\n",
       "        vertical-align: top;\n",
       "    }\n",
       "\n",
       "    .dataframe thead th {\n",
       "        text-align: right;\n",
       "    }\n",
       "</style>\n",
       "<table border=\"1\" class=\"dataframe\">\n",
       "  <thead>\n",
       "    <tr style=\"text-align: right;\">\n",
       "      <th></th>\n",
       "      <th>aceleracion</th>\n",
       "      <th>velocidad</th>\n",
       "    </tr>\n",
       "  </thead>\n",
       "  <tbody>\n",
       "    <tr>\n",
       "      <th>3899073</th>\n",
       "      <td>-0.002857</td>\n",
       "      <td>0.036675</td>\n",
       "    </tr>\n",
       "    <tr>\n",
       "      <th>3771037</th>\n",
       "      <td>-0.014038</td>\n",
       "      <td>0.037003</td>\n",
       "    </tr>\n",
       "    <tr>\n",
       "      <th>1521504</th>\n",
       "      <td>0.011941</td>\n",
       "      <td>0.036675</td>\n",
       "    </tr>\n",
       "    <tr>\n",
       "      <th>3237763</th>\n",
       "      <td>-0.005488</td>\n",
       "      <td>0.037003</td>\n",
       "    </tr>\n",
       "    <tr>\n",
       "      <th>1558313</th>\n",
       "      <td>-0.009763</td>\n",
       "      <td>4.107559</td>\n",
       "    </tr>\n",
       "  </tbody>\n",
       "</table>\n",
       "</div>"
      ],
      "text/plain": [
       "         aceleracion  velocidad\n",
       "3899073    -0.002857   0.036675\n",
       "3771037    -0.014038   0.037003\n",
       "1521504     0.011941   0.036675\n",
       "3237763    -0.005488   0.037003\n",
       "1558313    -0.009763   4.107559"
      ]
     },
     "execution_count": 92,
     "metadata": {},
     "output_type": "execute_result"
    }
   ],
   "source": [
    "data_test.head()"
   ]
  },
  {
   "cell_type": "code",
   "execution_count": 93,
   "metadata": {},
   "outputs": [
    {
     "data": {
      "text/plain": [
       "3899073    0\n",
       "3771037    0\n",
       "1521504    0\n",
       "3237763    0\n",
       "1558313    0\n",
       "Name: falla, dtype: int64"
      ]
     },
     "execution_count": 93,
     "metadata": {},
     "output_type": "execute_result"
    }
   ],
   "source": [
    "label_test.head()"
   ]
  },
  {
   "cell_type": "code",
   "execution_count": 94,
   "metadata": {},
   "outputs": [
    {
     "data": {
      "image/png": "[encoded data removed]",
      "text/plain": [
       "<Figure size 432x288 with 1 Axes>"
      ]
     },
     "metadata": {
      "needs_background": "light"
     },
     "output_type": "display_data"
    }
   ],
   "source": [
    "# grafica de clases base de prueba, estado base equilibrada\n",
    "sns.countplot(label_test, palette=[\"#3498db\", \"#e74c3c\"])\n",
    "plt.title('       Saludable (0)               Falla Pista Interna (1)')\n",
    "plt.xlabel(\"Clases Base de prueba\")\n",
    "plt.ylabel(\"Numero de observaciones\")\n",
    "plt.savefig('vibraciones pruebaapp.png')\n",
    "pyplot.show()"
   ]
  },
  {
   "cell_type": "code",
   "execution_count": 95,
   "metadata": {},
   "outputs": [
    {
     "data": {
      "image/png": "[encoded data removed]",
      "text/plain": [
       "<Figure size 432x288 with 1 Axes>"
      ]
     },
     "metadata": {
      "needs_background": "light"
     },
     "output_type": "display_data"
    }
   ],
   "source": [
    "# grafica de clases base de train, estado base equilibrada\n",
    "sns.countplot(label_train, palette=[\"#3498db\", \"#e74c3c\"])\n",
    "plt.title('       Saludable (0)               Falla Pista Interna (1)')\n",
    "plt.xlabel(\"Clases Base de Entrenamiento\")\n",
    "plt.ylabel(\"Numero de observaciones\")\n",
    "plt.savefig('vibraciones entrenamientoapp.png')\n",
    "pyplot.show()"
   ]
  },
  {
   "cell_type": "markdown",
   "metadata": {},
   "source": [
    "# Modelos de clasificacion binaria"
   ]
  },
  {
   "cell_type": "markdown",
   "metadata": {},
   "source": [
    "## Modelo Random Forest "
   ]
  },
  {
   "cell_type": "code",
   "execution_count": 100,
   "metadata": {},
   "outputs": [
    {
     "data": {
      "text/plain": [
       "RandomForestClassifier(bootstrap=True, class_weight=None, criterion='gini',\n",
       "                       max_depth=None, max_features='auto', max_leaf_nodes=None,\n",
       "                       min_impurity_decrease=0.0, min_impurity_split=None,\n",
       "                       min_samples_leaf=1, min_samples_split=2,\n",
       "                       min_weight_fraction_leaf=0.0, n_estimators=10,\n",
       "                       n_jobs=None, oob_score=False, random_state=0, verbose=0,\n",
       "                       warm_start=False)"
      ]
     },
     "execution_count": 100,
     "metadata": {},
     "output_type": "execute_result"
    }
   ],
   "source": [
    "modelo1=RandomForestClassifier(random_state=0, n_estimators=10)\n",
    "modelo1.fit(data_train, label_train)"
   ]
  },
  {
   "cell_type": "code",
   "execution_count": 101,
   "metadata": {},
   "outputs": [],
   "source": [
    "label_pred1 = modelo1.predict(data_test)"
   ]
  },
  {
   "cell_type": "code",
   "execution_count": 102,
   "metadata": {},
   "outputs": [
    {
     "data": {
      "text/plain": [
       "array([0.76368604, 0.23631396])"
      ]
     },
     "execution_count": 102,
     "metadata": {},
     "output_type": "execute_result"
    }
   ],
   "source": [
    "# para evaluar cuales caracteristicas tiene mayor peso en el modelo\n",
    "fi=modelo1.feature_importances_\n",
    "fi"
   ]
  },
  {
   "cell_type": "markdown",
   "metadata": {},
   "source": [
    "#### Evaluacion del modelo"
   ]
  },
  {
   "cell_type": "code",
   "execution_count": 103,
   "metadata": {},
   "outputs": [
    {
     "name": "stdout",
     "output_type": "stream",
     "text": [
      "\n",
      "\n",
      "MATRIZ DE CONFUSION\n",
      "\n",
      "\n"
     ]
    },
    {
     "data": {
      "image/png": "[encoded data removed]",
      "text/plain": [
       "<Figure size 432x288 with 1 Axes>"
      ]
     },
     "metadata": {
      "needs_background": "light"
     },
     "output_type": "display_data"
    },
    {
     "name": "stdout",
     "output_type": "stream",
     "text": [
      "\n",
      "\n",
      "MEDIDAS DE DESEMPEÑO DEL MODELO\n",
      "\n",
      "\n",
      "Exactitud - Accuracy: 0.8756920833333334\n",
      "ROC AUC: 0.8756820735090363\n",
      "------------------------------------------------------------\n",
      "Precisión por clase: [0.83874661 0.92170824]\n",
      "Sensibilidad - Recall por clase: [0.93028112 0.82108303]\n",
      "F1 por clase: [0.88214573 0.86849069]\n",
      "------------------------------------------------------------\n",
      "F1 Macro: 0.8753182110288775\n",
      "F1 Micro: 0.8756920833333334\n",
      "F1 Weighted: 0.8753194627413932\n",
      "------------------------------------------------------------\n",
      "Sensibilidad - Recall Macro: 0.8756820735090363\n",
      "Sensibilidad - Recall Micro: 0.8756920833333334\n",
      "Sensibilidad - Recall Weighted: 0.8756920833333334\n",
      "------------------------------------------------------------\n",
      "Precisión Macro: 0.8802274228598626\n",
      "Precisión Micro: 0.8756920833333334\n",
      "Precisión Weighted: 0.8802198180436934\n",
      "------------------------------------------------------------\n",
      "Verdaderos positivos - True Positives: 985119\n",
      "Verdaderos negativos - True Negatives: 1116542\n",
      "Falsos positivos - False Positives: 83678\n",
      "Falsos negativos - False Negatives: 214661\n",
      "------------------------------------------------------------\n",
      "Error de clasificacion: 0.124\n",
      "Especificidad - Specificity: 0.839\n",
      "Tasa de falsos positivos FPR: 0.161\n",
      "------------------------------------------------------------\n",
      "              precision    recall  f1-score   support\n",
      "\n",
      "           0       0.84      0.93      0.88   1200220\n",
      "           1       0.92      0.82      0.87   1199780\n",
      "\n",
      "    accuracy                           0.88   2400000\n",
      "   macro avg       0.88      0.88      0.88   2400000\n",
      "weighted avg       0.88      0.88      0.88   2400000\n",
      "\n",
      "\n",
      "\n",
      "CURVA ROC\n"
     ]
    },
    {
     "data": {
      "image/png": "[encoded data removed]",
      "text/plain": [
       "<Figure size 360x360 with 1 Axes>"
      ]
     },
     "metadata": {},
     "output_type": "display_data"
    }
   ],
   "source": [
    "# model_evaluation(data_train, label_train, data_test, label_test, modelo, label_pred):\n",
    "model_evaluation(data_train, label_train, data_test, label_test, modelo1, label_pred1)"
   ]
  },
  {
   "cell_type": "markdown",
   "metadata": {},
   "source": [
    "## Clasificacion con decision tree "
   ]
  },
  {
   "cell_type": "code",
   "execution_count": 88,
   "metadata": {},
   "outputs": [
    {
     "data": {
      "text/plain": [
       "DecisionTreeClassifier(class_weight=None, criterion='gini', max_depth=None,\n",
       "                       max_features=None, max_leaf_nodes=None,\n",
       "                       min_impurity_decrease=0.0, min_impurity_split=None,\n",
       "                       min_samples_leaf=1, min_samples_split=2,\n",
       "                       min_weight_fraction_leaf=0.0, presort=False,\n",
       "                       random_state=None, splitter='best')"
      ]
     },
     "execution_count": 88,
     "metadata": {},
     "output_type": "execute_result"
    }
   ],
   "source": [
    "modelo6= tree.DecisionTreeClassifier()\n",
    "modelo6.fit(data_train, label_train)"
   ]
  },
  {
   "cell_type": "code",
   "execution_count": 89,
   "metadata": {},
   "outputs": [],
   "source": [
    "label_pred6 = modelo6.predict(data_test)"
   ]
  },
  {
   "cell_type": "code",
   "execution_count": 90,
   "metadata": {},
   "outputs": [
    {
     "name": "stdout",
     "output_type": "stream",
     "text": [
      "\n",
      "\n",
      "MATRIZ DE CONFUSION\n",
      "\n",
      "\n"
     ]
    },
    {
     "data": {
      "image/png": "[encoded data removed]",
      "text/plain": [
       "<Figure size 432x288 with 1 Axes>"
      ]
     },
     "metadata": {
      "needs_background": "light"
     },
     "output_type": "display_data"
    },
    {
     "name": "stdout",
     "output_type": "stream",
     "text": [
      "\n",
      "\n",
      "MEDIDAS DE DESEMPEÑO DEL MODELO\n",
      "\n",
      "\n",
      "Exactitud - Accuracy: 0.8467361111111111\n",
      "ROC AUC: 0.8467418198927611\n",
      "------------------------------------------------------------\n",
      "Precisión por clase: [0.80830845 0.89609211]\n",
      "Sensibilidad - Recall por clase: [0.90901944 0.7844642 ]\n",
      "F1 por clase: [0.85571089 0.83657082]\n",
      "------------------------------------------------------------\n",
      "F1 Macro: 0.8461408546953908\n",
      "F1 Micro: 0.8467361111111111\n",
      "F1 Weighted: 0.8461399774418308\n",
      "------------------------------------------------------------\n",
      "Sensibilidad - Recall Macro: 0.8467418198927611\n",
      "Sensibilidad - Recall Micro: 0.8467361111111111\n",
      "Sensibilidad - Recall Weighted: 0.8467361111111111\n",
      "------------------------------------------------------------\n",
      "Precisión Macro: 0.8522002785557304\n",
      "Precisión Micro: 0.8467361111111111\n",
      "Precisión Weighted: 0.8522043019737564\n",
      "------------------------------------------------------------\n",
      "Verdaderos positivos - True Positives: 1412165\n",
      "Verdaderos negativos - True Negatives: 1636085\n",
      "Falsos positivos - False Positives: 163750\n",
      "Falsos negativos - False Negatives: 388000\n",
      "------------------------------------------------------------\n",
      "Error de clasificacion: 0.153\n",
      "Especificidad - Specificity: 0.808\n",
      "Tasa de falsos positivos FPR: 0.192\n",
      "------------------------------------------------------------\n",
      "              precision    recall  f1-score   support\n",
      "\n",
      "           0       0.81      0.91      0.86   1799835\n",
      "           1       0.90      0.78      0.84   1800165\n",
      "\n",
      "    accuracy                           0.85   3600000\n",
      "   macro avg       0.85      0.85      0.85   3600000\n",
      "weighted avg       0.85      0.85      0.85   3600000\n",
      "\n",
      "\n",
      "\n",
      "CURVA ROC\n"
     ]
    },
    {
     "data": {
      "image/png": "[encoded data removed]",
      "text/plain": [
       "<Figure size 360x360 with 1 Axes>"
      ]
     },
     "metadata": {},
     "output_type": "display_data"
    }
   ],
   "source": [
    "# model_evaluation(data_train, label_train, data_test, label_test, modelo, label_pred):\n",
    "model_evaluation(data_train, label_train, data_test, label_test, modelo6, label_pred6)"
   ]
  },
  {
   "cell_type": "markdown",
   "metadata": {},
   "source": [
    "## Bagging Classifier"
   ]
  },
  {
   "cell_type": "code",
   "execution_count": 94,
   "metadata": {},
   "outputs": [
    {
     "data": {
      "text/plain": [
       "BaggingClassifier(base_estimator=None, bootstrap=True, bootstrap_features=False,\n",
       "                  max_features=1.0, max_samples=1.0, n_estimators=10,\n",
       "                  n_jobs=None, oob_score=False, random_state=None, verbose=0,\n",
       "                  warm_start=False)"
      ]
     },
     "execution_count": 94,
     "metadata": {},
     "output_type": "execute_result"
    }
   ],
   "source": [
    "modelo8= BaggingClassifier()\n",
    "modelo8.fit(data_train, label_train)"
   ]
  },
  {
   "cell_type": "code",
   "execution_count": 95,
   "metadata": {},
   "outputs": [
    {
     "name": "stdout",
     "output_type": "stream",
     "text": [
      "\n",
      "\n",
      "MATRIZ DE CONFUSION\n",
      "\n",
      "\n"
     ]
    },
    {
     "data": {
      "image/png": "[encoded data removed]",
      "text/plain": [
       "<Figure size 432x288 with 1 Axes>"
      ]
     },
     "metadata": {},
     "output_type": "display_data"
    },
    {
     "name": "stdout",
     "output_type": "stream",
     "text": [
      "\n",
      "\n",
      "MEDIDAS DE DESEMPEÑO DEL MODELO\n",
      "\n",
      "\n",
      "Exactitud - Accuracy: 0.8472327777777777\n",
      "ROC AUC: 0.8472380749293386\n",
      "------------------------------------------------------------\n",
      "Precisión por clase: [0.81123591 0.89263172]\n",
      "Sensibilidad - Recall por clase: [0.90502518 0.78945097]\n",
      "F1 por clase: [0.85556788 0.83787673]\n",
      "------------------------------------------------------------\n",
      "F1 Macro: 0.8467223048106318\n",
      "F1 Micro: 0.8472327777777776\n",
      "F1 Weighted: 0.846721493966657\n",
      "------------------------------------------------------------\n",
      "Sensibilidad - Recall Macro: 0.8472380749293384\n",
      "Sensibilidad - Recall Micro: 0.8472327777777777\n",
      "Sensibilidad - Recall Weighted: 0.8472327777777777\n",
      "------------------------------------------------------------\n",
      "Precisión Macro: 0.8519338152617854\n",
      "Precisión Micro: 0.8472327777777777\n",
      "Precisión Weighted: 0.851937545902972\n",
      "------------------------------------------------------------\n",
      "Verdaderos positivos - True Positives: 1421142\n",
      "Verdaderos negativos - True Negatives: 1628896\n",
      "Falsos positivos - False Positives: 170939\n",
      "Falsos negativos - False Negatives: 379023\n",
      "------------------------------------------------------------\n",
      "Error de clasificacion: 0.153\n",
      "Especificidad - Specificity: 0.811\n",
      "Tasa de falsos positivos FPR: 0.189\n",
      "------------------------------------------------------------\n",
      "              precision    recall  f1-score   support\n",
      "\n",
      "           0       0.81      0.91      0.86   1799835\n",
      "           1       0.89      0.79      0.84   1800165\n",
      "\n",
      "    accuracy                           0.85   3600000\n",
      "   macro avg       0.85      0.85      0.85   3600000\n",
      "weighted avg       0.85      0.85      0.85   3600000\n",
      "\n",
      "\n",
      "\n",
      "CURVA ROC\n"
     ]
    },
    {
     "data": {
      "image/png": "[encoded data removed]",
      "text/plain": [
       "<Figure size 360x360 with 1 Axes>"
      ]
     },
     "metadata": {},
     "output_type": "display_data"
    }
   ],
   "source": [
    "label_pred8 = modelo8.predict(data_test)\n",
    "# model_evaluation(data_train, label_train, data_test, label_test, modelo, label_pred):\n",
    "model_evaluation(data_train, label_train, data_test, label_test, modelo8, label_pred8)"
   ]
  },
  {
   "cell_type": "markdown",
   "metadata": {},
   "source": [
    "## Extra Trees Classifier"
   ]
  },
  {
   "cell_type": "code",
   "execution_count": 96,
   "metadata": {},
   "outputs": [
    {
     "data": {
      "text/plain": [
       "ExtraTreesClassifier(bootstrap=False, class_weight=None, criterion='gini',\n",
       "                     max_depth=None, max_features='auto', max_leaf_nodes=None,\n",
       "                     min_impurity_decrease=0.0, min_impurity_split=None,\n",
       "                     min_samples_leaf=1, min_samples_split=2,\n",
       "                     min_weight_fraction_leaf=0.0, n_estimators=100,\n",
       "                     n_jobs=None, oob_score=False, random_state=None, verbose=0,\n",
       "                     warm_start=False)"
      ]
     },
     "execution_count": 96,
     "metadata": {},
     "output_type": "execute_result"
    }
   ],
   "source": [
    "modelo9=ExtraTreesClassifier(n_estimators=100)\n",
    "modelo9.fit(data_train, label_train)"
   ]
  },
  {
   "cell_type": "code",
   "execution_count": 97,
   "metadata": {},
   "outputs": [
    {
     "name": "stdout",
     "output_type": "stream",
     "text": [
      "\n",
      "\n",
      "MATRIZ DE CONFUSION\n",
      "\n",
      "\n"
     ]
    },
    {
     "data": {
      "image/png": "[encoded data removed]",
      "text/plain": [
       "<Figure size 432x288 with 1 Axes>"
      ]
     },
     "metadata": {},
     "output_type": "display_data"
    },
    {
     "name": "stdout",
     "output_type": "stream",
     "text": [
      "\n",
      "\n",
      "MEDIDAS DE DESEMPEÑO DEL MODELO\n",
      "\n",
      "\n",
      "Exactitud - Accuracy: 0.84786\n",
      "ROC AUC: 0.8478657294670199\n",
      "------------------------------------------------------------\n",
      "Precisión por clase: [0.80918387 0.89758067]\n",
      "Sensibilidad - Recall por clase: [0.91036901 0.78536245]\n",
      "F1 por clase: [0.85679938 0.83773022]\n",
      "------------------------------------------------------------\n",
      "F1 Macro: 0.8472647985588179\n",
      "F1 Micro: 0.84786\n",
      "F1 Weighted: 0.8472639245556693\n",
      "------------------------------------------------------------\n",
      "Sensibilidad - Recall Macro: 0.8478657294670199\n",
      "Sensibilidad - Recall Micro: 0.84786\n",
      "Sensibilidad - Recall Weighted: 0.84786\n",
      "------------------------------------------------------------\n",
      "Precisión Macro: 0.8533822703455385\n",
      "Precisión Micro: 0.84786\n",
      "Precisión Weighted: 0.8533863218651543\n",
      "------------------------------------------------------------\n",
      "Verdaderos positivos - True Positives: 1413782\n",
      "Verdaderos negativos - True Negatives: 1638514\n",
      "Falsos positivos - False Positives: 161321\n",
      "Falsos negativos - False Negatives: 386383\n",
      "------------------------------------------------------------\n",
      "Error de clasificacion: 0.152\n",
      "Especificidad - Specificity: 0.809\n",
      "Tasa de falsos positivos FPR: 0.191\n",
      "------------------------------------------------------------\n",
      "              precision    recall  f1-score   support\n",
      "\n",
      "           0       0.81      0.91      0.86   1799835\n",
      "           1       0.90      0.79      0.84   1800165\n",
      "\n",
      "    accuracy                           0.85   3600000\n",
      "   macro avg       0.85      0.85      0.85   3600000\n",
      "weighted avg       0.85      0.85      0.85   3600000\n",
      "\n",
      "\n",
      "\n",
      "CURVA ROC\n"
     ]
    },
    {
     "data": {
      "image/png": "[encoded data removed]",
      "text/plain": [
       "<Figure size 360x360 with 1 Axes>"
      ]
     },
     "metadata": {},
     "output_type": "display_data"
    }
   ],
   "source": [
    "label_pred9 = modelo9.predict(data_test)\n",
    "# model_evaluation(data_train, label_train, data_test, label_test, modelo, label_pred):\n",
    "model_evaluation(data_train, label_train, data_test, label_test, modelo9, label_pred9)"
   ]
  },
  {
   "cell_type": "markdown",
   "metadata": {},
   "source": [
    "## Gradient Boosting Classifier"
   ]
  },
  {
   "cell_type": "code",
   "execution_count": 96,
   "metadata": {},
   "outputs": [
    {
     "data": {
      "text/plain": [
       "GradientBoostingClassifier(criterion='friedman_mse', init=None,\n",
       "                           learning_rate=0.1, loss='deviance', max_depth=3,\n",
       "                           max_features=None, max_leaf_nodes=None,\n",
       "                           min_impurity_decrease=0.0, min_impurity_split=None,\n",
       "                           min_samples_leaf=1, min_samples_split=2,\n",
       "                           min_weight_fraction_leaf=0.0, n_estimators=100,\n",
       "                           n_iter_no_change=None, presort='auto',\n",
       "                           random_state=None, subsample=1.0, tol=0.0001,\n",
       "                           validation_fraction=0.1, verbose=0,\n",
       "                           warm_start=False)"
      ]
     },
     "execution_count": 96,
     "metadata": {},
     "output_type": "execute_result"
    }
   ],
   "source": [
    "modelo10=GradientBoostingClassifier(n_estimators=100)\n",
    "modelo10.fit(data_train, label_train)"
   ]
  },
  {
   "cell_type": "code",
   "execution_count": 97,
   "metadata": {},
   "outputs": [
    {
     "name": "stdout",
     "output_type": "stream",
     "text": [
      "\n",
      "\n",
      "MATRIZ DE CONFUSION\n",
      "\n",
      "\n"
     ]
    },
    {
     "data": {
      "image/png": "[encoded data removed]",
      "text/plain": [
       "<Figure size 432x288 with 1 Axes>"
      ]
     },
     "metadata": {
      "needs_background": "light"
     },
     "output_type": "display_data"
    },
    {
     "name": "stdout",
     "output_type": "stream",
     "text": [
      "\n",
      "\n",
      "MEDIDAS DE DESEMPEÑO DEL MODELO\n",
      "\n",
      "\n",
      "Exactitud - Accuracy: 0.8829508333333334\n",
      "ROC AUC: 0.8829390381626733\n",
      "------------------------------------------------------------\n",
      "Precisión por clase: [0.83933151 0.93946942]\n",
      "Sensibilidad - Recall por clase: [0.94727633 0.81860174]\n",
      "F1 por clase: [0.89004297 0.87488075]\n",
      "------------------------------------------------------------\n",
      "F1 Macro: 0.8824618579129846\n",
      "F1 Micro: 0.8829508333333334\n",
      "F1 Weighted: 0.8824632477835576\n",
      "------------------------------------------------------------\n",
      "Sensibilidad - Recall Macro: 0.8829390381626733\n",
      "Sensibilidad - Recall Micro: 0.8829508333333334\n",
      "Sensibilidad - Recall Weighted: 0.8829508333333334\n",
      "------------------------------------------------------------\n",
      "Precisión Macro: 0.8894004656841199\n",
      "Precisión Micro: 0.8829508333333334\n",
      "Precisión Weighted: 0.8893912863758278\n",
      "------------------------------------------------------------\n",
      "Verdaderos positivos - True Positives: 982142\n",
      "Verdaderos negativos - True Negatives: 1136940\n",
      "Falsos positivos - False Positives: 63280\n",
      "Falsos negativos - False Negatives: 217638\n",
      "------------------------------------------------------------\n",
      "Error de clasificacion: 0.117\n",
      "Especificidad - Specificity: 0.839\n",
      "Tasa de falsos positivos FPR: 0.161\n",
      "------------------------------------------------------------\n",
      "              precision    recall  f1-score   support\n",
      "\n",
      "           0       0.84      0.95      0.89   1200220\n",
      "           1       0.94      0.82      0.87   1199780\n",
      "\n",
      "    accuracy                           0.88   2400000\n",
      "   macro avg       0.89      0.88      0.88   2400000\n",
      "weighted avg       0.89      0.88      0.88   2400000\n",
      "\n",
      "\n",
      "\n",
      "CURVA ROC\n"
     ]
    },
    {
     "data": {
      "image/png": "[encoded data removed]",
      "text/plain": [
       "<Figure size 360x360 with 1 Axes>"
      ]
     },
     "metadata": {},
     "output_type": "display_data"
    }
   ],
   "source": [
    "label_pred10 = modelo10.predict(data_test)\n",
    "# model_evaluation(data_train, label_train, data_test, label_test, modelo, label_pred):\n",
    "model_evaluation(data_train, label_train, data_test, label_test, modelo10, label_pred10)"
   ]
  },
  {
   "cell_type": "code",
   "execution_count": 8,
   "metadata": {},
   "outputs": [],
   "source": [
    "# Con el modelo Gradient Boosting Classifier se obtiene el mayor F1 macro y recall macro. \n",
    "# se procede a grabar el mejor modelo"
   ]
  },
  {
   "cell_type": "markdown",
   "metadata": {},
   "source": [
    "## Pruebas de formatos para grabar modelos entrenados"
   ]
  },
  {
   "cell_type": "code",
   "execution_count": 108,
   "metadata": {},
   "outputs": [],
   "source": [
    "# grabar el modelo entrenado al disco en formato .sav\n",
    "filename = 'modelo10gb.sav'\n",
    "pickle.dump(modelo10, open(filename, 'wb'))"
   ]
  },
  {
   "cell_type": "code",
   "execution_count": 111,
   "metadata": {},
   "outputs": [
    {
     "data": {
      "text/plain": [
       "['modelo10gbjoblib.sav']"
      ]
     },
     "execution_count": 111,
     "metadata": {},
     "output_type": "execute_result"
    }
   ],
   "source": [
    "# grabar el modelo entrenado al disco en formato joblib\n",
    "filename = 'modelo10gbjoblib.sav'\n",
    "joblib.dump(modelo10, filename)"
   ]
  },
  {
   "cell_type": "code",
   "execution_count": 98,
   "metadata": {},
   "outputs": [],
   "source": [
    "# grabar el modelo entrenado al disco en formato pickle\n",
    "filename = 'model.pkl'\n",
    "pickle.dump(modelo10, open(filename, 'wb'))"
   ]
  },
  {
   "cell_type": "code",
   "execution_count": 112,
   "metadata": {},
   "outputs": [],
   "source": [
    "# Leer el modelo del disco .sav \n",
    "filename = 'modelo10gb.sav'\n",
    "loaded_model = pickle.load(open(filename, 'rb'))\n"
   ]
  },
  {
   "cell_type": "code",
   "execution_count": 113,
   "metadata": {},
   "outputs": [
    {
     "name": "stdout",
     "output_type": "stream",
     "text": [
      "\n",
      "\n",
      "MATRIZ DE CONFUSION\n",
      "\n",
      "\n"
     ]
    },
    {
     "data": {
      "image/png": "[encoded data removed]",
      "text/plain": [
       "<Figure size 432x288 with 1 Axes>"
      ]
     },
     "metadata": {
      "needs_background": "light"
     },
     "output_type": "display_data"
    },
    {
     "name": "stdout",
     "output_type": "stream",
     "text": [
      "\n",
      "\n",
      "MEDIDAS DE DESEMPEÑO DEL MODELO\n",
      "\n",
      "\n",
      "Exactitud - Accuracy: 0.8829508333333334\n",
      "ROC AUC: 0.8829390381626733\n",
      "------------------------------------------------------------\n",
      "Precisión por clase: [0.83933151 0.93946942]\n",
      "Sensibilidad - Recall por clase: [0.94727633 0.81860174]\n",
      "F1 por clase: [0.89004297 0.87488075]\n",
      "------------------------------------------------------------\n",
      "F1 Macro: 0.8824618579129846\n",
      "F1 Micro: 0.8829508333333334\n",
      "F1 Weighted: 0.8824632477835576\n",
      "------------------------------------------------------------\n",
      "Sensibilidad - Recall Macro: 0.8829390381626733\n",
      "Sensibilidad - Recall Micro: 0.8829508333333334\n",
      "Sensibilidad - Recall Weighted: 0.8829508333333334\n",
      "------------------------------------------------------------\n",
      "Precisión Macro: 0.8894004656841199\n",
      "Precisión Micro: 0.8829508333333334\n",
      "Precisión Weighted: 0.8893912863758278\n",
      "------------------------------------------------------------\n",
      "Verdaderos positivos - True Positives: 982142\n",
      "Verdaderos negativos - True Negatives: 1136940\n",
      "Falsos positivos - False Positives: 63280\n",
      "Falsos negativos - False Negatives: 217638\n",
      "------------------------------------------------------------\n",
      "Error de clasificacion: 0.117\n",
      "Especificidad - Specificity: 0.839\n",
      "Tasa de falsos positivos FPR: 0.161\n",
      "------------------------------------------------------------\n",
      "              precision    recall  f1-score   support\n",
      "\n",
      "           0       0.84      0.95      0.89   1200220\n",
      "           1       0.94      0.82      0.87   1199780\n",
      "\n",
      "    accuracy                           0.88   2400000\n",
      "   macro avg       0.89      0.88      0.88   2400000\n",
      "weighted avg       0.89      0.88      0.88   2400000\n",
      "\n",
      "\n",
      "\n",
      "CURVA ROC\n"
     ]
    },
    {
     "data": {
      "image/png": "[encoded data removed]",
      "text/plain": [
       "<Figure size 360x360 with 1 Axes>"
      ]
     },
     "metadata": {},
     "output_type": "display_data"
    }
   ],
   "source": [
    "# prediccion y prueba de evaluacion con el modelo guardado en disco\n",
    "label_pred_load1 = loaded_model.predict(data_test)\n",
    "# model_evaluation(data_train, label_train, data_test, label_test, modelo, label_pred):\n",
    "model_evaluation(data_train, label_train, data_test, label_test, loaded_model, label_pred_load1)"
   ]
  },
  {
   "cell_type": "code",
   "execution_count": 11,
   "metadata": {},
   "outputs": [],
   "source": [
    "# la evaluacion es exitosa"
   ]
  },
  {
   "cell_type": "code",
   "execution_count": 144,
   "metadata": {},
   "outputs": [],
   "source": [
    "# Leer el modelo del disco joblib\n",
    "filename = 'modelo10gbjoblib.sav'\n",
    "loaded_model2 = joblib.load(filename)\n"
   ]
  },
  {
   "cell_type": "code",
   "execution_count": 115,
   "metadata": {},
   "outputs": [
    {
     "name": "stdout",
     "output_type": "stream",
     "text": [
      "\n",
      "\n",
      "MATRIZ DE CONFUSION\n",
      "\n",
      "\n"
     ]
    },
    {
     "data": {
      "image/png": "[encoded data removed]",
      "text/plain": [
       "<Figure size 432x288 with 1 Axes>"
      ]
     },
     "metadata": {},
     "output_type": "display_data"
    },
    {
     "name": "stdout",
     "output_type": "stream",
     "text": [
      "\n",
      "\n",
      "MEDIDAS DE DESEMPEÑO DEL MODELO\n",
      "\n",
      "\n",
      "Exactitud - Accuracy: 0.8829508333333334\n",
      "ROC AUC: 0.8829390381626733\n",
      "------------------------------------------------------------\n",
      "Precisión por clase: [0.83933151 0.93946942]\n",
      "Sensibilidad - Recall por clase: [0.94727633 0.81860174]\n",
      "F1 por clase: [0.89004297 0.87488075]\n",
      "------------------------------------------------------------\n",
      "F1 Macro: 0.8824618579129846\n",
      "F1 Micro: 0.8829508333333334\n",
      "F1 Weighted: 0.8824632477835576\n",
      "------------------------------------------------------------\n",
      "Sensibilidad - Recall Macro: 0.8829390381626733\n",
      "Sensibilidad - Recall Micro: 0.8829508333333334\n",
      "Sensibilidad - Recall Weighted: 0.8829508333333334\n",
      "------------------------------------------------------------\n",
      "Precisión Macro: 0.8894004656841199\n",
      "Precisión Micro: 0.8829508333333334\n",
      "Precisión Weighted: 0.8893912863758278\n",
      "------------------------------------------------------------\n",
      "Verdaderos positivos - True Positives: 982142\n",
      "Verdaderos negativos - True Negatives: 1136940\n",
      "Falsos positivos - False Positives: 63280\n",
      "Falsos negativos - False Negatives: 217638\n",
      "------------------------------------------------------------\n",
      "Error de clasificacion: 0.117\n",
      "Especificidad - Specificity: 0.839\n",
      "Tasa de falsos positivos FPR: 0.161\n",
      "------------------------------------------------------------\n",
      "              precision    recall  f1-score   support\n",
      "\n",
      "           0       0.84      0.95      0.89   1200220\n",
      "           1       0.94      0.82      0.87   1199780\n",
      "\n",
      "    accuracy                           0.88   2400000\n",
      "   macro avg       0.89      0.88      0.88   2400000\n",
      "weighted avg       0.89      0.88      0.88   2400000\n",
      "\n",
      "\n",
      "\n",
      "CURVA ROC\n"
     ]
    },
    {
     "data": {
      "image/png": "[encoded data removed]",
      "text/plain": [
       "<Figure size 360x360 with 1 Axes>"
      ]
     },
     "metadata": {},
     "output_type": "display_data"
    }
   ],
   "source": [
    "# prediccion y prueba de evaluacion con el modelo guardado en disco\n",
    "label_pred_load2 = loaded_model2.predict(data_test)\n",
    "# model_evaluation(data_train, label_train, data_test, label_test, modelo, label_pred):\n",
    "model_evaluation(data_train, label_train, data_test, label_test, loaded_model2, label_pred_load2)"
   ]
  },
  {
   "cell_type": "markdown",
   "metadata": {},
   "source": [
    "## pruebas de prediccion de datos de velocidad y aceleracion "
   ]
  },
  {
   "cell_type": "code",
   "execution_count": 121,
   "metadata": {},
   "outputs": [],
   "source": [
    "# prediccion de un nuevo dato\n",
    "\n",
    "nuevo_dato1 = np.array([[0.199713, 4.323565]])\n",
    "\n",
    "# Ahora encontramos la etiqueta o clase de este nuevo individuo\n",
    "label_pred_load21 = loaded_model2.predict(nuevo_dato1)\n"
   ]
  },
  {
   "cell_type": "code",
   "execution_count": 122,
   "metadata": {},
   "outputs": [
    {
     "name": "stdout",
     "output_type": "stream",
     "text": [
      "Etiqueta nuevo dato:  [1]\n"
     ]
    }
   ],
   "source": [
    "#etiqueta_nueva_dato1 = \n",
    "print(\"Etiqueta nuevo dato: \", label_pred_load21)"
   ]
  },
  {
   "cell_type": "code",
   "execution_count": 12,
   "metadata": {},
   "outputs": [],
   "source": [
    "# prediccion correcta"
   ]
  },
  {
   "cell_type": "code",
   "execution_count": 119,
   "metadata": {},
   "outputs": [],
   "source": [
    "# prediccion de un nuevo dato\n",
    "\n",
    "nuevo_dato2 = np.array([[0.012270, 4.232166]])\n",
    "\n",
    "# Ahora encontramos la etiqueta o clase de este nuevo individuo\n",
    "label_pred_load22 = loaded_model2.predict(nuevo_dato2)"
   ]
  },
  {
   "cell_type": "code",
   "execution_count": 120,
   "metadata": {},
   "outputs": [
    {
     "name": "stdout",
     "output_type": "stream",
     "text": [
      "Etiqueta nuevo dato:  [0]\n"
     ]
    }
   ],
   "source": [
    "\n",
    "print(\"Etiqueta nuevo dato: \", label_pred_load22)"
   ]
  },
  {
   "cell_type": "code",
   "execution_count": null,
   "metadata": {},
   "outputs": [],
   "source": [
    "# prediccion correcta"
   ]
  },
  {
   "cell_type": "markdown",
   "metadata": {},
   "source": [
    "## calculo de probabilidades de clase "
   ]
  },
  {
   "cell_type": "code",
   "execution_count": 127,
   "metadata": {},
   "outputs": [
    {
     "name": "stdout",
     "output_type": "stream",
     "text": [
      "[[0.9640231  0.0359769 ]\n",
      " [0.58224618 0.41775382]\n",
      " [0.92136898 0.07863102]\n",
      " ...\n",
      " [0.00667229 0.99332771]\n",
      " [0.00177753 0.99822247]\n",
      " [0.29493706 0.70506294]]\n"
     ]
    }
   ],
   "source": [
    "# https://machinelearningmastery.com/how-to-score-probability-predictions-in-python/\n",
    "\n",
    "# prediccion de probabilidades data test\n",
    "probs = loaded_model2.predict_proba(data_test)\n",
    "print(probs)\n",
    "\n"
   ]
  },
  {
   "cell_type": "code",
   "execution_count": 130,
   "metadata": {},
   "outputs": [
    {
     "name": "stdout",
     "output_type": "stream",
     "text": [
      "0.27504701541828497\n"
     ]
    }
   ],
   "source": [
    "# calculo del indice score Log loss “logistic loss,” “logarithmic loss,” o “cross entropy”\n",
    "# puede usarse como una medida para evaluar las probabilidades predichas\n",
    "\n",
    "# predecir probabilidades\n",
    "probs = loaded_model2.predict_proba(data_test)\n",
    "# mantener predicciones de clase 1 solamente \n",
    "probs = probs[:, 1]\n",
    "# calcular log loss\n",
    "loss = log_loss(label_test, probs)\n",
    "print(loss)\n",
    "# el modelo con perfecto desempeño se acerca es 0, en este caso es 0.27 "
   ]
  },
  {
   "cell_type": "code",
   "execution_count": 128,
   "metadata": {},
   "outputs": [
    {
     "name": "stdout",
     "output_type": "stream",
     "text": [
      "[[0.68535752 0.31464248]]\n"
     ]
    }
   ],
   "source": [
    "# Predecir probabilidades de una observacion \n",
    "#dato 2\n",
    "probs1 = loaded_model2.predict_proba(nuevo_dato2)\n",
    "# keep the predictions for class 1 only\n",
    "print(probs1)\n",
    "# con el 68.5% de probabilidad esta observacion es de clase 0"
   ]
  },
  {
   "cell_type": "code",
   "execution_count": 132,
   "metadata": {},
   "outputs": [
    {
     "name": "stdout",
     "output_type": "stream",
     "text": [
      "[[0.0014514 0.9985486]]\n"
     ]
    }
   ],
   "source": [
    "# Predecir probabilidades de una observacion \n",
    "# dato 1 \n",
    "probs2 = loaded_model2.predict_proba(nuevo_dato1)\n",
    "# keep the predictions for class 1 only\n",
    "print(probs2)\n",
    "# calculate log loss\n",
    "# con el 99.9% de probabilidad esta observacion es de clase 1 falla en pista interna"
   ]
  },
  {
   "cell_type": "code",
   "execution_count": 136,
   "metadata": {},
   "outputs": [
    {
     "name": "stdout",
     "output_type": "stream",
     "text": [
      "Etiqueta nuevo dato:  [0]\n",
      "probabilidades: [[0.92136898 0.07863102]]\n"
     ]
    }
   ],
   "source": [
    "# Predecir probabilidades de una observacion \n",
    "# dato 3\n",
    "\n",
    "# prediccion de un nuevo dato\n",
    "nuevo_dato3 = np.array([[0.011941, 0.036675]])\n",
    "\n",
    "# Ahora encontramos la etiqueta o clase de este nuevo individuo\n",
    "label_pred_load23 = loaded_model2.predict(nuevo_dato3)\n",
    "#etiqueta_nueva_dato\n",
    "print(\"Etiqueta nuevo dato: \", label_pred_load23)\n",
    "\n",
    "# predict probabilities\n",
    "#dato 3\n",
    "probs3 = loaded_model2.predict_proba(nuevo_dato3)\n",
    "# keep the predictions for class 1 only\n",
    "print(\"probabilidades:\", probs3)\n",
    "# calculate log loss\n"
   ]
  },
  {
   "cell_type": "code",
   "execution_count": 13,
   "metadata": {},
   "outputs": [],
   "source": [
    "# el dato corresponde a clase 0 (estado normal) con un probabilidad del 92.13%, evaluacion correcta"
   ]
  },
  {
   "cell_type": "markdown",
   "metadata": {},
   "source": [
    "## Reentrenamiento del modelo\n"
   ]
  },
  {
   "cell_type": "code",
   "execution_count": 85,
   "metadata": {},
   "outputs": [
    {
     "data": {
      "text/html": [
       "<div>\n",
       "<style scoped>\n",
       "    .dataframe tbody tr th:only-of-type {\n",
       "        vertical-align: middle;\n",
       "    }\n",
       "\n",
       "    .dataframe tbody tr th {\n",
       "        vertical-align: top;\n",
       "    }\n",
       "\n",
       "    .dataframe thead th {\n",
       "        text-align: right;\n",
       "    }\n",
       "</style>\n",
       "<table border=\"1\" class=\"dataframe\">\n",
       "  <thead>\n",
       "    <tr style=\"text-align: right;\">\n",
       "      <th></th>\n",
       "      <th>aceleracion</th>\n",
       "      <th>velocidad</th>\n",
       "      <th>falla</th>\n",
       "    </tr>\n",
       "  </thead>\n",
       "  <tbody>\n",
       "    <tr>\n",
       "      <th>0</th>\n",
       "      <td>-0.002199</td>\n",
       "      <td>4.188767</td>\n",
       "      <td>0</td>\n",
       "    </tr>\n",
       "    <tr>\n",
       "      <th>1</th>\n",
       "      <td>-0.001871</td>\n",
       "      <td>4.200603</td>\n",
       "      <td>0</td>\n",
       "    </tr>\n",
       "    <tr>\n",
       "      <th>2</th>\n",
       "      <td>-0.001542</td>\n",
       "      <td>4.208165</td>\n",
       "      <td>0</td>\n",
       "    </tr>\n",
       "    <tr>\n",
       "      <th>3</th>\n",
       "      <td>-0.001871</td>\n",
       "      <td>4.226576</td>\n",
       "      <td>0</td>\n",
       "    </tr>\n",
       "    <tr>\n",
       "      <th>4</th>\n",
       "      <td>-0.002199</td>\n",
       "      <td>4.240385</td>\n",
       "      <td>0</td>\n",
       "    </tr>\n",
       "  </tbody>\n",
       "</table>\n",
       "</div>"
      ],
      "text/plain": [
       "   aceleracion  velocidad  falla\n",
       "0    -0.002199   4.188767      0\n",
       "1    -0.001871   4.200603      0\n",
       "2    -0.001542   4.208165      0\n",
       "3    -0.001871   4.226576      0\n",
       "4    -0.002199   4.240385      0"
      ]
     },
     "execution_count": 85,
     "metadata": {},
     "output_type": "execute_result"
    }
   ],
   "source": [
    "# se procede al reentrenamiento del modelo con el 100% de datos para prepararlo para el marco Web\n",
    "# ver muestra de base completa train + test\n",
    "train.head()\n"
   ]
  },
  {
   "cell_type": "code",
   "execution_count": 87,
   "metadata": {},
   "outputs": [
    {
     "data": {
      "text/plain": [
       "(8000000, 3)"
      ]
     },
     "execution_count": 87,
     "metadata": {},
     "output_type": "execute_result"
    }
   ],
   "source": [
    "# tamaño de base\n",
    "train.shape"
   ]
  },
  {
   "cell_type": "code",
   "execution_count": 89,
   "metadata": {},
   "outputs": [
    {
     "data": {
      "text/html": [
       "<div>\n",
       "<style scoped>\n",
       "    .dataframe tbody tr th:only-of-type {\n",
       "        vertical-align: middle;\n",
       "    }\n",
       "\n",
       "    .dataframe tbody tr th {\n",
       "        vertical-align: top;\n",
       "    }\n",
       "\n",
       "    .dataframe thead th {\n",
       "        text-align: right;\n",
       "    }\n",
       "</style>\n",
       "<table border=\"1\" class=\"dataframe\">\n",
       "  <thead>\n",
       "    <tr style=\"text-align: right;\">\n",
       "      <th></th>\n",
       "      <th>aceleracion</th>\n",
       "      <th>velocidad</th>\n",
       "    </tr>\n",
       "  </thead>\n",
       "  <tbody>\n",
       "    <tr>\n",
       "      <th>0</th>\n",
       "      <td>-0.002199</td>\n",
       "      <td>4.188767</td>\n",
       "    </tr>\n",
       "    <tr>\n",
       "      <th>1</th>\n",
       "      <td>-0.001871</td>\n",
       "      <td>4.200603</td>\n",
       "    </tr>\n",
       "    <tr>\n",
       "      <th>2</th>\n",
       "      <td>-0.001542</td>\n",
       "      <td>4.208165</td>\n",
       "    </tr>\n",
       "    <tr>\n",
       "      <th>3</th>\n",
       "      <td>-0.001871</td>\n",
       "      <td>4.226576</td>\n",
       "    </tr>\n",
       "    <tr>\n",
       "      <th>4</th>\n",
       "      <td>-0.002199</td>\n",
       "      <td>4.240385</td>\n",
       "    </tr>\n",
       "  </tbody>\n",
       "</table>\n",
       "</div>"
      ],
      "text/plain": [
       "   aceleracion  velocidad\n",
       "0    -0.002199   4.188767\n",
       "1    -0.001871   4.200603\n",
       "2    -0.001542   4.208165\n",
       "3    -0.001871   4.226576\n",
       "4    -0.002199   4.240385"
      ]
     },
     "execution_count": 89,
     "metadata": {},
     "output_type": "execute_result"
    }
   ],
   "source": [
    "# grabar variables de aceleracion y velocidad en un nuevo data frame\n",
    "data_train1=train.iloc[:,np.r_[0:2]]\n",
    "data_train1.head()\n"
   ]
  },
  {
   "cell_type": "code",
   "execution_count": 90,
   "metadata": {},
   "outputs": [
    {
     "data": {
      "text/plain": [
       "(8000000, 2)"
      ]
     },
     "execution_count": 90,
     "metadata": {},
     "output_type": "execute_result"
    }
   ],
   "source": [
    "data_train1.shape"
   ]
  },
  {
   "cell_type": "code",
   "execution_count": 91,
   "metadata": {},
   "outputs": [
    {
     "data": {
      "text/plain": [
       "0    0\n",
       "1    0\n",
       "2    0\n",
       "3    0\n",
       "4    0\n",
       "Name: falla, dtype: int64"
      ]
     },
     "execution_count": 91,
     "metadata": {},
     "output_type": "execute_result"
    }
   ],
   "source": [
    "# grabar la variable etiquetas de clase\n",
    "label_train1=train.iloc[:,2]\n",
    "label_train1.head()"
   ]
  },
  {
   "cell_type": "code",
   "execution_count": 92,
   "metadata": {},
   "outputs": [
    {
     "data": {
      "text/plain": [
       "(8000000,)"
      ]
     },
     "execution_count": 92,
     "metadata": {},
     "output_type": "execute_result"
    }
   ],
   "source": [
    "# tamaño base de etiquetas de clase\n",
    "label_train1.shape"
   ]
  },
  {
   "cell_type": "code",
   "execution_count": 95,
   "metadata": {},
   "outputs": [
    {
     "data": {
      "text/plain": [
       "GradientBoostingClassifier(criterion='friedman_mse', init=None,\n",
       "                           learning_rate=0.1, loss='deviance', max_depth=3,\n",
       "                           max_features=None, max_leaf_nodes=None,\n",
       "                           min_impurity_decrease=0.0, min_impurity_split=None,\n",
       "                           min_samples_leaf=1, min_samples_split=2,\n",
       "                           min_weight_fraction_leaf=0.0, n_estimators=100,\n",
       "                           n_iter_no_change=None, presort='auto',\n",
       "                           random_state=None, subsample=1.0, tol=0.0001,\n",
       "                           validation_fraction=0.1, verbose=0,\n",
       "                           warm_start=False)"
      ]
     },
     "execution_count": 95,
     "metadata": {},
     "output_type": "execute_result"
    }
   ],
   "source": [
    "# entrenar modelo Gradient Boosting con el 100% de datos para la aplicacion web\n",
    "modelofinal=GradientBoostingClassifier(n_estimators=100)\n",
    "modelofinal.fit(data_train1, label_train1)"
   ]
  },
  {
   "cell_type": "code",
   "execution_count": 96,
   "metadata": {},
   "outputs": [],
   "source": [
    "# grabar el modelo en formato pickle\n",
    "filename = 'model.pkl'\n",
    "pickle.dump(modelofinal, open(filename, 'wb'))"
   ]
  },
  {
   "cell_type": "code",
   "execution_count": 4,
   "metadata": {},
   "outputs": [],
   "source": [
    "# leer el modelo grabado de disco \n",
    "filename = 'model.pkl'\n",
    "loaded_model = pickle.load(open(filename, 'rb'))"
   ]
  },
  {
   "cell_type": "code",
   "execution_count": 6,
   "metadata": {},
   "outputs": [
    {
     "name": "stdout",
     "output_type": "stream",
     "text": [
      "Etiqueta nuevo dato:  [0]\n",
      "probabilidades: [[0.92352054 0.07647946]]\n"
     ]
    }
   ],
   "source": [
    "# prueba de prediccion de una observacion\n",
    "\n",
    "# prediccion de un nuevo dato\n",
    "nuevo_dato3 = np.array([[0.011941, 0.036675]])\n",
    "\n",
    "# Ahora encontramos la etiqueta o clase de este nuevo individuo\n",
    "label_pred = loaded_model.predict(nuevo_dato3)\n",
    "#etiqueta_nueva_dato\n",
    "print(\"Etiqueta nuevo dato: \", label_pred)\n",
    "\n",
    "# predecir probabilidades\n",
    "#dato 3\n",
    "probs3 = loaded_model.predict_proba(nuevo_dato3)\n",
    "print(\"probabilidades:\", probs3)\n"
   ]
  },
  {
   "cell_type": "code",
   "execution_count": 14,
   "metadata": {},
   "outputs": [],
   "source": [
    "# El modelo reentrenado queda guardado en el archivo model.pkl para ejecutarse en el marco Web\n",
    "# Abrir instructivo para ejecutar aplicacion web para clasificacion de fallas en el servidor local "
   ]
  }
 ],
 "metadata": {
  "kernelspec": {
   "display_name": "Python 3",
   "language": "python",
   "name": "python3"
  },
  "language_info": {
   "codemirror_mode": {
    "name": "ipython",
    "version": 3
   },
   "file_extension": ".py",
   "mimetype": "text/x-python",
   "name": "python",
   "nbconvert_exporter": "python",
   "pygments_lexer": "ipython3",
   "version": "3.7.3"
  }
 },
 "nbformat": 4,
 "nbformat_minor": 4
}
